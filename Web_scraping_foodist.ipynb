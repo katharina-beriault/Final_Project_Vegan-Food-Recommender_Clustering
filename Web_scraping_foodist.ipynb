{
 "cells": [
  {
   "cell_type": "markdown",
   "id": "eda2608d-b6c3-4e5d-8f13-4f7eecfb3522",
   "metadata": {},
   "source": [
    "# Web Scraping"
   ]
  },
  {
   "cell_type": "markdown",
   "id": "901d2ffa-3008-4f6a-9e6b-58f036a48d4a",
   "metadata": {},
   "source": [
    "## Importing libraries"
   ]
  },
  {
   "cell_type": "code",
   "execution_count": 1,
   "id": "6fd1b49a-3123-4c45-9364-dce15bbf6ff5",
   "metadata": {},
   "outputs": [],
   "source": [
    "from bs4 import BeautifulSoup\n",
    "import requests\n",
    "import pandas as pd"
   ]
  },
  {
   "cell_type": "markdown",
   "id": "f3874fb7-768a-4bcb-a0d0-e1e4fb7d12f3",
   "metadata": {},
   "source": [
    "## Overview"
   ]
  },
  {
   "cell_type": "markdown",
   "id": "bcb58c80-e3cb-40fa-88dc-673d0e71a9c6",
   "metadata": {},
   "source": [
    "|\tProduktname\t|\tMarke\t|\tPreis\t|\tGewicht\t|\tBrennwert\t|\tFett\t|\tgesättigte Fettsäuren\t|\tKohlehydrate\t|\tZucker\t|\tBallaststoffe\t|\tEiweiß\t|\tSalz\t|\tZutaten\t|\tFotolink\t|\n",
    "|\t:----------\t|\t:----------\t|\t:---------:\t|\t:---------:\t|\t:---------:\t|\t:---------:\t|\t:---------:\t|\t:---------:\t|\t:---------:\t|\t:---------:\t|\t:---------:\t|\t:---------:\t|\t:---------:\t|\t:---------:\t|\n",
    "|\tproduct name\t|\tbrand\t|\tprice\t|\tweight\t|\t\t|\tfat\t|\tsaturated fat\t|\tcarbs\t|\tsugar\t|\t\t|\tprotein\t|\tsalt\t|\tingredients\t|\tpicture link\t|\n",
    "|\te.g. Snack bar\t|\t\t|\tin EUR\t|\tin gr/kg\t|\tin kj/kcal\t|\tin gr\t|\tin gr\t|\tin gr\t|\tin gr\t|\tin gr\t|\tin gr\t|\tin gr\t|\t\t|\t\t|"
   ]
  },
  {
   "cell_type": "markdown",
   "id": "f57306da-2832-4ffb-8912-6f97a47065cc",
   "metadata": {},
   "source": [
    "**List of websites:**\n",
    "- Koro: https://www.korodrogerie.de/snacks/?p=1&o=2&n=144&f=233\n",
    "- Vantastic foods: https://www.vantastic-foods.com/vegane-lebensmittel/snacks-und-suesswaren\n",
    "- Kokku: https://kokku-online.de/vegane-suessigkeiten-snacks/\n",
    "- Foodist: https://www.foodist.de/suesses-snacks?p=1&o=9&n=84&f=36"
   ]
  },
  {
   "cell_type": "markdown",
   "id": "7124e244-98f4-4caa-a110-5810aea5e396",
   "metadata": {},
   "source": [
    "## Web Scraping"
   ]
  },
  {
   "cell_type": "markdown",
   "id": "6e47043e-9af7-4e52-abc0-44b1d6105061",
   "metadata": {},
   "source": [
    "### Foodist"
   ]
  },
  {
   "cell_type": "markdown",
   "id": "29d63a3b-c50c-4a8b-bec3-f1b45e56115d",
   "metadata": {},
   "source": [
    "#### Getting product links"
   ]
  },
  {
   "cell_type": "code",
   "execution_count": 5,
   "id": "fc19b8c7-46bb-4eb5-990b-a13870820f09",
   "metadata": {},
   "outputs": [
    {
     "data": {
      "text/plain": [
       "200"
      ]
     },
     "execution_count": 5,
     "metadata": {},
     "output_type": "execute_result"
    }
   ],
   "source": [
    "# storing url in a variable\n",
    "url_1 = \"https://www.foodist.de/suesses-snacks?p=1&o=9&n=84&f=36\"\n",
    "\n",
    "# downloading html-code with a get request\n",
    "response_1 = requests.get(url_1)\n",
    "\n",
    "response_1.status_code"
   ]
  },
  {
   "cell_type": "code",
   "execution_count": 6,
   "id": "a9edae46-0948-46b8-8e3b-437748183c5d",
   "metadata": {},
   "outputs": [],
   "source": [
    "# parsing html (creating the 'soup')\n",
    "soup_1 = BeautifulSoup(response_1.content, \"html.parser\")\n"
   ]
  },
  {
   "cell_type": "code",
   "execution_count": 9,
   "id": "ccffc046-9103-4b91-aee3-ffa84c86249e",
   "metadata": {},
   "outputs": [
    {
     "data": {
      "text/plain": [
       "<div class=\"product--title\"> Fruchtpapier Apfel &amp; Erdbeere </div>"
      ]
     },
     "execution_count": 9,
     "metadata": {},
     "output_type": "execute_result"
    }
   ],
   "source": [
    "# retrieving/extracting the desired info\n",
    "\n",
    "# general product info\n",
    "product_info = soup_1.find_all(\"div\", class_=\"product--title\")\n",
    "\n",
    "# product title\n",
    "product_info[14]"
   ]
  },
  {
   "cell_type": "code",
   "execution_count": 35,
   "id": "7b74d1dc-10c5-4b78-9002-b1df40c2237d",
   "metadata": {},
   "outputs": [
    {
     "data": {
      "text/plain": [
       "'  3,36\\xa0€ / 100 g  '"
      ]
     },
     "execution_count": 35,
     "metadata": {},
     "output_type": "execute_result"
    }
   ],
   "source": [
    "# general product info\n",
    "product_info = soup_1.find_all(\"div\", class_=\"price--unit\")\n",
    "\n",
    "# product price\n",
    "product_info[0].getText()"
   ]
  },
  {
   "cell_type": "code",
   "execution_count": 41,
   "id": "5acf8289-5b25-43f1-a28a-5483dcdb9eed",
   "metadata": {},
   "outputs": [
    {
     "data": {
      "text/plain": [
       "'https://www.foodist.de/foodist-bier-braukasten-set-pils-zum-selbermachen-diy-kit-7685'"
      ]
     },
     "execution_count": 41,
     "metadata": {},
     "output_type": "execute_result"
    }
   ],
   "source": [
    "# general product info\n",
    "product_info = soup_1.find_all(\"div\", class_=\"product--box box--basic\")\n",
    "product_info_2 = soup_1.find_all(\"a\", class_=\"product--link\")\n",
    "\n",
    "# product link\n",
    "#product_info[0].find_all(\"a\", class_=\"product--link\") #.get(\"href\")\n",
    "product_info_2[0].get(\"href\")"
   ]
  },
  {
   "cell_type": "code",
   "execution_count": null,
   "id": "c35a6708-0067-495e-ab89-3892d58edf5c",
   "metadata": {},
   "outputs": [],
   "source": []
  },
  {
   "cell_type": "code",
   "execution_count": 45,
   "id": "2497400f-8c1a-4e59-8c38-d5b102bacc1b",
   "metadata": {},
   "outputs": [],
   "source": [
    "def get_first_details(soup):\n",
    "    \n",
    "    link = soup.find_all(\"a\", class_=\"product--link\")\n",
    "    name = soup.find_all(\"div\", class_=\"product--title\")\n",
    "    brand = soup.find_all(\"div\", class_=\"product--supplier\")\n",
    "    price = soup.find_all(\"div\", class_=\"product--price\")\n",
    "    price_gr = soup.find_all(\"div\", class_=\"price--unit\")\n",
    "    \n",
    "    names = []\n",
    "    brands = []\n",
    "    prices = []\n",
    "    prices_gr = []\n",
    "    links = []\n",
    "    \n",
    "    \n",
    "    for p in name:\n",
    "        name = p.getText()\n",
    "        names.append(name)\n",
    "        \n",
    "    for p in brand:\n",
    "        brand = p.getText()\n",
    "        brands.append(brand)\n",
    "        \n",
    "    for p in price:\n",
    "        price = p.getText()\n",
    "        prices.append(price)\n",
    "    \n",
    "    for p in price_gr:\n",
    "        price = p.getText()\n",
    "        prices_gr.append(price)\n",
    "    \n",
    "    for p in link:\n",
    "        link = p.get(\"href\")\n",
    "        links.append(link)\n",
    "    \n",
    "    return [names, brands, prices, prices_gr, links]"
   ]
  },
  {
   "cell_type": "code",
   "execution_count": 46,
   "id": "806ae005-7988-4904-8a19-99f98d4c2be1",
   "metadata": {},
   "outputs": [],
   "source": [
    "url = \"https://www.foodist.de/suesses-snacks?p=1&o=9&n=84&f=36\"\n",
    "response = requests.get(url)\n",
    "soup = BeautifulSoup(response.content, \"html.parser\")\n",
    "\n",
    "products = get_first_details(soup)"
   ]
  },
  {
   "cell_type": "code",
   "execution_count": 47,
   "id": "86ed14c4-690e-4803-8637-8b1de4e370d2",
   "metadata": {},
   "outputs": [
    {
     "data": {
      "text/plain": [
       "(91, 91, 84, 84, 91)"
      ]
     },
     "execution_count": 47,
     "metadata": {},
     "output_type": "execute_result"
    }
   ],
   "source": [
    "len(products[0]), len(products[1]), len(products[2]), len(products[3]), len(products[4])"
   ]
  },
  {
   "cell_type": "code",
   "execution_count": 53,
   "id": "2fe509e6-4b2e-4753-ac1a-9599f03ee742",
   "metadata": {},
   "outputs": [],
   "source": [
    "def scraping_pages(page):\n",
    "    \n",
    "    names = []\n",
    "    brands = []\n",
    "    links = []\n",
    "    \n",
    "    for p in page:\n",
    "        url = \"https://www.foodist.de/suesses-snacks?p={p}&o=9&n=84&f=36\"\n",
    "        response = requests.get(url)\n",
    "        soup = BeautifulSoup(response.content, \"html.parser\")\n",
    "\n",
    "        link = soup.find_all(\"a\", class_=\"product--link\")\n",
    "        name = soup.find_all(\"div\", class_=\"product--title\")\n",
    "        brand = soup.find_all(\"div\", class_=\"product--supplier\")\n",
    "        \n",
    "        for p in name:\n",
    "            name = p.getText()\n",
    "            names.append(name)\n",
    "        \n",
    "        for p in brand:\n",
    "            brand = p.getText()\n",
    "            brands.append(brand)\n",
    "    \n",
    "        for p in link:\n",
    "            link = p.get(\"href\")\n",
    "            links.append(link)\n",
    "\n",
    "\n",
    "    return [names, brands, links]"
   ]
  },
  {
   "cell_type": "code",
   "execution_count": 54,
   "id": "f01c9bc5-c9f0-49e4-b7db-3c3b27a784cf",
   "metadata": {},
   "outputs": [],
   "source": [
    "products = scraping_pages(page=range(1,7))"
   ]
  },
  {
   "cell_type": "code",
   "execution_count": 55,
   "id": "b13b63b2-4426-4e25-96a7-135954bf8734",
   "metadata": {},
   "outputs": [
    {
     "data": {
      "text/plain": [
       "(546, 546, 546)"
      ]
     },
     "execution_count": 55,
     "metadata": {},
     "output_type": "execute_result"
    }
   ],
   "source": [
    "len(products[0]), len(products[1]), len(products[2])"
   ]
  },
  {
   "cell_type": "code",
   "execution_count": 57,
   "id": "a9732f2f-a226-4835-891e-02ec8428d0e6",
   "metadata": {},
   "outputs": [],
   "source": [
    "# Building a dataframe\n",
    "\n",
    "product_overview = pd.DataFrame(\n",
    "    {\"product\": products[0],\n",
    "     \"brand\": products[1],\n",
    "     \"links\": products[2]})"
   ]
  },
  {
   "cell_type": "code",
   "execution_count": 51,
   "id": "266bdfa0-6ff6-4fa0-b54a-166d948d0854",
   "metadata": {},
   "outputs": [],
   "source": [
    "pd.set_option('display.max_rows', None)"
   ]
  },
  {
   "cell_type": "code",
   "execution_count": 59,
   "id": "5152a07d-ee49-44ad-9ed4-6f4f8ddace8b",
   "metadata": {},
   "outputs": [
    {
     "data": {
      "text/html": [
       "<div>\n",
       "<style scoped>\n",
       "    .dataframe tbody tr th:only-of-type {\n",
       "        vertical-align: middle;\n",
       "    }\n",
       "\n",
       "    .dataframe tbody tr th {\n",
       "        vertical-align: top;\n",
       "    }\n",
       "\n",
       "    .dataframe thead th {\n",
       "        text-align: right;\n",
       "    }\n",
       "</style>\n",
       "<table border=\"1\" class=\"dataframe\">\n",
       "  <thead>\n",
       "    <tr style=\"text-align: right;\">\n",
       "      <th></th>\n",
       "      <th>product</th>\n",
       "      <th>brand</th>\n",
       "      <th>links</th>\n",
       "    </tr>\n",
       "  </thead>\n",
       "  <tbody>\n",
       "    <tr>\n",
       "      <th>411</th>\n",
       "      <td>BIO Fruchtgummi Coala Weihnachtsbärchen</td>\n",
       "      <td>mind sweets</td>\n",
       "      <td>https://www.foodist.de/mind-sweets-bio-fruchtg...</td>\n",
       "    </tr>\n",
       "    <tr>\n",
       "      <th>492</th>\n",
       "      <td>Gefriergetrocknete Erdbeeren in Zartbittersch...</td>\n",
       "      <td>Foodist</td>\n",
       "      <td>https://www.foodist.de/foodist-gefriergetrockn...</td>\n",
       "    </tr>\n",
       "    <tr>\n",
       "      <th>538</th>\n",
       "      <td>BIO Fruchtgummi mit saurem Himbeer- und Grape...</td>\n",
       "      <td>Not Guilty</td>\n",
       "      <td>https://www.foodist.de/not-guilty-bio-fruchtgu...</td>\n",
       "    </tr>\n",
       "    <tr>\n",
       "      <th>434</th>\n",
       "      <td>Energy Balls mit Vanille und Cashew</td>\n",
       "      <td>N.A! Nature Addicts</td>\n",
       "      <td>https://www.foodist.de/n.a-nature-addicts-ener...</td>\n",
       "    </tr>\n",
       "    <tr>\n",
       "      <th>522</th>\n",
       "      <td>Veganer Adventskalender 2021</td>\n",
       "      <td>Foodist</td>\n",
       "      <td>https://www.foodist.de/veganer-adventskalender</td>\n",
       "    </tr>\n",
       "    <tr>\n",
       "      <th>178</th>\n",
       "      <td>Erbsen Flips mit Tomaten- und Basilikumgeschm...</td>\n",
       "      <td>N.A! Nature Addicts</td>\n",
       "      <td>https://www.foodist.de/n.a-nature-addicts-erbs...</td>\n",
       "    </tr>\n",
       "    <tr>\n",
       "      <th>313</th>\n",
       "      <td>Pea Chili Lime Snack</td>\n",
       "      <td>Vaya</td>\n",
       "      <td>https://www.foodist.de/vaya-pea-chili-lime-sna...</td>\n",
       "    </tr>\n",
       "    <tr>\n",
       "      <th>0</th>\n",
       "      <td>Bier-Braukasten-Set PILS zum Selbermachen DIY...</td>\n",
       "      <td>Foodist</td>\n",
       "      <td>https://www.foodist.de/foodist-bier-braukasten...</td>\n",
       "    </tr>\n",
       "    <tr>\n",
       "      <th>1</th>\n",
       "      <td>Feinschmecker Adventskalender 2021 von Thomas...</td>\n",
       "      <td>Foodist</td>\n",
       "      <td>https://www.foodist.de/foodist-feinschmecker-a...</td>\n",
       "    </tr>\n",
       "    <tr>\n",
       "      <th>480</th>\n",
       "      <td>Bonbons \"Vanillezauber\"</td>\n",
       "      <td>Delica</td>\n",
       "      <td>https://www.foodist.de/delica-bonbons-vanillez...</td>\n",
       "    </tr>\n",
       "  </tbody>\n",
       "</table>\n",
       "</div>"
      ],
      "text/plain": [
       "                                               product                  brand  \\\n",
       "411           BIO Fruchtgummi Coala Weihnachtsbärchen            mind sweets    \n",
       "492   Gefriergetrocknete Erdbeeren in Zartbittersch...               Foodist    \n",
       "538   BIO Fruchtgummi mit saurem Himbeer- und Grape...            Not Guilty    \n",
       "434               Energy Balls mit Vanille und Cashew    N.A! Nature Addicts    \n",
       "522                      Veganer Adventskalender 2021                Foodist    \n",
       "178   Erbsen Flips mit Tomaten- und Basilikumgeschm...   N.A! Nature Addicts    \n",
       "313                              Pea Chili Lime Snack                   Vaya    \n",
       "0     Bier-Braukasten-Set PILS zum Selbermachen DIY...               Foodist    \n",
       "1     Feinschmecker Adventskalender 2021 von Thomas...               Foodist    \n",
       "480                           Bonbons \"Vanillezauber\"                 Delica    \n",
       "\n",
       "                                                 links  \n",
       "411  https://www.foodist.de/mind-sweets-bio-fruchtg...  \n",
       "492  https://www.foodist.de/foodist-gefriergetrockn...  \n",
       "538  https://www.foodist.de/not-guilty-bio-fruchtgu...  \n",
       "434  https://www.foodist.de/n.a-nature-addicts-ener...  \n",
       "522     https://www.foodist.de/veganer-adventskalender  \n",
       "178  https://www.foodist.de/n.a-nature-addicts-erbs...  \n",
       "313  https://www.foodist.de/vaya-pea-chili-lime-sna...  \n",
       "0    https://www.foodist.de/foodist-bier-braukasten...  \n",
       "1    https://www.foodist.de/foodist-feinschmecker-a...  \n",
       "480  https://www.foodist.de/delica-bonbons-vanillez...  "
      ]
     },
     "execution_count": 59,
     "metadata": {},
     "output_type": "execute_result"
    }
   ],
   "source": [
    "product_overview.sample(10)"
   ]
  },
  {
   "cell_type": "markdown",
   "id": "47823fef-4b87-4936-b49f-7a0a6ff4828d",
   "metadata": {},
   "source": [
    "#### Getting all product infos"
   ]
  },
  {
   "cell_type": "code",
   "execution_count": 60,
   "id": "6bcbd905-5d2f-4d9b-a793-40c2e5a15fd0",
   "metadata": {},
   "outputs": [
    {
     "data": {
      "text/plain": [
       "200"
      ]
     },
     "execution_count": 60,
     "metadata": {},
     "output_type": "execute_result"
    }
   ],
   "source": [
    "# storing url in a variable\n",
    "url = \"https://www.foodist.de/vista-portuguese-mandeln-mit-zimt-zucker-10854\"\n",
    "\n",
    "# downloading html-code with a get request\n",
    "response = requests.get(url)\n",
    "response.status_code"
   ]
  },
  {
   "cell_type": "code",
   "execution_count": 61,
   "id": "053b64ad-f681-45ee-8726-7c9ca52c4e4f",
   "metadata": {},
   "outputs": [],
   "source": [
    "soup = BeautifulSoup(response.content, \"html.parser\")"
   ]
  },
  {
   "cell_type": "code",
   "execution_count": 63,
   "id": "2face00c-4d4b-4438-857a-88aae7926359",
   "metadata": {},
   "outputs": [
    {
     "data": {
      "text/plain": [
       "'  7,90\\xa0€ '"
      ]
     },
     "execution_count": 63,
     "metadata": {},
     "output_type": "execute_result"
    }
   ],
   "source": [
    "# price\n",
    "price = soup.find_all(\"div\", class_=\"price--default\")\n",
    "price[0].getText()"
   ]
  },
  {
   "cell_type": "code",
   "execution_count": 67,
   "id": "fd9a92a4-41d3-45fe-aa8d-d1a3cd639ba0",
   "metadata": {},
   "outputs": [
    {
     "data": {
      "text/plain": [
       "'  Inhalt:  125\\xa0g '"
      ]
     },
     "execution_count": 67,
     "metadata": {},
     "output_type": "execute_result"
    }
   ],
   "source": [
    "# weight\n",
    "weight = soup.find_all(\"span\", class_=\"product--unit\")\n",
    "weight[0].getText()"
   ]
  },
  {
   "cell_type": "code",
   "execution_count": 69,
   "id": "edfc5d25-6d55-447e-9842-a2e9029052c6",
   "metadata": {},
   "outputs": [
    {
     "data": {
      "text/plain": [
       "' 6,32\\xa0€ / 100\\xa0g '"
      ]
     },
     "execution_count": 69,
     "metadata": {},
     "output_type": "execute_result"
    }
   ],
   "source": [
    "# price/weight\n",
    "price_gr = soup.find_all(\"span\", class_=\"product--reference-unit-price\")\n",
    "price_gr[0].getText()"
   ]
  },
  {
   "cell_type": "code",
   "execution_count": 87,
   "id": "2e98f976-f354-4e6c-987f-ea2463e62a87",
   "metadata": {},
   "outputs": [
    {
     "data": {
      "text/plain": [
       "'  Brennwert 2.022 kJ(442 kcal)   Fett 26,0 g   davon gesättigte Fettsäuren 2,0 g   Kohlenhydrate 59,0 g   davon Zucker 52,0 g   Eiweiß 11,0 g   Salz 0,00 g  '"
      ]
     },
     "execution_count": 87,
     "metadata": {},
     "output_type": "execute_result"
    }
   ],
   "source": [
    "# kcal\n",
    "# nutrients\n",
    "nutritients = soup.find_all(\"tbody\")\n",
    "nutritients[0].getText()"
   ]
  },
  {
   "cell_type": "code",
   "execution_count": 80,
   "id": "6fa1f1d0-e471-42de-8355-13bbe181840b",
   "metadata": {},
   "outputs": [
    {
     "data": {
      "text/plain": [
       "'https://foodist.imgix.net/media/image/5602132652727_0.jpg?auto=compress%2Cformat&h=60&q=20&w=60'"
      ]
     },
     "execution_count": 80,
     "metadata": {},
     "output_type": "execute_result"
    }
   ],
   "source": [
    "# photo\n",
    "photo = soup.find_all(\"span\", class_=\"image--media\")\n",
    "photo[0].canvas.get(\"data-image\")"
   ]
  },
  {
   "cell_type": "code",
   "execution_count": 19,
   "id": "c030e032-1818-435d-a628-9fa46b3dacc6",
   "metadata": {},
   "outputs": [],
   "source": [
    "# price\n",
    "price = soup.find_all(\"div\", class_=\"price--default\")\n",
    "\n",
    "# weight\n",
    "weight = soup.find_all(\"span\", class_=\"product--unit\")\n",
    "\n",
    "# price/weight\n",
    "price_gr = soup.find_all(\"span\", class_=\"product--reference-unit-price\")\n",
    "\n",
    "# nutrients\n",
    "nutritients = soup.find_all(\"td\", class_=\"nutrition-value\")\n",
    "\n",
    "# ingredients\n",
    "ingredients = soup.find_all(\"span\", class_=\"base-info--label\")\n",
    "\n",
    "# photo\n",
    "photo = soup.find_all(\"span\", class_=\"image--media\")"
   ]
  },
  {
   "cell_type": "code",
   "execution_count": 105,
   "id": "8db852be-8028-47f7-a425-4ee091c2b2d1",
   "metadata": {},
   "outputs": [],
   "source": [
    "def scraping_details(links=[], skip_link=[]):\n",
    "    \n",
    "    lst_price = []\n",
    "    lst_weight = []\n",
    "    lst_price_gr = []\n",
    "    lst_nutrients = []\n",
    "    # lst_ingredients = []\n",
    "    lst_photos = []\n",
    "\n",
    "    for l in links:\n",
    "        \n",
    "        if l not in skip_link:\n",
    "            \n",
    "            try:\n",
    "\n",
    "                url = l\n",
    "                response = requests.get(url)\n",
    "\n",
    "                soup = BeautifulSoup(response.content, \"html.parser\")\n",
    "                \n",
    "                \n",
    "                # price\n",
    "                price = soup.find_all(\"div\", class_=\"price--default\")\n",
    "\n",
    "                # weight\n",
    "                weight = soup.find_all(\"span\", class_=\"product--unit\")\n",
    "\n",
    "                # price/weight\n",
    "                price_gr = soup.find_all(\"span\", class_=\"product--reference-unit-price\")\n",
    "\n",
    "                # nutrients\n",
    "                nutritients = soup.find_all(\"td\", class_=\"nutrition-value\")\n",
    "\n",
    "                # ingredients\n",
    "                # ingredients = soup.find_all(\"span\", class_=\"base-info--label\")\n",
    "\n",
    "                \n",
    "                # getting text for all necessary features\n",
    "                for i in [price, weight, price_gr]:\n",
    "                    for j in range(len(i)):\n",
    "                        i[j] = i[j].getText()\n",
    "\n",
    "                \n",
    "                # photo + getting photo link\n",
    "                photo = soup.find_all(\"span\", class_=\"image--media\")\n",
    "\n",
    "                photo_link = photo[0].canvas.get(\"data-image\")\n",
    "\n",
    "\n",
    "                # nutrients\n",
    "                nutrients = soup.find_all(\"tbody\")\n",
    "                \n",
    "                nutrient = nutrients[0].getText()\n",
    "\n",
    "\n",
    "                lst_price.append(price[0])\n",
    "                lst_weight.append(weight[0])\n",
    "                lst_price_gr.append(price_gr[0])\n",
    "                lst_nutrients.append(nutrient)\n",
    "                lst_photos.append(photo_link)\n",
    "\n",
    "            except IndexError: \n",
    "\n",
    "                print(\"error for: \", l)\n",
    "        \n",
    "        \n",
    "    return [lst_price, lst_weight, lst_price_gr, lst_nutrients, lst_photos]\n"
   ]
  },
  {
   "cell_type": "code",
   "execution_count": 94,
   "id": "d58397c0-0ec6-4416-8ce0-63fc16962510",
   "metadata": {},
   "outputs": [
    {
     "name": "stdout",
     "output_type": "stream",
     "text": [
      "https://www.foodist.de/vista-portuguese-mandeln-mit-zimt-zucker-10854\n"
     ]
    },
    {
     "data": {
      "text/plain": [
       "[['  7,90\\xa0€ '],\n",
       " ['  Inhalt:  125\\xa0g '],\n",
       " [' 6,32\\xa0€ / 100\\xa0g '],\n",
       " ['  Brennwert 2.022 kJ(442 kcal)   Fett 26,0 g   davon gesättigte Fettsäuren 2,0 g   Kohlenhydrate 59,0 g   davon Zucker 52,0 g   Eiweiß 11,0 g   Salz 0,00 g  '],\n",
       " ['https://foodist.imgix.net/media/image/5602132652727_0.jpg?auto=compress%2Cformat&h=60&q=20&w=60']]"
      ]
     },
     "execution_count": 94,
     "metadata": {},
     "output_type": "execute_result"
    }
   ],
   "source": [
    "product_1 = scraping_details(links=['https://www.foodist.de/vista-portuguese-mandeln-mit-zimt-zucker-10854'])\n",
    "product_1"
   ]
  },
  {
   "cell_type": "code",
   "execution_count": 96,
   "id": "070a396e-1438-4d24-b0db-bc6af481c662",
   "metadata": {},
   "outputs": [
    {
     "name": "stdout",
     "output_type": "stream",
     "text": [
      "https://www.foodist.de/n.a-nature-addicts-fruchtsticks-himbeere-10895\n",
      "https://www.foodist.de/n.a-nature-addicts-fruchtsticks-himbeere-10895\n"
     ]
    },
    {
     "data": {
      "text/plain": [
       "[['  0,90\\xa0€ ', '  0,90\\xa0€ '],\n",
       " ['  Inhalt:  16\\xa0g ', '  Inhalt:  16\\xa0g '],\n",
       " [' 5,63\\xa0€ / 100\\xa0g ', ' 5,63\\xa0€ / 100\\xa0g '],\n",
       " ['  Brennwert 1.415 kJ(334 kcal)   Fett 1,2 g   davon gesättigte Fettsäuren 0,3 g   Kohlenhydrate 75,0 g   davon Zucker 69,0 g   Ballaststoffe 8,1 g   Eiweiß 18,0 g   Salz 0,10 g  ',\n",
       "  '  Brennwert 1.415 kJ(334 kcal)   Fett 1,2 g   davon gesättigte Fettsäuren 0,3 g   Kohlenhydrate 75,0 g   davon Zucker 69,0 g   Ballaststoffe 8,1 g   Eiweiß 18,0 g   Salz 0,10 g  '],\n",
       " ['https://foodist.imgix.net/media/image/3609200010757_0.jpg?auto=compress%2Cformat&h=60&q=20&w=60',\n",
       "  'https://foodist.imgix.net/media/image/3609200010757_0.jpg?auto=compress%2Cformat&h=60&q=20&w=60']]"
      ]
     },
     "execution_count": 96,
     "metadata": {},
     "output_type": "execute_result"
    }
   ],
   "source": [
    "two_products = scraping_details(links=['https://www.foodist.de/n.a-nature-addicts-fruchtsticks-himbeere-10895', \n",
    "                                       'https://www.foodist.de/vista-portuguese-mandeln-mit-zimt-zucker-10854'])\n",
    "two_products"
   ]
  },
  {
   "cell_type": "code",
   "execution_count": 114,
   "id": "b87f95fc-79c1-4bd1-ae2d-36e11451823c",
   "metadata": {},
   "outputs": [
    {
     "ename": "TypeError",
     "evalue": "scraping_details() got an unexpected keyword argument 'skip_link'",
     "output_type": "error",
     "traceback": [
      "\u001b[1;31m---------------------------------------------------------------------------\u001b[0m",
      "\u001b[1;31mTypeError\u001b[0m                                 Traceback (most recent call last)",
      "\u001b[1;32m<ipython-input-114-073db67b9ea3>\u001b[0m in \u001b[0;36m<module>\u001b[1;34m\u001b[0m\n\u001b[1;32m----> 1\u001b[1;33m test = scraping_details(links=['https://www.foodist.de/foodist-bier-braukasten-set-pils-zum-selbermachen-diy-kit-7685',\n\u001b[0m\u001b[0;32m      2\u001b[0m                   \u001b[1;34m'https://www.foodist.de/vista-portuguese-mandeln-mit-zimt-zucker-10854'\u001b[0m\u001b[1;33m,\u001b[0m\u001b[1;33m\u001b[0m\u001b[1;33m\u001b[0m\u001b[0m\n\u001b[0;32m      3\u001b[0m                    'https://www.foodist.de/n.a-nature-addicts-fruchtsticks-himbeere-10895'], \n\u001b[0;32m      4\u001b[0m             skip_link=['https://www.foodist.de/foodist-bier-braukasten-set-pils-zum-selbermachen-diy-kit-7685'])\n\u001b[0;32m      5\u001b[0m \u001b[0mtest\u001b[0m\u001b[1;33m\u001b[0m\u001b[1;33m\u001b[0m\u001b[0m\n",
      "\u001b[1;31mTypeError\u001b[0m: scraping_details() got an unexpected keyword argument 'skip_link'"
     ]
    }
   ],
   "source": [
    "test = scraping_details(links=['https://www.foodist.de/foodist-bier-braukasten-set-pils-zum-selbermachen-diy-kit-7685',\n",
    "                  'https://www.foodist.de/vista-portuguese-mandeln-mit-zimt-zucker-10854', \n",
    "                   'https://www.foodist.de/n.a-nature-addicts-fruchtsticks-himbeere-10895'], \n",
    "            skip_link=['https://www.foodist.de/foodist-bier-braukasten-set-pils-zum-selbermachen-diy-kit-7685'])\n",
    "test"
   ]
  },
  {
   "cell_type": "code",
   "execution_count": 111,
   "id": "8ffc4948-e4ac-41ba-a3a6-27cca7da9733",
   "metadata": {},
   "outputs": [],
   "source": [
    "def creating_df(links=[], skip_link=[]):\n",
    "    \n",
    "    result = scraping_details(links=links, skip_link=skip_link)\n",
    "    \n",
    "    details = pd.DataFrame(\n",
    "    {\"links\": links,\n",
    "     \"price\": result[0],\n",
    "     \"weight\": result[1],\n",
    "     \"price_gr\": result[2],\n",
    "     \"nutritients\": result[3],\n",
    "     \"photo_link\": result[4]}\n",
    "        )\n",
    "    return details"
   ]
  },
  {
   "cell_type": "code",
   "execution_count": 108,
   "id": "1a540c3e-590f-47d3-8587-8a0fe0f8e0bd",
   "metadata": {},
   "outputs": [
    {
     "data": {
      "text/html": [
       "<div>\n",
       "<style scoped>\n",
       "    .dataframe tbody tr th:only-of-type {\n",
       "        vertical-align: middle;\n",
       "    }\n",
       "\n",
       "    .dataframe tbody tr th {\n",
       "        vertical-align: top;\n",
       "    }\n",
       "\n",
       "    .dataframe thead th {\n",
       "        text-align: right;\n",
       "    }\n",
       "</style>\n",
       "<table border=\"1\" class=\"dataframe\">\n",
       "  <thead>\n",
       "    <tr style=\"text-align: right;\">\n",
       "      <th></th>\n",
       "      <th>links</th>\n",
       "      <th>price</th>\n",
       "      <th>weight</th>\n",
       "      <th>price_gr</th>\n",
       "      <th>nutritients</th>\n",
       "      <th>photo_link</th>\n",
       "    </tr>\n",
       "  </thead>\n",
       "  <tbody>\n",
       "    <tr>\n",
       "      <th>0</th>\n",
       "      <td>https://www.foodist.de/n.a-nature-addicts-fruc...</td>\n",
       "      <td>0,90 €</td>\n",
       "      <td>Inhalt:  16 g</td>\n",
       "      <td>5,63 € / 100 g</td>\n",
       "      <td>Brennwert 1.415 kJ(334 kcal)   Fett 1,2 g   ...</td>\n",
       "      <td>https://foodist.imgix.net/media/image/36092000...</td>\n",
       "    </tr>\n",
       "  </tbody>\n",
       "</table>\n",
       "</div>"
      ],
      "text/plain": [
       "                                               links      price  \\\n",
       "0  https://www.foodist.de/n.a-nature-addicts-fruc...    0,90 €    \n",
       "\n",
       "             weight          price_gr  \\\n",
       "0    Inhalt:  16 g    5,63 € / 100 g    \n",
       "\n",
       "                                         nutritients  \\\n",
       "0    Brennwert 1.415 kJ(334 kcal)   Fett 1,2 g   ...   \n",
       "\n",
       "                                          photo_link  \n",
       "0  https://foodist.imgix.net/media/image/36092000...  "
      ]
     },
     "execution_count": 108,
     "metadata": {},
     "output_type": "execute_result"
    }
   ],
   "source": [
    "creating_df(links=['https://www.foodist.de/n.a-nature-addicts-fruchtsticks-himbeere-10895'])"
   ]
  },
  {
   "cell_type": "code",
   "execution_count": 103,
   "id": "0d0aeff4-42cd-4004-ae88-867dbb203208",
   "metadata": {},
   "outputs": [
    {
     "name": "stdout",
     "output_type": "stream",
     "text": [
      "error for:  https://www.foodist.de/foodist-bier-braukasten-set-pils-zum-selbermachen-diy-kit-7685\n",
      "error for:  https://www.foodist.de/foodist-feinschmecker-adventskalender-2021-von-thomas-buehner-11069\n",
      "error for:  https://www.foodist.de/foodist-foodist-snacks-adventskalender-2021-11092\n",
      "error for:  https://www.foodist.de/craft-beer-adventskalender\n",
      "error for:  https://www.foodist.de/gaia-bienenwachstuch-starterset-jungle-3-teilig-10074\n",
      "error for:  https://www.foodist.de/foodist-bio-spice-your-pumpkin-pie-gewuerzmischung-by-marry-kotter-11340\n",
      "error for:  https://www.foodist.de/foodist-foodist-snack-bites-probierpaket-10-teilig-8465\n",
      "error for:  https://www.foodist.de/foodist-bio-pralinen-adventskalender-2021-11249\n",
      "error for:  https://www.foodist.de/foodist-bio-schokoladen-weihnachtsmann-sparset-4-teilig-11704\n",
      "error for:  https://www.foodist.de/foodist-kleine-freuden-sparset-2-teilig-11674\n",
      "error for:  https://www.foodist.de/the-beginnings-cookies-doppelpack-mit-orange-cranberry-11565\n",
      "error for:  https://www.foodist.de/foodist-scharfe-erdnuesse-10915\n",
      "error for:  https://www.foodist.de/foodloose-bio-fruchtgummi-mango-10870\n",
      "error for:  https://www.foodist.de/foodist-foodist-snacks-adventskalender-2021-11092\n",
      "error for:  https://www.foodist.de/veganer-adventskalender\n",
      "error for:  https://www.foodist.de/n.a-nature-addicts-nussmix-mit-himbeere-10565\n",
      "error for:  https://www.foodist.de/foodist-bier-braukasten-set-pils-zum-selbermachen-diy-kit-7685\n",
      "error for:  https://www.foodist.de/foodist-feinschmecker-adventskalender-2021-von-thomas-buehner-11069\n",
      "error for:  https://www.foodist.de/foodist-foodist-snacks-adventskalender-2021-11092\n",
      "error for:  https://www.foodist.de/craft-beer-adventskalender\n",
      "error for:  https://www.foodist.de/gaia-bienenwachstuch-starterset-jungle-3-teilig-10074\n",
      "error for:  https://www.foodist.de/foodist-bio-spice-your-pumpkin-pie-gewuerzmischung-by-marry-kotter-11340\n",
      "error for:  https://www.foodist.de/foodist-foodist-snack-bites-probierpaket-10-teilig-8465\n",
      "error for:  https://www.foodist.de/foodist-bio-pralinen-adventskalender-2021-11249\n",
      "error for:  https://www.foodist.de/foodist-bio-schokoladen-weihnachtsmann-sparset-4-teilig-11704\n",
      "error for:  https://www.foodist.de/foodist-kleine-freuden-sparset-2-teilig-11674\n",
      "error for:  https://www.foodist.de/the-beginnings-cookies-doppelpack-mit-orange-cranberry-11565\n",
      "error for:  https://www.foodist.de/foodist-scharfe-erdnuesse-10915\n",
      "error for:  https://www.foodist.de/foodloose-bio-fruchtgummi-mango-10870\n",
      "error for:  https://www.foodist.de/foodist-foodist-snacks-adventskalender-2021-11092\n",
      "error for:  https://www.foodist.de/veganer-adventskalender\n",
      "error for:  https://www.foodist.de/n.a-nature-addicts-nussmix-mit-himbeere-10565\n",
      "error for:  https://www.foodist.de/foodist-bier-braukasten-set-pils-zum-selbermachen-diy-kit-7685\n",
      "error for:  https://www.foodist.de/foodist-feinschmecker-adventskalender-2021-von-thomas-buehner-11069\n",
      "error for:  https://www.foodist.de/foodist-foodist-snacks-adventskalender-2021-11092\n",
      "error for:  https://www.foodist.de/craft-beer-adventskalender\n",
      "error for:  https://www.foodist.de/gaia-bienenwachstuch-starterset-jungle-3-teilig-10074\n",
      "error for:  https://www.foodist.de/foodist-bio-spice-your-pumpkin-pie-gewuerzmischung-by-marry-kotter-11340\n",
      "error for:  https://www.foodist.de/foodist-foodist-snack-bites-probierpaket-10-teilig-8465\n",
      "error for:  https://www.foodist.de/foodist-bio-pralinen-adventskalender-2021-11249\n",
      "error for:  https://www.foodist.de/foodist-bio-schokoladen-weihnachtsmann-sparset-4-teilig-11704\n",
      "error for:  https://www.foodist.de/foodist-kleine-freuden-sparset-2-teilig-11674\n",
      "error for:  https://www.foodist.de/the-beginnings-cookies-doppelpack-mit-orange-cranberry-11565\n",
      "error for:  https://www.foodist.de/foodist-scharfe-erdnuesse-10915\n",
      "error for:  https://www.foodist.de/foodloose-bio-fruchtgummi-mango-10870\n",
      "error for:  https://www.foodist.de/foodist-foodist-snacks-adventskalender-2021-11092\n",
      "error for:  https://www.foodist.de/veganer-adventskalender\n",
      "error for:  https://www.foodist.de/n.a-nature-addicts-nussmix-mit-himbeere-10565\n",
      "error for:  https://www.foodist.de/foodist-bier-braukasten-set-pils-zum-selbermachen-diy-kit-7685\n",
      "error for:  https://www.foodist.de/foodist-feinschmecker-adventskalender-2021-von-thomas-buehner-11069\n",
      "error for:  https://www.foodist.de/foodist-foodist-snacks-adventskalender-2021-11092\n",
      "error for:  https://www.foodist.de/craft-beer-adventskalender\n",
      "error for:  https://www.foodist.de/gaia-bienenwachstuch-starterset-jungle-3-teilig-10074\n",
      "error for:  https://www.foodist.de/foodist-bio-spice-your-pumpkin-pie-gewuerzmischung-by-marry-kotter-11340\n",
      "error for:  https://www.foodist.de/foodist-foodist-snack-bites-probierpaket-10-teilig-8465\n",
      "error for:  https://www.foodist.de/foodist-bio-pralinen-adventskalender-2021-11249\n",
      "error for:  https://www.foodist.de/foodist-bio-schokoladen-weihnachtsmann-sparset-4-teilig-11704\n",
      "error for:  https://www.foodist.de/foodist-kleine-freuden-sparset-2-teilig-11674\n",
      "error for:  https://www.foodist.de/the-beginnings-cookies-doppelpack-mit-orange-cranberry-11565\n",
      "error for:  https://www.foodist.de/foodist-scharfe-erdnuesse-10915\n",
      "error for:  https://www.foodist.de/foodloose-bio-fruchtgummi-mango-10870\n",
      "error for:  https://www.foodist.de/foodist-foodist-snacks-adventskalender-2021-11092\n",
      "error for:  https://www.foodist.de/veganer-adventskalender\n",
      "error for:  https://www.foodist.de/n.a-nature-addicts-nussmix-mit-himbeere-10565\n",
      "error for:  https://www.foodist.de/foodist-bier-braukasten-set-pils-zum-selbermachen-diy-kit-7685\n",
      "error for:  https://www.foodist.de/foodist-feinschmecker-adventskalender-2021-von-thomas-buehner-11069\n",
      "error for:  https://www.foodist.de/foodist-foodist-snacks-adventskalender-2021-11092\n",
      "error for:  https://www.foodist.de/craft-beer-adventskalender\n",
      "error for:  https://www.foodist.de/gaia-bienenwachstuch-starterset-jungle-3-teilig-10074\n",
      "error for:  https://www.foodist.de/foodist-bio-spice-your-pumpkin-pie-gewuerzmischung-by-marry-kotter-11340\n",
      "error for:  https://www.foodist.de/foodist-foodist-snack-bites-probierpaket-10-teilig-8465\n",
      "error for:  https://www.foodist.de/foodist-bio-pralinen-adventskalender-2021-11249\n",
      "error for:  https://www.foodist.de/foodist-bio-schokoladen-weihnachtsmann-sparset-4-teilig-11704\n",
      "error for:  https://www.foodist.de/foodist-kleine-freuden-sparset-2-teilig-11674\n",
      "error for:  https://www.foodist.de/the-beginnings-cookies-doppelpack-mit-orange-cranberry-11565\n",
      "error for:  https://www.foodist.de/foodist-scharfe-erdnuesse-10915\n",
      "error for:  https://www.foodist.de/foodloose-bio-fruchtgummi-mango-10870\n",
      "error for:  https://www.foodist.de/foodist-foodist-snacks-adventskalender-2021-11092\n",
      "error for:  https://www.foodist.de/veganer-adventskalender\n",
      "error for:  https://www.foodist.de/n.a-nature-addicts-nussmix-mit-himbeere-10565\n",
      "error for:  https://www.foodist.de/foodist-bier-braukasten-set-pils-zum-selbermachen-diy-kit-7685\n",
      "error for:  https://www.foodist.de/foodist-feinschmecker-adventskalender-2021-von-thomas-buehner-11069\n",
      "error for:  https://www.foodist.de/foodist-foodist-snacks-adventskalender-2021-11092\n",
      "error for:  https://www.foodist.de/craft-beer-adventskalender\n",
      "error for:  https://www.foodist.de/gaia-bienenwachstuch-starterset-jungle-3-teilig-10074\n",
      "error for:  https://www.foodist.de/foodist-bio-spice-your-pumpkin-pie-gewuerzmischung-by-marry-kotter-11340\n",
      "error for:  https://www.foodist.de/foodist-foodist-snack-bites-probierpaket-10-teilig-8465\n",
      "error for:  https://www.foodist.de/foodist-bio-pralinen-adventskalender-2021-11249\n",
      "error for:  https://www.foodist.de/foodist-bio-schokoladen-weihnachtsmann-sparset-4-teilig-11704\n",
      "error for:  https://www.foodist.de/foodist-kleine-freuden-sparset-2-teilig-11674\n",
      "error for:  https://www.foodist.de/the-beginnings-cookies-doppelpack-mit-orange-cranberry-11565\n",
      "error for:  https://www.foodist.de/foodist-scharfe-erdnuesse-10915\n",
      "error for:  https://www.foodist.de/foodloose-bio-fruchtgummi-mango-10870\n",
      "error for:  https://www.foodist.de/foodist-foodist-snacks-adventskalender-2021-11092\n",
      "error for:  https://www.foodist.de/veganer-adventskalender\n",
      "error for:  https://www.foodist.de/n.a-nature-addicts-nussmix-mit-himbeere-10565\n"
     ]
    },
    {
     "ename": "ValueError",
     "evalue": "array length 450 does not match index length 546",
     "output_type": "error",
     "traceback": [
      "\u001b[1;31m---------------------------------------------------------------------------\u001b[0m",
      "\u001b[1;31mValueError\u001b[0m                                Traceback (most recent call last)",
      "\u001b[1;32m<ipython-input-103-c978a41f1c8e>\u001b[0m in \u001b[0;36m<module>\u001b[1;34m\u001b[0m\n\u001b[1;32m----> 1\u001b[1;33m \u001b[0mproducts_foodist\u001b[0m \u001b[1;33m=\u001b[0m \u001b[0mcreating_df\u001b[0m\u001b[1;33m(\u001b[0m\u001b[0mlinks\u001b[0m\u001b[1;33m=\u001b[0m\u001b[0mproduct_overview\u001b[0m\u001b[1;33m[\u001b[0m\u001b[1;34m'links'\u001b[0m\u001b[1;33m]\u001b[0m\u001b[1;33m)\u001b[0m\u001b[1;33m\u001b[0m\u001b[1;33m\u001b[0m\u001b[0m\n\u001b[0m",
      "\u001b[1;32m<ipython-input-102-c40ad96d9d3c>\u001b[0m in \u001b[0;36mcreating_df\u001b[1;34m(links, not_in)\u001b[0m\n\u001b[0;32m      3\u001b[0m     \u001b[0mresult\u001b[0m \u001b[1;33m=\u001b[0m \u001b[0mscraping_details\u001b[0m\u001b[1;33m(\u001b[0m\u001b[0mlinks\u001b[0m\u001b[1;33m=\u001b[0m\u001b[0mlinks\u001b[0m\u001b[1;33m)\u001b[0m\u001b[1;33m\u001b[0m\u001b[1;33m\u001b[0m\u001b[0m\n\u001b[0;32m      4\u001b[0m \u001b[1;33m\u001b[0m\u001b[0m\n\u001b[1;32m----> 5\u001b[1;33m     details = pd.DataFrame(\n\u001b[0m\u001b[0;32m      6\u001b[0m     {\"links\": links,\n\u001b[0;32m      7\u001b[0m      \u001b[1;34m\"price\"\u001b[0m\u001b[1;33m:\u001b[0m \u001b[0mresult\u001b[0m\u001b[1;33m[\u001b[0m\u001b[1;36m0\u001b[0m\u001b[1;33m]\u001b[0m\u001b[1;33m,\u001b[0m\u001b[1;33m\u001b[0m\u001b[1;33m\u001b[0m\u001b[0m\n",
      "\u001b[1;32mc:\\users\\katha\\appdata\\local\\programs\\python\\python39\\lib\\site-packages\\pandas\\core\\frame.py\u001b[0m in \u001b[0;36m__init__\u001b[1;34m(self, data, index, columns, dtype, copy)\u001b[0m\n\u001b[0;32m    527\u001b[0m \u001b[1;33m\u001b[0m\u001b[0m\n\u001b[0;32m    528\u001b[0m         \u001b[1;32melif\u001b[0m \u001b[0misinstance\u001b[0m\u001b[1;33m(\u001b[0m\u001b[0mdata\u001b[0m\u001b[1;33m,\u001b[0m \u001b[0mdict\u001b[0m\u001b[1;33m)\u001b[0m\u001b[1;33m:\u001b[0m\u001b[1;33m\u001b[0m\u001b[1;33m\u001b[0m\u001b[0m\n\u001b[1;32m--> 529\u001b[1;33m             \u001b[0mmgr\u001b[0m \u001b[1;33m=\u001b[0m \u001b[0minit_dict\u001b[0m\u001b[1;33m(\u001b[0m\u001b[0mdata\u001b[0m\u001b[1;33m,\u001b[0m \u001b[0mindex\u001b[0m\u001b[1;33m,\u001b[0m \u001b[0mcolumns\u001b[0m\u001b[1;33m,\u001b[0m \u001b[0mdtype\u001b[0m\u001b[1;33m=\u001b[0m\u001b[0mdtype\u001b[0m\u001b[1;33m)\u001b[0m\u001b[1;33m\u001b[0m\u001b[1;33m\u001b[0m\u001b[0m\n\u001b[0m\u001b[0;32m    530\u001b[0m         \u001b[1;32melif\u001b[0m \u001b[0misinstance\u001b[0m\u001b[1;33m(\u001b[0m\u001b[0mdata\u001b[0m\u001b[1;33m,\u001b[0m \u001b[0mma\u001b[0m\u001b[1;33m.\u001b[0m\u001b[0mMaskedArray\u001b[0m\u001b[1;33m)\u001b[0m\u001b[1;33m:\u001b[0m\u001b[1;33m\u001b[0m\u001b[1;33m\u001b[0m\u001b[0m\n\u001b[0;32m    531\u001b[0m             \u001b[1;32mimport\u001b[0m \u001b[0mnumpy\u001b[0m\u001b[1;33m.\u001b[0m\u001b[0mma\u001b[0m\u001b[1;33m.\u001b[0m\u001b[0mmrecords\u001b[0m \u001b[1;32mas\u001b[0m \u001b[0mmrecords\u001b[0m\u001b[1;33m\u001b[0m\u001b[1;33m\u001b[0m\u001b[0m\n",
      "\u001b[1;32mc:\\users\\katha\\appdata\\local\\programs\\python\\python39\\lib\\site-packages\\pandas\\core\\internals\\construction.py\u001b[0m in \u001b[0;36minit_dict\u001b[1;34m(data, index, columns, dtype)\u001b[0m\n\u001b[0;32m    285\u001b[0m             \u001b[0marr\u001b[0m \u001b[1;32mif\u001b[0m \u001b[1;32mnot\u001b[0m \u001b[0mis_datetime64tz_dtype\u001b[0m\u001b[1;33m(\u001b[0m\u001b[0marr\u001b[0m\u001b[1;33m)\u001b[0m \u001b[1;32melse\u001b[0m \u001b[0marr\u001b[0m\u001b[1;33m.\u001b[0m\u001b[0mcopy\u001b[0m\u001b[1;33m(\u001b[0m\u001b[1;33m)\u001b[0m \u001b[1;32mfor\u001b[0m \u001b[0marr\u001b[0m \u001b[1;32min\u001b[0m \u001b[0marrays\u001b[0m\u001b[1;33m\u001b[0m\u001b[1;33m\u001b[0m\u001b[0m\n\u001b[0;32m    286\u001b[0m         ]\n\u001b[1;32m--> 287\u001b[1;33m     \u001b[1;32mreturn\u001b[0m \u001b[0marrays_to_mgr\u001b[0m\u001b[1;33m(\u001b[0m\u001b[0marrays\u001b[0m\u001b[1;33m,\u001b[0m \u001b[0mdata_names\u001b[0m\u001b[1;33m,\u001b[0m \u001b[0mindex\u001b[0m\u001b[1;33m,\u001b[0m \u001b[0mcolumns\u001b[0m\u001b[1;33m,\u001b[0m \u001b[0mdtype\u001b[0m\u001b[1;33m=\u001b[0m\u001b[0mdtype\u001b[0m\u001b[1;33m)\u001b[0m\u001b[1;33m\u001b[0m\u001b[1;33m\u001b[0m\u001b[0m\n\u001b[0m\u001b[0;32m    288\u001b[0m \u001b[1;33m\u001b[0m\u001b[0m\n\u001b[0;32m    289\u001b[0m \u001b[1;33m\u001b[0m\u001b[0m\n",
      "\u001b[1;32mc:\\users\\katha\\appdata\\local\\programs\\python\\python39\\lib\\site-packages\\pandas\\core\\internals\\construction.py\u001b[0m in \u001b[0;36marrays_to_mgr\u001b[1;34m(arrays, arr_names, index, columns, dtype, verify_integrity)\u001b[0m\n\u001b[0;32m     78\u001b[0m         \u001b[1;31m# figure out the index, if necessary\u001b[0m\u001b[1;33m\u001b[0m\u001b[1;33m\u001b[0m\u001b[1;33m\u001b[0m\u001b[0m\n\u001b[0;32m     79\u001b[0m         \u001b[1;32mif\u001b[0m \u001b[0mindex\u001b[0m \u001b[1;32mis\u001b[0m \u001b[1;32mNone\u001b[0m\u001b[1;33m:\u001b[0m\u001b[1;33m\u001b[0m\u001b[1;33m\u001b[0m\u001b[0m\n\u001b[1;32m---> 80\u001b[1;33m             \u001b[0mindex\u001b[0m \u001b[1;33m=\u001b[0m \u001b[0mextract_index\u001b[0m\u001b[1;33m(\u001b[0m\u001b[0marrays\u001b[0m\u001b[1;33m)\u001b[0m\u001b[1;33m\u001b[0m\u001b[1;33m\u001b[0m\u001b[0m\n\u001b[0m\u001b[0;32m     81\u001b[0m         \u001b[1;32melse\u001b[0m\u001b[1;33m:\u001b[0m\u001b[1;33m\u001b[0m\u001b[1;33m\u001b[0m\u001b[0m\n\u001b[0;32m     82\u001b[0m             \u001b[0mindex\u001b[0m \u001b[1;33m=\u001b[0m \u001b[0mensure_index\u001b[0m\u001b[1;33m(\u001b[0m\u001b[0mindex\u001b[0m\u001b[1;33m)\u001b[0m\u001b[1;33m\u001b[0m\u001b[1;33m\u001b[0m\u001b[0m\n",
      "\u001b[1;32mc:\\users\\katha\\appdata\\local\\programs\\python\\python39\\lib\\site-packages\\pandas\\core\\internals\\construction.py\u001b[0m in \u001b[0;36mextract_index\u001b[1;34m(data)\u001b[0m\n\u001b[0;32m    413\u001b[0m                         \u001b[1;34mf\"length {len(index)}\"\u001b[0m\u001b[1;33m\u001b[0m\u001b[1;33m\u001b[0m\u001b[0m\n\u001b[0;32m    414\u001b[0m                     )\n\u001b[1;32m--> 415\u001b[1;33m                     \u001b[1;32mraise\u001b[0m \u001b[0mValueError\u001b[0m\u001b[1;33m(\u001b[0m\u001b[0mmsg\u001b[0m\u001b[1;33m)\u001b[0m\u001b[1;33m\u001b[0m\u001b[1;33m\u001b[0m\u001b[0m\n\u001b[0m\u001b[0;32m    416\u001b[0m             \u001b[1;32melse\u001b[0m\u001b[1;33m:\u001b[0m\u001b[1;33m\u001b[0m\u001b[1;33m\u001b[0m\u001b[0m\n\u001b[0;32m    417\u001b[0m                 \u001b[0mindex\u001b[0m \u001b[1;33m=\u001b[0m \u001b[0mibase\u001b[0m\u001b[1;33m.\u001b[0m\u001b[0mdefault_index\u001b[0m\u001b[1;33m(\u001b[0m\u001b[0mlengths\u001b[0m\u001b[1;33m[\u001b[0m\u001b[1;36m0\u001b[0m\u001b[1;33m]\u001b[0m\u001b[1;33m)\u001b[0m\u001b[1;33m\u001b[0m\u001b[1;33m\u001b[0m\u001b[0m\n",
      "\u001b[1;31mValueError\u001b[0m: array length 450 does not match index length 546"
     ]
    }
   ],
   "source": [
    "products_foodist = creating_df(links=product_overview['links'])"
   ]
  },
  {
   "cell_type": "code",
   "execution_count": 112,
   "id": "4b32b0a1-166b-4607-96a1-34459b80ff82",
   "metadata": {},
   "outputs": [
    {
     "ename": "TypeError",
     "evalue": "scraping_details() got an unexpected keyword argument 'skip_link'",
     "output_type": "error",
     "traceback": [
      "\u001b[1;31m---------------------------------------------------------------------------\u001b[0m",
      "\u001b[1;31mTypeError\u001b[0m                                 Traceback (most recent call last)",
      "\u001b[1;32m<ipython-input-112-81cbff3d8969>\u001b[0m in \u001b[0;36m<module>\u001b[1;34m\u001b[0m\n\u001b[1;32m----> 1\u001b[1;33m creating_df(links=['https://www.foodist.de/foodist-bier-braukasten-set-pils-zum-selbermachen-diy-kit-7685',\n\u001b[0m\u001b[0;32m      2\u001b[0m                   \u001b[1;34m'https://www.foodist.de/vista-portuguese-mandeln-mit-zimt-zucker-10854'\u001b[0m\u001b[1;33m,\u001b[0m\u001b[1;33m\u001b[0m\u001b[1;33m\u001b[0m\u001b[0m\n\u001b[0;32m      3\u001b[0m                    'https://www.foodist.de/n.a-nature-addicts-fruchtsticks-himbeere-10895'], \n\u001b[0;32m      4\u001b[0m             skip_link=['https://www.foodist.de/foodist-bier-braukasten-set-pils-zum-selbermachen-diy-kit-7685'])\n",
      "\u001b[1;32m<ipython-input-111-a3b5c0bc91f6>\u001b[0m in \u001b[0;36mcreating_df\u001b[1;34m(links, skip_link)\u001b[0m\n\u001b[0;32m      1\u001b[0m \u001b[1;32mdef\u001b[0m \u001b[0mcreating_df\u001b[0m\u001b[1;33m(\u001b[0m\u001b[0mlinks\u001b[0m\u001b[1;33m=\u001b[0m\u001b[1;33m[\u001b[0m\u001b[1;33m]\u001b[0m\u001b[1;33m,\u001b[0m \u001b[0mskip_link\u001b[0m\u001b[1;33m=\u001b[0m\u001b[1;33m[\u001b[0m\u001b[1;33m]\u001b[0m\u001b[1;33m)\u001b[0m\u001b[1;33m:\u001b[0m\u001b[1;33m\u001b[0m\u001b[1;33m\u001b[0m\u001b[0m\n\u001b[0;32m      2\u001b[0m \u001b[1;33m\u001b[0m\u001b[0m\n\u001b[1;32m----> 3\u001b[1;33m     \u001b[0mresult\u001b[0m \u001b[1;33m=\u001b[0m \u001b[0mscraping_details\u001b[0m\u001b[1;33m(\u001b[0m\u001b[0mlinks\u001b[0m\u001b[1;33m=\u001b[0m\u001b[0mlinks\u001b[0m\u001b[1;33m,\u001b[0m \u001b[0mskip_link\u001b[0m\u001b[1;33m=\u001b[0m\u001b[0mskip_link\u001b[0m\u001b[1;33m)\u001b[0m\u001b[1;33m\u001b[0m\u001b[1;33m\u001b[0m\u001b[0m\n\u001b[0m\u001b[0;32m      4\u001b[0m \u001b[1;33m\u001b[0m\u001b[0m\n\u001b[0;32m      5\u001b[0m     details = pd.DataFrame(\n",
      "\u001b[1;31mTypeError\u001b[0m: scraping_details() got an unexpected keyword argument 'skip_link'"
     ]
    }
   ],
   "source": [
    "creating_df(links=['https://www.foodist.de/foodist-bier-braukasten-set-pils-zum-selbermachen-diy-kit-7685',\n",
    "                  'https://www.foodist.de/vista-portuguese-mandeln-mit-zimt-zucker-10854', \n",
    "                   'https://www.foodist.de/n.a-nature-addicts-fruchtsticks-himbeere-10895'], \n",
    "            skip_link=['https://www.foodist.de/foodist-bier-braukasten-set-pils-zum-selbermachen-diy-kit-7685'])"
   ]
  },
  {
   "cell_type": "markdown",
   "id": "4bb473f5-451c-4081-b083-c04dbf647438",
   "metadata": {},
   "source": [
    "**Deleting rows with too much info missing**"
   ]
  },
  {
   "cell_type": "code",
   "execution_count": 34,
   "id": "42a05b03-eb76-4a69-b515-4d985c07ff70",
   "metadata": {},
   "outputs": [
    {
     "data": {
      "text/plain": [
       "Int64Index([131], dtype='int64')"
      ]
     },
     "execution_count": 34,
     "metadata": {},
     "output_type": "execute_result"
    }
   ],
   "source": [
    "product_overview_2 = product_overview.copy()\n",
    "product_overview_2.index[product_overview['links']=='']"
   ]
  },
  {
   "cell_type": "code",
   "execution_count": 35,
   "id": "714b7b9a-082d-4c6b-a0a8-214fbe3d05ba",
   "metadata": {},
   "outputs": [],
   "source": [
    "product_overview = product_overview.drop(product_overview.index[]) "
   ]
  },
  {
   "cell_type": "code",
   "execution_count": 36,
   "id": "c6d84097-0c1c-4fb2-ad30-ecdad6de2dda",
   "metadata": {},
   "outputs": [
    {
     "data": {
      "text/plain": [
       "Int64Index([], dtype='int64')"
      ]
     },
     "execution_count": 36,
     "metadata": {},
     "output_type": "execute_result"
    }
   ],
   "source": [
    "product_overview.index[product_overview['links']=='']"
   ]
  },
  {
   "cell_type": "markdown",
   "id": "89c8292a-2e72-4c59-8376-e4ea61b587cf",
   "metadata": {},
   "source": [
    "**Getting product details**"
   ]
  },
  {
   "cell_type": "code",
   "execution_count": null,
   "id": "171b1b84-fea3-46f5-a001-7185e4332aee",
   "metadata": {},
   "outputs": [],
   "source": [
    "products_foodist = creating_df(links=product_overview_2['links'])"
   ]
  },
  {
   "cell_type": "code",
   "execution_count": null,
   "id": "6f50aa81-51cb-48b0-9963-bfc8c5496c40",
   "metadata": {},
   "outputs": [],
   "source": [
    "products_foodist.head(10)"
   ]
  },
  {
   "cell_type": "markdown",
   "id": "551b2560-1ba0-42a8-9f19-9828af7e48fd",
   "metadata": {},
   "source": [
    "### Merging dataframes"
   ]
  },
  {
   "cell_type": "code",
   "execution_count": null,
   "id": "5abd4a61-b063-44fe-bd72-7a59ae32de84",
   "metadata": {},
   "outputs": [],
   "source": [
    "df_foodist = pd.merge(product_overview, products_foodist, on='links', how='inner')\n",
    "df_foodist.head(15)"
   ]
  },
  {
   "cell_type": "code",
   "execution_count": 42,
   "id": "e9706e1c-6fba-43b8-ab3f-efc159e5cbf7",
   "metadata": {},
   "outputs": [],
   "source": [
    "df_foodist.to_csv('df_foodist.csv')"
   ]
  },
  {
   "cell_type": "code",
   "execution_count": null,
   "id": "370159c0-06b6-4163-a23b-beb6b5a80b59",
   "metadata": {},
   "outputs": [],
   "source": []
  }
 ],
 "metadata": {
  "kernelspec": {
   "display_name": "Python 3",
   "language": "python",
   "name": "python3"
  },
  "language_info": {
   "codemirror_mode": {
    "name": "ipython",
    "version": 3
   },
   "file_extension": ".py",
   "mimetype": "text/x-python",
   "name": "python",
   "nbconvert_exporter": "python",
   "pygments_lexer": "ipython3",
   "version": "3.9.6"
  }
 },
 "nbformat": 4,
 "nbformat_minor": 5
}
