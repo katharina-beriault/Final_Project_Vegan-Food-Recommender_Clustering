{
 "cells": [
  {
   "cell_type": "markdown",
   "id": "eda2608d-b6c3-4e5d-8f13-4f7eecfb3522",
   "metadata": {},
   "source": [
    "# Web Scraping"
   ]
  },
  {
   "cell_type": "markdown",
   "id": "901d2ffa-3008-4f6a-9e6b-58f036a48d4a",
   "metadata": {},
   "source": [
    "## Importing libraries"
   ]
  },
  {
   "cell_type": "code",
   "execution_count": 17,
   "id": "45f5a957-357e-4c8a-b3b0-7f7a4faee805",
   "metadata": {},
   "outputs": [
    {
     "name": "stdout",
     "output_type": "stream",
     "text": [
      "Collecting selenium\n",
      "  Downloading selenium-4.0.0-py3-none-any.whl (954 kB)\n",
      "Collecting trio-websocket~=0.9\n",
      "  Downloading trio_websocket-0.9.2-py3-none-any.whl (16 kB)\n",
      "Requirement already satisfied: urllib3[secure]~=1.26 in c:\\users\\katha\\appdata\\local\\programs\\python\\python39\\lib\\site-packages (from selenium) (1.26.5)\n",
      "Collecting trio~=0.17\n",
      "  Downloading trio-0.19.0-py3-none-any.whl (356 kB)\n",
      "Requirement already satisfied: sniffio in c:\\users\\katha\\appdata\\local\\programs\\python\\python39\\lib\\site-packages (from trio~=0.17->selenium) (1.2.0)\n",
      "Requirement already satisfied: cffi>=1.14 in c:\\users\\katha\\appdata\\local\\programs\\python\\python39\\lib\\site-packages (from trio~=0.17->selenium) (1.14.5)\n",
      "Requirement already satisfied: idna in c:\\users\\katha\\appdata\\local\\programs\\python\\python39\\lib\\site-packages (from trio~=0.17->selenium) (2.10)\n",
      "Collecting sortedcontainers\n",
      "  Downloading sortedcontainers-2.4.0-py2.py3-none-any.whl (29 kB)\n",
      "Requirement already satisfied: async-generator>=1.9 in c:\\users\\katha\\appdata\\local\\programs\\python\\python39\\lib\\site-packages (from trio~=0.17->selenium) (1.10)\n",
      "Collecting outcome\n",
      "  Downloading outcome-1.1.0-py2.py3-none-any.whl (9.7 kB)\n",
      "Requirement already satisfied: attrs>=19.2.0 in c:\\users\\katha\\appdata\\local\\programs\\python\\python39\\lib\\site-packages (from trio~=0.17->selenium) (20.3.0)\n",
      "Requirement already satisfied: pycparser in c:\\users\\katha\\appdata\\local\\programs\\python\\python39\\lib\\site-packages (from cffi>=1.14->trio~=0.17->selenium) (2.20)\n",
      "Collecting wsproto>=0.14\n",
      "  Downloading wsproto-1.0.0-py3-none-any.whl (24 kB)\n"
     ]
    },
    {
     "name": "stderr",
     "output_type": "stream",
     "text": [
      "WARNING: You are using pip version 21.1.3; however, version 21.3.1 is available.\n",
      "You should consider upgrading via the 'c:\\users\\katha\\appdata\\local\\programs\\python\\python39\\python.exe -m pip install --upgrade pip' command.\n"
     ]
    },
    {
     "name": "stdout",
     "output_type": "stream",
     "text": [
      "Requirement already satisfied: certifi in c:\\users\\katha\\appdata\\local\\programs\\python\\python39\\lib\\site-packages (from urllib3[secure]~=1.26->selenium) (2021.5.30)\n",
      "Collecting pyOpenSSL>=0.14\n",
      "  Downloading pyOpenSSL-21.0.0-py2.py3-none-any.whl (55 kB)\n",
      "Requirement already satisfied: cryptography>=1.3.4 in c:\\users\\katha\\appdata\\local\\programs\\python\\python39\\lib\\site-packages (from urllib3[secure]~=1.26->selenium) (3.4.7)\n",
      "Requirement already satisfied: six>=1.5.2 in c:\\users\\katha\\appdata\\local\\programs\\python\\python39\\lib\\site-packages (from pyOpenSSL>=0.14->urllib3[secure]~=1.26->selenium) (1.15.0)\n",
      "Collecting h11<1,>=0.9.0\n",
      "  Downloading h11-0.12.0-py3-none-any.whl (54 kB)\n",
      "Installing collected packages: sortedcontainers, outcome, h11, wsproto, trio, pyOpenSSL, trio-websocket, selenium\n",
      "Successfully installed h11-0.12.0 outcome-1.1.0 pyOpenSSL-21.0.0 selenium-4.0.0 sortedcontainers-2.4.0 trio-0.19.0 trio-websocket-0.9.2 wsproto-1.0.0\n"
     ]
    }
   ],
   "source": [
    "!pip install selenium"
   ]
  },
  {
   "cell_type": "code",
   "execution_count": 1,
   "id": "6fd1b49a-3123-4c45-9364-dce15bbf6ff5",
   "metadata": {},
   "outputs": [],
   "source": [
    "from bs4 import BeautifulSoup\n",
    "import requests\n",
    "import pandas as pd"
   ]
  },
  {
   "cell_type": "markdown",
   "id": "f3874fb7-768a-4bcb-a0d0-e1e4fb7d12f3",
   "metadata": {},
   "source": [
    "## Overview"
   ]
  },
  {
   "cell_type": "markdown",
   "id": "bcb58c80-e3cb-40fa-88dc-673d0e71a9c6",
   "metadata": {},
   "source": [
    "|\tProduktname\t|\tMarke\t|\tPreis\t|\tGewicht\t|\tBrennwert\t|\tFett\t|\tgesättigte Fettsäuren\t|\tKohlehydrate\t|\tZucker\t|\tBallaststoffe\t|\tEiweiß\t|\tSalz\t|\tZutaten\t|\tFotolink\t|\n",
    "|\t:----------\t|\t:----------\t|\t:---------:\t|\t:---------:\t|\t:---------:\t|\t:---------:\t|\t:---------:\t|\t:---------:\t|\t:---------:\t|\t:---------:\t|\t:---------:\t|\t:---------:\t|\t:---------:\t|\t:---------:\t|\n",
    "|\tproduct name\t|\tbrand\t|\tprice\t|\tweight\t|\t\t|\tfat\t|\tsaturated fat\t|\tcarbs\t|\tsugar\t|\t\t|\tprotein\t|\tsalt\t|\tingredients\t|\tpicture link\t|\n",
    "|\te.g. Snack bar\t|\t\t|\tin EUR\t|\tin gr/kg\t|\tin kj/kcal\t|\tin gr\t|\tin gr\t|\tin gr\t|\tin gr\t|\tin gr\t|\tin gr\t|\tin gr\t|\t\t|\t\t|"
   ]
  },
  {
   "cell_type": "markdown",
   "id": "f57306da-2832-4ffb-8912-6f97a47065cc",
   "metadata": {},
   "source": [
    "**List of websites:**\n",
    "- Koro: https://www.korodrogerie.de/snacks/?p=1&o=2&n=144&f=233\n",
    "- Vantastic foods: https://www.vantastic-foods.com/vegane-lebensmittel/snacks-und-suesswaren\n",
    "- Kokku: https://kokku-online.de/vegane-suessigkeiten-snacks/\n",
    "- Foodist: https://www.foodist.de/suesses-snacks?p=1&o=9&n=84&f=36"
   ]
  },
  {
   "cell_type": "markdown",
   "id": "7124e244-98f4-4caa-a110-5810aea5e396",
   "metadata": {},
   "source": [
    "## Web Scraping"
   ]
  },
  {
   "cell_type": "markdown",
   "id": "6e47043e-9af7-4e52-abc0-44b1d6105061",
   "metadata": {},
   "source": [
    "### Koro"
   ]
  },
  {
   "cell_type": "markdown",
   "id": "29d63a3b-c50c-4a8b-bec3-f1b45e56115d",
   "metadata": {},
   "source": [
    "#### Getting product links"
   ]
  },
  {
   "cell_type": "code",
   "execution_count": 2,
   "id": "fc19b8c7-46bb-4eb5-990b-a13870820f09",
   "metadata": {},
   "outputs": [
    {
     "data": {
      "text/plain": [
       "200"
      ]
     },
     "execution_count": 2,
     "metadata": {},
     "output_type": "execute_result"
    }
   ],
   "source": [
    "# storing url in a variable\n",
    "url = \"https://www.korodrogerie.de/snacks/?p=1&o=2&n=144&f=233\"\n",
    "\n",
    "# downloading html-code with a get request\n",
    "response = requests.get(url)\n",
    "response.status_code"
   ]
  },
  {
   "cell_type": "code",
   "execution_count": 3,
   "id": "a9edae46-0948-46b8-8e3b-437748183c5d",
   "metadata": {},
   "outputs": [],
   "source": [
    "# parsing html (creating the 'soup')\n",
    "soup = BeautifulSoup(response.content, \"html.parser\")"
   ]
  },
  {
   "cell_type": "code",
   "execution_count": 41,
   "id": "ccffc046-9103-4b91-aee3-ffa84c86249e",
   "metadata": {},
   "outputs": [],
   "source": [
    "# retrieving/extracting the desired info\n",
    "\n",
    "# general product info\n",
    "product_info = soup.find_all(\"div\", class_=\"product--info\")"
   ]
  },
  {
   "cell_type": "code",
   "execution_count": 42,
   "id": "67e8162f-f2d2-4948-a420-35834bba1b4d",
   "metadata": {},
   "outputs": [
    {
     "data": {
      "text/plain": [
       "'https://www.korodrogerie.de/soja-protein-crispies-58-mit-kakao-1-kg'"
      ]
     },
     "execution_count": 42,
     "metadata": {},
     "output_type": "execute_result"
    }
   ],
   "source": [
    "# product links\n",
    "product_info[0].a.get(\"href\")"
   ]
  },
  {
   "cell_type": "code",
   "execution_count": 43,
   "id": "461909fe-e2ca-4d52-bdff-62819d72195d",
   "metadata": {},
   "outputs": [],
   "source": [
    "links = []\n",
    "for p in product_info:\n",
    "    link = p.a.get(\"href\")\n",
    "    links.append(link)"
   ]
  },
  {
   "cell_type": "code",
   "execution_count": 53,
   "id": "029d746f-19f5-4a36-80a9-4220f94bfdcb",
   "metadata": {},
   "outputs": [
    {
     "data": {
      "text/plain": [
       "'Soja Protein Crispies 58\\xa0% mit Kakao 1\\xa0kg'"
      ]
     },
     "execution_count": 53,
     "metadata": {},
     "output_type": "execute_result"
    }
   ],
   "source": [
    "# product name\n",
    "product_info[0].a.get(\"title\")"
   ]
  },
  {
   "cell_type": "code",
   "execution_count": 55,
   "id": "9af36ee1-524a-45be-a76a-0d30fa0c854d",
   "metadata": {},
   "outputs": [],
   "source": [
    "names = []\n",
    "for p in product_info:\n",
    "    name = p.a.get(\"title\")\n",
    "    names.append(name)"
   ]
  },
  {
   "cell_type": "code",
   "execution_count": 57,
   "id": "86ed14c4-690e-4803-8637-8b1de4e370d2",
   "metadata": {},
   "outputs": [
    {
     "data": {
      "text/plain": [
       "(100, 100, 100)"
      ]
     },
     "execution_count": 57,
     "metadata": {},
     "output_type": "execute_result"
    }
   ],
   "source": [
    "len(product_link), len(names), len(links)"
   ]
  },
  {
   "cell_type": "code",
   "execution_count": 64,
   "id": "a9732f2f-a226-4835-891e-02ec8428d0e6",
   "metadata": {},
   "outputs": [],
   "source": [
    "# Building a dataframe\n",
    "\n",
    "product_details = pd.DataFrame(\n",
    "    {\"Produkt\": names,\n",
    "     \"Link\": links})"
   ]
  },
  {
   "cell_type": "code",
   "execution_count": 65,
   "id": "5152a07d-ee49-44ad-9ed4-6f4f8ddace8b",
   "metadata": {},
   "outputs": [
    {
     "data": {
      "text/html": [
       "<div>\n",
       "<style scoped>\n",
       "    .dataframe tbody tr th:only-of-type {\n",
       "        vertical-align: middle;\n",
       "    }\n",
       "\n",
       "    .dataframe tbody tr th {\n",
       "        vertical-align: top;\n",
       "    }\n",
       "\n",
       "    .dataframe thead th {\n",
       "        text-align: right;\n",
       "    }\n",
       "</style>\n",
       "<table border=\"1\" class=\"dataframe\">\n",
       "  <thead>\n",
       "    <tr style=\"text-align: right;\">\n",
       "      <th></th>\n",
       "      <th>Produkt</th>\n",
       "      <th>Link</th>\n",
       "    </tr>\n",
       "  </thead>\n",
       "  <tbody>\n",
       "    <tr>\n",
       "      <th>0</th>\n",
       "      <td>Soja Protein Crispies 58 % mit Kakao 1 kg</td>\n",
       "      <td>https://www.korodrogerie.de/soja-protein-crisp...</td>\n",
       "    </tr>\n",
       "    <tr>\n",
       "      <th>1</th>\n",
       "      <td>Schokodrops mit Xylit 1 kg</td>\n",
       "      <td>https://www.korodrogerie.de/schokodrops-mit-xy...</td>\n",
       "    </tr>\n",
       "    <tr>\n",
       "      <th>2</th>\n",
       "      <td>Schoko Protein Crunchies ohne Zuckerzusatz 1 kg</td>\n",
       "      <td>https://www.korodrogerie.de/schoko-protein-cru...</td>\n",
       "    </tr>\n",
       "    <tr>\n",
       "      <th>3</th>\n",
       "      <td>Soja Protein Crispies 60 % 1 kg</td>\n",
       "      <td>https://www.korodrogerie.de/soja-protein-crisp...</td>\n",
       "    </tr>\n",
       "    <tr>\n",
       "      <th>4</th>\n",
       "      <td>Bohnen-Erbsen-Mix geröstet &amp; gesalzen 1 kg</td>\n",
       "      <td>https://www.korodrogerie.de/bohnen-erbsen-mix-...</td>\n",
       "    </tr>\n",
       "    <tr>\n",
       "      <th>...</th>\n",
       "      <td>...</td>\n",
       "      <td>...</td>\n",
       "    </tr>\n",
       "    <tr>\n",
       "      <th>95</th>\n",
       "      <td>Bio Geile Schnitte Schokolade 10 x 30 g</td>\n",
       "      <td>https://www.korodrogerie.de/bio-geile-schnitte...</td>\n",
       "    </tr>\n",
       "    <tr>\n",
       "      <th>96</th>\n",
       "      <td>Bio Nut Butter Bar Peanut 12 x 30 g</td>\n",
       "      <td>https://www.korodrogerie.de/bio-nut-butter-bar...</td>\n",
       "    </tr>\n",
       "    <tr>\n",
       "      <th>97</th>\n",
       "      <td>Bio Nut Butter Bar Hazelnut 12 x 30 g</td>\n",
       "      <td>https://www.korodrogerie.de/bio-nut-butter-bar...</td>\n",
       "    </tr>\n",
       "    <tr>\n",
       "      <th>98</th>\n",
       "      <td>Bio Energy Ball Haselnuss 15 x 30 g</td>\n",
       "      <td>https://www.korodrogerie.de/bio-energy-ball-ha...</td>\n",
       "    </tr>\n",
       "    <tr>\n",
       "      <th>99</th>\n",
       "      <td>Bio Energy Ball Pistazie 15 x 30 g</td>\n",
       "      <td>https://www.korodrogerie.de/bio-energy-ball-pi...</td>\n",
       "    </tr>\n",
       "  </tbody>\n",
       "</table>\n",
       "<p>100 rows × 2 columns</p>\n",
       "</div>"
      ],
      "text/plain": [
       "                                            Produkt  \\\n",
       "0         Soja Protein Crispies 58 % mit Kakao 1 kg   \n",
       "1                        Schokodrops mit Xylit 1 kg   \n",
       "2   Schoko Protein Crunchies ohne Zuckerzusatz 1 kg   \n",
       "3                   Soja Protein Crispies 60 % 1 kg   \n",
       "4        Bohnen-Erbsen-Mix geröstet & gesalzen 1 kg   \n",
       "..                                              ...   \n",
       "95          Bio Geile Schnitte Schokolade 10 x 30 g   \n",
       "96              Bio Nut Butter Bar Peanut 12 x 30 g   \n",
       "97            Bio Nut Butter Bar Hazelnut 12 x 30 g   \n",
       "98              Bio Energy Ball Haselnuss 15 x 30 g   \n",
       "99               Bio Energy Ball Pistazie 15 x 30 g   \n",
       "\n",
       "                                                 Link  \n",
       "0   https://www.korodrogerie.de/soja-protein-crisp...  \n",
       "1   https://www.korodrogerie.de/schokodrops-mit-xy...  \n",
       "2   https://www.korodrogerie.de/schoko-protein-cru...  \n",
       "3   https://www.korodrogerie.de/soja-protein-crisp...  \n",
       "4   https://www.korodrogerie.de/bohnen-erbsen-mix-...  \n",
       "..                                                ...  \n",
       "95  https://www.korodrogerie.de/bio-geile-schnitte...  \n",
       "96  https://www.korodrogerie.de/bio-nut-butter-bar...  \n",
       "97  https://www.korodrogerie.de/bio-nut-butter-bar...  \n",
       "98  https://www.korodrogerie.de/bio-energy-ball-ha...  \n",
       "99  https://www.korodrogerie.de/bio-energy-ball-pi...  \n",
       "\n",
       "[100 rows x 2 columns]"
      ]
     },
     "execution_count": 65,
     "metadata": {},
     "output_type": "execute_result"
    }
   ],
   "source": [
    "product_details"
   ]
  },
  {
   "cell_type": "markdown",
   "id": "47823fef-4b87-4936-b49f-7a0a6ff4828d",
   "metadata": {},
   "source": [
    "#### Getting all product infos"
   ]
  },
  {
   "cell_type": "code",
   "execution_count": 66,
   "id": "6bcbd905-5d2f-4d9b-a793-40c2e5a15fd0",
   "metadata": {},
   "outputs": [
    {
     "data": {
      "text/plain": [
       "200"
      ]
     },
     "execution_count": 66,
     "metadata": {},
     "output_type": "execute_result"
    }
   ],
   "source": [
    "# storing url in a variable\n",
    "url = \"https://www.korodrogerie.de/soja-protein-crispies-58-mit-kakao-1-kg\"\n",
    "\n",
    "# downloading html-code with a get request\n",
    "response = requests.get(url)\n",
    "response.status_code"
   ]
  },
  {
   "cell_type": "code",
   "execution_count": 67,
   "id": "053b64ad-f681-45ee-8726-7c9ca52c4e4f",
   "metadata": {},
   "outputs": [],
   "source": [
    "soup = BeautifulSoup(response.content, \"html.parser\")"
   ]
  },
  {
   "cell_type": "code",
   "execution_count": 97,
   "id": "c030e032-1818-435d-a628-9fa46b3dacc6",
   "metadata": {},
   "outputs": [],
   "source": [
    "# price\n",
    "price = soup.find_all(\"span\", class_=\"price--content content--default\")\n",
    "\n",
    "# weight\n",
    "weight = soup.find_all(\"td\", class_=\"base-info--content\")\n",
    "\n",
    "# kcal\n",
    "kcal = soup.find_all(\"span\", class_=\"nutrition--value nutrition--energy\")\n",
    "\n",
    "# fat\n",
    "fat = soup.find_all(\"span\", class_=\"nutrition--value nutrition--fat\")\n",
    "\n",
    "# sat_fat\n",
    "sat_fat = soup.find_all(\"span\", class_=\"nutrition--value nutrition--saturates\")\n",
    "\n",
    "# carbs\n",
    "carbs = soup.find_all(\"span\", class_=\"nutrition--value nutrition--carbohydrate\")\n",
    "\n",
    "# sugar\n",
    "sugar = soup.find_all(\"span\", class_=\"nutrition--value nutrition--sugars\")\n",
    "\n",
    "# fibre\n",
    "fibre = soup.find_all(\"span\", class_=\"nutrition--value nutrition--fibre\")\n",
    "\n",
    "# protein\n",
    "protein = soup.find_all(\"span\", class_=\"nutrition--value nutrition--protein\")\n",
    "\n",
    "# salt\n",
    "salt = soup.find_all(\"span\", class_=\"nutrition--value nutrition--salt\")\n",
    "\n",
    "# ingredients\n",
    "ingredients = soup.find_all(\"span\", class_=\"base-info--label\")\n",
    "\n",
    "# photo\n",
    "photo = soup.find_all(\"span\", class_=\"image--media\")"
   ]
  },
  {
   "cell_type": "code",
   "execution_count": 110,
   "id": "e709f4a0-f803-4ac5-9c1c-6935dda2c0b3",
   "metadata": {},
   "outputs": [
    {
     "data": {
      "text/plain": [
       "'https://koro2.imgix.net/media/image/f1/50/81/CRIS_005_01E3j9hQ8K66BPv.jpg?auto=compress%2Cformat&w=900&h=900'"
      ]
     },
     "execution_count": 110,
     "metadata": {},
     "output_type": "execute_result"
    }
   ],
   "source": [
    "# how to get photo link\n",
    "photo_link = photo[0].img.get(\"src\")\n",
    "photo_link"
   ]
  },
  {
   "cell_type": "code",
   "execution_count": null,
   "id": "aa806fa4-bce2-47b3-81f1-92367220d8f2",
   "metadata": {},
   "outputs": [],
   "source": []
  },
  {
   "cell_type": "code",
   "execution_count": null,
   "id": "7fcc242f-639c-4ef3-86e6-4dc16473d7df",
   "metadata": {},
   "outputs": [],
   "source": []
  },
  {
   "cell_type": "code",
   "execution_count": null,
   "id": "8436d359-19f3-490f-9840-78e73f55219e",
   "metadata": {},
   "outputs": [],
   "source": []
  },
  {
   "cell_type": "code",
   "execution_count": 101,
   "id": "8db852be-8028-47f7-a425-4ee091c2b2d1",
   "metadata": {},
   "outputs": [],
   "source": [
    "def scraping_details(links=[]):\n",
    "    for link in links:\n",
    "        response = requests.get(link)\n",
    "        \n",
    "        soup = BeautifulSoup(response.content, \"html.parser\")\n",
    "        \n",
    "        # price\n",
    "        price = soup.find_all(\"span\", class_=\"price--content content--default\")\n",
    "\n",
    "        # kcal\n",
    "        kcal = soup.find_all(\"span\", class_=\"nutrition--value nutrition--energy\")\n",
    "\n",
    "        # fat\n",
    "        fat = soup.find_all(\"span\", class_=\"nutrition--value nutrition--fat\")\n",
    "\n",
    "        # sat_fat\n",
    "        sat_fat = soup.find_all(\"span\", class_=\"nutrition--value nutrition--saturates\")\n",
    "\n",
    "        # carbs\n",
    "        carbs = soup.find_all(\"span\", class_=\"nutrition--value nutrition--carbohydrate\")\n",
    "\n",
    "        # sugar\n",
    "        sugar = soup.find_all(\"span\", class_=\"nutrition--value nutrition--sugars\")\n",
    "\n",
    "        # fibre\n",
    "        fibre = soup.find_all(\"span\", class_=\"nutrition--value nutrition--fibre\")\n",
    "\n",
    "        # protein\n",
    "        protein = soup.find_all(\"span\", class_=\"nutrition--value nutrition--protein\")\n",
    "\n",
    "        # salt\n",
    "        salt = soup.find_all(\"span\", class_=\"nutrition--value nutrition--salt\")\n",
    "\n",
    "        \n",
    "        for i in [price, kcal, fat, sat_fat, carbs, sugar, fibre, protein, salt]:\n",
    "            for j in range(len(i)):\n",
    "                i[j] = i[j].getText()\n",
    "                \n",
    "        \n",
    "        # weight\n",
    "        weight = soup.find_all(\"td\", class_=\"base-info--content\")      \n",
    "                \n",
    "        # ingredients\n",
    "        ingredients = soup.find_all(\"span\", class_=\"base-info--label\")\n",
    "        \n",
    "        \n",
    "        # photo\n",
    "        photo = soup.find_all(\"span\", class_=\"image--media\")\n",
    "        \n",
    "        photo_link = photo[0].img.get(\"scr\")\n",
    "        \n",
    "        return price, kcal, fat, sat_fat, carbs, sugar, fibre, protein, salt, photo_link\n",
    "    \n",
    "        # still need to work on weight + ingredients!!"
   ]
  },
  {
   "cell_type": "code",
   "execution_count": 106,
   "id": "d58397c0-0ec6-4416-8ce0-63fc16962510",
   "metadata": {},
   "outputs": [
    {
     "data": {
      "text/plain": [
       "(['\\n\\n14,00\\xa0€\\n'],\n",
       " ['1535                                   / 362'],\n",
       " ['1,9 g'],\n",
       " ['0,4 g'],\n",
       " ['28,2 g'],\n",
       " ['9,1 g'],\n",
       " ['1,8 g'],\n",
       " ['58 g'],\n",
       " ['2,7 g'],\n",
       " None)"
      ]
     },
     "execution_count": 106,
     "metadata": {},
     "output_type": "execute_result"
    }
   ],
   "source": [
    "scraping_details(links=['https://www.korodrogerie.de/soja-protein-crispies-58-mit-kakao-1-kg'])"
   ]
  },
  {
   "cell_type": "code",
   "execution_count": null,
   "id": "8ffc4948-e4ac-41ba-a3a6-27cca7da9733",
   "metadata": {},
   "outputs": [],
   "source": []
  },
  {
   "cell_type": "code",
   "execution_count": null,
   "id": "467403fa-bd35-4b6d-994f-b89e1df43e96",
   "metadata": {},
   "outputs": [],
   "source": [
    "def creating_lists()"
   ]
  }
 ],
 "metadata": {
  "kernelspec": {
   "display_name": "Python 3",
   "language": "python",
   "name": "python3"
  },
  "language_info": {
   "codemirror_mode": {
    "name": "ipython",
    "version": 3
   },
   "file_extension": ".py",
   "mimetype": "text/x-python",
   "name": "python",
   "nbconvert_exporter": "python",
   "pygments_lexer": "ipython3",
   "version": "3.9.6"
  }
 },
 "nbformat": 4,
 "nbformat_minor": 5
}
