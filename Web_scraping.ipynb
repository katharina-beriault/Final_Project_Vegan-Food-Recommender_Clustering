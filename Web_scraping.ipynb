{
 "cells": [
  {
   "cell_type": "markdown",
   "id": "eda2608d-b6c3-4e5d-8f13-4f7eecfb3522",
   "metadata": {},
   "source": [
    "# Web Scraping"
   ]
  },
  {
   "cell_type": "markdown",
   "id": "901d2ffa-3008-4f6a-9e6b-58f036a48d4a",
   "metadata": {},
   "source": [
    "## Importing libraries"
   ]
  },
  {
   "cell_type": "code",
   "execution_count": 1,
   "id": "6fd1b49a-3123-4c45-9364-dce15bbf6ff5",
   "metadata": {},
   "outputs": [],
   "source": [
    "from bs4 import BeautifulSoup\n",
    "import requests\n",
    "import pandas as pd"
   ]
  },
  {
   "cell_type": "markdown",
   "id": "f3874fb7-768a-4bcb-a0d0-e1e4fb7d12f3",
   "metadata": {},
   "source": [
    "## Overview"
   ]
  },
  {
   "cell_type": "markdown",
   "id": "bcb58c80-e3cb-40fa-88dc-673d0e71a9c6",
   "metadata": {},
   "source": [
    "|\tProduktname\t|\tMarke\t|\tPreis\t|\tGewicht\t|\tBrennwert\t|\tFett\t|\tgesättigte Fettsäuren\t|\tKohlehydrate\t|\tZucker\t|\tBallaststoffe\t|\tEiweiß\t|\tSalz\t|\tZutaten\t|\tFotolink\t|\n",
    "|\t:----------\t|\t:----------\t|\t:---------:\t|\t:---------:\t|\t:---------:\t|\t:---------:\t|\t:---------:\t|\t:---------:\t|\t:---------:\t|\t:---------:\t|\t:---------:\t|\t:---------:\t|\t:---------:\t|\t:---------:\t|\n",
    "|\tproduct name\t|\tbrand\t|\tprice\t|\tweight\t|\t\t|\tfat\t|\tsaturated fat\t|\tcarbs\t|\tsugar\t|\t\t|\tprotein\t|\tsalt\t|\tingredients\t|\tpicture link\t|\n",
    "|\te.g. Snack bar\t|\t\t|\tin EUR\t|\tin gr/kg\t|\tin kj/kcal\t|\tin gr\t|\tin gr\t|\tin gr\t|\tin gr\t|\tin gr\t|\tin gr\t|\tin gr\t|\t\t|\t\t|"
   ]
  },
  {
   "cell_type": "markdown",
   "id": "f57306da-2832-4ffb-8912-6f97a47065cc",
   "metadata": {},
   "source": [
    "**List of websites:**\n",
    "- Koro: https://www.korodrogerie.de/snacks/?p=1&o=2&n=144&f=233\n",
    "- Vantastic foods: https://www.vantastic-foods.com/vegane-lebensmittel/snacks-und-suesswaren\n",
    "- Kokku: https://kokku-online.de/vegane-suessigkeiten-snacks/\n",
    "- Foodist: https://www.foodist.de/suesses-snacks?p=1&o=9&n=84&f=36"
   ]
  },
  {
   "cell_type": "markdown",
   "id": "7124e244-98f4-4caa-a110-5810aea5e396",
   "metadata": {},
   "source": [
    "## Web Scraping"
   ]
  },
  {
   "cell_type": "markdown",
   "id": "6e47043e-9af7-4e52-abc0-44b1d6105061",
   "metadata": {},
   "source": [
    "### Koro"
   ]
  },
  {
   "cell_type": "markdown",
   "id": "29d63a3b-c50c-4a8b-bec3-f1b45e56115d",
   "metadata": {},
   "source": [
    "#### Getting product links"
   ]
  },
  {
   "cell_type": "code",
   "execution_count": 2,
   "id": "fc19b8c7-46bb-4eb5-990b-a13870820f09",
   "metadata": {},
   "outputs": [
    {
     "data": {
      "text/plain": [
       "200"
      ]
     },
     "execution_count": 2,
     "metadata": {},
     "output_type": "execute_result"
    }
   ],
   "source": [
    "# storing url in a variable\n",
    "url = \"https://www.korodrogerie.de/snacks/?p=1&o=2&n=144&f=233\"\n",
    "\n",
    "# downloading html-code with a get request\n",
    "response = requests.get(url)\n",
    "response.status_code"
   ]
  },
  {
   "cell_type": "code",
   "execution_count": 3,
   "id": "a9edae46-0948-46b8-8e3b-437748183c5d",
   "metadata": {},
   "outputs": [],
   "source": [
    "# parsing html (creating the 'soup')\n",
    "soup = BeautifulSoup(response.content, \"html.parser\")"
   ]
  },
  {
   "cell_type": "code",
   "execution_count": 41,
   "id": "ccffc046-9103-4b91-aee3-ffa84c86249e",
   "metadata": {},
   "outputs": [],
   "source": [
    "# retrieving/extracting the desired info\n",
    "\n",
    "# general product info\n",
    "product_info = soup.find_all(\"div\", class_=\"product--info\")"
   ]
  },
  {
   "cell_type": "code",
   "execution_count": 42,
   "id": "67e8162f-f2d2-4948-a420-35834bba1b4d",
   "metadata": {},
   "outputs": [
    {
     "data": {
      "text/plain": [
       "'https://www.korodrogerie.de/soja-protein-crispies-58-mit-kakao-1-kg'"
      ]
     },
     "execution_count": 42,
     "metadata": {},
     "output_type": "execute_result"
    }
   ],
   "source": [
    "# product links\n",
    "product_info[0].a.get(\"href\")"
   ]
  },
  {
   "cell_type": "code",
   "execution_count": 43,
   "id": "461909fe-e2ca-4d52-bdff-62819d72195d",
   "metadata": {},
   "outputs": [],
   "source": [
    "links = []\n",
    "for p in product_info:\n",
    "    link = p.a.get(\"href\")\n",
    "    links.append(link)"
   ]
  },
  {
   "cell_type": "code",
   "execution_count": 53,
   "id": "029d746f-19f5-4a36-80a9-4220f94bfdcb",
   "metadata": {},
   "outputs": [
    {
     "data": {
      "text/plain": [
       "'Soja Protein Crispies 58\\xa0% mit Kakao 1\\xa0kg'"
      ]
     },
     "execution_count": 53,
     "metadata": {},
     "output_type": "execute_result"
    }
   ],
   "source": [
    "# product name\n",
    "product_info[0].a.get(\"title\")"
   ]
  },
  {
   "cell_type": "code",
   "execution_count": 55,
   "id": "9af36ee1-524a-45be-a76a-0d30fa0c854d",
   "metadata": {},
   "outputs": [],
   "source": [
    "names = []\n",
    "for p in product_info:\n",
    "    name = p.a.get(\"title\")\n",
    "    names.append(name)"
   ]
  },
  {
   "cell_type": "code",
   "execution_count": 57,
   "id": "86ed14c4-690e-4803-8637-8b1de4e370d2",
   "metadata": {},
   "outputs": [
    {
     "data": {
      "text/plain": [
       "(100, 100, 100)"
      ]
     },
     "execution_count": 57,
     "metadata": {},
     "output_type": "execute_result"
    }
   ],
   "source": [
    "len(product_link), len(names), len(links)"
   ]
  },
  {
   "cell_type": "code",
   "execution_count": 116,
   "id": "a9732f2f-a226-4835-891e-02ec8428d0e6",
   "metadata": {},
   "outputs": [],
   "source": [
    "# Building a dataframe\n",
    "\n",
    "product_overview = pd.DataFrame(\n",
    "    {\"product\": names,\n",
    "     \"link\": links})"
   ]
  },
  {
   "cell_type": "code",
   "execution_count": 117,
   "id": "5152a07d-ee49-44ad-9ed4-6f4f8ddace8b",
   "metadata": {},
   "outputs": [
    {
     "data": {
      "text/html": [
       "<div>\n",
       "<style scoped>\n",
       "    .dataframe tbody tr th:only-of-type {\n",
       "        vertical-align: middle;\n",
       "    }\n",
       "\n",
       "    .dataframe tbody tr th {\n",
       "        vertical-align: top;\n",
       "    }\n",
       "\n",
       "    .dataframe thead th {\n",
       "        text-align: right;\n",
       "    }\n",
       "</style>\n",
       "<table border=\"1\" class=\"dataframe\">\n",
       "  <thead>\n",
       "    <tr style=\"text-align: right;\">\n",
       "      <th></th>\n",
       "      <th>product</th>\n",
       "      <th>link</th>\n",
       "    </tr>\n",
       "  </thead>\n",
       "  <tbody>\n",
       "    <tr>\n",
       "      <th>0</th>\n",
       "      <td>Soja Protein Crispies 58 % mit Kakao 1 kg</td>\n",
       "      <td>https://www.korodrogerie.de/soja-protein-crisp...</td>\n",
       "    </tr>\n",
       "    <tr>\n",
       "      <th>1</th>\n",
       "      <td>Schokodrops mit Xylit 1 kg</td>\n",
       "      <td>https://www.korodrogerie.de/schokodrops-mit-xy...</td>\n",
       "    </tr>\n",
       "    <tr>\n",
       "      <th>2</th>\n",
       "      <td>Schoko Protein Crunchies ohne Zuckerzusatz 1 kg</td>\n",
       "      <td>https://www.korodrogerie.de/schoko-protein-cru...</td>\n",
       "    </tr>\n",
       "    <tr>\n",
       "      <th>3</th>\n",
       "      <td>Soja Protein Crispies 60 % 1 kg</td>\n",
       "      <td>https://www.korodrogerie.de/soja-protein-crisp...</td>\n",
       "    </tr>\n",
       "    <tr>\n",
       "      <th>4</th>\n",
       "      <td>Bohnen-Erbsen-Mix geröstet &amp; gesalzen 1 kg</td>\n",
       "      <td>https://www.korodrogerie.de/bohnen-erbsen-mix-...</td>\n",
       "    </tr>\n",
       "    <tr>\n",
       "      <th>...</th>\n",
       "      <td>...</td>\n",
       "      <td>...</td>\n",
       "    </tr>\n",
       "    <tr>\n",
       "      <th>95</th>\n",
       "      <td>Bio Geile Schnitte Schokolade 10 x 30 g</td>\n",
       "      <td>https://www.korodrogerie.de/bio-geile-schnitte...</td>\n",
       "    </tr>\n",
       "    <tr>\n",
       "      <th>96</th>\n",
       "      <td>Bio Nut Butter Bar Peanut 12 x 30 g</td>\n",
       "      <td>https://www.korodrogerie.de/bio-nut-butter-bar...</td>\n",
       "    </tr>\n",
       "    <tr>\n",
       "      <th>97</th>\n",
       "      <td>Bio Nut Butter Bar Hazelnut 12 x 30 g</td>\n",
       "      <td>https://www.korodrogerie.de/bio-nut-butter-bar...</td>\n",
       "    </tr>\n",
       "    <tr>\n",
       "      <th>98</th>\n",
       "      <td>Bio Energy Ball Haselnuss 15 x 30 g</td>\n",
       "      <td>https://www.korodrogerie.de/bio-energy-ball-ha...</td>\n",
       "    </tr>\n",
       "    <tr>\n",
       "      <th>99</th>\n",
       "      <td>Bio Energy Ball Pistazie 15 x 30 g</td>\n",
       "      <td>https://www.korodrogerie.de/bio-energy-ball-pi...</td>\n",
       "    </tr>\n",
       "  </tbody>\n",
       "</table>\n",
       "<p>100 rows × 2 columns</p>\n",
       "</div>"
      ],
      "text/plain": [
       "                                            product  \\\n",
       "0         Soja Protein Crispies 58 % mit Kakao 1 kg   \n",
       "1                        Schokodrops mit Xylit 1 kg   \n",
       "2   Schoko Protein Crunchies ohne Zuckerzusatz 1 kg   \n",
       "3                   Soja Protein Crispies 60 % 1 kg   \n",
       "4        Bohnen-Erbsen-Mix geröstet & gesalzen 1 kg   \n",
       "..                                              ...   \n",
       "95          Bio Geile Schnitte Schokolade 10 x 30 g   \n",
       "96              Bio Nut Butter Bar Peanut 12 x 30 g   \n",
       "97            Bio Nut Butter Bar Hazelnut 12 x 30 g   \n",
       "98              Bio Energy Ball Haselnuss 15 x 30 g   \n",
       "99               Bio Energy Ball Pistazie 15 x 30 g   \n",
       "\n",
       "                                                 link  \n",
       "0   https://www.korodrogerie.de/soja-protein-crisp...  \n",
       "1   https://www.korodrogerie.de/schokodrops-mit-xy...  \n",
       "2   https://www.korodrogerie.de/schoko-protein-cru...  \n",
       "3   https://www.korodrogerie.de/soja-protein-crisp...  \n",
       "4   https://www.korodrogerie.de/bohnen-erbsen-mix-...  \n",
       "..                                                ...  \n",
       "95  https://www.korodrogerie.de/bio-geile-schnitte...  \n",
       "96  https://www.korodrogerie.de/bio-nut-butter-bar...  \n",
       "97  https://www.korodrogerie.de/bio-nut-butter-bar...  \n",
       "98  https://www.korodrogerie.de/bio-energy-ball-ha...  \n",
       "99  https://www.korodrogerie.de/bio-energy-ball-pi...  \n",
       "\n",
       "[100 rows x 2 columns]"
      ]
     },
     "execution_count": 117,
     "metadata": {},
     "output_type": "execute_result"
    }
   ],
   "source": [
    "product_overview"
   ]
  },
  {
   "cell_type": "markdown",
   "id": "47823fef-4b87-4936-b49f-7a0a6ff4828d",
   "metadata": {},
   "source": [
    "#### Getting all product infos"
   ]
  },
  {
   "cell_type": "code",
   "execution_count": 66,
   "id": "6bcbd905-5d2f-4d9b-a793-40c2e5a15fd0",
   "metadata": {},
   "outputs": [
    {
     "data": {
      "text/plain": [
       "200"
      ]
     },
     "execution_count": 66,
     "metadata": {},
     "output_type": "execute_result"
    }
   ],
   "source": [
    "# storing url in a variable\n",
    "url = \"https://www.korodrogerie.de/soja-protein-crispies-58-mit-kakao-1-kg\"\n",
    "\n",
    "# downloading html-code with a get request\n",
    "response = requests.get(url)\n",
    "response.status_code"
   ]
  },
  {
   "cell_type": "code",
   "execution_count": 67,
   "id": "053b64ad-f681-45ee-8726-7c9ca52c4e4f",
   "metadata": {},
   "outputs": [],
   "source": [
    "soup = BeautifulSoup(response.content, \"html.parser\")"
   ]
  },
  {
   "cell_type": "code",
   "execution_count": 97,
   "id": "c030e032-1818-435d-a628-9fa46b3dacc6",
   "metadata": {},
   "outputs": [],
   "source": [
    "# price\n",
    "price = soup.find_all(\"span\", class_=\"price--content content--default\")\n",
    "\n",
    "# weight\n",
    "weight = soup.find_all(\"td\", class_=\"base-info--content\")\n",
    "\n",
    "# kcal\n",
    "kcal = soup.find_all(\"span\", class_=\"nutrition--value nutrition--energy\")\n",
    "\n",
    "# fat\n",
    "fat = soup.find_all(\"span\", class_=\"nutrition--value nutrition--fat\")\n",
    "\n",
    "# sat_fat\n",
    "sat_fat = soup.find_all(\"span\", class_=\"nutrition--value nutrition--saturates\")\n",
    "\n",
    "# carbs\n",
    "carbs = soup.find_all(\"span\", class_=\"nutrition--value nutrition--carbohydrate\")\n",
    "\n",
    "# sugar\n",
    "sugar = soup.find_all(\"span\", class_=\"nutrition--value nutrition--sugars\")\n",
    "\n",
    "# fibre\n",
    "fibre = soup.find_all(\"span\", class_=\"nutrition--value nutrition--fibre\")\n",
    "\n",
    "# protein\n",
    "protein = soup.find_all(\"span\", class_=\"nutrition--value nutrition--protein\")\n",
    "\n",
    "# salt\n",
    "salt = soup.find_all(\"span\", class_=\"nutrition--value nutrition--salt\")\n",
    "\n",
    "# ingredients\n",
    "ingredients = soup.find_all(\"span\", class_=\"base-info--label\")\n",
    "\n",
    "# photo\n",
    "photo = soup.find_all(\"span\", class_=\"image--media\")"
   ]
  },
  {
   "cell_type": "code",
   "execution_count": 110,
   "id": "e709f4a0-f803-4ac5-9c1c-6935dda2c0b3",
   "metadata": {},
   "outputs": [
    {
     "data": {
      "text/plain": [
       "'https://koro2.imgix.net/media/image/f1/50/81/CRIS_005_01E3j9hQ8K66BPv.jpg?auto=compress%2Cformat&w=900&h=900'"
      ]
     },
     "execution_count": 110,
     "metadata": {},
     "output_type": "execute_result"
    }
   ],
   "source": [
    "# how to get photo link\n",
    "photo_link = photo[0].img.get(\"src\")\n",
    "photo_link"
   ]
  },
  {
   "cell_type": "code",
   "execution_count": null,
   "id": "aa806fa4-bce2-47b3-81f1-92367220d8f2",
   "metadata": {},
   "outputs": [],
   "source": []
  },
  {
   "cell_type": "code",
   "execution_count": null,
   "id": "7fcc242f-639c-4ef3-86e6-4dc16473d7df",
   "metadata": {},
   "outputs": [],
   "source": []
  },
  {
   "cell_type": "code",
   "execution_count": null,
   "id": "8436d359-19f3-490f-9840-78e73f55219e",
   "metadata": {},
   "outputs": [],
   "source": []
  },
  {
   "cell_type": "code",
   "execution_count": 166,
   "id": "8db852be-8028-47f7-a425-4ee091c2b2d1",
   "metadata": {},
   "outputs": [],
   "source": [
    "def scraping_details(links=[]):\n",
    "    \n",
    "    lst_price = []\n",
    "    lst_weight = []\n",
    "    lst_kcal = []\n",
    "    lst_fat = []\n",
    "    lst_sat_fat = []\n",
    "    lst_carbs = []\n",
    "    lst_sugar = []\n",
    "    lst_fibre = []\n",
    "    lst_protein = []\n",
    "    lst_salt = []\n",
    "    lst_ingredients = []\n",
    "    lst_photos = []\n",
    "    \n",
    "    for l in links:\n",
    "        \n",
    "        url = l\n",
    "        response = requests.get(url)\n",
    "        \n",
    "        soup = BeautifulSoup(response.content, \"html.parser\")\n",
    "        \n",
    "        # price\n",
    "        price = soup.find_all(\"span\", class_=\"price--content content--default\")\n",
    "\n",
    "        # kcal\n",
    "        kcal = soup.find_all(\"span\", class_=\"nutrition--value nutrition--energy\")\n",
    "\n",
    "        # fat\n",
    "        fat = soup.find_all(\"span\", class_=\"nutrition--value nutrition--fat\")\n",
    "\n",
    "        # sat_fat\n",
    "        sat_fat = soup.find_all(\"span\", class_=\"nutrition--value nutrition--saturates\")\n",
    "\n",
    "        # carbs\n",
    "        carbs = soup.find_all(\"span\", class_=\"nutrition--value nutrition--carbohydrate\")\n",
    "\n",
    "        # sugar\n",
    "        sugar = soup.find_all(\"span\", class_=\"nutrition--value nutrition--sugars\")\n",
    "\n",
    "        # fibre\n",
    "        fibre = soup.find_all(\"span\", class_=\"nutrition--value nutrition--fibre\")\n",
    "\n",
    "        # protein\n",
    "        protein = soup.find_all(\"span\", class_=\"nutrition--value nutrition--protein\")\n",
    "\n",
    "        # salt\n",
    "        salt = soup.find_all(\"span\", class_=\"nutrition--value nutrition--salt\")\n",
    "        \n",
    "        # photo\n",
    "        photo = soup.find_all(\"span\", class_=\"image--media\")\n",
    "\n",
    "\n",
    "        # getting text for all necessary features\n",
    "        for i in [price, kcal, fat, sat_fat, carbs, sugar, fibre, protein, salt]:\n",
    "            for j in range(len(i)):\n",
    "                i[j] = i[j].getText()\n",
    "         \n",
    "        # getting photo link\n",
    "        photo_link = photo[0].img.get(\"scr\")\n",
    "        \n",
    "        \n",
    "        lst_price.append(price)\n",
    "        # lst_weight.append(price)\n",
    "        lst_kcal.append(kcal)\n",
    "        lst_fat.append(fat)\n",
    "        lst_sat_fat.append(sat_fat)\n",
    "        lst_carbs.append(carbs)\n",
    "        lst_sugar.append(sugar)\n",
    "        lst_fibre.append(fibre)\n",
    "        lst_protein.append(protein)\n",
    "        lst_salt.append(salt)\n",
    "        # lst_ingredients.append(price)\n",
    "        lst_photos.append(photo_link)\n",
    "        \n",
    "    \n",
    "        '''\n",
    "    \n",
    "        # still need to work on weight + ingredients!!\n",
    "        \n",
    "        # weight\n",
    "        weight = soup.find_all(\"td\", class_=\"base-info--content\")      \n",
    "                \n",
    "        # ingredients\n",
    "        ingredients = soup.find_all(\"span\", class_=\"base-info--label\")\n",
    "        \n",
    "        '''\n",
    "        \n",
    "    return lst_price, lst_kcal, lst_fat, lst_sat_fat, lst_carbs, lst_sugar, lst_fibre, lst_protein, lst_salt, lst_photos\n"
   ]
  },
  {
   "cell_type": "code",
   "execution_count": 167,
   "id": "d58397c0-0ec6-4416-8ce0-63fc16962510",
   "metadata": {},
   "outputs": [
    {
     "data": {
      "text/plain": [
       "([['\\n\\n14,00\\xa0€\\n']],\n",
       " [['1535                                   / 362']],\n",
       " [['1,9 g']],\n",
       " [['0,4 g']],\n",
       " [['28,2 g']],\n",
       " [['9,1 g']],\n",
       " [['1,8 g']],\n",
       " [['58 g']],\n",
       " [['2,7 g']],\n",
       " [None])"
      ]
     },
     "execution_count": 167,
     "metadata": {},
     "output_type": "execute_result"
    }
   ],
   "source": [
    "product_1 = scraping_details(links=['https://www.korodrogerie.de/soja-protein-crispies-58-mit-kakao-1-kg'])\n",
    "product_1"
   ]
  },
  {
   "cell_type": "code",
   "execution_count": 168,
   "id": "f1c099c1-a09a-4b1f-bf25-1c4740b50d84",
   "metadata": {},
   "outputs": [
    {
     "data": {
      "text/plain": [
       "([['\\n\\n21,00\\xa0€\\n']],\n",
       " [['2290                                   / 555']],\n",
       " [['46 g']],\n",
       " [['28 g']],\n",
       " [['31 g']],\n",
       " [['1,0 g', '25 g']],\n",
       " [['10 g']],\n",
       " [['9,2 g']],\n",
       " [['0,07 g']],\n",
       " [None])"
      ]
     },
     "execution_count": 168,
     "metadata": {},
     "output_type": "execute_result"
    }
   ],
   "source": [
    "product_2 = scraping_details(links=['https://www.korodrogerie.de/schokodrops-mit-xylit-1-kg'])\n",
    "product_2"
   ]
  },
  {
   "cell_type": "code",
   "execution_count": 169,
   "id": "070a396e-1438-4d24-b0db-bc6af481c662",
   "metadata": {},
   "outputs": [
    {
     "data": {
      "text/plain": [
       "([['\\n\\n14,00\\xa0€\\n'], ['\\n\\n21,00\\xa0€\\n']],\n",
       " [['1535                                   / 362'],\n",
       "  ['2290                                   / 555']],\n",
       " [['1,9 g'], ['46 g']],\n",
       " [['0,4 g'], ['28 g']],\n",
       " [['28,2 g'], ['31 g']],\n",
       " [['9,1 g'], ['1,0 g', '25 g']],\n",
       " [['1,8 g'], ['10 g']],\n",
       " [['58 g'], ['9,2 g']],\n",
       " [['2,7 g'], ['0,07 g']],\n",
       " [None, None])"
      ]
     },
     "execution_count": 169,
     "metadata": {},
     "output_type": "execute_result"
    }
   ],
   "source": [
    "two_products = scraping_details(links=['https://www.korodrogerie.de/soja-protein-crispies-58-mit-kakao-1-kg', 'https://www.korodrogerie.de/schokodrops-mit-xylit-1-kg'])\n",
    "two_products"
   ]
  },
  {
   "cell_type": "code",
   "execution_count": 178,
   "id": "8ffc4948-e4ac-41ba-a3a6-27cca7da9733",
   "metadata": {},
   "outputs": [],
   "source": [
    "def creating_df(links=[]):\n",
    "    \n",
    "    scraping_details(links=links)\n",
    "    \n",
    "    details = pd.DataFrame(\n",
    "    {\"links\": links,\n",
    "     \"price\": lst_price,\n",
    "     \"kcal\": lst_kcal,\n",
    "     \"fat\": lst_fat,\n",
    "     \"sat_fat\": lst_sat_fat,\n",
    "     \"carbs\": lst_carbs,\n",
    "     \"sugar\": lst_sugar,\n",
    "     \"fibre\": lst_fibre,\n",
    "     \"protein\": lst_protein,\n",
    "     \"salt\": lst_salt,\n",
    "     \"photo_link\": lst_photos}\n",
    "        )\n",
    "    return details"
   ]
  },
  {
   "cell_type": "code",
   "execution_count": 179,
   "id": "1a540c3e-590f-47d3-8587-8a0fe0f8e0bd",
   "metadata": {},
   "outputs": [
    {
     "ename": "NameError",
     "evalue": "name 'lst_price' is not defined",
     "output_type": "error",
     "traceback": [
      "\u001b[1;31m---------------------------------------------------------------------------\u001b[0m",
      "\u001b[1;31mNameError\u001b[0m                                 Traceback (most recent call last)",
      "\u001b[1;32m<ipython-input-179-3fa9bd0feb6a>\u001b[0m in \u001b[0;36m<module>\u001b[1;34m\u001b[0m\n\u001b[1;32m----> 1\u001b[1;33m \u001b[0mcreating_df\u001b[0m\u001b[1;33m(\u001b[0m\u001b[0mlinks\u001b[0m\u001b[1;33m=\u001b[0m\u001b[1;33m[\u001b[0m\u001b[1;34m'https://www.korodrogerie.de/soja-protein-crispies-58-mit-kakao-1-kg'\u001b[0m\u001b[1;33m]\u001b[0m\u001b[1;33m)\u001b[0m\u001b[1;33m\u001b[0m\u001b[1;33m\u001b[0m\u001b[0m\n\u001b[0m",
      "\u001b[1;32m<ipython-input-178-cac485506452>\u001b[0m in \u001b[0;36mcreating_df\u001b[1;34m(links)\u001b[0m\n\u001b[0;32m      5\u001b[0m     details = pd.DataFrame(\n\u001b[0;32m      6\u001b[0m     {\"links\": links,\n\u001b[1;32m----> 7\u001b[1;33m      \u001b[1;34m\"price\"\u001b[0m\u001b[1;33m:\u001b[0m \u001b[0mlst_price\u001b[0m\u001b[1;33m,\u001b[0m\u001b[1;33m\u001b[0m\u001b[1;33m\u001b[0m\u001b[0m\n\u001b[0m\u001b[0;32m      8\u001b[0m      \u001b[1;34m\"kcal\"\u001b[0m\u001b[1;33m:\u001b[0m \u001b[0mlst_kcal\u001b[0m\u001b[1;33m,\u001b[0m\u001b[1;33m\u001b[0m\u001b[1;33m\u001b[0m\u001b[0m\n\u001b[0;32m      9\u001b[0m      \u001b[1;34m\"fat\"\u001b[0m\u001b[1;33m:\u001b[0m \u001b[0mlst_fat\u001b[0m\u001b[1;33m,\u001b[0m\u001b[1;33m\u001b[0m\u001b[1;33m\u001b[0m\u001b[0m\n",
      "\u001b[1;31mNameError\u001b[0m: name 'lst_price' is not defined"
     ]
    }
   ],
   "source": [
    "creating_df(links=['https://www.korodrogerie.de/soja-protein-crispies-58-mit-kakao-1-kg'])"
   ]
  },
  {
   "cell_type": "code",
   "execution_count": 172,
   "id": "91141f67-76eb-4e6e-b9f3-043425d67c2d",
   "metadata": {},
   "outputs": [
    {
     "data": {
      "text/html": [
       "<div>\n",
       "<style scoped>\n",
       "    .dataframe tbody tr th:only-of-type {\n",
       "        vertical-align: middle;\n",
       "    }\n",
       "\n",
       "    .dataframe tbody tr th {\n",
       "        vertical-align: top;\n",
       "    }\n",
       "\n",
       "    .dataframe thead th {\n",
       "        text-align: right;\n",
       "    }\n",
       "</style>\n",
       "<table border=\"1\" class=\"dataframe\">\n",
       "  <thead>\n",
       "    <tr style=\"text-align: right;\">\n",
       "      <th></th>\n",
       "      <th>links</th>\n",
       "      <th>price</th>\n",
       "      <th>kcal</th>\n",
       "      <th>fat</th>\n",
       "      <th>sat_fat</th>\n",
       "      <th>carbs</th>\n",
       "      <th>sugar</th>\n",
       "      <th>fibre</th>\n",
       "      <th>protein</th>\n",
       "      <th>salt</th>\n",
       "      <th>photo_link</th>\n",
       "    </tr>\n",
       "  </thead>\n",
       "  <tbody>\n",
       "    <tr>\n",
       "      <th>0</th>\n",
       "      <td>https://www.korodrogerie.de/schokodrops-mit-xy...</td>\n",
       "      <td>[\\n, [], \\n14,00 €\\n]</td>\n",
       "      <td>[1535                                   / 362]</td>\n",
       "      <td>[1,9 g]</td>\n",
       "      <td>[0,4 g]</td>\n",
       "      <td>[28,2 g]</td>\n",
       "      <td>[9,1 g]</td>\n",
       "      <td>[1,8 g]</td>\n",
       "      <td>[58 g]</td>\n",
       "      <td>[2,7 g]</td>\n",
       "      <td>https://koro2.imgix.net/media/image/f1/50/81/C...</td>\n",
       "    </tr>\n",
       "  </tbody>\n",
       "</table>\n",
       "</div>"
      ],
      "text/plain": [
       "                                               links                  price  \\\n",
       "0  https://www.korodrogerie.de/schokodrops-mit-xy...  [\\n, [], \\n14,00 €\\n]   \n",
       "\n",
       "                                             kcal      fat  sat_fat     carbs  \\\n",
       "0  [1535                                   / 362]  [1,9 g]  [0,4 g]  [28,2 g]   \n",
       "\n",
       "     sugar    fibre protein     salt  \\\n",
       "0  [9,1 g]  [1,8 g]  [58 g]  [2,7 g]   \n",
       "\n",
       "                                          photo_link  \n",
       "0  https://koro2.imgix.net/media/image/f1/50/81/C...  "
      ]
     },
     "execution_count": 172,
     "metadata": {},
     "output_type": "execute_result"
    }
   ],
   "source": [
    "creating_df(links=['https://www.korodrogerie.de/schokodrops-mit-xylit-1-kg'])"
   ]
  },
  {
   "cell_type": "code",
   "execution_count": 173,
   "id": "467403fa-bd35-4b6d-994f-b89e1df43e96",
   "metadata": {},
   "outputs": [
    {
     "ename": "ValueError",
     "evalue": "array length 1 does not match index length 100",
     "output_type": "error",
     "traceback": [
      "\u001b[1;31m---------------------------------------------------------------------------\u001b[0m",
      "\u001b[1;31mValueError\u001b[0m                                Traceback (most recent call last)",
      "\u001b[1;32m<ipython-input-173-54213b9e69b9>\u001b[0m in \u001b[0;36m<module>\u001b[1;34m\u001b[0m\n\u001b[1;32m----> 1\u001b[1;33m \u001b[0mcreating_df\u001b[0m\u001b[1;33m(\u001b[0m\u001b[0mlinks\u001b[0m\u001b[1;33m=\u001b[0m\u001b[0mproduct_overview\u001b[0m\u001b[1;33m[\u001b[0m\u001b[1;34m'link'\u001b[0m\u001b[1;33m]\u001b[0m\u001b[1;33m)\u001b[0m\u001b[1;33m\u001b[0m\u001b[1;33m\u001b[0m\u001b[0m\n\u001b[0m",
      "\u001b[1;32m<ipython-input-170-8aed1840e640>\u001b[0m in \u001b[0;36mcreating_df\u001b[1;34m(links)\u001b[0m\n\u001b[0;32m      3\u001b[0m    \u001b[1;31m# scraping_details(links) ???\u001b[0m\u001b[1;33m\u001b[0m\u001b[1;33m\u001b[0m\u001b[1;33m\u001b[0m\u001b[0m\n\u001b[0;32m      4\u001b[0m \u001b[1;33m\u001b[0m\u001b[0m\n\u001b[1;32m----> 5\u001b[1;33m     details = pd.DataFrame(\n\u001b[0m\u001b[0;32m      6\u001b[0m     {\"links\": links,\n\u001b[0;32m      7\u001b[0m      \u001b[1;34m\"price\"\u001b[0m\u001b[1;33m:\u001b[0m \u001b[0mprice\u001b[0m\u001b[1;33m,\u001b[0m\u001b[1;33m\u001b[0m\u001b[1;33m\u001b[0m\u001b[0m\n",
      "\u001b[1;32mc:\\users\\katha\\appdata\\local\\programs\\python\\python39\\lib\\site-packages\\pandas\\core\\frame.py\u001b[0m in \u001b[0;36m__init__\u001b[1;34m(self, data, index, columns, dtype, copy)\u001b[0m\n\u001b[0;32m    527\u001b[0m \u001b[1;33m\u001b[0m\u001b[0m\n\u001b[0;32m    528\u001b[0m         \u001b[1;32melif\u001b[0m \u001b[0misinstance\u001b[0m\u001b[1;33m(\u001b[0m\u001b[0mdata\u001b[0m\u001b[1;33m,\u001b[0m \u001b[0mdict\u001b[0m\u001b[1;33m)\u001b[0m\u001b[1;33m:\u001b[0m\u001b[1;33m\u001b[0m\u001b[1;33m\u001b[0m\u001b[0m\n\u001b[1;32m--> 529\u001b[1;33m             \u001b[0mmgr\u001b[0m \u001b[1;33m=\u001b[0m \u001b[0minit_dict\u001b[0m\u001b[1;33m(\u001b[0m\u001b[0mdata\u001b[0m\u001b[1;33m,\u001b[0m \u001b[0mindex\u001b[0m\u001b[1;33m,\u001b[0m \u001b[0mcolumns\u001b[0m\u001b[1;33m,\u001b[0m \u001b[0mdtype\u001b[0m\u001b[1;33m=\u001b[0m\u001b[0mdtype\u001b[0m\u001b[1;33m)\u001b[0m\u001b[1;33m\u001b[0m\u001b[1;33m\u001b[0m\u001b[0m\n\u001b[0m\u001b[0;32m    530\u001b[0m         \u001b[1;32melif\u001b[0m \u001b[0misinstance\u001b[0m\u001b[1;33m(\u001b[0m\u001b[0mdata\u001b[0m\u001b[1;33m,\u001b[0m \u001b[0mma\u001b[0m\u001b[1;33m.\u001b[0m\u001b[0mMaskedArray\u001b[0m\u001b[1;33m)\u001b[0m\u001b[1;33m:\u001b[0m\u001b[1;33m\u001b[0m\u001b[1;33m\u001b[0m\u001b[0m\n\u001b[0;32m    531\u001b[0m             \u001b[1;32mimport\u001b[0m \u001b[0mnumpy\u001b[0m\u001b[1;33m.\u001b[0m\u001b[0mma\u001b[0m\u001b[1;33m.\u001b[0m\u001b[0mmrecords\u001b[0m \u001b[1;32mas\u001b[0m \u001b[0mmrecords\u001b[0m\u001b[1;33m\u001b[0m\u001b[1;33m\u001b[0m\u001b[0m\n",
      "\u001b[1;32mc:\\users\\katha\\appdata\\local\\programs\\python\\python39\\lib\\site-packages\\pandas\\core\\internals\\construction.py\u001b[0m in \u001b[0;36minit_dict\u001b[1;34m(data, index, columns, dtype)\u001b[0m\n\u001b[0;32m    285\u001b[0m             \u001b[0marr\u001b[0m \u001b[1;32mif\u001b[0m \u001b[1;32mnot\u001b[0m \u001b[0mis_datetime64tz_dtype\u001b[0m\u001b[1;33m(\u001b[0m\u001b[0marr\u001b[0m\u001b[1;33m)\u001b[0m \u001b[1;32melse\u001b[0m \u001b[0marr\u001b[0m\u001b[1;33m.\u001b[0m\u001b[0mcopy\u001b[0m\u001b[1;33m(\u001b[0m\u001b[1;33m)\u001b[0m \u001b[1;32mfor\u001b[0m \u001b[0marr\u001b[0m \u001b[1;32min\u001b[0m \u001b[0marrays\u001b[0m\u001b[1;33m\u001b[0m\u001b[1;33m\u001b[0m\u001b[0m\n\u001b[0;32m    286\u001b[0m         ]\n\u001b[1;32m--> 287\u001b[1;33m     \u001b[1;32mreturn\u001b[0m \u001b[0marrays_to_mgr\u001b[0m\u001b[1;33m(\u001b[0m\u001b[0marrays\u001b[0m\u001b[1;33m,\u001b[0m \u001b[0mdata_names\u001b[0m\u001b[1;33m,\u001b[0m \u001b[0mindex\u001b[0m\u001b[1;33m,\u001b[0m \u001b[0mcolumns\u001b[0m\u001b[1;33m,\u001b[0m \u001b[0mdtype\u001b[0m\u001b[1;33m=\u001b[0m\u001b[0mdtype\u001b[0m\u001b[1;33m)\u001b[0m\u001b[1;33m\u001b[0m\u001b[1;33m\u001b[0m\u001b[0m\n\u001b[0m\u001b[0;32m    288\u001b[0m \u001b[1;33m\u001b[0m\u001b[0m\n\u001b[0;32m    289\u001b[0m \u001b[1;33m\u001b[0m\u001b[0m\n",
      "\u001b[1;32mc:\\users\\katha\\appdata\\local\\programs\\python\\python39\\lib\\site-packages\\pandas\\core\\internals\\construction.py\u001b[0m in \u001b[0;36marrays_to_mgr\u001b[1;34m(arrays, arr_names, index, columns, dtype, verify_integrity)\u001b[0m\n\u001b[0;32m     78\u001b[0m         \u001b[1;31m# figure out the index, if necessary\u001b[0m\u001b[1;33m\u001b[0m\u001b[1;33m\u001b[0m\u001b[1;33m\u001b[0m\u001b[0m\n\u001b[0;32m     79\u001b[0m         \u001b[1;32mif\u001b[0m \u001b[0mindex\u001b[0m \u001b[1;32mis\u001b[0m \u001b[1;32mNone\u001b[0m\u001b[1;33m:\u001b[0m\u001b[1;33m\u001b[0m\u001b[1;33m\u001b[0m\u001b[0m\n\u001b[1;32m---> 80\u001b[1;33m             \u001b[0mindex\u001b[0m \u001b[1;33m=\u001b[0m \u001b[0mextract_index\u001b[0m\u001b[1;33m(\u001b[0m\u001b[0marrays\u001b[0m\u001b[1;33m)\u001b[0m\u001b[1;33m\u001b[0m\u001b[1;33m\u001b[0m\u001b[0m\n\u001b[0m\u001b[0;32m     81\u001b[0m         \u001b[1;32melse\u001b[0m\u001b[1;33m:\u001b[0m\u001b[1;33m\u001b[0m\u001b[1;33m\u001b[0m\u001b[0m\n\u001b[0;32m     82\u001b[0m             \u001b[0mindex\u001b[0m \u001b[1;33m=\u001b[0m \u001b[0mensure_index\u001b[0m\u001b[1;33m(\u001b[0m\u001b[0mindex\u001b[0m\u001b[1;33m)\u001b[0m\u001b[1;33m\u001b[0m\u001b[1;33m\u001b[0m\u001b[0m\n",
      "\u001b[1;32mc:\\users\\katha\\appdata\\local\\programs\\python\\python39\\lib\\site-packages\\pandas\\core\\internals\\construction.py\u001b[0m in \u001b[0;36mextract_index\u001b[1;34m(data)\u001b[0m\n\u001b[0;32m    413\u001b[0m                         \u001b[1;34mf\"length {len(index)}\"\u001b[0m\u001b[1;33m\u001b[0m\u001b[1;33m\u001b[0m\u001b[0m\n\u001b[0;32m    414\u001b[0m                     )\n\u001b[1;32m--> 415\u001b[1;33m                     \u001b[1;32mraise\u001b[0m \u001b[0mValueError\u001b[0m\u001b[1;33m(\u001b[0m\u001b[0mmsg\u001b[0m\u001b[1;33m)\u001b[0m\u001b[1;33m\u001b[0m\u001b[1;33m\u001b[0m\u001b[0m\n\u001b[0m\u001b[0;32m    416\u001b[0m             \u001b[1;32melse\u001b[0m\u001b[1;33m:\u001b[0m\u001b[1;33m\u001b[0m\u001b[1;33m\u001b[0m\u001b[0m\n\u001b[0;32m    417\u001b[0m                 \u001b[0mindex\u001b[0m \u001b[1;33m=\u001b[0m \u001b[0mibase\u001b[0m\u001b[1;33m.\u001b[0m\u001b[0mdefault_index\u001b[0m\u001b[1;33m(\u001b[0m\u001b[0mlengths\u001b[0m\u001b[1;33m[\u001b[0m\u001b[1;36m0\u001b[0m\u001b[1;33m]\u001b[0m\u001b[1;33m)\u001b[0m\u001b[1;33m\u001b[0m\u001b[1;33m\u001b[0m\u001b[0m\n",
      "\u001b[1;31mValueError\u001b[0m: array length 1 does not match index length 100"
     ]
    }
   ],
   "source": [
    "creating_df(links=product_overview['link'])"
   ]
  },
  {
   "cell_type": "code",
   "execution_count": null,
   "id": "a7f53008-17de-4b82-a331-19c482052739",
   "metadata": {},
   "outputs": [],
   "source": []
  }
 ],
 "metadata": {
  "kernelspec": {
   "display_name": "Python 3",
   "language": "python",
   "name": "python3"
  },
  "language_info": {
   "codemirror_mode": {
    "name": "ipython",
    "version": 3
   },
   "file_extension": ".py",
   "mimetype": "text/x-python",
   "name": "python",
   "nbconvert_exporter": "python",
   "pygments_lexer": "ipython3",
   "version": "3.9.6"
  }
 },
 "nbformat": 4,
 "nbformat_minor": 5
}
