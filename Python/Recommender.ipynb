{
 "cells": [
  {
   "cell_type": "markdown",
   "id": "af6b6712-69dc-4ae0-bbf1-ab3183584549",
   "metadata": {},
   "source": [
    "# Recommender Function"
   ]
  },
  {
   "cell_type": "markdown",
   "id": "b44d34ce-994a-48b8-8bdb-fd2d3a5da2c4",
   "metadata": {},
   "source": [
    "## Libaries"
   ]
  },
  {
   "cell_type": "code",
   "execution_count": 16,
   "id": "429c672e-64df-4d4a-94d3-c9d544b86883",
   "metadata": {},
   "outputs": [
    {
     "name": "stderr",
     "output_type": "stream",
     "text": [
      "c:\\users\\katha\\appdata\\local\\programs\\python\\python39\\lib\\site-packages\\fuzzywuzzy\\fuzz.py:11: UserWarning: Using slow pure-python SequenceMatcher. Install python-Levenshtein to remove this warning\n",
      "  warnings.warn('Using slow pure-python SequenceMatcher. Install python-Levenshtein to remove this warning')\n"
     ]
    }
   ],
   "source": [
    "from fuzzywuzzy import process\n",
    "import pandas as pd"
   ]
  },
  {
   "cell_type": "markdown",
   "id": "9c5b5898-4d79-4316-9e44-49b49c4e6412",
   "metadata": {},
   "source": [
    "## Loading the data"
   ]
  },
  {
   "cell_type": "code",
   "execution_count": 8,
   "id": "0f603948-074b-4cff-925d-1e176c6f1c5f",
   "metadata": {},
   "outputs": [],
   "source": [
    "df = pd.read_csv('df_clusters.csv')"
   ]
  },
  {
   "cell_type": "code",
   "execution_count": 9,
   "id": "d5acbb4c-3516-4c24-a237-93316d687870",
   "metadata": {},
   "outputs": [
    {
     "data": {
      "text/plain": [
       "(1232, 20)"
      ]
     },
     "execution_count": 9,
     "metadata": {},
     "output_type": "execute_result"
    }
   ],
   "source": [
    "df.shape"
   ]
  },
  {
   "cell_type": "code",
   "execution_count": 10,
   "id": "6eebaf05-1f5d-4a27-a292-506f6107303f",
   "metadata": {},
   "outputs": [
    {
     "name": "stdout",
     "output_type": "stream",
     "text": [
      "<class 'pandas.core.frame.DataFrame'>\n",
      "RangeIndex: 1232 entries, 0 to 1231\n",
      "Data columns (total 20 columns):\n",
      " #   Column        Non-Null Count  Dtype  \n",
      "---  ------        --------------  -----  \n",
      " 0   Unnamed: 0    1232 non-null   int64  \n",
      " 1   product       1232 non-null   object \n",
      " 2   brand         1232 non-null   object \n",
      " 3   price         1232 non-null   float64\n",
      " 4   weight        1231 non-null   float64\n",
      " 5   kj            1232 non-null   float64\n",
      " 6   kcal          1232 non-null   float64\n",
      " 7   fat           1219 non-null   float64\n",
      " 8   sat_fat       1219 non-null   float64\n",
      " 9   carbs         1231 non-null   float64\n",
      " 10  sugar         1228 non-null   float64\n",
      " 11  fibre         525 non-null    float64\n",
      " 12  protein       1217 non-null   float64\n",
      " 13  salt          1149 non-null   float64\n",
      " 14  product_link  1232 non-null   object \n",
      " 15  photo_link    1232 non-null   object \n",
      " 16  price_weight  1231 non-null   float64\n",
      " 17  brand_new     1232 non-null   object \n",
      " 18  cluster       1232 non-null   int64  \n",
      " 19  cluster_2     1232 non-null   int64  \n",
      "dtypes: float64(12), int64(3), object(5)\n",
      "memory usage: 192.6+ KB\n"
     ]
    }
   ],
   "source": [
    "df.info()"
   ]
  },
  {
   "cell_type": "code",
   "execution_count": 11,
   "id": "add9893f-34c9-42f3-9062-0fa765b0ebf5",
   "metadata": {},
   "outputs": [
    {
     "data": {
      "text/html": [
       "<div>\n",
       "<style scoped>\n",
       "    .dataframe tbody tr th:only-of-type {\n",
       "        vertical-align: middle;\n",
       "    }\n",
       "\n",
       "    .dataframe tbody tr th {\n",
       "        vertical-align: top;\n",
       "    }\n",
       "\n",
       "    .dataframe thead th {\n",
       "        text-align: right;\n",
       "    }\n",
       "</style>\n",
       "<table border=\"1\" class=\"dataframe\">\n",
       "  <thead>\n",
       "    <tr style=\"text-align: right;\">\n",
       "      <th></th>\n",
       "      <th>Unnamed: 0</th>\n",
       "      <th>product</th>\n",
       "      <th>brand</th>\n",
       "      <th>price</th>\n",
       "      <th>weight</th>\n",
       "      <th>kj</th>\n",
       "      <th>kcal</th>\n",
       "      <th>fat</th>\n",
       "      <th>sat_fat</th>\n",
       "      <th>carbs</th>\n",
       "      <th>sugar</th>\n",
       "      <th>fibre</th>\n",
       "      <th>protein</th>\n",
       "      <th>salt</th>\n",
       "      <th>product_link</th>\n",
       "      <th>photo_link</th>\n",
       "      <th>price_weight</th>\n",
       "      <th>brand_new</th>\n",
       "      <th>cluster</th>\n",
       "      <th>cluster_2</th>\n",
       "    </tr>\n",
       "  </thead>\n",
       "  <tbody>\n",
       "    <tr>\n",
       "      <th>0</th>\n",
       "      <td>0</td>\n",
       "      <td>Soja Protein Crispies 58 % mit Kakao</td>\n",
       "      <td>Koro</td>\n",
       "      <td>14.0</td>\n",
       "      <td>1.0</td>\n",
       "      <td>1535.0</td>\n",
       "      <td>362.0</td>\n",
       "      <td>19.0</td>\n",
       "      <td>4.0</td>\n",
       "      <td>282.0</td>\n",
       "      <td>91.0</td>\n",
       "      <td>18.0</td>\n",
       "      <td>58.0</td>\n",
       "      <td>27.0</td>\n",
       "      <td>https://www.korodrogerie.de/soja-protein-crisp...</td>\n",
       "      <td>https://koro2.imgix.net/media/image/f1/50/81/C...</td>\n",
       "      <td>14.0</td>\n",
       "      <td>Koro</td>\n",
       "      <td>0</td>\n",
       "      <td>2</td>\n",
       "    </tr>\n",
       "    <tr>\n",
       "      <th>1</th>\n",
       "      <td>1</td>\n",
       "      <td>Schokodrops mit Xylit</td>\n",
       "      <td>Koro</td>\n",
       "      <td>21.0</td>\n",
       "      <td>1.0</td>\n",
       "      <td>2290.0</td>\n",
       "      <td>555.0</td>\n",
       "      <td>46.0</td>\n",
       "      <td>28.0</td>\n",
       "      <td>31.0</td>\n",
       "      <td>10.0</td>\n",
       "      <td>10.0</td>\n",
       "      <td>92.0</td>\n",
       "      <td>7.0</td>\n",
       "      <td>https://www.korodrogerie.de/schokodrops-mit-xy...</td>\n",
       "      <td>https://koro2.imgix.net/media/image/2c/01/f8/S...</td>\n",
       "      <td>21.0</td>\n",
       "      <td>Koro</td>\n",
       "      <td>0</td>\n",
       "      <td>3</td>\n",
       "    </tr>\n",
       "    <tr>\n",
       "      <th>2</th>\n",
       "      <td>2</td>\n",
       "      <td>Schoko Protein Crunchies ohne Zuckerzusatz</td>\n",
       "      <td>Koro</td>\n",
       "      <td>20.0</td>\n",
       "      <td>1.0</td>\n",
       "      <td>1875.0</td>\n",
       "      <td>448.0</td>\n",
       "      <td>28.0</td>\n",
       "      <td>12.0</td>\n",
       "      <td>37.0</td>\n",
       "      <td>14.0</td>\n",
       "      <td>83.0</td>\n",
       "      <td>21.0</td>\n",
       "      <td>36.0</td>\n",
       "      <td>https://www.korodrogerie.de/schoko-protein-cru...</td>\n",
       "      <td>https://koro2.imgix.net/media/image/30/78/62/P...</td>\n",
       "      <td>20.0</td>\n",
       "      <td>Koro</td>\n",
       "      <td>0</td>\n",
       "      <td>3</td>\n",
       "    </tr>\n",
       "    <tr>\n",
       "      <th>3</th>\n",
       "      <td>3</td>\n",
       "      <td>Soja Protein Crispies 60 %</td>\n",
       "      <td>Koro</td>\n",
       "      <td>13.0</td>\n",
       "      <td>1.0</td>\n",
       "      <td>1541.0</td>\n",
       "      <td>363.0</td>\n",
       "      <td>18.0</td>\n",
       "      <td>2.0</td>\n",
       "      <td>26.0</td>\n",
       "      <td>8.0</td>\n",
       "      <td>8.0</td>\n",
       "      <td>60.0</td>\n",
       "      <td>32.0</td>\n",
       "      <td>https://www.korodrogerie.de/soja-protein-crisp...</td>\n",
       "      <td>https://koro2.imgix.net/media/image/84/55/ca/C...</td>\n",
       "      <td>13.0</td>\n",
       "      <td>Koro</td>\n",
       "      <td>0</td>\n",
       "      <td>3</td>\n",
       "    </tr>\n",
       "    <tr>\n",
       "      <th>4</th>\n",
       "      <td>4</td>\n",
       "      <td>Bohnen-Erbsen-Mix geröstet &amp; gesalzen</td>\n",
       "      <td>Koro</td>\n",
       "      <td>11.5</td>\n",
       "      <td>1.0</td>\n",
       "      <td>1766.0</td>\n",
       "      <td>421.0</td>\n",
       "      <td>14.0</td>\n",
       "      <td>23.0</td>\n",
       "      <td>35.0</td>\n",
       "      <td>67.0</td>\n",
       "      <td>10.0</td>\n",
       "      <td>33.0</td>\n",
       "      <td>10.0</td>\n",
       "      <td>https://www.korodrogerie.de/bohnen-erbsen-mix-...</td>\n",
       "      <td>https://koro2.imgix.net/media/image/a9/37/79/B...</td>\n",
       "      <td>11.5</td>\n",
       "      <td>Koro</td>\n",
       "      <td>0</td>\n",
       "      <td>3</td>\n",
       "    </tr>\n",
       "  </tbody>\n",
       "</table>\n",
       "</div>"
      ],
      "text/plain": [
       "   Unnamed: 0                                      product brand  price  \\\n",
       "0           0        Soja Protein Crispies 58 % mit Kakao   Koro   14.0   \n",
       "1           1                       Schokodrops mit Xylit   Koro   21.0   \n",
       "2           2  Schoko Protein Crunchies ohne Zuckerzusatz   Koro   20.0   \n",
       "3           3                  Soja Protein Crispies 60 %   Koro   13.0   \n",
       "4           4       Bohnen-Erbsen-Mix geröstet & gesalzen   Koro   11.5   \n",
       "\n",
       "   weight      kj   kcal   fat  sat_fat  carbs  sugar  fibre  protein  salt  \\\n",
       "0     1.0  1535.0  362.0  19.0      4.0  282.0   91.0   18.0     58.0  27.0   \n",
       "1     1.0  2290.0  555.0  46.0     28.0   31.0   10.0   10.0     92.0   7.0   \n",
       "2     1.0  1875.0  448.0  28.0     12.0   37.0   14.0   83.0     21.0  36.0   \n",
       "3     1.0  1541.0  363.0  18.0      2.0   26.0    8.0    8.0     60.0  32.0   \n",
       "4     1.0  1766.0  421.0  14.0     23.0   35.0   67.0   10.0     33.0  10.0   \n",
       "\n",
       "                                        product_link  \\\n",
       "0  https://www.korodrogerie.de/soja-protein-crisp...   \n",
       "1  https://www.korodrogerie.de/schokodrops-mit-xy...   \n",
       "2  https://www.korodrogerie.de/schoko-protein-cru...   \n",
       "3  https://www.korodrogerie.de/soja-protein-crisp...   \n",
       "4  https://www.korodrogerie.de/bohnen-erbsen-mix-...   \n",
       "\n",
       "                                          photo_link  price_weight brand_new  \\\n",
       "0  https://koro2.imgix.net/media/image/f1/50/81/C...          14.0      Koro   \n",
       "1  https://koro2.imgix.net/media/image/2c/01/f8/S...          21.0      Koro   \n",
       "2  https://koro2.imgix.net/media/image/30/78/62/P...          20.0      Koro   \n",
       "3  https://koro2.imgix.net/media/image/84/55/ca/C...          13.0      Koro   \n",
       "4  https://koro2.imgix.net/media/image/a9/37/79/B...          11.5      Koro   \n",
       "\n",
       "   cluster  cluster_2  \n",
       "0        0          2  \n",
       "1        0          3  \n",
       "2        0          3  \n",
       "3        0          3  \n",
       "4        0          3  "
      ]
     },
     "execution_count": 11,
     "metadata": {},
     "output_type": "execute_result"
    }
   ],
   "source": [
    "df.head()"
   ]
  },
  {
   "cell_type": "markdown",
   "id": "4b27fe9e-70da-4a7e-965c-0cc27474e388",
   "metadata": {},
   "source": [
    "## Creating a recommender"
   ]
  },
  {
   "cell_type": "markdown",
   "id": "b21dcc38-082c-4f7e-8e11-aeb81cb08ab0",
   "metadata": {},
   "source": [
    "### Version 1: input = product name"
   ]
  },
  {
   "cell_type": "code",
   "execution_count": 13,
   "id": "ec007de4-ecc6-4e8a-83c4-122c960dee9f",
   "metadata": {},
   "outputs": [
    {
     "name": "stdin",
     "output_type": "stream",
     "text": [
      "What kind of snack do you like?  chocolate\n"
     ]
    }
   ],
   "source": [
    "user_input = input(\"What kind of snack do you like? \")"
   ]
  },
  {
   "cell_type": "code",
   "execution_count": 14,
   "id": "07d17d24-b4c6-43b1-a03a-3091c445be23",
   "metadata": {},
   "outputs": [],
   "source": [
    "def suggestions_other_products(user_input):\n",
    "    choices = df['product']\n",
    "    \n",
    "    rec = process.extract(user_input, choices)\n",
    "    suggestion_list=[]\n",
    "    for i in rec:\n",
    "        suggestion_list.append(i[0])\n",
    "    print(\"This exact snack was not found in the database. Did you mean one of these?\"'\\n', suggestion_list ,'\\n')"
   ]
  },
  {
   "cell_type": "code",
   "execution_count": 17,
   "id": "f422b2dd-8818-4eae-a39c-877a4d5f97c0",
   "metadata": {},
   "outputs": [
    {
     "name": "stdout",
     "output_type": "stream",
     "text": [
      "This exact snack was not found in the database. Did you mean one of these?\n",
      " ['Bio Cookie Chocolate Chip  ', 'Bio Cookie Chocolate Chip ', 'Chocolate Experience Geschenkbox ', 'Coconut Mylk Chocolate Riegel ', 'Riegel °Protein Chocolate° '] \n",
      "\n"
     ]
    }
   ],
   "source": [
    "suggestions_other_products(user_input)"
   ]
  },
  {
   "cell_type": "code",
   "execution_count": 18,
   "id": "463fd7b6-242c-4024-a5e3-dd9ac6dbdbc4",
   "metadata": {},
   "outputs": [],
   "source": [
    "def product_recommender(user_input):\n",
    "    \n",
    "    user_input = input(\"What kind of snack do you like? \")\n",
    "    \n",
    "    counter = -1\n",
    "    flag = 0\n",
    "    \n",
    "    for p in df['product']:\n",
    "        \n",
    "        counter +=1\n",
    "        \n",
    "        if p == user_input:\n",
    "            flag = 1\n",
    "            cluster_product = df['cluster'].iloc[counter]\n",
    "            print('The product belongs to this cluster: ', cluster_product) \n",
    "            \n",
    "            df_cluster = df[df['cluster'] == cluster_product]\n",
    "            new_products = df_cluster['product'].sample(5).values\n",
    "            print('Your snack recommendations are: ', new_products)\n",
    "        else:\n",
    "            continue\n",
    "        \n",
    "    if flag == 0:  \n",
    "        \n",
    "        suggestions_other_products(user_input)\n",
    "    "
   ]
  },
  {
   "cell_type": "code",
   "execution_count": 19,
   "id": "4f042ad6-a32a-48b6-a94f-458ef77de505",
   "metadata": {},
   "outputs": [
    {
     "name": "stdin",
     "output_type": "stream",
     "text": [
      "What kind of snack do you like?  chocolate\n"
     ]
    },
    {
     "name": "stdout",
     "output_type": "stream",
     "text": [
      "This exact snack was not found in the database. Did you mean one of these?\n",
      " ['Bio Cookie Chocolate Chip  ', 'Bio Cookie Chocolate Chip ', 'Chocolate Experience Geschenkbox ', 'Coconut Mylk Chocolate Riegel ', 'Riegel °Protein Chocolate° '] \n",
      "\n"
     ]
    }
   ],
   "source": [
    "product_recommender(user_input)"
   ]
  },
  {
   "cell_type": "code",
   "execution_count": 20,
   "id": "8fd3c06a-76da-4872-a949-62ebe15ad231",
   "metadata": {},
   "outputs": [
    {
     "name": "stdin",
     "output_type": "stream",
     "text": [
      "What kind of snack do you like?  Lakritz\n"
     ]
    },
    {
     "name": "stdout",
     "output_type": "stream",
     "text": [
      "This exact snack was not found in the database. Did you mean one of these?\n",
      " ['Süße °Lakritz° Giraffen Schlange ', 'Helix Lakritz Schnecken ', 'Lucky Lakritz Stangen ', 'Süße Lakritz °Stangen° ', \"Salzlakritz Tubi's \"] \n",
      "\n"
     ]
    }
   ],
   "source": [
    "product_recommender(user_input)"
   ]
  },
  {
   "cell_type": "code",
   "execution_count": null,
   "id": "cb5442f3-838e-43d6-bf7d-0db277baa9d3",
   "metadata": {},
   "outputs": [],
   "source": [
    "def assume_product(user_input):\n",
    "    choices = df['product']\n",
    "    \n",
    "    rec = process.extract(user_input, choices)\n",
    "    lst=[]\n",
    "    for i in rec:\n",
    "        lst.append(i[1])\n",
    "        #print(i[1])\n",
    "        if lst[0]>95:\n",
    "            user_input = i[0]#list.sort(key=lst, reverse=True)\n",
    "            return 'I did not find an exact match in the database. I assume you mean this snack: ' + user_input +give_5bookrecommendationsCount(title_user)\n",
    "        else:\n",
    "            error"
   ]
  },
  {
   "cell_type": "code",
   "execution_count": null,
   "id": "6bd300da-63be-4d77-a864-bb5e8212cf36",
   "metadata": {},
   "outputs": [],
   "source": [
    "assume_product(user_input)"
   ]
  },
  {
   "cell_type": "code",
   "execution_count": null,
   "id": "69bd1cfe-a8cf-4c3e-b258-959e7e5312c5",
   "metadata": {},
   "outputs": [],
   "source": []
  },
  {
   "cell_type": "markdown",
   "id": "72d3ba0f-a0f4-4e98-a637-2b8faa4131ff",
   "metadata": {},
   "source": [
    "### Version 2: input = choice of random sample"
   ]
  },
  {
   "cell_type": "code",
   "execution_count": 21,
   "id": "a40f4ca7-3e65-4cd3-a71b-9b2d9df7428a",
   "metadata": {},
   "outputs": [],
   "source": [
    "def random_sample():\n",
    "    \n",
    "    cl_0 = df[df['cluster'] == 0].sample(1)\n",
    "    cl_1 = df[df['cluster'] == 1].sample(1)\n",
    "    cl_2 = df[df['cluster'] == 2].sample(1)\n",
    "    cl_3 = df[df['cluster'] == 3].sample(1)\n",
    "    cl_4 = df[df['cluster'] == 4].sample(1)\n",
    "    \n",
    "    new_df = pd.concat([cl_0, cl_1, cl_2, cl_3, cl_4], axis=0)\n",
    "    \n",
    "    return new_df"
   ]
  },
  {
   "cell_type": "code",
   "execution_count": 22,
   "id": "9cd7df19-5af4-484d-b106-1ed1e7c4cbc2",
   "metadata": {},
   "outputs": [
    {
     "data": {
      "text/html": [
       "<div>\n",
       "<style scoped>\n",
       "    .dataframe tbody tr th:only-of-type {\n",
       "        vertical-align: middle;\n",
       "    }\n",
       "\n",
       "    .dataframe tbody tr th {\n",
       "        vertical-align: top;\n",
       "    }\n",
       "\n",
       "    .dataframe thead th {\n",
       "        text-align: right;\n",
       "    }\n",
       "</style>\n",
       "<table border=\"1\" class=\"dataframe\">\n",
       "  <thead>\n",
       "    <tr style=\"text-align: right;\">\n",
       "      <th></th>\n",
       "      <th>Unnamed: 0</th>\n",
       "      <th>product</th>\n",
       "      <th>brand</th>\n",
       "      <th>price</th>\n",
       "      <th>weight</th>\n",
       "      <th>kj</th>\n",
       "      <th>kcal</th>\n",
       "      <th>fat</th>\n",
       "      <th>sat_fat</th>\n",
       "      <th>carbs</th>\n",
       "      <th>sugar</th>\n",
       "      <th>fibre</th>\n",
       "      <th>protein</th>\n",
       "      <th>salt</th>\n",
       "      <th>product_link</th>\n",
       "      <th>photo_link</th>\n",
       "      <th>price_weight</th>\n",
       "      <th>brand_new</th>\n",
       "      <th>cluster</th>\n",
       "      <th>cluster_2</th>\n",
       "    </tr>\n",
       "  </thead>\n",
       "  <tbody>\n",
       "    <tr>\n",
       "      <th>21</th>\n",
       "      <td>21</td>\n",
       "      <td>Bio Süßkartoffel Chips</td>\n",
       "      <td>Koro</td>\n",
       "      <td>11.50</td>\n",
       "      <td>0.20</td>\n",
       "      <td>1467.0</td>\n",
       "      <td>347.0</td>\n",
       "      <td>7.0</td>\n",
       "      <td>3.0</td>\n",
       "      <td>70.0</td>\n",
       "      <td>32.0</td>\n",
       "      <td>15.0</td>\n",
       "      <td>78.0</td>\n",
       "      <td>8.00</td>\n",
       "      <td>https://www.korodrogerie.de/bio-suesskartoffel...</td>\n",
       "      <td>https://koro2.imgix.net/media/image/40/3e/dc/C...</td>\n",
       "      <td>57.500</td>\n",
       "      <td>Koro</td>\n",
       "      <td>0</td>\n",
       "      <td>3</td>\n",
       "    </tr>\n",
       "    <tr>\n",
       "      <th>450</th>\n",
       "      <td>450</td>\n",
       "      <td>Salted Peanut Caramel Riegel</td>\n",
       "      <td>Lini's Bites</td>\n",
       "      <td>2.49</td>\n",
       "      <td>0.04</td>\n",
       "      <td>1802.0</td>\n",
       "      <td>431.0</td>\n",
       "      <td>21.0</td>\n",
       "      <td>9.5</td>\n",
       "      <td>47.0</td>\n",
       "      <td>34.0</td>\n",
       "      <td>NaN</td>\n",
       "      <td>8.9</td>\n",
       "      <td>0.55</td>\n",
       "      <td>https://kokku-online.de/linis-bites-salted-pea...</td>\n",
       "      <td>https://kokku-online.de//bilder/350x350/19133/...</td>\n",
       "      <td>62.250</td>\n",
       "      <td>Lini's Bites</td>\n",
       "      <td>1</td>\n",
       "      <td>1</td>\n",
       "    </tr>\n",
       "    <tr>\n",
       "      <th>10</th>\n",
       "      <td>10</td>\n",
       "      <td>Apfelstücke mit Zimt &amp; Zucker</td>\n",
       "      <td>Koro</td>\n",
       "      <td>14.50</td>\n",
       "      <td>1.00</td>\n",
       "      <td>1505.0</td>\n",
       "      <td>360.0</td>\n",
       "      <td>0.0</td>\n",
       "      <td>0.0</td>\n",
       "      <td>89.0</td>\n",
       "      <td>75.0</td>\n",
       "      <td>20.0</td>\n",
       "      <td>0.0</td>\n",
       "      <td>58.00</td>\n",
       "      <td>https://www.korodrogerie.de/apfelstuecke-mit-z...</td>\n",
       "      <td>https://koro2.imgix.net/media/image/c5/c3/14/A...</td>\n",
       "      <td>14.500</td>\n",
       "      <td>Koro</td>\n",
       "      <td>2</td>\n",
       "      <td>2</td>\n",
       "    </tr>\n",
       "    <tr>\n",
       "      <th>663</th>\n",
       "      <td>663</td>\n",
       "      <td>°Original° Schokolade</td>\n",
       "      <td>Moo Free</td>\n",
       "      <td>2.89</td>\n",
       "      <td>0.08</td>\n",
       "      <td>2252.0</td>\n",
       "      <td>540.0</td>\n",
       "      <td>31.0</td>\n",
       "      <td>19.0</td>\n",
       "      <td>58.0</td>\n",
       "      <td>41.0</td>\n",
       "      <td>NaN</td>\n",
       "      <td>3.0</td>\n",
       "      <td>0.00</td>\n",
       "      <td>https://kokku-online.de/moo-free-schokolade-mi...</td>\n",
       "      <td>https://kokku-online.de//bilder/350x350/14949/...</td>\n",
       "      <td>36.125</td>\n",
       "      <td>Moo Free</td>\n",
       "      <td>3</td>\n",
       "      <td>0</td>\n",
       "    </tr>\n",
       "    <tr>\n",
       "      <th>1190</th>\n",
       "      <td>1190</td>\n",
       "      <td>BIO Zartbitterschokolade mit Kakaonibs</td>\n",
       "      <td>Lovechock</td>\n",
       "      <td>2.90</td>\n",
       "      <td>0.04</td>\n",
       "      <td>2674.0</td>\n",
       "      <td>646.0</td>\n",
       "      <td>55.0</td>\n",
       "      <td>33.0</td>\n",
       "      <td>26.0</td>\n",
       "      <td>16.0</td>\n",
       "      <td>7.8</td>\n",
       "      <td>8.1</td>\n",
       "      <td>0.04</td>\n",
       "      <td>https://www.foodist.de/lovechock-bio-zartbitte...</td>\n",
       "      <td>https://foodist.imgix.net/media/image/87184211...</td>\n",
       "      <td>72.500</td>\n",
       "      <td>Lovechock</td>\n",
       "      <td>4</td>\n",
       "      <td>0</td>\n",
       "    </tr>\n",
       "  </tbody>\n",
       "</table>\n",
       "</div>"
      ],
      "text/plain": [
       "      Unnamed: 0                                 product         brand  price  \\\n",
       "21            21                Bio Süßkartoffel Chips            Koro  11.50   \n",
       "450          450           Salted Peanut Caramel Riegel   Lini's Bites   2.49   \n",
       "10            10          Apfelstücke mit Zimt & Zucker           Koro  14.50   \n",
       "663          663                  °Original° Schokolade       Moo Free   2.89   \n",
       "1190        1190  BIO Zartbitterschokolade mit Kakaonibs     Lovechock   2.90   \n",
       "\n",
       "      weight      kj   kcal   fat  sat_fat  carbs  sugar  fibre  protein  \\\n",
       "21      0.20  1467.0  347.0   7.0      3.0   70.0   32.0   15.0     78.0   \n",
       "450     0.04  1802.0  431.0  21.0      9.5   47.0   34.0    NaN      8.9   \n",
       "10      1.00  1505.0  360.0   0.0      0.0   89.0   75.0   20.0      0.0   \n",
       "663     0.08  2252.0  540.0  31.0     19.0   58.0   41.0    NaN      3.0   \n",
       "1190    0.04  2674.0  646.0  55.0     33.0   26.0   16.0    7.8      8.1   \n",
       "\n",
       "       salt                                       product_link  \\\n",
       "21     8.00  https://www.korodrogerie.de/bio-suesskartoffel...   \n",
       "450    0.55  https://kokku-online.de/linis-bites-salted-pea...   \n",
       "10    58.00  https://www.korodrogerie.de/apfelstuecke-mit-z...   \n",
       "663    0.00  https://kokku-online.de/moo-free-schokolade-mi...   \n",
       "1190   0.04  https://www.foodist.de/lovechock-bio-zartbitte...   \n",
       "\n",
       "                                             photo_link  price_weight  \\\n",
       "21    https://koro2.imgix.net/media/image/40/3e/dc/C...        57.500   \n",
       "450   https://kokku-online.de//bilder/350x350/19133/...        62.250   \n",
       "10    https://koro2.imgix.net/media/image/c5/c3/14/A...        14.500   \n",
       "663   https://kokku-online.de//bilder/350x350/14949/...        36.125   \n",
       "1190  https://foodist.imgix.net/media/image/87184211...        72.500   \n",
       "\n",
       "         brand_new  cluster  cluster_2  \n",
       "21            Koro        0          3  \n",
       "450   Lini's Bites        1          1  \n",
       "10            Koro        2          2  \n",
       "663       Moo Free        3          0  \n",
       "1190     Lovechock        4          0  "
      ]
     },
     "execution_count": 22,
     "metadata": {},
     "output_type": "execute_result"
    }
   ],
   "source": [
    "new_df = random_sample()\n",
    "new_df"
   ]
  },
  {
   "cell_type": "code",
   "execution_count": null,
   "id": "923cb251-6e0d-46d6-b4e7-be54d19aa362",
   "metadata": {},
   "outputs": [],
   "source": [
    "new_df['photo_link'].values[0]"
   ]
  }
 ],
 "metadata": {
  "kernelspec": {
   "display_name": "Python 3",
   "language": "python",
   "name": "python3"
  },
  "language_info": {
   "codemirror_mode": {
    "name": "ipython",
    "version": 3
   },
   "file_extension": ".py",
   "mimetype": "text/x-python",
   "name": "python",
   "nbconvert_exporter": "python",
   "pygments_lexer": "ipython3",
   "version": "3.9.6"
  }
 },
 "nbformat": 4,
 "nbformat_minor": 5
}
