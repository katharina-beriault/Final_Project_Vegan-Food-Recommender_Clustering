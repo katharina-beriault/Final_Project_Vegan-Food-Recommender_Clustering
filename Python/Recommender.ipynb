{
 "cells": [
  {
   "cell_type": "markdown",
   "id": "af6b6712-69dc-4ae0-bbf1-ab3183584549",
   "metadata": {},
   "source": [
    "# Recommender Function"
   ]
  },
  {
   "cell_type": "markdown",
   "id": "b44d34ce-994a-48b8-8bdb-fd2d3a5da2c4",
   "metadata": {},
   "source": [
    "## Libaries"
   ]
  },
  {
   "cell_type": "code",
   "execution_count": 1,
   "id": "429c672e-64df-4d4a-94d3-c9d544b86883",
   "metadata": {},
   "outputs": [
    {
     "name": "stderr",
     "output_type": "stream",
     "text": [
      "c:\\users\\katha\\appdata\\local\\programs\\python\\python39\\lib\\site-packages\\fuzzywuzzy\\fuzz.py:11: UserWarning: Using slow pure-python SequenceMatcher. Install python-Levenshtein to remove this warning\n",
      "  warnings.warn('Using slow pure-python SequenceMatcher. Install python-Levenshtein to remove this warning')\n"
     ]
    }
   ],
   "source": [
    "from fuzzywuzzy import process\n",
    "import pandas as pd"
   ]
  },
  {
   "cell_type": "markdown",
   "id": "9c5b5898-4d79-4316-9e44-49b49c4e6412",
   "metadata": {},
   "source": [
    "## Loading the data"
   ]
  },
  {
   "cell_type": "code",
   "execution_count": 2,
   "id": "0f603948-074b-4cff-925d-1e176c6f1c5f",
   "metadata": {},
   "outputs": [],
   "source": [
    "df = pd.read_csv('df_clusters.csv')"
   ]
  },
  {
   "cell_type": "code",
   "execution_count": 3,
   "id": "d5acbb4c-3516-4c24-a237-93316d687870",
   "metadata": {},
   "outputs": [
    {
     "data": {
      "text/plain": [
       "(1232, 20)"
      ]
     },
     "execution_count": 3,
     "metadata": {},
     "output_type": "execute_result"
    }
   ],
   "source": [
    "df.shape"
   ]
  },
  {
   "cell_type": "code",
   "execution_count": 4,
   "id": "6eebaf05-1f5d-4a27-a292-506f6107303f",
   "metadata": {},
   "outputs": [
    {
     "name": "stdout",
     "output_type": "stream",
     "text": [
      "<class 'pandas.core.frame.DataFrame'>\n",
      "RangeIndex: 1232 entries, 0 to 1231\n",
      "Data columns (total 20 columns):\n",
      " #   Column        Non-Null Count  Dtype  \n",
      "---  ------        --------------  -----  \n",
      " 0   Unnamed: 0    1232 non-null   int64  \n",
      " 1   product       1232 non-null   object \n",
      " 2   brand         1232 non-null   object \n",
      " 3   price         1232 non-null   float64\n",
      " 4   weight        1231 non-null   float64\n",
      " 5   kj            1232 non-null   float64\n",
      " 6   kcal          1232 non-null   float64\n",
      " 7   fat           1219 non-null   float64\n",
      " 8   sat_fat       1219 non-null   float64\n",
      " 9   carbs         1231 non-null   float64\n",
      " 10  sugar         1228 non-null   float64\n",
      " 11  fibre         525 non-null    float64\n",
      " 12  protein       1217 non-null   float64\n",
      " 13  salt          1149 non-null   float64\n",
      " 14  product_link  1232 non-null   object \n",
      " 15  photo_link    1232 non-null   object \n",
      " 16  price_weight  1231 non-null   float64\n",
      " 17  brand_new     1232 non-null   object \n",
      " 18  cluster       1232 non-null   int64  \n",
      " 19  cluster_2     1232 non-null   int64  \n",
      "dtypes: float64(12), int64(3), object(5)\n",
      "memory usage: 192.6+ KB\n"
     ]
    }
   ],
   "source": [
    "df.info()"
   ]
  },
  {
   "cell_type": "code",
   "execution_count": 5,
   "id": "add9893f-34c9-42f3-9062-0fa765b0ebf5",
   "metadata": {},
   "outputs": [
    {
     "data": {
      "text/html": [
       "<div>\n",
       "<style scoped>\n",
       "    .dataframe tbody tr th:only-of-type {\n",
       "        vertical-align: middle;\n",
       "    }\n",
       "\n",
       "    .dataframe tbody tr th {\n",
       "        vertical-align: top;\n",
       "    }\n",
       "\n",
       "    .dataframe thead th {\n",
       "        text-align: right;\n",
       "    }\n",
       "</style>\n",
       "<table border=\"1\" class=\"dataframe\">\n",
       "  <thead>\n",
       "    <tr style=\"text-align: right;\">\n",
       "      <th></th>\n",
       "      <th>Unnamed: 0</th>\n",
       "      <th>product</th>\n",
       "      <th>brand</th>\n",
       "      <th>price</th>\n",
       "      <th>weight</th>\n",
       "      <th>kj</th>\n",
       "      <th>kcal</th>\n",
       "      <th>fat</th>\n",
       "      <th>sat_fat</th>\n",
       "      <th>carbs</th>\n",
       "      <th>sugar</th>\n",
       "      <th>fibre</th>\n",
       "      <th>protein</th>\n",
       "      <th>salt</th>\n",
       "      <th>product_link</th>\n",
       "      <th>photo_link</th>\n",
       "      <th>price_weight</th>\n",
       "      <th>brand_new</th>\n",
       "      <th>cluster</th>\n",
       "      <th>cluster_2</th>\n",
       "    </tr>\n",
       "  </thead>\n",
       "  <tbody>\n",
       "    <tr>\n",
       "      <th>0</th>\n",
       "      <td>0</td>\n",
       "      <td>Soja Protein Crispies 58 % mit Kakao</td>\n",
       "      <td>Koro</td>\n",
       "      <td>14.0</td>\n",
       "      <td>1.0</td>\n",
       "      <td>1535.0</td>\n",
       "      <td>362.0</td>\n",
       "      <td>19.0</td>\n",
       "      <td>4.0</td>\n",
       "      <td>282.0</td>\n",
       "      <td>91.0</td>\n",
       "      <td>18.0</td>\n",
       "      <td>58.0</td>\n",
       "      <td>27.0</td>\n",
       "      <td>https://www.korodrogerie.de/soja-protein-crisp...</td>\n",
       "      <td>https://koro2.imgix.net/media/image/f1/50/81/C...</td>\n",
       "      <td>14.0</td>\n",
       "      <td>Koro</td>\n",
       "      <td>0</td>\n",
       "      <td>2</td>\n",
       "    </tr>\n",
       "    <tr>\n",
       "      <th>1</th>\n",
       "      <td>1</td>\n",
       "      <td>Schokodrops mit Xylit</td>\n",
       "      <td>Koro</td>\n",
       "      <td>21.0</td>\n",
       "      <td>1.0</td>\n",
       "      <td>2290.0</td>\n",
       "      <td>555.0</td>\n",
       "      <td>46.0</td>\n",
       "      <td>28.0</td>\n",
       "      <td>31.0</td>\n",
       "      <td>10.0</td>\n",
       "      <td>10.0</td>\n",
       "      <td>92.0</td>\n",
       "      <td>7.0</td>\n",
       "      <td>https://www.korodrogerie.de/schokodrops-mit-xy...</td>\n",
       "      <td>https://koro2.imgix.net/media/image/2c/01/f8/S...</td>\n",
       "      <td>21.0</td>\n",
       "      <td>Koro</td>\n",
       "      <td>0</td>\n",
       "      <td>3</td>\n",
       "    </tr>\n",
       "    <tr>\n",
       "      <th>2</th>\n",
       "      <td>2</td>\n",
       "      <td>Schoko Protein Crunchies ohne Zuckerzusatz</td>\n",
       "      <td>Koro</td>\n",
       "      <td>20.0</td>\n",
       "      <td>1.0</td>\n",
       "      <td>1875.0</td>\n",
       "      <td>448.0</td>\n",
       "      <td>28.0</td>\n",
       "      <td>12.0</td>\n",
       "      <td>37.0</td>\n",
       "      <td>14.0</td>\n",
       "      <td>83.0</td>\n",
       "      <td>21.0</td>\n",
       "      <td>36.0</td>\n",
       "      <td>https://www.korodrogerie.de/schoko-protein-cru...</td>\n",
       "      <td>https://koro2.imgix.net/media/image/30/78/62/P...</td>\n",
       "      <td>20.0</td>\n",
       "      <td>Koro</td>\n",
       "      <td>0</td>\n",
       "      <td>3</td>\n",
       "    </tr>\n",
       "    <tr>\n",
       "      <th>3</th>\n",
       "      <td>3</td>\n",
       "      <td>Soja Protein Crispies 60 %</td>\n",
       "      <td>Koro</td>\n",
       "      <td>13.0</td>\n",
       "      <td>1.0</td>\n",
       "      <td>1541.0</td>\n",
       "      <td>363.0</td>\n",
       "      <td>18.0</td>\n",
       "      <td>2.0</td>\n",
       "      <td>26.0</td>\n",
       "      <td>8.0</td>\n",
       "      <td>8.0</td>\n",
       "      <td>60.0</td>\n",
       "      <td>32.0</td>\n",
       "      <td>https://www.korodrogerie.de/soja-protein-crisp...</td>\n",
       "      <td>https://koro2.imgix.net/media/image/84/55/ca/C...</td>\n",
       "      <td>13.0</td>\n",
       "      <td>Koro</td>\n",
       "      <td>0</td>\n",
       "      <td>3</td>\n",
       "    </tr>\n",
       "    <tr>\n",
       "      <th>4</th>\n",
       "      <td>4</td>\n",
       "      <td>Bohnen-Erbsen-Mix geröstet &amp; gesalzen</td>\n",
       "      <td>Koro</td>\n",
       "      <td>11.5</td>\n",
       "      <td>1.0</td>\n",
       "      <td>1766.0</td>\n",
       "      <td>421.0</td>\n",
       "      <td>14.0</td>\n",
       "      <td>23.0</td>\n",
       "      <td>35.0</td>\n",
       "      <td>67.0</td>\n",
       "      <td>10.0</td>\n",
       "      <td>33.0</td>\n",
       "      <td>10.0</td>\n",
       "      <td>https://www.korodrogerie.de/bohnen-erbsen-mix-...</td>\n",
       "      <td>https://koro2.imgix.net/media/image/a9/37/79/B...</td>\n",
       "      <td>11.5</td>\n",
       "      <td>Koro</td>\n",
       "      <td>0</td>\n",
       "      <td>3</td>\n",
       "    </tr>\n",
       "  </tbody>\n",
       "</table>\n",
       "</div>"
      ],
      "text/plain": [
       "   Unnamed: 0                                      product brand  price  \\\n",
       "0           0        Soja Protein Crispies 58 % mit Kakao   Koro   14.0   \n",
       "1           1                       Schokodrops mit Xylit   Koro   21.0   \n",
       "2           2  Schoko Protein Crunchies ohne Zuckerzusatz   Koro   20.0   \n",
       "3           3                  Soja Protein Crispies 60 %   Koro   13.0   \n",
       "4           4       Bohnen-Erbsen-Mix geröstet & gesalzen   Koro   11.5   \n",
       "\n",
       "   weight      kj   kcal   fat  sat_fat  carbs  sugar  fibre  protein  salt  \\\n",
       "0     1.0  1535.0  362.0  19.0      4.0  282.0   91.0   18.0     58.0  27.0   \n",
       "1     1.0  2290.0  555.0  46.0     28.0   31.0   10.0   10.0     92.0   7.0   \n",
       "2     1.0  1875.0  448.0  28.0     12.0   37.0   14.0   83.0     21.0  36.0   \n",
       "3     1.0  1541.0  363.0  18.0      2.0   26.0    8.0    8.0     60.0  32.0   \n",
       "4     1.0  1766.0  421.0  14.0     23.0   35.0   67.0   10.0     33.0  10.0   \n",
       "\n",
       "                                        product_link  \\\n",
       "0  https://www.korodrogerie.de/soja-protein-crisp...   \n",
       "1  https://www.korodrogerie.de/schokodrops-mit-xy...   \n",
       "2  https://www.korodrogerie.de/schoko-protein-cru...   \n",
       "3  https://www.korodrogerie.de/soja-protein-crisp...   \n",
       "4  https://www.korodrogerie.de/bohnen-erbsen-mix-...   \n",
       "\n",
       "                                          photo_link  price_weight brand_new  \\\n",
       "0  https://koro2.imgix.net/media/image/f1/50/81/C...          14.0      Koro   \n",
       "1  https://koro2.imgix.net/media/image/2c/01/f8/S...          21.0      Koro   \n",
       "2  https://koro2.imgix.net/media/image/30/78/62/P...          20.0      Koro   \n",
       "3  https://koro2.imgix.net/media/image/84/55/ca/C...          13.0      Koro   \n",
       "4  https://koro2.imgix.net/media/image/a9/37/79/B...          11.5      Koro   \n",
       "\n",
       "   cluster  cluster_2  \n",
       "0        0          2  \n",
       "1        0          3  \n",
       "2        0          3  \n",
       "3        0          3  \n",
       "4        0          3  "
      ]
     },
     "execution_count": 5,
     "metadata": {},
     "output_type": "execute_result"
    }
   ],
   "source": [
    "df.head()"
   ]
  },
  {
   "cell_type": "markdown",
   "id": "4b27fe9e-70da-4a7e-965c-0cc27474e388",
   "metadata": {},
   "source": [
    "## Creating a recommender"
   ]
  },
  {
   "cell_type": "markdown",
   "id": "b21dcc38-082c-4f7e-8e11-aeb81cb08ab0",
   "metadata": {},
   "source": [
    "### Version 1: input = product name"
   ]
  },
  {
   "cell_type": "code",
   "execution_count": 6,
   "id": "ec007de4-ecc6-4e8a-83c4-122c960dee9f",
   "metadata": {},
   "outputs": [
    {
     "name": "stdin",
     "output_type": "stream",
     "text": [
      "What kind of snack do you like?  chocolate\n"
     ]
    }
   ],
   "source": [
    "user_input = input(\"What kind of snack do you like? \")"
   ]
  },
  {
   "cell_type": "code",
   "execution_count": 7,
   "id": "07d17d24-b4c6-43b1-a03a-3091c445be23",
   "metadata": {},
   "outputs": [],
   "source": [
    "def suggestions_other_products(user_input):\n",
    "    choices = df['product']\n",
    "    \n",
    "    rec = process.extract(user_input, choices)\n",
    "    suggestion_list=[]\n",
    "    for i in rec:\n",
    "        suggestion_list.append(i[0])\n",
    "    print(\"This exact snack was not found in the database. Did you mean one of these?\"'\\n', suggestion_list ,'\\n')"
   ]
  },
  {
   "cell_type": "code",
   "execution_count": 8,
   "id": "f422b2dd-8818-4eae-a39c-877a4d5f97c0",
   "metadata": {},
   "outputs": [
    {
     "name": "stdout",
     "output_type": "stream",
     "text": [
      "This exact snack was not found in the database. Did you mean one of these?\n",
      " ['Bio Cookie Chocolate Chip  ', 'Bio Cookie Chocolate Chip ', 'Chocolate Experience Geschenkbox ', 'Coconut Mylk Chocolate Riegel ', 'Riegel °Protein Chocolate° '] \n",
      "\n"
     ]
    }
   ],
   "source": [
    "suggestions_other_products(user_input)"
   ]
  },
  {
   "cell_type": "code",
   "execution_count": 9,
   "id": "463fd7b6-242c-4024-a5e3-dd9ac6dbdbc4",
   "metadata": {},
   "outputs": [],
   "source": [
    "def product_recommender(user_input):\n",
    "    \n",
    "    user_input = input(\"What kind of snack do you like? \")\n",
    "    \n",
    "    counter = -1\n",
    "    flag = 0\n",
    "    \n",
    "    for p in df['product']:\n",
    "        \n",
    "        counter +=1\n",
    "        \n",
    "        if p == user_input:\n",
    "            flag = 1\n",
    "            cluster_product = df['cluster'].iloc[counter]\n",
    "            print('The product belongs to this cluster: ', cluster_product) \n",
    "            \n",
    "            df_cluster = df[df['cluster'] == cluster_product]\n",
    "            new_products = df_cluster['product'].sample(5).values\n",
    "            print('Your snack recommendations are: ', new_products)\n",
    "        else:\n",
    "            continue\n",
    "        \n",
    "    if flag == 0:  \n",
    "        \n",
    "        suggestions_other_products(user_input)\n",
    "    "
   ]
  },
  {
   "cell_type": "code",
   "execution_count": 10,
   "id": "4f042ad6-a32a-48b6-a94f-458ef77de505",
   "metadata": {},
   "outputs": [
    {
     "name": "stdin",
     "output_type": "stream",
     "text": [
      "What kind of snack do you like?  licorice\n"
     ]
    },
    {
     "name": "stdout",
     "output_type": "stream",
     "text": [
      "This exact snack was not found in the database. Did you mean one of these?\n",
      " ['Reiscracker Fried Oregano ', 'Protein Ball Cookie Dough ', 'Protein Ball Cookie Dough  ', 'Crunchy Coconut Schokoriegel ', 'Dark & Creamy Schokoriegel '] \n",
      "\n"
     ]
    }
   ],
   "source": [
    "product_recommender(user_input)"
   ]
  },
  {
   "cell_type": "code",
   "execution_count": 11,
   "id": "8fd3c06a-76da-4872-a949-62ebe15ad231",
   "metadata": {},
   "outputs": [
    {
     "name": "stdin",
     "output_type": "stream",
     "text": [
      "What kind of snack do you like?  Lakritz\n"
     ]
    },
    {
     "name": "stdout",
     "output_type": "stream",
     "text": [
      "This exact snack was not found in the database. Did you mean one of these?\n",
      " ['Süße °Lakritz° Giraffen Schlange ', 'Helix Lakritz Schnecken ', 'Lucky Lakritz Stangen ', 'Süße Lakritz °Stangen° ', \"Salzlakritz Tubi's \"] \n",
      "\n"
     ]
    }
   ],
   "source": [
    "product_recommender(user_input)"
   ]
  },
  {
   "cell_type": "code",
   "execution_count": null,
   "id": "69bd1cfe-a8cf-4c3e-b258-959e7e5312c5",
   "metadata": {},
   "outputs": [],
   "source": []
  },
  {
   "cell_type": "markdown",
   "id": "72d3ba0f-a0f4-4e98-a637-2b8faa4131ff",
   "metadata": {},
   "source": [
    "### Version 2: input = choice of random sample"
   ]
  },
  {
   "cell_type": "markdown",
   "id": "2563a412-74be-4aa0-b686-2aefd92d8a52",
   "metadata": {},
   "source": [
    "**Function to get a random sample with all clusters**"
   ]
  },
  {
   "cell_type": "code",
   "execution_count": 34,
   "id": "a40f4ca7-3e65-4cd3-a71b-9b2d9df7428a",
   "metadata": {},
   "outputs": [],
   "source": [
    "def random_sample(df):\n",
    "    \n",
    "    cl_0 = df[df['cluster_2'] == 0].sample(1)\n",
    "    cl_1 = df[df['cluster_2'] == 1].sample(1)\n",
    "    cl_2 = df[df['cluster_2'] == 2].sample(1)\n",
    "    cl_3 = df[df['cluster_2'] == 3].sample(1)\n",
    "    \n",
    "    new_df = pd.concat([cl_0, cl_1, cl_2, cl_3], axis=0)\n",
    "    \n",
    "    return new_df"
   ]
  },
  {
   "cell_type": "code",
   "execution_count": 35,
   "id": "9cd7df19-5af4-484d-b106-1ed1e7c4cbc2",
   "metadata": {},
   "outputs": [
    {
     "data": {
      "text/html": [
       "<div>\n",
       "<style scoped>\n",
       "    .dataframe tbody tr th:only-of-type {\n",
       "        vertical-align: middle;\n",
       "    }\n",
       "\n",
       "    .dataframe tbody tr th {\n",
       "        vertical-align: top;\n",
       "    }\n",
       "\n",
       "    .dataframe thead th {\n",
       "        text-align: right;\n",
       "    }\n",
       "</style>\n",
       "<table border=\"1\" class=\"dataframe\">\n",
       "  <thead>\n",
       "    <tr style=\"text-align: right;\">\n",
       "      <th></th>\n",
       "      <th>Unnamed: 0</th>\n",
       "      <th>product</th>\n",
       "      <th>brand</th>\n",
       "      <th>price</th>\n",
       "      <th>weight</th>\n",
       "      <th>kj</th>\n",
       "      <th>kcal</th>\n",
       "      <th>fat</th>\n",
       "      <th>sat_fat</th>\n",
       "      <th>carbs</th>\n",
       "      <th>sugar</th>\n",
       "      <th>fibre</th>\n",
       "      <th>protein</th>\n",
       "      <th>salt</th>\n",
       "      <th>product_link</th>\n",
       "      <th>photo_link</th>\n",
       "      <th>price_weight</th>\n",
       "      <th>brand_new</th>\n",
       "      <th>cluster</th>\n",
       "      <th>cluster_2</th>\n",
       "    </tr>\n",
       "  </thead>\n",
       "  <tbody>\n",
       "    <tr>\n",
       "      <th>434</th>\n",
       "      <td>434</td>\n",
       "      <td>Riegel Mild °Kokos Kakaonibs°</td>\n",
       "      <td>Lovechock</td>\n",
       "      <td>2.49</td>\n",
       "      <td>0.040</td>\n",
       "      <td>2527.0</td>\n",
       "      <td>609.0</td>\n",
       "      <td>47.0</td>\n",
       "      <td>31.0</td>\n",
       "      <td>38.0</td>\n",
       "      <td>22.0</td>\n",
       "      <td>NaN</td>\n",
       "      <td>5.0</td>\n",
       "      <td>0.06</td>\n",
       "      <td>https://kokku-online.de/lovechock-riegel-cream...</td>\n",
       "      <td>https://kokku-online.de//bilder/350x350/16131/...</td>\n",
       "      <td>62.25</td>\n",
       "      <td>Lovechock</td>\n",
       "      <td>4</td>\n",
       "      <td>0</td>\n",
       "    </tr>\n",
       "    <tr>\n",
       "      <th>860</th>\n",
       "      <td>860</td>\n",
       "      <td>Mandeln mit Zimt &amp; Zucker</td>\n",
       "      <td>Vista Portuguese</td>\n",
       "      <td>7.90</td>\n",
       "      <td>0.125</td>\n",
       "      <td>2022.0</td>\n",
       "      <td>442.0</td>\n",
       "      <td>26.0</td>\n",
       "      <td>2.0</td>\n",
       "      <td>59.0</td>\n",
       "      <td>52.0</td>\n",
       "      <td>NaN</td>\n",
       "      <td>11.0</td>\n",
       "      <td>0.00</td>\n",
       "      <td>https://www.foodist.de/vista-portuguese-mandel...</td>\n",
       "      <td>https://foodist.imgix.net/media/image/56021326...</td>\n",
       "      <td>63.20</td>\n",
       "      <td>Other</td>\n",
       "      <td>2</td>\n",
       "      <td>1</td>\n",
       "    </tr>\n",
       "    <tr>\n",
       "      <th>1154</th>\n",
       "      <td>1154</td>\n",
       "      <td>BIO Fruchtgummi mit Colageschmack \"Mi Colazon\"</td>\n",
       "      <td>Not Guilty</td>\n",
       "      <td>1.70</td>\n",
       "      <td>0.100</td>\n",
       "      <td>1352.0</td>\n",
       "      <td>318.0</td>\n",
       "      <td>0.2</td>\n",
       "      <td>0.2</td>\n",
       "      <td>79.0</td>\n",
       "      <td>61.0</td>\n",
       "      <td>NaN</td>\n",
       "      <td>0.1</td>\n",
       "      <td>0.21</td>\n",
       "      <td>https://www.foodist.de/not-guilty-bio-fruchtgu...</td>\n",
       "      <td>https://foodist.imgix.net/media/image/36634580...</td>\n",
       "      <td>17.00</td>\n",
       "      <td>Not Guilty</td>\n",
       "      <td>2</td>\n",
       "      <td>2</td>\n",
       "    </tr>\n",
       "    <tr>\n",
       "      <th>107</th>\n",
       "      <td>107</td>\n",
       "      <td>Haferkeks mit Schokodrops</td>\n",
       "      <td>Koro</td>\n",
       "      <td>3.50</td>\n",
       "      <td>0.200</td>\n",
       "      <td>2057.0</td>\n",
       "      <td>492.0</td>\n",
       "      <td>28.0</td>\n",
       "      <td>13.0</td>\n",
       "      <td>56.0</td>\n",
       "      <td>0.0</td>\n",
       "      <td>42.0</td>\n",
       "      <td>85.0</td>\n",
       "      <td>0.00</td>\n",
       "      <td>https://www.korodrogerie.de/haferkeks-mit-scho...</td>\n",
       "      <td>https://koro2.imgix.net/media/image/d8/d9/aa/H...</td>\n",
       "      <td>17.50</td>\n",
       "      <td>Koro</td>\n",
       "      <td>0</td>\n",
       "      <td>3</td>\n",
       "    </tr>\n",
       "  </tbody>\n",
       "</table>\n",
       "</div>"
      ],
      "text/plain": [
       "      Unnamed: 0                                         product  \\\n",
       "434          434                  Riegel Mild °Kokos Kakaonibs°    \n",
       "860          860                       Mandeln mit Zimt & Zucker   \n",
       "1154        1154  BIO Fruchtgummi mit Colageschmack \"Mi Colazon\"   \n",
       "107          107                      Haferkeks mit Schokodrops    \n",
       "\n",
       "                 brand  price  weight      kj   kcal   fat  sat_fat  carbs  \\\n",
       "434          Lovechock   2.49   0.040  2527.0  609.0  47.0     31.0   38.0   \n",
       "860   Vista Portuguese   7.90   0.125  2022.0  442.0  26.0      2.0   59.0   \n",
       "1154        Not Guilty   1.70   0.100  1352.0  318.0   0.2      0.2   79.0   \n",
       "107               Koro   3.50   0.200  2057.0  492.0  28.0     13.0   56.0   \n",
       "\n",
       "      sugar  fibre  protein  salt  \\\n",
       "434    22.0    NaN      5.0  0.06   \n",
       "860    52.0    NaN     11.0  0.00   \n",
       "1154   61.0    NaN      0.1  0.21   \n",
       "107     0.0   42.0     85.0  0.00   \n",
       "\n",
       "                                           product_link  \\\n",
       "434   https://kokku-online.de/lovechock-riegel-cream...   \n",
       "860   https://www.foodist.de/vista-portuguese-mandel...   \n",
       "1154  https://www.foodist.de/not-guilty-bio-fruchtgu...   \n",
       "107   https://www.korodrogerie.de/haferkeks-mit-scho...   \n",
       "\n",
       "                                             photo_link  price_weight  \\\n",
       "434   https://kokku-online.de//bilder/350x350/16131/...         62.25   \n",
       "860   https://foodist.imgix.net/media/image/56021326...         63.20   \n",
       "1154  https://foodist.imgix.net/media/image/36634580...         17.00   \n",
       "107   https://koro2.imgix.net/media/image/d8/d9/aa/H...         17.50   \n",
       "\n",
       "       brand_new  cluster  cluster_2  \n",
       "434    Lovechock        4          0  \n",
       "860        Other        2          1  \n",
       "1154  Not Guilty        2          2  \n",
       "107         Koro        0          3  "
      ]
     },
     "execution_count": 35,
     "metadata": {},
     "output_type": "execute_result"
    }
   ],
   "source": [
    "new_df = random_sample(df)\n",
    "new_df"
   ]
  },
  {
   "cell_type": "code",
   "execution_count": 36,
   "id": "923cb251-6e0d-46d6-b4e7-be54d19aa362",
   "metadata": {},
   "outputs": [
    {
     "data": {
      "text/plain": [
       "'https://kokku-online.de//bilder/350x350/16131/lovechock-riegel-creamy-kokos-kakaonibs.auto'"
      ]
     },
     "execution_count": 36,
     "metadata": {},
     "output_type": "execute_result"
    }
   ],
   "source": [
    "new_df['photo_link'].values[0]"
   ]
  },
  {
   "cell_type": "markdown",
   "id": "17dcd7a7-e3be-4f04-82cb-dbcc0b5baadb",
   "metadata": {},
   "source": [
    "**Getting details from single products**"
   ]
  },
  {
   "cell_type": "code",
   "execution_count": 37,
   "id": "b83a2e61-496e-4700-b548-1ce96584e473",
   "metadata": {},
   "outputs": [],
   "source": [
    "def get_details(df, pos):\n",
    "    \n",
    "    new_df = random_sample(df)\n",
    "    \n",
    "    name = new_df['product'].values[pos]\n",
    "    link = new_df['product_link'].values[pos]\n",
    "    photo = new_df['photo_link'].values[pos]\n",
    "    \n",
    "    return name, link, photo"
   ]
  },
  {
   "cell_type": "code",
   "execution_count": 38,
   "id": "8a32196c-6e62-4a1e-b160-52423e88acf9",
   "metadata": {},
   "outputs": [
    {
     "data": {
      "text/plain": [
       "('BIO vegane Schokoladentafel \"Voll ohne Muh\" Haselnuss Crunch',\n",
       " 'https://www.foodist.de/mylkchocy-bio-vegane-schokoladentafel-voll-ohne-muh-haselnuss-crunch-9264',\n",
       " 'https://foodist.imgix.net/media/image/4033773010729_1.jpg?auto=compress%2Cformat&h=60&q=20&w=60')"
      ]
     },
     "execution_count": 38,
     "metadata": {},
     "output_type": "execute_result"
    }
   ],
   "source": [
    "cl_0 = get_details(df, 0)\n",
    "cl_0"
   ]
  },
  {
   "cell_type": "markdown",
   "id": "db2eff91-bb47-4203-9b88-001ce43614f1",
   "metadata": {},
   "source": [
    "**Product recommender (input = product name)**"
   ]
  },
  {
   "cell_type": "code",
   "execution_count": 41,
   "id": "e843c934-b733-4013-95c1-273700767e6c",
   "metadata": {},
   "outputs": [],
   "source": [
    "def get_details_adj(df, pos):\n",
    "    \n",
    "    name = df['product'].values[pos]\n",
    "    link = df['product_link'].values[pos]\n",
    "    photo = df['photo_link'].values[pos]\n",
    "    \n",
    "    return name, link, photo"
   ]
  },
  {
   "cell_type": "code",
   "execution_count": 53,
   "id": "7afd79d3-9f5e-40bb-8773-bc7af5b33833",
   "metadata": {},
   "outputs": [],
   "source": [
    "def product_recommender(df, option):\n",
    "    \n",
    "    counter = -1\n",
    "    \n",
    "    for p in df['product']:\n",
    "        \n",
    "        counter +=1\n",
    "        \n",
    "        if p == option:\n",
    "            cluster_product = df['cluster_2'].iloc[counter]\n",
    "            \n",
    "            new_snacks = df[df['cluster_2'] == cluster_product].sample(5)\n",
    "            \n",
    "            snack_1 = get_details_adj(new_snacks, 0)\n",
    "            snack_2 = get_details_adj(new_snacks, 1)\n",
    "            snack_3 = get_details_adj(new_snacks, 2)\n",
    "            snack_4 = get_details_adj(new_snacks, 3)\n",
    "            snack_5 = get_details_adj(new_snacks, 4)\n",
    "            \n",
    "            #print('Your snack recommendations are: ', snack_1[0], snack_2[0])\n",
    "        else:\n",
    "            continue\n",
    "    \n",
    "    return cluster_product, snack_1, snack_2, snack_3, snack_4, snack_5"
   ]
  },
  {
   "cell_type": "code",
   "execution_count": 54,
   "id": "d052b277-ff03-472a-a7f5-058c97a53b88",
   "metadata": {},
   "outputs": [],
   "source": [
    "final_snacks = product_recommender(df, 'Premium Bar Organic °Original° ')"
   ]
  },
  {
   "cell_type": "code",
   "execution_count": 56,
   "id": "bfc44371-6826-4e1d-9841-b724906522bc",
   "metadata": {},
   "outputs": [
    {
     "data": {
      "text/plain": [
       "(0,\n",
       " ('Bio Energy Ball Erdbeere & Chia  ',\n",
       "  'https://www.korodrogerie.de/bio-energy-ball-erdbeere-chia-2-x-17-g',\n",
       "  'https://koro2.imgix.net/media/image/81/c9/5f/BLISS_027-Lagerbild.jpg?auto=compress%2Cformat&w=900&h=900'))"
      ]
     },
     "execution_count": 56,
     "metadata": {},
     "output_type": "execute_result"
    }
   ],
   "source": [
    "final_snacks[0], final_snacks[1]"
   ]
  },
  {
   "cell_type": "code",
   "execution_count": null,
   "id": "543a8f31-9ee7-450c-8e29-c476e9aab703",
   "metadata": {},
   "outputs": [],
   "source": []
  }
 ],
 "metadata": {
  "kernelspec": {
   "display_name": "Python 3",
   "language": "python",
   "name": "python3"
  },
  "language_info": {
   "codemirror_mode": {
    "name": "ipython",
    "version": 3
   },
   "file_extension": ".py",
   "mimetype": "text/x-python",
   "name": "python",
   "nbconvert_exporter": "python",
   "pygments_lexer": "ipython3",
   "version": "3.9.6"
  }
 },
 "nbformat": 4,
 "nbformat_minor": 5
}
