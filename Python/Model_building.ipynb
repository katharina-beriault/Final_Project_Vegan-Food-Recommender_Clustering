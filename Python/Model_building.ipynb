{
 "cells": [
  {
   "cell_type": "markdown",
   "id": "ba3437f0-2874-4578-a407-2ea492d6260b",
   "metadata": {},
   "source": [
    "# Building the model (K-means)"
   ]
  },
  {
   "cell_type": "markdown",
   "id": "755ebb60-3b7f-42d7-bdfd-789768a5cac6",
   "metadata": {},
   "source": [
    "## Libraries"
   ]
  },
  {
   "cell_type": "code",
   "execution_count": 2,
   "id": "6cb08f8b-48cb-4202-99b0-f72b937f03f0",
   "metadata": {},
   "outputs": [],
   "source": [
    "import matplotlib.pyplot as plt\n",
    "\n",
    "import numpy as np\n",
    "import pandas as pd\n",
    "\n",
    "from sklearn.cluster import KMeans\n",
    "from sklearn.metrics import classification_report\n",
    "from sklearn.metrics import silhouette_score\n",
    "from sklearn.preprocessing import StandardScaler"
   ]
  },
  {
   "cell_type": "markdown",
   "id": "75ebb623-a972-4412-8b85-30b8f7ef367a",
   "metadata": {},
   "source": [
    "## Importing the data"
   ]
  },
  {
   "cell_type": "code",
   "execution_count": 3,
   "id": "b69246ff-2538-4069-b279-93c759704d62",
   "metadata": {},
   "outputs": [],
   "source": [
    "df = pd.read_csv('final_df.csv')"
   ]
  },
  {
   "cell_type": "code",
   "execution_count": 4,
   "id": "001e0d72-834f-479e-ab36-8b45d812e26f",
   "metadata": {},
   "outputs": [
    {
     "data": {
      "text/plain": [
       "(1232, 16)"
      ]
     },
     "execution_count": 4,
     "metadata": {},
     "output_type": "execute_result"
    }
   ],
   "source": [
    "df.shape"
   ]
  },
  {
   "cell_type": "code",
   "execution_count": 5,
   "id": "26a05930-638c-4cc9-946f-75902155e4e6",
   "metadata": {},
   "outputs": [
    {
     "data": {
      "text/html": [
       "<div>\n",
       "<style scoped>\n",
       "    .dataframe tbody tr th:only-of-type {\n",
       "        vertical-align: middle;\n",
       "    }\n",
       "\n",
       "    .dataframe tbody tr th {\n",
       "        vertical-align: top;\n",
       "    }\n",
       "\n",
       "    .dataframe thead th {\n",
       "        text-align: right;\n",
       "    }\n",
       "</style>\n",
       "<table border=\"1\" class=\"dataframe\">\n",
       "  <thead>\n",
       "    <tr style=\"text-align: right;\">\n",
       "      <th></th>\n",
       "      <th>Unnamed: 0</th>\n",
       "      <th>product</th>\n",
       "      <th>brand</th>\n",
       "      <th>price</th>\n",
       "      <th>weight</th>\n",
       "      <th>kj</th>\n",
       "      <th>kcal</th>\n",
       "      <th>fat</th>\n",
       "      <th>sat_fat</th>\n",
       "      <th>carbs</th>\n",
       "      <th>sugar</th>\n",
       "      <th>fibre</th>\n",
       "      <th>protein</th>\n",
       "      <th>salt</th>\n",
       "      <th>product_link</th>\n",
       "      <th>photo_link</th>\n",
       "    </tr>\n",
       "  </thead>\n",
       "  <tbody>\n",
       "    <tr>\n",
       "      <th>0</th>\n",
       "      <td>0</td>\n",
       "      <td>Soja Protein Crispies 58 % mit Kakao</td>\n",
       "      <td>Koro</td>\n",
       "      <td>14.0</td>\n",
       "      <td>1.0</td>\n",
       "      <td>1535.0</td>\n",
       "      <td>362.0</td>\n",
       "      <td>19.0</td>\n",
       "      <td>4.0</td>\n",
       "      <td>282.0</td>\n",
       "      <td>91.0</td>\n",
       "      <td>18.0</td>\n",
       "      <td>58.0</td>\n",
       "      <td>27.0</td>\n",
       "      <td>https://www.korodrogerie.de/soja-protein-crisp...</td>\n",
       "      <td>https://koro2.imgix.net/media/image/f1/50/81/C...</td>\n",
       "    </tr>\n",
       "    <tr>\n",
       "      <th>1</th>\n",
       "      <td>1</td>\n",
       "      <td>Schokodrops mit Xylit</td>\n",
       "      <td>Koro</td>\n",
       "      <td>21.0</td>\n",
       "      <td>1.0</td>\n",
       "      <td>2290.0</td>\n",
       "      <td>555.0</td>\n",
       "      <td>46.0</td>\n",
       "      <td>28.0</td>\n",
       "      <td>31.0</td>\n",
       "      <td>10.0</td>\n",
       "      <td>10.0</td>\n",
       "      <td>92.0</td>\n",
       "      <td>7.0</td>\n",
       "      <td>https://www.korodrogerie.de/schokodrops-mit-xy...</td>\n",
       "      <td>https://koro2.imgix.net/media/image/2c/01/f8/S...</td>\n",
       "    </tr>\n",
       "    <tr>\n",
       "      <th>2</th>\n",
       "      <td>2</td>\n",
       "      <td>Schoko Protein Crunchies ohne Zuckerzusatz</td>\n",
       "      <td>Koro</td>\n",
       "      <td>20.0</td>\n",
       "      <td>1.0</td>\n",
       "      <td>1875.0</td>\n",
       "      <td>448.0</td>\n",
       "      <td>28.0</td>\n",
       "      <td>12.0</td>\n",
       "      <td>37.0</td>\n",
       "      <td>14.0</td>\n",
       "      <td>83.0</td>\n",
       "      <td>21.0</td>\n",
       "      <td>36.0</td>\n",
       "      <td>https://www.korodrogerie.de/schoko-protein-cru...</td>\n",
       "      <td>https://koro2.imgix.net/media/image/30/78/62/P...</td>\n",
       "    </tr>\n",
       "    <tr>\n",
       "      <th>3</th>\n",
       "      <td>3</td>\n",
       "      <td>Soja Protein Crispies 60 %</td>\n",
       "      <td>Koro</td>\n",
       "      <td>13.0</td>\n",
       "      <td>1.0</td>\n",
       "      <td>1541.0</td>\n",
       "      <td>363.0</td>\n",
       "      <td>18.0</td>\n",
       "      <td>2.0</td>\n",
       "      <td>26.0</td>\n",
       "      <td>8.0</td>\n",
       "      <td>8.0</td>\n",
       "      <td>60.0</td>\n",
       "      <td>32.0</td>\n",
       "      <td>https://www.korodrogerie.de/soja-protein-crisp...</td>\n",
       "      <td>https://koro2.imgix.net/media/image/84/55/ca/C...</td>\n",
       "    </tr>\n",
       "    <tr>\n",
       "      <th>4</th>\n",
       "      <td>4</td>\n",
       "      <td>Bohnen-Erbsen-Mix geröstet &amp; gesalzen</td>\n",
       "      <td>Koro</td>\n",
       "      <td>11.5</td>\n",
       "      <td>1.0</td>\n",
       "      <td>1766.0</td>\n",
       "      <td>421.0</td>\n",
       "      <td>14.0</td>\n",
       "      <td>23.0</td>\n",
       "      <td>35.0</td>\n",
       "      <td>67.0</td>\n",
       "      <td>10.0</td>\n",
       "      <td>33.0</td>\n",
       "      <td>10.0</td>\n",
       "      <td>https://www.korodrogerie.de/bohnen-erbsen-mix-...</td>\n",
       "      <td>https://koro2.imgix.net/media/image/a9/37/79/B...</td>\n",
       "    </tr>\n",
       "  </tbody>\n",
       "</table>\n",
       "</div>"
      ],
      "text/plain": [
       "   Unnamed: 0                                      product brand  price  \\\n",
       "0           0        Soja Protein Crispies 58 % mit Kakao   Koro   14.0   \n",
       "1           1                       Schokodrops mit Xylit   Koro   21.0   \n",
       "2           2  Schoko Protein Crunchies ohne Zuckerzusatz   Koro   20.0   \n",
       "3           3                  Soja Protein Crispies 60 %   Koro   13.0   \n",
       "4           4       Bohnen-Erbsen-Mix geröstet & gesalzen   Koro   11.5   \n",
       "\n",
       "   weight      kj   kcal   fat  sat_fat  carbs  sugar  fibre  protein  salt  \\\n",
       "0     1.0  1535.0  362.0  19.0      4.0  282.0   91.0   18.0     58.0  27.0   \n",
       "1     1.0  2290.0  555.0  46.0     28.0   31.0   10.0   10.0     92.0   7.0   \n",
       "2     1.0  1875.0  448.0  28.0     12.0   37.0   14.0   83.0     21.0  36.0   \n",
       "3     1.0  1541.0  363.0  18.0      2.0   26.0    8.0    8.0     60.0  32.0   \n",
       "4     1.0  1766.0  421.0  14.0     23.0   35.0   67.0   10.0     33.0  10.0   \n",
       "\n",
       "                                        product_link  \\\n",
       "0  https://www.korodrogerie.de/soja-protein-crisp...   \n",
       "1  https://www.korodrogerie.de/schokodrops-mit-xy...   \n",
       "2  https://www.korodrogerie.de/schoko-protein-cru...   \n",
       "3  https://www.korodrogerie.de/soja-protein-crisp...   \n",
       "4  https://www.korodrogerie.de/bohnen-erbsen-mix-...   \n",
       "\n",
       "                                          photo_link  \n",
       "0  https://koro2.imgix.net/media/image/f1/50/81/C...  \n",
       "1  https://koro2.imgix.net/media/image/2c/01/f8/S...  \n",
       "2  https://koro2.imgix.net/media/image/30/78/62/P...  \n",
       "3  https://koro2.imgix.net/media/image/84/55/ca/C...  \n",
       "4  https://koro2.imgix.net/media/image/a9/37/79/B...  "
      ]
     },
     "execution_count": 5,
     "metadata": {},
     "output_type": "execute_result"
    }
   ],
   "source": [
    "df.head()"
   ]
  },
  {
   "cell_type": "markdown",
   "id": "695c72d6-e96c-45e4-bfa3-39ae0b617b73",
   "metadata": {},
   "source": [
    "## Preprocessing the data"
   ]
  },
  {
   "cell_type": "markdown",
   "id": "b9098433-928b-4465-85bb-58a4dd889715",
   "metadata": {},
   "source": [
    "#### Dropping duplicate index column"
   ]
  },
  {
   "cell_type": "code",
   "execution_count": 8,
   "id": "9956b75d-7ab6-4986-8491-4d1d738d21a3",
   "metadata": {},
   "outputs": [],
   "source": [
    "df = df.drop('Unnamed: 0', axis=1)"
   ]
  },
  {
   "cell_type": "markdown",
   "id": "bcc06cb1-0859-47ca-a461-08f3b1ee073e",
   "metadata": {},
   "source": [
    "#### Reducing number of items in brand column"
   ]
  },
  {
   "cell_type": "code",
   "execution_count": 43,
   "id": "0aad38b9-199b-4ea1-84ad-946d290bf7e8",
   "metadata": {},
   "outputs": [],
   "source": [
    "pd.set_option('display.min_rows', 40)\n",
    "pd.set_option('display.max_rows', 40)"
   ]
  },
  {
   "cell_type": "code",
   "execution_count": 44,
   "id": "d2156ac5-68bf-4dd4-8cea-369edffe0e51",
   "metadata": {},
   "outputs": [
    {
     "data": {
      "text/plain": [
       "Koro                   221\n",
       "Foodist                 96\n",
       "mind sweets             40\n",
       "Plamil                  30\n",
       "Heimatgut               29\n",
       "Lovechock               28\n",
       "Lini's Bites            27\n",
       "Vivani                  27\n",
       "Moo Free                26\n",
       "Rapunzel                20\n",
       "Lubs                    20\n",
       "Birkengold              19\n",
       "Not Guilty              18\n",
       "MYLKCHOCY               18\n",
       "Taste of Nature         18\n",
       "Zebra                   18\n",
       "Green & More            18\n",
       "ÖKOVITAL                16\n",
       "Zotter                  16\n",
       "Naturata                16\n",
       "                      ... \n",
       "RUF                      3\n",
       "Kuhbonbon                3\n",
       "Clarana                  3\n",
       "Wheaty                   3\n",
       "Le Moulin du Pivert      2\n",
       "BauckHof                 2\n",
       "3 Pauly                  2\n",
       "frusano                  2\n",
       "Gross                    2\n",
       "Biovegan                 2\n",
       "Rettergut                2\n",
       "Fine Gusto               2\n",
       "Lord of Tofu             1\n",
       "Liebhart's               1\n",
       "Raab                     1\n",
       "Céliane                  1\n",
       "veggyness                1\n",
       "Biolandhof Klein         1\n",
       "Sonnentor                1\n",
       "deBron                   1\n",
       "Name: brand, Length: 104, dtype: int64"
      ]
     },
     "execution_count": 44,
     "metadata": {},
     "output_type": "execute_result"
    }
   ],
   "source": [
    "df['brand'].value_counts()"
   ]
  },
  {
   "cell_type": "code",
   "execution_count": 42,
   "id": "38c86ad5-0d3f-4d6c-b019-4bbb8c86c846",
   "metadata": {},
   "outputs": [],
   "source": [
    "def clean_brand(col, lst_brands=[]):\n",
    "    \n",
    "    brand_new = []\n",
    "    \n",
    "    for p in col:\n",
    "        if p not in lst_brands:\n",
    "            brand_new.append('Other')\n",
    "        else:\n",
    "            brand_new.append(p)\n",
    "    \n",
    "    return brand_new"
   ]
  },
  {
   "cell_type": "code",
   "execution_count": null,
   "id": "89191892-e84a-4425-bbcb-557c84641397",
   "metadata": {},
   "outputs": [],
   "source": [
    "keep_brands = []\n",
    "\n",
    "df['brand_new'] = clean_brand(df['brand'], lst_brands=keep_brands)\n",
    "df['brand_new'].value_counts()"
   ]
  },
  {
   "cell_type": "markdown",
   "id": "2e39c302-1ca1-49c9-b6b1-ab318591018e",
   "metadata": {},
   "source": [
    "#### Get dummies for brand column"
   ]
  },
  {
   "cell_type": "code",
   "execution_count": null,
   "id": "f29fcdbd-b462-4676-aa03-20ce0e916b92",
   "metadata": {},
   "outputs": [],
   "source": []
  },
  {
   "cell_type": "markdown",
   "id": "831ec414-7b24-4f83-afff-24446cbf7007",
   "metadata": {},
   "source": [
    "#### New dataframe (numerical columns only)"
   ]
  },
  {
   "cell_type": "code",
   "execution_count": 9,
   "id": "7e813ffe-3744-486b-bd7a-faad7e653e70",
   "metadata": {},
   "outputs": [],
   "source": [
    "df_num = df.select_dtypes(np.number)"
   ]
  },
  {
   "cell_type": "code",
   "execution_count": 10,
   "id": "231ee10a-33a9-467d-b463-236dafffdcca",
   "metadata": {},
   "outputs": [
    {
     "data": {
      "text/html": [
       "<div>\n",
       "<style scoped>\n",
       "    .dataframe tbody tr th:only-of-type {\n",
       "        vertical-align: middle;\n",
       "    }\n",
       "\n",
       "    .dataframe tbody tr th {\n",
       "        vertical-align: top;\n",
       "    }\n",
       "\n",
       "    .dataframe thead th {\n",
       "        text-align: right;\n",
       "    }\n",
       "</style>\n",
       "<table border=\"1\" class=\"dataframe\">\n",
       "  <thead>\n",
       "    <tr style=\"text-align: right;\">\n",
       "      <th></th>\n",
       "      <th>price</th>\n",
       "      <th>weight</th>\n",
       "      <th>kj</th>\n",
       "      <th>kcal</th>\n",
       "      <th>fat</th>\n",
       "      <th>sat_fat</th>\n",
       "      <th>carbs</th>\n",
       "      <th>sugar</th>\n",
       "      <th>fibre</th>\n",
       "      <th>protein</th>\n",
       "      <th>salt</th>\n",
       "    </tr>\n",
       "  </thead>\n",
       "  <tbody>\n",
       "    <tr>\n",
       "      <th>0</th>\n",
       "      <td>14.0</td>\n",
       "      <td>1.0</td>\n",
       "      <td>1535.0</td>\n",
       "      <td>362.0</td>\n",
       "      <td>19.0</td>\n",
       "      <td>4.0</td>\n",
       "      <td>282.0</td>\n",
       "      <td>91.0</td>\n",
       "      <td>18.0</td>\n",
       "      <td>58.0</td>\n",
       "      <td>27.0</td>\n",
       "    </tr>\n",
       "    <tr>\n",
       "      <th>1</th>\n",
       "      <td>21.0</td>\n",
       "      <td>1.0</td>\n",
       "      <td>2290.0</td>\n",
       "      <td>555.0</td>\n",
       "      <td>46.0</td>\n",
       "      <td>28.0</td>\n",
       "      <td>31.0</td>\n",
       "      <td>10.0</td>\n",
       "      <td>10.0</td>\n",
       "      <td>92.0</td>\n",
       "      <td>7.0</td>\n",
       "    </tr>\n",
       "    <tr>\n",
       "      <th>2</th>\n",
       "      <td>20.0</td>\n",
       "      <td>1.0</td>\n",
       "      <td>1875.0</td>\n",
       "      <td>448.0</td>\n",
       "      <td>28.0</td>\n",
       "      <td>12.0</td>\n",
       "      <td>37.0</td>\n",
       "      <td>14.0</td>\n",
       "      <td>83.0</td>\n",
       "      <td>21.0</td>\n",
       "      <td>36.0</td>\n",
       "    </tr>\n",
       "    <tr>\n",
       "      <th>3</th>\n",
       "      <td>13.0</td>\n",
       "      <td>1.0</td>\n",
       "      <td>1541.0</td>\n",
       "      <td>363.0</td>\n",
       "      <td>18.0</td>\n",
       "      <td>2.0</td>\n",
       "      <td>26.0</td>\n",
       "      <td>8.0</td>\n",
       "      <td>8.0</td>\n",
       "      <td>60.0</td>\n",
       "      <td>32.0</td>\n",
       "    </tr>\n",
       "    <tr>\n",
       "      <th>4</th>\n",
       "      <td>11.5</td>\n",
       "      <td>1.0</td>\n",
       "      <td>1766.0</td>\n",
       "      <td>421.0</td>\n",
       "      <td>14.0</td>\n",
       "      <td>23.0</td>\n",
       "      <td>35.0</td>\n",
       "      <td>67.0</td>\n",
       "      <td>10.0</td>\n",
       "      <td>33.0</td>\n",
       "      <td>10.0</td>\n",
       "    </tr>\n",
       "  </tbody>\n",
       "</table>\n",
       "</div>"
      ],
      "text/plain": [
       "   price  weight      kj   kcal   fat  sat_fat  carbs  sugar  fibre  protein  \\\n",
       "0   14.0     1.0  1535.0  362.0  19.0      4.0  282.0   91.0   18.0     58.0   \n",
       "1   21.0     1.0  2290.0  555.0  46.0     28.0   31.0   10.0   10.0     92.0   \n",
       "2   20.0     1.0  1875.0  448.0  28.0     12.0   37.0   14.0   83.0     21.0   \n",
       "3   13.0     1.0  1541.0  363.0  18.0      2.0   26.0    8.0    8.0     60.0   \n",
       "4   11.5     1.0  1766.0  421.0  14.0     23.0   35.0   67.0   10.0     33.0   \n",
       "\n",
       "   salt  \n",
       "0  27.0  \n",
       "1   7.0  \n",
       "2  36.0  \n",
       "3  32.0  \n",
       "4  10.0  "
      ]
     },
     "execution_count": 10,
     "metadata": {},
     "output_type": "execute_result"
    }
   ],
   "source": [
    "df_num.head()"
   ]
  },
  {
   "cell_type": "markdown",
   "id": "b842717a-e4a0-4b54-8f30-191ea84a1275",
   "metadata": {},
   "source": [
    "#### Null values"
   ]
  },
  {
   "cell_type": "code",
   "execution_count": null,
   "id": "b679be87-8b05-470d-8d24-7e844f76dc14",
   "metadata": {},
   "outputs": [],
   "source": []
  },
  {
   "cell_type": "code",
   "execution_count": null,
   "id": "9dd1fb70-b79d-474a-99c4-9df2fab749fc",
   "metadata": {},
   "outputs": [],
   "source": []
  },
  {
   "cell_type": "markdown",
   "id": "63a3c3d6-8439-4eff-900b-339f4c3d2f2a",
   "metadata": {},
   "source": [
    "#### Scaling the data"
   ]
  },
  {
   "cell_type": "code",
   "execution_count": null,
   "id": "d60828ca-72d8-40cb-831d-9120504a9a10",
   "metadata": {},
   "outputs": [],
   "source": []
  },
  {
   "cell_type": "code",
   "execution_count": null,
   "id": "8b4f033d-e1c7-47e9-a2d6-22e030f1f00d",
   "metadata": {},
   "outputs": [],
   "source": []
  },
  {
   "cell_type": "markdown",
   "id": "d9d6e61a-8e16-4ceb-aa95-3c79df86ce9f",
   "metadata": {},
   "source": [
    "## Model building"
   ]
  },
  {
   "cell_type": "markdown",
   "id": "c47ddb2f-fa6d-4ecf-a345-79421a599d3a",
   "metadata": {},
   "source": [
    "### First run"
   ]
  },
  {
   "cell_type": "code",
   "execution_count": 22,
   "id": "39ad2bcb-b64a-431f-98b9-090f01190c61",
   "metadata": {},
   "outputs": [
    {
     "data": {
      "text/plain": [
       "KMeans(n_clusters=3, random_state=42)"
      ]
     },
     "execution_count": 22,
     "metadata": {},
     "output_type": "execute_result"
    }
   ],
   "source": [
    "kmeans = KMeans(n_clusters=3, random_state=42)\n",
    "kmeans.fit(df)"
   ]
  },
  {
   "cell_type": "code",
   "execution_count": 23,
   "id": "a6357b43-2f71-4b56-86a4-8b7db2edca1b",
   "metadata": {},
   "outputs": [
    {
     "data": {
      "text/plain": [
       "array([2, 0, 1, 2, 0, 0, 1, 0, 2, 0, 1, 2, 0, 0, 2, 2, 2, 0, 2, 1, 2, 2,\n",
       "       0, 2, 2, 0, 2, 2, 1, 2, 1, 2, 2, 0, 0, 1, 2, 0, 2, 0, 1, 1, 1, 0,\n",
       "       1, 2, 1, 2, 2, 2, 1, 1, 0, 0, 1, 2, 2, 0, 0, 0, 2, 1, 2, 2, 2, 0,\n",
       "       2, 0, 0, 2, 2, 1, 0, 0, 0, 2, 0, 0, 0, 0, 1, 0, 1, 1, 0, 1, 0, 2,\n",
       "       2, 2, 0, 1, 2, 1, 0, 2, 2, 0, 1, 0, 1, 1, 1, 2, 0, 1, 1, 1, 0, 1,\n",
       "       1, 0, 2, 2, 1, 0, 0, 2, 2, 0, 0, 0, 0, 2, 0, 2, 0, 0, 2, 0, 0, 2,\n",
       "       2, 2, 0, 2, 1, 0, 1])"
      ]
     },
     "execution_count": 23,
     "metadata": {},
     "output_type": "execute_result"
    }
   ],
   "source": [
    "# Predicting / assigning the clusters:\n",
    "clusters = kmeans.predict(new_df_transformed)\n",
    "clusters"
   ]
  },
  {
   "cell_type": "code",
   "execution_count": 24,
   "id": "e5d41091-f9cd-4fb0-8dd9-a3b0d11a2ea2",
   "metadata": {},
   "outputs": [
    {
     "data": {
      "text/plain": [
       "0    53\n",
       "1    35\n",
       "2    51\n",
       "dtype: int64"
      ]
     },
     "execution_count": 24,
     "metadata": {},
     "output_type": "execute_result"
    }
   ],
   "source": [
    "# Check the size of the clusters\n",
    "pd.Series(clusters).value_counts().sort_index()"
   ]
  },
  {
   "cell_type": "code",
   "execution_count": 25,
   "id": "b26348ce-d759-43e0-84f3-b2e3a0eea2c7",
   "metadata": {},
   "outputs": [
    {
     "data": {
      "text/html": [
       "<div>\n",
       "<style scoped>\n",
       "    .dataframe tbody tr th:only-of-type {\n",
       "        vertical-align: middle;\n",
       "    }\n",
       "\n",
       "    .dataframe tbody tr th {\n",
       "        vertical-align: top;\n",
       "    }\n",
       "\n",
       "    .dataframe thead th {\n",
       "        text-align: right;\n",
       "    }\n",
       "</style>\n",
       "<table border=\"1\" class=\"dataframe\">\n",
       "  <thead>\n",
       "    <tr style=\"text-align: right;\">\n",
       "      <th></th>\n",
       "      <th>danceability</th>\n",
       "      <th>energy</th>\n",
       "      <th>key</th>\n",
       "      <th>loudness</th>\n",
       "      <th>mode</th>\n",
       "      <th>speechiness</th>\n",
       "      <th>acousticness</th>\n",
       "      <th>instrumentalness</th>\n",
       "      <th>liveness</th>\n",
       "      <th>valence</th>\n",
       "      <th>tempo</th>\n",
       "      <th>duration_ms</th>\n",
       "      <th>time_signature</th>\n",
       "      <th>cluster</th>\n",
       "    </tr>\n",
       "  </thead>\n",
       "  <tbody>\n",
       "    <tr>\n",
       "      <th>0</th>\n",
       "      <td>0.507</td>\n",
       "      <td>0.207</td>\n",
       "      <td>0</td>\n",
       "      <td>-10.215</td>\n",
       "      <td>1</td>\n",
       "      <td>0.0998</td>\n",
       "      <td>0.9310</td>\n",
       "      <td>0.000000</td>\n",
       "      <td>0.2290</td>\n",
       "      <td>0.774</td>\n",
       "      <td>68.600</td>\n",
       "      <td>2.645333</td>\n",
       "      <td>4</td>\n",
       "      <td>2</td>\n",
       "    </tr>\n",
       "    <tr>\n",
       "      <th>1</th>\n",
       "      <td>0.725</td>\n",
       "      <td>0.571</td>\n",
       "      <td>1</td>\n",
       "      <td>-6.007</td>\n",
       "      <td>1</td>\n",
       "      <td>0.1020</td>\n",
       "      <td>0.0183</td>\n",
       "      <td>0.000000</td>\n",
       "      <td>0.0519</td>\n",
       "      <td>0.610</td>\n",
       "      <td>146.035</td>\n",
       "      <td>3.348000</td>\n",
       "      <td>4</td>\n",
       "      <td>0</td>\n",
       "    </tr>\n",
       "    <tr>\n",
       "      <th>2</th>\n",
       "      <td>0.339</td>\n",
       "      <td>0.214</td>\n",
       "      <td>4</td>\n",
       "      <td>-11.714</td>\n",
       "      <td>1</td>\n",
       "      <td>0.0375</td>\n",
       "      <td>0.9080</td>\n",
       "      <td>0.000007</td>\n",
       "      <td>0.3410</td>\n",
       "      <td>0.363</td>\n",
       "      <td>94.775</td>\n",
       "      <td>3.444000</td>\n",
       "      <td>3</td>\n",
       "      <td>1</td>\n",
       "    </tr>\n",
       "    <tr>\n",
       "      <th>3</th>\n",
       "      <td>0.657</td>\n",
       "      <td>0.560</td>\n",
       "      <td>6</td>\n",
       "      <td>-9.049</td>\n",
       "      <td>0</td>\n",
       "      <td>0.0467</td>\n",
       "      <td>0.4980</td>\n",
       "      <td>0.000000</td>\n",
       "      <td>0.0794</td>\n",
       "      <td>0.854</td>\n",
       "      <td>161.993</td>\n",
       "      <td>3.049117</td>\n",
       "      <td>4</td>\n",
       "      <td>2</td>\n",
       "    </tr>\n",
       "    <tr>\n",
       "      <th>4</th>\n",
       "      <td>0.336</td>\n",
       "      <td>0.627</td>\n",
       "      <td>7</td>\n",
       "      <td>-7.463</td>\n",
       "      <td>1</td>\n",
       "      <td>0.0384</td>\n",
       "      <td>0.1640</td>\n",
       "      <td>0.000000</td>\n",
       "      <td>0.0708</td>\n",
       "      <td>0.350</td>\n",
       "      <td>150.273</td>\n",
       "      <td>4.018450</td>\n",
       "      <td>4</td>\n",
       "      <td>0</td>\n",
       "    </tr>\n",
       "  </tbody>\n",
       "</table>\n",
       "</div>"
      ],
      "text/plain": [
       "   danceability  energy  key  loudness  mode  speechiness  acousticness  \\\n",
       "0         0.507   0.207    0   -10.215     1       0.0998        0.9310   \n",
       "1         0.725   0.571    1    -6.007     1       0.1020        0.0183   \n",
       "2         0.339   0.214    4   -11.714     1       0.0375        0.9080   \n",
       "3         0.657   0.560    6    -9.049     0       0.0467        0.4980   \n",
       "4         0.336   0.627    7    -7.463     1       0.0384        0.1640   \n",
       "\n",
       "   instrumentalness  liveness  valence    tempo  duration_ms  time_signature  \\\n",
       "0          0.000000    0.2290    0.774   68.600     2.645333               4   \n",
       "1          0.000000    0.0519    0.610  146.035     3.348000               4   \n",
       "2          0.000007    0.3410    0.363   94.775     3.444000               3   \n",
       "3          0.000000    0.0794    0.854  161.993     3.049117               4   \n",
       "4          0.000000    0.0708    0.350  150.273     4.018450               4   \n",
       "\n",
       "   cluster  \n",
       "0        2  \n",
       "1        0  \n",
       "2        1  \n",
       "3        2  \n",
       "4        0  "
      ]
     },
     "execution_count": 25,
     "metadata": {},
     "output_type": "execute_result"
    }
   ],
   "source": [
    "# Explore the cluster assignment in the original dataset\n",
    "new_df['cluster'] = clusters\n",
    "new_df.head()"
   ]
  },
  {
   "cell_type": "code",
   "execution_count": 26,
   "id": "de22ef2d-d960-4cd2-865e-dbb1a59b1fee",
   "metadata": {},
   "outputs": [
    {
     "data": {
      "text/plain": [
       "1356.6906162267012"
      ]
     },
     "execution_count": 26,
     "metadata": {},
     "output_type": "execute_result"
    }
   ],
   "source": [
    "# \"performance metric\"\n",
    "kmeans.inertia_"
   ]
  },
  {
   "cell_type": "markdown",
   "id": "20e9b090-e24a-43cc-95cd-aafa37c5b58d",
   "metadata": {},
   "source": [
    "### Chosing the best k"
   ]
  },
  {
   "cell_type": "code",
   "execution_count": null,
   "id": "6a37fc01-e47d-441e-b0c4-a778dfd4bee1",
   "metadata": {},
   "outputs": [],
   "source": []
  },
  {
   "cell_type": "code",
   "execution_count": 27,
   "id": "b55806ed-5246-47bf-bfad-eef773646a0b",
   "metadata": {},
   "outputs": [
    {
     "name": "stdout",
     "output_type": "stream",
     "text": [
      "Initialization complete\n",
      "Iteration 0, inertia 1930.148882598581\n",
      "Iteration 1, inertia 1499.2981564551437\n",
      "Iteration 2, inertia 1438.2199316423985\n",
      "Iteration 3, inertia 1419.616148272653\n",
      "Iteration 4, inertia 1403.5629147032973\n",
      "Iteration 5, inertia 1394.9059131815436\n",
      "Iteration 6, inertia 1391.793470050307\n",
      "Iteration 7, inertia 1390.948712073468\n",
      "Iteration 8, inertia 1390.4481269664373\n",
      "Iteration 9, inertia 1389.3879743590335\n",
      "Iteration 10, inertia 1388.9592090116848\n",
      "Iteration 11, inertia 1388.623399785878\n",
      "Iteration 12, inertia 1387.8434025894146\n",
      "Iteration 13, inertia 1384.539532527336\n",
      "Iteration 14, inertia 1383.5242112334465\n",
      "Converged at iteration 14: strict convergence.\n"
     ]
    },
    {
     "data": {
      "text/plain": [
       "1383.5242112334465"
      ]
     },
     "execution_count": 27,
     "metadata": {},
     "output_type": "execute_result"
    }
   ],
   "source": [
    "kmeans = KMeans(n_clusters=3, random_state=1234, verbose=1, n_init=1)\n",
    "kmeans.fit(new_df_transformed)\n",
    "kmeans.inertia_"
   ]
  },
  {
   "cell_type": "code",
   "execution_count": 32,
   "id": "7d6a2826-5ed9-4732-97db-cec7f56717a1",
   "metadata": {
    "tags": []
   },
   "outputs": [
    {
     "data": {
      "image/png": "[encoded data removed]",
      "text/plain": [
       "<Figure size 1152x576 with 1 Axes>"
      ]
     },
     "metadata": {
      "needs_background": "light"
     },
     "output_type": "display_data"
    }
   ],
   "source": [
    "K = range(1, 20,2)\n",
    "\n",
    "inertia = []\n",
    "\n",
    "for k in K:\n",
    "    kmeans = KMeans(n_clusters=k, random_state=1234)\n",
    "    kmeans.fit(new_df_transformed)\n",
    "    inertia.append(kmeans.inertia_)\n",
    "\n",
    "plt.figure(figsize=(16,8))\n",
    "plt.plot(K, inertia, 'bx-')\n",
    "plt.xlabel('k')\n",
    "plt.ylabel('inertia')\n",
    "plt.xticks(np.arange(min(K), max(K)+1, 1.0))\n",
    "plt.show()"
   ]
  },
  {
   "cell_type": "code",
   "execution_count": null,
   "id": "b2a13436-0fdf-4486-bd5b-ae16c9ebb587",
   "metadata": {},
   "outputs": [],
   "source": []
  },
  {
   "cell_type": "markdown",
   "id": "e554db27-2b21-4b91-8ce8-92e1d2c599c1",
   "metadata": {},
   "source": [
    "### Silhouette score"
   ]
  },
  {
   "cell_type": "code",
   "execution_count": 30,
   "id": "2d01a4d2-af63-4c95-ba3b-a1d10481efbe",
   "metadata": {},
   "outputs": [
    {
     "data": {
      "image/png": "[encoded data removed]",
      "text/plain": [
       "<Figure size 1152x576 with 1 Axes>"
      ]
     },
     "metadata": {
      "needs_background": "light"
     },
     "output_type": "display_data"
    }
   ],
   "source": [
    "K = range(2, 20)\n",
    "\n",
    "silhouette = []\n",
    "\n",
    "for k in K:\n",
    "    kmeans = KMeans(n_clusters=k, random_state=42)\n",
    "    kmeans.fit(new_df_transformed)\n",
    "    silhouette.append(silhouette_score(new_df_transformed, kmeans.predict(new_df_transformed)))\n",
    "\n",
    "\n",
    "plt.figure(figsize=(16,8))\n",
    "plt.plot(K, silhouette, 'bx-')\n",
    "plt.xlabel('k')\n",
    "plt.ylabel('silhouette score')\n",
    "plt.xticks(np.arange(min(K), max(K)+1, 1.0))\n",
    "plt.show()"
   ]
  },
  {
   "cell_type": "code",
   "execution_count": 31,
   "id": "f353d80c-0467-45a9-a290-45144a292aa2",
   "metadata": {},
   "outputs": [
    {
     "ename": "NameError",
     "evalue": "name 'y' is not defined",
     "output_type": "error",
     "traceback": [
      "\u001b[1;31m---------------------------------------------------------------------------\u001b[0m",
      "\u001b[1;31mNameError\u001b[0m                                 Traceback (most recent call last)",
      "\u001b[1;32m<ipython-input-31-f2de3d46b767>\u001b[0m in \u001b[0;36m<module>\u001b[1;34m\u001b[0m\n\u001b[1;32m----> 1\u001b[1;33m \u001b[0mprint\u001b[0m\u001b[1;33m(\u001b[0m\u001b[0mclassification_report\u001b[0m\u001b[1;33m(\u001b[0m\u001b[0my\u001b[0m\u001b[1;33m,\u001b[0m \u001b[0mnew_df\u001b[0m\u001b[1;33m[\u001b[0m\u001b[1;34m'cluster'\u001b[0m\u001b[1;33m]\u001b[0m\u001b[1;33m)\u001b[0m\u001b[1;33m)\u001b[0m\u001b[1;33m\u001b[0m\u001b[1;33m\u001b[0m\u001b[0m\n\u001b[0m",
      "\u001b[1;31mNameError\u001b[0m: name 'y' is not defined"
     ]
    }
   ],
   "source": [
    "print(classification_report(y, new_df['cluster']))"
   ]
  },
  {
   "cell_type": "code",
   "execution_count": null,
   "id": "d3b5749a-103b-4a95-9681-7c36ede74dc0",
   "metadata": {},
   "outputs": [],
   "source": []
  },
  {
   "cell_type": "code",
   "execution_count": null,
   "id": "02811ce7-61f2-44b3-b6a2-037fc9950d85",
   "metadata": {},
   "outputs": [],
   "source": []
  },
  {
   "cell_type": "code",
   "execution_count": null,
   "id": "000abf02-526d-44e4-9816-556d1bed5245",
   "metadata": {},
   "outputs": [],
   "source": []
  }
 ],
 "metadata": {
  "kernelspec": {
   "display_name": "Python 3",
   "language": "python",
   "name": "python3"
  },
  "language_info": {
   "codemirror_mode": {
    "name": "ipython",
    "version": 3
   },
   "file_extension": ".py",
   "mimetype": "text/x-python",
   "name": "python",
   "nbconvert_exporter": "python",
   "pygments_lexer": "ipython3",
   "version": "3.9.6"
  }
 },
 "nbformat": 4,
 "nbformat_minor": 5
}
