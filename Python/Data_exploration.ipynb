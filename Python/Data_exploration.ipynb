{
 "cells": [
  {
   "cell_type": "markdown",
   "id": "ff6f4a5c-8cec-4962-88fc-82deeb6a32cd",
   "metadata": {},
   "source": [
    "# Data exploration"
   ]
  },
  {
   "cell_type": "markdown",
   "id": "bc71c4d1-d490-4e5b-9a17-c241703969ec",
   "metadata": {},
   "source": [
    "## Libraries"
   ]
  },
  {
   "cell_type": "code",
   "execution_count": 31,
   "id": "c7c35f5f-04b4-4def-847a-0dca8da455e7",
   "metadata": {},
   "outputs": [],
   "source": [
    "import matplotlib.pyplot as plt\n",
    "import numpy as np\n",
    "import pandas as pd\n",
    "import plotly.express as px\n",
    "import seaborn as sns\n",
    "\n",
    "import warnings\n",
    "warnings.filterwarnings('ignore')"
   ]
  },
  {
   "cell_type": "markdown",
   "id": "57b18618-0bfb-4167-9a6d-8f2f5dcc228f",
   "metadata": {},
   "source": [
    "## Importing the data"
   ]
  },
  {
   "cell_type": "code",
   "execution_count": 32,
   "id": "34c5f5d7-e710-4b1e-a8c4-c1f5f8ddbce2",
   "metadata": {},
   "outputs": [],
   "source": [
    "df = pd.read_csv('final_df.csv')"
   ]
  },
  {
   "cell_type": "code",
   "execution_count": 33,
   "id": "8eb4ecc0-7b06-4d56-abf3-b762162a132a",
   "metadata": {},
   "outputs": [
    {
     "data": {
      "text/plain": [
       "(1232, 16)"
      ]
     },
     "execution_count": 33,
     "metadata": {},
     "output_type": "execute_result"
    }
   ],
   "source": [
    "df.shape"
   ]
  },
  {
   "cell_type": "code",
   "execution_count": 34,
   "id": "ef7f6aa1-3dfc-46d0-958f-d5e873f47e28",
   "metadata": {},
   "outputs": [
    {
     "name": "stdout",
     "output_type": "stream",
     "text": [
      "<class 'pandas.core.frame.DataFrame'>\n",
      "RangeIndex: 1232 entries, 0 to 1231\n",
      "Data columns (total 16 columns):\n",
      " #   Column        Non-Null Count  Dtype  \n",
      "---  ------        --------------  -----  \n",
      " 0   Unnamed: 0    1232 non-null   int64  \n",
      " 1   product       1232 non-null   object \n",
      " 2   brand         1232 non-null   object \n",
      " 3   price         1232 non-null   float64\n",
      " 4   weight        1231 non-null   float64\n",
      " 5   kj            1232 non-null   float64\n",
      " 6   kcal          1232 non-null   float64\n",
      " 7   fat           1219 non-null   float64\n",
      " 8   sat_fat       1219 non-null   float64\n",
      " 9   carbs         1231 non-null   float64\n",
      " 10  sugar         1228 non-null   float64\n",
      " 11  fibre         525 non-null    float64\n",
      " 12  protein       1217 non-null   float64\n",
      " 13  salt          1149 non-null   float64\n",
      " 14  product_link  1232 non-null   object \n",
      " 15  photo_link    1232 non-null   object \n",
      "dtypes: float64(11), int64(1), object(4)\n",
      "memory usage: 154.1+ KB\n"
     ]
    }
   ],
   "source": [
    "df.info()"
   ]
  },
  {
   "cell_type": "code",
   "execution_count": 35,
   "id": "2f991c71-e552-461e-8da3-bc72dfc8f33e",
   "metadata": {},
   "outputs": [
    {
     "data": {
      "text/html": [
       "<div>\n",
       "<style scoped>\n",
       "    .dataframe tbody tr th:only-of-type {\n",
       "        vertical-align: middle;\n",
       "    }\n",
       "\n",
       "    .dataframe tbody tr th {\n",
       "        vertical-align: top;\n",
       "    }\n",
       "\n",
       "    .dataframe thead th {\n",
       "        text-align: right;\n",
       "    }\n",
       "</style>\n",
       "<table border=\"1\" class=\"dataframe\">\n",
       "  <thead>\n",
       "    <tr style=\"text-align: right;\">\n",
       "      <th></th>\n",
       "      <th>Unnamed: 0</th>\n",
       "      <th>product</th>\n",
       "      <th>brand</th>\n",
       "      <th>price</th>\n",
       "      <th>weight</th>\n",
       "      <th>kj</th>\n",
       "      <th>kcal</th>\n",
       "      <th>fat</th>\n",
       "      <th>sat_fat</th>\n",
       "      <th>carbs</th>\n",
       "      <th>sugar</th>\n",
       "      <th>fibre</th>\n",
       "      <th>protein</th>\n",
       "      <th>salt</th>\n",
       "      <th>product_link</th>\n",
       "      <th>photo_link</th>\n",
       "    </tr>\n",
       "  </thead>\n",
       "  <tbody>\n",
       "    <tr>\n",
       "      <th>0</th>\n",
       "      <td>0</td>\n",
       "      <td>Soja Protein Crispies 58 % mit Kakao</td>\n",
       "      <td>Koro</td>\n",
       "      <td>14.0</td>\n",
       "      <td>1.0</td>\n",
       "      <td>1535.0</td>\n",
       "      <td>362.0</td>\n",
       "      <td>19.0</td>\n",
       "      <td>4.0</td>\n",
       "      <td>282.0</td>\n",
       "      <td>91.0</td>\n",
       "      <td>18.0</td>\n",
       "      <td>58.0</td>\n",
       "      <td>27.0</td>\n",
       "      <td>https://www.korodrogerie.de/soja-protein-crisp...</td>\n",
       "      <td>https://koro2.imgix.net/media/image/f1/50/81/C...</td>\n",
       "    </tr>\n",
       "    <tr>\n",
       "      <th>1</th>\n",
       "      <td>1</td>\n",
       "      <td>Schokodrops mit Xylit</td>\n",
       "      <td>Koro</td>\n",
       "      <td>21.0</td>\n",
       "      <td>1.0</td>\n",
       "      <td>2290.0</td>\n",
       "      <td>555.0</td>\n",
       "      <td>46.0</td>\n",
       "      <td>28.0</td>\n",
       "      <td>31.0</td>\n",
       "      <td>10.0</td>\n",
       "      <td>10.0</td>\n",
       "      <td>92.0</td>\n",
       "      <td>7.0</td>\n",
       "      <td>https://www.korodrogerie.de/schokodrops-mit-xy...</td>\n",
       "      <td>https://koro2.imgix.net/media/image/2c/01/f8/S...</td>\n",
       "    </tr>\n",
       "    <tr>\n",
       "      <th>2</th>\n",
       "      <td>2</td>\n",
       "      <td>Schoko Protein Crunchies ohne Zuckerzusatz</td>\n",
       "      <td>Koro</td>\n",
       "      <td>20.0</td>\n",
       "      <td>1.0</td>\n",
       "      <td>1875.0</td>\n",
       "      <td>448.0</td>\n",
       "      <td>28.0</td>\n",
       "      <td>12.0</td>\n",
       "      <td>37.0</td>\n",
       "      <td>14.0</td>\n",
       "      <td>83.0</td>\n",
       "      <td>21.0</td>\n",
       "      <td>36.0</td>\n",
       "      <td>https://www.korodrogerie.de/schoko-protein-cru...</td>\n",
       "      <td>https://koro2.imgix.net/media/image/30/78/62/P...</td>\n",
       "    </tr>\n",
       "    <tr>\n",
       "      <th>3</th>\n",
       "      <td>3</td>\n",
       "      <td>Soja Protein Crispies 60 %</td>\n",
       "      <td>Koro</td>\n",
       "      <td>13.0</td>\n",
       "      <td>1.0</td>\n",
       "      <td>1541.0</td>\n",
       "      <td>363.0</td>\n",
       "      <td>18.0</td>\n",
       "      <td>2.0</td>\n",
       "      <td>26.0</td>\n",
       "      <td>8.0</td>\n",
       "      <td>8.0</td>\n",
       "      <td>60.0</td>\n",
       "      <td>32.0</td>\n",
       "      <td>https://www.korodrogerie.de/soja-protein-crisp...</td>\n",
       "      <td>https://koro2.imgix.net/media/image/84/55/ca/C...</td>\n",
       "    </tr>\n",
       "    <tr>\n",
       "      <th>4</th>\n",
       "      <td>4</td>\n",
       "      <td>Bohnen-Erbsen-Mix geröstet &amp; gesalzen</td>\n",
       "      <td>Koro</td>\n",
       "      <td>11.5</td>\n",
       "      <td>1.0</td>\n",
       "      <td>1766.0</td>\n",
       "      <td>421.0</td>\n",
       "      <td>14.0</td>\n",
       "      <td>23.0</td>\n",
       "      <td>35.0</td>\n",
       "      <td>67.0</td>\n",
       "      <td>10.0</td>\n",
       "      <td>33.0</td>\n",
       "      <td>10.0</td>\n",
       "      <td>https://www.korodrogerie.de/bohnen-erbsen-mix-...</td>\n",
       "      <td>https://koro2.imgix.net/media/image/a9/37/79/B...</td>\n",
       "    </tr>\n",
       "  </tbody>\n",
       "</table>\n",
       "</div>"
      ],
      "text/plain": [
       "   Unnamed: 0                                      product brand  price  \\\n",
       "0           0        Soja Protein Crispies 58 % mit Kakao   Koro   14.0   \n",
       "1           1                       Schokodrops mit Xylit   Koro   21.0   \n",
       "2           2  Schoko Protein Crunchies ohne Zuckerzusatz   Koro   20.0   \n",
       "3           3                  Soja Protein Crispies 60 %   Koro   13.0   \n",
       "4           4       Bohnen-Erbsen-Mix geröstet & gesalzen   Koro   11.5   \n",
       "\n",
       "   weight      kj   kcal   fat  sat_fat  carbs  sugar  fibre  protein  salt  \\\n",
       "0     1.0  1535.0  362.0  19.0      4.0  282.0   91.0   18.0     58.0  27.0   \n",
       "1     1.0  2290.0  555.0  46.0     28.0   31.0   10.0   10.0     92.0   7.0   \n",
       "2     1.0  1875.0  448.0  28.0     12.0   37.0   14.0   83.0     21.0  36.0   \n",
       "3     1.0  1541.0  363.0  18.0      2.0   26.0    8.0    8.0     60.0  32.0   \n",
       "4     1.0  1766.0  421.0  14.0     23.0   35.0   67.0   10.0     33.0  10.0   \n",
       "\n",
       "                                        product_link  \\\n",
       "0  https://www.korodrogerie.de/soja-protein-crisp...   \n",
       "1  https://www.korodrogerie.de/schokodrops-mit-xy...   \n",
       "2  https://www.korodrogerie.de/schoko-protein-cru...   \n",
       "3  https://www.korodrogerie.de/soja-protein-crisp...   \n",
       "4  https://www.korodrogerie.de/bohnen-erbsen-mix-...   \n",
       "\n",
       "                                          photo_link  \n",
       "0  https://koro2.imgix.net/media/image/f1/50/81/C...  \n",
       "1  https://koro2.imgix.net/media/image/2c/01/f8/S...  \n",
       "2  https://koro2.imgix.net/media/image/30/78/62/P...  \n",
       "3  https://koro2.imgix.net/media/image/84/55/ca/C...  \n",
       "4  https://koro2.imgix.net/media/image/a9/37/79/B...  "
      ]
     },
     "execution_count": 35,
     "metadata": {},
     "output_type": "execute_result"
    }
   ],
   "source": [
    "df.head()"
   ]
  },
  {
   "cell_type": "code",
   "execution_count": 36,
   "id": "25f17467-2ee6-44a4-a23d-d89f23dca091",
   "metadata": {},
   "outputs": [
    {
     "data": {
      "text/plain": [
       "Index(['product', 'brand', 'price', 'weight', 'kj', 'kcal', 'fat', 'sat_fat',\n",
       "       'carbs', 'sugar', 'fibre', 'protein', 'salt', 'product_link',\n",
       "       'photo_link'],\n",
       "      dtype='object')"
      ]
     },
     "execution_count": 36,
     "metadata": {},
     "output_type": "execute_result"
    }
   ],
   "source": [
    "df = df.drop('Unnamed: 0', axis=1)\n",
    "df.columns"
   ]
  },
  {
   "cell_type": "markdown",
   "id": "7c43776e-8adc-473b-9e1b-3188ae103915",
   "metadata": {},
   "source": [
    "## Exploratory analysis"
   ]
  },
  {
   "cell_type": "code",
   "execution_count": 37,
   "id": "7722d83b-ab21-4a23-9d92-d379901b62a6",
   "metadata": {},
   "outputs": [
    {
     "data": {
      "text/html": [
       "<div>\n",
       "<style scoped>\n",
       "    .dataframe tbody tr th:only-of-type {\n",
       "        vertical-align: middle;\n",
       "    }\n",
       "\n",
       "    .dataframe tbody tr th {\n",
       "        vertical-align: top;\n",
       "    }\n",
       "\n",
       "    .dataframe thead th {\n",
       "        text-align: right;\n",
       "    }\n",
       "</style>\n",
       "<table border=\"1\" class=\"dataframe\">\n",
       "  <thead>\n",
       "    <tr style=\"text-align: right;\">\n",
       "      <th></th>\n",
       "      <th>price</th>\n",
       "      <th>weight</th>\n",
       "      <th>kj</th>\n",
       "      <th>kcal</th>\n",
       "      <th>fat</th>\n",
       "      <th>sat_fat</th>\n",
       "      <th>carbs</th>\n",
       "      <th>sugar</th>\n",
       "      <th>fibre</th>\n",
       "      <th>protein</th>\n",
       "      <th>salt</th>\n",
       "    </tr>\n",
       "  </thead>\n",
       "  <tbody>\n",
       "    <tr>\n",
       "      <th>count</th>\n",
       "      <td>1232.000000</td>\n",
       "      <td>1231.000000</td>\n",
       "      <td>1232.000000</td>\n",
       "      <td>1232.000000</td>\n",
       "      <td>1219.000000</td>\n",
       "      <td>1219.000000</td>\n",
       "      <td>1231.000000</td>\n",
       "      <td>1228.000000</td>\n",
       "      <td>525.000000</td>\n",
       "      <td>1217.000000</td>\n",
       "      <td>1149.000000</td>\n",
       "    </tr>\n",
       "    <tr>\n",
       "      <th>mean</th>\n",
       "      <td>9.619911</td>\n",
       "      <td>0.745199</td>\n",
       "      <td>1901.398214</td>\n",
       "      <td>460.241153</td>\n",
       "      <td>25.048388</td>\n",
       "      <td>13.236317</td>\n",
       "      <td>52.588221</td>\n",
       "      <td>36.106147</td>\n",
       "      <td>24.904762</td>\n",
       "      <td>13.679228</td>\n",
       "      <td>3.885619</td>\n",
       "    </tr>\n",
       "    <tr>\n",
       "      <th>std</th>\n",
       "      <td>27.369946</td>\n",
       "      <td>5.782567</td>\n",
       "      <td>470.700296</td>\n",
       "      <td>161.850517</td>\n",
       "      <td>18.271924</td>\n",
       "      <td>14.727172</td>\n",
       "      <td>34.574484</td>\n",
       "      <td>130.305483</td>\n",
       "      <td>27.946397</td>\n",
       "      <td>22.682713</td>\n",
       "      <td>14.750498</td>\n",
       "    </tr>\n",
       "    <tr>\n",
       "      <th>min</th>\n",
       "      <td>0.490000</td>\n",
       "      <td>0.000578</td>\n",
       "      <td>12.000000</td>\n",
       "      <td>33.000000</td>\n",
       "      <td>0.000000</td>\n",
       "      <td>0.000000</td>\n",
       "      <td>0.000000</td>\n",
       "      <td>0.000000</td>\n",
       "      <td>0.000000</td>\n",
       "      <td>0.000000</td>\n",
       "      <td>0.000000</td>\n",
       "    </tr>\n",
       "    <tr>\n",
       "      <th>25%</th>\n",
       "      <td>1.990000</td>\n",
       "      <td>0.040000</td>\n",
       "      <td>1572.000000</td>\n",
       "      <td>378.000000</td>\n",
       "      <td>13.000000</td>\n",
       "      <td>2.000000</td>\n",
       "      <td>39.200000</td>\n",
       "      <td>19.000000</td>\n",
       "      <td>7.000000</td>\n",
       "      <td>4.500000</td>\n",
       "      <td>0.020000</td>\n",
       "    </tr>\n",
       "    <tr>\n",
       "      <th>50%</th>\n",
       "      <td>2.890000</td>\n",
       "      <td>0.075000</td>\n",
       "      <td>1879.000000</td>\n",
       "      <td>449.000000</td>\n",
       "      <td>23.000000</td>\n",
       "      <td>9.000000</td>\n",
       "      <td>50.000000</td>\n",
       "      <td>32.000000</td>\n",
       "      <td>12.000000</td>\n",
       "      <td>7.600000</td>\n",
       "      <td>0.180000</td>\n",
       "    </tr>\n",
       "    <tr>\n",
       "      <th>75%</th>\n",
       "      <td>4.990000</td>\n",
       "      <td>0.140000</td>\n",
       "      <td>2289.000000</td>\n",
       "      <td>551.000000</td>\n",
       "      <td>38.050000</td>\n",
       "      <td>21.750000</td>\n",
       "      <td>63.000000</td>\n",
       "      <td>44.000000</td>\n",
       "      <td>34.000000</td>\n",
       "      <td>13.000000</td>\n",
       "      <td>1.000000</td>\n",
       "    </tr>\n",
       "    <tr>\n",
       "      <th>max</th>\n",
       "      <td>330.500000</td>\n",
       "      <td>108.000000</td>\n",
       "      <td>3096.000000</td>\n",
       "      <td>4123.000000</td>\n",
       "      <td>171.000000</td>\n",
       "      <td>107.000000</td>\n",
       "      <td>662.000000</td>\n",
       "      <td>4532.000000</td>\n",
       "      <td>159.000000</td>\n",
       "      <td>465.000000</td>\n",
       "      <td>275.000000</td>\n",
       "    </tr>\n",
       "  </tbody>\n",
       "</table>\n",
       "</div>"
      ],
      "text/plain": [
       "             price       weight           kj         kcal          fat  \\\n",
       "count  1232.000000  1231.000000  1232.000000  1232.000000  1219.000000   \n",
       "mean      9.619911     0.745199  1901.398214   460.241153    25.048388   \n",
       "std      27.369946     5.782567   470.700296   161.850517    18.271924   \n",
       "min       0.490000     0.000578    12.000000    33.000000     0.000000   \n",
       "25%       1.990000     0.040000  1572.000000   378.000000    13.000000   \n",
       "50%       2.890000     0.075000  1879.000000   449.000000    23.000000   \n",
       "75%       4.990000     0.140000  2289.000000   551.000000    38.050000   \n",
       "max     330.500000   108.000000  3096.000000  4123.000000   171.000000   \n",
       "\n",
       "           sat_fat        carbs        sugar       fibre      protein  \\\n",
       "count  1219.000000  1231.000000  1228.000000  525.000000  1217.000000   \n",
       "mean     13.236317    52.588221    36.106147   24.904762    13.679228   \n",
       "std      14.727172    34.574484   130.305483   27.946397    22.682713   \n",
       "min       0.000000     0.000000     0.000000    0.000000     0.000000   \n",
       "25%       2.000000    39.200000    19.000000    7.000000     4.500000   \n",
       "50%       9.000000    50.000000    32.000000   12.000000     7.600000   \n",
       "75%      21.750000    63.000000    44.000000   34.000000    13.000000   \n",
       "max     107.000000   662.000000  4532.000000  159.000000   465.000000   \n",
       "\n",
       "              salt  \n",
       "count  1149.000000  \n",
       "mean      3.885619  \n",
       "std      14.750498  \n",
       "min       0.000000  \n",
       "25%       0.020000  \n",
       "50%       0.180000  \n",
       "75%       1.000000  \n",
       "max     275.000000  "
      ]
     },
     "execution_count": 37,
     "metadata": {},
     "output_type": "execute_result"
    }
   ],
   "source": [
    "df.describe()"
   ]
  },
  {
   "cell_type": "code",
   "execution_count": null,
   "id": "4b16d600-5366-4ab2-bd17-c754511b5f39",
   "metadata": {},
   "outputs": [],
   "source": []
  },
  {
   "cell_type": "code",
   "execution_count": null,
   "id": "e3c95b0d-c885-4f63-84e5-1453916a23a2",
   "metadata": {},
   "outputs": [],
   "source": []
  },
  {
   "cell_type": "markdown",
   "id": "5a1f7362-2ffe-4f1a-a8cd-5d6fa91cc520",
   "metadata": {},
   "source": [
    "## Visualization"
   ]
  },
  {
   "cell_type": "markdown",
   "id": "aa0e0449-c4b5-496c-b9e5-0b5d63869981",
   "metadata": {},
   "source": [
    "### Distribution"
   ]
  },
  {
   "cell_type": "code",
   "execution_count": 39,
   "id": "d74082e4-e8ed-4a5d-96d9-a095b22ae315",
   "metadata": {},
   "outputs": [],
   "source": [
    "def showing_count_hue(df, in_columns=[], skip_columns=[], target=''):\n",
    "    for col in df.columns:\n",
    "        if col in in_columns:\n",
    "            if col not in skip_columns:\n",
    "                sns.countplot(df[col], hue=target, data=df)\n",
    "                plt.show()"
   ]
  },
  {
   "cell_type": "code",
   "execution_count": 40,
   "id": "9bfb0853-d2bf-4e45-8b25-c386e6743dc1",
   "metadata": {},
   "outputs": [
    {
     "data": {
      "image/png": "[encoded data removed]",
      "text/plain": [
       "<Figure size 432x288 with 1 Axes>"
      ]
     },
     "metadata": {
      "needs_background": "light"
     },
     "output_type": "display_data"
    },
    {
     "data": {
      "image/png": "[encoded data removed]",
      "text/plain": [
       "<Figure size 432x288 with 1 Axes>"
      ]
     },
     "metadata": {
      "needs_background": "light"
     },
     "output_type": "display_data"
    },
    {
     "data": {
      "image/png": "[encoded data removed]",
      "text/plain": [
       "<Figure size 432x288 with 1 Axes>"
      ]
     },
     "metadata": {
      "needs_background": "light"
     },
     "output_type": "display_data"
    },
    {
     "data": {
      "image/png": "[encoded data removed]",
      "text/plain": [
       "<Figure size 432x288 with 1 Axes>"
      ]
     },
     "metadata": {
      "needs_background": "light"
     },
     "output_type": "display_data"
    },
    {
     "data": {
      "image/png": "[encoded data removed]",
      "text/plain": [
       "<Figure size 432x288 with 1 Axes>"
      ]
     },
     "metadata": {
      "needs_background": "light"
     },
     "output_type": "display_data"
    },
    {
     "data": {
      "image/png": "[encoded data removed]",
      "text/plain": [
       "<Figure size 432x288 with 1 Axes>"
      ]
     },
     "metadata": {
      "needs_background": "light"
     },
     "output_type": "display_data"
    },
    {
     "data": {
      "image/png": "[encoded data removed]",
      "text/plain": [
       "<Figure size 432x288 with 1 Axes>"
      ]
     },
     "metadata": {
      "needs_background": "light"
     },
     "output_type": "display_data"
    },
    {
     "data": {
      "image/png": "[encoded data removed]",
      "text/plain": [
       "<Figure size 432x288 with 1 Axes>"
      ]
     },
     "metadata": {
      "needs_background": "light"
     },
     "output_type": "display_data"
    },
    {
     "data": {
      "image/png": "[encoded data removed]",
      "text/plain": [
       "<Figure size 432x288 with 1 Axes>"
      ]
     },
     "metadata": {
      "needs_background": "light"
     },
     "output_type": "display_data"
    },
    {
     "data": {
      "image/png": "[encoded data removed]",
      "text/plain": [
       "<Figure size 432x288 with 1 Axes>"
      ]
     },
     "metadata": {
      "needs_background": "light"
     },
     "output_type": "display_data"
    },
    {
     "data": {
      "image/png": "[encoded data removed]",
      "text/plain": [
       "<Figure size 432x288 with 1 Axes>"
      ]
     },
     "metadata": {
      "needs_background": "light"
     },
     "output_type": "display_data"
    }
   ],
   "source": [
    "showing_count_hue(df, in_columns=df.select_dtypes(np.number), skip_columns=[], target=None)"
   ]
  },
  {
   "cell_type": "code",
   "execution_count": 41,
   "id": "82e70aca-4dca-45ee-8934-564e90727a6c",
   "metadata": {},
   "outputs": [],
   "source": [
    "def showing_dist(df):\n",
    "    for col in df.select_dtypes(np.number):\n",
    "        sns.distplot(df[col])\n",
    "        plt.show()"
   ]
  },
  {
   "cell_type": "code",
   "execution_count": 52,
   "id": "6b68c03e-4920-4c84-ba8d-794efa153ad0",
   "metadata": {},
   "outputs": [],
   "source": [
    "def showing_dist_box(df):\n",
    "   \n",
    "    for col in df.columns:\n",
    "        fig, axes = plt.subplots(1, 2, figsize=(15, 5))\n",
    "        # sns.set_style(\"darkgrid\")\n",
    "\n",
    "        sns.distplot(df[col], ax=axes[0])\n",
    "        sns.boxplot(df[col], ax=axes[1])\n",
    "        \n",
    "        plt.show()"
   ]
  },
  {
   "cell_type": "code",
   "execution_count": 53,
   "id": "27213217-fa18-4fe8-ac1b-b2aba23eae2b",
   "metadata": {},
   "outputs": [
    {
     "data": {
      "image/png": "[encoded data removed]",
      "text/plain": [
       "<Figure size 1080x360 with 2 Axes>"
      ]
     },
     "metadata": {
      "needs_background": "light"
     },
     "output_type": "display_data"
    },
    {
     "data": {
      "image/png": "[encoded data removed]",
      "text/plain": [
       "<Figure size 1080x360 with 2 Axes>"
      ]
     },
     "metadata": {
      "needs_background": "light"
     },
     "output_type": "display_data"
    },
    {
     "data": {
      "image/png": "[encoded data removed]",
      "text/plain": [
       "<Figure size 1080x360 with 2 Axes>"
      ]
     },
     "metadata": {
      "needs_background": "light"
     },
     "output_type": "display_data"
    },
    {
     "data": {
      "image/png": "[encoded data removed]",
      "text/plain": [
       "<Figure size 1080x360 with 2 Axes>"
      ]
     },
     "metadata": {
      "needs_background": "light"
     },
     "output_type": "display_data"
    },
    {
     "data": {
      "image/png": "[encoded data removed]",
      "text/plain": [
       "<Figure size 1080x360 with 2 Axes>"
      ]
     },
     "metadata": {
      "needs_background": "light"
     },
     "output_type": "display_data"
    },
    {
     "data": {
      "image/png": "[encoded data removed]",
      "text/plain": [
       "<Figure size 1080x360 with 2 Axes>"
      ]
     },
     "metadata": {
      "needs_background": "light"
     },
     "output_type": "display_data"
    },
    {
     "data": {
      "image/png": "[encoded data removed]",
      "text/plain": [
       "<Figure size 1080x360 with 2 Axes>"
      ]
     },
     "metadata": {
      "needs_background": "light"
     },
     "output_type": "display_data"
    },
    {
     "data": {
      "image/png": "[encoded data removed]",
      "text/plain": [
       "<Figure size 1080x360 with 2 Axes>"
      ]
     },
     "metadata": {
      "needs_background": "light"
     },
     "output_type": "display_data"
    },
    {
     "data": {
      "image/png": "[encoded data removed]",
      "text/plain": [
       "<Figure size 1080x360 with 2 Axes>"
      ]
     },
     "metadata": {
      "needs_background": "light"
     },
     "output_type": "display_data"
    },
    {
     "data": {
      "image/png": "[encoded data removed]",
      "text/plain": [
       "<Figure size 1080x360 with 2 Axes>"
      ]
     },
     "metadata": {
      "needs_background": "light"
     },
     "output_type": "display_data"
    },
    {
     "data": {
      "image/png": "[encoded data removed]",
      "text/plain": [
       "<Figure size 1080x360 with 2 Axes>"
      ]
     },
     "metadata": {
      "needs_background": "light"
     },
     "output_type": "display_data"
    }
   ],
   "source": [
    "showing_dist_box(df.select_dtypes(np.number))"
   ]
  },
  {
   "cell_type": "code",
   "execution_count": null,
   "id": "1af710fb-1bbd-409f-8b97-06e4e5322194",
   "metadata": {},
   "outputs": [],
   "source": []
  },
  {
   "cell_type": "markdown",
   "id": "4ba936d4-3946-42bb-bc7e-c26988b4d95b",
   "metadata": {},
   "source": [
    "### "
   ]
  },
  {
   "cell_type": "code",
   "execution_count": 20,
   "id": "667a3201-2225-4afc-b5a3-50a9c616f5fb",
   "metadata": {},
   "outputs": [
    {
     "data": {
      "application/vnd.plotly.v1+json": {
       "config": {
        "plotlyServerURL": "https://plot.ly"
       },
       "data": [
        {
         "hovertemplate": "brand=Koro<br>price=%{x}<br>kcal=%{y}<extra></extra>",
         "legendgroup": "Koro",
         "marker": {
          "color": "#636efa",
          "symbol": "circle"
         },
         "mode": "markers",
         "name": "Koro",
         "showlegend": true,
         "type": "scattergl",
         "x": [
          14,
          21,
          20,
          13,
          11.5,
          11.5,
          8.5,
          12,
          7,
          11,
          14.5,
          12.5,
          11.5,
          10.5,
          8.5,
          9.5,
          9.5,
          14,
          1.5,
          1.5,
          2,
          11.5,
          10.5,
          8.5,
          12.5,
          22,
          24.5,
          18,
          17,
          1.5,
          1.5,
          14,
          1.5,
          15,
          1,
          1.5,
          12,
          2.5,
          1.5,
          1,
          10.5,
          12,
          12,
          1.5,
          1.5,
          2,
          2,
          13.5,
          17,
          16,
          200.5,
          203.5,
          93,
          117.5,
          125.5,
          161.5,
          111.5,
          108,
          114.5,
          3,
          40,
          1.5,
          11,
          13,
          2,
          12,
          1.5,
          1,
          5,
          26,
          5,
          26,
          9,
          100,
          1.5,
          1,
          20.5,
          17.5,
          16,
          12,
          14,
          4,
          165.5,
          19.5,
          4.5,
          4.5,
          25,
          25,
          256,
          216,
          194,
          137.5,
          16,
          22,
          19,
          14,
          9,
          12,
          10,
          17.5,
          14,
          18,
          18.5,
          34,
          15,
          12,
          15.5,
          3.5,
          36.5,
          22,
          56,
          23,
          22,
          19.5,
          218,
          11.5,
          126.5,
          251,
          264,
          247,
          69,
          10.5,
          99,
          20,
          7.5,
          12.5,
          4,
          48.5,
          37.5,
          1.5,
          18.5,
          18.5,
          2,
          2.5,
          24.5,
          2.5,
          24.5,
          20.5,
          59.5,
          13,
          117.5,
          16,
          18,
          16,
          66.5,
          3,
          28,
          24.5,
          25,
          24,
          114.5,
          24.5,
          117,
          155,
          25,
          2,
          190.5,
          67.5,
          8,
          33.5,
          54.5,
          61.5,
          9.5,
          44.5,
          115.5,
          330.5,
          21,
          1.5,
          11.5,
          3,
          32,
          12,
          135.5,
          1.5,
          11,
          9.5,
          11,
          2,
          17,
          2,
          17,
          19,
          11.5,
          64,
          11.5,
          64,
          2,
          17.5,
          35,
          2,
          21,
          2,
          30,
          2,
          20.5,
          29,
          2,
          15,
          2,
          23.5,
          2,
          1.5,
          19,
          1.5,
          19.5,
          20.5,
          115.5,
          4,
          20,
          7,
          40.5,
          19.5,
          9,
          22,
          17,
          81,
          18.5,
          24,
          20,
          5,
          27.5
         ],
         "xaxis": "x",
         "y": [
          362,
          555,
          448,
          363,
          421,
          405,
          409,
          258,
          356,
          335,
          360,
          469,
          412,
          459,
          430,
          393,
          375,
          473,
          393,
          375,
          473,
          347,
          558,
          433,
          338,
          390,
          343,
          323,
          428,
          354,
          378,
          570,
          401,
          500,
          399,
          360,
          435,
          474,
          518,
          484,
          428,
          422,
          421,
          388,
          399,
          500,
          487,
          487,
          297,
          297,
          335,
          370,
          430,
          459,
          421,
          409,
          258,
          360,
          338,
          492,
          488,
          529,
          529,
          492,
          595,
          595,
          423,
          356,
          149,
          149,
          240,
          240,
          338,
          338,
          405,
          469,
          338,
          388,
          362,
          350,
          319,
          399,
          319,
          551,
          400,
          386,
          400,
          386,
          338,
          388,
          362,
          350,
          423,
          423,
          474,
          356,
          518,
          405,
          469,
          378,
          484,
          354,
          401,
          399,
          399,
          399,
          388,
          492,
          492,
          564,
          551,
          512,
          556,
          448,
          448,
          495,
          495,
          564,
          512,
          556,
          412,
          260,
          260,
          381,
          467,
          462,
          397,
          558,
          467,
          412,
          412,
          390,
          381,
          344,
          344,
          442,
          442,
          406,
          462,
          389,
          389,
          512,
          417,
          380,
          570,
          395,
          395,
          639,
          542,
          639,
          639,
          636,
          636,
          448,
          552,
          374,
          552,
          417,
          580,
          580,
          380,
          512,
          561,
          561,
          639,
          542,
          374,
          441,
          441,
          496,
          496,
          607,
          607,
          404,
          404,
          451,
          447,
          509,
          509,
          526,
          526,
          511,
          405,
          406,
          406,
          405,
          478,
          478,
          298,
          454,
          454,
          474,
          474,
          366,
          397,
          366,
          488,
          488,
          377,
          377,
          367,
          324,
          324,
          344,
          367,
          599,
          599,
          435,
          435,
          435,
          435,
          609,
          740,
          628,
          564,
          564,
          380,
          319,
          348,
          435,
          435
         ],
         "yaxis": "y"
        },
        {
         "hovertemplate": "brand=Bio4You<br>price=%{x}<br>kcal=%{y}<extra></extra>",
         "legendgroup": "Bio4You",
         "marker": {
          "color": "#EF553B",
          "symbol": "circle"
         },
         "mode": "markers",
         "name": "Bio4You",
         "showlegend": true,
         "type": "scattergl",
         "x": [
          1.49,
          1.49,
          1.49,
          1.49,
          1.49,
          1.49,
          1.49
         ],
         "xaxis": "x",
         "y": [
          384,
          398,
          385,
          383,
          383,
          385,
          382
         ],
         "yaxis": "y"
        },
        {
         "hovertemplate": "brand=Bäckerei Sachse<br>price=%{x}<br>kcal=%{y}<extra></extra>",
         "legendgroup": "Bäckerei Sachse",
         "marker": {
          "color": "#00cc96",
          "symbol": "circle"
         },
         "mode": "markers",
         "name": "Bäckerei Sachse",
         "showlegend": true,
         "type": "scattergl",
         "x": [
          2.99,
          19.99,
          4.99,
          19.99,
          4.99,
          19.99,
          4.99
         ],
         "xaxis": "x",
         "y": [
          457,
          421,
          421,
          375,
          375,
          425,
          425
         ],
         "yaxis": "y"
        },
        {
         "hovertemplate": "brand=Bernsteinzimmer<br>price=%{x}<br>kcal=%{y}<extra></extra>",
         "legendgroup": "Bernsteinzimmer",
         "marker": {
          "color": "#ab63fa",
          "symbol": "circle"
         },
         "mode": "markers",
         "name": "Bernsteinzimmer",
         "showlegend": true,
         "type": "scattergl",
         "x": [
          21.99,
          48.99,
          21.99,
          9.99,
          14.99,
          19.99,
          9.99,
          9.99,
          9.99,
          28.99,
          6.49,
          6.49
         ],
         "xaxis": "x",
         "y": [
          539.4,
          556.9,
          550,
          581.9,
          579.7,
          608.4,
          585.5,
          585,
          690.9,
          576.7,
          616.3,
          577.4
         ],
         "yaxis": "y"
        },
        {
         "hovertemplate": "brand=Rosengarten<br>price=%{x}<br>kcal=%{y}<extra></extra>",
         "legendgroup": "Rosengarten",
         "marker": {
          "color": "#FFA15A",
          "symbol": "circle"
         },
         "mode": "markers",
         "name": "Rosengarten",
         "showlegend": true,
         "type": "scattergl",
         "x": [
          3.49,
          3.79,
          3.49,
          1.89,
          1.89,
          0.99,
          0.99,
          4.59,
          3.49
         ],
         "xaxis": "x",
         "y": [
          411,
          379,
          541,
          470,
          400,
          581,
          584,
          456,
          565
         ],
         "yaxis": "y"
        },
        {
         "hovertemplate": "brand=Moo Free<br>price=%{x}<br>kcal=%{y}<extra></extra>",
         "legendgroup": "Moo Free",
         "marker": {
          "color": "#19d3f3",
          "symbol": "circle"
         },
         "mode": "markers",
         "name": "Moo Free",
         "showlegend": true,
         "type": "scattergl",
         "x": [
          4.99,
          3.99,
          4.99,
          5.99,
          5.99,
          2.89,
          2.89,
          0.99,
          1.39,
          0.99,
          0.99,
          0.99,
          2.59,
          2.59,
          2.59,
          0.69,
          2.59,
          2.59,
          4.99,
          1.39,
          0.99,
          0.99,
          0.99,
          0.99,
          0.99,
          2.89
         ],
         "xaxis": "x",
         "y": [
          577,
          560,
          541,
          540,
          578,
          527,
          533,
          578,
          578,
          578,
          538,
          539,
          553,
          575,
          576,
          577,
          582,
          577,
          536,
          540,
          540,
          540,
          530,
          539,
          536,
          540
         ],
         "yaxis": "y"
        },
        {
         "hovertemplate": "brand=Rapunzel<br>price=%{x}<br>kcal=%{y}<extra></extra>",
         "legendgroup": "Rapunzel",
         "marker": {
          "color": "#FF6692",
          "symbol": "circle"
         },
         "mode": "markers",
         "name": "Rapunzel",
         "showlegend": true,
         "type": "scattergl",
         "x": [
          0.89,
          2.19,
          2.19,
          2.29,
          2.79,
          2.09,
          1.19,
          2.29,
          4.29,
          2.29,
          2.49,
          1.99,
          2.99,
          2.09,
          0.59,
          1.99,
          2.29,
          2.49,
          0.59,
          1.29
         ],
         "xaxis": "x",
         "y": [
          580,
          548,
          589,
          564,
          519,
          568,
          351,
          555,
          169,
          573,
          398,
          100,
          294,
          565,
          470,
          521,
          576,
          398,
          495,
          530
         ],
         "yaxis": "y"
        },
        {
         "hovertemplate": "brand=Pural<br>price=%{x}<br>kcal=%{y}<extra></extra>",
         "legendgroup": "Pural",
         "marker": {
          "color": "#B6E880",
          "symbol": "circle"
         },
         "mode": "markers",
         "name": "Pural",
         "showlegend": true,
         "type": "scattergl",
         "x": [
          2.69,
          2.49,
          2.49,
          2.29,
          0.99,
          1.79,
          2.09,
          2.49,
          0.99
         ],
         "xaxis": "x",
         "y": [
          482,
          500,
          499,
          479,
          479,
          325,
          482,
          489,
          471
         ],
         "yaxis": "y"
        },
        {
         "hovertemplate": "brand=Vivani<br>price=%{x}<br>kcal=%{y}<extra></extra>",
         "legendgroup": "Vivani",
         "marker": {
          "color": "#FF97FF",
          "symbol": "circle"
         },
         "mode": "markers",
         "name": "Vivani",
         "showlegend": true,
         "type": "scattergl",
         "x": [
          9.99,
          1.99,
          2.49,
          2.49,
          2.49,
          2.49,
          2.49,
          2.49,
          3.79,
          1.99,
          0.49,
          2.49,
          2.49,
          2.49,
          2.49,
          2.49,
          1.99,
          2.29,
          2.29,
          2.49,
          2.29,
          0.99,
          0.99,
          0.99,
          0.99,
          0.99,
          0.99
         ],
         "xaxis": "x",
         "y": [
          517,
          561,
          591,
          584,
          605,
          621,
          620,
          668,
          585,
          585,
          585,
          592,
          610,
          637,
          648,
          672,
          585,
          583,
          582,
          570,
          587,
          617,
          598,
          568,
          582,
          573,
          586
         ],
         "yaxis": "y"
        },
        {
         "hovertemplate": "brand=Le Moulin du Pivert<br>price=%{x}<br>kcal=%{y}<extra></extra>",
         "legendgroup": "Le Moulin du Pivert",
         "marker": {
          "color": "#FECB52",
          "symbol": "circle"
         },
         "mode": "markers",
         "name": "Le Moulin du Pivert",
         "showlegend": true,
         "type": "scattergl",
         "x": [
          3.69,
          3.69
         ],
         "xaxis": "x",
         "y": [
          497,
          501
         ],
         "yaxis": "y"
        },
        {
         "hovertemplate": "brand=Heimatgut<br>price=%{x}<br>kcal=%{y}<extra></extra>",
         "legendgroup": "Heimatgut",
         "marker": {
          "color": "#636efa",
          "symbol": "circle"
         },
         "mode": "markers",
         "name": "Heimatgut",
         "showlegend": true,
         "type": "scattergl",
         "x": [
          2.49,
          2.49,
          2.49,
          2.49,
          2.79,
          2.09,
          2.79,
          2.79,
          2.79,
          2.09,
          2.49,
          2.49,
          2.49,
          2.49,
          2.49,
          2.59,
          2.59,
          2.59,
          2.59,
          3.49,
          3.49,
          1.99,
          1.99,
          1.99,
          2.49,
          2.49,
          2.49,
          2.49,
          2.49
         ],
         "xaxis": "x",
         "y": [
          502,
          502,
          480,
          480,
          454,
          498,
          463,
          519,
          516,
          525,
          388,
          383,
          450,
          442,
          450,
          510,
          504,
          514,
          508,
          534,
          527,
          388,
          452,
          407,
          620,
          446,
          463,
          485,
          450
         ],
         "yaxis": "y"
        },
        {
         "hovertemplate": "brand=rosmarin BIOBACK<br>price=%{x}<br>kcal=%{y}<extra></extra>",
         "legendgroup": "rosmarin BIOBACK",
         "marker": {
          "color": "#EF553B",
          "symbol": "circle"
         },
         "mode": "markers",
         "name": "rosmarin BIOBACK",
         "showlegend": true,
         "type": "scattergl",
         "x": [
          2.99,
          2.99,
          3.79,
          2.49,
          1.79,
          2.39,
          4.39,
          2.79,
          3.89,
          2.99,
          4.99
         ],
         "xaxis": "x",
         "y": [
          443,
          413,
          460,
          415,
          413,
          464,
          388,
          489,
          460,
          460,
          345
         ],
         "yaxis": "y"
        },
        {
         "hovertemplate": "brand=Zotter<br>price=%{x}<br>kcal=%{y}<extra></extra>",
         "legendgroup": "Zotter",
         "marker": {
          "color": "#00cc96",
          "symbol": "circle"
         },
         "mode": "markers",
         "name": "Zotter",
         "showlegend": true,
         "type": "scattergl",
         "x": [
          3.49,
          7.59,
          3.59,
          3.69,
          3.69,
          3.69,
          7.59,
          23.49,
          6.29,
          7.59,
          7.59,
          3.99,
          4.19,
          3.89,
          3.99,
          4.19
         ],
         "xaxis": "x",
         "y": [
          579,
          572,
          609,
          571,
          484,
          588,
          566,
          583,
          577,
          578,
          568,
          617,
          617,
          571,
          617,
          617
         ],
         "yaxis": "y"
        },
        {
         "hovertemplate": "brand=Linea Natura<br>price=%{x}<br>kcal=%{y}<extra></extra>",
         "legendgroup": "Linea Natura",
         "marker": {
          "color": "#ab63fa",
          "symbol": "circle"
         },
         "mode": "markers",
         "name": "Linea Natura",
         "showlegend": true,
         "type": "scattergl",
         "x": [
          3.69,
          2.99,
          2.99,
          3.49,
          2.49,
          4.49,
          2.99
         ],
         "xaxis": "x",
         "y": [
          358,
          373,
          371,
          435,
          372,
          380,
          389
         ],
         "yaxis": "y"
        },
        {
         "hovertemplate": "brand=Govinda<br>price=%{x}<br>kcal=%{y}<extra></extra>",
         "legendgroup": "Govinda",
         "marker": {
          "color": "#FFA15A",
          "symbol": "circle"
         },
         "mode": "markers",
         "name": "Govinda",
         "showlegend": true,
         "type": "scattergl",
         "x": [
          2.99,
          2.99,
          7.99,
          2.99,
          4.49,
          3.89,
          7.99,
          3.89
         ],
         "xaxis": "x",
         "y": [
          319,
          349,
          345,
          527,
          269,
          335,
          312,
          337
         ],
         "yaxis": "y"
        },
        {
         "hovertemplate": "brand=Lovechock<br>price=%{x}<br>kcal=%{y}<extra></extra>",
         "legendgroup": "Lovechock",
         "marker": {
          "color": "#19d3f3",
          "symbol": "circle"
         },
         "mode": "markers",
         "name": "Lovechock",
         "showlegend": true,
         "type": "scattergl",
         "x": [
          4.19,
          5.39,
          4.19,
          2.49,
          2.49,
          3.99,
          3.99,
          3.99,
          3.99,
          3.99,
          2.49,
          3.99,
          3.99,
          2.49,
          3.99,
          2.49,
          2.49,
          2.49,
          2.49,
          2.49,
          2.49,
          2.49,
          2.9,
          2.9,
          2.9,
          2.9,
          2.9,
          2.9
         ],
         "xaxis": "x",
         "y": [
          650,
          575,
          598,
          599,
          640,
          684,
          631,
          632,
          640,
          642,
          595,
          689,
          684,
          581,
          604,
          580,
          609,
          615,
          646,
          597,
          580,
          551,
          646,
          646,
          646,
          646,
          646,
          646
         ],
         "yaxis": "y"
        },
        {
         "hovertemplate": "brand=Plamil<br>price=%{x}<br>kcal=%{y}<extra></extra>",
         "legendgroup": "Plamil",
         "marker": {
          "color": "#FF6692",
          "symbol": "circle"
         },
         "mode": "markers",
         "name": "Plamil",
         "showlegend": true,
         "type": "scattergl",
         "x": [
          5.99,
          5.99,
          2.69,
          2.69,
          2.89,
          2.89,
          2.89,
          2.89,
          2.89,
          2.89,
          1.19,
          1.19,
          1.19,
          17.99,
          15.49,
          2.19,
          5.99,
          5.99,
          2.89,
          2.89,
          2.89,
          1.09,
          4.89,
          15.49,
          13.29,
          4.89,
          2.79,
          2.89,
          2.89,
          2.89
         ],
         "xaxis": "x",
         "y": [
          591,
          611,
          568,
          591,
          655,
          588,
          562,
          568,
          611,
          655,
          655,
          655,
          655,
          591,
          567,
          591,
          591,
          638,
          638,
          591,
          655,
          591,
          591,
          555,
          513,
          591,
          567,
          562,
          648,
          632
         ],
         "yaxis": "y"
        },
        {
         "hovertemplate": "brand=Rettergut<br>price=%{x}<br>kcal=%{y}<extra></extra>",
         "legendgroup": "Rettergut",
         "marker": {
          "color": "#B6E880",
          "symbol": "circle"
         },
         "mode": "markers",
         "name": "Rettergut",
         "showlegend": true,
         "type": "scattergl",
         "x": [
          1.99,
          1.99
         ],
         "xaxis": "x",
         "y": [
          542,
          559
         ],
         "yaxis": "y"
        },
        {
         "hovertemplate": "brand=Mimi's Garden<br>price=%{x}<br>kcal=%{y}<extra></extra>",
         "legendgroup": "Mimi's Garden",
         "marker": {
          "color": "#FF97FF",
          "symbol": "circle"
         },
         "mode": "markers",
         "name": "Mimi's Garden",
         "showlegend": true,
         "type": "scattergl",
         "x": [
          2.49,
          2.49,
          2.49,
          2.49,
          2.49
         ],
         "xaxis": "x",
         "y": [
          366,
          363,
          366,
          384,
          376
         ],
         "yaxis": "y"
        },
        {
         "hovertemplate": "brand=DÖRRWERK<br>price=%{x}<br>kcal=%{y}<extra></extra>",
         "legendgroup": "DÖRRWERK",
         "marker": {
          "color": "#FECB52",
          "symbol": "circle"
         },
         "mode": "markers",
         "name": "DÖRRWERK",
         "showlegend": true,
         "type": "scattergl",
         "x": [
          2.49,
          2.49,
          2.99,
          2.99,
          2.99,
          1.49,
          1.49,
          2.99
         ],
         "xaxis": "x",
         "y": [
          342,
          341,
          326,
          319,
          387,
          394,
          319,
          394
         ],
         "yaxis": "y"
        },
        {
         "hovertemplate": "brand=Hammermühle<br>price=%{x}<br>kcal=%{y}<extra></extra>",
         "legendgroup": "Hammermühle",
         "marker": {
          "color": "#636efa",
          "symbol": "circle"
         },
         "mode": "markers",
         "name": "Hammermühle",
         "showlegend": true,
         "type": "scattergl",
         "x": [
          2.79,
          2.79,
          3.29,
          2.79,
          4.39,
          4.29
         ],
         "xaxis": "x",
         "y": [
          452,
          466,
          477,
          244,
          350,
          386
         ],
         "yaxis": "y"
        },
        {
         "hovertemplate": "brand=veggyness<br>price=%{x}<br>kcal=%{y}<extra></extra>",
         "legendgroup": "veggyness",
         "marker": {
          "color": "#EF553B",
          "symbol": "circle"
         },
         "mode": "markers",
         "name": "veggyness",
         "showlegend": true,
         "type": "scattergl",
         "x": [
          1.19
         ],
         "xaxis": "x",
         "y": [
          269
         ],
         "yaxis": "y"
        },
        {
         "hovertemplate": "brand=Pri's Puddings<br>price=%{x}<br>kcal=%{y}<extra></extra>",
         "legendgroup": "Pri's Puddings",
         "marker": {
          "color": "#00cc96",
          "symbol": "circle"
         },
         "mode": "markers",
         "name": "Pri's Puddings",
         "showlegend": true,
         "type": "scattergl",
         "x": [
          2.29,
          2.49,
          2.49,
          2.49,
          2.29,
          2.29
         ],
         "xaxis": "x",
         "y": [
          400,
          415,
          450,
          463,
          446,
          400
         ],
         "yaxis": "y"
        },
        {
         "hovertemplate": "brand=Lini's Bites<br>price=%{x}<br>kcal=%{y}<extra></extra>",
         "legendgroup": "Lini's Bites",
         "marker": {
          "color": "#ab63fa",
          "symbol": "circle"
         },
         "mode": "markers",
         "name": "Lini's Bites",
         "showlegend": true,
         "type": "scattergl",
         "x": [
          2.69,
          2.69,
          2.69,
          2.69,
          2.29,
          2.49,
          2.49,
          2.49,
          2.49,
          2.8,
          2.8,
          2.8,
          2.8,
          2.8,
          2.8,
          2.8,
          2.8,
          2.8,
          2.8,
          2.8,
          2.8,
          2.8,
          2.8,
          2.8,
          2.8,
          2.8,
          2.8
         ],
         "xaxis": "x",
         "y": [
          469,
          449,
          436,
          462,
          496,
          445,
          432,
          431,
          482,
          449,
          462,
          469,
          449,
          462,
          469,
          449,
          462,
          469,
          449,
          462,
          469,
          449,
          462,
          469,
          449,
          462,
          469
         ],
         "yaxis": "y"
        },
        {
         "hovertemplate": "brand=Lord of Tofu<br>price=%{x}<br>kcal=%{y}<extra></extra>",
         "legendgroup": "Lord of Tofu",
         "marker": {
          "color": "#FFA15A",
          "symbol": "circle"
         },
         "mode": "markers",
         "name": "Lord of Tofu",
         "showlegend": true,
         "type": "scattergl",
         "x": [
          2.69
         ],
         "xaxis": "x",
         "y": [
          197
         ],
         "yaxis": "y"
        },
        {
         "hovertemplate": "brand=Fredo's<br>price=%{x}<br>kcal=%{y}<extra></extra>",
         "legendgroup": "Fredo's",
         "marker": {
          "color": "#19d3f3",
          "symbol": "circle"
         },
         "mode": "markers",
         "name": "Fredo's",
         "showlegend": true,
         "type": "scattergl",
         "x": [
          2.59,
          1.69,
          2.59,
          1.69,
          1.69
         ],
         "xaxis": "x",
         "y": [
          73,
          371,
          57,
          349,
          392
         ],
         "yaxis": "y"
        },
        {
         "hovertemplate": "brand=Sommer<br>price=%{x}<br>kcal=%{y}<extra></extra>",
         "legendgroup": "Sommer",
         "marker": {
          "color": "#FF6692",
          "symbol": "circle"
         },
         "mode": "markers",
         "name": "Sommer",
         "showlegend": true,
         "type": "scattergl",
         "x": [
          2.69,
          2.69,
          1.99,
          2.29,
          2.59,
          2.99,
          2.99,
          2.49,
          2.49
         ],
         "xaxis": "x",
         "y": [
          530,
          427,
          494,
          444,
          489,
          450,
          510,
          459,
          465
         ],
         "yaxis": "y"
        },
        {
         "hovertemplate": "brand=Biovegan<br>price=%{x}<br>kcal=%{y}<extra></extra>",
         "legendgroup": "Biovegan",
         "marker": {
          "color": "#B6E880",
          "symbol": "circle"
         },
         "mode": "markers",
         "name": "Biovegan",
         "showlegend": true,
         "type": "scattergl",
         "x": [
          2.89,
          2.89
         ],
         "xaxis": "x",
         "y": [
          387,
          367
         ],
         "yaxis": "y"
        },
        {
         "hovertemplate": "brand=RUF<br>price=%{x}<br>kcal=%{y}<extra></extra>",
         "legendgroup": "RUF",
         "marker": {
          "color": "#FF97FF",
          "symbol": "circle"
         },
         "mode": "markers",
         "name": "RUF",
         "showlegend": true,
         "type": "scattergl",
         "x": [
          1.19,
          1.19,
          1.19
         ],
         "xaxis": "x",
         "y": [
          357,
          366,
          367
         ],
         "yaxis": "y"
        },
        {
         "hovertemplate": "brand=Lubs<br>price=%{x}<br>kcal=%{y}<extra></extra>",
         "legendgroup": "Lubs",
         "marker": {
          "color": "#FECB52",
          "symbol": "circle"
         },
         "mode": "markers",
         "name": "Lubs",
         "showlegend": true,
         "type": "scattergl",
         "x": [
          1.99,
          1.19,
          1.19,
          1.19,
          1.19,
          0.99,
          1.49,
          1.49,
          1.49,
          1.19,
          2.69,
          3.39,
          1.99,
          0.99,
          2.29,
          1.99,
          1.99,
          2.69,
          1.19,
          1.19
         ],
         "xaxis": "x",
         "y": [
          467,
          391,
          410,
          382,
          417,
          569,
          418,
          382,
          429,
          425,
          421,
          294,
          494,
          344,
          302,
          445,
          424,
          303,
          420,
          388
         ],
         "yaxis": "y"
        },
        {
         "hovertemplate": "brand=Vego Chocolate<br>price=%{x}<br>kcal=%{y}<extra></extra>",
         "legendgroup": "Vego Chocolate",
         "marker": {
          "color": "#636efa",
          "symbol": "circle"
         },
         "mode": "markers",
         "name": "Vego Chocolate",
         "showlegend": true,
         "type": "scattergl",
         "x": [
          5.49,
          2.49,
          1.99,
          4.99,
          3.39,
          1.99
         ],
         "xaxis": "x",
         "y": [
          543,
          571,
          567,
          589,
          591,
          591
         ],
         "yaxis": "y"
        },
        {
         "hovertemplate": "brand=Candy Tree<br>price=%{x}<br>kcal=%{y}<extra></extra>",
         "legendgroup": "Candy Tree",
         "marker": {
          "color": "#EF553B",
          "symbol": "circle"
         },
         "mode": "markers",
         "name": "Candy Tree",
         "showlegend": true,
         "type": "scattergl",
         "x": [
          0.99,
          1.99,
          1.99,
          1.99,
          0.69,
          1.99,
          1.99,
          0.69,
          0.69,
          0.99,
          0.99,
          0.69,
          1.99
         ],
         "xaxis": "x",
         "y": [
          348,
          337,
          353,
          353,
          363,
          337,
          336,
          346,
          378,
          336,
          337,
          364,
          369
         ],
         "yaxis": "y"
        },
        {
         "hovertemplate": "brand=Fine Gusto<br>price=%{x}<br>kcal=%{y}<extra></extra>",
         "legendgroup": "Fine Gusto",
         "marker": {
          "color": "#00cc96",
          "symbol": "circle"
         },
         "mode": "markers",
         "name": "Fine Gusto",
         "showlegend": true,
         "type": "scattergl",
         "x": [
          1.99,
          1.99
         ],
         "xaxis": "x",
         "y": [
          288,
          302
         ],
         "yaxis": "y"
        },
        {
         "hovertemplate": "brand=le pain des fleurs<br>price=%{x}<br>kcal=%{y}<extra></extra>",
         "legendgroup": "le pain des fleurs",
         "marker": {
          "color": "#ab63fa",
          "symbol": "circle"
         },
         "mode": "markers",
         "name": "le pain des fleurs",
         "showlegend": true,
         "type": "scattergl",
         "x": [
          5.69,
          3.69,
          2.99,
          3.99,
          2.99,
          3.69,
          3.69,
          3.19,
          3.09,
          3.19,
          3.19,
          3.19
         ],
         "xaxis": "x",
         "y": [
          388,
          384,
          391,
          397,
          363,
          394,
          449,
          371,
          33,
          378,
          370,
          372
         ],
         "yaxis": "y"
        },
        {
         "hovertemplate": "brand=Naturata<br>price=%{x}<br>kcal=%{y}<extra></extra>",
         "legendgroup": "Naturata",
         "marker": {
          "color": "#FFA15A",
          "symbol": "circle"
         },
         "mode": "markers",
         "name": "Naturata",
         "showlegend": true,
         "type": "scattergl",
         "x": [
          3.29,
          3.29,
          3.49,
          3.29,
          3.29,
          3.29,
          3.29,
          2.59,
          3.09,
          3.29,
          3.49,
          3.49,
          3.49,
          3.49,
          3.49,
          3.49
         ],
         "xaxis": "x",
         "y": [
          568,
          565,
          614,
          647,
          598,
          577,
          627,
          584,
          599,
          634,
          599,
          599,
          599,
          599,
          599,
          599
         ],
         "yaxis": "y"
        },
        {
         "hovertemplate": "brand=ÖKOVITAL<br>price=%{x}<br>kcal=%{y}<extra></extra>",
         "legendgroup": "ÖKOVITAL",
         "marker": {
          "color": "#19d3f3",
          "symbol": "circle"
         },
         "mode": "markers",
         "name": "ÖKOVITAL",
         "showlegend": true,
         "type": "scattergl",
         "x": [
          17.99,
          2.39,
          1.59,
          1.59,
          1.59,
          1.59,
          18.99,
          1.59,
          1.59,
          17.99,
          1.59,
          6.79,
          2.69,
          1.59,
          1.59,
          1.59
         ],
         "xaxis": "x",
         "y": [
          320,
          332,
          343,
          320,
          341,
          343,
          343,
          343,
          353,
          323,
          323,
          323,
          323,
          339,
          343,
          338
         ],
         "yaxis": "y"
        },
        {
         "hovertemplate": "brand=Landgarten<br>price=%{x}<br>kcal=%{y}<extra></extra>",
         "legendgroup": "Landgarten",
         "marker": {
          "color": "#FF6692",
          "symbol": "circle"
         },
         "mode": "markers",
         "name": "Landgarten",
         "showlegend": true,
         "type": "scattergl",
         "x": [
          3.99,
          3.99,
          1.69,
          1.99,
          1.99,
          1.99,
          1.99,
          1.99,
          1.29,
          1.69,
          1.99,
          1.89,
          1.99,
          1.49,
          3.99
         ],
         "xaxis": "x",
         "y": [
          2158,
          523,
          532,
          547,
          646,
          560,
          544,
          592,
          452,
          516,
          509,
          473,
          519,
          551,
          506
         ],
         "yaxis": "y"
        },
        {
         "hovertemplate": "brand=Heidi Chocolate<br>price=%{x}<br>kcal=%{y}<extra></extra>",
         "legendgroup": "Heidi Chocolate",
         "marker": {
          "color": "#B6E880",
          "symbol": "circle"
         },
         "mode": "markers",
         "name": "Heidi Chocolate",
         "showlegend": true,
         "type": "scattergl",
         "x": [
          3.19,
          4.99,
          5.49,
          3.79,
          3.19,
          3.19
         ],
         "xaxis": "x",
         "y": [
          605,
          592,
          592,
          604,
          591,
          577
         ],
         "yaxis": "y"
        },
        {
         "hovertemplate": "brand=Hanf & Natur<br>price=%{x}<br>kcal=%{y}<extra></extra>",
         "legendgroup": "Hanf & Natur",
         "marker": {
          "color": "#FF97FF",
          "symbol": "circle"
         },
         "mode": "markers",
         "name": "Hanf & Natur",
         "showlegend": true,
         "type": "scattergl",
         "x": [
          2.19,
          2.19,
          2.19,
          2.19,
          2.19,
          4.29
         ],
         "xaxis": "x",
         "y": [
          457,
          457,
          456,
          457,
          456,
          621
         ],
         "yaxis": "y"
        },
        {
         "hovertemplate": "brand=Cocoa Libre<br>price=%{x}<br>kcal=%{y}<extra></extra>",
         "legendgroup": "Cocoa Libre",
         "marker": {
          "color": "#FECB52",
          "symbol": "circle"
         },
         "mode": "markers",
         "name": "Cocoa Libre",
         "showlegend": true,
         "type": "scattergl",
         "x": [
          6.99,
          4.99,
          2.99,
          4.99,
          6.99,
          2.99
         ],
         "xaxis": "x",
         "y": [
          539,
          539,
          547,
          520,
          539,
          520
         ],
         "yaxis": "y"
        },
        {
         "hovertemplate": "brand=mind sweets<br>price=%{x}<br>kcal=%{y}<extra></extra>",
         "legendgroup": "mind sweets",
         "marker": {
          "color": "#636efa",
          "symbol": "circle"
         },
         "mode": "markers",
         "name": "mind sweets",
         "showlegend": true,
         "type": "scattergl",
         "x": [
          2.39,
          2.59,
          3.79,
          3.79,
          2.59,
          2.59,
          2.59,
          1.89,
          3.79,
          3.79,
          2.59,
          2.59,
          2.59,
          2.59,
          2.59,
          2.59,
          4.5,
          4.2,
          2.9,
          2.95,
          4.5,
          4.2,
          2.9,
          2.95,
          4.5,
          4.2,
          2.9,
          2.95,
          4.5,
          4.2,
          2.9,
          2.95,
          4.5,
          4.2,
          2.9,
          2.95,
          4.5,
          4.2,
          2.9,
          2.95
         ],
         "xaxis": "x",
         "y": [
          321,
          323,
          587,
          590,
          337,
          337,
          348,
          321,
          593,
          593,
          321,
          322,
          322,
          321,
          322,
          321,
          591,
          593,
          321,
          321,
          591,
          593,
          321,
          321,
          591,
          593,
          321,
          321,
          591,
          593,
          321,
          321,
          591,
          593,
          321,
          321,
          591,
          593,
          321,
          321
         ],
         "yaxis": "y"
        },
        {
         "hovertemplate": "brand=SOBO<br>price=%{x}<br>kcal=%{y}<extra></extra>",
         "legendgroup": "SOBO",
         "marker": {
          "color": "#EF553B",
          "symbol": "circle"
         },
         "mode": "markers",
         "name": "SOBO",
         "showlegend": true,
         "type": "scattergl",
         "x": [
          3.99,
          1.49,
          1.49,
          4.99
         ],
         "xaxis": "x",
         "y": [
          332,
          287,
          288,
          287
         ],
         "yaxis": "y"
        },
        {
         "hovertemplate": "brand=Céliane<br>price=%{x}<br>kcal=%{y}<extra></extra>",
         "legendgroup": "Céliane",
         "marker": {
          "color": "#00cc96",
          "symbol": "circle"
         },
         "mode": "markers",
         "name": "Céliane",
         "showlegend": true,
         "type": "scattergl",
         "x": [
          3.49
         ],
         "xaxis": "x",
         "y": [
          410
         ],
         "yaxis": "y"
        },
        {
         "hovertemplate": "brand=Biolandhof Klein<br>price=%{x}<br>kcal=%{y}<extra></extra>",
         "legendgroup": "Biolandhof Klein",
         "marker": {
          "color": "#ab63fa",
          "symbol": "circle"
         },
         "mode": "markers",
         "name": "Biolandhof Klein",
         "showlegend": true,
         "type": "scattergl",
         "x": [
          2.99
         ],
         "xaxis": "x",
         "y": [
          172
         ],
         "yaxis": "y"
        },
        {
         "hovertemplate": "brand=smooze!<br>price=%{x}<br>kcal=%{y}<extra></extra>",
         "legendgroup": "smooze!",
         "marker": {
          "color": "#FFA15A",
          "symbol": "circle"
         },
         "mode": "markers",
         "name": "smooze!",
         "showlegend": true,
         "type": "scattergl",
         "x": [
          3.59,
          3.59,
          3.59,
          3.59,
          3.59
         ],
         "xaxis": "x",
         "y": [
          101,
          122,
          158,
          97,
          100
         ],
         "yaxis": "y"
        },
        {
         "hovertemplate": "brand=Terrasana<br>price=%{x}<br>kcal=%{y}<extra></extra>",
         "legendgroup": "Terrasana",
         "marker": {
          "color": "#19d3f3",
          "symbol": "circle"
         },
         "mode": "markers",
         "name": "Terrasana",
         "showlegend": true,
         "type": "scattergl",
         "x": [
          5.59,
          2.39,
          1.79,
          0.59
         ],
         "xaxis": "x",
         "y": [
          309,
          461,
          320,
          320
         ],
         "yaxis": "y"
        },
        {
         "hovertemplate": "brand=go4raw<br>price=%{x}<br>kcal=%{y}<extra></extra>",
         "legendgroup": "go4raw",
         "marker": {
          "color": "#FF6692",
          "symbol": "circle"
         },
         "mode": "markers",
         "name": "go4raw",
         "showlegend": true,
         "type": "scattergl",
         "x": [
          1.39,
          0.99,
          0.99,
          0.99,
          0.99,
          0.99,
          0.99,
          0.99,
          0.99,
          0.99,
          0.99,
          1.39,
          1.39,
          0.99,
          0.99
         ],
         "xaxis": "x",
         "y": [
          404,
          351,
          355,
          419,
          449,
          387,
          424,
          372,
          381,
          361,
          393,
          419,
          431,
          393,
          423
         ],
         "yaxis": "y"
        },
        {
         "hovertemplate": "brand=Clarana<br>price=%{x}<br>kcal=%{y}<extra></extra>",
         "legendgroup": "Clarana",
         "marker": {
          "color": "#B6E880",
          "symbol": "circle"
         },
         "mode": "markers",
         "name": "Clarana",
         "showlegend": true,
         "type": "scattergl",
         "x": [
          18.99,
          7.39,
          2.99
         ],
         "xaxis": "x",
         "y": [
          453,
          559,
          453
         ],
         "yaxis": "y"
        },
        {
         "hovertemplate": "brand=Sonnentor<br>price=%{x}<br>kcal=%{y}<extra></extra>",
         "legendgroup": "Sonnentor",
         "marker": {
          "color": "#FF97FF",
          "symbol": "circle"
         },
         "mode": "markers",
         "name": "Sonnentor",
         "showlegend": true,
         "type": "scattergl",
         "x": [
          2.39
         ],
         "xaxis": "x",
         "y": [
          328
         ],
         "yaxis": "y"
        },
        {
         "hovertemplate": "brand=Vantastic Foods<br>price=%{x}<br>kcal=%{y}<extra></extra>",
         "legendgroup": "Vantastic Foods",
         "marker": {
          "color": "#FECB52",
          "symbol": "circle"
         },
         "mode": "markers",
         "name": "Vantastic Foods",
         "showlegend": true,
         "type": "scattergl",
         "x": [
          3.29,
          2.99,
          3.29,
          8.99,
          8.99,
          2.29,
          2.99,
          3.59,
          2.99,
          2.99,
          1.99
         ],
         "xaxis": "x",
         "y": [
          547,
          270,
          551,
          541,
          580,
          450,
          280,
          530,
          278,
          267,
          467
         ],
         "yaxis": "y"
        },
        {
         "hovertemplate": "brand=Vegan Bakery<br>price=%{x}<br>kcal=%{y}<extra></extra>",
         "legendgroup": "Vegan Bakery",
         "marker": {
          "color": "#636efa",
          "symbol": "circle"
         },
         "mode": "markers",
         "name": "Vegan Bakery",
         "showlegend": true,
         "type": "scattergl",
         "x": [
          2.49,
          2.49,
          2.49,
          2.49,
          2.49,
          2.49,
          2.49
         ],
         "xaxis": "x",
         "y": [
          482,
          488,
          466,
          494,
          533,
          519,
          496
         ],
         "yaxis": "y"
        },
        {
         "hovertemplate": "brand=Kuhbonbon<br>price=%{x}<br>kcal=%{y}<extra></extra>",
         "legendgroup": "Kuhbonbon",
         "marker": {
          "color": "#EF553B",
          "symbol": "circle"
         },
         "mode": "markers",
         "name": "Kuhbonbon",
         "showlegend": true,
         "type": "scattergl",
         "x": [
          1.99,
          3.49,
          3.49
         ],
         "xaxis": "x",
         "y": [
          426,
          430,
          426
         ],
         "yaxis": "y"
        },
        {
         "hovertemplate": "brand=BeautySweeties<br>price=%{x}<br>kcal=%{y}<extra></extra>",
         "legendgroup": "BeautySweeties",
         "marker": {
          "color": "#00cc96",
          "symbol": "circle"
         },
         "mode": "markers",
         "name": "BeautySweeties",
         "showlegend": true,
         "type": "scattergl",
         "x": [
          2.29,
          2.29,
          2.29,
          2.29
         ],
         "xaxis": "x",
         "y": [
          323,
          330,
          225,
          343
         ],
         "yaxis": "y"
        },
        {
         "hovertemplate": "brand=Raab<br>price=%{x}<br>kcal=%{y}<extra></extra>",
         "legendgroup": "Raab",
         "marker": {
          "color": "#ab63fa",
          "symbol": "circle"
         },
         "mode": "markers",
         "name": "Raab",
         "showlegend": true,
         "type": "scattergl",
         "x": [
          1.69
         ],
         "xaxis": "x",
         "y": [
          158
         ],
         "yaxis": "y"
        },
        {
         "hovertemplate": "brand=Super Fudgio<br>price=%{x}<br>kcal=%{y}<extra></extra>",
         "legendgroup": "Super Fudgio",
         "marker": {
          "color": "#FFA15A",
          "symbol": "circle"
         },
         "mode": "markers",
         "name": "Super Fudgio",
         "showlegend": true,
         "type": "scattergl",
         "x": [
          2.49,
          2.49,
          2.99,
          2.99,
          2.99,
          2.99,
          2.49,
          2.99
         ],
         "xaxis": "x",
         "y": [
          570,
          555,
          381,
          383,
          383,
          402,
          556,
          383
         ],
         "yaxis": "y"
        },
        {
         "hovertemplate": "brand=Gross<br>price=%{x}<br>kcal=%{y}<extra></extra>",
         "legendgroup": "Gross",
         "marker": {
          "color": "#19d3f3",
          "symbol": "circle"
         },
         "mode": "markers",
         "name": "Gross",
         "showlegend": true,
         "type": "scattergl",
         "x": [
          2.99,
          2.99
         ],
         "xaxis": "x",
         "y": [
          511,
          512
         ],
         "yaxis": "y"
        },
        {
         "hovertemplate": "brand=Liebhart's<br>price=%{x}<br>kcal=%{y}<extra></extra>",
         "legendgroup": "Liebhart's",
         "marker": {
          "color": "#FF6692",
          "symbol": "circle"
         },
         "mode": "markers",
         "name": "Liebhart's",
         "showlegend": true,
         "type": "scattergl",
         "x": [
          0.89
         ],
         "xaxis": "x",
         "y": [
          523
         ],
         "yaxis": "y"
        },
        {
         "hovertemplate": "brand=XyliGum<br>price=%{x}<br>kcal=%{y}<extra></extra>",
         "legendgroup": "XyliGum",
         "marker": {
          "color": "#B6E880",
          "symbol": "circle"
         },
         "mode": "markers",
         "name": "XyliGum",
         "showlegend": true,
         "type": "scattergl",
         "x": [
          1.29,
          1.29,
          1.29
         ],
         "xaxis": "x",
         "y": [
          173,
          173,
          173
         ],
         "yaxis": "y"
        },
        {
         "hovertemplate": "brand=frusano<br>price=%{x}<br>kcal=%{y}<extra></extra>",
         "legendgroup": "frusano",
         "marker": {
          "color": "#FF97FF",
          "symbol": "circle"
         },
         "mode": "markers",
         "name": "frusano",
         "showlegend": true,
         "type": "scattergl",
         "x": [
          1.99,
          1.39
         ],
         "xaxis": "x",
         "y": [
          330,
          314
         ],
         "yaxis": "y"
        },
        {
         "hovertemplate": "brand=iChoc<br>price=%{x}<br>kcal=%{y}<extra></extra>",
         "legendgroup": "iChoc",
         "marker": {
          "color": "#FECB52",
          "symbol": "circle"
         },
         "mode": "markers",
         "name": "iChoc",
         "showlegend": true,
         "type": "scattergl",
         "x": [
          1.69,
          1.99,
          1.99,
          1.99,
          1.99,
          1.99,
          1.99
         ],
         "xaxis": "x",
         "y": [
          584,
          570,
          593,
          595,
          568,
          561,
          586
         ],
         "yaxis": "y"
        },
        {
         "hovertemplate": "brand=3 Pauly<br>price=%{x}<br>kcal=%{y}<extra></extra>",
         "legendgroup": "3 Pauly",
         "marker": {
          "color": "#636efa",
          "symbol": "circle"
         },
         "mode": "markers",
         "name": "3 Pauly",
         "showlegend": true,
         "type": "scattergl",
         "x": [
          1.99,
          2.49
         ],
         "xaxis": "x",
         "y": [
          562,
          476
         ],
         "yaxis": "y"
        },
        {
         "hovertemplate": "brand=BauckHof<br>price=%{x}<br>kcal=%{y}<extra></extra>",
         "legendgroup": "BauckHof",
         "marker": {
          "color": "#EF553B",
          "symbol": "circle"
         },
         "mode": "markers",
         "name": "BauckHof",
         "showlegend": true,
         "type": "scattergl",
         "x": [
          3.29,
          3.69
         ],
         "xaxis": "x",
         "y": [
          393,
          356
         ],
         "yaxis": "y"
        },
        {
         "hovertemplate": "brand=CLIF BAR<br>price=%{x}<br>kcal=%{y}<extra></extra>",
         "legendgroup": "CLIF BAR",
         "marker": {
          "color": "#00cc96",
          "symbol": "circle"
         },
         "mode": "markers",
         "name": "CLIF BAR",
         "showlegend": true,
         "type": "scattergl",
         "x": [
          2.49,
          2.49,
          2.49,
          2.49,
          2.49
         ],
         "xaxis": "x",
         "y": [
          403,
          411,
          400,
          396,
          400
         ],
         "yaxis": "y"
        },
        {
         "hovertemplate": "brand=Raw Bite Rohkostriegel<br>price=%{x}<br>kcal=%{y}<extra></extra>",
         "legendgroup": "Raw Bite Rohkostriegel",
         "marker": {
          "color": "#ab63fa",
          "symbol": "circle"
         },
         "mode": "markers",
         "name": "Raw Bite Rohkostriegel",
         "showlegend": true,
         "type": "scattergl",
         "x": [
          1.79,
          1.79,
          1.79,
          1.79,
          1.79,
          1.79,
          1.79
         ],
         "xaxis": "x",
         "y": [
          461,
          436,
          464,
          449,
          401,
          408,
          426
         ],
         "yaxis": "y"
        },
        {
         "hovertemplate": "brand=deBron<br>price=%{x}<br>kcal=%{y}<extra></extra>",
         "legendgroup": "deBron",
         "marker": {
          "color": "#FFA15A",
          "symbol": "circle"
         },
         "mode": "markers",
         "name": "deBron",
         "showlegend": true,
         "type": "scattergl",
         "x": [
          2.29
         ],
         "xaxis": "x",
         "y": [
          342
         ],
         "yaxis": "y"
        },
        {
         "hovertemplate": "brand=Wheaty<br>price=%{x}<br>kcal=%{y}<extra></extra>",
         "legendgroup": "Wheaty",
         "marker": {
          "color": "#19d3f3",
          "symbol": "circle"
         },
         "mode": "markers",
         "name": "Wheaty",
         "showlegend": true,
         "type": "scattergl",
         "x": [
          1.19,
          1.19,
          1.19
         ],
         "xaxis": "x",
         "y": [
          273,
          248,
          247
         ],
         "yaxis": "y"
        },
        {
         "hovertemplate": "brand=Vegablum<br>price=%{x}<br>kcal=%{y}<extra></extra>",
         "legendgroup": "Vegablum",
         "marker": {
          "color": "#FF6692",
          "symbol": "circle"
         },
         "mode": "markers",
         "name": "Vegablum",
         "showlegend": true,
         "type": "scattergl",
         "x": [
          4.49,
          4.49,
          4.69
         ],
         "xaxis": "x",
         "y": [
          469,
          470,
          544
         ],
         "yaxis": "y"
        },
        {
         "hovertemplate": "brand=Birkengold<br>price=%{x}<br>kcal=%{y}<extra></extra>",
         "legendgroup": "Birkengold",
         "marker": {
          "color": "#B6E880",
          "symbol": "circle"
         },
         "mode": "markers",
         "name": "Birkengold",
         "showlegend": true,
         "type": "scattergl",
         "x": [
          2.49,
          2.99,
          2.99,
          2.99,
          2.49,
          3.29,
          3.19,
          2.99,
          2.99,
          2.99,
          1.39,
          1.39,
          1.39,
          2.5,
          2.5,
          2.5,
          2.5,
          2.5,
          2.5
         ],
         "xaxis": "x",
         "y": [
          257,
          182,
          180,
          183,
          257,
          580,
          466,
          484,
          465,
          466,
          178,
          183,
          180,
          257,
          257,
          257,
          257,
          257,
          257
         ],
         "yaxis": "y"
        },
        {
         "hovertemplate": "brand=Guzman's Guzinos<br>price=%{x}<br>kcal=%{y}<extra></extra>",
         "legendgroup": "Guzman's Guzinos",
         "marker": {
          "color": "#FF97FF",
          "symbol": "circle"
         },
         "mode": "markers",
         "name": "Guzman's Guzinos",
         "showlegend": true,
         "type": "scattergl",
         "x": [
          1.99,
          1.99,
          1.99
         ],
         "xaxis": "x",
         "y": [
          408,
          393,
          4123
         ],
         "yaxis": "y"
        },
        {
         "hovertemplate": "brand=Foodist<br>price=%{x}<br>kcal=%{y}<extra></extra>",
         "legendgroup": "Foodist",
         "marker": {
          "color": "#FECB52",
          "symbol": "circle"
         },
         "mode": "markers",
         "name": "Foodist",
         "showlegend": true,
         "type": "scattergl",
         "x": [
          8.95,
          29.98,
          4.99,
          3.99,
          1.5,
          14.95,
          9.95,
          15.95,
          9.95,
          13.9,
          13.9,
          2.5,
          2.5,
          1.9,
          1.45,
          10.95,
          8.95,
          29.98,
          4.99,
          3.99,
          1.5,
          14.95,
          9.95,
          15.95,
          9.95,
          13.9,
          13.9,
          2.5,
          2.5,
          1.9,
          1.45,
          10.95,
          8.95,
          29.98,
          4.99,
          3.99,
          1.5,
          14.95,
          9.95,
          15.95,
          9.95,
          13.9,
          13.9,
          2.5,
          2.5,
          1.9,
          1.45,
          10.95,
          8.95,
          29.98,
          4.99,
          3.99,
          1.5,
          14.95,
          9.95,
          15.95,
          9.95,
          13.9,
          13.9,
          2.5,
          2.5,
          1.9,
          1.45,
          10.95,
          8.95,
          29.98,
          4.99,
          3.99,
          1.5,
          14.95,
          9.95,
          15.95,
          9.95,
          13.9,
          13.9,
          2.5,
          2.5,
          1.9,
          1.45,
          10.95,
          8.95,
          29.98,
          4.99,
          3.99,
          1.5,
          14.95,
          9.95,
          15.95,
          9.95,
          13.9,
          13.9,
          2.5,
          2.5,
          1.9,
          1.45,
          10.95
         ],
         "xaxis": "x",
         "y": [
          454,
          614,
          599,
          721,
          444,
          448,
          518,
          615,
          545,
          431,
          436,
          599,
          597,
          488,
          393,
          433,
          454,
          614,
          599,
          721,
          444,
          448,
          518,
          615,
          545,
          431,
          436,
          599,
          597,
          488,
          393,
          433,
          454,
          614,
          599,
          721,
          444,
          448,
          518,
          615,
          545,
          431,
          436,
          599,
          597,
          488,
          393,
          433,
          454,
          614,
          599,
          721,
          444,
          448,
          518,
          615,
          545,
          431,
          436,
          599,
          597,
          488,
          393,
          433,
          454,
          614,
          599,
          721,
          444,
          448,
          518,
          615,
          545,
          431,
          436,
          599,
          597,
          488,
          393,
          433,
          454,
          614,
          599,
          721,
          444,
          448,
          518,
          615,
          545,
          431,
          436,
          599,
          597,
          488,
          393,
          433
         ],
         "yaxis": "y"
        },
        {
         "hovertemplate": "brand=PLAYin Choc<br>price=%{x}<br>kcal=%{y}<extra></extra>",
         "legendgroup": "PLAYin Choc",
         "marker": {
          "color": "#636efa",
          "symbol": "circle"
         },
         "mode": "markers",
         "name": "PLAYin Choc",
         "showlegend": true,
         "type": "scattergl",
         "x": [
          4,
          4,
          4,
          4,
          4,
          4
         ],
         "xaxis": "x",
         "y": [
          630,
          630,
          630,
          630,
          630,
          630
         ],
         "yaxis": "y"
        },
        {
         "hovertemplate": "brand=Paddies<br>price=%{x}<br>kcal=%{y}<extra></extra>",
         "legendgroup": "Paddies",
         "marker": {
          "color": "#EF553B",
          "symbol": "circle"
         },
         "mode": "markers",
         "name": "Paddies",
         "showlegend": true,
         "type": "scattergl",
         "x": [
          1.99,
          1.99,
          1.99,
          1.99,
          1.99,
          1.99
         ],
         "xaxis": "x",
         "y": [
          418,
          418,
          418,
          418,
          418,
          418
         ],
         "yaxis": "y"
        },
        {
         "hovertemplate": "brand=Not Guilty<br>price=%{x}<br>kcal=%{y}<extra></extra>",
         "legendgroup": "Not Guilty",
         "marker": {
          "color": "#00cc96",
          "symbol": "circle"
         },
         "mode": "markers",
         "name": "Not Guilty",
         "showlegend": true,
         "type": "scattergl",
         "x": [
          1.9,
          1.7,
          1.7,
          1.9,
          1.7,
          1.7,
          1.9,
          1.7,
          1.7,
          1.9,
          1.7,
          1.7,
          1.9,
          1.7,
          1.7,
          1.9,
          1.7,
          1.7
         ],
         "xaxis": "x",
         "y": [
          326,
          320,
          318,
          326,
          320,
          318,
          326,
          320,
          318,
          326,
          320,
          318,
          326,
          320,
          318,
          326,
          320,
          318
         ],
         "yaxis": "y"
        },
        {
         "hovertemplate": "brand=Heldenbrot<br>price=%{x}<br>kcal=%{y}<extra></extra>",
         "legendgroup": "Heldenbrot",
         "marker": {
          "color": "#ab63fa",
          "symbol": "circle"
         },
         "mode": "markers",
         "name": "Heldenbrot",
         "showlegend": true,
         "type": "scattergl",
         "x": [
          1.9,
          1.9,
          1.9,
          1.9,
          1.9,
          1.9
         ],
         "xaxis": "x",
         "y": [
          457,
          457,
          457,
          457,
          457,
          457
         ],
         "yaxis": "y"
        },
        {
         "hovertemplate": "brand=Freche Freunde<br>price=%{x}<br>kcal=%{y}<extra></extra>",
         "legendgroup": "Freche Freunde",
         "marker": {
          "color": "#FFA15A",
          "symbol": "circle"
         },
         "mode": "markers",
         "name": "Freche Freunde",
         "showlegend": true,
         "type": "scattergl",
         "x": [
          1.75,
          1.75,
          1.75,
          1.75,
          1.75,
          1.75
         ],
         "xaxis": "x",
         "y": [
          383,
          383,
          383,
          383,
          383,
          383
         ],
         "yaxis": "y"
        },
        {
         "hovertemplate": "brand=PURmacherei<br>price=%{x}<br>kcal=%{y}<extra></extra>",
         "legendgroup": "PURmacherei",
         "marker": {
          "color": "#19d3f3",
          "symbol": "circle"
         },
         "mode": "markers",
         "name": "PURmacherei",
         "showlegend": true,
         "type": "scattergl",
         "x": [
          3.49,
          3.49,
          3.49,
          3.49,
          3.49,
          3.49,
          3.49,
          3.49,
          3.49,
          3.49,
          3.49,
          3.49
         ],
         "xaxis": "x",
         "y": [
          527,
          568,
          527,
          568,
          527,
          568,
          527,
          568,
          527,
          568,
          527,
          568
         ],
         "yaxis": "y"
        },
        {
         "hovertemplate": "brand=Supersec<br>price=%{x}<br>kcal=%{y}<extra></extra>",
         "legendgroup": "Supersec",
         "marker": {
          "color": "#FF6692",
          "symbol": "circle"
         },
         "mode": "markers",
         "name": "Supersec",
         "showlegend": true,
         "type": "scattergl",
         "x": [
          4.85,
          4.85,
          4.85,
          4.85,
          4.85,
          4.85
         ],
         "xaxis": "x",
         "y": [
          325,
          325,
          325,
          325,
          325,
          325
         ],
         "yaxis": "y"
        },
        {
         "hovertemplate": "brand=Dörrwerk<br>price=%{x}<br>kcal=%{y}<extra></extra>",
         "legendgroup": "Dörrwerk",
         "marker": {
          "color": "#B6E880",
          "symbol": "circle"
         },
         "mode": "markers",
         "name": "Dörrwerk",
         "showlegend": true,
         "type": "scattergl",
         "x": [
          1.5,
          2.5,
          1.5,
          2.5,
          1.5,
          2.5,
          1.5,
          2.5,
          1.5,
          2.5,
          1.5,
          2.5
         ],
         "xaxis": "x",
         "y": [
          319,
          342,
          319,
          342,
          319,
          342,
          319,
          342,
          319,
          342,
          319,
          342
         ],
         "yaxis": "y"
        },
        {
         "hovertemplate": "brand=frufree<br>price=%{x}<br>kcal=%{y}<extra></extra>",
         "legendgroup": "frufree",
         "marker": {
          "color": "#FF97FF",
          "symbol": "circle"
         },
         "mode": "markers",
         "name": "frufree",
         "showlegend": true,
         "type": "scattergl",
         "x": [
          4,
          4,
          4,
          4,
          4,
          4
         ],
         "xaxis": "x",
         "y": [
          372,
          372,
          372,
          372,
          372,
          372
         ],
         "yaxis": "y"
        },
        {
         "hovertemplate": "brand=Vista Portuguese<br>price=%{x}<br>kcal=%{y}<extra></extra>",
         "legendgroup": "Vista Portuguese",
         "marker": {
          "color": "#FECB52",
          "symbol": "circle"
         },
         "mode": "markers",
         "name": "Vista Portuguese",
         "showlegend": true,
         "type": "scattergl",
         "x": [
          7.9,
          7.9,
          7.9,
          7.9,
          7.9,
          7.9
         ],
         "xaxis": "x",
         "y": [
          442,
          442,
          442,
          442,
          442,
          442
         ],
         "yaxis": "y"
        },
        {
         "hovertemplate": "brand=nucao<br>price=%{x}<br>kcal=%{y}<extra></extra>",
         "legendgroup": "nucao",
         "marker": {
          "color": "#636efa",
          "symbol": "circle"
         },
         "mode": "markers",
         "name": "nucao",
         "showlegend": true,
         "type": "scattergl",
         "x": [
          3.99,
          3.99,
          3.99,
          3.99,
          3.99,
          3.99
         ],
         "xaxis": "x",
         "y": [
          584,
          584,
          584,
          584,
          584,
          584
         ],
         "yaxis": "y"
        },
        {
         "hovertemplate": "brand=ZAZ<br>price=%{x}<br>kcal=%{y}<extra></extra>",
         "legendgroup": "ZAZ",
         "marker": {
          "color": "#EF553B",
          "symbol": "circle"
         },
         "mode": "markers",
         "name": "ZAZ",
         "showlegend": true,
         "type": "scattergl",
         "x": [
          3.49,
          3.49,
          3.49,
          3.49,
          3.49,
          3.49
         ],
         "xaxis": "x",
         "y": [
          513,
          513,
          513,
          513,
          513,
          513
         ],
         "yaxis": "y"
        },
        {
         "hovertemplate": "brand=Zweifel<br>price=%{x}<br>kcal=%{y}<extra></extra>",
         "legendgroup": "Zweifel",
         "marker": {
          "color": "#00cc96",
          "symbol": "circle"
         },
         "mode": "markers",
         "name": "Zweifel",
         "showlegend": true,
         "type": "scattergl",
         "x": [
          2.59,
          2.59,
          2.59,
          2.59,
          2.59,
          2.59
         ],
         "xaxis": "x",
         "y": [
          542,
          542,
          542,
          542,
          542,
          542
         ],
         "yaxis": "y"
        },
        {
         "hovertemplate": "brand=Superballs<br>price=%{x}<br>kcal=%{y}<extra></extra>",
         "legendgroup": "Superballs",
         "marker": {
          "color": "#ab63fa",
          "symbol": "circle"
         },
         "mode": "markers",
         "name": "Superballs",
         "showlegend": true,
         "type": "scattergl",
         "x": [
          2.49,
          2.49,
          2.49,
          2.49,
          2.49,
          2.49
         ],
         "xaxis": "x",
         "y": [
          384,
          384,
          384,
          384,
          384,
          384
         ],
         "yaxis": "y"
        },
        {
         "hovertemplate": "brand=Delica<br>price=%{x}<br>kcal=%{y}<extra></extra>",
         "legendgroup": "Delica",
         "marker": {
          "color": "#FFA15A",
          "symbol": "circle"
         },
         "mode": "markers",
         "name": "Delica",
         "showlegend": true,
         "type": "scattergl",
         "x": [
          4.99,
          4.99,
          4.99,
          4.99,
          4.99,
          4.99
         ],
         "xaxis": "x",
         "y": [
          393,
          393,
          393,
          393,
          393,
          393
         ],
         "yaxis": "y"
        },
        {
         "hovertemplate": "brand=Pumpkin Organics<br>price=%{x}<br>kcal=%{y}<extra></extra>",
         "legendgroup": "Pumpkin Organics",
         "marker": {
          "color": "#19d3f3",
          "symbol": "circle"
         },
         "mode": "markers",
         "name": "Pumpkin Organics",
         "showlegend": true,
         "type": "scattergl",
         "x": [
          0.99,
          0.99,
          0.99,
          0.99,
          0.99,
          0.99
         ],
         "xaxis": "x",
         "y": [
          406,
          406,
          406,
          406,
          406,
          406
         ],
         "yaxis": "y"
        },
        {
         "hovertemplate": "brand=Chokay<br>price=%{x}<br>kcal=%{y}<extra></extra>",
         "legendgroup": "Chokay",
         "marker": {
          "color": "#FF6692",
          "symbol": "circle"
         },
         "mode": "markers",
         "name": "Chokay",
         "showlegend": true,
         "type": "scattergl",
         "x": [
          3.99,
          3.99,
          3.99,
          3.99,
          3.99,
          3.99
         ],
         "xaxis": "x",
         "y": [
          513,
          513,
          513,
          513,
          513,
          513
         ],
         "yaxis": "y"
        },
        {
         "hovertemplate": "brand=MYLKCHOCY<br>price=%{x}<br>kcal=%{y}<extra></extra>",
         "legendgroup": "MYLKCHOCY",
         "marker": {
          "color": "#B6E880",
          "symbol": "circle"
         },
         "mode": "markers",
         "name": "MYLKCHOCY",
         "showlegend": true,
         "type": "scattergl",
         "x": [
          3.5,
          3.5,
          1.5,
          3.5,
          3.5,
          1.5,
          3.5,
          3.5,
          1.5,
          3.5,
          3.5,
          1.5,
          3.5,
          3.5,
          1.5,
          3.5,
          3.5,
          1.5
         ],
         "xaxis": "x",
         "y": [
          667,
          661,
          656,
          667,
          661,
          656,
          667,
          661,
          656,
          667,
          661,
          656,
          667,
          661,
          656,
          667,
          661,
          656
         ],
         "yaxis": "y"
        },
        {
         "hovertemplate": "brand=bett'r<br>price=%{x}<br>kcal=%{y}<extra></extra>",
         "legendgroup": "bett'r",
         "marker": {
          "color": "#FF97FF",
          "symbol": "circle"
         },
         "mode": "markers",
         "name": "bett'r",
         "showlegend": true,
         "type": "scattergl",
         "x": [
          2.9,
          2.9,
          2.9,
          2.9,
          2.9,
          2.9
         ],
         "xaxis": "x",
         "y": [
          548,
          548,
          548,
          548,
          548,
          548
         ],
         "yaxis": "y"
        },
        {
         "hovertemplate": "brand=Vaya<br>price=%{x}<br>kcal=%{y}<extra></extra>",
         "legendgroup": "Vaya",
         "marker": {
          "color": "#FECB52",
          "symbol": "circle"
         },
         "mode": "markers",
         "name": "Vaya",
         "showlegend": true,
         "type": "scattergl",
         "x": [
          2.95,
          2.95,
          2.95,
          2.95,
          2.95,
          2.95
         ],
         "xaxis": "x",
         "y": [
          401,
          401,
          401,
          401,
          401,
          401
         ],
         "yaxis": "y"
        },
        {
         "hovertemplate": "brand=Sawade<br>price=%{x}<br>kcal=%{y}<extra></extra>",
         "legendgroup": "Sawade",
         "marker": {
          "color": "#636efa",
          "symbol": "circle"
         },
         "mode": "markers",
         "name": "Sawade",
         "showlegend": true,
         "type": "scattergl",
         "x": [
          5.99,
          5.99,
          5.99,
          5.99,
          5.99,
          5.99
         ],
         "xaxis": "x",
         "y": [
          493,
          493,
          493,
          493,
          493,
          493
         ],
         "yaxis": "y"
        },
        {
         "hovertemplate": "brand=Wally & Whiz<br>price=%{x}<br>kcal=%{y}<extra></extra>",
         "legendgroup": "Wally & Whiz",
         "marker": {
          "color": "#EF553B",
          "symbol": "circle"
         },
         "mode": "markers",
         "name": "Wally & Whiz",
         "showlegend": true,
         "type": "scattergl",
         "x": [
          8.5,
          7.9,
          8.5,
          7.9,
          8.5,
          7.9,
          8.5,
          7.9,
          8.5,
          7.9,
          8.5,
          7.9
         ],
         "xaxis": "x",
         "y": [
          342,
          342,
          342,
          342,
          342,
          342,
          342,
          342,
          342,
          342,
          342,
          342
         ],
         "yaxis": "y"
        },
        {
         "hovertemplate": "brand=Roo'bar Riegel<br>price=%{x}<br>kcal=%{y}<extra></extra>",
         "legendgroup": "Roo'bar Riegel",
         "marker": {
          "color": "#00cc96",
          "symbol": "circle"
         },
         "mode": "markers",
         "name": "Roo'bar Riegel",
         "showlegend": true,
         "type": "scattergl",
         "x": [
          1.95,
          1.1,
          1.95,
          1.1,
          1.95,
          1.1,
          1.95,
          1.1,
          1.95,
          1.1,
          1.95,
          1.1
         ],
         "xaxis": "x",
         "y": [
          359,
          436,
          359,
          436,
          359,
          436,
          359,
          436,
          359,
          436,
          359,
          436
         ],
         "yaxis": "y"
        },
        {
         "hovertemplate": "brand=KOUKÈE<br>price=%{x}<br>kcal=%{y}<extra></extra>",
         "legendgroup": "KOUKÈE",
         "marker": {
          "color": "#ab63fa",
          "symbol": "circle"
         },
         "mode": "markers",
         "name": "KOUKÈE",
         "showlegend": true,
         "type": "scattergl",
         "x": [
          2.9,
          2.9,
          2.9,
          2.9,
          2.9,
          2.9
         ],
         "xaxis": "x",
         "y": [
          187,
          187,
          187,
          187,
          187,
          187
         ],
         "yaxis": "y"
        },
        {
         "hovertemplate": "brand=coconilla<br>price=%{x}<br>kcal=%{y}<extra></extra>",
         "legendgroup": "coconilla",
         "marker": {
          "color": "#FFA15A",
          "symbol": "circle"
         },
         "mode": "markers",
         "name": "coconilla",
         "showlegend": true,
         "type": "scattergl",
         "x": [
          2.99,
          2.99,
          2.99,
          2.99,
          2.99,
          2.99
         ],
         "xaxis": "x",
         "y": [
          429,
          429,
          429,
          429,
          429,
          429
         ],
         "yaxis": "y"
        },
        {
         "hovertemplate": "brand=Taste of Nature<br>price=%{x}<br>kcal=%{y}<extra></extra>",
         "legendgroup": "Taste of Nature",
         "marker": {
          "color": "#19d3f3",
          "symbol": "circle"
         },
         "mode": "markers",
         "name": "Taste of Nature",
         "showlegend": true,
         "type": "scattergl",
         "x": [
          2.49,
          2.49,
          2.49,
          2.49,
          2.49,
          2.49,
          2.49,
          2.49,
          2.49,
          2.49,
          2.49,
          2.49,
          2.49,
          2.49,
          2.49,
          2.49,
          2.49,
          2.49
         ],
         "xaxis": "x",
         "y": [
          482,
          519,
          585,
          482,
          519,
          585,
          482,
          519,
          585,
          482,
          519,
          585,
          482,
          519,
          585,
          482,
          519,
          585
         ],
         "yaxis": "y"
        },
        {
         "hovertemplate": "brand=Vitaina Italia<br>price=%{x}<br>kcal=%{y}<extra></extra>",
         "legendgroup": "Vitaina Italia",
         "marker": {
          "color": "#FF6692",
          "symbol": "circle"
         },
         "mode": "markers",
         "name": "Vitaina Italia",
         "showlegend": true,
         "type": "scattergl",
         "x": [
          2.79,
          2.79,
          2.79,
          2.79,
          2.79,
          2.79,
          2.79,
          2.79,
          2.79,
          2.79,
          2.79,
          2.79
         ],
         "xaxis": "x",
         "y": [
          364,
          308,
          364,
          308,
          364,
          308,
          364,
          308,
          364,
          308,
          364,
          308
         ],
         "yaxis": "y"
        },
        {
         "hovertemplate": "brand=Candy Kittens<br>price=%{x}<br>kcal=%{y}<extra></extra>",
         "legendgroup": "Candy Kittens",
         "marker": {
          "color": "#B6E880",
          "symbol": "circle"
         },
         "mode": "markers",
         "name": "Candy Kittens",
         "showlegend": true,
         "type": "scattergl",
         "x": [
          3.4,
          3.4,
          3.4,
          3.4,
          3.4,
          3.4
         ],
         "xaxis": "x",
         "y": [
          338,
          338,
          338,
          338,
          338,
          338
         ],
         "yaxis": "y"
        },
        {
         "hovertemplate": "brand=D'es Trenc <br>price=%{x}<br>kcal=%{y}<extra></extra>",
         "legendgroup": "D'es Trenc ",
         "marker": {
          "color": "#FF97FF",
          "symbol": "circle"
         },
         "mode": "markers",
         "name": "D'es Trenc ",
         "showlegend": true,
         "type": "scattergl",
         "x": [
          1.99,
          1.99,
          1.99,
          1.99,
          1.99,
          1.99
         ],
         "xaxis": "x",
         "y": [
          438,
          438,
          438,
          438,
          438,
          438
         ],
         "yaxis": "y"
        },
        {
         "hovertemplate": "brand=N.A! Nature Addicts<br>price=%{x}<br>kcal=%{y}<extra></extra>",
         "legendgroup": "N.A! Nature Addicts",
         "marker": {
          "color": "#FECB52",
          "symbol": "circle"
         },
         "mode": "markers",
         "name": "N.A! Nature Addicts",
         "showlegend": true,
         "type": "scattergl",
         "x": [
          1.9,
          1.9,
          1.9,
          1.9,
          1.9,
          1.9,
          1.9,
          1.9,
          1.9,
          1.9,
          1.9,
          1.9
         ],
         "xaxis": "x",
         "y": [
          405,
          406,
          405,
          406,
          405,
          406,
          405,
          406,
          405,
          406,
          405,
          406
         ],
         "yaxis": "y"
        },
        {
         "hovertemplate": "brand=Terre Dei Trulli<br>price=%{x}<br>kcal=%{y}<extra></extra>",
         "legendgroup": "Terre Dei Trulli",
         "marker": {
          "color": "#636efa",
          "symbol": "circle"
         },
         "mode": "markers",
         "name": "Terre Dei Trulli",
         "showlegend": true,
         "type": "scattergl",
         "x": [
          3.9,
          3.9,
          3.9,
          3.9,
          3.9,
          3.9
         ],
         "xaxis": "x",
         "y": [
          340,
          340,
          340,
          340,
          340,
          340
         ],
         "yaxis": "y"
        },
        {
         "hovertemplate": "brand=Zebra<br>price=%{x}<br>kcal=%{y}<extra></extra>",
         "legendgroup": "Zebra",
         "marker": {
          "color": "#EF553B",
          "symbol": "circle"
         },
         "mode": "markers",
         "name": "Zebra",
         "showlegend": true,
         "type": "scattergl",
         "x": [
          1.9,
          1.9,
          1.9,
          1.9,
          1.9,
          1.9,
          1.9,
          1.9,
          1.9,
          1.9,
          1.9,
          1.9,
          1.9,
          1.9,
          1.9,
          1.9,
          1.9,
          1.9
         ],
         "xaxis": "x",
         "y": [
          392,
          352,
          386,
          392,
          352,
          386,
          392,
          352,
          386,
          392,
          352,
          386,
          392,
          352,
          386,
          392,
          352,
          386
         ],
         "yaxis": "y"
        },
        {
         "hovertemplate": "brand=Green & More<br>price=%{x}<br>kcal=%{y}<extra></extra>",
         "legendgroup": "Green & More",
         "marker": {
          "color": "#00cc96",
          "symbol": "circle"
         },
         "mode": "markers",
         "name": "Green & More",
         "showlegend": true,
         "type": "scattergl",
         "x": [
          2.2,
          2.5,
          2.2,
          2.2,
          2.5,
          2.2,
          2.2,
          2.5,
          2.2,
          2.2,
          2.5,
          2.2,
          2.2,
          2.5,
          2.2,
          2.2,
          2.5,
          2.2
         ],
         "xaxis": "x",
         "y": [
          465,
          519,
          491,
          465,
          519,
          491,
          465,
          519,
          491,
          465,
          519,
          491,
          465,
          519,
          491,
          465,
          519,
          491
         ],
         "yaxis": "y"
        },
        {
         "hovertemplate": "brand=Banabar<br>price=%{x}<br>kcal=%{y}<extra></extra>",
         "legendgroup": "Banabar",
         "marker": {
          "color": "#ab63fa",
          "symbol": "circle"
         },
         "mode": "markers",
         "name": "Banabar",
         "showlegend": true,
         "type": "scattergl",
         "x": [
          2,
          2,
          2,
          2,
          2,
          2,
          2,
          2,
          2,
          2,
          2,
          2
         ],
         "xaxis": "x",
         "y": [
          404,
          410,
          404,
          410,
          404,
          410,
          404,
          410,
          404,
          410,
          404,
          410
         ],
         "yaxis": "y"
        }
       ],
       "layout": {
        "legend": {
         "title": {
          "text": "brand"
         },
         "tracegroupgap": 0
        },
        "margin": {
         "t": 60
        },
        "template": {
         "data": {
          "bar": [
           {
            "error_x": {
             "color": "#2a3f5f"
            },
            "error_y": {
             "color": "#2a3f5f"
            },
            "marker": {
             "line": {
              "color": "#E5ECF6",
              "width": 0.5
             },
             "pattern": {
              "fillmode": "overlay",
              "size": 10,
              "solidity": 0.2
             }
            },
            "type": "bar"
           }
          ],
          "barpolar": [
           {
            "marker": {
             "line": {
              "color": "#E5ECF6",
              "width": 0.5
             },
             "pattern": {
              "fillmode": "overlay",
              "size": 10,
              "solidity": 0.2
             }
            },
            "type": "barpolar"
           }
          ],
          "carpet": [
           {
            "aaxis": {
             "endlinecolor": "#2a3f5f",
             "gridcolor": "white",
             "linecolor": "white",
             "minorgridcolor": "white",
             "startlinecolor": "#2a3f5f"
            },
            "baxis": {
             "endlinecolor": "#2a3f5f",
             "gridcolor": "white",
             "linecolor": "white",
             "minorgridcolor": "white",
             "startlinecolor": "#2a3f5f"
            },
            "type": "carpet"
           }
          ],
          "choropleth": [
           {
            "colorbar": {
             "outlinewidth": 0,
             "ticks": ""
            },
            "type": "choropleth"
           }
          ],
          "contour": [
           {
            "colorbar": {
             "outlinewidth": 0,
             "ticks": ""
            },
            "colorscale": [
             [
              0,
              "#0d0887"
             ],
             [
              0.1111111111111111,
              "#46039f"
             ],
             [
              0.2222222222222222,
              "#7201a8"
             ],
             [
              0.3333333333333333,
              "#9c179e"
             ],
             [
              0.4444444444444444,
              "#bd3786"
             ],
             [
              0.5555555555555556,
              "#d8576b"
             ],
             [
              0.6666666666666666,
              "#ed7953"
             ],
             [
              0.7777777777777778,
              "#fb9f3a"
             ],
             [
              0.8888888888888888,
              "#fdca26"
             ],
             [
              1,
              "#f0f921"
             ]
            ],
            "type": "contour"
           }
          ],
          "contourcarpet": [
           {
            "colorbar": {
             "outlinewidth": 0,
             "ticks": ""
            },
            "type": "contourcarpet"
           }
          ],
          "heatmap": [
           {
            "colorbar": {
             "outlinewidth": 0,
             "ticks": ""
            },
            "colorscale": [
             [
              0,
              "#0d0887"
             ],
             [
              0.1111111111111111,
              "#46039f"
             ],
             [
              0.2222222222222222,
              "#7201a8"
             ],
             [
              0.3333333333333333,
              "#9c179e"
             ],
             [
              0.4444444444444444,
              "#bd3786"
             ],
             [
              0.5555555555555556,
              "#d8576b"
             ],
             [
              0.6666666666666666,
              "#ed7953"
             ],
             [
              0.7777777777777778,
              "#fb9f3a"
             ],
             [
              0.8888888888888888,
              "#fdca26"
             ],
             [
              1,
              "#f0f921"
             ]
            ],
            "type": "heatmap"
           }
          ],
          "heatmapgl": [
           {
            "colorbar": {
             "outlinewidth": 0,
             "ticks": ""
            },
            "colorscale": [
             [
              0,
              "#0d0887"
             ],
             [
              0.1111111111111111,
              "#46039f"
             ],
             [
              0.2222222222222222,
              "#7201a8"
             ],
             [
              0.3333333333333333,
              "#9c179e"
             ],
             [
              0.4444444444444444,
              "#bd3786"
             ],
             [
              0.5555555555555556,
              "#d8576b"
             ],
             [
              0.6666666666666666,
              "#ed7953"
             ],
             [
              0.7777777777777778,
              "#fb9f3a"
             ],
             [
              0.8888888888888888,
              "#fdca26"
             ],
             [
              1,
              "#f0f921"
             ]
            ],
            "type": "heatmapgl"
           }
          ],
          "histogram": [
           {
            "marker": {
             "pattern": {
              "fillmode": "overlay",
              "size": 10,
              "solidity": 0.2
             }
            },
            "type": "histogram"
           }
          ],
          "histogram2d": [
           {
            "colorbar": {
             "outlinewidth": 0,
             "ticks": ""
            },
            "colorscale": [
             [
              0,
              "#0d0887"
             ],
             [
              0.1111111111111111,
              "#46039f"
             ],
             [
              0.2222222222222222,
              "#7201a8"
             ],
             [
              0.3333333333333333,
              "#9c179e"
             ],
             [
              0.4444444444444444,
              "#bd3786"
             ],
             [
              0.5555555555555556,
              "#d8576b"
             ],
             [
              0.6666666666666666,
              "#ed7953"
             ],
             [
              0.7777777777777778,
              "#fb9f3a"
             ],
             [
              0.8888888888888888,
              "#fdca26"
             ],
             [
              1,
              "#f0f921"
             ]
            ],
            "type": "histogram2d"
           }
          ],
          "histogram2dcontour": [
           {
            "colorbar": {
             "outlinewidth": 0,
             "ticks": ""
            },
            "colorscale": [
             [
              0,
              "#0d0887"
             ],
             [
              0.1111111111111111,
              "#46039f"
             ],
             [
              0.2222222222222222,
              "#7201a8"
             ],
             [
              0.3333333333333333,
              "#9c179e"
             ],
             [
              0.4444444444444444,
              "#bd3786"
             ],
             [
              0.5555555555555556,
              "#d8576b"
             ],
             [
              0.6666666666666666,
              "#ed7953"
             ],
             [
              0.7777777777777778,
              "#fb9f3a"
             ],
             [
              0.8888888888888888,
              "#fdca26"
             ],
             [
              1,
              "#f0f921"
             ]
            ],
            "type": "histogram2dcontour"
           }
          ],
          "mesh3d": [
           {
            "colorbar": {
             "outlinewidth": 0,
             "ticks": ""
            },
            "type": "mesh3d"
           }
          ],
          "parcoords": [
           {
            "line": {
             "colorbar": {
              "outlinewidth": 0,
              "ticks": ""
             }
            },
            "type": "parcoords"
           }
          ],
          "pie": [
           {
            "automargin": true,
            "type": "pie"
           }
          ],
          "scatter": [
           {
            "marker": {
             "colorbar": {
              "outlinewidth": 0,
              "ticks": ""
             }
            },
            "type": "scatter"
           }
          ],
          "scatter3d": [
           {
            "line": {
             "colorbar": {
              "outlinewidth": 0,
              "ticks": ""
             }
            },
            "marker": {
             "colorbar": {
              "outlinewidth": 0,
              "ticks": ""
             }
            },
            "type": "scatter3d"
           }
          ],
          "scattercarpet": [
           {
            "marker": {
             "colorbar": {
              "outlinewidth": 0,
              "ticks": ""
             }
            },
            "type": "scattercarpet"
           }
          ],
          "scattergeo": [
           {
            "marker": {
             "colorbar": {
              "outlinewidth": 0,
              "ticks": ""
             }
            },
            "type": "scattergeo"
           }
          ],
          "scattergl": [
           {
            "marker": {
             "colorbar": {
              "outlinewidth": 0,
              "ticks": ""
             }
            },
            "type": "scattergl"
           }
          ],
          "scattermapbox": [
           {
            "marker": {
             "colorbar": {
              "outlinewidth": 0,
              "ticks": ""
             }
            },
            "type": "scattermapbox"
           }
          ],
          "scatterpolar": [
           {
            "marker": {
             "colorbar": {
              "outlinewidth": 0,
              "ticks": ""
             }
            },
            "type": "scatterpolar"
           }
          ],
          "scatterpolargl": [
           {
            "marker": {
             "colorbar": {
              "outlinewidth": 0,
              "ticks": ""
             }
            },
            "type": "scatterpolargl"
           }
          ],
          "scatterternary": [
           {
            "marker": {
             "colorbar": {
              "outlinewidth": 0,
              "ticks": ""
             }
            },
            "type": "scatterternary"
           }
          ],
          "surface": [
           {
            "colorbar": {
             "outlinewidth": 0,
             "ticks": ""
            },
            "colorscale": [
             [
              0,
              "#0d0887"
             ],
             [
              0.1111111111111111,
              "#46039f"
             ],
             [
              0.2222222222222222,
              "#7201a8"
             ],
             [
              0.3333333333333333,
              "#9c179e"
             ],
             [
              0.4444444444444444,
              "#bd3786"
             ],
             [
              0.5555555555555556,
              "#d8576b"
             ],
             [
              0.6666666666666666,
              "#ed7953"
             ],
             [
              0.7777777777777778,
              "#fb9f3a"
             ],
             [
              0.8888888888888888,
              "#fdca26"
             ],
             [
              1,
              "#f0f921"
             ]
            ],
            "type": "surface"
           }
          ],
          "table": [
           {
            "cells": {
             "fill": {
              "color": "#EBF0F8"
             },
             "line": {
              "color": "white"
             }
            },
            "header": {
             "fill": {
              "color": "#C8D4E3"
             },
             "line": {
              "color": "white"
             }
            },
            "type": "table"
           }
          ]
         },
         "layout": {
          "annotationdefaults": {
           "arrowcolor": "#2a3f5f",
           "arrowhead": 0,
           "arrowwidth": 1
          },
          "autotypenumbers": "strict",
          "coloraxis": {
           "colorbar": {
            "outlinewidth": 0,
            "ticks": ""
           }
          },
          "colorscale": {
           "diverging": [
            [
             0,
             "#8e0152"
            ],
            [
             0.1,
             "#c51b7d"
            ],
            [
             0.2,
             "#de77ae"
            ],
            [
             0.3,
             "#f1b6da"
            ],
            [
             0.4,
             "#fde0ef"
            ],
            [
             0.5,
             "#f7f7f7"
            ],
            [
             0.6,
             "#e6f5d0"
            ],
            [
             0.7,
             "#b8e186"
            ],
            [
             0.8,
             "#7fbc41"
            ],
            [
             0.9,
             "#4d9221"
            ],
            [
             1,
             "#276419"
            ]
           ],
           "sequential": [
            [
             0,
             "#0d0887"
            ],
            [
             0.1111111111111111,
             "#46039f"
            ],
            [
             0.2222222222222222,
             "#7201a8"
            ],
            [
             0.3333333333333333,
             "#9c179e"
            ],
            [
             0.4444444444444444,
             "#bd3786"
            ],
            [
             0.5555555555555556,
             "#d8576b"
            ],
            [
             0.6666666666666666,
             "#ed7953"
            ],
            [
             0.7777777777777778,
             "#fb9f3a"
            ],
            [
             0.8888888888888888,
             "#fdca26"
            ],
            [
             1,
             "#f0f921"
            ]
           ],
           "sequentialminus": [
            [
             0,
             "#0d0887"
            ],
            [
             0.1111111111111111,
             "#46039f"
            ],
            [
             0.2222222222222222,
             "#7201a8"
            ],
            [
             0.3333333333333333,
             "#9c179e"
            ],
            [
             0.4444444444444444,
             "#bd3786"
            ],
            [
             0.5555555555555556,
             "#d8576b"
            ],
            [
             0.6666666666666666,
             "#ed7953"
            ],
            [
             0.7777777777777778,
             "#fb9f3a"
            ],
            [
             0.8888888888888888,
             "#fdca26"
            ],
            [
             1,
             "#f0f921"
            ]
           ]
          },
          "colorway": [
           "#636efa",
           "#EF553B",
           "#00cc96",
           "#ab63fa",
           "#FFA15A",
           "#19d3f3",
           "#FF6692",
           "#B6E880",
           "#FF97FF",
           "#FECB52"
          ],
          "font": {
           "color": "#2a3f5f"
          },
          "geo": {
           "bgcolor": "white",
           "lakecolor": "white",
           "landcolor": "#E5ECF6",
           "showlakes": true,
           "showland": true,
           "subunitcolor": "white"
          },
          "hoverlabel": {
           "align": "left"
          },
          "hovermode": "closest",
          "mapbox": {
           "style": "light"
          },
          "paper_bgcolor": "white",
          "plot_bgcolor": "#E5ECF6",
          "polar": {
           "angularaxis": {
            "gridcolor": "white",
            "linecolor": "white",
            "ticks": ""
           },
           "bgcolor": "#E5ECF6",
           "radialaxis": {
            "gridcolor": "white",
            "linecolor": "white",
            "ticks": ""
           }
          },
          "scene": {
           "xaxis": {
            "backgroundcolor": "#E5ECF6",
            "gridcolor": "white",
            "gridwidth": 2,
            "linecolor": "white",
            "showbackground": true,
            "ticks": "",
            "zerolinecolor": "white"
           },
           "yaxis": {
            "backgroundcolor": "#E5ECF6",
            "gridcolor": "white",
            "gridwidth": 2,
            "linecolor": "white",
            "showbackground": true,
            "ticks": "",
            "zerolinecolor": "white"
           },
           "zaxis": {
            "backgroundcolor": "#E5ECF6",
            "gridcolor": "white",
            "gridwidth": 2,
            "linecolor": "white",
            "showbackground": true,
            "ticks": "",
            "zerolinecolor": "white"
           }
          },
          "shapedefaults": {
           "line": {
            "color": "#2a3f5f"
           }
          },
          "ternary": {
           "aaxis": {
            "gridcolor": "white",
            "linecolor": "white",
            "ticks": ""
           },
           "baxis": {
            "gridcolor": "white",
            "linecolor": "white",
            "ticks": ""
           },
           "bgcolor": "#E5ECF6",
           "caxis": {
            "gridcolor": "white",
            "linecolor": "white",
            "ticks": ""
           }
          },
          "title": {
           "x": 0.05
          },
          "xaxis": {
           "automargin": true,
           "gridcolor": "white",
           "linecolor": "white",
           "ticks": "",
           "title": {
            "standoff": 15
           },
           "zerolinecolor": "white",
           "zerolinewidth": 2
          },
          "yaxis": {
           "automargin": true,
           "gridcolor": "white",
           "linecolor": "white",
           "ticks": "",
           "title": {
            "standoff": 15
           },
           "zerolinecolor": "white",
           "zerolinewidth": 2
          }
         }
        },
        "xaxis": {
         "anchor": "y",
         "domain": [
          0,
          1
         ],
         "title": {
          "text": "price"
         }
        },
        "yaxis": {
         "anchor": "x",
         "domain": [
          0,
          1
         ],
         "title": {
          "text": "kcal"
         }
        }
       }
      },
      "text/html": [
       "<div>                            <div id=\"688c6cc6-bfa6-43bf-9bbe-1e8fb30db116\" class=\"plotly-graph-div\" style=\"height:525px; width:100%;\"></div>            <script type=\"text/javascript\">                require([\"plotly\"], function(Plotly) {                    window.PLOTLYENV=window.PLOTLYENV || {};                                    if (document.getElementById(\"688c6cc6-bfa6-43bf-9bbe-1e8fb30db116\")) {                    Plotly.newPlot(                        \"688c6cc6-bfa6-43bf-9bbe-1e8fb30db116\",                        [{\"hovertemplate\":\"brand=Koro<br>price=%{x}<br>kcal=%{y}<extra></extra>\",\"legendgroup\":\"Koro\",\"marker\":{\"color\":\"#636efa\",\"symbol\":\"circle\"},\"mode\":\"markers\",\"name\":\"Koro\",\"showlegend\":true,\"type\":\"scattergl\",\"x\":[14.0,21.0,20.0,13.0,11.5,11.5,8.5,12.0,7.0,11.0,14.5,12.5,11.5,10.5,8.5,9.5,9.5,14.0,1.5,1.5,2.0,11.5,10.5,8.5,12.5,22.0,24.5,18.0,17.0,1.5,1.5,14.0,1.5,15.0,1.0,1.5,12.0,2.5,1.5,1.0,10.5,12.0,12.0,1.5,1.5,2.0,2.0,13.5,17.0,16.0,200.5,203.5,93.0,117.5,125.5,161.5,111.5,108.0,114.5,3.0,40.0,1.5,11.0,13.0,2.0,12.0,1.5,1.0,5.0,26.0,5.0,26.0,9.0,100.0,1.5,1.0,20.5,17.5,16.0,12.0,14.0,4.0,165.5,19.5,4.5,4.5,25.0,25.0,256.0,216.0,194.0,137.5,16.0,22.0,19.0,14.0,9.0,12.0,10.0,17.5,14.0,18.0,18.5,34.0,15.0,12.0,15.5,3.5,36.5,22.0,56.0,23.0,22.0,19.5,218.0,11.5,126.5,251.0,264.0,247.0,69.0,10.5,99.0,20.0,7.5,12.5,4.0,48.5,37.5,1.5,18.5,18.5,2.0,2.5,24.5,2.5,24.5,20.5,59.5,13.0,117.5,16.0,18.0,16.0,66.5,3.0,28.0,24.5,25.0,24.0,114.5,24.5,117.0,155.0,25.0,2.0,190.5,67.5,8.0,33.5,54.5,61.5,9.5,44.5,115.5,330.5,21.0,1.5,11.5,3.0,32.0,12.0,135.5,1.5,11.0,9.5,11.0,2.0,17.0,2.0,17.0,19.0,11.5,64.0,11.5,64.0,2.0,17.5,35.0,2.0,21.0,2.0,30.0,2.0,20.5,29.0,2.0,15.0,2.0,23.5,2.0,1.5,19.0,1.5,19.5,20.5,115.5,4.0,20.0,7.0,40.5,19.5,9.0,22.0,17.0,81.0,18.5,24.0,20.0,5.0,27.5],\"xaxis\":\"x\",\"y\":[362.0,555.0,448.0,363.0,421.0,405.0,409.0,258.0,356.0,335.0,360.0,469.0,412.0,459.0,430.0,393.0,375.0,473.0,393.0,375.0,473.0,347.0,558.0,433.0,338.0,390.0,343.0,323.0,428.0,354.0,378.0,570.0,401.0,500.0,399.0,360.0,435.0,474.0,518.0,484.0,428.0,422.0,421.0,388.0,399.0,500.0,487.0,487.0,297.0,297.0,335.0,370.0,430.0,459.0,421.0,409.0,258.0,360.0,338.0,492.0,488.0,529.0,529.0,492.0,595.0,595.0,423.0,356.0,149.0,149.0,240.0,240.0,338.0,338.0,405.0,469.0,338.0,388.0,362.0,350.0,319.0,399.0,319.0,551.0,400.0,386.0,400.0,386.0,338.0,388.0,362.0,350.0,423.0,423.0,474.0,356.0,518.0,405.0,469.0,378.0,484.0,354.0,401.0,399.0,399.0,399.0,388.0,492.0,492.0,564.0,551.0,512.0,556.0,448.0,448.0,495.0,495.0,564.0,512.0,556.0,412.0,260.0,260.0,381.0,467.0,462.0,397.0,558.0,467.0,412.0,412.0,390.0,381.0,344.0,344.0,442.0,442.0,406.0,462.0,389.0,389.0,512.0,417.0,380.0,570.0,395.0,395.0,639.0,542.0,639.0,639.0,636.0,636.0,448.0,552.0,374.0,552.0,417.0,580.0,580.0,380.0,512.0,561.0,561.0,639.0,542.0,374.0,441.0,441.0,496.0,496.0,607.0,607.0,404.0,404.0,451.0,447.0,509.0,509.0,526.0,526.0,511.0,405.0,406.0,406.0,405.0,478.0,478.0,298.0,454.0,454.0,474.0,474.0,366.0,397.0,366.0,488.0,488.0,377.0,377.0,367.0,324.0,324.0,344.0,367.0,599.0,599.0,435.0,435.0,435.0,435.0,609.0,740.0,628.0,564.0,564.0,380.0,319.0,348.0,435.0,435.0],\"yaxis\":\"y\"},{\"hovertemplate\":\"brand=Bio4You<br>price=%{x}<br>kcal=%{y}<extra></extra>\",\"legendgroup\":\"Bio4You\",\"marker\":{\"color\":\"#EF553B\",\"symbol\":\"circle\"},\"mode\":\"markers\",\"name\":\"Bio4You\",\"showlegend\":true,\"type\":\"scattergl\",\"x\":[1.49,1.49,1.49,1.49,1.49,1.49,1.49],\"xaxis\":\"x\",\"y\":[384.0,398.0,385.0,383.0,383.0,385.0,382.0],\"yaxis\":\"y\"},{\"hovertemplate\":\"brand=B\\u00e4ckerei Sachse<br>price=%{x}<br>kcal=%{y}<extra></extra>\",\"legendgroup\":\"B\\u00e4ckerei Sachse\",\"marker\":{\"color\":\"#00cc96\",\"symbol\":\"circle\"},\"mode\":\"markers\",\"name\":\"B\\u00e4ckerei Sachse\",\"showlegend\":true,\"type\":\"scattergl\",\"x\":[2.99,19.99,4.99,19.99,4.99,19.99,4.99],\"xaxis\":\"x\",\"y\":[457.0,421.0,421.0,375.0,375.0,425.0,425.0],\"yaxis\":\"y\"},{\"hovertemplate\":\"brand=Bernsteinzimmer<br>price=%{x}<br>kcal=%{y}<extra></extra>\",\"legendgroup\":\"Bernsteinzimmer\",\"marker\":{\"color\":\"#ab63fa\",\"symbol\":\"circle\"},\"mode\":\"markers\",\"name\":\"Bernsteinzimmer\",\"showlegend\":true,\"type\":\"scattergl\",\"x\":[21.99,48.99,21.99,9.99,14.99,19.99,9.99,9.99,9.99,28.99,6.49,6.49],\"xaxis\":\"x\",\"y\":[539.4,556.9,550.0,581.9,579.7,608.4,585.5,585.0,690.9,576.7,616.3,577.4],\"yaxis\":\"y\"},{\"hovertemplate\":\"brand=Rosengarten<br>price=%{x}<br>kcal=%{y}<extra></extra>\",\"legendgroup\":\"Rosengarten\",\"marker\":{\"color\":\"#FFA15A\",\"symbol\":\"circle\"},\"mode\":\"markers\",\"name\":\"Rosengarten\",\"showlegend\":true,\"type\":\"scattergl\",\"x\":[3.49,3.79,3.49,1.89,1.89,0.99,0.99,4.59,3.49],\"xaxis\":\"x\",\"y\":[411.0,379.0,541.0,470.0,400.0,581.0,584.0,456.0,565.0],\"yaxis\":\"y\"},{\"hovertemplate\":\"brand=Moo Free<br>price=%{x}<br>kcal=%{y}<extra></extra>\",\"legendgroup\":\"Moo Free\",\"marker\":{\"color\":\"#19d3f3\",\"symbol\":\"circle\"},\"mode\":\"markers\",\"name\":\"Moo Free\",\"showlegend\":true,\"type\":\"scattergl\",\"x\":[4.99,3.99,4.99,5.99,5.99,2.89,2.89,0.99,1.39,0.99,0.99,0.99,2.59,2.59,2.59,0.69,2.59,2.59,4.99,1.39,0.99,0.99,0.99,0.99,0.99,2.89],\"xaxis\":\"x\",\"y\":[577.0,560.0,541.0,540.0,578.0,527.0,533.0,578.0,578.0,578.0,538.0,539.0,553.0,575.0,576.0,577.0,582.0,577.0,536.0,540.0,540.0,540.0,530.0,539.0,536.0,540.0],\"yaxis\":\"y\"},{\"hovertemplate\":\"brand=Rapunzel<br>price=%{x}<br>kcal=%{y}<extra></extra>\",\"legendgroup\":\"Rapunzel\",\"marker\":{\"color\":\"#FF6692\",\"symbol\":\"circle\"},\"mode\":\"markers\",\"name\":\"Rapunzel\",\"showlegend\":true,\"type\":\"scattergl\",\"x\":[0.89,2.19,2.19,2.29,2.79,2.09,1.19,2.29,4.29,2.29,2.49,1.99,2.99,2.09,0.59,1.99,2.29,2.49,0.59,1.29],\"xaxis\":\"x\",\"y\":[580.0,548.0,589.0,564.0,519.0,568.0,351.0,555.0,169.0,573.0,398.0,100.0,294.0,565.0,470.0,521.0,576.0,398.0,495.0,530.0],\"yaxis\":\"y\"},{\"hovertemplate\":\"brand=Pural<br>price=%{x}<br>kcal=%{y}<extra></extra>\",\"legendgroup\":\"Pural\",\"marker\":{\"color\":\"#B6E880\",\"symbol\":\"circle\"},\"mode\":\"markers\",\"name\":\"Pural\",\"showlegend\":true,\"type\":\"scattergl\",\"x\":[2.69,2.49,2.49,2.29,0.99,1.79,2.09,2.49,0.99],\"xaxis\":\"x\",\"y\":[482.0,500.0,499.0,479.0,479.0,325.0,482.0,489.0,471.0],\"yaxis\":\"y\"},{\"hovertemplate\":\"brand=Vivani<br>price=%{x}<br>kcal=%{y}<extra></extra>\",\"legendgroup\":\"Vivani\",\"marker\":{\"color\":\"#FF97FF\",\"symbol\":\"circle\"},\"mode\":\"markers\",\"name\":\"Vivani\",\"showlegend\":true,\"type\":\"scattergl\",\"x\":[9.99,1.99,2.49,2.49,2.49,2.49,2.49,2.49,3.79,1.99,0.49,2.49,2.49,2.49,2.49,2.49,1.99,2.29,2.29,2.49,2.29,0.99,0.99,0.99,0.99,0.99,0.99],\"xaxis\":\"x\",\"y\":[517.0,561.0,591.0,584.0,605.0,621.0,620.0,668.0,585.0,585.0,585.0,592.0,610.0,637.0,648.0,672.0,585.0,583.0,582.0,570.0,587.0,617.0,598.0,568.0,582.0,573.0,586.0],\"yaxis\":\"y\"},{\"hovertemplate\":\"brand=Le Moulin du Pivert<br>price=%{x}<br>kcal=%{y}<extra></extra>\",\"legendgroup\":\"Le Moulin du Pivert\",\"marker\":{\"color\":\"#FECB52\",\"symbol\":\"circle\"},\"mode\":\"markers\",\"name\":\"Le Moulin du Pivert\",\"showlegend\":true,\"type\":\"scattergl\",\"x\":[3.69,3.69],\"xaxis\":\"x\",\"y\":[497.0,501.0],\"yaxis\":\"y\"},{\"hovertemplate\":\"brand=Heimatgut<br>price=%{x}<br>kcal=%{y}<extra></extra>\",\"legendgroup\":\"Heimatgut\",\"marker\":{\"color\":\"#636efa\",\"symbol\":\"circle\"},\"mode\":\"markers\",\"name\":\"Heimatgut\",\"showlegend\":true,\"type\":\"scattergl\",\"x\":[2.49,2.49,2.49,2.49,2.79,2.09,2.79,2.79,2.79,2.09,2.49,2.49,2.49,2.49,2.49,2.59,2.59,2.59,2.59,3.49,3.49,1.99,1.99,1.99,2.49,2.49,2.49,2.49,2.49],\"xaxis\":\"x\",\"y\":[502.0,502.0,480.0,480.0,454.0,498.0,463.0,519.0,516.0,525.0,388.0,383.0,450.0,442.0,450.0,510.0,504.0,514.0,508.0,534.0,527.0,388.0,452.0,407.0,620.0,446.0,463.0,485.0,450.0],\"yaxis\":\"y\"},{\"hovertemplate\":\"brand=rosmarin BIOBACK<br>price=%{x}<br>kcal=%{y}<extra></extra>\",\"legendgroup\":\"rosmarin BIOBACK\",\"marker\":{\"color\":\"#EF553B\",\"symbol\":\"circle\"},\"mode\":\"markers\",\"name\":\"rosmarin BIOBACK\",\"showlegend\":true,\"type\":\"scattergl\",\"x\":[2.99,2.99,3.79,2.49,1.79,2.39,4.39,2.79,3.89,2.99,4.99],\"xaxis\":\"x\",\"y\":[443.0,413.0,460.0,415.0,413.0,464.0,388.0,489.0,460.0,460.0,345.0],\"yaxis\":\"y\"},{\"hovertemplate\":\"brand=Zotter<br>price=%{x}<br>kcal=%{y}<extra></extra>\",\"legendgroup\":\"Zotter\",\"marker\":{\"color\":\"#00cc96\",\"symbol\":\"circle\"},\"mode\":\"markers\",\"name\":\"Zotter\",\"showlegend\":true,\"type\":\"scattergl\",\"x\":[3.49,7.59,3.59,3.69,3.69,3.69,7.59,23.49,6.29,7.59,7.59,3.99,4.19,3.89,3.99,4.19],\"xaxis\":\"x\",\"y\":[579.0,572.0,609.0,571.0,484.0,588.0,566.0,583.0,577.0,578.0,568.0,617.0,617.0,571.0,617.0,617.0],\"yaxis\":\"y\"},{\"hovertemplate\":\"brand=Linea Natura<br>price=%{x}<br>kcal=%{y}<extra></extra>\",\"legendgroup\":\"Linea Natura\",\"marker\":{\"color\":\"#ab63fa\",\"symbol\":\"circle\"},\"mode\":\"markers\",\"name\":\"Linea Natura\",\"showlegend\":true,\"type\":\"scattergl\",\"x\":[3.69,2.99,2.99,3.49,2.49,4.49,2.99],\"xaxis\":\"x\",\"y\":[358.0,373.0,371.0,435.0,372.0,380.0,389.0],\"yaxis\":\"y\"},{\"hovertemplate\":\"brand=Govinda<br>price=%{x}<br>kcal=%{y}<extra></extra>\",\"legendgroup\":\"Govinda\",\"marker\":{\"color\":\"#FFA15A\",\"symbol\":\"circle\"},\"mode\":\"markers\",\"name\":\"Govinda\",\"showlegend\":true,\"type\":\"scattergl\",\"x\":[2.99,2.99,7.99,2.99,4.49,3.89,7.99,3.89],\"xaxis\":\"x\",\"y\":[319.0,349.0,345.0,527.0,269.0,335.0,312.0,337.0],\"yaxis\":\"y\"},{\"hovertemplate\":\"brand=Lovechock<br>price=%{x}<br>kcal=%{y}<extra></extra>\",\"legendgroup\":\"Lovechock\",\"marker\":{\"color\":\"#19d3f3\",\"symbol\":\"circle\"},\"mode\":\"markers\",\"name\":\"Lovechock\",\"showlegend\":true,\"type\":\"scattergl\",\"x\":[4.19,5.39,4.19,2.49,2.49,3.99,3.99,3.99,3.99,3.99,2.49,3.99,3.99,2.49,3.99,2.49,2.49,2.49,2.49,2.49,2.49,2.49,2.9,2.9,2.9,2.9,2.9,2.9],\"xaxis\":\"x\",\"y\":[650.0,575.0,598.0,599.0,640.0,684.0,631.0,632.0,640.0,642.0,595.0,689.0,684.0,581.0,604.0,580.0,609.0,615.0,646.0,597.0,580.0,551.0,646.0,646.0,646.0,646.0,646.0,646.0],\"yaxis\":\"y\"},{\"hovertemplate\":\"brand=Plamil<br>price=%{x}<br>kcal=%{y}<extra></extra>\",\"legendgroup\":\"Plamil\",\"marker\":{\"color\":\"#FF6692\",\"symbol\":\"circle\"},\"mode\":\"markers\",\"name\":\"Plamil\",\"showlegend\":true,\"type\":\"scattergl\",\"x\":[5.99,5.99,2.69,2.69,2.89,2.89,2.89,2.89,2.89,2.89,1.19,1.19,1.19,17.99,15.49,2.19,5.99,5.99,2.89,2.89,2.89,1.09,4.89,15.49,13.29,4.89,2.79,2.89,2.89,2.89],\"xaxis\":\"x\",\"y\":[591.0,611.0,568.0,591.0,655.0,588.0,562.0,568.0,611.0,655.0,655.0,655.0,655.0,591.0,567.0,591.0,591.0,638.0,638.0,591.0,655.0,591.0,591.0,555.0,513.0,591.0,567.0,562.0,648.0,632.0],\"yaxis\":\"y\"},{\"hovertemplate\":\"brand=Rettergut<br>price=%{x}<br>kcal=%{y}<extra></extra>\",\"legendgroup\":\"Rettergut\",\"marker\":{\"color\":\"#B6E880\",\"symbol\":\"circle\"},\"mode\":\"markers\",\"name\":\"Rettergut\",\"showlegend\":true,\"type\":\"scattergl\",\"x\":[1.99,1.99],\"xaxis\":\"x\",\"y\":[542.0,559.0],\"yaxis\":\"y\"},{\"hovertemplate\":\"brand=Mimi's Garden<br>price=%{x}<br>kcal=%{y}<extra></extra>\",\"legendgroup\":\"Mimi's Garden\",\"marker\":{\"color\":\"#FF97FF\",\"symbol\":\"circle\"},\"mode\":\"markers\",\"name\":\"Mimi's Garden\",\"showlegend\":true,\"type\":\"scattergl\",\"x\":[2.49,2.49,2.49,2.49,2.49],\"xaxis\":\"x\",\"y\":[366.0,363.0,366.0,384.0,376.0],\"yaxis\":\"y\"},{\"hovertemplate\":\"brand=D\\u00d6RRWERK<br>price=%{x}<br>kcal=%{y}<extra></extra>\",\"legendgroup\":\"D\\u00d6RRWERK\",\"marker\":{\"color\":\"#FECB52\",\"symbol\":\"circle\"},\"mode\":\"markers\",\"name\":\"D\\u00d6RRWERK\",\"showlegend\":true,\"type\":\"scattergl\",\"x\":[2.49,2.49,2.99,2.99,2.99,1.49,1.49,2.99],\"xaxis\":\"x\",\"y\":[342.0,341.0,326.0,319.0,387.0,394.0,319.0,394.0],\"yaxis\":\"y\"},{\"hovertemplate\":\"brand=Hammerm\\u00fchle<br>price=%{x}<br>kcal=%{y}<extra></extra>\",\"legendgroup\":\"Hammerm\\u00fchle\",\"marker\":{\"color\":\"#636efa\",\"symbol\":\"circle\"},\"mode\":\"markers\",\"name\":\"Hammerm\\u00fchle\",\"showlegend\":true,\"type\":\"scattergl\",\"x\":[2.79,2.79,3.29,2.79,4.39,4.29],\"xaxis\":\"x\",\"y\":[452.0,466.0,477.0,244.0,350.0,386.0],\"yaxis\":\"y\"},{\"hovertemplate\":\"brand=veggyness<br>price=%{x}<br>kcal=%{y}<extra></extra>\",\"legendgroup\":\"veggyness\",\"marker\":{\"color\":\"#EF553B\",\"symbol\":\"circle\"},\"mode\":\"markers\",\"name\":\"veggyness\",\"showlegend\":true,\"type\":\"scattergl\",\"x\":[1.19],\"xaxis\":\"x\",\"y\":[269.0],\"yaxis\":\"y\"},{\"hovertemplate\":\"brand=Pri's Puddings<br>price=%{x}<br>kcal=%{y}<extra></extra>\",\"legendgroup\":\"Pri's Puddings\",\"marker\":{\"color\":\"#00cc96\",\"symbol\":\"circle\"},\"mode\":\"markers\",\"name\":\"Pri's Puddings\",\"showlegend\":true,\"type\":\"scattergl\",\"x\":[2.29,2.49,2.49,2.49,2.29,2.29],\"xaxis\":\"x\",\"y\":[400.0,415.0,450.0,463.0,446.0,400.0],\"yaxis\":\"y\"},{\"hovertemplate\":\"brand=Lini's Bites<br>price=%{x}<br>kcal=%{y}<extra></extra>\",\"legendgroup\":\"Lini's Bites\",\"marker\":{\"color\":\"#ab63fa\",\"symbol\":\"circle\"},\"mode\":\"markers\",\"name\":\"Lini's Bites\",\"showlegend\":true,\"type\":\"scattergl\",\"x\":[2.69,2.69,2.69,2.69,2.29,2.49,2.49,2.49,2.49,2.8,2.8,2.8,2.8,2.8,2.8,2.8,2.8,2.8,2.8,2.8,2.8,2.8,2.8,2.8,2.8,2.8,2.8],\"xaxis\":\"x\",\"y\":[469.0,449.0,436.0,462.0,496.0,445.0,432.0,431.0,482.0,449.0,462.0,469.0,449.0,462.0,469.0,449.0,462.0,469.0,449.0,462.0,469.0,449.0,462.0,469.0,449.0,462.0,469.0],\"yaxis\":\"y\"},{\"hovertemplate\":\"brand=Lord of Tofu<br>price=%{x}<br>kcal=%{y}<extra></extra>\",\"legendgroup\":\"Lord of Tofu\",\"marker\":{\"color\":\"#FFA15A\",\"symbol\":\"circle\"},\"mode\":\"markers\",\"name\":\"Lord of Tofu\",\"showlegend\":true,\"type\":\"scattergl\",\"x\":[2.69],\"xaxis\":\"x\",\"y\":[197.0],\"yaxis\":\"y\"},{\"hovertemplate\":\"brand=Fredo's<br>price=%{x}<br>kcal=%{y}<extra></extra>\",\"legendgroup\":\"Fredo's\",\"marker\":{\"color\":\"#19d3f3\",\"symbol\":\"circle\"},\"mode\":\"markers\",\"name\":\"Fredo's\",\"showlegend\":true,\"type\":\"scattergl\",\"x\":[2.59,1.69,2.59,1.69,1.69],\"xaxis\":\"x\",\"y\":[73.0,371.0,57.0,349.0,392.0],\"yaxis\":\"y\"},{\"hovertemplate\":\"brand=Sommer<br>price=%{x}<br>kcal=%{y}<extra></extra>\",\"legendgroup\":\"Sommer\",\"marker\":{\"color\":\"#FF6692\",\"symbol\":\"circle\"},\"mode\":\"markers\",\"name\":\"Sommer\",\"showlegend\":true,\"type\":\"scattergl\",\"x\":[2.69,2.69,1.99,2.29,2.59,2.99,2.99,2.49,2.49],\"xaxis\":\"x\",\"y\":[530.0,427.0,494.0,444.0,489.0,450.0,510.0,459.0,465.0],\"yaxis\":\"y\"},{\"hovertemplate\":\"brand=Biovegan<br>price=%{x}<br>kcal=%{y}<extra></extra>\",\"legendgroup\":\"Biovegan\",\"marker\":{\"color\":\"#B6E880\",\"symbol\":\"circle\"},\"mode\":\"markers\",\"name\":\"Biovegan\",\"showlegend\":true,\"type\":\"scattergl\",\"x\":[2.89,2.89],\"xaxis\":\"x\",\"y\":[387.0,367.0],\"yaxis\":\"y\"},{\"hovertemplate\":\"brand=RUF<br>price=%{x}<br>kcal=%{y}<extra></extra>\",\"legendgroup\":\"RUF\",\"marker\":{\"color\":\"#FF97FF\",\"symbol\":\"circle\"},\"mode\":\"markers\",\"name\":\"RUF\",\"showlegend\":true,\"type\":\"scattergl\",\"x\":[1.19,1.19,1.19],\"xaxis\":\"x\",\"y\":[357.0,366.0,367.0],\"yaxis\":\"y\"},{\"hovertemplate\":\"brand=Lubs<br>price=%{x}<br>kcal=%{y}<extra></extra>\",\"legendgroup\":\"Lubs\",\"marker\":{\"color\":\"#FECB52\",\"symbol\":\"circle\"},\"mode\":\"markers\",\"name\":\"Lubs\",\"showlegend\":true,\"type\":\"scattergl\",\"x\":[1.99,1.19,1.19,1.19,1.19,0.99,1.49,1.49,1.49,1.19,2.69,3.39,1.99,0.99,2.29,1.99,1.99,2.69,1.19,1.19],\"xaxis\":\"x\",\"y\":[467.0,391.0,410.0,382.0,417.0,569.0,418.0,382.0,429.0,425.0,421.0,294.0,494.0,344.0,302.0,445.0,424.0,303.0,420.0,388.0],\"yaxis\":\"y\"},{\"hovertemplate\":\"brand=Vego Chocolate<br>price=%{x}<br>kcal=%{y}<extra></extra>\",\"legendgroup\":\"Vego Chocolate\",\"marker\":{\"color\":\"#636efa\",\"symbol\":\"circle\"},\"mode\":\"markers\",\"name\":\"Vego Chocolate\",\"showlegend\":true,\"type\":\"scattergl\",\"x\":[5.49,2.49,1.99,4.99,3.39,1.99],\"xaxis\":\"x\",\"y\":[543.0,571.0,567.0,589.0,591.0,591.0],\"yaxis\":\"y\"},{\"hovertemplate\":\"brand=Candy Tree<br>price=%{x}<br>kcal=%{y}<extra></extra>\",\"legendgroup\":\"Candy Tree\",\"marker\":{\"color\":\"#EF553B\",\"symbol\":\"circle\"},\"mode\":\"markers\",\"name\":\"Candy Tree\",\"showlegend\":true,\"type\":\"scattergl\",\"x\":[0.99,1.99,1.99,1.99,0.69,1.99,1.99,0.69,0.69,0.99,0.99,0.69,1.99],\"xaxis\":\"x\",\"y\":[348.0,337.0,353.0,353.0,363.0,337.0,336.0,346.0,378.0,336.0,337.0,364.0,369.0],\"yaxis\":\"y\"},{\"hovertemplate\":\"brand=Fine Gusto<br>price=%{x}<br>kcal=%{y}<extra></extra>\",\"legendgroup\":\"Fine Gusto\",\"marker\":{\"color\":\"#00cc96\",\"symbol\":\"circle\"},\"mode\":\"markers\",\"name\":\"Fine Gusto\",\"showlegend\":true,\"type\":\"scattergl\",\"x\":[1.99,1.99],\"xaxis\":\"x\",\"y\":[288.0,302.0],\"yaxis\":\"y\"},{\"hovertemplate\":\"brand=le pain des fleurs<br>price=%{x}<br>kcal=%{y}<extra></extra>\",\"legendgroup\":\"le pain des fleurs\",\"marker\":{\"color\":\"#ab63fa\",\"symbol\":\"circle\"},\"mode\":\"markers\",\"name\":\"le pain des fleurs\",\"showlegend\":true,\"type\":\"scattergl\",\"x\":[5.69,3.69,2.99,3.99,2.99,3.69,3.69,3.19,3.09,3.19,3.19,3.19],\"xaxis\":\"x\",\"y\":[388.0,384.0,391.0,397.0,363.0,394.0,449.0,371.0,33.0,378.0,370.0,372.0],\"yaxis\":\"y\"},{\"hovertemplate\":\"brand=Naturata<br>price=%{x}<br>kcal=%{y}<extra></extra>\",\"legendgroup\":\"Naturata\",\"marker\":{\"color\":\"#FFA15A\",\"symbol\":\"circle\"},\"mode\":\"markers\",\"name\":\"Naturata\",\"showlegend\":true,\"type\":\"scattergl\",\"x\":[3.29,3.29,3.49,3.29,3.29,3.29,3.29,2.59,3.09,3.29,3.49,3.49,3.49,3.49,3.49,3.49],\"xaxis\":\"x\",\"y\":[568.0,565.0,614.0,647.0,598.0,577.0,627.0,584.0,599.0,634.0,599.0,599.0,599.0,599.0,599.0,599.0],\"yaxis\":\"y\"},{\"hovertemplate\":\"brand=\\u00d6KOVITAL<br>price=%{x}<br>kcal=%{y}<extra></extra>\",\"legendgroup\":\"\\u00d6KOVITAL\",\"marker\":{\"color\":\"#19d3f3\",\"symbol\":\"circle\"},\"mode\":\"markers\",\"name\":\"\\u00d6KOVITAL\",\"showlegend\":true,\"type\":\"scattergl\",\"x\":[17.99,2.39,1.59,1.59,1.59,1.59,18.99,1.59,1.59,17.99,1.59,6.79,2.69,1.59,1.59,1.59],\"xaxis\":\"x\",\"y\":[320.0,332.0,343.0,320.0,341.0,343.0,343.0,343.0,353.0,323.0,323.0,323.0,323.0,339.0,343.0,338.0],\"yaxis\":\"y\"},{\"hovertemplate\":\"brand=Landgarten<br>price=%{x}<br>kcal=%{y}<extra></extra>\",\"legendgroup\":\"Landgarten\",\"marker\":{\"color\":\"#FF6692\",\"symbol\":\"circle\"},\"mode\":\"markers\",\"name\":\"Landgarten\",\"showlegend\":true,\"type\":\"scattergl\",\"x\":[3.99,3.99,1.69,1.99,1.99,1.99,1.99,1.99,1.29,1.69,1.99,1.89,1.99,1.49,3.99],\"xaxis\":\"x\",\"y\":[2158.0,523.0,532.0,547.0,646.0,560.0,544.0,592.0,452.0,516.0,509.0,473.0,519.0,551.0,506.0],\"yaxis\":\"y\"},{\"hovertemplate\":\"brand=Heidi Chocolate<br>price=%{x}<br>kcal=%{y}<extra></extra>\",\"legendgroup\":\"Heidi Chocolate\",\"marker\":{\"color\":\"#B6E880\",\"symbol\":\"circle\"},\"mode\":\"markers\",\"name\":\"Heidi Chocolate\",\"showlegend\":true,\"type\":\"scattergl\",\"x\":[3.19,4.99,5.49,3.79,3.19,3.19],\"xaxis\":\"x\",\"y\":[605.0,592.0,592.0,604.0,591.0,577.0],\"yaxis\":\"y\"},{\"hovertemplate\":\"brand=Hanf & Natur<br>price=%{x}<br>kcal=%{y}<extra></extra>\",\"legendgroup\":\"Hanf & Natur\",\"marker\":{\"color\":\"#FF97FF\",\"symbol\":\"circle\"},\"mode\":\"markers\",\"name\":\"Hanf & Natur\",\"showlegend\":true,\"type\":\"scattergl\",\"x\":[2.19,2.19,2.19,2.19,2.19,4.29],\"xaxis\":\"x\",\"y\":[457.0,457.0,456.0,457.0,456.0,621.0],\"yaxis\":\"y\"},{\"hovertemplate\":\"brand=Cocoa Libre<br>price=%{x}<br>kcal=%{y}<extra></extra>\",\"legendgroup\":\"Cocoa Libre\",\"marker\":{\"color\":\"#FECB52\",\"symbol\":\"circle\"},\"mode\":\"markers\",\"name\":\"Cocoa Libre\",\"showlegend\":true,\"type\":\"scattergl\",\"x\":[6.99,4.99,2.99,4.99,6.99,2.99],\"xaxis\":\"x\",\"y\":[539.0,539.0,547.0,520.0,539.0,520.0],\"yaxis\":\"y\"},{\"hovertemplate\":\"brand=mind sweets<br>price=%{x}<br>kcal=%{y}<extra></extra>\",\"legendgroup\":\"mind sweets\",\"marker\":{\"color\":\"#636efa\",\"symbol\":\"circle\"},\"mode\":\"markers\",\"name\":\"mind sweets\",\"showlegend\":true,\"type\":\"scattergl\",\"x\":[2.39,2.59,3.79,3.79,2.59,2.59,2.59,1.89,3.79,3.79,2.59,2.59,2.59,2.59,2.59,2.59,4.5,4.2,2.9,2.95,4.5,4.2,2.9,2.95,4.5,4.2,2.9,2.95,4.5,4.2,2.9,2.95,4.5,4.2,2.9,2.95,4.5,4.2,2.9,2.95],\"xaxis\":\"x\",\"y\":[321.0,323.0,587.0,590.0,337.0,337.0,348.0,321.0,593.0,593.0,321.0,322.0,322.0,321.0,322.0,321.0,591.0,593.0,321.0,321.0,591.0,593.0,321.0,321.0,591.0,593.0,321.0,321.0,591.0,593.0,321.0,321.0,591.0,593.0,321.0,321.0,591.0,593.0,321.0,321.0],\"yaxis\":\"y\"},{\"hovertemplate\":\"brand=SOBO<br>price=%{x}<br>kcal=%{y}<extra></extra>\",\"legendgroup\":\"SOBO\",\"marker\":{\"color\":\"#EF553B\",\"symbol\":\"circle\"},\"mode\":\"markers\",\"name\":\"SOBO\",\"showlegend\":true,\"type\":\"scattergl\",\"x\":[3.99,1.49,1.49,4.99],\"xaxis\":\"x\",\"y\":[332.0,287.0,288.0,287.0],\"yaxis\":\"y\"},{\"hovertemplate\":\"brand=C\\u00e9liane<br>price=%{x}<br>kcal=%{y}<extra></extra>\",\"legendgroup\":\"C\\u00e9liane\",\"marker\":{\"color\":\"#00cc96\",\"symbol\":\"circle\"},\"mode\":\"markers\",\"name\":\"C\\u00e9liane\",\"showlegend\":true,\"type\":\"scattergl\",\"x\":[3.49],\"xaxis\":\"x\",\"y\":[410.0],\"yaxis\":\"y\"},{\"hovertemplate\":\"brand=Biolandhof Klein<br>price=%{x}<br>kcal=%{y}<extra></extra>\",\"legendgroup\":\"Biolandhof Klein\",\"marker\":{\"color\":\"#ab63fa\",\"symbol\":\"circle\"},\"mode\":\"markers\",\"name\":\"Biolandhof Klein\",\"showlegend\":true,\"type\":\"scattergl\",\"x\":[2.99],\"xaxis\":\"x\",\"y\":[172.0],\"yaxis\":\"y\"},{\"hovertemplate\":\"brand=smooze!<br>price=%{x}<br>kcal=%{y}<extra></extra>\",\"legendgroup\":\"smooze!\",\"marker\":{\"color\":\"#FFA15A\",\"symbol\":\"circle\"},\"mode\":\"markers\",\"name\":\"smooze!\",\"showlegend\":true,\"type\":\"scattergl\",\"x\":[3.59,3.59,3.59,3.59,3.59],\"xaxis\":\"x\",\"y\":[101.0,122.0,158.0,97.0,100.0],\"yaxis\":\"y\"},{\"hovertemplate\":\"brand=Terrasana<br>price=%{x}<br>kcal=%{y}<extra></extra>\",\"legendgroup\":\"Terrasana\",\"marker\":{\"color\":\"#19d3f3\",\"symbol\":\"circle\"},\"mode\":\"markers\",\"name\":\"Terrasana\",\"showlegend\":true,\"type\":\"scattergl\",\"x\":[5.59,2.39,1.79,0.59],\"xaxis\":\"x\",\"y\":[309.0,461.0,320.0,320.0],\"yaxis\":\"y\"},{\"hovertemplate\":\"brand=go4raw<br>price=%{x}<br>kcal=%{y}<extra></extra>\",\"legendgroup\":\"go4raw\",\"marker\":{\"color\":\"#FF6692\",\"symbol\":\"circle\"},\"mode\":\"markers\",\"name\":\"go4raw\",\"showlegend\":true,\"type\":\"scattergl\",\"x\":[1.39,0.99,0.99,0.99,0.99,0.99,0.99,0.99,0.99,0.99,0.99,1.39,1.39,0.99,0.99],\"xaxis\":\"x\",\"y\":[404.0,351.0,355.0,419.0,449.0,387.0,424.0,372.0,381.0,361.0,393.0,419.0,431.0,393.0,423.0],\"yaxis\":\"y\"},{\"hovertemplate\":\"brand=Clarana<br>price=%{x}<br>kcal=%{y}<extra></extra>\",\"legendgroup\":\"Clarana\",\"marker\":{\"color\":\"#B6E880\",\"symbol\":\"circle\"},\"mode\":\"markers\",\"name\":\"Clarana\",\"showlegend\":true,\"type\":\"scattergl\",\"x\":[18.99,7.39,2.99],\"xaxis\":\"x\",\"y\":[453.0,559.0,453.0],\"yaxis\":\"y\"},{\"hovertemplate\":\"brand=Sonnentor<br>price=%{x}<br>kcal=%{y}<extra></extra>\",\"legendgroup\":\"Sonnentor\",\"marker\":{\"color\":\"#FF97FF\",\"symbol\":\"circle\"},\"mode\":\"markers\",\"name\":\"Sonnentor\",\"showlegend\":true,\"type\":\"scattergl\",\"x\":[2.39],\"xaxis\":\"x\",\"y\":[328.0],\"yaxis\":\"y\"},{\"hovertemplate\":\"brand=Vantastic Foods<br>price=%{x}<br>kcal=%{y}<extra></extra>\",\"legendgroup\":\"Vantastic Foods\",\"marker\":{\"color\":\"#FECB52\",\"symbol\":\"circle\"},\"mode\":\"markers\",\"name\":\"Vantastic Foods\",\"showlegend\":true,\"type\":\"scattergl\",\"x\":[3.29,2.99,3.29,8.99,8.99,2.29,2.99,3.59,2.99,2.99,1.99],\"xaxis\":\"x\",\"y\":[547.0,270.0,551.0,541.0,580.0,450.0,280.0,530.0,278.0,267.0,467.0],\"yaxis\":\"y\"},{\"hovertemplate\":\"brand=Vegan Bakery<br>price=%{x}<br>kcal=%{y}<extra></extra>\",\"legendgroup\":\"Vegan Bakery\",\"marker\":{\"color\":\"#636efa\",\"symbol\":\"circle\"},\"mode\":\"markers\",\"name\":\"Vegan Bakery\",\"showlegend\":true,\"type\":\"scattergl\",\"x\":[2.49,2.49,2.49,2.49,2.49,2.49,2.49],\"xaxis\":\"x\",\"y\":[482.0,488.0,466.0,494.0,533.0,519.0,496.0],\"yaxis\":\"y\"},{\"hovertemplate\":\"brand=Kuhbonbon<br>price=%{x}<br>kcal=%{y}<extra></extra>\",\"legendgroup\":\"Kuhbonbon\",\"marker\":{\"color\":\"#EF553B\",\"symbol\":\"circle\"},\"mode\":\"markers\",\"name\":\"Kuhbonbon\",\"showlegend\":true,\"type\":\"scattergl\",\"x\":[1.99,3.49,3.49],\"xaxis\":\"x\",\"y\":[426.0,430.0,426.0],\"yaxis\":\"y\"},{\"hovertemplate\":\"brand=BeautySweeties<br>price=%{x}<br>kcal=%{y}<extra></extra>\",\"legendgroup\":\"BeautySweeties\",\"marker\":{\"color\":\"#00cc96\",\"symbol\":\"circle\"},\"mode\":\"markers\",\"name\":\"BeautySweeties\",\"showlegend\":true,\"type\":\"scattergl\",\"x\":[2.29,2.29,2.29,2.29],\"xaxis\":\"x\",\"y\":[323.0,330.0,225.0,343.0],\"yaxis\":\"y\"},{\"hovertemplate\":\"brand=Raab<br>price=%{x}<br>kcal=%{y}<extra></extra>\",\"legendgroup\":\"Raab\",\"marker\":{\"color\":\"#ab63fa\",\"symbol\":\"circle\"},\"mode\":\"markers\",\"name\":\"Raab\",\"showlegend\":true,\"type\":\"scattergl\",\"x\":[1.69],\"xaxis\":\"x\",\"y\":[158.0],\"yaxis\":\"y\"},{\"hovertemplate\":\"brand=Super Fudgio<br>price=%{x}<br>kcal=%{y}<extra></extra>\",\"legendgroup\":\"Super Fudgio\",\"marker\":{\"color\":\"#FFA15A\",\"symbol\":\"circle\"},\"mode\":\"markers\",\"name\":\"Super Fudgio\",\"showlegend\":true,\"type\":\"scattergl\",\"x\":[2.49,2.49,2.99,2.99,2.99,2.99,2.49,2.99],\"xaxis\":\"x\",\"y\":[570.0,555.0,381.0,383.0,383.0,402.0,556.0,383.0],\"yaxis\":\"y\"},{\"hovertemplate\":\"brand=Gross<br>price=%{x}<br>kcal=%{y}<extra></extra>\",\"legendgroup\":\"Gross\",\"marker\":{\"color\":\"#19d3f3\",\"symbol\":\"circle\"},\"mode\":\"markers\",\"name\":\"Gross\",\"showlegend\":true,\"type\":\"scattergl\",\"x\":[2.99,2.99],\"xaxis\":\"x\",\"y\":[511.0,512.0],\"yaxis\":\"y\"},{\"hovertemplate\":\"brand=Liebhart's<br>price=%{x}<br>kcal=%{y}<extra></extra>\",\"legendgroup\":\"Liebhart's\",\"marker\":{\"color\":\"#FF6692\",\"symbol\":\"circle\"},\"mode\":\"markers\",\"name\":\"Liebhart's\",\"showlegend\":true,\"type\":\"scattergl\",\"x\":[0.89],\"xaxis\":\"x\",\"y\":[523.0],\"yaxis\":\"y\"},{\"hovertemplate\":\"brand=XyliGum<br>price=%{x}<br>kcal=%{y}<extra></extra>\",\"legendgroup\":\"XyliGum\",\"marker\":{\"color\":\"#B6E880\",\"symbol\":\"circle\"},\"mode\":\"markers\",\"name\":\"XyliGum\",\"showlegend\":true,\"type\":\"scattergl\",\"x\":[1.29,1.29,1.29],\"xaxis\":\"x\",\"y\":[173.0,173.0,173.0],\"yaxis\":\"y\"},{\"hovertemplate\":\"brand=frusano<br>price=%{x}<br>kcal=%{y}<extra></extra>\",\"legendgroup\":\"frusano\",\"marker\":{\"color\":\"#FF97FF\",\"symbol\":\"circle\"},\"mode\":\"markers\",\"name\":\"frusano\",\"showlegend\":true,\"type\":\"scattergl\",\"x\":[1.99,1.39],\"xaxis\":\"x\",\"y\":[330.0,314.0],\"yaxis\":\"y\"},{\"hovertemplate\":\"brand=iChoc<br>price=%{x}<br>kcal=%{y}<extra></extra>\",\"legendgroup\":\"iChoc\",\"marker\":{\"color\":\"#FECB52\",\"symbol\":\"circle\"},\"mode\":\"markers\",\"name\":\"iChoc\",\"showlegend\":true,\"type\":\"scattergl\",\"x\":[1.69,1.99,1.99,1.99,1.99,1.99,1.99],\"xaxis\":\"x\",\"y\":[584.0,570.0,593.0,595.0,568.0,561.0,586.0],\"yaxis\":\"y\"},{\"hovertemplate\":\"brand=3 Pauly<br>price=%{x}<br>kcal=%{y}<extra></extra>\",\"legendgroup\":\"3 Pauly\",\"marker\":{\"color\":\"#636efa\",\"symbol\":\"circle\"},\"mode\":\"markers\",\"name\":\"3 Pauly\",\"showlegend\":true,\"type\":\"scattergl\",\"x\":[1.99,2.49],\"xaxis\":\"x\",\"y\":[562.0,476.0],\"yaxis\":\"y\"},{\"hovertemplate\":\"brand=BauckHof<br>price=%{x}<br>kcal=%{y}<extra></extra>\",\"legendgroup\":\"BauckHof\",\"marker\":{\"color\":\"#EF553B\",\"symbol\":\"circle\"},\"mode\":\"markers\",\"name\":\"BauckHof\",\"showlegend\":true,\"type\":\"scattergl\",\"x\":[3.29,3.69],\"xaxis\":\"x\",\"y\":[393.0,356.0],\"yaxis\":\"y\"},{\"hovertemplate\":\"brand=CLIF BAR<br>price=%{x}<br>kcal=%{y}<extra></extra>\",\"legendgroup\":\"CLIF BAR\",\"marker\":{\"color\":\"#00cc96\",\"symbol\":\"circle\"},\"mode\":\"markers\",\"name\":\"CLIF BAR\",\"showlegend\":true,\"type\":\"scattergl\",\"x\":[2.49,2.49,2.49,2.49,2.49],\"xaxis\":\"x\",\"y\":[403.0,411.0,400.0,396.0,400.0],\"yaxis\":\"y\"},{\"hovertemplate\":\"brand=Raw Bite Rohkostriegel<br>price=%{x}<br>kcal=%{y}<extra></extra>\",\"legendgroup\":\"Raw Bite Rohkostriegel\",\"marker\":{\"color\":\"#ab63fa\",\"symbol\":\"circle\"},\"mode\":\"markers\",\"name\":\"Raw Bite Rohkostriegel\",\"showlegend\":true,\"type\":\"scattergl\",\"x\":[1.79,1.79,1.79,1.79,1.79,1.79,1.79],\"xaxis\":\"x\",\"y\":[461.0,436.0,464.0,449.0,401.0,408.0,426.0],\"yaxis\":\"y\"},{\"hovertemplate\":\"brand=deBron<br>price=%{x}<br>kcal=%{y}<extra></extra>\",\"legendgroup\":\"deBron\",\"marker\":{\"color\":\"#FFA15A\",\"symbol\":\"circle\"},\"mode\":\"markers\",\"name\":\"deBron\",\"showlegend\":true,\"type\":\"scattergl\",\"x\":[2.29],\"xaxis\":\"x\",\"y\":[342.0],\"yaxis\":\"y\"},{\"hovertemplate\":\"brand=Wheaty<br>price=%{x}<br>kcal=%{y}<extra></extra>\",\"legendgroup\":\"Wheaty\",\"marker\":{\"color\":\"#19d3f3\",\"symbol\":\"circle\"},\"mode\":\"markers\",\"name\":\"Wheaty\",\"showlegend\":true,\"type\":\"scattergl\",\"x\":[1.19,1.19,1.19],\"xaxis\":\"x\",\"y\":[273.0,248.0,247.0],\"yaxis\":\"y\"},{\"hovertemplate\":\"brand=Vegablum<br>price=%{x}<br>kcal=%{y}<extra></extra>\",\"legendgroup\":\"Vegablum\",\"marker\":{\"color\":\"#FF6692\",\"symbol\":\"circle\"},\"mode\":\"markers\",\"name\":\"Vegablum\",\"showlegend\":true,\"type\":\"scattergl\",\"x\":[4.49,4.49,4.69],\"xaxis\":\"x\",\"y\":[469.0,470.0,544.0],\"yaxis\":\"y\"},{\"hovertemplate\":\"brand=Birkengold<br>price=%{x}<br>kcal=%{y}<extra></extra>\",\"legendgroup\":\"Birkengold\",\"marker\":{\"color\":\"#B6E880\",\"symbol\":\"circle\"},\"mode\":\"markers\",\"name\":\"Birkengold\",\"showlegend\":true,\"type\":\"scattergl\",\"x\":[2.49,2.99,2.99,2.99,2.49,3.29,3.19,2.99,2.99,2.99,1.39,1.39,1.39,2.5,2.5,2.5,2.5,2.5,2.5],\"xaxis\":\"x\",\"y\":[257.0,182.0,180.0,183.0,257.0,580.0,466.0,484.0,465.0,466.0,178.0,183.0,180.0,257.0,257.0,257.0,257.0,257.0,257.0],\"yaxis\":\"y\"},{\"hovertemplate\":\"brand=Guzman's Guzinos<br>price=%{x}<br>kcal=%{y}<extra></extra>\",\"legendgroup\":\"Guzman's Guzinos\",\"marker\":{\"color\":\"#FF97FF\",\"symbol\":\"circle\"},\"mode\":\"markers\",\"name\":\"Guzman's Guzinos\",\"showlegend\":true,\"type\":\"scattergl\",\"x\":[1.99,1.99,1.99],\"xaxis\":\"x\",\"y\":[408.0,393.0,4123.0],\"yaxis\":\"y\"},{\"hovertemplate\":\"brand=Foodist<br>price=%{x}<br>kcal=%{y}<extra></extra>\",\"legendgroup\":\"Foodist\",\"marker\":{\"color\":\"#FECB52\",\"symbol\":\"circle\"},\"mode\":\"markers\",\"name\":\"Foodist\",\"showlegend\":true,\"type\":\"scattergl\",\"x\":[8.95,29.98,4.99,3.99,1.5,14.95,9.95,15.95,9.95,13.9,13.9,2.5,2.5,1.9,1.45,10.95,8.95,29.98,4.99,3.99,1.5,14.95,9.95,15.95,9.95,13.9,13.9,2.5,2.5,1.9,1.45,10.95,8.95,29.98,4.99,3.99,1.5,14.95,9.95,15.95,9.95,13.9,13.9,2.5,2.5,1.9,1.45,10.95,8.95,29.98,4.99,3.99,1.5,14.95,9.95,15.95,9.95,13.9,13.9,2.5,2.5,1.9,1.45,10.95,8.95,29.98,4.99,3.99,1.5,14.95,9.95,15.95,9.95,13.9,13.9,2.5,2.5,1.9,1.45,10.95,8.95,29.98,4.99,3.99,1.5,14.95,9.95,15.95,9.95,13.9,13.9,2.5,2.5,1.9,1.45,10.95],\"xaxis\":\"x\",\"y\":[454.0,614.0,599.0,721.0,444.0,448.0,518.0,615.0,545.0,431.0,436.0,599.0,597.0,488.0,393.0,433.0,454.0,614.0,599.0,721.0,444.0,448.0,518.0,615.0,545.0,431.0,436.0,599.0,597.0,488.0,393.0,433.0,454.0,614.0,599.0,721.0,444.0,448.0,518.0,615.0,545.0,431.0,436.0,599.0,597.0,488.0,393.0,433.0,454.0,614.0,599.0,721.0,444.0,448.0,518.0,615.0,545.0,431.0,436.0,599.0,597.0,488.0,393.0,433.0,454.0,614.0,599.0,721.0,444.0,448.0,518.0,615.0,545.0,431.0,436.0,599.0,597.0,488.0,393.0,433.0,454.0,614.0,599.0,721.0,444.0,448.0,518.0,615.0,545.0,431.0,436.0,599.0,597.0,488.0,393.0,433.0],\"yaxis\":\"y\"},{\"hovertemplate\":\"brand=PLAYin Choc<br>price=%{x}<br>kcal=%{y}<extra></extra>\",\"legendgroup\":\"PLAYin Choc\",\"marker\":{\"color\":\"#636efa\",\"symbol\":\"circle\"},\"mode\":\"markers\",\"name\":\"PLAYin Choc\",\"showlegend\":true,\"type\":\"scattergl\",\"x\":[4.0,4.0,4.0,4.0,4.0,4.0],\"xaxis\":\"x\",\"y\":[630.0,630.0,630.0,630.0,630.0,630.0],\"yaxis\":\"y\"},{\"hovertemplate\":\"brand=Paddies<br>price=%{x}<br>kcal=%{y}<extra></extra>\",\"legendgroup\":\"Paddies\",\"marker\":{\"color\":\"#EF553B\",\"symbol\":\"circle\"},\"mode\":\"markers\",\"name\":\"Paddies\",\"showlegend\":true,\"type\":\"scattergl\",\"x\":[1.99,1.99,1.99,1.99,1.99,1.99],\"xaxis\":\"x\",\"y\":[418.0,418.0,418.0,418.0,418.0,418.0],\"yaxis\":\"y\"},{\"hovertemplate\":\"brand=Not Guilty<br>price=%{x}<br>kcal=%{y}<extra></extra>\",\"legendgroup\":\"Not Guilty\",\"marker\":{\"color\":\"#00cc96\",\"symbol\":\"circle\"},\"mode\":\"markers\",\"name\":\"Not Guilty\",\"showlegend\":true,\"type\":\"scattergl\",\"x\":[1.9,1.7,1.7,1.9,1.7,1.7,1.9,1.7,1.7,1.9,1.7,1.7,1.9,1.7,1.7,1.9,1.7,1.7],\"xaxis\":\"x\",\"y\":[326.0,320.0,318.0,326.0,320.0,318.0,326.0,320.0,318.0,326.0,320.0,318.0,326.0,320.0,318.0,326.0,320.0,318.0],\"yaxis\":\"y\"},{\"hovertemplate\":\"brand=Heldenbrot<br>price=%{x}<br>kcal=%{y}<extra></extra>\",\"legendgroup\":\"Heldenbrot\",\"marker\":{\"color\":\"#ab63fa\",\"symbol\":\"circle\"},\"mode\":\"markers\",\"name\":\"Heldenbrot\",\"showlegend\":true,\"type\":\"scattergl\",\"x\":[1.9,1.9,1.9,1.9,1.9,1.9],\"xaxis\":\"x\",\"y\":[457.0,457.0,457.0,457.0,457.0,457.0],\"yaxis\":\"y\"},{\"hovertemplate\":\"brand=Freche Freunde<br>price=%{x}<br>kcal=%{y}<extra></extra>\",\"legendgroup\":\"Freche Freunde\",\"marker\":{\"color\":\"#FFA15A\",\"symbol\":\"circle\"},\"mode\":\"markers\",\"name\":\"Freche Freunde\",\"showlegend\":true,\"type\":\"scattergl\",\"x\":[1.75,1.75,1.75,1.75,1.75,1.75],\"xaxis\":\"x\",\"y\":[383.0,383.0,383.0,383.0,383.0,383.0],\"yaxis\":\"y\"},{\"hovertemplate\":\"brand=PURmacherei<br>price=%{x}<br>kcal=%{y}<extra></extra>\",\"legendgroup\":\"PURmacherei\",\"marker\":{\"color\":\"#19d3f3\",\"symbol\":\"circle\"},\"mode\":\"markers\",\"name\":\"PURmacherei\",\"showlegend\":true,\"type\":\"scattergl\",\"x\":[3.49,3.49,3.49,3.49,3.49,3.49,3.49,3.49,3.49,3.49,3.49,3.49],\"xaxis\":\"x\",\"y\":[527.0,568.0,527.0,568.0,527.0,568.0,527.0,568.0,527.0,568.0,527.0,568.0],\"yaxis\":\"y\"},{\"hovertemplate\":\"brand=Supersec<br>price=%{x}<br>kcal=%{y}<extra></extra>\",\"legendgroup\":\"Supersec\",\"marker\":{\"color\":\"#FF6692\",\"symbol\":\"circle\"},\"mode\":\"markers\",\"name\":\"Supersec\",\"showlegend\":true,\"type\":\"scattergl\",\"x\":[4.85,4.85,4.85,4.85,4.85,4.85],\"xaxis\":\"x\",\"y\":[325.0,325.0,325.0,325.0,325.0,325.0],\"yaxis\":\"y\"},{\"hovertemplate\":\"brand=D\\u00f6rrwerk<br>price=%{x}<br>kcal=%{y}<extra></extra>\",\"legendgroup\":\"D\\u00f6rrwerk\",\"marker\":{\"color\":\"#B6E880\",\"symbol\":\"circle\"},\"mode\":\"markers\",\"name\":\"D\\u00f6rrwerk\",\"showlegend\":true,\"type\":\"scattergl\",\"x\":[1.5,2.5,1.5,2.5,1.5,2.5,1.5,2.5,1.5,2.5,1.5,2.5],\"xaxis\":\"x\",\"y\":[319.0,342.0,319.0,342.0,319.0,342.0,319.0,342.0,319.0,342.0,319.0,342.0],\"yaxis\":\"y\"},{\"hovertemplate\":\"brand=frufree<br>price=%{x}<br>kcal=%{y}<extra></extra>\",\"legendgroup\":\"frufree\",\"marker\":{\"color\":\"#FF97FF\",\"symbol\":\"circle\"},\"mode\":\"markers\",\"name\":\"frufree\",\"showlegend\":true,\"type\":\"scattergl\",\"x\":[4.0,4.0,4.0,4.0,4.0,4.0],\"xaxis\":\"x\",\"y\":[372.0,372.0,372.0,372.0,372.0,372.0],\"yaxis\":\"y\"},{\"hovertemplate\":\"brand=Vista Portuguese<br>price=%{x}<br>kcal=%{y}<extra></extra>\",\"legendgroup\":\"Vista Portuguese\",\"marker\":{\"color\":\"#FECB52\",\"symbol\":\"circle\"},\"mode\":\"markers\",\"name\":\"Vista Portuguese\",\"showlegend\":true,\"type\":\"scattergl\",\"x\":[7.9,7.9,7.9,7.9,7.9,7.9],\"xaxis\":\"x\",\"y\":[442.0,442.0,442.0,442.0,442.0,442.0],\"yaxis\":\"y\"},{\"hovertemplate\":\"brand=nucao<br>price=%{x}<br>kcal=%{y}<extra></extra>\",\"legendgroup\":\"nucao\",\"marker\":{\"color\":\"#636efa\",\"symbol\":\"circle\"},\"mode\":\"markers\",\"name\":\"nucao\",\"showlegend\":true,\"type\":\"scattergl\",\"x\":[3.99,3.99,3.99,3.99,3.99,3.99],\"xaxis\":\"x\",\"y\":[584.0,584.0,584.0,584.0,584.0,584.0],\"yaxis\":\"y\"},{\"hovertemplate\":\"brand=ZAZ<br>price=%{x}<br>kcal=%{y}<extra></extra>\",\"legendgroup\":\"ZAZ\",\"marker\":{\"color\":\"#EF553B\",\"symbol\":\"circle\"},\"mode\":\"markers\",\"name\":\"ZAZ\",\"showlegend\":true,\"type\":\"scattergl\",\"x\":[3.49,3.49,3.49,3.49,3.49,3.49],\"xaxis\":\"x\",\"y\":[513.0,513.0,513.0,513.0,513.0,513.0],\"yaxis\":\"y\"},{\"hovertemplate\":\"brand=Zweifel<br>price=%{x}<br>kcal=%{y}<extra></extra>\",\"legendgroup\":\"Zweifel\",\"marker\":{\"color\":\"#00cc96\",\"symbol\":\"circle\"},\"mode\":\"markers\",\"name\":\"Zweifel\",\"showlegend\":true,\"type\":\"scattergl\",\"x\":[2.59,2.59,2.59,2.59,2.59,2.59],\"xaxis\":\"x\",\"y\":[542.0,542.0,542.0,542.0,542.0,542.0],\"yaxis\":\"y\"},{\"hovertemplate\":\"brand=Superballs<br>price=%{x}<br>kcal=%{y}<extra></extra>\",\"legendgroup\":\"Superballs\",\"marker\":{\"color\":\"#ab63fa\",\"symbol\":\"circle\"},\"mode\":\"markers\",\"name\":\"Superballs\",\"showlegend\":true,\"type\":\"scattergl\",\"x\":[2.49,2.49,2.49,2.49,2.49,2.49],\"xaxis\":\"x\",\"y\":[384.0,384.0,384.0,384.0,384.0,384.0],\"yaxis\":\"y\"},{\"hovertemplate\":\"brand=Delica<br>price=%{x}<br>kcal=%{y}<extra></extra>\",\"legendgroup\":\"Delica\",\"marker\":{\"color\":\"#FFA15A\",\"symbol\":\"circle\"},\"mode\":\"markers\",\"name\":\"Delica\",\"showlegend\":true,\"type\":\"scattergl\",\"x\":[4.99,4.99,4.99,4.99,4.99,4.99],\"xaxis\":\"x\",\"y\":[393.0,393.0,393.0,393.0,393.0,393.0],\"yaxis\":\"y\"},{\"hovertemplate\":\"brand=Pumpkin Organics<br>price=%{x}<br>kcal=%{y}<extra></extra>\",\"legendgroup\":\"Pumpkin Organics\",\"marker\":{\"color\":\"#19d3f3\",\"symbol\":\"circle\"},\"mode\":\"markers\",\"name\":\"Pumpkin Organics\",\"showlegend\":true,\"type\":\"scattergl\",\"x\":[0.99,0.99,0.99,0.99,0.99,0.99],\"xaxis\":\"x\",\"y\":[406.0,406.0,406.0,406.0,406.0,406.0],\"yaxis\":\"y\"},{\"hovertemplate\":\"brand=Chokay<br>price=%{x}<br>kcal=%{y}<extra></extra>\",\"legendgroup\":\"Chokay\",\"marker\":{\"color\":\"#FF6692\",\"symbol\":\"circle\"},\"mode\":\"markers\",\"name\":\"Chokay\",\"showlegend\":true,\"type\":\"scattergl\",\"x\":[3.99,3.99,3.99,3.99,3.99,3.99],\"xaxis\":\"x\",\"y\":[513.0,513.0,513.0,513.0,513.0,513.0],\"yaxis\":\"y\"},{\"hovertemplate\":\"brand=MYLKCHOCY<br>price=%{x}<br>kcal=%{y}<extra></extra>\",\"legendgroup\":\"MYLKCHOCY\",\"marker\":{\"color\":\"#B6E880\",\"symbol\":\"circle\"},\"mode\":\"markers\",\"name\":\"MYLKCHOCY\",\"showlegend\":true,\"type\":\"scattergl\",\"x\":[3.5,3.5,1.5,3.5,3.5,1.5,3.5,3.5,1.5,3.5,3.5,1.5,3.5,3.5,1.5,3.5,3.5,1.5],\"xaxis\":\"x\",\"y\":[667.0,661.0,656.0,667.0,661.0,656.0,667.0,661.0,656.0,667.0,661.0,656.0,667.0,661.0,656.0,667.0,661.0,656.0],\"yaxis\":\"y\"},{\"hovertemplate\":\"brand=bett'r<br>price=%{x}<br>kcal=%{y}<extra></extra>\",\"legendgroup\":\"bett'r\",\"marker\":{\"color\":\"#FF97FF\",\"symbol\":\"circle\"},\"mode\":\"markers\",\"name\":\"bett'r\",\"showlegend\":true,\"type\":\"scattergl\",\"x\":[2.9,2.9,2.9,2.9,2.9,2.9],\"xaxis\":\"x\",\"y\":[548.0,548.0,548.0,548.0,548.0,548.0],\"yaxis\":\"y\"},{\"hovertemplate\":\"brand=Vaya<br>price=%{x}<br>kcal=%{y}<extra></extra>\",\"legendgroup\":\"Vaya\",\"marker\":{\"color\":\"#FECB52\",\"symbol\":\"circle\"},\"mode\":\"markers\",\"name\":\"Vaya\",\"showlegend\":true,\"type\":\"scattergl\",\"x\":[2.95,2.95,2.95,2.95,2.95,2.95],\"xaxis\":\"x\",\"y\":[401.0,401.0,401.0,401.0,401.0,401.0],\"yaxis\":\"y\"},{\"hovertemplate\":\"brand=Sawade<br>price=%{x}<br>kcal=%{y}<extra></extra>\",\"legendgroup\":\"Sawade\",\"marker\":{\"color\":\"#636efa\",\"symbol\":\"circle\"},\"mode\":\"markers\",\"name\":\"Sawade\",\"showlegend\":true,\"type\":\"scattergl\",\"x\":[5.99,5.99,5.99,5.99,5.99,5.99],\"xaxis\":\"x\",\"y\":[493.0,493.0,493.0,493.0,493.0,493.0],\"yaxis\":\"y\"},{\"hovertemplate\":\"brand=Wally & Whiz<br>price=%{x}<br>kcal=%{y}<extra></extra>\",\"legendgroup\":\"Wally & Whiz\",\"marker\":{\"color\":\"#EF553B\",\"symbol\":\"circle\"},\"mode\":\"markers\",\"name\":\"Wally & Whiz\",\"showlegend\":true,\"type\":\"scattergl\",\"x\":[8.5,7.9,8.5,7.9,8.5,7.9,8.5,7.9,8.5,7.9,8.5,7.9],\"xaxis\":\"x\",\"y\":[342.0,342.0,342.0,342.0,342.0,342.0,342.0,342.0,342.0,342.0,342.0,342.0],\"yaxis\":\"y\"},{\"hovertemplate\":\"brand=Roo'bar Riegel<br>price=%{x}<br>kcal=%{y}<extra></extra>\",\"legendgroup\":\"Roo'bar Riegel\",\"marker\":{\"color\":\"#00cc96\",\"symbol\":\"circle\"},\"mode\":\"markers\",\"name\":\"Roo'bar Riegel\",\"showlegend\":true,\"type\":\"scattergl\",\"x\":[1.95,1.1,1.95,1.1,1.95,1.1,1.95,1.1,1.95,1.1,1.95,1.1],\"xaxis\":\"x\",\"y\":[359.0,436.0,359.0,436.0,359.0,436.0,359.0,436.0,359.0,436.0,359.0,436.0],\"yaxis\":\"y\"},{\"hovertemplate\":\"brand=KOUK\\u00c8E<br>price=%{x}<br>kcal=%{y}<extra></extra>\",\"legendgroup\":\"KOUK\\u00c8E\",\"marker\":{\"color\":\"#ab63fa\",\"symbol\":\"circle\"},\"mode\":\"markers\",\"name\":\"KOUK\\u00c8E\",\"showlegend\":true,\"type\":\"scattergl\",\"x\":[2.9,2.9,2.9,2.9,2.9,2.9],\"xaxis\":\"x\",\"y\":[187.0,187.0,187.0,187.0,187.0,187.0],\"yaxis\":\"y\"},{\"hovertemplate\":\"brand=coconilla<br>price=%{x}<br>kcal=%{y}<extra></extra>\",\"legendgroup\":\"coconilla\",\"marker\":{\"color\":\"#FFA15A\",\"symbol\":\"circle\"},\"mode\":\"markers\",\"name\":\"coconilla\",\"showlegend\":true,\"type\":\"scattergl\",\"x\":[2.99,2.99,2.99,2.99,2.99,2.99],\"xaxis\":\"x\",\"y\":[429.0,429.0,429.0,429.0,429.0,429.0],\"yaxis\":\"y\"},{\"hovertemplate\":\"brand=Taste of Nature<br>price=%{x}<br>kcal=%{y}<extra></extra>\",\"legendgroup\":\"Taste of Nature\",\"marker\":{\"color\":\"#19d3f3\",\"symbol\":\"circle\"},\"mode\":\"markers\",\"name\":\"Taste of Nature\",\"showlegend\":true,\"type\":\"scattergl\",\"x\":[2.49,2.49,2.49,2.49,2.49,2.49,2.49,2.49,2.49,2.49,2.49,2.49,2.49,2.49,2.49,2.49,2.49,2.49],\"xaxis\":\"x\",\"y\":[482.0,519.0,585.0,482.0,519.0,585.0,482.0,519.0,585.0,482.0,519.0,585.0,482.0,519.0,585.0,482.0,519.0,585.0],\"yaxis\":\"y\"},{\"hovertemplate\":\"brand=Vitaina Italia<br>price=%{x}<br>kcal=%{y}<extra></extra>\",\"legendgroup\":\"Vitaina Italia\",\"marker\":{\"color\":\"#FF6692\",\"symbol\":\"circle\"},\"mode\":\"markers\",\"name\":\"Vitaina Italia\",\"showlegend\":true,\"type\":\"scattergl\",\"x\":[2.79,2.79,2.79,2.79,2.79,2.79,2.79,2.79,2.79,2.79,2.79,2.79],\"xaxis\":\"x\",\"y\":[364.0,308.0,364.0,308.0,364.0,308.0,364.0,308.0,364.0,308.0,364.0,308.0],\"yaxis\":\"y\"},{\"hovertemplate\":\"brand=Candy Kittens<br>price=%{x}<br>kcal=%{y}<extra></extra>\",\"legendgroup\":\"Candy Kittens\",\"marker\":{\"color\":\"#B6E880\",\"symbol\":\"circle\"},\"mode\":\"markers\",\"name\":\"Candy Kittens\",\"showlegend\":true,\"type\":\"scattergl\",\"x\":[3.4,3.4,3.4,3.4,3.4,3.4],\"xaxis\":\"x\",\"y\":[338.0,338.0,338.0,338.0,338.0,338.0],\"yaxis\":\"y\"},{\"hovertemplate\":\"brand=D'es Trenc <br>price=%{x}<br>kcal=%{y}<extra></extra>\",\"legendgroup\":\"D'es Trenc \",\"marker\":{\"color\":\"#FF97FF\",\"symbol\":\"circle\"},\"mode\":\"markers\",\"name\":\"D'es Trenc \",\"showlegend\":true,\"type\":\"scattergl\",\"x\":[1.99,1.99,1.99,1.99,1.99,1.99],\"xaxis\":\"x\",\"y\":[438.0,438.0,438.0,438.0,438.0,438.0],\"yaxis\":\"y\"},{\"hovertemplate\":\"brand=N.A! Nature Addicts<br>price=%{x}<br>kcal=%{y}<extra></extra>\",\"legendgroup\":\"N.A! Nature Addicts\",\"marker\":{\"color\":\"#FECB52\",\"symbol\":\"circle\"},\"mode\":\"markers\",\"name\":\"N.A! Nature Addicts\",\"showlegend\":true,\"type\":\"scattergl\",\"x\":[1.9,1.9,1.9,1.9,1.9,1.9,1.9,1.9,1.9,1.9,1.9,1.9],\"xaxis\":\"x\",\"y\":[405.0,406.0,405.0,406.0,405.0,406.0,405.0,406.0,405.0,406.0,405.0,406.0],\"yaxis\":\"y\"},{\"hovertemplate\":\"brand=Terre Dei Trulli<br>price=%{x}<br>kcal=%{y}<extra></extra>\",\"legendgroup\":\"Terre Dei Trulli\",\"marker\":{\"color\":\"#636efa\",\"symbol\":\"circle\"},\"mode\":\"markers\",\"name\":\"Terre Dei Trulli\",\"showlegend\":true,\"type\":\"scattergl\",\"x\":[3.9,3.9,3.9,3.9,3.9,3.9],\"xaxis\":\"x\",\"y\":[340.0,340.0,340.0,340.0,340.0,340.0],\"yaxis\":\"y\"},{\"hovertemplate\":\"brand=Zebra<br>price=%{x}<br>kcal=%{y}<extra></extra>\",\"legendgroup\":\"Zebra\",\"marker\":{\"color\":\"#EF553B\",\"symbol\":\"circle\"},\"mode\":\"markers\",\"name\":\"Zebra\",\"showlegend\":true,\"type\":\"scattergl\",\"x\":[1.9,1.9,1.9,1.9,1.9,1.9,1.9,1.9,1.9,1.9,1.9,1.9,1.9,1.9,1.9,1.9,1.9,1.9],\"xaxis\":\"x\",\"y\":[392.0,352.0,386.0,392.0,352.0,386.0,392.0,352.0,386.0,392.0,352.0,386.0,392.0,352.0,386.0,392.0,352.0,386.0],\"yaxis\":\"y\"},{\"hovertemplate\":\"brand=Green & More<br>price=%{x}<br>kcal=%{y}<extra></extra>\",\"legendgroup\":\"Green & More\",\"marker\":{\"color\":\"#00cc96\",\"symbol\":\"circle\"},\"mode\":\"markers\",\"name\":\"Green & More\",\"showlegend\":true,\"type\":\"scattergl\",\"x\":[2.2,2.5,2.2,2.2,2.5,2.2,2.2,2.5,2.2,2.2,2.5,2.2,2.2,2.5,2.2,2.2,2.5,2.2],\"xaxis\":\"x\",\"y\":[465.0,519.0,491.0,465.0,519.0,491.0,465.0,519.0,491.0,465.0,519.0,491.0,465.0,519.0,491.0,465.0,519.0,491.0],\"yaxis\":\"y\"},{\"hovertemplate\":\"brand=Banabar<br>price=%{x}<br>kcal=%{y}<extra></extra>\",\"legendgroup\":\"Banabar\",\"marker\":{\"color\":\"#ab63fa\",\"symbol\":\"circle\"},\"mode\":\"markers\",\"name\":\"Banabar\",\"showlegend\":true,\"type\":\"scattergl\",\"x\":[2.0,2.0,2.0,2.0,2.0,2.0,2.0,2.0,2.0,2.0,2.0,2.0],\"xaxis\":\"x\",\"y\":[404.0,410.0,404.0,410.0,404.0,410.0,404.0,410.0,404.0,410.0,404.0,410.0],\"yaxis\":\"y\"}],                        {\"legend\":{\"title\":{\"text\":\"brand\"},\"tracegroupgap\":0},\"margin\":{\"t\":60},\"template\":{\"data\":{\"bar\":[{\"error_x\":{\"color\":\"#2a3f5f\"},\"error_y\":{\"color\":\"#2a3f5f\"},\"marker\":{\"line\":{\"color\":\"#E5ECF6\",\"width\":0.5},\"pattern\":{\"fillmode\":\"overlay\",\"size\":10,\"solidity\":0.2}},\"type\":\"bar\"}],\"barpolar\":[{\"marker\":{\"line\":{\"color\":\"#E5ECF6\",\"width\":0.5},\"pattern\":{\"fillmode\":\"overlay\",\"size\":10,\"solidity\":0.2}},\"type\":\"barpolar\"}],\"carpet\":[{\"aaxis\":{\"endlinecolor\":\"#2a3f5f\",\"gridcolor\":\"white\",\"linecolor\":\"white\",\"minorgridcolor\":\"white\",\"startlinecolor\":\"#2a3f5f\"},\"baxis\":{\"endlinecolor\":\"#2a3f5f\",\"gridcolor\":\"white\",\"linecolor\":\"white\",\"minorgridcolor\":\"white\",\"startlinecolor\":\"#2a3f5f\"},\"type\":\"carpet\"}],\"choropleth\":[{\"colorbar\":{\"outlinewidth\":0,\"ticks\":\"\"},\"type\":\"choropleth\"}],\"contour\":[{\"colorbar\":{\"outlinewidth\":0,\"ticks\":\"\"},\"colorscale\":[[0.0,\"#0d0887\"],[0.1111111111111111,\"#46039f\"],[0.2222222222222222,\"#7201a8\"],[0.3333333333333333,\"#9c179e\"],[0.4444444444444444,\"#bd3786\"],[0.5555555555555556,\"#d8576b\"],[0.6666666666666666,\"#ed7953\"],[0.7777777777777778,\"#fb9f3a\"],[0.8888888888888888,\"#fdca26\"],[1.0,\"#f0f921\"]],\"type\":\"contour\"}],\"contourcarpet\":[{\"colorbar\":{\"outlinewidth\":0,\"ticks\":\"\"},\"type\":\"contourcarpet\"}],\"heatmap\":[{\"colorbar\":{\"outlinewidth\":0,\"ticks\":\"\"},\"colorscale\":[[0.0,\"#0d0887\"],[0.1111111111111111,\"#46039f\"],[0.2222222222222222,\"#7201a8\"],[0.3333333333333333,\"#9c179e\"],[0.4444444444444444,\"#bd3786\"],[0.5555555555555556,\"#d8576b\"],[0.6666666666666666,\"#ed7953\"],[0.7777777777777778,\"#fb9f3a\"],[0.8888888888888888,\"#fdca26\"],[1.0,\"#f0f921\"]],\"type\":\"heatmap\"}],\"heatmapgl\":[{\"colorbar\":{\"outlinewidth\":0,\"ticks\":\"\"},\"colorscale\":[[0.0,\"#0d0887\"],[0.1111111111111111,\"#46039f\"],[0.2222222222222222,\"#7201a8\"],[0.3333333333333333,\"#9c179e\"],[0.4444444444444444,\"#bd3786\"],[0.5555555555555556,\"#d8576b\"],[0.6666666666666666,\"#ed7953\"],[0.7777777777777778,\"#fb9f3a\"],[0.8888888888888888,\"#fdca26\"],[1.0,\"#f0f921\"]],\"type\":\"heatmapgl\"}],\"histogram\":[{\"marker\":{\"pattern\":{\"fillmode\":\"overlay\",\"size\":10,\"solidity\":0.2}},\"type\":\"histogram\"}],\"histogram2d\":[{\"colorbar\":{\"outlinewidth\":0,\"ticks\":\"\"},\"colorscale\":[[0.0,\"#0d0887\"],[0.1111111111111111,\"#46039f\"],[0.2222222222222222,\"#7201a8\"],[0.3333333333333333,\"#9c179e\"],[0.4444444444444444,\"#bd3786\"],[0.5555555555555556,\"#d8576b\"],[0.6666666666666666,\"#ed7953\"],[0.7777777777777778,\"#fb9f3a\"],[0.8888888888888888,\"#fdca26\"],[1.0,\"#f0f921\"]],\"type\":\"histogram2d\"}],\"histogram2dcontour\":[{\"colorbar\":{\"outlinewidth\":0,\"ticks\":\"\"},\"colorscale\":[[0.0,\"#0d0887\"],[0.1111111111111111,\"#46039f\"],[0.2222222222222222,\"#7201a8\"],[0.3333333333333333,\"#9c179e\"],[0.4444444444444444,\"#bd3786\"],[0.5555555555555556,\"#d8576b\"],[0.6666666666666666,\"#ed7953\"],[0.7777777777777778,\"#fb9f3a\"],[0.8888888888888888,\"#fdca26\"],[1.0,\"#f0f921\"]],\"type\":\"histogram2dcontour\"}],\"mesh3d\":[{\"colorbar\":{\"outlinewidth\":0,\"ticks\":\"\"},\"type\":\"mesh3d\"}],\"parcoords\":[{\"line\":{\"colorbar\":{\"outlinewidth\":0,\"ticks\":\"\"}},\"type\":\"parcoords\"}],\"pie\":[{\"automargin\":true,\"type\":\"pie\"}],\"scatter\":[{\"marker\":{\"colorbar\":{\"outlinewidth\":0,\"ticks\":\"\"}},\"type\":\"scatter\"}],\"scatter3d\":[{\"line\":{\"colorbar\":{\"outlinewidth\":0,\"ticks\":\"\"}},\"marker\":{\"colorbar\":{\"outlinewidth\":0,\"ticks\":\"\"}},\"type\":\"scatter3d\"}],\"scattercarpet\":[{\"marker\":{\"colorbar\":{\"outlinewidth\":0,\"ticks\":\"\"}},\"type\":\"scattercarpet\"}],\"scattergeo\":[{\"marker\":{\"colorbar\":{\"outlinewidth\":0,\"ticks\":\"\"}},\"type\":\"scattergeo\"}],\"scattergl\":[{\"marker\":{\"colorbar\":{\"outlinewidth\":0,\"ticks\":\"\"}},\"type\":\"scattergl\"}],\"scattermapbox\":[{\"marker\":{\"colorbar\":{\"outlinewidth\":0,\"ticks\":\"\"}},\"type\":\"scattermapbox\"}],\"scatterpolar\":[{\"marker\":{\"colorbar\":{\"outlinewidth\":0,\"ticks\":\"\"}},\"type\":\"scatterpolar\"}],\"scatterpolargl\":[{\"marker\":{\"colorbar\":{\"outlinewidth\":0,\"ticks\":\"\"}},\"type\":\"scatterpolargl\"}],\"scatterternary\":[{\"marker\":{\"colorbar\":{\"outlinewidth\":0,\"ticks\":\"\"}},\"type\":\"scatterternary\"}],\"surface\":[{\"colorbar\":{\"outlinewidth\":0,\"ticks\":\"\"},\"colorscale\":[[0.0,\"#0d0887\"],[0.1111111111111111,\"#46039f\"],[0.2222222222222222,\"#7201a8\"],[0.3333333333333333,\"#9c179e\"],[0.4444444444444444,\"#bd3786\"],[0.5555555555555556,\"#d8576b\"],[0.6666666666666666,\"#ed7953\"],[0.7777777777777778,\"#fb9f3a\"],[0.8888888888888888,\"#fdca26\"],[1.0,\"#f0f921\"]],\"type\":\"surface\"}],\"table\":[{\"cells\":{\"fill\":{\"color\":\"#EBF0F8\"},\"line\":{\"color\":\"white\"}},\"header\":{\"fill\":{\"color\":\"#C8D4E3\"},\"line\":{\"color\":\"white\"}},\"type\":\"table\"}]},\"layout\":{\"annotationdefaults\":{\"arrowcolor\":\"#2a3f5f\",\"arrowhead\":0,\"arrowwidth\":1},\"autotypenumbers\":\"strict\",\"coloraxis\":{\"colorbar\":{\"outlinewidth\":0,\"ticks\":\"\"}},\"colorscale\":{\"diverging\":[[0,\"#8e0152\"],[0.1,\"#c51b7d\"],[0.2,\"#de77ae\"],[0.3,\"#f1b6da\"],[0.4,\"#fde0ef\"],[0.5,\"#f7f7f7\"],[0.6,\"#e6f5d0\"],[0.7,\"#b8e186\"],[0.8,\"#7fbc41\"],[0.9,\"#4d9221\"],[1,\"#276419\"]],\"sequential\":[[0.0,\"#0d0887\"],[0.1111111111111111,\"#46039f\"],[0.2222222222222222,\"#7201a8\"],[0.3333333333333333,\"#9c179e\"],[0.4444444444444444,\"#bd3786\"],[0.5555555555555556,\"#d8576b\"],[0.6666666666666666,\"#ed7953\"],[0.7777777777777778,\"#fb9f3a\"],[0.8888888888888888,\"#fdca26\"],[1.0,\"#f0f921\"]],\"sequentialminus\":[[0.0,\"#0d0887\"],[0.1111111111111111,\"#46039f\"],[0.2222222222222222,\"#7201a8\"],[0.3333333333333333,\"#9c179e\"],[0.4444444444444444,\"#bd3786\"],[0.5555555555555556,\"#d8576b\"],[0.6666666666666666,\"#ed7953\"],[0.7777777777777778,\"#fb9f3a\"],[0.8888888888888888,\"#fdca26\"],[1.0,\"#f0f921\"]]},\"colorway\":[\"#636efa\",\"#EF553B\",\"#00cc96\",\"#ab63fa\",\"#FFA15A\",\"#19d3f3\",\"#FF6692\",\"#B6E880\",\"#FF97FF\",\"#FECB52\"],\"font\":{\"color\":\"#2a3f5f\"},\"geo\":{\"bgcolor\":\"white\",\"lakecolor\":\"white\",\"landcolor\":\"#E5ECF6\",\"showlakes\":true,\"showland\":true,\"subunitcolor\":\"white\"},\"hoverlabel\":{\"align\":\"left\"},\"hovermode\":\"closest\",\"mapbox\":{\"style\":\"light\"},\"paper_bgcolor\":\"white\",\"plot_bgcolor\":\"#E5ECF6\",\"polar\":{\"angularaxis\":{\"gridcolor\":\"white\",\"linecolor\":\"white\",\"ticks\":\"\"},\"bgcolor\":\"#E5ECF6\",\"radialaxis\":{\"gridcolor\":\"white\",\"linecolor\":\"white\",\"ticks\":\"\"}},\"scene\":{\"xaxis\":{\"backgroundcolor\":\"#E5ECF6\",\"gridcolor\":\"white\",\"gridwidth\":2,\"linecolor\":\"white\",\"showbackground\":true,\"ticks\":\"\",\"zerolinecolor\":\"white\"},\"yaxis\":{\"backgroundcolor\":\"#E5ECF6\",\"gridcolor\":\"white\",\"gridwidth\":2,\"linecolor\":\"white\",\"showbackground\":true,\"ticks\":\"\",\"zerolinecolor\":\"white\"},\"zaxis\":{\"backgroundcolor\":\"#E5ECF6\",\"gridcolor\":\"white\",\"gridwidth\":2,\"linecolor\":\"white\",\"showbackground\":true,\"ticks\":\"\",\"zerolinecolor\":\"white\"}},\"shapedefaults\":{\"line\":{\"color\":\"#2a3f5f\"}},\"ternary\":{\"aaxis\":{\"gridcolor\":\"white\",\"linecolor\":\"white\",\"ticks\":\"\"},\"baxis\":{\"gridcolor\":\"white\",\"linecolor\":\"white\",\"ticks\":\"\"},\"bgcolor\":\"#E5ECF6\",\"caxis\":{\"gridcolor\":\"white\",\"linecolor\":\"white\",\"ticks\":\"\"}},\"title\":{\"x\":0.05},\"xaxis\":{\"automargin\":true,\"gridcolor\":\"white\",\"linecolor\":\"white\",\"ticks\":\"\",\"title\":{\"standoff\":15},\"zerolinecolor\":\"white\",\"zerolinewidth\":2},\"yaxis\":{\"automargin\":true,\"gridcolor\":\"white\",\"linecolor\":\"white\",\"ticks\":\"\",\"title\":{\"standoff\":15},\"zerolinecolor\":\"white\",\"zerolinewidth\":2}}},\"xaxis\":{\"anchor\":\"y\",\"domain\":[0.0,1.0],\"title\":{\"text\":\"price\"}},\"yaxis\":{\"anchor\":\"x\",\"domain\":[0.0,1.0],\"title\":{\"text\":\"kcal\"}}},                        {\"responsive\": true}                    ).then(function(){\n",
       "                            \n",
       "var gd = document.getElementById('688c6cc6-bfa6-43bf-9bbe-1e8fb30db116');\n",
       "var x = new MutationObserver(function (mutations, observer) {{\n",
       "        var display = window.getComputedStyle(gd).display;\n",
       "        if (!display || display === 'none') {{\n",
       "            console.log([gd, 'removed!']);\n",
       "            Plotly.purge(gd);\n",
       "            observer.disconnect();\n",
       "        }}\n",
       "}});\n",
       "\n",
       "// Listen for the removal of the full notebook cells\n",
       "var notebookContainer = gd.closest('#notebook-container');\n",
       "if (notebookContainer) {{\n",
       "    x.observe(notebookContainer, {childList: true});\n",
       "}}\n",
       "\n",
       "// Listen for the clearing of the current output cell\n",
       "var outputEl = gd.closest('.output');\n",
       "if (outputEl) {{\n",
       "    x.observe(outputEl, {childList: true});\n",
       "}}\n",
       "\n",
       "                        })                };                });            </script>        </div>"
      ]
     },
     "metadata": {},
     "output_type": "display_data"
    }
   ],
   "source": [
    "fig = px.scatter(df, x=\"price\", y=\"kcal\", color=\"brand\")\n",
    "fig.show()"
   ]
  },
  {
   "cell_type": "code",
   "execution_count": null,
   "id": "90a91a4a-6185-4631-8866-4be1ba24fef5",
   "metadata": {},
   "outputs": [],
   "source": []
  }
 ],
 "metadata": {
  "kernelspec": {
   "display_name": "Python 3",
   "language": "python",
   "name": "python3"
  },
  "language_info": {
   "codemirror_mode": {
    "name": "ipython",
    "version": 3
   },
   "file_extension": ".py",
   "mimetype": "text/x-python",
   "name": "python",
   "nbconvert_exporter": "python",
   "pygments_lexer": "ipython3",
   "version": "3.9.6"
  }
 },
 "nbformat": 4,
 "nbformat_minor": 5
}
