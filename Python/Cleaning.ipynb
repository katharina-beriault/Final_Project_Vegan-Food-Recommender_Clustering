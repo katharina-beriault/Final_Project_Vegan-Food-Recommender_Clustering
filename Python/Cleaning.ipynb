{
 "cells": [
  {
   "cell_type": "markdown",
   "id": "472a77bc-eb6f-40dd-b004-de1d3660c57b",
   "metadata": {},
   "source": [
    "# Cleaning"
   ]
  },
  {
   "cell_type": "code",
   "execution_count": 1,
   "id": "f926f391-28e6-471f-ac4a-1ecd993ee84e",
   "metadata": {},
   "outputs": [],
   "source": [
    "import pandas as pd\n",
    "import re"
   ]
  },
  {
   "cell_type": "markdown",
   "id": "6581379f-0aee-436c-b588-a48fac5d5508",
   "metadata": {},
   "source": [
    "## Koro"
   ]
  },
  {
   "cell_type": "code",
   "execution_count": 2,
   "id": "fd2bd53d-542d-47ea-a3d7-e7299164e69d",
   "metadata": {},
   "outputs": [],
   "source": [
    "koro = pd.read_csv('df_koro.csv')"
   ]
  },
  {
   "cell_type": "code",
   "execution_count": 3,
   "id": "99d4f07a-24ab-40fc-a72e-1b86efd84261",
   "metadata": {},
   "outputs": [
    {
     "data": {
      "text/plain": [
       "(221, 15)"
      ]
     },
     "execution_count": 3,
     "metadata": {},
     "output_type": "execute_result"
    }
   ],
   "source": [
    "koro.shape"
   ]
  },
  {
   "cell_type": "code",
   "execution_count": 4,
   "id": "bba6ec07-d52c-419f-82bd-b249a7b3f311",
   "metadata": {},
   "outputs": [
    {
     "data": {
      "text/html": [
       "<div>\n",
       "<style scoped>\n",
       "    .dataframe tbody tr th:only-of-type {\n",
       "        vertical-align: middle;\n",
       "    }\n",
       "\n",
       "    .dataframe tbody tr th {\n",
       "        vertical-align: top;\n",
       "    }\n",
       "\n",
       "    .dataframe thead th {\n",
       "        text-align: right;\n",
       "    }\n",
       "</style>\n",
       "<table border=\"1\" class=\"dataframe\">\n",
       "  <thead>\n",
       "    <tr style=\"text-align: right;\">\n",
       "      <th></th>\n",
       "      <th>Unnamed: 0</th>\n",
       "      <th>product</th>\n",
       "      <th>links</th>\n",
       "      <th>price</th>\n",
       "      <th>weight</th>\n",
       "      <th>kcal</th>\n",
       "      <th>fat</th>\n",
       "      <th>sat_fat</th>\n",
       "      <th>carbs</th>\n",
       "      <th>sugar</th>\n",
       "      <th>fibre</th>\n",
       "      <th>protein</th>\n",
       "      <th>salt</th>\n",
       "      <th>ingredients</th>\n",
       "      <th>photo_link</th>\n",
       "    </tr>\n",
       "  </thead>\n",
       "  <tbody>\n",
       "    <tr>\n",
       "      <th>0</th>\n",
       "      <td>0</td>\n",
       "      <td>Soja Protein Crispies 58 % mit Kakao 1 kg</td>\n",
       "      <td>https://www.korodrogerie.de/soja-protein-crisp...</td>\n",
       "      <td>\\n\\n14,00 €\\n</td>\n",
       "      <td>1 kg</td>\n",
       "      <td>1535                                   / 362</td>\n",
       "      <td>1,9 g</td>\n",
       "      <td>0,4 g</td>\n",
       "      <td>28,2 g</td>\n",
       "      <td>9,1 g</td>\n",
       "      <td>1,8 g</td>\n",
       "      <td>58 g</td>\n",
       "      <td>2,7 g</td>\n",
       "      <td>74 % SOJAPROTEIN, Reisgrieß, Zucker, 4 % Kakao...</td>\n",
       "      <td>https://koro2.imgix.net/media/image/f1/50/81/C...</td>\n",
       "    </tr>\n",
       "    <tr>\n",
       "      <th>1</th>\n",
       "      <td>1</td>\n",
       "      <td>Schokodrops mit Xylit 1 kg</td>\n",
       "      <td>https://www.korodrogerie.de/schokodrops-mit-xy...</td>\n",
       "      <td>\\n\\n21,00 €\\n</td>\n",
       "      <td>1 kg</td>\n",
       "      <td>2290                                   / 555</td>\n",
       "      <td>46 g</td>\n",
       "      <td>28 g</td>\n",
       "      <td>31 g</td>\n",
       "      <td>1,0 g</td>\n",
       "      <td>10 g</td>\n",
       "      <td>9,2 g</td>\n",
       "      <td>0,07 g</td>\n",
       "      <td>Kakaomasse, 25 % Süßungsmittel: Xylit; Kakaobu...</td>\n",
       "      <td>https://koro2.imgix.net/media/image/2c/01/f8/S...</td>\n",
       "    </tr>\n",
       "    <tr>\n",
       "      <th>2</th>\n",
       "      <td>2</td>\n",
       "      <td>Schoko Protein Crunchies ohne Zuckerzusatz 1 kg</td>\n",
       "      <td>https://www.korodrogerie.de/schoko-protein-cru...</td>\n",
       "      <td>\\n\\n20,00 €\\n</td>\n",
       "      <td>1 kg</td>\n",
       "      <td>1875                                   / 448</td>\n",
       "      <td>28 g</td>\n",
       "      <td>12 g</td>\n",
       "      <td>37 g</td>\n",
       "      <td>1,4 g</td>\n",
       "      <td>8,3 g</td>\n",
       "      <td>21 g</td>\n",
       "      <td>0,36 g</td>\n",
       "      <td>Süßungsmittel: Maltit, ERDNUSSKERNE, 20 % Prot...</td>\n",
       "      <td>https://koro2.imgix.net/media/image/30/78/62/P...</td>\n",
       "    </tr>\n",
       "    <tr>\n",
       "      <th>3</th>\n",
       "      <td>3</td>\n",
       "      <td>Soja Protein Crispies 60 % 1 kg</td>\n",
       "      <td>https://www.korodrogerie.de/soja-protein-crisp...</td>\n",
       "      <td>\\n\\n13,00 €\\n</td>\n",
       "      <td>1 kg</td>\n",
       "      <td>1541                                   / 363</td>\n",
       "      <td>1,8 g</td>\n",
       "      <td>0,2 g</td>\n",
       "      <td>26 g</td>\n",
       "      <td>0,8 g</td>\n",
       "      <td>0,8 g</td>\n",
       "      <td>60 g</td>\n",
       "      <td>3,2 g</td>\n",
       "      <td>68 % SOJAPROTEIN, Reisgriess, SOJAMEHL, Salz\\t...</td>\n",
       "      <td>https://koro2.imgix.net/media/image/84/55/ca/C...</td>\n",
       "    </tr>\n",
       "    <tr>\n",
       "      <th>4</th>\n",
       "      <td>4</td>\n",
       "      <td>Bohnen-Erbsen-Mix geröstet &amp; gesalzen 1 kg</td>\n",
       "      <td>https://www.korodrogerie.de/bohnen-erbsen-mix-...</td>\n",
       "      <td>\\n\\n11,50 €\\n</td>\n",
       "      <td>1 kg</td>\n",
       "      <td>1766                                   / 421</td>\n",
       "      <td>14 g</td>\n",
       "      <td>2,3 g</td>\n",
       "      <td>35 g</td>\n",
       "      <td>6,7 g</td>\n",
       "      <td>10 g</td>\n",
       "      <td>33 g</td>\n",
       "      <td>1,0 g</td>\n",
       "      <td>19 % SCHWARZE SOJABOHNEN, 19 % EDAMAME-BOHNEN,...</td>\n",
       "      <td>https://koro2.imgix.net/media/image/a9/37/79/B...</td>\n",
       "    </tr>\n",
       "  </tbody>\n",
       "</table>\n",
       "</div>"
      ],
      "text/plain": [
       "   Unnamed: 0                                          product  \\\n",
       "0           0        Soja Protein Crispies 58 % mit Kakao 1 kg   \n",
       "1           1                       Schokodrops mit Xylit 1 kg   \n",
       "2           2  Schoko Protein Crunchies ohne Zuckerzusatz 1 kg   \n",
       "3           3                  Soja Protein Crispies 60 % 1 kg   \n",
       "4           4       Bohnen-Erbsen-Mix geröstet & gesalzen 1 kg   \n",
       "\n",
       "                                               links          price weight  \\\n",
       "0  https://www.korodrogerie.de/soja-protein-crisp...  \\n\\n14,00 €\\n   1 kg   \n",
       "1  https://www.korodrogerie.de/schokodrops-mit-xy...  \\n\\n21,00 €\\n   1 kg   \n",
       "2  https://www.korodrogerie.de/schoko-protein-cru...  \\n\\n20,00 €\\n   1 kg   \n",
       "3  https://www.korodrogerie.de/soja-protein-crisp...  \\n\\n13,00 €\\n   1 kg   \n",
       "4  https://www.korodrogerie.de/bohnen-erbsen-mix-...  \\n\\n11,50 €\\n   1 kg   \n",
       "\n",
       "                                           kcal    fat sat_fat   carbs  sugar  \\\n",
       "0  1535                                   / 362  1,9 g   0,4 g  28,2 g  9,1 g   \n",
       "1  2290                                   / 555   46 g    28 g    31 g  1,0 g   \n",
       "2  1875                                   / 448   28 g    12 g    37 g  1,4 g   \n",
       "3  1541                                   / 363  1,8 g   0,2 g    26 g  0,8 g   \n",
       "4  1766                                   / 421   14 g   2,3 g    35 g  6,7 g   \n",
       "\n",
       "   fibre protein    salt                                        ingredients  \\\n",
       "0  1,8 g    58 g   2,7 g  74 % SOJAPROTEIN, Reisgrieß, Zucker, 4 % Kakao...   \n",
       "1   10 g   9,2 g  0,07 g  Kakaomasse, 25 % Süßungsmittel: Xylit; Kakaobu...   \n",
       "2  8,3 g    21 g  0,36 g  Süßungsmittel: Maltit, ERDNUSSKERNE, 20 % Prot...   \n",
       "3  0,8 g    60 g   3,2 g  68 % SOJAPROTEIN, Reisgriess, SOJAMEHL, Salz\\t...   \n",
       "4   10 g    33 g   1,0 g  19 % SCHWARZE SOJABOHNEN, 19 % EDAMAME-BOHNEN,...   \n",
       "\n",
       "                                          photo_link  \n",
       "0  https://koro2.imgix.net/media/image/f1/50/81/C...  \n",
       "1  https://koro2.imgix.net/media/image/2c/01/f8/S...  \n",
       "2  https://koro2.imgix.net/media/image/30/78/62/P...  \n",
       "3  https://koro2.imgix.net/media/image/84/55/ca/C...  \n",
       "4  https://koro2.imgix.net/media/image/a9/37/79/B...  "
      ]
     },
     "execution_count": 4,
     "metadata": {},
     "output_type": "execute_result"
    }
   ],
   "source": [
    "koro.head()"
   ]
  },
  {
   "cell_type": "markdown",
   "id": "89074013-d920-4f0b-a259-ee35011b16e3",
   "metadata": {},
   "source": [
    "### Cleaning overview\n",
    "\n",
    "- [x] removing duplicate index column\n",
    "- [x] removing weight from product name\n",
    "- [x] new column with brand: \"value == Koro\" for all rows\n",
    "- [x] removing extra characters from price\n",
    "- [ ] cleaning weight column / getting info about weight from product name\n",
    "- [x] removing 'g' from fat, sat_fat, carbs, sugar, fibre, protein, salt\n",
    "- [x] split kcal-column in kJ and kcal\n",
    "\n",
    "Maybe:\n",
    "\n",
    "- [ ] new column price/gr?\n",
    "- [ ] ingredients: use first ingredient?"
   ]
  },
  {
   "cell_type": "markdown",
   "id": "b9873ae4-fc19-4595-9b0d-1eb8e4417dcb",
   "metadata": {},
   "source": [
    "**Dropping duplicate index column**"
   ]
  },
  {
   "cell_type": "code",
   "execution_count": 5,
   "id": "10b66fec-9ddd-425a-b7b0-c00e1eebff40",
   "metadata": {},
   "outputs": [
    {
     "data": {
      "text/plain": [
       "Index(['product', 'links', 'price', 'weight', 'kcal', 'fat', 'sat_fat',\n",
       "       'carbs', 'sugar', 'fibre', 'protein', 'salt', 'ingredients',\n",
       "       'photo_link'],\n",
       "      dtype='object')"
      ]
     },
     "execution_count": 5,
     "metadata": {},
     "output_type": "execute_result"
    }
   ],
   "source": [
    "koro = koro.drop('Unnamed: 0', axis=1)\n",
    "koro.columns"
   ]
  },
  {
   "cell_type": "markdown",
   "id": "68c3b803-cf5a-4fbf-807c-a52eb9abf06d",
   "metadata": {},
   "source": [
    "**Clean product name**"
   ]
  },
  {
   "cell_type": "code",
   "execution_count": 6,
   "id": "7e796ab1-80a8-4630-b171-badb93dc6657",
   "metadata": {},
   "outputs": [],
   "source": [
    "def clean_name(x):\n",
    "    return re.sub(r'\\d{2,3}\\s\\w+|\\d{1}\\s\\w{2}|\\d{1}\\sx', '', x)"
   ]
  },
  {
   "cell_type": "code",
   "execution_count": 7,
   "id": "fab1735e-f9b3-4a86-a322-7f685959e353",
   "metadata": {},
   "outputs": [
    {
     "data": {
      "text/plain": [
       "0            Soja Protein Crispies 58 % mit Kakao \n",
       "1                           Schokodrops mit Xylit \n",
       "2      Schoko Protein Crunchies ohne Zuckerzusatz \n",
       "3                      Soja Protein Crispies 60 % \n",
       "4           Bohnen-Erbsen-Mix geröstet & gesalzen \n",
       "                          ...                     \n",
       "216                     Bio gepuffte Ananasstücke \n",
       "217          Bio gepuffte schwarze Johannisbeeren \n",
       "218                          Bio gepuffte Kirsche \n",
       "219                             Bio Cracker Pizza \n",
       "220                            Bio Cracker Pizza  \n",
       "Name: product_clean, Length: 221, dtype: object"
      ]
     },
     "execution_count": 7,
     "metadata": {},
     "output_type": "execute_result"
    }
   ],
   "source": [
    "koro[\"product_clean\"] = koro[\"product\"].apply(clean_name)\n",
    "koro[\"product_clean\"]"
   ]
  },
  {
   "cell_type": "markdown",
   "id": "c9f8d3df-ebf5-45b9-aade-a5266e336488",
   "metadata": {},
   "source": [
    "**Adding brand column**"
   ]
  },
  {
   "cell_type": "code",
   "execution_count": 8,
   "id": "4c80a36c-2113-4cb5-914a-6597c2439ee6",
   "metadata": {},
   "outputs": [
    {
     "data": {
      "text/html": [
       "<div>\n",
       "<style scoped>\n",
       "    .dataframe tbody tr th:only-of-type {\n",
       "        vertical-align: middle;\n",
       "    }\n",
       "\n",
       "    .dataframe tbody tr th {\n",
       "        vertical-align: top;\n",
       "    }\n",
       "\n",
       "    .dataframe thead th {\n",
       "        text-align: right;\n",
       "    }\n",
       "</style>\n",
       "<table border=\"1\" class=\"dataframe\">\n",
       "  <thead>\n",
       "    <tr style=\"text-align: right;\">\n",
       "      <th></th>\n",
       "      <th>product</th>\n",
       "      <th>links</th>\n",
       "      <th>price</th>\n",
       "      <th>weight</th>\n",
       "      <th>kcal</th>\n",
       "      <th>fat</th>\n",
       "      <th>sat_fat</th>\n",
       "      <th>carbs</th>\n",
       "      <th>sugar</th>\n",
       "      <th>fibre</th>\n",
       "      <th>protein</th>\n",
       "      <th>salt</th>\n",
       "      <th>ingredients</th>\n",
       "      <th>photo_link</th>\n",
       "      <th>product_clean</th>\n",
       "      <th>brand</th>\n",
       "    </tr>\n",
       "  </thead>\n",
       "  <tbody>\n",
       "    <tr>\n",
       "      <th>0</th>\n",
       "      <td>Soja Protein Crispies 58 % mit Kakao 1 kg</td>\n",
       "      <td>https://www.korodrogerie.de/soja-protein-crisp...</td>\n",
       "      <td>\\n\\n14,00 €\\n</td>\n",
       "      <td>1 kg</td>\n",
       "      <td>1535                                   / 362</td>\n",
       "      <td>1,9 g</td>\n",
       "      <td>0,4 g</td>\n",
       "      <td>28,2 g</td>\n",
       "      <td>9,1 g</td>\n",
       "      <td>1,8 g</td>\n",
       "      <td>58 g</td>\n",
       "      <td>2,7 g</td>\n",
       "      <td>74 % SOJAPROTEIN, Reisgrieß, Zucker, 4 % Kakao...</td>\n",
       "      <td>https://koro2.imgix.net/media/image/f1/50/81/C...</td>\n",
       "      <td>Soja Protein Crispies 58 % mit Kakao</td>\n",
       "      <td>Koro</td>\n",
       "    </tr>\n",
       "    <tr>\n",
       "      <th>1</th>\n",
       "      <td>Schokodrops mit Xylit 1 kg</td>\n",
       "      <td>https://www.korodrogerie.de/schokodrops-mit-xy...</td>\n",
       "      <td>\\n\\n21,00 €\\n</td>\n",
       "      <td>1 kg</td>\n",
       "      <td>2290                                   / 555</td>\n",
       "      <td>46 g</td>\n",
       "      <td>28 g</td>\n",
       "      <td>31 g</td>\n",
       "      <td>1,0 g</td>\n",
       "      <td>10 g</td>\n",
       "      <td>9,2 g</td>\n",
       "      <td>0,07 g</td>\n",
       "      <td>Kakaomasse, 25 % Süßungsmittel: Xylit; Kakaobu...</td>\n",
       "      <td>https://koro2.imgix.net/media/image/2c/01/f8/S...</td>\n",
       "      <td>Schokodrops mit Xylit</td>\n",
       "      <td>Koro</td>\n",
       "    </tr>\n",
       "    <tr>\n",
       "      <th>2</th>\n",
       "      <td>Schoko Protein Crunchies ohne Zuckerzusatz 1 kg</td>\n",
       "      <td>https://www.korodrogerie.de/schoko-protein-cru...</td>\n",
       "      <td>\\n\\n20,00 €\\n</td>\n",
       "      <td>1 kg</td>\n",
       "      <td>1875                                   / 448</td>\n",
       "      <td>28 g</td>\n",
       "      <td>12 g</td>\n",
       "      <td>37 g</td>\n",
       "      <td>1,4 g</td>\n",
       "      <td>8,3 g</td>\n",
       "      <td>21 g</td>\n",
       "      <td>0,36 g</td>\n",
       "      <td>Süßungsmittel: Maltit, ERDNUSSKERNE, 20 % Prot...</td>\n",
       "      <td>https://koro2.imgix.net/media/image/30/78/62/P...</td>\n",
       "      <td>Schoko Protein Crunchies ohne Zuckerzusatz</td>\n",
       "      <td>Koro</td>\n",
       "    </tr>\n",
       "    <tr>\n",
       "      <th>3</th>\n",
       "      <td>Soja Protein Crispies 60 % 1 kg</td>\n",
       "      <td>https://www.korodrogerie.de/soja-protein-crisp...</td>\n",
       "      <td>\\n\\n13,00 €\\n</td>\n",
       "      <td>1 kg</td>\n",
       "      <td>1541                                   / 363</td>\n",
       "      <td>1,8 g</td>\n",
       "      <td>0,2 g</td>\n",
       "      <td>26 g</td>\n",
       "      <td>0,8 g</td>\n",
       "      <td>0,8 g</td>\n",
       "      <td>60 g</td>\n",
       "      <td>3,2 g</td>\n",
       "      <td>68 % SOJAPROTEIN, Reisgriess, SOJAMEHL, Salz\\t...</td>\n",
       "      <td>https://koro2.imgix.net/media/image/84/55/ca/C...</td>\n",
       "      <td>Soja Protein Crispies 60 %</td>\n",
       "      <td>Koro</td>\n",
       "    </tr>\n",
       "    <tr>\n",
       "      <th>4</th>\n",
       "      <td>Bohnen-Erbsen-Mix geröstet &amp; gesalzen 1 kg</td>\n",
       "      <td>https://www.korodrogerie.de/bohnen-erbsen-mix-...</td>\n",
       "      <td>\\n\\n11,50 €\\n</td>\n",
       "      <td>1 kg</td>\n",
       "      <td>1766                                   / 421</td>\n",
       "      <td>14 g</td>\n",
       "      <td>2,3 g</td>\n",
       "      <td>35 g</td>\n",
       "      <td>6,7 g</td>\n",
       "      <td>10 g</td>\n",
       "      <td>33 g</td>\n",
       "      <td>1,0 g</td>\n",
       "      <td>19 % SCHWARZE SOJABOHNEN, 19 % EDAMAME-BOHNEN,...</td>\n",
       "      <td>https://koro2.imgix.net/media/image/a9/37/79/B...</td>\n",
       "      <td>Bohnen-Erbsen-Mix geröstet &amp; gesalzen</td>\n",
       "      <td>Koro</td>\n",
       "    </tr>\n",
       "  </tbody>\n",
       "</table>\n",
       "</div>"
      ],
      "text/plain": [
       "                                           product  \\\n",
       "0        Soja Protein Crispies 58 % mit Kakao 1 kg   \n",
       "1                       Schokodrops mit Xylit 1 kg   \n",
       "2  Schoko Protein Crunchies ohne Zuckerzusatz 1 kg   \n",
       "3                  Soja Protein Crispies 60 % 1 kg   \n",
       "4       Bohnen-Erbsen-Mix geröstet & gesalzen 1 kg   \n",
       "\n",
       "                                               links          price weight  \\\n",
       "0  https://www.korodrogerie.de/soja-protein-crisp...  \\n\\n14,00 €\\n   1 kg   \n",
       "1  https://www.korodrogerie.de/schokodrops-mit-xy...  \\n\\n21,00 €\\n   1 kg   \n",
       "2  https://www.korodrogerie.de/schoko-protein-cru...  \\n\\n20,00 €\\n   1 kg   \n",
       "3  https://www.korodrogerie.de/soja-protein-crisp...  \\n\\n13,00 €\\n   1 kg   \n",
       "4  https://www.korodrogerie.de/bohnen-erbsen-mix-...  \\n\\n11,50 €\\n   1 kg   \n",
       "\n",
       "                                           kcal    fat sat_fat   carbs  sugar  \\\n",
       "0  1535                                   / 362  1,9 g   0,4 g  28,2 g  9,1 g   \n",
       "1  2290                                   / 555   46 g    28 g    31 g  1,0 g   \n",
       "2  1875                                   / 448   28 g    12 g    37 g  1,4 g   \n",
       "3  1541                                   / 363  1,8 g   0,2 g    26 g  0,8 g   \n",
       "4  1766                                   / 421   14 g   2,3 g    35 g  6,7 g   \n",
       "\n",
       "   fibre protein    salt                                        ingredients  \\\n",
       "0  1,8 g    58 g   2,7 g  74 % SOJAPROTEIN, Reisgrieß, Zucker, 4 % Kakao...   \n",
       "1   10 g   9,2 g  0,07 g  Kakaomasse, 25 % Süßungsmittel: Xylit; Kakaobu...   \n",
       "2  8,3 g    21 g  0,36 g  Süßungsmittel: Maltit, ERDNUSSKERNE, 20 % Prot...   \n",
       "3  0,8 g    60 g   3,2 g  68 % SOJAPROTEIN, Reisgriess, SOJAMEHL, Salz\\t...   \n",
       "4   10 g    33 g   1,0 g  19 % SCHWARZE SOJABOHNEN, 19 % EDAMAME-BOHNEN,...   \n",
       "\n",
       "                                          photo_link  \\\n",
       "0  https://koro2.imgix.net/media/image/f1/50/81/C...   \n",
       "1  https://koro2.imgix.net/media/image/2c/01/f8/S...   \n",
       "2  https://koro2.imgix.net/media/image/30/78/62/P...   \n",
       "3  https://koro2.imgix.net/media/image/84/55/ca/C...   \n",
       "4  https://koro2.imgix.net/media/image/a9/37/79/B...   \n",
       "\n",
       "                                 product_clean brand  \n",
       "0        Soja Protein Crispies 58 % mit Kakao   Koro  \n",
       "1                       Schokodrops mit Xylit   Koro  \n",
       "2  Schoko Protein Crunchies ohne Zuckerzusatz   Koro  \n",
       "3                  Soja Protein Crispies 60 %   Koro  \n",
       "4       Bohnen-Erbsen-Mix geröstet & gesalzen   Koro  "
      ]
     },
     "execution_count": 8,
     "metadata": {},
     "output_type": "execute_result"
    }
   ],
   "source": [
    "koro['brand'] = 'Koro'\n",
    "koro.head()"
   ]
  },
  {
   "cell_type": "markdown",
   "id": "da90022b-a370-4609-bf0c-2865086fc77a",
   "metadata": {},
   "source": [
    "**Cleaning price column**"
   ]
  },
  {
   "cell_type": "code",
   "execution_count": 9,
   "id": "28ce9ef7-88b6-4eeb-9e88-199ad14f2472",
   "metadata": {},
   "outputs": [],
   "source": [
    "def clean_price(col):\n",
    "    \n",
    "    cleaned = []\n",
    "    \n",
    "    for p in col:\n",
    "        price = str(p).replace('\\n', '').replace('€', '').replace(',', '.')\n",
    "        cleaned.append(float(price))   \n",
    "        \n",
    "    return cleaned"
   ]
  },
  {
   "cell_type": "code",
   "execution_count": 10,
   "id": "3e592313-9c28-40d9-89c8-e103378622b0",
   "metadata": {},
   "outputs": [],
   "source": [
    "koro['price_clean'] = clean_price(koro['price'])"
   ]
  },
  {
   "cell_type": "code",
   "execution_count": 11,
   "id": "4ad37883-78ef-4eb7-abfc-c4a57a8db69c",
   "metadata": {},
   "outputs": [
    {
     "data": {
      "text/plain": [
       "0      14.0\n",
       "1      21.0\n",
       "2      20.0\n",
       "3      13.0\n",
       "4      11.5\n",
       "       ... \n",
       "216    18.5\n",
       "217    24.0\n",
       "218    20.0\n",
       "219     5.0\n",
       "220    27.5\n",
       "Name: price_clean, Length: 221, dtype: float64"
      ]
     },
     "execution_count": 11,
     "metadata": {},
     "output_type": "execute_result"
    }
   ],
   "source": [
    "koro['price_clean']"
   ]
  },
  {
   "cell_type": "markdown",
   "id": "418fb66a-c5be-4fc5-8e68-2cfb018a3757",
   "metadata": {},
   "source": [
    "**Cleaning weight column**"
   ]
  },
  {
   "cell_type": "code",
   "execution_count": 12,
   "id": "ff4bca46-feae-449e-8aac-b7d91178a1da",
   "metadata": {
    "tags": []
   },
   "outputs": [
    {
     "data": {
      "text/plain": [
       "<bound method Series.unique of 0            Soja Protein Crispies 58 % mit Kakao 1 kg\n",
       "1                           Schokodrops mit Xylit 1 kg\n",
       "2      Schoko Protein Crunchies ohne Zuckerzusatz 1 kg\n",
       "3                      Soja Protein Crispies 60 % 1 kg\n",
       "4           Bohnen-Erbsen-Mix geröstet & gesalzen 1 kg\n",
       "                            ...                       \n",
       "216                    Bio gepuffte Ananasstücke 500 g\n",
       "217         Bio gepuffte schwarze Johannisbeeren 500 g\n",
       "218                         Bio gepuffte Kirsche 500 g\n",
       "219                            Bio Cracker Pizza 500 g\n",
       "220                        Bio Cracker Pizza 6 x 500 g\n",
       "Name: product, Length: 221, dtype: object>"
      ]
     },
     "execution_count": 12,
     "metadata": {},
     "output_type": "execute_result"
    }
   ],
   "source": [
    "koro['product'].unique"
   ]
  },
  {
   "cell_type": "code",
   "execution_count": 13,
   "id": "cbbe0673-c09b-4e6b-9891-8da3af7078bf",
   "metadata": {},
   "outputs": [],
   "source": [
    "def clean_weight(x):\n",
    "    try:\n",
    "        res = re.findall(r'\\d{2,3}\\s\\w+|\\d{1}\\s\\w{2}|\\d{1}\\sx', str(x))\n",
    "        return res[0]\n",
    "    except: \n",
    "        return \"None\""
   ]
  },
  {
   "cell_type": "code",
   "execution_count": 14,
   "id": "2a8da24a-e0b8-4176-9074-bb02c05128e1",
   "metadata": {},
   "outputs": [],
   "source": [
    "koro[\"weight_clean\"] = koro[\"product\"].apply(clean_weight)"
   ]
  },
  {
   "cell_type": "code",
   "execution_count": 15,
   "id": "3cd66dce-b265-4783-bb46-f064831cbad5",
   "metadata": {
    "tags": []
   },
   "outputs": [
    {
     "data": {
      "text/plain": [
       "1 kg     39\n",
       "12 x     33\n",
       "500 g    20\n",
       "6 x      12\n",
       "15 x     12\n",
       "30 g     12\n",
       "50 g      9\n",
       "5 x       8\n",
       "10 x      6\n",
       "1 kg      6\n",
       "16 x      5\n",
       "20 x      4\n",
       "200 g     4\n",
       "2 x       4\n",
       "8 x       3\n",
       "90 g      3\n",
       "3 x       3\n",
       "750 g     3\n",
       "18 x      3\n",
       "250 g     3\n",
       "4 x       3\n",
       "45 g      2\n",
       "400 g     2\n",
       "100 g     2\n",
       "14 x      2\n",
       "5 kg      2\n",
       "60 g      2\n",
       "40 g      2\n",
       "7 Sa      2\n",
       "120 g     1\n",
       "170 g     1\n",
       "None      1\n",
       "250 g     1\n",
       "25 x      1\n",
       "25 kg     1\n",
       "750 g     1\n",
       "150 g     1\n",
       "55 g      1\n",
       "13 x      1\n",
       "Name: weight_clean, dtype: int64"
      ]
     },
     "execution_count": 15,
     "metadata": {},
     "output_type": "execute_result"
    }
   ],
   "source": [
    "koro['weight_clean'].value_counts()"
   ]
  },
  {
   "cell_type": "markdown",
   "id": "823ac1cd-66a5-4209-b135-6997e444cca5",
   "metadata": {},
   "source": [
    "**Cleaning nutrient columns**"
   ]
  },
  {
   "cell_type": "code",
   "execution_count": 16,
   "id": "2d176dbe-3796-4588-9635-e81ec815d118",
   "metadata": {},
   "outputs": [],
   "source": [
    "def nutrient_cleaner(col):\n",
    "    \n",
    "    cleaned = []\n",
    "    \n",
    "    for n in col:\n",
    "        n = str(n).replace('g', '').replace(',', '')\n",
    "        cleaned.append(float(n))\n",
    "    \n",
    "    return cleaned"
   ]
  },
  {
   "cell_type": "code",
   "execution_count": 17,
   "id": "3fbed78c-af16-485e-aad4-d894184fc224",
   "metadata": {},
   "outputs": [
    {
     "data": {
      "text/plain": [
       "0      19.0\n",
       "1      46.0\n",
       "2      28.0\n",
       "3      18.0\n",
       "4      14.0\n",
       "       ... \n",
       "216     0.0\n",
       "217    23.0\n",
       "218     5.0\n",
       "219    13.0\n",
       "220    13.0\n",
       "Name: fat_clean, Length: 221, dtype: float64"
      ]
     },
     "execution_count": 17,
     "metadata": {},
     "output_type": "execute_result"
    }
   ],
   "source": [
    "koro['fat_clean'] = nutrient_cleaner(koro['fat'])\n",
    "koro['fat_clean']"
   ]
  },
  {
   "cell_type": "code",
   "execution_count": 18,
   "id": "0d7e7ca1-5531-4a68-a8ef-2d659776b789",
   "metadata": {},
   "outputs": [],
   "source": [
    "def batch_cleaning_nutrients(df, in_columns=[]):\n",
    "    \n",
    "    for col in df.columns:\n",
    "        if col in in_columns:\n",
    "            \n",
    "            df[col] = nutrient_cleaner(df[col])\n",
    "            \n",
    "    return df"
   ]
  },
  {
   "cell_type": "code",
   "execution_count": 19,
   "id": "1f585f87-7334-44d4-9e07-0a060799ad51",
   "metadata": {},
   "outputs": [
    {
     "data": {
      "text/html": [
       "<div>\n",
       "<style scoped>\n",
       "    .dataframe tbody tr th:only-of-type {\n",
       "        vertical-align: middle;\n",
       "    }\n",
       "\n",
       "    .dataframe tbody tr th {\n",
       "        vertical-align: top;\n",
       "    }\n",
       "\n",
       "    .dataframe thead th {\n",
       "        text-align: right;\n",
       "    }\n",
       "</style>\n",
       "<table border=\"1\" class=\"dataframe\">\n",
       "  <thead>\n",
       "    <tr style=\"text-align: right;\">\n",
       "      <th></th>\n",
       "      <th>product</th>\n",
       "      <th>links</th>\n",
       "      <th>price</th>\n",
       "      <th>weight</th>\n",
       "      <th>kcal</th>\n",
       "      <th>fat</th>\n",
       "      <th>sat_fat</th>\n",
       "      <th>carbs</th>\n",
       "      <th>sugar</th>\n",
       "      <th>fibre</th>\n",
       "      <th>protein</th>\n",
       "      <th>salt</th>\n",
       "      <th>ingredients</th>\n",
       "      <th>photo_link</th>\n",
       "      <th>product_clean</th>\n",
       "      <th>brand</th>\n",
       "      <th>price_clean</th>\n",
       "      <th>weight_clean</th>\n",
       "      <th>fat_clean</th>\n",
       "    </tr>\n",
       "  </thead>\n",
       "  <tbody>\n",
       "    <tr>\n",
       "      <th>0</th>\n",
       "      <td>Soja Protein Crispies 58 % mit Kakao 1 kg</td>\n",
       "      <td>https://www.korodrogerie.de/soja-protein-crisp...</td>\n",
       "      <td>\\n\\n14,00 €\\n</td>\n",
       "      <td>1 kg</td>\n",
       "      <td>1535                                   / 362</td>\n",
       "      <td>19.0</td>\n",
       "      <td>4.0</td>\n",
       "      <td>282.0</td>\n",
       "      <td>91.0</td>\n",
       "      <td>18.0</td>\n",
       "      <td>58.0</td>\n",
       "      <td>27.0</td>\n",
       "      <td>74 % SOJAPROTEIN, Reisgrieß, Zucker, 4 % Kakao...</td>\n",
       "      <td>https://koro2.imgix.net/media/image/f1/50/81/C...</td>\n",
       "      <td>Soja Protein Crispies 58 % mit Kakao</td>\n",
       "      <td>Koro</td>\n",
       "      <td>14.0</td>\n",
       "      <td>1 kg</td>\n",
       "      <td>19.0</td>\n",
       "    </tr>\n",
       "    <tr>\n",
       "      <th>1</th>\n",
       "      <td>Schokodrops mit Xylit 1 kg</td>\n",
       "      <td>https://www.korodrogerie.de/schokodrops-mit-xy...</td>\n",
       "      <td>\\n\\n21,00 €\\n</td>\n",
       "      <td>1 kg</td>\n",
       "      <td>2290                                   / 555</td>\n",
       "      <td>46.0</td>\n",
       "      <td>28.0</td>\n",
       "      <td>31.0</td>\n",
       "      <td>10.0</td>\n",
       "      <td>10.0</td>\n",
       "      <td>92.0</td>\n",
       "      <td>7.0</td>\n",
       "      <td>Kakaomasse, 25 % Süßungsmittel: Xylit; Kakaobu...</td>\n",
       "      <td>https://koro2.imgix.net/media/image/2c/01/f8/S...</td>\n",
       "      <td>Schokodrops mit Xylit</td>\n",
       "      <td>Koro</td>\n",
       "      <td>21.0</td>\n",
       "      <td>1 kg</td>\n",
       "      <td>46.0</td>\n",
       "    </tr>\n",
       "    <tr>\n",
       "      <th>2</th>\n",
       "      <td>Schoko Protein Crunchies ohne Zuckerzusatz 1 kg</td>\n",
       "      <td>https://www.korodrogerie.de/schoko-protein-cru...</td>\n",
       "      <td>\\n\\n20,00 €\\n</td>\n",
       "      <td>1 kg</td>\n",
       "      <td>1875                                   / 448</td>\n",
       "      <td>28.0</td>\n",
       "      <td>12.0</td>\n",
       "      <td>37.0</td>\n",
       "      <td>14.0</td>\n",
       "      <td>83.0</td>\n",
       "      <td>21.0</td>\n",
       "      <td>36.0</td>\n",
       "      <td>Süßungsmittel: Maltit, ERDNUSSKERNE, 20 % Prot...</td>\n",
       "      <td>https://koro2.imgix.net/media/image/30/78/62/P...</td>\n",
       "      <td>Schoko Protein Crunchies ohne Zuckerzusatz</td>\n",
       "      <td>Koro</td>\n",
       "      <td>20.0</td>\n",
       "      <td>1 kg</td>\n",
       "      <td>28.0</td>\n",
       "    </tr>\n",
       "    <tr>\n",
       "      <th>3</th>\n",
       "      <td>Soja Protein Crispies 60 % 1 kg</td>\n",
       "      <td>https://www.korodrogerie.de/soja-protein-crisp...</td>\n",
       "      <td>\\n\\n13,00 €\\n</td>\n",
       "      <td>1 kg</td>\n",
       "      <td>1541                                   / 363</td>\n",
       "      <td>18.0</td>\n",
       "      <td>2.0</td>\n",
       "      <td>26.0</td>\n",
       "      <td>8.0</td>\n",
       "      <td>8.0</td>\n",
       "      <td>60.0</td>\n",
       "      <td>32.0</td>\n",
       "      <td>68 % SOJAPROTEIN, Reisgriess, SOJAMEHL, Salz\\t...</td>\n",
       "      <td>https://koro2.imgix.net/media/image/84/55/ca/C...</td>\n",
       "      <td>Soja Protein Crispies 60 %</td>\n",
       "      <td>Koro</td>\n",
       "      <td>13.0</td>\n",
       "      <td>1 kg</td>\n",
       "      <td>18.0</td>\n",
       "    </tr>\n",
       "    <tr>\n",
       "      <th>4</th>\n",
       "      <td>Bohnen-Erbsen-Mix geröstet &amp; gesalzen 1 kg</td>\n",
       "      <td>https://www.korodrogerie.de/bohnen-erbsen-mix-...</td>\n",
       "      <td>\\n\\n11,50 €\\n</td>\n",
       "      <td>1 kg</td>\n",
       "      <td>1766                                   / 421</td>\n",
       "      <td>14.0</td>\n",
       "      <td>23.0</td>\n",
       "      <td>35.0</td>\n",
       "      <td>67.0</td>\n",
       "      <td>10.0</td>\n",
       "      <td>33.0</td>\n",
       "      <td>10.0</td>\n",
       "      <td>19 % SCHWARZE SOJABOHNEN, 19 % EDAMAME-BOHNEN,...</td>\n",
       "      <td>https://koro2.imgix.net/media/image/a9/37/79/B...</td>\n",
       "      <td>Bohnen-Erbsen-Mix geröstet &amp; gesalzen</td>\n",
       "      <td>Koro</td>\n",
       "      <td>11.5</td>\n",
       "      <td>1 kg</td>\n",
       "      <td>14.0</td>\n",
       "    </tr>\n",
       "    <tr>\n",
       "      <th>...</th>\n",
       "      <td>...</td>\n",
       "      <td>...</td>\n",
       "      <td>...</td>\n",
       "      <td>...</td>\n",
       "      <td>...</td>\n",
       "      <td>...</td>\n",
       "      <td>...</td>\n",
       "      <td>...</td>\n",
       "      <td>...</td>\n",
       "      <td>...</td>\n",
       "      <td>...</td>\n",
       "      <td>...</td>\n",
       "      <td>...</td>\n",
       "      <td>...</td>\n",
       "      <td>...</td>\n",
       "      <td>...</td>\n",
       "      <td>...</td>\n",
       "      <td>...</td>\n",
       "      <td>...</td>\n",
       "    </tr>\n",
       "    <tr>\n",
       "      <th>216</th>\n",
       "      <td>Bio gepuffte Ananasstücke 500 g</td>\n",
       "      <td>https://www.korodrogerie.de/bio-gepuffte-anana...</td>\n",
       "      <td>\\n\\n18,50 €\\n</td>\n",
       "      <td>Polen</td>\n",
       "      <td>1612                                   / 380</td>\n",
       "      <td>0.0</td>\n",
       "      <td>0.0</td>\n",
       "      <td>87.0</td>\n",
       "      <td>85.0</td>\n",
       "      <td>79.0</td>\n",
       "      <td>30.0</td>\n",
       "      <td>0.0</td>\n",
       "      <td>KoRo Handels GmbHKoppenplatz 9, 10115 Berlin</td>\n",
       "      <td>https://koro2.imgix.net/media/image/b8/cc/8c/B...</td>\n",
       "      <td>Bio gepuffte Ananasstücke</td>\n",
       "      <td>Koro</td>\n",
       "      <td>18.5</td>\n",
       "      <td>500 g</td>\n",
       "      <td>0.0</td>\n",
       "    </tr>\n",
       "    <tr>\n",
       "      <th>217</th>\n",
       "      <td>Bio gepuffte schwarze Johannisbeeren 500 g</td>\n",
       "      <td>https://www.korodrogerie.de/bio-gepuffte-schwa...</td>\n",
       "      <td>\\n\\n24,00 €\\n</td>\n",
       "      <td>Polen</td>\n",
       "      <td>1336                                   / 319</td>\n",
       "      <td>23.0</td>\n",
       "      <td>4.0</td>\n",
       "      <td>54.0</td>\n",
       "      <td>44.0</td>\n",
       "      <td>31.0</td>\n",
       "      <td>50.0</td>\n",
       "      <td>2.0</td>\n",
       "      <td>KoRo Handels GmbHKoppenplatz 9, 10115 Berlin</td>\n",
       "      <td>https://koro2.imgix.net/media/image/47/fa/41/B...</td>\n",
       "      <td>Bio gepuffte schwarze Johannisbeeren</td>\n",
       "      <td>Koro</td>\n",
       "      <td>24.0</td>\n",
       "      <td>500 g</td>\n",
       "      <td>23.0</td>\n",
       "    </tr>\n",
       "    <tr>\n",
       "      <th>218</th>\n",
       "      <td>Bio gepuffte Kirsche 500 g</td>\n",
       "      <td>https://www.korodrogerie.de/bio-gepuffte-kirsc...</td>\n",
       "      <td>\\n\\n20,00 €\\n</td>\n",
       "      <td>Polen</td>\n",
       "      <td>1472                                   / 348</td>\n",
       "      <td>5.0</td>\n",
       "      <td>2.0</td>\n",
       "      <td>75.0</td>\n",
       "      <td>41.0</td>\n",
       "      <td>95.0</td>\n",
       "      <td>60.0</td>\n",
       "      <td>2.0</td>\n",
       "      <td>KoRo Handels GmbHKoppenplatz 9, 10115 Berlin</td>\n",
       "      <td>https://koro2.imgix.net/media/image/38/f1/16/P...</td>\n",
       "      <td>Bio gepuffte Kirsche</td>\n",
       "      <td>Koro</td>\n",
       "      <td>20.0</td>\n",
       "      <td>500 g</td>\n",
       "      <td>5.0</td>\n",
       "    </tr>\n",
       "    <tr>\n",
       "      <th>219</th>\n",
       "      <td>Bio Cracker Pizza 500 g</td>\n",
       "      <td>https://www.korodrogerie.de/bio-cracker-pizza-...</td>\n",
       "      <td>\\n\\n5,00 €\\n</td>\n",
       "      <td>Italien</td>\n",
       "      <td>1830                                    / 435</td>\n",
       "      <td>13.0</td>\n",
       "      <td>11.0</td>\n",
       "      <td>67.0</td>\n",
       "      <td>23.0</td>\n",
       "      <td>29.0</td>\n",
       "      <td>10.0</td>\n",
       "      <td>29.0</td>\n",
       "      <td>KoRo Handels GmbHKoppenplatz 9, 10115 Berlin</td>\n",
       "      <td>https://koro2.imgix.net/media/image/7e/83/e0/C...</td>\n",
       "      <td>Bio Cracker Pizza</td>\n",
       "      <td>Koro</td>\n",
       "      <td>5.0</td>\n",
       "      <td>500 g</td>\n",
       "      <td>13.0</td>\n",
       "    </tr>\n",
       "    <tr>\n",
       "      <th>220</th>\n",
       "      <td>Bio Cracker Pizza 6 x 500 g</td>\n",
       "      <td>https://www.korodrogerie.de/bio-cracker-pizza-...</td>\n",
       "      <td>\\n\\n27,50 €\\n</td>\n",
       "      <td>Italien</td>\n",
       "      <td>1830                                   / 435</td>\n",
       "      <td>13.0</td>\n",
       "      <td>11.0</td>\n",
       "      <td>67.0</td>\n",
       "      <td>23.0</td>\n",
       "      <td>29.0</td>\n",
       "      <td>10.0</td>\n",
       "      <td>29.0</td>\n",
       "      <td>KoRo Handels GmbHKoppenplatz 9, 10115 Berlin</td>\n",
       "      <td>https://koro2.imgix.net/media/image/7e/83/e0/C...</td>\n",
       "      <td>Bio Cracker Pizza</td>\n",
       "      <td>Koro</td>\n",
       "      <td>27.5</td>\n",
       "      <td>6 x</td>\n",
       "      <td>13.0</td>\n",
       "    </tr>\n",
       "  </tbody>\n",
       "</table>\n",
       "<p>221 rows × 19 columns</p>\n",
       "</div>"
      ],
      "text/plain": [
       "                                             product  \\\n",
       "0          Soja Protein Crispies 58 % mit Kakao 1 kg   \n",
       "1                         Schokodrops mit Xylit 1 kg   \n",
       "2    Schoko Protein Crunchies ohne Zuckerzusatz 1 kg   \n",
       "3                    Soja Protein Crispies 60 % 1 kg   \n",
       "4         Bohnen-Erbsen-Mix geröstet & gesalzen 1 kg   \n",
       "..                                               ...   \n",
       "216                  Bio gepuffte Ananasstücke 500 g   \n",
       "217       Bio gepuffte schwarze Johannisbeeren 500 g   \n",
       "218                       Bio gepuffte Kirsche 500 g   \n",
       "219                          Bio Cracker Pizza 500 g   \n",
       "220                      Bio Cracker Pizza 6 x 500 g   \n",
       "\n",
       "                                                 links          price  \\\n",
       "0    https://www.korodrogerie.de/soja-protein-crisp...  \\n\\n14,00 €\\n   \n",
       "1    https://www.korodrogerie.de/schokodrops-mit-xy...  \\n\\n21,00 €\\n   \n",
       "2    https://www.korodrogerie.de/schoko-protein-cru...  \\n\\n20,00 €\\n   \n",
       "3    https://www.korodrogerie.de/soja-protein-crisp...  \\n\\n13,00 €\\n   \n",
       "4    https://www.korodrogerie.de/bohnen-erbsen-mix-...  \\n\\n11,50 €\\n   \n",
       "..                                                 ...            ...   \n",
       "216  https://www.korodrogerie.de/bio-gepuffte-anana...  \\n\\n18,50 €\\n   \n",
       "217  https://www.korodrogerie.de/bio-gepuffte-schwa...  \\n\\n24,00 €\\n   \n",
       "218  https://www.korodrogerie.de/bio-gepuffte-kirsc...  \\n\\n20,00 €\\n   \n",
       "219  https://www.korodrogerie.de/bio-cracker-pizza-...   \\n\\n5,00 €\\n   \n",
       "220  https://www.korodrogerie.de/bio-cracker-pizza-...  \\n\\n27,50 €\\n   \n",
       "\n",
       "      weight                                           kcal   fat  sat_fat  \\\n",
       "0       1 kg   1535                                   / 362  19.0      4.0   \n",
       "1       1 kg   2290                                   / 555  46.0     28.0   \n",
       "2       1 kg   1875                                   / 448  28.0     12.0   \n",
       "3       1 kg   1541                                   / 363  18.0      2.0   \n",
       "4       1 kg   1766                                   / 421  14.0     23.0   \n",
       "..       ...                                            ...   ...      ...   \n",
       "216    Polen   1612                                   / 380   0.0      0.0   \n",
       "217    Polen   1336                                   / 319  23.0      4.0   \n",
       "218    Polen   1472                                   / 348   5.0      2.0   \n",
       "219  Italien  1830                                    / 435  13.0     11.0   \n",
       "220  Italien   1830                                   / 435  13.0     11.0   \n",
       "\n",
       "     carbs  sugar  fibre  protein  salt  \\\n",
       "0    282.0   91.0   18.0     58.0  27.0   \n",
       "1     31.0   10.0   10.0     92.0   7.0   \n",
       "2     37.0   14.0   83.0     21.0  36.0   \n",
       "3     26.0    8.0    8.0     60.0  32.0   \n",
       "4     35.0   67.0   10.0     33.0  10.0   \n",
       "..     ...    ...    ...      ...   ...   \n",
       "216   87.0   85.0   79.0     30.0   0.0   \n",
       "217   54.0   44.0   31.0     50.0   2.0   \n",
       "218   75.0   41.0   95.0     60.0   2.0   \n",
       "219   67.0   23.0   29.0     10.0  29.0   \n",
       "220   67.0   23.0   29.0     10.0  29.0   \n",
       "\n",
       "                                           ingredients  \\\n",
       "0    74 % SOJAPROTEIN, Reisgrieß, Zucker, 4 % Kakao...   \n",
       "1    Kakaomasse, 25 % Süßungsmittel: Xylit; Kakaobu...   \n",
       "2    Süßungsmittel: Maltit, ERDNUSSKERNE, 20 % Prot...   \n",
       "3    68 % SOJAPROTEIN, Reisgriess, SOJAMEHL, Salz\\t...   \n",
       "4    19 % SCHWARZE SOJABOHNEN, 19 % EDAMAME-BOHNEN,...   \n",
       "..                                                 ...   \n",
       "216       KoRo Handels GmbHKoppenplatz 9, 10115 Berlin   \n",
       "217       KoRo Handels GmbHKoppenplatz 9, 10115 Berlin   \n",
       "218       KoRo Handels GmbHKoppenplatz 9, 10115 Berlin   \n",
       "219       KoRo Handels GmbHKoppenplatz 9, 10115 Berlin   \n",
       "220       KoRo Handels GmbHKoppenplatz 9, 10115 Berlin   \n",
       "\n",
       "                                            photo_link  \\\n",
       "0    https://koro2.imgix.net/media/image/f1/50/81/C...   \n",
       "1    https://koro2.imgix.net/media/image/2c/01/f8/S...   \n",
       "2    https://koro2.imgix.net/media/image/30/78/62/P...   \n",
       "3    https://koro2.imgix.net/media/image/84/55/ca/C...   \n",
       "4    https://koro2.imgix.net/media/image/a9/37/79/B...   \n",
       "..                                                 ...   \n",
       "216  https://koro2.imgix.net/media/image/b8/cc/8c/B...   \n",
       "217  https://koro2.imgix.net/media/image/47/fa/41/B...   \n",
       "218  https://koro2.imgix.net/media/image/38/f1/16/P...   \n",
       "219  https://koro2.imgix.net/media/image/7e/83/e0/C...   \n",
       "220  https://koro2.imgix.net/media/image/7e/83/e0/C...   \n",
       "\n",
       "                                   product_clean brand  price_clean  \\\n",
       "0          Soja Protein Crispies 58 % mit Kakao   Koro         14.0   \n",
       "1                         Schokodrops mit Xylit   Koro         21.0   \n",
       "2    Schoko Protein Crunchies ohne Zuckerzusatz   Koro         20.0   \n",
       "3                    Soja Protein Crispies 60 %   Koro         13.0   \n",
       "4         Bohnen-Erbsen-Mix geröstet & gesalzen   Koro         11.5   \n",
       "..                                           ...   ...          ...   \n",
       "216                   Bio gepuffte Ananasstücke   Koro         18.5   \n",
       "217        Bio gepuffte schwarze Johannisbeeren   Koro         24.0   \n",
       "218                        Bio gepuffte Kirsche   Koro         20.0   \n",
       "219                           Bio Cracker Pizza   Koro          5.0   \n",
       "220                          Bio Cracker Pizza    Koro         27.5   \n",
       "\n",
       "    weight_clean  fat_clean  \n",
       "0           1 kg       19.0  \n",
       "1           1 kg       46.0  \n",
       "2           1 kg       28.0  \n",
       "3           1 kg       18.0  \n",
       "4           1 kg       14.0  \n",
       "..           ...        ...  \n",
       "216        500 g        0.0  \n",
       "217        500 g       23.0  \n",
       "218        500 g        5.0  \n",
       "219        500 g       13.0  \n",
       "220          6 x       13.0  \n",
       "\n",
       "[221 rows x 19 columns]"
      ]
     },
     "execution_count": 19,
     "metadata": {},
     "output_type": "execute_result"
    }
   ],
   "source": [
    "batch_cleaning_nutrients(koro, in_columns=['fat','sat_fat', 'carbs', 'sugar', 'fibre', 'protein', 'salt'])"
   ]
  },
  {
   "cell_type": "markdown",
   "id": "4b8db477-1398-43bb-a906-bc2f68999647",
   "metadata": {},
   "source": [
    "**Splitting kcal column**"
   ]
  },
  {
   "cell_type": "code",
   "execution_count": 20,
   "id": "fc9f2f40-f216-4799-bdd5-25746a1b1a8b",
   "metadata": {},
   "outputs": [],
   "source": [
    "koro[['kj_clean','kcal_clean']] = koro['kcal'].str.split('/', expand=True)"
   ]
  },
  {
   "cell_type": "code",
   "execution_count": 21,
   "id": "b570ee58-b32e-4058-850a-75e1e461caaa",
   "metadata": {},
   "outputs": [],
   "source": [
    "koro['kj_clean'] = koro['kj_clean'].astype('float')\n",
    "koro['kcal_clean'] = koro['kcal_clean'].astype('float')"
   ]
  },
  {
   "cell_type": "code",
   "execution_count": 22,
   "id": "f44b4e9c-5564-485c-87fd-4db56c0bcaf0",
   "metadata": {},
   "outputs": [
    {
     "data": {
      "text/html": [
       "<div>\n",
       "<style scoped>\n",
       "    .dataframe tbody tr th:only-of-type {\n",
       "        vertical-align: middle;\n",
       "    }\n",
       "\n",
       "    .dataframe tbody tr th {\n",
       "        vertical-align: top;\n",
       "    }\n",
       "\n",
       "    .dataframe thead th {\n",
       "        text-align: right;\n",
       "    }\n",
       "</style>\n",
       "<table border=\"1\" class=\"dataframe\">\n",
       "  <thead>\n",
       "    <tr style=\"text-align: right;\">\n",
       "      <th></th>\n",
       "      <th>product</th>\n",
       "      <th>links</th>\n",
       "      <th>price</th>\n",
       "      <th>weight</th>\n",
       "      <th>kcal</th>\n",
       "      <th>fat</th>\n",
       "      <th>sat_fat</th>\n",
       "      <th>carbs</th>\n",
       "      <th>sugar</th>\n",
       "      <th>fibre</th>\n",
       "      <th>...</th>\n",
       "      <th>salt</th>\n",
       "      <th>ingredients</th>\n",
       "      <th>photo_link</th>\n",
       "      <th>product_clean</th>\n",
       "      <th>brand</th>\n",
       "      <th>price_clean</th>\n",
       "      <th>weight_clean</th>\n",
       "      <th>fat_clean</th>\n",
       "      <th>kj_clean</th>\n",
       "      <th>kcal_clean</th>\n",
       "    </tr>\n",
       "  </thead>\n",
       "  <tbody>\n",
       "    <tr>\n",
       "      <th>0</th>\n",
       "      <td>Soja Protein Crispies 58 % mit Kakao 1 kg</td>\n",
       "      <td>https://www.korodrogerie.de/soja-protein-crisp...</td>\n",
       "      <td>\\n\\n14,00 €\\n</td>\n",
       "      <td>1 kg</td>\n",
       "      <td>1535                                   / 362</td>\n",
       "      <td>19.0</td>\n",
       "      <td>4.0</td>\n",
       "      <td>282.0</td>\n",
       "      <td>91.0</td>\n",
       "      <td>18.0</td>\n",
       "      <td>...</td>\n",
       "      <td>27.0</td>\n",
       "      <td>74 % SOJAPROTEIN, Reisgrieß, Zucker, 4 % Kakao...</td>\n",
       "      <td>https://koro2.imgix.net/media/image/f1/50/81/C...</td>\n",
       "      <td>Soja Protein Crispies 58 % mit Kakao</td>\n",
       "      <td>Koro</td>\n",
       "      <td>14.0</td>\n",
       "      <td>1 kg</td>\n",
       "      <td>19.0</td>\n",
       "      <td>1535.0</td>\n",
       "      <td>362.0</td>\n",
       "    </tr>\n",
       "    <tr>\n",
       "      <th>1</th>\n",
       "      <td>Schokodrops mit Xylit 1 kg</td>\n",
       "      <td>https://www.korodrogerie.de/schokodrops-mit-xy...</td>\n",
       "      <td>\\n\\n21,00 €\\n</td>\n",
       "      <td>1 kg</td>\n",
       "      <td>2290                                   / 555</td>\n",
       "      <td>46.0</td>\n",
       "      <td>28.0</td>\n",
       "      <td>31.0</td>\n",
       "      <td>10.0</td>\n",
       "      <td>10.0</td>\n",
       "      <td>...</td>\n",
       "      <td>7.0</td>\n",
       "      <td>Kakaomasse, 25 % Süßungsmittel: Xylit; Kakaobu...</td>\n",
       "      <td>https://koro2.imgix.net/media/image/2c/01/f8/S...</td>\n",
       "      <td>Schokodrops mit Xylit</td>\n",
       "      <td>Koro</td>\n",
       "      <td>21.0</td>\n",
       "      <td>1 kg</td>\n",
       "      <td>46.0</td>\n",
       "      <td>2290.0</td>\n",
       "      <td>555.0</td>\n",
       "    </tr>\n",
       "    <tr>\n",
       "      <th>2</th>\n",
       "      <td>Schoko Protein Crunchies ohne Zuckerzusatz 1 kg</td>\n",
       "      <td>https://www.korodrogerie.de/schoko-protein-cru...</td>\n",
       "      <td>\\n\\n20,00 €\\n</td>\n",
       "      <td>1 kg</td>\n",
       "      <td>1875                                   / 448</td>\n",
       "      <td>28.0</td>\n",
       "      <td>12.0</td>\n",
       "      <td>37.0</td>\n",
       "      <td>14.0</td>\n",
       "      <td>83.0</td>\n",
       "      <td>...</td>\n",
       "      <td>36.0</td>\n",
       "      <td>Süßungsmittel: Maltit, ERDNUSSKERNE, 20 % Prot...</td>\n",
       "      <td>https://koro2.imgix.net/media/image/30/78/62/P...</td>\n",
       "      <td>Schoko Protein Crunchies ohne Zuckerzusatz</td>\n",
       "      <td>Koro</td>\n",
       "      <td>20.0</td>\n",
       "      <td>1 kg</td>\n",
       "      <td>28.0</td>\n",
       "      <td>1875.0</td>\n",
       "      <td>448.0</td>\n",
       "    </tr>\n",
       "    <tr>\n",
       "      <th>3</th>\n",
       "      <td>Soja Protein Crispies 60 % 1 kg</td>\n",
       "      <td>https://www.korodrogerie.de/soja-protein-crisp...</td>\n",
       "      <td>\\n\\n13,00 €\\n</td>\n",
       "      <td>1 kg</td>\n",
       "      <td>1541                                   / 363</td>\n",
       "      <td>18.0</td>\n",
       "      <td>2.0</td>\n",
       "      <td>26.0</td>\n",
       "      <td>8.0</td>\n",
       "      <td>8.0</td>\n",
       "      <td>...</td>\n",
       "      <td>32.0</td>\n",
       "      <td>68 % SOJAPROTEIN, Reisgriess, SOJAMEHL, Salz\\t...</td>\n",
       "      <td>https://koro2.imgix.net/media/image/84/55/ca/C...</td>\n",
       "      <td>Soja Protein Crispies 60 %</td>\n",
       "      <td>Koro</td>\n",
       "      <td>13.0</td>\n",
       "      <td>1 kg</td>\n",
       "      <td>18.0</td>\n",
       "      <td>1541.0</td>\n",
       "      <td>363.0</td>\n",
       "    </tr>\n",
       "    <tr>\n",
       "      <th>4</th>\n",
       "      <td>Bohnen-Erbsen-Mix geröstet &amp; gesalzen 1 kg</td>\n",
       "      <td>https://www.korodrogerie.de/bohnen-erbsen-mix-...</td>\n",
       "      <td>\\n\\n11,50 €\\n</td>\n",
       "      <td>1 kg</td>\n",
       "      <td>1766                                   / 421</td>\n",
       "      <td>14.0</td>\n",
       "      <td>23.0</td>\n",
       "      <td>35.0</td>\n",
       "      <td>67.0</td>\n",
       "      <td>10.0</td>\n",
       "      <td>...</td>\n",
       "      <td>10.0</td>\n",
       "      <td>19 % SCHWARZE SOJABOHNEN, 19 % EDAMAME-BOHNEN,...</td>\n",
       "      <td>https://koro2.imgix.net/media/image/a9/37/79/B...</td>\n",
       "      <td>Bohnen-Erbsen-Mix geröstet &amp; gesalzen</td>\n",
       "      <td>Koro</td>\n",
       "      <td>11.5</td>\n",
       "      <td>1 kg</td>\n",
       "      <td>14.0</td>\n",
       "      <td>1766.0</td>\n",
       "      <td>421.0</td>\n",
       "    </tr>\n",
       "  </tbody>\n",
       "</table>\n",
       "<p>5 rows × 21 columns</p>\n",
       "</div>"
      ],
      "text/plain": [
       "                                           product  \\\n",
       "0        Soja Protein Crispies 58 % mit Kakao 1 kg   \n",
       "1                       Schokodrops mit Xylit 1 kg   \n",
       "2  Schoko Protein Crunchies ohne Zuckerzusatz 1 kg   \n",
       "3                  Soja Protein Crispies 60 % 1 kg   \n",
       "4       Bohnen-Erbsen-Mix geröstet & gesalzen 1 kg   \n",
       "\n",
       "                                               links          price weight  \\\n",
       "0  https://www.korodrogerie.de/soja-protein-crisp...  \\n\\n14,00 €\\n   1 kg   \n",
       "1  https://www.korodrogerie.de/schokodrops-mit-xy...  \\n\\n21,00 €\\n   1 kg   \n",
       "2  https://www.korodrogerie.de/schoko-protein-cru...  \\n\\n20,00 €\\n   1 kg   \n",
       "3  https://www.korodrogerie.de/soja-protein-crisp...  \\n\\n13,00 €\\n   1 kg   \n",
       "4  https://www.korodrogerie.de/bohnen-erbsen-mix-...  \\n\\n11,50 €\\n   1 kg   \n",
       "\n",
       "                                           kcal   fat  sat_fat  carbs  sugar  \\\n",
       "0  1535                                   / 362  19.0      4.0  282.0   91.0   \n",
       "1  2290                                   / 555  46.0     28.0   31.0   10.0   \n",
       "2  1875                                   / 448  28.0     12.0   37.0   14.0   \n",
       "3  1541                                   / 363  18.0      2.0   26.0    8.0   \n",
       "4  1766                                   / 421  14.0     23.0   35.0   67.0   \n",
       "\n",
       "   fibre  ...  salt                                        ingredients  \\\n",
       "0   18.0  ...  27.0  74 % SOJAPROTEIN, Reisgrieß, Zucker, 4 % Kakao...   \n",
       "1   10.0  ...   7.0  Kakaomasse, 25 % Süßungsmittel: Xylit; Kakaobu...   \n",
       "2   83.0  ...  36.0  Süßungsmittel: Maltit, ERDNUSSKERNE, 20 % Prot...   \n",
       "3    8.0  ...  32.0  68 % SOJAPROTEIN, Reisgriess, SOJAMEHL, Salz\\t...   \n",
       "4   10.0  ...  10.0  19 % SCHWARZE SOJABOHNEN, 19 % EDAMAME-BOHNEN,...   \n",
       "\n",
       "                                          photo_link  \\\n",
       "0  https://koro2.imgix.net/media/image/f1/50/81/C...   \n",
       "1  https://koro2.imgix.net/media/image/2c/01/f8/S...   \n",
       "2  https://koro2.imgix.net/media/image/30/78/62/P...   \n",
       "3  https://koro2.imgix.net/media/image/84/55/ca/C...   \n",
       "4  https://koro2.imgix.net/media/image/a9/37/79/B...   \n",
       "\n",
       "                                 product_clean brand price_clean  \\\n",
       "0        Soja Protein Crispies 58 % mit Kakao   Koro        14.0   \n",
       "1                       Schokodrops mit Xylit   Koro        21.0   \n",
       "2  Schoko Protein Crunchies ohne Zuckerzusatz   Koro        20.0   \n",
       "3                  Soja Protein Crispies 60 %   Koro        13.0   \n",
       "4       Bohnen-Erbsen-Mix geröstet & gesalzen   Koro        11.5   \n",
       "\n",
       "   weight_clean fat_clean  kj_clean  kcal_clean  \n",
       "0          1 kg      19.0    1535.0       362.0  \n",
       "1          1 kg      46.0    2290.0       555.0  \n",
       "2          1 kg      28.0    1875.0       448.0  \n",
       "3          1 kg      18.0    1541.0       363.0  \n",
       "4          1 kg      14.0    1766.0       421.0  \n",
       "\n",
       "[5 rows x 21 columns]"
      ]
     },
     "execution_count": 22,
     "metadata": {},
     "output_type": "execute_result"
    }
   ],
   "source": [
    "koro.head(5)"
   ]
  },
  {
   "cell_type": "markdown",
   "id": "3c30b82a-f6d3-40b5-b5dc-aedc2600627a",
   "metadata": {},
   "source": [
    "**Cleaning final dataframe**"
   ]
  },
  {
   "cell_type": "code",
   "execution_count": 23,
   "id": "bdca2cd0-8f2c-457a-b836-1712c0daa49d",
   "metadata": {},
   "outputs": [
    {
     "name": "stdout",
     "output_type": "stream",
     "text": [
      "<class 'pandas.core.frame.DataFrame'>\n",
      "RangeIndex: 221 entries, 0 to 220\n",
      "Data columns (total 21 columns):\n",
      " #   Column         Non-Null Count  Dtype  \n",
      "---  ------         --------------  -----  \n",
      " 0   product        221 non-null    object \n",
      " 1   links          221 non-null    object \n",
      " 2   price          221 non-null    object \n",
      " 3   weight         221 non-null    object \n",
      " 4   kcal           221 non-null    object \n",
      " 5   fat            221 non-null    float64\n",
      " 6   sat_fat        220 non-null    float64\n",
      " 7   carbs          220 non-null    float64\n",
      " 8   sugar          220 non-null    float64\n",
      " 9   fibre          219 non-null    float64\n",
      " 10  protein        221 non-null    float64\n",
      " 11  salt           221 non-null    float64\n",
      " 12  ingredients    221 non-null    object \n",
      " 13  photo_link     221 non-null    object \n",
      " 14  product_clean  221 non-null    object \n",
      " 15  brand          221 non-null    object \n",
      " 16  price_clean    221 non-null    float64\n",
      " 17  weight_clean   221 non-null    object \n",
      " 18  fat_clean      221 non-null    float64\n",
      " 19  kj_clean       221 non-null    float64\n",
      " 20  kcal_clean     221 non-null    float64\n",
      "dtypes: float64(11), object(10)\n",
      "memory usage: 36.4+ KB\n"
     ]
    }
   ],
   "source": [
    "koro.info()"
   ]
  },
  {
   "cell_type": "code",
   "execution_count": 24,
   "id": "7d505df7-d34c-4c6d-9255-e8557ca7c59f",
   "metadata": {},
   "outputs": [],
   "source": [
    "drop_list = ['price', 'weight', 'kcal', 'fat_clean','ingredients']\n",
    "koro = koro.drop(drop_list, axis=1)"
   ]
  },
  {
   "cell_type": "code",
   "execution_count": 25,
   "id": "6913f575-7313-42ad-a9d9-409624ab4bbc",
   "metadata": {},
   "outputs": [],
   "source": [
    "koro = koro.reindex(columns=['product_clean','brand','price_clean', 'weight_clean', 'kj_clean', 'kcal_clean', 'fat', 'sat_fat', 'carbs', 'sugar', 'fibre', 'protein', 'salt',\n",
    "                            'links', 'photo_link'])"
   ]
  },
  {
   "cell_type": "code",
   "execution_count": 26,
   "id": "cf2bef7c-991c-4aa2-b875-5167592e6d2c",
   "metadata": {},
   "outputs": [
    {
     "data": {
      "text/html": [
       "<div>\n",
       "<style scoped>\n",
       "    .dataframe tbody tr th:only-of-type {\n",
       "        vertical-align: middle;\n",
       "    }\n",
       "\n",
       "    .dataframe tbody tr th {\n",
       "        vertical-align: top;\n",
       "    }\n",
       "\n",
       "    .dataframe thead th {\n",
       "        text-align: right;\n",
       "    }\n",
       "</style>\n",
       "<table border=\"1\" class=\"dataframe\">\n",
       "  <thead>\n",
       "    <tr style=\"text-align: right;\">\n",
       "      <th></th>\n",
       "      <th>product_clean</th>\n",
       "      <th>brand</th>\n",
       "      <th>price_clean</th>\n",
       "      <th>weight_clean</th>\n",
       "      <th>kj_clean</th>\n",
       "      <th>kcal_clean</th>\n",
       "      <th>fat</th>\n",
       "      <th>sat_fat</th>\n",
       "      <th>carbs</th>\n",
       "      <th>sugar</th>\n",
       "      <th>fibre</th>\n",
       "      <th>protein</th>\n",
       "      <th>salt</th>\n",
       "      <th>links</th>\n",
       "      <th>photo_link</th>\n",
       "    </tr>\n",
       "  </thead>\n",
       "  <tbody>\n",
       "    <tr>\n",
       "      <th>0</th>\n",
       "      <td>Soja Protein Crispies 58 % mit Kakao</td>\n",
       "      <td>Koro</td>\n",
       "      <td>14.0</td>\n",
       "      <td>1 kg</td>\n",
       "      <td>1535.0</td>\n",
       "      <td>362.0</td>\n",
       "      <td>19.0</td>\n",
       "      <td>4.0</td>\n",
       "      <td>282.0</td>\n",
       "      <td>91.0</td>\n",
       "      <td>18.0</td>\n",
       "      <td>58.0</td>\n",
       "      <td>27.0</td>\n",
       "      <td>https://www.korodrogerie.de/soja-protein-crisp...</td>\n",
       "      <td>https://koro2.imgix.net/media/image/f1/50/81/C...</td>\n",
       "    </tr>\n",
       "    <tr>\n",
       "      <th>1</th>\n",
       "      <td>Schokodrops mit Xylit</td>\n",
       "      <td>Koro</td>\n",
       "      <td>21.0</td>\n",
       "      <td>1 kg</td>\n",
       "      <td>2290.0</td>\n",
       "      <td>555.0</td>\n",
       "      <td>46.0</td>\n",
       "      <td>28.0</td>\n",
       "      <td>31.0</td>\n",
       "      <td>10.0</td>\n",
       "      <td>10.0</td>\n",
       "      <td>92.0</td>\n",
       "      <td>7.0</td>\n",
       "      <td>https://www.korodrogerie.de/schokodrops-mit-xy...</td>\n",
       "      <td>https://koro2.imgix.net/media/image/2c/01/f8/S...</td>\n",
       "    </tr>\n",
       "    <tr>\n",
       "      <th>2</th>\n",
       "      <td>Schoko Protein Crunchies ohne Zuckerzusatz</td>\n",
       "      <td>Koro</td>\n",
       "      <td>20.0</td>\n",
       "      <td>1 kg</td>\n",
       "      <td>1875.0</td>\n",
       "      <td>448.0</td>\n",
       "      <td>28.0</td>\n",
       "      <td>12.0</td>\n",
       "      <td>37.0</td>\n",
       "      <td>14.0</td>\n",
       "      <td>83.0</td>\n",
       "      <td>21.0</td>\n",
       "      <td>36.0</td>\n",
       "      <td>https://www.korodrogerie.de/schoko-protein-cru...</td>\n",
       "      <td>https://koro2.imgix.net/media/image/30/78/62/P...</td>\n",
       "    </tr>\n",
       "    <tr>\n",
       "      <th>3</th>\n",
       "      <td>Soja Protein Crispies 60 %</td>\n",
       "      <td>Koro</td>\n",
       "      <td>13.0</td>\n",
       "      <td>1 kg</td>\n",
       "      <td>1541.0</td>\n",
       "      <td>363.0</td>\n",
       "      <td>18.0</td>\n",
       "      <td>2.0</td>\n",
       "      <td>26.0</td>\n",
       "      <td>8.0</td>\n",
       "      <td>8.0</td>\n",
       "      <td>60.0</td>\n",
       "      <td>32.0</td>\n",
       "      <td>https://www.korodrogerie.de/soja-protein-crisp...</td>\n",
       "      <td>https://koro2.imgix.net/media/image/84/55/ca/C...</td>\n",
       "    </tr>\n",
       "    <tr>\n",
       "      <th>4</th>\n",
       "      <td>Bohnen-Erbsen-Mix geröstet &amp; gesalzen</td>\n",
       "      <td>Koro</td>\n",
       "      <td>11.5</td>\n",
       "      <td>1 kg</td>\n",
       "      <td>1766.0</td>\n",
       "      <td>421.0</td>\n",
       "      <td>14.0</td>\n",
       "      <td>23.0</td>\n",
       "      <td>35.0</td>\n",
       "      <td>67.0</td>\n",
       "      <td>10.0</td>\n",
       "      <td>33.0</td>\n",
       "      <td>10.0</td>\n",
       "      <td>https://www.korodrogerie.de/bohnen-erbsen-mix-...</td>\n",
       "      <td>https://koro2.imgix.net/media/image/a9/37/79/B...</td>\n",
       "    </tr>\n",
       "    <tr>\n",
       "      <th>...</th>\n",
       "      <td>...</td>\n",
       "      <td>...</td>\n",
       "      <td>...</td>\n",
       "      <td>...</td>\n",
       "      <td>...</td>\n",
       "      <td>...</td>\n",
       "      <td>...</td>\n",
       "      <td>...</td>\n",
       "      <td>...</td>\n",
       "      <td>...</td>\n",
       "      <td>...</td>\n",
       "      <td>...</td>\n",
       "      <td>...</td>\n",
       "      <td>...</td>\n",
       "      <td>...</td>\n",
       "    </tr>\n",
       "    <tr>\n",
       "      <th>216</th>\n",
       "      <td>Bio gepuffte Ananasstücke</td>\n",
       "      <td>Koro</td>\n",
       "      <td>18.5</td>\n",
       "      <td>500 g</td>\n",
       "      <td>1612.0</td>\n",
       "      <td>380.0</td>\n",
       "      <td>0.0</td>\n",
       "      <td>0.0</td>\n",
       "      <td>87.0</td>\n",
       "      <td>85.0</td>\n",
       "      <td>79.0</td>\n",
       "      <td>30.0</td>\n",
       "      <td>0.0</td>\n",
       "      <td>https://www.korodrogerie.de/bio-gepuffte-anana...</td>\n",
       "      <td>https://koro2.imgix.net/media/image/b8/cc/8c/B...</td>\n",
       "    </tr>\n",
       "    <tr>\n",
       "      <th>217</th>\n",
       "      <td>Bio gepuffte schwarze Johannisbeeren</td>\n",
       "      <td>Koro</td>\n",
       "      <td>24.0</td>\n",
       "      <td>500 g</td>\n",
       "      <td>1336.0</td>\n",
       "      <td>319.0</td>\n",
       "      <td>23.0</td>\n",
       "      <td>4.0</td>\n",
       "      <td>54.0</td>\n",
       "      <td>44.0</td>\n",
       "      <td>31.0</td>\n",
       "      <td>50.0</td>\n",
       "      <td>2.0</td>\n",
       "      <td>https://www.korodrogerie.de/bio-gepuffte-schwa...</td>\n",
       "      <td>https://koro2.imgix.net/media/image/47/fa/41/B...</td>\n",
       "    </tr>\n",
       "    <tr>\n",
       "      <th>218</th>\n",
       "      <td>Bio gepuffte Kirsche</td>\n",
       "      <td>Koro</td>\n",
       "      <td>20.0</td>\n",
       "      <td>500 g</td>\n",
       "      <td>1472.0</td>\n",
       "      <td>348.0</td>\n",
       "      <td>5.0</td>\n",
       "      <td>2.0</td>\n",
       "      <td>75.0</td>\n",
       "      <td>41.0</td>\n",
       "      <td>95.0</td>\n",
       "      <td>60.0</td>\n",
       "      <td>2.0</td>\n",
       "      <td>https://www.korodrogerie.de/bio-gepuffte-kirsc...</td>\n",
       "      <td>https://koro2.imgix.net/media/image/38/f1/16/P...</td>\n",
       "    </tr>\n",
       "    <tr>\n",
       "      <th>219</th>\n",
       "      <td>Bio Cracker Pizza</td>\n",
       "      <td>Koro</td>\n",
       "      <td>5.0</td>\n",
       "      <td>500 g</td>\n",
       "      <td>1830.0</td>\n",
       "      <td>435.0</td>\n",
       "      <td>13.0</td>\n",
       "      <td>11.0</td>\n",
       "      <td>67.0</td>\n",
       "      <td>23.0</td>\n",
       "      <td>29.0</td>\n",
       "      <td>10.0</td>\n",
       "      <td>29.0</td>\n",
       "      <td>https://www.korodrogerie.de/bio-cracker-pizza-...</td>\n",
       "      <td>https://koro2.imgix.net/media/image/7e/83/e0/C...</td>\n",
       "    </tr>\n",
       "    <tr>\n",
       "      <th>220</th>\n",
       "      <td>Bio Cracker Pizza</td>\n",
       "      <td>Koro</td>\n",
       "      <td>27.5</td>\n",
       "      <td>6 x</td>\n",
       "      <td>1830.0</td>\n",
       "      <td>435.0</td>\n",
       "      <td>13.0</td>\n",
       "      <td>11.0</td>\n",
       "      <td>67.0</td>\n",
       "      <td>23.0</td>\n",
       "      <td>29.0</td>\n",
       "      <td>10.0</td>\n",
       "      <td>29.0</td>\n",
       "      <td>https://www.korodrogerie.de/bio-cracker-pizza-...</td>\n",
       "      <td>https://koro2.imgix.net/media/image/7e/83/e0/C...</td>\n",
       "    </tr>\n",
       "  </tbody>\n",
       "</table>\n",
       "<p>221 rows × 15 columns</p>\n",
       "</div>"
      ],
      "text/plain": [
       "                                   product_clean brand  price_clean  \\\n",
       "0          Soja Protein Crispies 58 % mit Kakao   Koro         14.0   \n",
       "1                         Schokodrops mit Xylit   Koro         21.0   \n",
       "2    Schoko Protein Crunchies ohne Zuckerzusatz   Koro         20.0   \n",
       "3                    Soja Protein Crispies 60 %   Koro         13.0   \n",
       "4         Bohnen-Erbsen-Mix geröstet & gesalzen   Koro         11.5   \n",
       "..                                           ...   ...          ...   \n",
       "216                   Bio gepuffte Ananasstücke   Koro         18.5   \n",
       "217        Bio gepuffte schwarze Johannisbeeren   Koro         24.0   \n",
       "218                        Bio gepuffte Kirsche   Koro         20.0   \n",
       "219                           Bio Cracker Pizza   Koro          5.0   \n",
       "220                          Bio Cracker Pizza    Koro         27.5   \n",
       "\n",
       "    weight_clean  kj_clean  kcal_clean   fat  sat_fat  carbs  sugar  fibre  \\\n",
       "0           1 kg    1535.0       362.0  19.0      4.0  282.0   91.0   18.0   \n",
       "1           1 kg    2290.0       555.0  46.0     28.0   31.0   10.0   10.0   \n",
       "2           1 kg    1875.0       448.0  28.0     12.0   37.0   14.0   83.0   \n",
       "3           1 kg    1541.0       363.0  18.0      2.0   26.0    8.0    8.0   \n",
       "4           1 kg    1766.0       421.0  14.0     23.0   35.0   67.0   10.0   \n",
       "..           ...       ...         ...   ...      ...    ...    ...    ...   \n",
       "216        500 g    1612.0       380.0   0.0      0.0   87.0   85.0   79.0   \n",
       "217        500 g    1336.0       319.0  23.0      4.0   54.0   44.0   31.0   \n",
       "218        500 g    1472.0       348.0   5.0      2.0   75.0   41.0   95.0   \n",
       "219        500 g    1830.0       435.0  13.0     11.0   67.0   23.0   29.0   \n",
       "220          6 x    1830.0       435.0  13.0     11.0   67.0   23.0   29.0   \n",
       "\n",
       "     protein  salt                                              links  \\\n",
       "0       58.0  27.0  https://www.korodrogerie.de/soja-protein-crisp...   \n",
       "1       92.0   7.0  https://www.korodrogerie.de/schokodrops-mit-xy...   \n",
       "2       21.0  36.0  https://www.korodrogerie.de/schoko-protein-cru...   \n",
       "3       60.0  32.0  https://www.korodrogerie.de/soja-protein-crisp...   \n",
       "4       33.0  10.0  https://www.korodrogerie.de/bohnen-erbsen-mix-...   \n",
       "..       ...   ...                                                ...   \n",
       "216     30.0   0.0  https://www.korodrogerie.de/bio-gepuffte-anana...   \n",
       "217     50.0   2.0  https://www.korodrogerie.de/bio-gepuffte-schwa...   \n",
       "218     60.0   2.0  https://www.korodrogerie.de/bio-gepuffte-kirsc...   \n",
       "219     10.0  29.0  https://www.korodrogerie.de/bio-cracker-pizza-...   \n",
       "220     10.0  29.0  https://www.korodrogerie.de/bio-cracker-pizza-...   \n",
       "\n",
       "                                            photo_link  \n",
       "0    https://koro2.imgix.net/media/image/f1/50/81/C...  \n",
       "1    https://koro2.imgix.net/media/image/2c/01/f8/S...  \n",
       "2    https://koro2.imgix.net/media/image/30/78/62/P...  \n",
       "3    https://koro2.imgix.net/media/image/84/55/ca/C...  \n",
       "4    https://koro2.imgix.net/media/image/a9/37/79/B...  \n",
       "..                                                 ...  \n",
       "216  https://koro2.imgix.net/media/image/b8/cc/8c/B...  \n",
       "217  https://koro2.imgix.net/media/image/47/fa/41/B...  \n",
       "218  https://koro2.imgix.net/media/image/38/f1/16/P...  \n",
       "219  https://koro2.imgix.net/media/image/7e/83/e0/C...  \n",
       "220  https://koro2.imgix.net/media/image/7e/83/e0/C...  \n",
       "\n",
       "[221 rows x 15 columns]"
      ]
     },
     "execution_count": 26,
     "metadata": {},
     "output_type": "execute_result"
    }
   ],
   "source": [
    "koro"
   ]
  },
  {
   "cell_type": "markdown",
   "id": "f5bb528d-0681-49e8-b9b1-179edaa3a558",
   "metadata": {},
   "source": [
    "## Kokku"
   ]
  },
  {
   "cell_type": "code",
   "execution_count": 27,
   "id": "9bb8f994-0ab8-4640-bb1c-7a2863b35095",
   "metadata": {},
   "outputs": [],
   "source": [
    "kokku = pd.read_csv('df_kokku.csv')"
   ]
  },
  {
   "cell_type": "code",
   "execution_count": 28,
   "id": "a59e72d3-6143-48eb-b643-87c609786c39",
   "metadata": {},
   "outputs": [
    {
     "data": {
      "text/plain": [
       "(549, 9)"
      ]
     },
     "execution_count": 28,
     "metadata": {},
     "output_type": "execute_result"
    }
   ],
   "source": [
    "kokku.shape"
   ]
  },
  {
   "cell_type": "code",
   "execution_count": 29,
   "id": "c7515b3d-ee9b-4a07-8b4f-5edd3f0d3472",
   "metadata": {},
   "outputs": [
    {
     "data": {
      "text/html": [
       "<div>\n",
       "<style scoped>\n",
       "    .dataframe tbody tr th:only-of-type {\n",
       "        vertical-align: middle;\n",
       "    }\n",
       "\n",
       "    .dataframe tbody tr th {\n",
       "        vertical-align: top;\n",
       "    }\n",
       "\n",
       "    .dataframe thead th {\n",
       "        text-align: right;\n",
       "    }\n",
       "</style>\n",
       "<table border=\"1\" class=\"dataframe\">\n",
       "  <thead>\n",
       "    <tr style=\"text-align: right;\">\n",
       "      <th></th>\n",
       "      <th>Unnamed: 0</th>\n",
       "      <th>product</th>\n",
       "      <th>brand</th>\n",
       "      <th>weight</th>\n",
       "      <th>links</th>\n",
       "      <th>price</th>\n",
       "      <th>price_gr</th>\n",
       "      <th>nutritions</th>\n",
       "      <th>photo_link</th>\n",
       "    </tr>\n",
       "  </thead>\n",
       "  <tbody>\n",
       "    <tr>\n",
       "      <th>0</th>\n",
       "      <td>0</td>\n",
       "      <td>Eisbonbon - 75g</td>\n",
       "      <td>Bio4You</td>\n",
       "      <td>- 75g</td>\n",
       "      <td>https://kokku-online.de/bio4you-eisbonbon/</td>\n",
       "      <td>1.49 €</td>\n",
       "      <td>1.99€/100g</td>\n",
       "      <td>Brennwert1.632 kJ / 384 kcalFett&lt; 0,1g- davon ...</td>\n",
       "      <td>https://kokku-online.de//bilder/350x350/19266/...</td>\n",
       "    </tr>\n",
       "    <tr>\n",
       "      <th>1</th>\n",
       "      <td>1</td>\n",
       "      <td>Stollenkonfekt - 100g</td>\n",
       "      <td>Bäckerei Sachse</td>\n",
       "      <td>- 100g</td>\n",
       "      <td>https://kokku-online.de/sachse-stollen-stollen...</td>\n",
       "      <td>2.99 €</td>\n",
       "      <td>2.99€/100g</td>\n",
       "      <td>Brennwert1912 kJ / 457 kcalFett26,7g- davon ge...</td>\n",
       "      <td>https://kokku-online.de//bilder/350x350/12280/...</td>\n",
       "    </tr>\n",
       "    <tr>\n",
       "      <th>2</th>\n",
       "      <td>2</td>\n",
       "      <td>Veganer °Schokodrops° Dinkelstollen mit Puderz...</td>\n",
       "      <td>Bäckerei Sachse</td>\n",
       "      <td>- 1kg</td>\n",
       "      <td>https://kokku-online.de/sachse-stollen-veganer...</td>\n",
       "      <td>19.99 €</td>\n",
       "      <td>19.99€/kg</td>\n",
       "      <td>Brennwert1763 kJ / 421 kcalFett20,3g- davon ge...</td>\n",
       "      <td>https://kokku-online.de//bilder/350x350/7806/s...</td>\n",
       "    </tr>\n",
       "    <tr>\n",
       "      <th>3</th>\n",
       "      <td>3</td>\n",
       "      <td>3 Stollenscheiben °Schokodrops° (ohne Rosinen)...</td>\n",
       "      <td>Bäckerei Sachse</td>\n",
       "      <td>- 250g</td>\n",
       "      <td>https://kokku-online.de/sachse-stollen-3-stoll...</td>\n",
       "      <td>4.99 €</td>\n",
       "      <td>2.00€/100g</td>\n",
       "      <td>Brennwert1763 kJ / 421 kcalFett20,3g- davon ge...</td>\n",
       "      <td>https://kokku-online.de//bilder/350x350/6140/s...</td>\n",
       "    </tr>\n",
       "    <tr>\n",
       "      <th>4</th>\n",
       "      <td>4</td>\n",
       "      <td>Veganer °Rosinen° Dinkelstollen - 1kg</td>\n",
       "      <td>Bäckerei Sachse</td>\n",
       "      <td>- 1kg</td>\n",
       "      <td>https://kokku-online.de/sachse-stollen-dinkels...</td>\n",
       "      <td>19.99 €</td>\n",
       "      <td>19.99€/kg</td>\n",
       "      <td>Brennwert1572 kJ / 375 kcalFett14,915,1g- davo...</td>\n",
       "      <td>https://kokku-online.de//bilder/350x350/6167/s...</td>\n",
       "    </tr>\n",
       "  </tbody>\n",
       "</table>\n",
       "</div>"
      ],
      "text/plain": [
       "   Unnamed: 0                                            product  \\\n",
       "0           0                                    Eisbonbon - 75g   \n",
       "1           1                              Stollenkonfekt - 100g   \n",
       "2           2  Veganer °Schokodrops° Dinkelstollen mit Puderz...   \n",
       "3           3  3 Stollenscheiben °Schokodrops° (ohne Rosinen)...   \n",
       "4           4              Veganer °Rosinen° Dinkelstollen - 1kg   \n",
       "\n",
       "             brand  weight                                              links  \\\n",
       "0          Bio4You   - 75g         https://kokku-online.de/bio4you-eisbonbon/   \n",
       "1  Bäckerei Sachse  - 100g  https://kokku-online.de/sachse-stollen-stollen...   \n",
       "2  Bäckerei Sachse   - 1kg  https://kokku-online.de/sachse-stollen-veganer...   \n",
       "3  Bäckerei Sachse  - 250g  https://kokku-online.de/sachse-stollen-3-stoll...   \n",
       "4  Bäckerei Sachse   - 1kg  https://kokku-online.de/sachse-stollen-dinkels...   \n",
       "\n",
       "     price    price_gr                                         nutritions  \\\n",
       "0   1.49 €  1.99€/100g  Brennwert1.632 kJ / 384 kcalFett< 0,1g- davon ...   \n",
       "1   2.99 €  2.99€/100g  Brennwert1912 kJ / 457 kcalFett26,7g- davon ge...   \n",
       "2  19.99 €   19.99€/kg  Brennwert1763 kJ / 421 kcalFett20,3g- davon ge...   \n",
       "3   4.99 €  2.00€/100g  Brennwert1763 kJ / 421 kcalFett20,3g- davon ge...   \n",
       "4  19.99 €   19.99€/kg  Brennwert1572 kJ / 375 kcalFett14,915,1g- davo...   \n",
       "\n",
       "                                          photo_link  \n",
       "0  https://kokku-online.de//bilder/350x350/19266/...  \n",
       "1  https://kokku-online.de//bilder/350x350/12280/...  \n",
       "2  https://kokku-online.de//bilder/350x350/7806/s...  \n",
       "3  https://kokku-online.de//bilder/350x350/6140/s...  \n",
       "4  https://kokku-online.de//bilder/350x350/6167/s...  "
      ]
     },
     "execution_count": 29,
     "metadata": {},
     "output_type": "execute_result"
    }
   ],
   "source": [
    "kokku.head()"
   ]
  },
  {
   "cell_type": "markdown",
   "id": "a6c63908-afc7-444d-aa7c-85f8a5323760",
   "metadata": {},
   "source": [
    "### Cleaning overview\n",
    "\n",
    "- [x] removing duplicate index column\n",
    "- [x] clean price column\n",
    "- [x] removing weight from product name\n",
    "- [x] removing extra charcters from weight + changing column type\n",
    "- [x] removing extra characters from price + changing column type\n",
    "- [x] splitting nutrition column: kcal, fat, sat_fat, carbs, sugar, fibre, protein, salt\n",
    "- [x] add fibre column (all None)\n",
    "\n",
    "Maybe:\n",
    "\n",
    "- [ ] cleaning price_gr column?\n"
   ]
  },
  {
   "cell_type": "markdown",
   "id": "84b9c758-275c-4450-87cb-a98bca2e3194",
   "metadata": {},
   "source": [
    "**Dropping duplicate index column**"
   ]
  },
  {
   "cell_type": "code",
   "execution_count": 30,
   "id": "fd3a05b0-009c-4488-9ec4-958dfa3ae1c0",
   "metadata": {},
   "outputs": [
    {
     "data": {
      "text/plain": [
       "Index(['product', 'brand', 'weight', 'links', 'price', 'price_gr',\n",
       "       'nutritions', 'photo_link'],\n",
       "      dtype='object')"
      ]
     },
     "execution_count": 30,
     "metadata": {},
     "output_type": "execute_result"
    }
   ],
   "source": [
    "kokku= kokku.drop('Unnamed: 0', axis=1)\n",
    "kokku.columns"
   ]
  },
  {
   "cell_type": "markdown",
   "id": "545f1c85-ffee-4278-bed6-6004d97e52e6",
   "metadata": {},
   "source": [
    "**Cleaning price**"
   ]
  },
  {
   "cell_type": "code",
   "execution_count": 31,
   "id": "9de94349-8620-4ece-899e-8865f149d2c5",
   "metadata": {},
   "outputs": [],
   "source": [
    "def clean_price(col):\n",
    "    \n",
    "    cleaned = []\n",
    "    \n",
    "    for p in col:\n",
    "        price = str(p).replace('bisher ', '').replace('€', '')\n",
    "        cleaned.append(float(price))   \n",
    "        \n",
    "    return cleaned"
   ]
  },
  {
   "cell_type": "code",
   "execution_count": 32,
   "id": "9e0adc5a-ad1e-4028-a1fe-c0c129816600",
   "metadata": {},
   "outputs": [
    {
     "data": {
      "text/plain": [
       "0       1.49\n",
       "1       2.99\n",
       "2      19.99\n",
       "3       4.99\n",
       "4      19.99\n",
       "       ...  \n",
       "544     1.29\n",
       "545     1.29\n",
       "546     1.99\n",
       "547     2.99\n",
       "548     1.99\n",
       "Name: price_clean, Length: 549, dtype: float64"
      ]
     },
     "execution_count": 32,
     "metadata": {},
     "output_type": "execute_result"
    }
   ],
   "source": [
    "kokku['price_clean'] = clean_price(kokku['price'])\n",
    "kokku['price_clean']"
   ]
  },
  {
   "cell_type": "markdown",
   "id": "da1f4903-49a9-4127-bcc9-7551346fa095",
   "metadata": {},
   "source": [
    "**Cleaning product name**"
   ]
  },
  {
   "cell_type": "code",
   "execution_count": 33,
   "id": "82528bd2-6193-4119-bfd3-d4739dbfd4c3",
   "metadata": {},
   "outputs": [
    {
     "data": {
      "text/plain": [
       "Kakaobohnen Peru geröstet - 100g                 2\n",
       "Kakao Nibs Natur - 100g                          2\n",
       "Schokotäfelchen 3er-Set - 120g                   2\n",
       "Energy Balls °Himbeere & Chia° - 50g             1\n",
       "Pesetas - 150g                                   1\n",
       "                                                ..\n",
       "Himbeertörtchen Tartelletes glutenfrei - 130g    1\n",
       "vegane Schmetterlinge - 125g                     1\n",
       "White Nougat Crisp - 80g                         1\n",
       "Futterkeks - 150g                                1\n",
       "Schokoladen Weihnachtsmann laktosefrei - 20g     1\n",
       "Name: product, Length: 546, dtype: int64"
      ]
     },
     "execution_count": 33,
     "metadata": {},
     "output_type": "execute_result"
    }
   ],
   "source": [
    "kokku['product'].value_counts()"
   ]
  },
  {
   "cell_type": "code",
   "execution_count": 34,
   "id": "5b302921-f677-417d-9fa9-7f3a4230d43d",
   "metadata": {},
   "outputs": [],
   "source": [
    "def clean_name_kokku(x):\n",
    "    return re.sub(r'[-]\\s\\d{2,3}\\w+|[-]\\s\\d{1}\\w+', '', x)"
   ]
  },
  {
   "cell_type": "code",
   "execution_count": 35,
   "id": "55c1fe6d-ac1a-43d6-826d-114f38863796",
   "metadata": {},
   "outputs": [
    {
     "data": {
      "text/plain": [
       "498                            Schoko Erdnüsse im Glas \n",
       "40                           Mild Knuspermandel & Zimt \n",
       "88                                     Eistraum Schoko \n",
       "353                                   Helle Schokolade \n",
       "208                      Tafel Creamy °Indischer Chai° \n",
       "421                     VEGOLINO feine Nougat Pralinés \n",
       "134                       Blumenbrot MAXI °Buchweizen° \n",
       "207                                       Mozartzipfel \n",
       "166    HERZ mit Haselnusskrokant in Geschenkverpackung \n",
       "93             Bio Trink Porridge °Erdbeer Heidelbeer° \n",
       "Name: product_clean, dtype: object"
      ]
     },
     "execution_count": 35,
     "metadata": {},
     "output_type": "execute_result"
    }
   ],
   "source": [
    "kokku[\"product_clean\"] = kokku[\"product\"].apply(clean_name_kokku)\n",
    "kokku[\"product_clean\"].sample(10)"
   ]
  },
  {
   "cell_type": "markdown",
   "id": "4b8f4e7e-1ba1-4d99-b24a-ad9ff8c2da54",
   "metadata": {},
   "source": [
    "**Cleaning weight**"
   ]
  },
  {
   "cell_type": "code",
   "execution_count": 36,
   "id": "0f1e6d44-dc97-4584-96e2-f6d46091d4ab",
   "metadata": {},
   "outputs": [],
   "source": [
    "kokku['weight'] = kokku['weight'].str.replace('- ', '')"
   ]
  },
  {
   "cell_type": "code",
   "execution_count": 37,
   "id": "75508398-a0dd-4a71-8977-89d4fbabdeb6",
   "metadata": {},
   "outputs": [],
   "source": [
    "#removing kg\n",
    "\n",
    "def clean_weight(col):\n",
    "    \n",
    "    clean_weight = []\n",
    "    \n",
    "    for w in col:\n",
    "        if w.endswith('kg'):\n",
    "            w = w.replace('kg', '')\n",
    "            w = float(w)\n",
    "            clean_weight.append(w)\n",
    "            \n",
    "        elif w.endswith('g'):\n",
    "            w = w.replace('g', '')\n",
    "            w = float(w)\n",
    "            w = w/1000\n",
    "            clean_weight.append(w)\n",
    "        \n",
    "        else:\n",
    "            clean_weight.append(w)\n",
    "    \n",
    "    return clean_weight\n",
    "            "
   ]
  },
  {
   "cell_type": "code",
   "execution_count": 38,
   "id": "28c3975f-3b67-432b-96a6-3364b1001c1d",
   "metadata": {},
   "outputs": [
    {
     "data": {
      "text/plain": [
       "0      0.075\n",
       "1        0.1\n",
       "2        1.0\n",
       "3       0.25\n",
       "4        1.0\n",
       "       ...  \n",
       "544    0.017\n",
       "545    0.017\n",
       "546    0.065\n",
       "547     0.07\n",
       "548    0.045\n",
       "Name: weight_clean, Length: 549, dtype: object"
      ]
     },
     "execution_count": 38,
     "metadata": {},
     "output_type": "execute_result"
    }
   ],
   "source": [
    "kokku['weight_clean'] = clean_weight(kokku['weight'])\n",
    "kokku['weight_clean']"
   ]
  },
  {
   "cell_type": "markdown",
   "id": "4086256e-a485-4454-901e-63efe9ce2194",
   "metadata": {},
   "source": [
    "**Cleaning price**"
   ]
  },
  {
   "cell_type": "code",
   "execution_count": 39,
   "id": "134cbb26-d859-4762-b743-5eb68185cca8",
   "metadata": {},
   "outputs": [
    {
     "data": {
      "text/plain": [
       "2.49 €           78\n",
       "1.99 €           43\n",
       "2.99 €           39\n",
       "0.99 €           32\n",
       "2.59 €           23\n",
       "                 ..\n",
       "bisher 2.99 €     1\n",
       "bisher 3.99 €     1\n",
       "28.99 €           1\n",
       "4.59 €            1\n",
       "4.69 €            1\n",
       "Name: price, Length: 77, dtype: int64"
      ]
     },
     "execution_count": 39,
     "metadata": {},
     "output_type": "execute_result"
    }
   ],
   "source": [
    "kokku['price'].value_counts()"
   ]
  },
  {
   "cell_type": "code",
   "execution_count": 40,
   "id": "4578a424-6522-4316-b9a0-fda351b96b34",
   "metadata": {},
   "outputs": [
    {
     "data": {
      "text/plain": [
       "0       1.49\n",
       "1       2.99\n",
       "2      19.99\n",
       "3       4.99\n",
       "4      19.99\n",
       "       ...  \n",
       "544     1.29\n",
       "545     1.29\n",
       "546     1.99\n",
       "547     2.99\n",
       "548     1.99\n",
       "Name: clean_price, Length: 549, dtype: float64"
      ]
     },
     "execution_count": 40,
     "metadata": {},
     "output_type": "execute_result"
    }
   ],
   "source": [
    "kokku['clean_price'] = kokku['price'].str.replace(' €', '').str.replace('bisher ', '').astype('float')\n",
    "kokku['clean_price']"
   ]
  },
  {
   "cell_type": "markdown",
   "id": "06bb3de8-1569-47e1-826f-f9c0c19612e2",
   "metadata": {},
   "source": [
    "**Cleaning nutrients**"
   ]
  },
  {
   "cell_type": "code",
   "execution_count": 41,
   "id": "4f811477-5aa4-41f2-aa9a-36075668f7b0",
   "metadata": {},
   "outputs": [
    {
     "data": {
      "text/plain": [
       "array(['Brennwert2562 kJ / 617 kcalFett46,9g- davon gesättigte Fettsäuren33,5gKohlenhydrate41,8g- davon Zucker35,7gEiweiß3,4gSalz< 0,03g',\n",
       "       'Brennwert2715 kJ / 655 kcalFett46g- davon gesättigte Fettsäuren28gKohlenhydrate31g- davon Zucker1gEiweiß9,2gSalz0,07g',\n",
       "       'Brennwert2313 kJ / 555 kcalFett36g- davon gesättigte Fettsäuren25gKohlenhydrate50g- davon Zucker41gEiweiß4gSalz0,08g',\n",
       "       'Brennwert2413,1 kJ / 576,7 kcalFett41,0g- davon gesättigte Fettsäuren14,0gKohlenhydrate41,4g- davon Zucker36,5gEiweiß8,3gSalz0,29g',\n",
       "       'Brennwert1365 kJ / 321 kcalFett0,1g- davon gesättigte Fettsäuren0,1gKohlenhydrate78g- davon Zucker57gEiweiß0gSalz0,2g',\n",
       "       'Brennwert1316 kJ / 314 kcalFett0,2g- davon gesättigte Fettsäuren0,2gKohlenhydrate77g- davon Zucker53,2gEiweiß0gSalz0,22g',\n",
       "       'Brennwert2402 kJ / 577 kcalFett37g- davon gesättigte Fettsäuren23gKohlenhydrate55g- davon Zucker39gEiweiß3gSalz0,03g',\n",
       "       'Brennwert1619 kJ / 387 kcalFett0.5g- davon gesättigte Fettsäuren0.2gKohlenhydrate84g- davon Zucker70gEiweiß2.5gSalz0.05g',\n",
       "       'Brennwert2441 kJ / 586 kcalFett39g- davon gesättigte Fettsäuren15,6gKohlenhydrate53,8g- davon Zucker41,7gEiweiß3,6gSalz0g',\n",
       "       'Brennwert1928 kJ / 461 kcalFett20,6g- davon gesättigte Fettsäuren8gKohlenhydrate61,3g- davon Zucker26,3gEiweiß6gSalz0,6g'],\n",
       "      dtype=object)"
      ]
     },
     "execution_count": 41,
     "metadata": {},
     "output_type": "execute_result"
    }
   ],
   "source": [
    "kokku['nutritions'].sample(10).unique()"
   ]
  },
  {
   "cell_type": "markdown",
   "id": "c95457b4-70ab-4ac9-ba46-3df055df02f3",
   "metadata": {},
   "source": [
    "**kJ**"
   ]
  },
  {
   "cell_type": "code",
   "execution_count": 42,
   "id": "d3d78e3a-d6ad-47a1-98b6-331107ff9e34",
   "metadata": {},
   "outputs": [],
   "source": [
    "def kjs_finder(x):\n",
    "    return re.findall('^Brennwert\\d[.]\\d+|^Brennwert\\d+[,]\\d+|^Brennwert\\d+', x)[0]"
   ]
  },
  {
   "cell_type": "code",
   "execution_count": 43,
   "id": "9d76982e-3949-431d-a51c-3a4d4ceb97e8",
   "metadata": {},
   "outputs": [
    {
     "data": {
      "text/plain": [
       "0      Brennwert1.632\n",
       "1       Brennwert1912\n",
       "2       Brennwert1763\n",
       "3       Brennwert1763\n",
       "4       Brennwert1572\n",
       "            ...      \n",
       "544      Brennwert724\n",
       "545      Brennwert724\n",
       "546     Brennwert2456\n",
       "547     Brennwert1123\n",
       "548     Brennwert1953\n",
       "Name: kj, Length: 549, dtype: object"
      ]
     },
     "execution_count": 43,
     "metadata": {},
     "output_type": "execute_result"
    }
   ],
   "source": [
    "kokku['kj'] = kokku['nutritions'].apply(kjs_finder)\n",
    "kokku['kj']"
   ]
  },
  {
   "cell_type": "code",
   "execution_count": 44,
   "id": "b6c542d1-9aa6-4090-b705-60c8e9085972",
   "metadata": {},
   "outputs": [],
   "source": [
    "def clean_kj(col):\n",
    "    \n",
    "    clean_kj = []\n",
    "    \n",
    "    for p in col:\n",
    "        p = p.replace('Brennwert', '').replace('.', '').replace(',', '.')\n",
    "        p = float(p)\n",
    "        clean_kj.append(p)\n",
    "        \n",
    "    return clean_kj"
   ]
  },
  {
   "cell_type": "code",
   "execution_count": 45,
   "id": "cf5df409-50ec-480c-be18-f6389d854163",
   "metadata": {},
   "outputs": [
    {
     "data": {
      "text/plain": [
       "0      1632.0\n",
       "1      1912.0\n",
       "2      1763.0\n",
       "3      1763.0\n",
       "4      1572.0\n",
       "        ...  \n",
       "544     724.0\n",
       "545     724.0\n",
       "546    2456.0\n",
       "547    1123.0\n",
       "548    1953.0\n",
       "Name: kj_clean, Length: 549, dtype: float64"
      ]
     },
     "execution_count": 45,
     "metadata": {},
     "output_type": "execute_result"
    }
   ],
   "source": [
    "kokku['kj_clean'] = clean_kj(kokku['kj'])\n",
    "kokku['kj_clean']"
   ]
  },
  {
   "cell_type": "markdown",
   "id": "476ea92f-4b82-4852-84b1-bf3ab2024712",
   "metadata": {},
   "source": [
    "**kcal**"
   ]
  },
  {
   "cell_type": "code",
   "execution_count": 46,
   "id": "e707410c-d1de-402e-be81-d62e5cf40e13",
   "metadata": {},
   "outputs": [],
   "source": [
    "def kcal_finder(x):\n",
    "    return re.findall('\\s\\d+[,]\\d+\\s|\\s\\d+\\s', x)[0]"
   ]
  },
  {
   "cell_type": "code",
   "execution_count": 47,
   "id": "a33ed512-7b32-4c2c-b198-fb932e126ff8",
   "metadata": {},
   "outputs": [
    {
     "data": {
      "text/plain": [
       "0       384 \n",
       "1       457 \n",
       "2       421 \n",
       "3       421 \n",
       "4       375 \n",
       "       ...  \n",
       "544     173 \n",
       "545     173 \n",
       "546     591 \n",
       "547     267 \n",
       "548     467 \n",
       "Name: kcal, Length: 549, dtype: object"
      ]
     },
     "execution_count": 47,
     "metadata": {},
     "output_type": "execute_result"
    }
   ],
   "source": [
    "kokku['kcal'] = kokku['nutritions'].apply(kcal_finder)\n",
    "kokku['kcal']"
   ]
  },
  {
   "cell_type": "code",
   "execution_count": 48,
   "id": "64b1ecf4-4be9-458f-b60f-959b24e21d95",
   "metadata": {},
   "outputs": [],
   "source": [
    "def clean_kcal(col):\n",
    "    \n",
    "    clean_kcal = []\n",
    "    \n",
    "    for p in col:\n",
    "        p = p.replace(',', '.')\n",
    "        p = float(p)\n",
    "        clean_kcal.append(p)\n",
    "        \n",
    "    return clean_kcal"
   ]
  },
  {
   "cell_type": "code",
   "execution_count": 49,
   "id": "f4e9ade6-245f-4af8-aff1-82d5b8b2cb82",
   "metadata": {},
   "outputs": [
    {
     "data": {
      "text/plain": [
       "0      384.0\n",
       "1      457.0\n",
       "2      421.0\n",
       "3      421.0\n",
       "4      375.0\n",
       "       ...  \n",
       "544    173.0\n",
       "545    173.0\n",
       "546    591.0\n",
       "547    267.0\n",
       "548    467.0\n",
       "Name: kcal_clean, Length: 549, dtype: float64"
      ]
     },
     "execution_count": 49,
     "metadata": {},
     "output_type": "execute_result"
    }
   ],
   "source": [
    "kokku['kcal_clean'] = clean_kcal(kokku['kcal'])\n",
    "kokku['kcal_clean']"
   ]
  },
  {
   "cell_type": "markdown",
   "id": "d6e1292b-e718-4892-9355-22dbd6b62b22",
   "metadata": {},
   "source": [
    "**fat**"
   ]
  },
  {
   "cell_type": "code",
   "execution_count": 50,
   "id": "3f395d6c-3e41-4318-81a4-610fcd254b99",
   "metadata": {},
   "outputs": [],
   "source": [
    "def fat_finder(x):\n",
    "    try:\n",
    "        f = re.findall('\\BFett\\d+[,]\\d+|\\BFett\\d+', x)[0]\n",
    "        return f\n",
    "    except:\n",
    "        return None"
   ]
  },
  {
   "cell_type": "code",
   "execution_count": 51,
   "id": "93f3a8c7-a8b3-4972-8ca1-7e30b62c1171",
   "metadata": {},
   "outputs": [
    {
     "data": {
      "text/plain": [
       "0            None\n",
       "1        Fett26,7\n",
       "2        Fett20,3\n",
       "3        Fett20,3\n",
       "4      Fett14,915\n",
       "          ...    \n",
       "544         Fett0\n",
       "545         Fett0\n",
       "546      Fett40,8\n",
       "547       Fett7,1\n",
       "548        Fett18\n",
       "Name: fat, Length: 549, dtype: object"
      ]
     },
     "execution_count": 51,
     "metadata": {},
     "output_type": "execute_result"
    }
   ],
   "source": [
    "kokku['fat'] = kokku['nutritions'].apply(fat_finder)\n",
    "kokku['fat']"
   ]
  },
  {
   "cell_type": "code",
   "execution_count": 52,
   "id": "b9239ef1-d27b-4fb0-8a07-019d017292e8",
   "metadata": {},
   "outputs": [],
   "source": [
    "def clean_fat(col):\n",
    "    \n",
    "    clean_fat = []\n",
    "    \n",
    "    for p in col:\n",
    "        try:\n",
    "            p = p.replace('Fett', '').replace(',', '.')\n",
    "            p = float(p)\n",
    "            clean_fat.append(p)\n",
    "        \n",
    "        except:\n",
    "            clean_fat.append(p)\n",
    "        \n",
    "    return clean_fat"
   ]
  },
  {
   "cell_type": "code",
   "execution_count": 53,
   "id": "75555d4d-e818-4a44-ae88-88a1015d74d8",
   "metadata": {},
   "outputs": [
    {
     "data": {
      "text/plain": [
       "0         NaN\n",
       "1      26.700\n",
       "2      20.300\n",
       "3      20.300\n",
       "4      14.915\n",
       "        ...  \n",
       "544     0.000\n",
       "545     0.000\n",
       "546    40.800\n",
       "547     7.100\n",
       "548    18.000\n",
       "Name: fat_clean, Length: 549, dtype: float64"
      ]
     },
     "execution_count": 53,
     "metadata": {},
     "output_type": "execute_result"
    }
   ],
   "source": [
    "kokku['fat_clean'] = clean_fat(kokku['fat'])\n",
    "kokku['fat_clean']"
   ]
  },
  {
   "cell_type": "markdown",
   "id": "6d5c0b20-5958-4307-a39d-3eaf17fa9898",
   "metadata": {},
   "source": [
    "**saturated fat**"
   ]
  },
  {
   "cell_type": "code",
   "execution_count": 54,
   "id": "caae56d2-73f2-4436-8130-7f2a30fdf51c",
   "metadata": {},
   "outputs": [],
   "source": [
    "def sat_fat_finder(x): \n",
    "    try:\n",
    "        f = re.findall('\\Bsäuren\\d+[,]\\d+|\\Bsäuren\\d+', x)[0]\n",
    "        return f\n",
    "    except:\n",
    "        return None"
   ]
  },
  {
   "cell_type": "code",
   "execution_count": 55,
   "id": "17ca9f54-9359-4ca9-a797-06319ddb8535",
   "metadata": {},
   "outputs": [
    {
     "data": {
      "text/plain": [
       "0            None\n",
       "1      säuren12,1\n",
       "2      säuren10,0\n",
       "3      säuren10,0\n",
       "4       säuren6,8\n",
       "          ...    \n",
       "544       säuren0\n",
       "545       säuren0\n",
       "546    säuren11,4\n",
       "547     säuren4,9\n",
       "548      säuren12\n",
       "Name: sat_fat, Length: 549, dtype: object"
      ]
     },
     "execution_count": 55,
     "metadata": {},
     "output_type": "execute_result"
    }
   ],
   "source": [
    "kokku['sat_fat'] = kokku['nutritions'].apply(sat_fat_finder)\n",
    "kokku['sat_fat']"
   ]
  },
  {
   "cell_type": "code",
   "execution_count": 56,
   "id": "45fcd055-5724-42fa-a3c3-268e2c9411cd",
   "metadata": {},
   "outputs": [],
   "source": [
    "def clean_sat_fat(col):\n",
    "    \n",
    "    clean_sat_fat = []\n",
    "    \n",
    "    for p in col:\n",
    "        try:\n",
    "            p = p.replace('säuren', '').replace(',', '.')\n",
    "            p = float(p)\n",
    "            clean_sat_fat.append(p)\n",
    "        \n",
    "        except:\n",
    "            clean_sat_fat.append(p)\n",
    "        \n",
    "    return clean_sat_fat"
   ]
  },
  {
   "cell_type": "code",
   "execution_count": 57,
   "id": "e48da8c4-2ef6-453f-84a7-3279c6d99986",
   "metadata": {},
   "outputs": [
    {
     "data": {
      "text/plain": [
       "0       NaN\n",
       "1      12.1\n",
       "2      10.0\n",
       "3      10.0\n",
       "4       6.8\n",
       "       ... \n",
       "544     0.0\n",
       "545     0.0\n",
       "546    11.4\n",
       "547     4.9\n",
       "548    12.0\n",
       "Name: sat_fat_clean, Length: 549, dtype: float64"
      ]
     },
     "execution_count": 57,
     "metadata": {},
     "output_type": "execute_result"
    }
   ],
   "source": [
    "kokku['sat_fat_clean'] = clean_sat_fat(kokku['sat_fat'])\n",
    "kokku['sat_fat_clean']"
   ]
  },
  {
   "cell_type": "markdown",
   "id": "9c8afdbd-0667-469c-a7da-4fb237ef3f72",
   "metadata": {},
   "source": [
    "**carbs**"
   ]
  },
  {
   "cell_type": "code",
   "execution_count": 58,
   "id": "6e6878e8-4745-45a0-bda8-8ba0a5e2777d",
   "metadata": {},
   "outputs": [],
   "source": [
    "def carb_finder(x): \n",
    "    try:\n",
    "        f = re.findall('\\Bhydrate\\d+[,]\\d+|\\Bhydrate\\d+', x)[0]\n",
    "        return f\n",
    "    except:\n",
    "        return None"
   ]
  },
  {
   "cell_type": "code",
   "execution_count": 59,
   "id": "b9522f6c-a058-44e5-bf68-13b6ef1c2f2b",
   "metadata": {},
   "outputs": [
    {
     "data": {
      "text/plain": [
       "0        hydrate94\n",
       "1      hydrate48,7\n",
       "2      hydrate52,5\n",
       "3      hydrate52,5\n",
       "4      hydrate55,7\n",
       "          ...     \n",
       "544      hydrate71\n",
       "545      hydrate71\n",
       "546    hydrate44,6\n",
       "547      hydrate30\n",
       "548      hydrate76\n",
       "Name: carbs, Length: 549, dtype: object"
      ]
     },
     "execution_count": 59,
     "metadata": {},
     "output_type": "execute_result"
    }
   ],
   "source": [
    "kokku['carbs'] = kokku['nutritions'].apply(carb_finder)\n",
    "kokku['carbs']"
   ]
  },
  {
   "cell_type": "code",
   "execution_count": 60,
   "id": "5c09735e-eb8e-4d5d-bd37-6b50f438fb52",
   "metadata": {},
   "outputs": [],
   "source": [
    "def clean_carbs(col):\n",
    "    \n",
    "    clean_carbs = []\n",
    "    \n",
    "    for p in col:\n",
    "        try:\n",
    "            p = p.replace('hydrate', '').replace(',', '.')\n",
    "            p = float(p)\n",
    "            clean_carbs.append(p)\n",
    "        \n",
    "        except:\n",
    "            clean_carbs.append(p)\n",
    "        \n",
    "    return clean_carbs"
   ]
  },
  {
   "cell_type": "code",
   "execution_count": 61,
   "id": "22e83420-2e41-458e-b51c-9d6a84655834",
   "metadata": {},
   "outputs": [
    {
     "data": {
      "text/plain": [
       "0      94.0\n",
       "1      48.7\n",
       "2      52.5\n",
       "3      52.5\n",
       "4      55.7\n",
       "       ... \n",
       "544    71.0\n",
       "545    71.0\n",
       "546    44.6\n",
       "547    30.0\n",
       "548    76.0\n",
       "Name: carbs_clean, Length: 549, dtype: float64"
      ]
     },
     "execution_count": 61,
     "metadata": {},
     "output_type": "execute_result"
    }
   ],
   "source": [
    "kokku['carbs_clean'] = clean_carbs(kokku['carbs'])\n",
    "kokku['carbs_clean']"
   ]
  },
  {
   "cell_type": "markdown",
   "id": "93aedf2e-c44d-420f-9b0d-11a6c224b044",
   "metadata": {},
   "source": [
    "**sugar**"
   ]
  },
  {
   "cell_type": "code",
   "execution_count": 62,
   "id": "79657248-c109-4ae6-a5ea-2fac1fa9c93b",
   "metadata": {},
   "outputs": [],
   "source": [
    "def sugar_finder(x): \n",
    "    try:\n",
    "        f = re.findall('\\Bucker\\d+[,]\\d+|\\Bucker\\d+', x)[0]\n",
    "        return f\n",
    "    except:\n",
    "        return None"
   ]
  },
  {
   "cell_type": "code",
   "execution_count": 63,
   "id": "6555a0fe-d2f7-444a-a97d-6e5f5ccbde20",
   "metadata": {},
   "outputs": [
    {
     "data": {
      "text/plain": [
       "0        ucker69\n",
       "1      ucker30,3\n",
       "2      ucker30,2\n",
       "3      ucker30,2\n",
       "4      ucker28,9\n",
       "         ...    \n",
       "544       ucker0\n",
       "545       ucker0\n",
       "546    ucker39,3\n",
       "547      ucker30\n",
       "548      ucker67\n",
       "Name: sugar, Length: 549, dtype: object"
      ]
     },
     "execution_count": 63,
     "metadata": {},
     "output_type": "execute_result"
    }
   ],
   "source": [
    "kokku['sugar'] = kokku['nutritions'].apply(sugar_finder)\n",
    "kokku['sugar']"
   ]
  },
  {
   "cell_type": "code",
   "execution_count": 64,
   "id": "fa9fb7de-a889-4b18-8a90-f63e4c8787f4",
   "metadata": {},
   "outputs": [],
   "source": [
    "def clean_sugar(col):\n",
    "    \n",
    "    clean_sugar = []\n",
    "    \n",
    "    for p in col:\n",
    "        try:\n",
    "            p = p.replace('ucker', '').replace(',', '.')\n",
    "            p = float(p)\n",
    "            clean_sugar.append(p)\n",
    "        \n",
    "        except:\n",
    "            clean_sugar.append(p)\n",
    "        \n",
    "    return clean_sugar"
   ]
  },
  {
   "cell_type": "code",
   "execution_count": 65,
   "id": "9915e534-4ced-4fda-8b25-b09d749004d1",
   "metadata": {},
   "outputs": [
    {
     "data": {
      "text/plain": [
       "0      69.0\n",
       "1      30.3\n",
       "2      30.2\n",
       "3      30.2\n",
       "4      28.9\n",
       "       ... \n",
       "544     0.0\n",
       "545     0.0\n",
       "546    39.3\n",
       "547    30.0\n",
       "548    67.0\n",
       "Name: sugar_clean, Length: 549, dtype: float64"
      ]
     },
     "execution_count": 65,
     "metadata": {},
     "output_type": "execute_result"
    }
   ],
   "source": [
    "kokku['sugar_clean'] = clean_sugar(kokku['sugar'])\n",
    "kokku['sugar_clean']"
   ]
  },
  {
   "cell_type": "markdown",
   "id": "3f7446d1-ad5b-43b5-9c9e-6a80e9d6ddb2",
   "metadata": {},
   "source": [
    "**protein**"
   ]
  },
  {
   "cell_type": "code",
   "execution_count": 66,
   "id": "24ee5310-dd77-4895-b58c-4481666882db",
   "metadata": {},
   "outputs": [],
   "source": [
    "def protein_finder(x): \n",
    "    try:\n",
    "        f = re.findall('\\Bweiß\\d+[,]\\d+|\\Bweiß\\d+', x)[0]\n",
    "        return f\n",
    "    except:\n",
    "        return None"
   ]
  },
  {
   "cell_type": "code",
   "execution_count": 67,
   "id": "8715f0f3-c50f-4634-942e-199a1837fffc",
   "metadata": {},
   "outputs": [
    {
     "data": {
      "text/plain": [
       "0         None\n",
       "1      weiß5,7\n",
       "2      weiß6,0\n",
       "3      weiß6,0\n",
       "4      weiß6,0\n",
       "        ...   \n",
       "544      weiß0\n",
       "545      weiß0\n",
       "546    weiß8,2\n",
       "547     weiß19\n",
       "548    weiß1,4\n",
       "Name: protein, Length: 549, dtype: object"
      ]
     },
     "execution_count": 67,
     "metadata": {},
     "output_type": "execute_result"
    }
   ],
   "source": [
    "kokku['protein'] = kokku['nutritions'].apply(protein_finder)\n",
    "kokku['protein']"
   ]
  },
  {
   "cell_type": "code",
   "execution_count": 68,
   "id": "dbb0a18b-5c7b-47db-9db5-72635831faf0",
   "metadata": {},
   "outputs": [],
   "source": [
    "def clean_protein(col):\n",
    "    \n",
    "    clean_protein = []\n",
    "    \n",
    "    for p in col:\n",
    "        try:\n",
    "            p = p.replace('weiß', '').replace(',', '.')\n",
    "            p = float(p)\n",
    "            clean_protein.append(p)\n",
    "        \n",
    "        except:\n",
    "            clean_protein.append(p)\n",
    "        \n",
    "    return clean_protein"
   ]
  },
  {
   "cell_type": "code",
   "execution_count": 69,
   "id": "8f43c698-0747-4ade-a42a-4a0be201767e",
   "metadata": {},
   "outputs": [
    {
     "data": {
      "text/plain": [
       "0       NaN\n",
       "1       5.7\n",
       "2       6.0\n",
       "3       6.0\n",
       "4       6.0\n",
       "       ... \n",
       "544     0.0\n",
       "545     0.0\n",
       "546     8.2\n",
       "547    19.0\n",
       "548     1.4\n",
       "Name: protein_clean, Length: 549, dtype: float64"
      ]
     },
     "execution_count": 69,
     "metadata": {},
     "output_type": "execute_result"
    }
   ],
   "source": [
    "kokku['protein_clean'] = clean_protein(kokku['protein'])\n",
    "kokku['protein_clean']"
   ]
  },
  {
   "cell_type": "markdown",
   "id": "9b3cf8e5-10b3-480c-a7a5-b0ffa4a946e4",
   "metadata": {},
   "source": [
    "**salt**"
   ]
  },
  {
   "cell_type": "code",
   "execution_count": 70,
   "id": "6419fedd-9de5-4bf4-932c-d4e6b31b2081",
   "metadata": {},
   "outputs": [],
   "source": [
    "def salt_finder(x): \n",
    "    try:\n",
    "        f = re.findall('\\Balz\\d+[,]\\d+|\\Balz\\d+', x)[0]\n",
    "        return f\n",
    "    except:\n",
    "        return None"
   ]
  },
  {
   "cell_type": "code",
   "execution_count": 71,
   "id": "12c25a92-e2f6-484f-ae07-8dff9ba26bb9",
   "metadata": {},
   "outputs": [
    {
     "data": {
      "text/plain": [
       "0         None\n",
       "1       alz0,1\n",
       "2       alz0,2\n",
       "3       alz0,2\n",
       "4       alz0,2\n",
       "        ...   \n",
       "544       alz0\n",
       "545       alz0\n",
       "546     alz0,0\n",
       "547    alz2,23\n",
       "548    alz0,18\n",
       "Name: salt, Length: 549, dtype: object"
      ]
     },
     "execution_count": 71,
     "metadata": {},
     "output_type": "execute_result"
    }
   ],
   "source": [
    "kokku['salt'] = kokku['nutritions'].apply(salt_finder)\n",
    "kokku['salt']"
   ]
  },
  {
   "cell_type": "code",
   "execution_count": 72,
   "id": "82f25efa-98ae-4305-ab25-91520e5b5ead",
   "metadata": {},
   "outputs": [],
   "source": [
    "def clean_salt(col):\n",
    "    \n",
    "    clean_salt = []\n",
    "    \n",
    "    for p in col:\n",
    "        try:\n",
    "            p = p.replace('alz', '').replace(',', '.')\n",
    "            p = float(p)\n",
    "            clean_salt.append(p)\n",
    "        \n",
    "        except:\n",
    "            clean_salt.append(p)\n",
    "        \n",
    "    return clean_salt"
   ]
  },
  {
   "cell_type": "code",
   "execution_count": 73,
   "id": "c64c8730-9a86-48df-8e45-0b3ab8383e76",
   "metadata": {},
   "outputs": [
    {
     "data": {
      "text/plain": [
       "0       NaN\n",
       "1      0.10\n",
       "2      0.20\n",
       "3      0.20\n",
       "4      0.20\n",
       "       ... \n",
       "544    0.00\n",
       "545    0.00\n",
       "546    0.00\n",
       "547    2.23\n",
       "548    0.18\n",
       "Name: salt_clean, Length: 549, dtype: float64"
      ]
     },
     "execution_count": 73,
     "metadata": {},
     "output_type": "execute_result"
    }
   ],
   "source": [
    "kokku['salt_clean'] = clean_salt(kokku['salt'])\n",
    "kokku['salt_clean']"
   ]
  },
  {
   "cell_type": "markdown",
   "id": "6e142c7b-27b3-4a12-9a29-0631dad0cd96",
   "metadata": {},
   "source": [
    "**fibre**"
   ]
  },
  {
   "cell_type": "code",
   "execution_count": 74,
   "id": "34058d59-9f8c-47cc-8400-29b1bc00e1be",
   "metadata": {},
   "outputs": [
    {
     "data": {
      "text/plain": [
       "0      None\n",
       "1      None\n",
       "2      None\n",
       "3      None\n",
       "4      None\n",
       "       ... \n",
       "544    None\n",
       "545    None\n",
       "546    None\n",
       "547    None\n",
       "548    None\n",
       "Name: fibre, Length: 549, dtype: object"
      ]
     },
     "execution_count": 74,
     "metadata": {},
     "output_type": "execute_result"
    }
   ],
   "source": [
    "kokku['fibre'] = None\n",
    "kokku['fibre'] "
   ]
  },
  {
   "cell_type": "markdown",
   "id": "9339d8fd-3135-4bd6-91c7-ae6ee0c9970d",
   "metadata": {},
   "source": [
    "**Cleaning final dataframe**"
   ]
  },
  {
   "cell_type": "code",
   "execution_count": 75,
   "id": "77815cad-3a75-46ef-b8d1-1e7f4068e8e3",
   "metadata": {},
   "outputs": [
    {
     "name": "stdout",
     "output_type": "stream",
     "text": [
      "<class 'pandas.core.frame.DataFrame'>\n",
      "RangeIndex: 549 entries, 0 to 548\n",
      "Data columns (total 29 columns):\n",
      " #   Column         Non-Null Count  Dtype  \n",
      "---  ------         --------------  -----  \n",
      " 0   product        549 non-null    object \n",
      " 1   brand          549 non-null    object \n",
      " 2   weight         549 non-null    object \n",
      " 3   links          549 non-null    object \n",
      " 4   price          549 non-null    object \n",
      " 5   price_gr       549 non-null    object \n",
      " 6   nutritions     549 non-null    object \n",
      " 7   photo_link     549 non-null    object \n",
      " 8   price_clean    549 non-null    float64\n",
      " 9   product_clean  549 non-null    object \n",
      " 10  weight_clean   549 non-null    object \n",
      " 11  clean_price    549 non-null    float64\n",
      " 12  kj             549 non-null    object \n",
      " 13  kj_clean       549 non-null    float64\n",
      " 14  kcal           549 non-null    object \n",
      " 15  kcal_clean     549 non-null    float64\n",
      " 16  fat            536 non-null    object \n",
      " 17  fat_clean      536 non-null    float64\n",
      " 18  sat_fat        537 non-null    object \n",
      " 19  sat_fat_clean  537 non-null    float64\n",
      " 20  carbs          549 non-null    object \n",
      " 21  carbs_clean    549 non-null    float64\n",
      " 22  sugar          546 non-null    object \n",
      " 23  sugar_clean    546 non-null    float64\n",
      " 24  protein        534 non-null    object \n",
      " 25  protein_clean  534 non-null    float64\n",
      " 26  salt           466 non-null    object \n",
      " 27  salt_clean     466 non-null    float64\n",
      " 28  fibre          0 non-null      object \n",
      "dtypes: float64(10), object(19)\n",
      "memory usage: 124.5+ KB\n"
     ]
    }
   ],
   "source": [
    "kokku.info()"
   ]
  },
  {
   "cell_type": "code",
   "execution_count": 76,
   "id": "bc6d5d62-7d7f-43eb-9645-b1573a37645f",
   "metadata": {},
   "outputs": [
    {
     "data": {
      "text/html": [
       "<div>\n",
       "<style scoped>\n",
       "    .dataframe tbody tr th:only-of-type {\n",
       "        vertical-align: middle;\n",
       "    }\n",
       "\n",
       "    .dataframe tbody tr th {\n",
       "        vertical-align: top;\n",
       "    }\n",
       "\n",
       "    .dataframe thead th {\n",
       "        text-align: right;\n",
       "    }\n",
       "</style>\n",
       "<table border=\"1\" class=\"dataframe\">\n",
       "  <thead>\n",
       "    <tr style=\"text-align: right;\">\n",
       "      <th></th>\n",
       "      <th>product</th>\n",
       "      <th>brand</th>\n",
       "      <th>weight</th>\n",
       "      <th>links</th>\n",
       "      <th>price</th>\n",
       "      <th>price_gr</th>\n",
       "      <th>nutritions</th>\n",
       "      <th>photo_link</th>\n",
       "      <th>price_clean</th>\n",
       "      <th>product_clean</th>\n",
       "      <th>...</th>\n",
       "      <th>sat_fat_clean</th>\n",
       "      <th>carbs</th>\n",
       "      <th>carbs_clean</th>\n",
       "      <th>sugar</th>\n",
       "      <th>sugar_clean</th>\n",
       "      <th>protein</th>\n",
       "      <th>protein_clean</th>\n",
       "      <th>salt</th>\n",
       "      <th>salt_clean</th>\n",
       "      <th>fibre</th>\n",
       "    </tr>\n",
       "  </thead>\n",
       "  <tbody>\n",
       "    <tr>\n",
       "      <th>0</th>\n",
       "      <td>Eisbonbon - 75g</td>\n",
       "      <td>Bio4You</td>\n",
       "      <td>75g</td>\n",
       "      <td>https://kokku-online.de/bio4you-eisbonbon/</td>\n",
       "      <td>1.49 €</td>\n",
       "      <td>1.99€/100g</td>\n",
       "      <td>Brennwert1.632 kJ / 384 kcalFett&lt; 0,1g- davon ...</td>\n",
       "      <td>https://kokku-online.de//bilder/350x350/19266/...</td>\n",
       "      <td>1.49</td>\n",
       "      <td>Eisbonbon</td>\n",
       "      <td>...</td>\n",
       "      <td>NaN</td>\n",
       "      <td>hydrate94</td>\n",
       "      <td>94.0</td>\n",
       "      <td>ucker69</td>\n",
       "      <td>69.0</td>\n",
       "      <td>None</td>\n",
       "      <td>NaN</td>\n",
       "      <td>None</td>\n",
       "      <td>NaN</td>\n",
       "      <td>None</td>\n",
       "    </tr>\n",
       "    <tr>\n",
       "      <th>1</th>\n",
       "      <td>Stollenkonfekt - 100g</td>\n",
       "      <td>Bäckerei Sachse</td>\n",
       "      <td>100g</td>\n",
       "      <td>https://kokku-online.de/sachse-stollen-stollen...</td>\n",
       "      <td>2.99 €</td>\n",
       "      <td>2.99€/100g</td>\n",
       "      <td>Brennwert1912 kJ / 457 kcalFett26,7g- davon ge...</td>\n",
       "      <td>https://kokku-online.de//bilder/350x350/12280/...</td>\n",
       "      <td>2.99</td>\n",
       "      <td>Stollenkonfekt</td>\n",
       "      <td>...</td>\n",
       "      <td>12.1</td>\n",
       "      <td>hydrate48,7</td>\n",
       "      <td>48.7</td>\n",
       "      <td>ucker30,3</td>\n",
       "      <td>30.3</td>\n",
       "      <td>weiß5,7</td>\n",
       "      <td>5.7</td>\n",
       "      <td>alz0,1</td>\n",
       "      <td>0.1</td>\n",
       "      <td>None</td>\n",
       "    </tr>\n",
       "    <tr>\n",
       "      <th>2</th>\n",
       "      <td>Veganer °Schokodrops° Dinkelstollen mit Puderz...</td>\n",
       "      <td>Bäckerei Sachse</td>\n",
       "      <td>1kg</td>\n",
       "      <td>https://kokku-online.de/sachse-stollen-veganer...</td>\n",
       "      <td>19.99 €</td>\n",
       "      <td>19.99€/kg</td>\n",
       "      <td>Brennwert1763 kJ / 421 kcalFett20,3g- davon ge...</td>\n",
       "      <td>https://kokku-online.de//bilder/350x350/7806/s...</td>\n",
       "      <td>19.99</td>\n",
       "      <td>Veganer °Schokodrops° Dinkelstollen mit Puderz...</td>\n",
       "      <td>...</td>\n",
       "      <td>10.0</td>\n",
       "      <td>hydrate52,5</td>\n",
       "      <td>52.5</td>\n",
       "      <td>ucker30,2</td>\n",
       "      <td>30.2</td>\n",
       "      <td>weiß6,0</td>\n",
       "      <td>6.0</td>\n",
       "      <td>alz0,2</td>\n",
       "      <td>0.2</td>\n",
       "      <td>None</td>\n",
       "    </tr>\n",
       "    <tr>\n",
       "      <th>3</th>\n",
       "      <td>3 Stollenscheiben °Schokodrops° (ohne Rosinen)...</td>\n",
       "      <td>Bäckerei Sachse</td>\n",
       "      <td>250g</td>\n",
       "      <td>https://kokku-online.de/sachse-stollen-3-stoll...</td>\n",
       "      <td>4.99 €</td>\n",
       "      <td>2.00€/100g</td>\n",
       "      <td>Brennwert1763 kJ / 421 kcalFett20,3g- davon ge...</td>\n",
       "      <td>https://kokku-online.de//bilder/350x350/6140/s...</td>\n",
       "      <td>4.99</td>\n",
       "      <td>3 Stollenscheiben °Schokodrops° (ohne Rosinen)</td>\n",
       "      <td>...</td>\n",
       "      <td>10.0</td>\n",
       "      <td>hydrate52,5</td>\n",
       "      <td>52.5</td>\n",
       "      <td>ucker30,2</td>\n",
       "      <td>30.2</td>\n",
       "      <td>weiß6,0</td>\n",
       "      <td>6.0</td>\n",
       "      <td>alz0,2</td>\n",
       "      <td>0.2</td>\n",
       "      <td>None</td>\n",
       "    </tr>\n",
       "    <tr>\n",
       "      <th>4</th>\n",
       "      <td>Veganer °Rosinen° Dinkelstollen - 1kg</td>\n",
       "      <td>Bäckerei Sachse</td>\n",
       "      <td>1kg</td>\n",
       "      <td>https://kokku-online.de/sachse-stollen-dinkels...</td>\n",
       "      <td>19.99 €</td>\n",
       "      <td>19.99€/kg</td>\n",
       "      <td>Brennwert1572 kJ / 375 kcalFett14,915,1g- davo...</td>\n",
       "      <td>https://kokku-online.de//bilder/350x350/6167/s...</td>\n",
       "      <td>19.99</td>\n",
       "      <td>Veganer °Rosinen° Dinkelstollen</td>\n",
       "      <td>...</td>\n",
       "      <td>6.8</td>\n",
       "      <td>hydrate55,7</td>\n",
       "      <td>55.7</td>\n",
       "      <td>ucker28,9</td>\n",
       "      <td>28.9</td>\n",
       "      <td>weiß6,0</td>\n",
       "      <td>6.0</td>\n",
       "      <td>alz0,2</td>\n",
       "      <td>0.2</td>\n",
       "      <td>None</td>\n",
       "    </tr>\n",
       "  </tbody>\n",
       "</table>\n",
       "<p>5 rows × 29 columns</p>\n",
       "</div>"
      ],
      "text/plain": [
       "                                             product            brand weight  \\\n",
       "0                                    Eisbonbon - 75g          Bio4You    75g   \n",
       "1                              Stollenkonfekt - 100g  Bäckerei Sachse   100g   \n",
       "2  Veganer °Schokodrops° Dinkelstollen mit Puderz...  Bäckerei Sachse    1kg   \n",
       "3  3 Stollenscheiben °Schokodrops° (ohne Rosinen)...  Bäckerei Sachse   250g   \n",
       "4              Veganer °Rosinen° Dinkelstollen - 1kg  Bäckerei Sachse    1kg   \n",
       "\n",
       "                                               links    price    price_gr  \\\n",
       "0         https://kokku-online.de/bio4you-eisbonbon/   1.49 €  1.99€/100g   \n",
       "1  https://kokku-online.de/sachse-stollen-stollen...   2.99 €  2.99€/100g   \n",
       "2  https://kokku-online.de/sachse-stollen-veganer...  19.99 €   19.99€/kg   \n",
       "3  https://kokku-online.de/sachse-stollen-3-stoll...   4.99 €  2.00€/100g   \n",
       "4  https://kokku-online.de/sachse-stollen-dinkels...  19.99 €   19.99€/kg   \n",
       "\n",
       "                                          nutritions  \\\n",
       "0  Brennwert1.632 kJ / 384 kcalFett< 0,1g- davon ...   \n",
       "1  Brennwert1912 kJ / 457 kcalFett26,7g- davon ge...   \n",
       "2  Brennwert1763 kJ / 421 kcalFett20,3g- davon ge...   \n",
       "3  Brennwert1763 kJ / 421 kcalFett20,3g- davon ge...   \n",
       "4  Brennwert1572 kJ / 375 kcalFett14,915,1g- davo...   \n",
       "\n",
       "                                          photo_link  price_clean  \\\n",
       "0  https://kokku-online.de//bilder/350x350/19266/...         1.49   \n",
       "1  https://kokku-online.de//bilder/350x350/12280/...         2.99   \n",
       "2  https://kokku-online.de//bilder/350x350/7806/s...        19.99   \n",
       "3  https://kokku-online.de//bilder/350x350/6140/s...         4.99   \n",
       "4  https://kokku-online.de//bilder/350x350/6167/s...        19.99   \n",
       "\n",
       "                                       product_clean  ... sat_fat_clean  \\\n",
       "0                                         Eisbonbon   ...           NaN   \n",
       "1                                    Stollenkonfekt   ...          12.1   \n",
       "2  Veganer °Schokodrops° Dinkelstollen mit Puderz...  ...          10.0   \n",
       "3    3 Stollenscheiben °Schokodrops° (ohne Rosinen)   ...          10.0   \n",
       "4                   Veganer °Rosinen° Dinkelstollen   ...           6.8   \n",
       "\n",
       "         carbs carbs_clean      sugar sugar_clean  protein protein_clean  \\\n",
       "0    hydrate94        94.0    ucker69        69.0     None           NaN   \n",
       "1  hydrate48,7        48.7  ucker30,3        30.3  weiß5,7           5.7   \n",
       "2  hydrate52,5        52.5  ucker30,2        30.2  weiß6,0           6.0   \n",
       "3  hydrate52,5        52.5  ucker30,2        30.2  weiß6,0           6.0   \n",
       "4  hydrate55,7        55.7  ucker28,9        28.9  weiß6,0           6.0   \n",
       "\n",
       "     salt salt_clean  fibre  \n",
       "0    None        NaN   None  \n",
       "1  alz0,1        0.1   None  \n",
       "2  alz0,2        0.2   None  \n",
       "3  alz0,2        0.2   None  \n",
       "4  alz0,2        0.2   None  \n",
       "\n",
       "[5 rows x 29 columns]"
      ]
     },
     "execution_count": 76,
     "metadata": {},
     "output_type": "execute_result"
    }
   ],
   "source": [
    "kokku.head()"
   ]
  },
  {
   "cell_type": "code",
   "execution_count": 77,
   "id": "b2caa755-ce98-4bf9-bff8-e764cb92876c",
   "metadata": {},
   "outputs": [],
   "source": [
    "drop_list = ['product', 'price', 'weight', 'nutritions', 'kj', 'kcal', 'fat', 'sat_fat', 'carbs', 'sugar', 'protein', 'salt']\n",
    "kokku = kokku.drop(drop_list, axis=1)"
   ]
  },
  {
   "cell_type": "code",
   "execution_count": 84,
   "id": "0101d47f-2808-43c7-8734-804ebd770fed",
   "metadata": {},
   "outputs": [],
   "source": [
    "kokku = kokku.reindex(columns=['product_clean', 'brand','price_clean', 'weight_clean', 'kj_clean', 'kcal_clean', 'fat_clean', 'sat_fat_clean', 'carbs_clean', \n",
    "                               'sugar_clean', 'fibre', 'protein_clean', 'salt_clean', 'links', 'photo_link'])"
   ]
  },
  {
   "cell_type": "code",
   "execution_count": 85,
   "id": "c391f256-712d-4b25-8544-6621160d402d",
   "metadata": {},
   "outputs": [
    {
     "data": {
      "text/html": [
       "<div>\n",
       "<style scoped>\n",
       "    .dataframe tbody tr th:only-of-type {\n",
       "        vertical-align: middle;\n",
       "    }\n",
       "\n",
       "    .dataframe tbody tr th {\n",
       "        vertical-align: top;\n",
       "    }\n",
       "\n",
       "    .dataframe thead th {\n",
       "        text-align: right;\n",
       "    }\n",
       "</style>\n",
       "<table border=\"1\" class=\"dataframe\">\n",
       "  <thead>\n",
       "    <tr style=\"text-align: right;\">\n",
       "      <th></th>\n",
       "      <th>product_clean</th>\n",
       "      <th>brand</th>\n",
       "      <th>price_clean</th>\n",
       "      <th>weight_clean</th>\n",
       "      <th>kj_clean</th>\n",
       "      <th>kcal_clean</th>\n",
       "      <th>fat_clean</th>\n",
       "      <th>sat_fat_clean</th>\n",
       "      <th>carbs_clean</th>\n",
       "      <th>sugar_clean</th>\n",
       "      <th>fibre</th>\n",
       "      <th>protein_clean</th>\n",
       "      <th>salt_clean</th>\n",
       "      <th>links</th>\n",
       "      <th>photo_link</th>\n",
       "    </tr>\n",
       "  </thead>\n",
       "  <tbody>\n",
       "    <tr>\n",
       "      <th>0</th>\n",
       "      <td>Eisbonbon</td>\n",
       "      <td>Bio4You</td>\n",
       "      <td>1.49</td>\n",
       "      <td>0.075</td>\n",
       "      <td>1632.0</td>\n",
       "      <td>384.0</td>\n",
       "      <td>NaN</td>\n",
       "      <td>NaN</td>\n",
       "      <td>94.0</td>\n",
       "      <td>69.0</td>\n",
       "      <td>None</td>\n",
       "      <td>NaN</td>\n",
       "      <td>NaN</td>\n",
       "      <td>https://kokku-online.de/bio4you-eisbonbon/</td>\n",
       "      <td>https://kokku-online.de//bilder/350x350/19266/...</td>\n",
       "    </tr>\n",
       "    <tr>\n",
       "      <th>1</th>\n",
       "      <td>Stollenkonfekt</td>\n",
       "      <td>Bäckerei Sachse</td>\n",
       "      <td>2.99</td>\n",
       "      <td>0.1</td>\n",
       "      <td>1912.0</td>\n",
       "      <td>457.0</td>\n",
       "      <td>26.700</td>\n",
       "      <td>12.1</td>\n",
       "      <td>48.7</td>\n",
       "      <td>30.3</td>\n",
       "      <td>None</td>\n",
       "      <td>5.7</td>\n",
       "      <td>0.10</td>\n",
       "      <td>https://kokku-online.de/sachse-stollen-stollen...</td>\n",
       "      <td>https://kokku-online.de//bilder/350x350/12280/...</td>\n",
       "    </tr>\n",
       "    <tr>\n",
       "      <th>2</th>\n",
       "      <td>Veganer °Schokodrops° Dinkelstollen mit Puderz...</td>\n",
       "      <td>Bäckerei Sachse</td>\n",
       "      <td>19.99</td>\n",
       "      <td>1.0</td>\n",
       "      <td>1763.0</td>\n",
       "      <td>421.0</td>\n",
       "      <td>20.300</td>\n",
       "      <td>10.0</td>\n",
       "      <td>52.5</td>\n",
       "      <td>30.2</td>\n",
       "      <td>None</td>\n",
       "      <td>6.0</td>\n",
       "      <td>0.20</td>\n",
       "      <td>https://kokku-online.de/sachse-stollen-veganer...</td>\n",
       "      <td>https://kokku-online.de//bilder/350x350/7806/s...</td>\n",
       "    </tr>\n",
       "    <tr>\n",
       "      <th>3</th>\n",
       "      <td>3 Stollenscheiben °Schokodrops° (ohne Rosinen)</td>\n",
       "      <td>Bäckerei Sachse</td>\n",
       "      <td>4.99</td>\n",
       "      <td>0.25</td>\n",
       "      <td>1763.0</td>\n",
       "      <td>421.0</td>\n",
       "      <td>20.300</td>\n",
       "      <td>10.0</td>\n",
       "      <td>52.5</td>\n",
       "      <td>30.2</td>\n",
       "      <td>None</td>\n",
       "      <td>6.0</td>\n",
       "      <td>0.20</td>\n",
       "      <td>https://kokku-online.de/sachse-stollen-3-stoll...</td>\n",
       "      <td>https://kokku-online.de//bilder/350x350/6140/s...</td>\n",
       "    </tr>\n",
       "    <tr>\n",
       "      <th>4</th>\n",
       "      <td>Veganer °Rosinen° Dinkelstollen</td>\n",
       "      <td>Bäckerei Sachse</td>\n",
       "      <td>19.99</td>\n",
       "      <td>1.0</td>\n",
       "      <td>1572.0</td>\n",
       "      <td>375.0</td>\n",
       "      <td>14.915</td>\n",
       "      <td>6.8</td>\n",
       "      <td>55.7</td>\n",
       "      <td>28.9</td>\n",
       "      <td>None</td>\n",
       "      <td>6.0</td>\n",
       "      <td>0.20</td>\n",
       "      <td>https://kokku-online.de/sachse-stollen-dinkels...</td>\n",
       "      <td>https://kokku-online.de//bilder/350x350/6167/s...</td>\n",
       "    </tr>\n",
       "    <tr>\n",
       "      <th>...</th>\n",
       "      <td>...</td>\n",
       "      <td>...</td>\n",
       "      <td>...</td>\n",
       "      <td>...</td>\n",
       "      <td>...</td>\n",
       "      <td>...</td>\n",
       "      <td>...</td>\n",
       "      <td>...</td>\n",
       "      <td>...</td>\n",
       "      <td>...</td>\n",
       "      <td>...</td>\n",
       "      <td>...</td>\n",
       "      <td>...</td>\n",
       "      <td>...</td>\n",
       "      <td>...</td>\n",
       "    </tr>\n",
       "    <tr>\n",
       "      <th>544</th>\n",
       "      <td>Kaugummi Icemint</td>\n",
       "      <td>XyliGum</td>\n",
       "      <td>1.29</td>\n",
       "      <td>0.017</td>\n",
       "      <td>724.0</td>\n",
       "      <td>173.0</td>\n",
       "      <td>0.000</td>\n",
       "      <td>0.0</td>\n",
       "      <td>71.0</td>\n",
       "      <td>0.0</td>\n",
       "      <td>None</td>\n",
       "      <td>0.0</td>\n",
       "      <td>0.00</td>\n",
       "      <td>https://kokku-online.de/xyli-gum-kaugummi-icem...</td>\n",
       "      <td>https://kokku-online.de//bilder/350x350/7382/x...</td>\n",
       "    </tr>\n",
       "    <tr>\n",
       "      <th>545</th>\n",
       "      <td>Kaugummi Peppermint</td>\n",
       "      <td>XyliGum</td>\n",
       "      <td>1.29</td>\n",
       "      <td>0.017</td>\n",
       "      <td>724.0</td>\n",
       "      <td>173.0</td>\n",
       "      <td>0.000</td>\n",
       "      <td>0.0</td>\n",
       "      <td>71.0</td>\n",
       "      <td>0.0</td>\n",
       "      <td>None</td>\n",
       "      <td>0.0</td>\n",
       "      <td>0.00</td>\n",
       "      <td>https://kokku-online.de/xyli-gum-kaugummi-pfef...</td>\n",
       "      <td>https://kokku-online.de//bilder/350x350/7381/x...</td>\n",
       "    </tr>\n",
       "    <tr>\n",
       "      <th>546</th>\n",
       "      <td>MINI VEGO Haselnuss Schokoriegel</td>\n",
       "      <td>Vego Chocolate</td>\n",
       "      <td>1.99</td>\n",
       "      <td>0.065</td>\n",
       "      <td>2456.0</td>\n",
       "      <td>591.0</td>\n",
       "      <td>40.800</td>\n",
       "      <td>11.4</td>\n",
       "      <td>44.6</td>\n",
       "      <td>39.3</td>\n",
       "      <td>None</td>\n",
       "      <td>8.2</td>\n",
       "      <td>0.00</td>\n",
       "      <td>https://kokku-online.de/vego-chocolate-vego-wh...</td>\n",
       "      <td>https://kokku-online.de//bilder/350x350/2454/v...</td>\n",
       "    </tr>\n",
       "    <tr>\n",
       "      <th>547</th>\n",
       "      <td>Soy Jerky Original</td>\n",
       "      <td>Vantastic Foods</td>\n",
       "      <td>2.99</td>\n",
       "      <td>0.07</td>\n",
       "      <td>1123.0</td>\n",
       "      <td>267.0</td>\n",
       "      <td>7.100</td>\n",
       "      <td>4.9</td>\n",
       "      <td>30.0</td>\n",
       "      <td>30.0</td>\n",
       "      <td>None</td>\n",
       "      <td>19.0</td>\n",
       "      <td>2.23</td>\n",
       "      <td>https://kokku-online.de/vantastic-foods-soy-je...</td>\n",
       "      <td>https://kokku-online.de//bilder/350x350/10296/...</td>\n",
       "    </tr>\n",
       "    <tr>\n",
       "      <th>548</th>\n",
       "      <td>Schakalode Monsters Schokolinsen</td>\n",
       "      <td>Vantastic Foods</td>\n",
       "      <td>1.99</td>\n",
       "      <td>0.045</td>\n",
       "      <td>1953.0</td>\n",
       "      <td>467.0</td>\n",
       "      <td>18.000</td>\n",
       "      <td>12.0</td>\n",
       "      <td>76.0</td>\n",
       "      <td>67.0</td>\n",
       "      <td>None</td>\n",
       "      <td>1.4</td>\n",
       "      <td>0.18</td>\n",
       "      <td>https://kokku-online.de/vantastic-foods-schaka...</td>\n",
       "      <td>https://kokku-online.de//bilder/350x350/9068/v...</td>\n",
       "    </tr>\n",
       "  </tbody>\n",
       "</table>\n",
       "<p>549 rows × 15 columns</p>\n",
       "</div>"
      ],
      "text/plain": [
       "                                         product_clean            brand  \\\n",
       "0                                           Eisbonbon           Bio4You   \n",
       "1                                      Stollenkonfekt   Bäckerei Sachse   \n",
       "2    Veganer °Schokodrops° Dinkelstollen mit Puderz...  Bäckerei Sachse   \n",
       "3      3 Stollenscheiben °Schokodrops° (ohne Rosinen)   Bäckerei Sachse   \n",
       "4                     Veganer °Rosinen° Dinkelstollen   Bäckerei Sachse   \n",
       "..                                                 ...              ...   \n",
       "544                                  Kaugummi Icemint           XyliGum   \n",
       "545                               Kaugummi Peppermint           XyliGum   \n",
       "546                  MINI VEGO Haselnuss Schokoriegel    Vego Chocolate   \n",
       "547                                Soy Jerky Original   Vantastic Foods   \n",
       "548                  Schakalode Monsters Schokolinsen   Vantastic Foods   \n",
       "\n",
       "     price_clean weight_clean  kj_clean  kcal_clean  fat_clean  sat_fat_clean  \\\n",
       "0           1.49        0.075    1632.0       384.0        NaN            NaN   \n",
       "1           2.99          0.1    1912.0       457.0     26.700           12.1   \n",
       "2          19.99          1.0    1763.0       421.0     20.300           10.0   \n",
       "3           4.99         0.25    1763.0       421.0     20.300           10.0   \n",
       "4          19.99          1.0    1572.0       375.0     14.915            6.8   \n",
       "..           ...          ...       ...         ...        ...            ...   \n",
       "544         1.29        0.017     724.0       173.0      0.000            0.0   \n",
       "545         1.29        0.017     724.0       173.0      0.000            0.0   \n",
       "546         1.99        0.065    2456.0       591.0     40.800           11.4   \n",
       "547         2.99         0.07    1123.0       267.0      7.100            4.9   \n",
       "548         1.99        0.045    1953.0       467.0     18.000           12.0   \n",
       "\n",
       "     carbs_clean  sugar_clean fibre  protein_clean  salt_clean  \\\n",
       "0           94.0         69.0  None            NaN         NaN   \n",
       "1           48.7         30.3  None            5.7        0.10   \n",
       "2           52.5         30.2  None            6.0        0.20   \n",
       "3           52.5         30.2  None            6.0        0.20   \n",
       "4           55.7         28.9  None            6.0        0.20   \n",
       "..           ...          ...   ...            ...         ...   \n",
       "544         71.0          0.0  None            0.0        0.00   \n",
       "545         71.0          0.0  None            0.0        0.00   \n",
       "546         44.6         39.3  None            8.2        0.00   \n",
       "547         30.0         30.0  None           19.0        2.23   \n",
       "548         76.0         67.0  None            1.4        0.18   \n",
       "\n",
       "                                                 links  \\\n",
       "0           https://kokku-online.de/bio4you-eisbonbon/   \n",
       "1    https://kokku-online.de/sachse-stollen-stollen...   \n",
       "2    https://kokku-online.de/sachse-stollen-veganer...   \n",
       "3    https://kokku-online.de/sachse-stollen-3-stoll...   \n",
       "4    https://kokku-online.de/sachse-stollen-dinkels...   \n",
       "..                                                 ...   \n",
       "544  https://kokku-online.de/xyli-gum-kaugummi-icem...   \n",
       "545  https://kokku-online.de/xyli-gum-kaugummi-pfef...   \n",
       "546  https://kokku-online.de/vego-chocolate-vego-wh...   \n",
       "547  https://kokku-online.de/vantastic-foods-soy-je...   \n",
       "548  https://kokku-online.de/vantastic-foods-schaka...   \n",
       "\n",
       "                                            photo_link  \n",
       "0    https://kokku-online.de//bilder/350x350/19266/...  \n",
       "1    https://kokku-online.de//bilder/350x350/12280/...  \n",
       "2    https://kokku-online.de//bilder/350x350/7806/s...  \n",
       "3    https://kokku-online.de//bilder/350x350/6140/s...  \n",
       "4    https://kokku-online.de//bilder/350x350/6167/s...  \n",
       "..                                                 ...  \n",
       "544  https://kokku-online.de//bilder/350x350/7382/x...  \n",
       "545  https://kokku-online.de//bilder/350x350/7381/x...  \n",
       "546  https://kokku-online.de//bilder/350x350/2454/v...  \n",
       "547  https://kokku-online.de//bilder/350x350/10296/...  \n",
       "548  https://kokku-online.de//bilder/350x350/9068/v...  \n",
       "\n",
       "[549 rows x 15 columns]"
      ]
     },
     "execution_count": 85,
     "metadata": {},
     "output_type": "execute_result"
    }
   ],
   "source": [
    "kokku"
   ]
  },
  {
   "cell_type": "markdown",
   "id": "ad4d9cbf-14d1-463d-b32e-447c0dd48742",
   "metadata": {},
   "source": [
    "## Foodist"
   ]
  },
  {
   "cell_type": "code",
   "execution_count": 80,
   "id": "8b129145-f7c3-465d-98d3-00e2fe873480",
   "metadata": {},
   "outputs": [],
   "source": [
    "foodist = pd.read_csv('df_foodist.csv')"
   ]
  },
  {
   "cell_type": "code",
   "execution_count": 81,
   "id": "c46615d1-9e1c-443f-94db-9bc5386143dd",
   "metadata": {},
   "outputs": [
    {
     "data": {
      "text/plain": [
       "(462, 9)"
      ]
     },
     "execution_count": 81,
     "metadata": {},
     "output_type": "execute_result"
    }
   ],
   "source": [
    "foodist.shape"
   ]
  },
  {
   "cell_type": "code",
   "execution_count": 82,
   "id": "832c2e98-e394-479b-ba9d-f941217352e1",
   "metadata": {},
   "outputs": [
    {
     "data": {
      "text/html": [
       "<div>\n",
       "<style scoped>\n",
       "    .dataframe tbody tr th:only-of-type {\n",
       "        vertical-align: middle;\n",
       "    }\n",
       "\n",
       "    .dataframe tbody tr th {\n",
       "        vertical-align: top;\n",
       "    }\n",
       "\n",
       "    .dataframe thead th {\n",
       "        text-align: right;\n",
       "    }\n",
       "</style>\n",
       "<table border=\"1\" class=\"dataframe\">\n",
       "  <thead>\n",
       "    <tr style=\"text-align: right;\">\n",
       "      <th></th>\n",
       "      <th>Unnamed: 0</th>\n",
       "      <th>name</th>\n",
       "      <th>brand</th>\n",
       "      <th>links</th>\n",
       "      <th>price</th>\n",
       "      <th>weight</th>\n",
       "      <th>price_gr</th>\n",
       "      <th>nutritients</th>\n",
       "      <th>photo_link</th>\n",
       "    </tr>\n",
       "  </thead>\n",
       "  <tbody>\n",
       "    <tr>\n",
       "      <th>0</th>\n",
       "      <td>0</td>\n",
       "      <td>BIO Chiasamen 1kg</td>\n",
       "      <td>Foodist</td>\n",
       "      <td>https://www.foodist.de/foodist-bio-chiasamen-1...</td>\n",
       "      <td>8,95 €</td>\n",
       "      <td>Inhalt:  1000 g</td>\n",
       "      <td>0,90 € / 100 g</td>\n",
       "      <td>Brennwert 1.901 kJ(454 kcal)   Fett 31,0 g  ...</td>\n",
       "      <td>https://foodist.imgix.net/media/image/42604537...</td>\n",
       "    </tr>\n",
       "    <tr>\n",
       "      <th>1</th>\n",
       "      <td>1</td>\n",
       "      <td>Xylit Bonbons Orange</td>\n",
       "      <td>Birkengold</td>\n",
       "      <td>https://www.foodist.de/birkengold-xylit-bonbon...</td>\n",
       "      <td>2,50 €</td>\n",
       "      <td>Inhalt:  30 g</td>\n",
       "      <td>8,33 € / 100 g</td>\n",
       "      <td>Brennwert 1.072 kJ(257 kcal)   Fett 1,8 g   ...</td>\n",
       "      <td>https://foodist.imgix.net/media/image/91200488...</td>\n",
       "    </tr>\n",
       "    <tr>\n",
       "      <th>2</th>\n",
       "      <td>2</td>\n",
       "      <td>Schokolade &amp; Spielzeug Weihnachten</td>\n",
       "      <td>PLAYin Choc</td>\n",
       "      <td>https://www.foodist.de/playin-choc-schokolade-...</td>\n",
       "      <td>4,00 €</td>\n",
       "      <td>Inhalt:  20 g</td>\n",
       "      <td>20,00 € / 100 g</td>\n",
       "      <td>Brennwert 2.609 kJ(630 kcal)   Fett 51,6 g  ...</td>\n",
       "      <td>https://foodist.imgix.net/media/image/50605485...</td>\n",
       "    </tr>\n",
       "    <tr>\n",
       "      <th>3</th>\n",
       "      <td>3</td>\n",
       "      <td>Waffelteig gefüllt mit Erdnussbutter \"Nutisfac...</td>\n",
       "      <td>Paddies</td>\n",
       "      <td>https://www.foodist.de/paddies-waffelteig-gefu...</td>\n",
       "      <td>1,99 €</td>\n",
       "      <td>Inhalt:  70 g</td>\n",
       "      <td>2,84 € / 100 g</td>\n",
       "      <td>Brennwert 1.742 kJ(418 kcal)   Fett 25,0 g  ...</td>\n",
       "      <td>https://foodist.imgix.net/media/image/91201027...</td>\n",
       "    </tr>\n",
       "    <tr>\n",
       "      <th>4</th>\n",
       "      <td>4</td>\n",
       "      <td>BIO Marshmallows mit Vanillegeschmack \"Marilyn...</td>\n",
       "      <td>Not Guilty</td>\n",
       "      <td>https://www.foodist.de/not-guilty-bio-marshmal...</td>\n",
       "      <td>1,90 €</td>\n",
       "      <td>Inhalt:  80 g</td>\n",
       "      <td>2,38 € / 100 g</td>\n",
       "      <td>Brennwert 1.386 kJ(326 kcal)   Fett 0,0 g   ...</td>\n",
       "      <td>https://foodist.imgix.net/media/image/36634580...</td>\n",
       "    </tr>\n",
       "  </tbody>\n",
       "</table>\n",
       "</div>"
      ],
      "text/plain": [
       "   Unnamed: 0                                               name        brand  \\\n",
       "0           0                                  BIO Chiasamen 1kg      Foodist   \n",
       "1           1                               Xylit Bonbons Orange   Birkengold   \n",
       "2           2                 Schokolade & Spielzeug Weihnachten  PLAYin Choc   \n",
       "3           3  Waffelteig gefüllt mit Erdnussbutter \"Nutisfac...      Paddies   \n",
       "4           4  BIO Marshmallows mit Vanillegeschmack \"Marilyn...   Not Guilty   \n",
       "\n",
       "                                               links      price  \\\n",
       "0  https://www.foodist.de/foodist-bio-chiasamen-1...    8,95 €    \n",
       "1  https://www.foodist.de/birkengold-xylit-bonbon...    2,50 €    \n",
       "2  https://www.foodist.de/playin-choc-schokolade-...    4,00 €    \n",
       "3  https://www.foodist.de/paddies-waffelteig-gefu...    1,99 €    \n",
       "4  https://www.foodist.de/not-guilty-bio-marshmal...    1,90 €    \n",
       "\n",
       "               weight           price_gr  \\\n",
       "0    Inhalt:  1000 g     0,90 € / 100 g    \n",
       "1      Inhalt:  30 g     8,33 € / 100 g    \n",
       "2      Inhalt:  20 g    20,00 € / 100 g    \n",
       "3      Inhalt:  70 g     2,84 € / 100 g    \n",
       "4      Inhalt:  80 g     2,38 € / 100 g    \n",
       "\n",
       "                                         nutritients  \\\n",
       "0    Brennwert 1.901 kJ(454 kcal)   Fett 31,0 g  ...   \n",
       "1    Brennwert 1.072 kJ(257 kcal)   Fett 1,8 g   ...   \n",
       "2    Brennwert 2.609 kJ(630 kcal)   Fett 51,6 g  ...   \n",
       "3    Brennwert 1.742 kJ(418 kcal)   Fett 25,0 g  ...   \n",
       "4    Brennwert 1.386 kJ(326 kcal)   Fett 0,0 g   ...   \n",
       "\n",
       "                                          photo_link  \n",
       "0  https://foodist.imgix.net/media/image/42604537...  \n",
       "1  https://foodist.imgix.net/media/image/91200488...  \n",
       "2  https://foodist.imgix.net/media/image/50605485...  \n",
       "3  https://foodist.imgix.net/media/image/91201027...  \n",
       "4  https://foodist.imgix.net/media/image/36634580...  "
      ]
     },
     "execution_count": 82,
     "metadata": {},
     "output_type": "execute_result"
    }
   ],
   "source": [
    "foodist.head()"
   ]
  },
  {
   "cell_type": "markdown",
   "id": "7bcb253e-2991-46ae-b528-d39da3b3810b",
   "metadata": {},
   "source": [
    "### Cleaning overview\n",
    "\n",
    "- [ ] removing duplicate index column\n",
    "- [ ] removing weight from product name\n",
    "- [ ] removing extra charcters from weight + changing column type\n",
    "- [ ] removing extra characters from price + changing column type\n",
    "- [ ] splitting nutrition column: kcal, fat, sat_fat, carbs, sugar, fibre, protein, salt\n",
    "\n",
    "Maybe:\n",
    "\n",
    "- [ ] cleaning price_gr column?\n"
   ]
  },
  {
   "cell_type": "markdown",
   "id": "0d01a3e1-0669-49a4-9ee3-e272c6d10ff5",
   "metadata": {},
   "source": [
    "**Dropping duplicate index column**"
   ]
  },
  {
   "cell_type": "code",
   "execution_count": 83,
   "id": "867128f1-8ec9-455c-ab48-8cae2a3bdc0d",
   "metadata": {},
   "outputs": [
    {
     "data": {
      "text/plain": [
       "Index(['name', 'brand', 'links', 'price', 'weight', 'price_gr', 'nutritients',\n",
       "       'photo_link'],\n",
       "      dtype='object')"
      ]
     },
     "execution_count": 83,
     "metadata": {},
     "output_type": "execute_result"
    }
   ],
   "source": [
    "foodist= foodist.drop('Unnamed: 0', axis=1)\n",
    "foodist.columns"
   ]
  },
  {
   "cell_type": "code",
   "execution_count": null,
   "id": "4ff59718-bac1-45e9-983d-38c8e51ae23d",
   "metadata": {},
   "outputs": [],
   "source": []
  }
 ],
 "metadata": {
  "kernelspec": {
   "display_name": "Python 3",
   "language": "python",
   "name": "python3"
  },
  "language_info": {
   "codemirror_mode": {
    "name": "ipython",
    "version": 3
   },
   "file_extension": ".py",
   "mimetype": "text/x-python",
   "name": "python",
   "nbconvert_exporter": "python",
   "pygments_lexer": "ipython3",
   "version": "3.9.6"
  }
 },
 "nbformat": 4,
 "nbformat_minor": 5
}
