{
 "cells": [
  {
   "cell_type": "markdown",
   "id": "33d93dd3-5d41-4f2e-9952-1cb067976d1b",
   "metadata": {},
   "source": [
    "# Web Scraping - Foodist"
   ]
  },
  {
   "cell_type": "markdown",
   "id": "44d4b700",
   "metadata": {
    "toc": true
   },
   "source": [
    "<h1>Table of Contents<span class=\"tocSkip\"></span></h1>\n",
    "<div class=\"toc\"><ul class=\"toc-item\"><li><span><a href=\"#Importing-libraries\" data-toc-modified-id=\"Importing-libraries-1\"><span class=\"toc-item-num\">1&nbsp;&nbsp;</span>Importing libraries</a></span></li><li><span><a href=\"#General-overview\" data-toc-modified-id=\"General-overview-2\"><span class=\"toc-item-num\">2&nbsp;&nbsp;</span>General overview</a></span></li><li><span><a href=\"#Web-Scraping\" data-toc-modified-id=\"Web-Scraping-3\"><span class=\"toc-item-num\">3&nbsp;&nbsp;</span>Web Scraping</a></span><ul class=\"toc-item\"><li><span><a href=\"#Getting-product-links\" data-toc-modified-id=\"Getting-product-links-3.1\"><span class=\"toc-item-num\">3.1&nbsp;&nbsp;</span>Getting product links</a></span></li><li><span><a href=\"#Getting-all-product-infos\" data-toc-modified-id=\"Getting-all-product-infos-3.2\"><span class=\"toc-item-num\">3.2&nbsp;&nbsp;</span>Getting all product infos</a></span><ul class=\"toc-item\"><li><span><a href=\"#Function-to-get-details\" data-toc-modified-id=\"Function-to-get-details-3.2.1\"><span class=\"toc-item-num\">3.2.1&nbsp;&nbsp;</span>Function to get details</a></span></li><li><span><a href=\"#Function-to-create-dataframe\" data-toc-modified-id=\"Function-to-create-dataframe-3.2.2\"><span class=\"toc-item-num\">3.2.2&nbsp;&nbsp;</span>Function to create dataframe</a></span></li></ul></li></ul></li></ul></div>"
   ]
  },
  {
   "cell_type": "markdown",
   "id": "901d2ffa-3008-4f6a-9e6b-58f036a48d4a",
   "metadata": {},
   "source": [
    "## Importing libraries"
   ]
  },
  {
   "cell_type": "code",
   "execution_count": 8,
   "id": "6fd1b49a-3123-4c45-9364-dce15bbf6ff5",
   "metadata": {},
   "outputs": [],
   "source": [
    "from bs4 import BeautifulSoup\n",
    "import requests\n",
    "import pandas as pd"
   ]
  },
  {
   "cell_type": "markdown",
   "id": "f3874fb7-768a-4bcb-a0d0-e1e4fb7d12f3",
   "metadata": {},
   "source": [
    "## General overview"
   ]
  },
  {
   "cell_type": "markdown",
   "id": "bcb58c80-e3cb-40fa-88dc-673d0e71a9c6",
   "metadata": {},
   "source": [
    "|\tProduct name\t|\tBrand\t|\tPrice\t|\tWeight\t|\tCalories\t|\tFat\t|\tSaturated Fats\t|\tCarbohydrates\t|\tSugar\t|\tFibre\t|\tProtein\t|\tSalt\t|\tIngredients\t|\tPhoto link\t|\n",
    "|\t:----------\t|\t:----------\t|\t:---------:\t|\t:---------:\t|\t:---------:\t|\t:---------:\t|\t:---------:\t|\t:---------:\t|\t:---------:\t|\t:---------:\t|\t:---------:\t|\t:---------:\t|\t:---------:\t|\t:---------:\t|\n",
    "|\te.g. Snack bar\t|\t\t|\tin EUR\t|\tin g/kg\t|\tin kj/kcal\t|\tin g\t|\tin g\t|\tin g\t|\tin g\t|\tin g\t|\tin g\t|\tin g\t|\t\t|\t\t|"
   ]
  },
  {
   "cell_type": "markdown",
   "id": "f57306da-2832-4ffb-8912-6f97a47065cc",
   "metadata": {},
   "source": [
    "**List of websites:**\n",
    "- Koro: https://www.korodrogerie.de/snacks/?p=1&o=2&n=144&f=233\n",
    "- Kokku: https://kokku-online.de/vegane-suessigkeiten-snacks/\n",
    "- Foodist: https://www.foodist.de/suesses-snacks?p=1&o=9&n=84&f=36"
   ]
  },
  {
   "cell_type": "markdown",
   "id": "fddf7773-8580-4c0f-b91a-d8c50c275add",
   "metadata": {},
   "source": [
    "## Web Scraping"
   ]
  },
  {
   "cell_type": "markdown",
   "id": "29d63a3b-c50c-4a8b-bec3-f1b45e56115d",
   "metadata": {},
   "source": [
    "### Getting product links"
   ]
  },
  {
   "cell_type": "markdown",
   "id": "70b45156",
   "metadata": {},
   "source": [
    "**Testing**"
   ]
  },
  {
   "cell_type": "code",
   "execution_count": 9,
   "id": "fc19b8c7-46bb-4eb5-990b-a13870820f09",
   "metadata": {},
   "outputs": [
    {
     "data": {
      "text/plain": [
       "200"
      ]
     },
     "execution_count": 9,
     "metadata": {},
     "output_type": "execute_result"
    }
   ],
   "source": [
    "# storing url in a variable\n",
    "url_1 = \"https://www.foodist.de/suesses-snacks?p=1&o=9&n=84&f=36\"\n",
    "\n",
    "# downloading html-code with a get request\n",
    "response_1 = requests.get(url_1)\n",
    "\n",
    "response_1.status_code"
   ]
  },
  {
   "cell_type": "code",
   "execution_count": 10,
   "id": "a9edae46-0948-46b8-8e3b-437748183c5d",
   "metadata": {},
   "outputs": [],
   "source": [
    "# parsing html (creating the 'soup')\n",
    "soup_1 = BeautifulSoup(response_1.content, \"html.parser\")\n"
   ]
  },
  {
   "cell_type": "code",
   "execution_count": 11,
   "id": "ccffc046-9103-4b91-aee3-ffa84c86249e",
   "metadata": {},
   "outputs": [
    {
     "data": {
      "text/plain": [
       "<div class=\"product--title\"> KakaoWUMMS - Gebrannte Kakaobohnen mit Chili </div>"
      ]
     },
     "execution_count": 11,
     "metadata": {},
     "output_type": "execute_result"
    }
   ],
   "source": [
    "# retrieving/extracting the desired info\n",
    "\n",
    "# general product info\n",
    "product_info = soup_1.find_all(\"div\", class_=\"product--title\")\n",
    "\n",
    "# product title\n",
    "product_info[14]"
   ]
  },
  {
   "cell_type": "code",
   "execution_count": 12,
   "id": "7b74d1dc-10c5-4b78-9002-b1df40c2237d",
   "metadata": {},
   "outputs": [
    {
     "data": {
      "text/plain": [
       "'  3,36\\xa0€ / 100 g  '"
      ]
     },
     "execution_count": 12,
     "metadata": {},
     "output_type": "execute_result"
    }
   ],
   "source": [
    "# general product info\n",
    "product_info = soup_1.find_all(\"div\", class_=\"price--unit\")\n",
    "\n",
    "# product price\n",
    "product_info[0].getText()"
   ]
  },
  {
   "cell_type": "code",
   "execution_count": 13,
   "id": "5acf8289-5b25-43f1-a28a-5483dcdb9eed",
   "metadata": {},
   "outputs": [
    {
     "data": {
      "text/plain": [
       "'https://www.foodist.de/foodist-bier-braukasten-set-pils-zum-selbermachen-diy-kit-7685'"
      ]
     },
     "execution_count": 13,
     "metadata": {},
     "output_type": "execute_result"
    }
   ],
   "source": [
    "# general product info\n",
    "product_info = soup_1.find_all(\"div\", class_=\"product--box box--basic\")\n",
    "product_info_2 = soup_1.find_all(\"a\", class_=\"product--link\")\n",
    "\n",
    "# product link\n",
    "#product_info[0].find_all(\"a\", class_=\"product--link\") #.get(\"href\")\n",
    "product_info_2[0].get(\"href\")"
   ]
  },
  {
   "cell_type": "markdown",
   "id": "1122775b",
   "metadata": {},
   "source": [
    "**Functions**"
   ]
  },
  {
   "cell_type": "code",
   "execution_count": 14,
   "id": "2497400f-8c1a-4e59-8c38-d5b102bacc1b",
   "metadata": {},
   "outputs": [],
   "source": [
    "def get_first_details(soup):\n",
    "    \n",
    "    link = soup.find_all(\"a\", class_=\"product--link\")\n",
    "    name = soup.find_all(\"div\", class_=\"product--title\")\n",
    "    brand = soup.find_all(\"div\", class_=\"product--supplier\")\n",
    "    price = soup.find_all(\"div\", class_=\"product--price\")\n",
    "    price_gr = soup.find_all(\"div\", class_=\"price--unit\")\n",
    "    \n",
    "    names = []\n",
    "    brands = []\n",
    "    prices = []\n",
    "    prices_gr = []\n",
    "    links = []\n",
    "    \n",
    "    \n",
    "    for p in name:\n",
    "        name = p.getText()\n",
    "        names.append(name)\n",
    "        \n",
    "    for p in brand:\n",
    "        brand = p.getText()\n",
    "        brands.append(brand)\n",
    "        \n",
    "    for p in price:\n",
    "        price = p.getText()\n",
    "        prices.append(price)\n",
    "    \n",
    "    for p in price_gr:\n",
    "        price = p.getText()\n",
    "        prices_gr.append(price)\n",
    "    \n",
    "    for p in link:\n",
    "        link = p.get(\"href\")\n",
    "        links.append(link)\n",
    "    \n",
    "    return [names, brands, prices, prices_gr, links]"
   ]
  },
  {
   "cell_type": "code",
   "execution_count": 15,
   "id": "806ae005-7988-4904-8a19-99f98d4c2be1",
   "metadata": {},
   "outputs": [],
   "source": [
    "url = \"https://www.foodist.de/suesses-snacks?p=1&o=9&n=84&f=36\"\n",
    "response = requests.get(url)\n",
    "soup = BeautifulSoup(response.content, \"html.parser\")\n",
    "\n",
    "products = get_first_details(soup)"
   ]
  },
  {
   "cell_type": "code",
   "execution_count": 16,
   "id": "86ed14c4-690e-4803-8637-8b1de4e370d2",
   "metadata": {},
   "outputs": [
    {
     "data": {
      "text/plain": [
       "(91, 91, 84, 84, 91)"
      ]
     },
     "execution_count": 16,
     "metadata": {},
     "output_type": "execute_result"
    }
   ],
   "source": [
    "len(products[0]), len(products[1]), len(products[2]), len(products[3]), len(products[4])"
   ]
  },
  {
   "cell_type": "code",
   "execution_count": 17,
   "id": "2fe509e6-4b2e-4753-ac1a-9599f03ee742",
   "metadata": {},
   "outputs": [],
   "source": [
    "def scraping_pages(page):\n",
    "    \n",
    "    names = []\n",
    "    brands = []\n",
    "    links = []\n",
    "    \n",
    "    for p in page:\n",
    "        url = \"https://www.foodist.de/suesses-snacks?p={p}&o=9&n=84&f=36\"\n",
    "        response = requests.get(url)\n",
    "        soup = BeautifulSoup(response.content, \"html.parser\")\n",
    "\n",
    "        link = soup.find_all(\"a\", class_=\"product--link\")\n",
    "        name = soup.find_all(\"div\", class_=\"product--title\")\n",
    "        brand = soup.find_all(\"div\", class_=\"product--supplier\")\n",
    "        \n",
    "        for p in name:\n",
    "            name = p.getText()\n",
    "            names.append(name)\n",
    "        \n",
    "        for p in brand:\n",
    "            brand = p.getText()\n",
    "            brands.append(brand)\n",
    "    \n",
    "        for p in link:\n",
    "            link = p.get(\"href\")\n",
    "            links.append(link)\n",
    "\n",
    "\n",
    "    return [names, brands, links]"
   ]
  },
  {
   "cell_type": "code",
   "execution_count": 18,
   "id": "f01c9bc5-c9f0-49e4-b7db-3c3b27a784cf",
   "metadata": {},
   "outputs": [],
   "source": [
    "products = scraping_pages(page=range(1,7))"
   ]
  },
  {
   "cell_type": "code",
   "execution_count": 19,
   "id": "b13b63b2-4426-4e25-96a7-135954bf8734",
   "metadata": {},
   "outputs": [
    {
     "data": {
      "text/plain": [
       "(546, 546, 546)"
      ]
     },
     "execution_count": 19,
     "metadata": {},
     "output_type": "execute_result"
    }
   ],
   "source": [
    "len(products[0]), len(products[1]), len(products[2])"
   ]
  },
  {
   "cell_type": "markdown",
   "id": "e2240bd6",
   "metadata": {},
   "source": [
    "**Dataframe**"
   ]
  },
  {
   "cell_type": "code",
   "execution_count": 20,
   "id": "a9732f2f-a226-4835-891e-02ec8428d0e6",
   "metadata": {},
   "outputs": [],
   "source": [
    "# Building a dataframe\n",
    "\n",
    "product_overview = pd.DataFrame(\n",
    "    {\"product\": products[0],\n",
    "     \"brand\": products[1],\n",
    "     \"links\": products[2]})"
   ]
  },
  {
   "cell_type": "code",
   "execution_count": 21,
   "id": "266bdfa0-6ff6-4fa0-b54a-166d948d0854",
   "metadata": {},
   "outputs": [],
   "source": [
    "pd.set_option('display.max_rows', None)"
   ]
  },
  {
   "cell_type": "code",
   "execution_count": 62,
   "id": "5152a07d-ee49-44ad-9ed4-6f4f8ddace8b",
   "metadata": {},
   "outputs": [
    {
     "data": {
      "text/html": [
       "<div>\n",
       "<style scoped>\n",
       "    .dataframe tbody tr th:only-of-type {\n",
       "        vertical-align: middle;\n",
       "    }\n",
       "\n",
       "    .dataframe tbody tr th {\n",
       "        vertical-align: top;\n",
       "    }\n",
       "\n",
       "    .dataframe thead th {\n",
       "        text-align: right;\n",
       "    }\n",
       "</style>\n",
       "<table border=\"1\" class=\"dataframe\">\n",
       "  <thead>\n",
       "    <tr style=\"text-align: right;\">\n",
       "      <th></th>\n",
       "      <th>product</th>\n",
       "      <th>brand</th>\n",
       "      <th>links</th>\n",
       "    </tr>\n",
       "  </thead>\n",
       "  <tbody>\n",
       "    <tr>\n",
       "      <th>93</th>\n",
       "      <td>BIO Chiasamen 1kg</td>\n",
       "      <td>Foodist</td>\n",
       "      <td>https://www.foodist.de/foodist-bio-chiasamen-1...</td>\n",
       "    </tr>\n",
       "    <tr>\n",
       "      <th>353</th>\n",
       "      <td>Veganer Proteinriegel mit Kakao und Haselnüssen</td>\n",
       "      <td>Zebra</td>\n",
       "      <td>https://www.foodist.de/zebra-veganer-proteinri...</td>\n",
       "    </tr>\n",
       "    <tr>\n",
       "      <th>20</th>\n",
       "      <td>Dextrose Bonbons mit Fruchtgeschmack</td>\n",
       "      <td>frufree</td>\n",
       "      <td>https://www.foodist.de/frufree-dextrose-bonbon...</td>\n",
       "    </tr>\n",
       "    <tr>\n",
       "      <th>280</th>\n",
       "      <td>Foodist Snack Bites Probierpaket, 10-teilig</td>\n",
       "      <td>Foodist</td>\n",
       "      <td>https://www.foodist.de/foodist-foodist-snack-b...</td>\n",
       "    </tr>\n",
       "    <tr>\n",
       "      <th>203</th>\n",
       "      <td>BIO Schokoladen Weihnachtsmann</td>\n",
       "      <td>Foodist</td>\n",
       "      <td>https://www.foodist.de/foodist-bio-schokoladen...</td>\n",
       "    </tr>\n",
       "    <tr>\n",
       "      <th>27</th>\n",
       "      <td>BIO Pekannusskerne</td>\n",
       "      <td>Foodist</td>\n",
       "      <td>https://www.foodist.de/foodist-bio-pekannusske...</td>\n",
       "    </tr>\n",
       "    <tr>\n",
       "      <th>19</th>\n",
       "      <td>Fruchtpapier Apfel &amp; Erdbeere</td>\n",
       "      <td>Dörrwerk</td>\n",
       "      <td>https://www.foodist.de/doerrwerk-fruchtpapier-...</td>\n",
       "    </tr>\n",
       "    <tr>\n",
       "      <th>236</th>\n",
       "      <td>Schoko Crunchies Vollm*lch Zimt</td>\n",
       "      <td>Foodist</td>\n",
       "      <td>https://www.foodist.de/foodist-schoko-crunchie...</td>\n",
       "    </tr>\n",
       "    <tr>\n",
       "      <th>539</th>\n",
       "      <td>BIO Cookies mit Pistazien und Zitrone</td>\n",
       "      <td>Green &amp; More</td>\n",
       "      <td>https://www.foodist.de/green-more-bio-cookies-...</td>\n",
       "    </tr>\n",
       "    <tr>\n",
       "      <th>442</th>\n",
       "      <td>Maiskörner, geröstet &amp; gesalzen 1kg</td>\n",
       "      <td>Foodist</td>\n",
       "      <td>https://www.foodist.de/foodist-maiskoerner-ger...</td>\n",
       "    </tr>\n",
       "    <tr>\n",
       "      <th>323</th>\n",
       "      <td>BIO Schokolade \"Schoko Schamane\"</td>\n",
       "      <td>mind sweets</td>\n",
       "      <td>https://www.foodist.de/mind-sweets-bio-schokol...</td>\n",
       "    </tr>\n",
       "    <tr>\n",
       "      <th>264</th>\n",
       "      <td>Veganer Proteinriegel mit Erdnüssen</td>\n",
       "      <td>Zebra</td>\n",
       "      <td>https://www.foodist.de/zebra-veganer-proteinri...</td>\n",
       "    </tr>\n",
       "    <tr>\n",
       "      <th>288</th>\n",
       "      <td>BIO Pralinen Adventskalender 2021</td>\n",
       "      <td>Foodist</td>\n",
       "      <td>https://www.foodist.de/foodist-bio-pralinen-ad...</td>\n",
       "    </tr>\n",
       "    <tr>\n",
       "      <th>310</th>\n",
       "      <td>BIO Schokoriegel mit gerösteten Haselnüssen \"...</td>\n",
       "      <td>Chokay</td>\n",
       "      <td>https://www.foodist.de/chokay-bio-schokoriegel...</td>\n",
       "    </tr>\n",
       "    <tr>\n",
       "      <th>445</th>\n",
       "      <td>Veganer Proteinriegel mit Erdbeere</td>\n",
       "      <td>Zebra</td>\n",
       "      <td>https://www.foodist.de/zebra-veganer-proteinri...</td>\n",
       "    </tr>\n",
       "    <tr>\n",
       "      <th>178</th>\n",
       "      <td>BIO Bananenriegel Kakao</td>\n",
       "      <td>Banabar</td>\n",
       "      <td>https://www.foodist.de/banabar-bio-bananenrieg...</td>\n",
       "    </tr>\n",
       "    <tr>\n",
       "      <th>282</th>\n",
       "      <td>Schokolade &amp; Spielzeug Weihnachten</td>\n",
       "      <td>PLAYin Choc</td>\n",
       "      <td>https://www.foodist.de/playin-choc-schokolade-...</td>\n",
       "    </tr>\n",
       "    <tr>\n",
       "      <th>358</th>\n",
       "      <td>BIO Cookies mit Nüssen und Blaubeeren</td>\n",
       "      <td>Green &amp; More</td>\n",
       "      <td>https://www.foodist.de/green-more-bio-cookies-...</td>\n",
       "    </tr>\n",
       "    <tr>\n",
       "      <th>41</th>\n",
       "      <td>Pea Chili Lime Snack</td>\n",
       "      <td>Vaya</td>\n",
       "      <td>https://www.foodist.de/vaya-pea-chili-lime-sna...</td>\n",
       "    </tr>\n",
       "    <tr>\n",
       "      <th>408</th>\n",
       "      <td>Schokomandeln, leicht gesalzen 500g</td>\n",
       "      <td>Foodist</td>\n",
       "      <td>https://www.foodist.de/foodist-schokomandeln-l...</td>\n",
       "    </tr>\n",
       "  </tbody>\n",
       "</table>\n",
       "</div>"
      ],
      "text/plain": [
       "                                               product           brand  \\\n",
       "93                                  BIO Chiasamen 1kg         Foodist    \n",
       "353   Veganer Proteinriegel mit Kakao und Haselnüssen           Zebra    \n",
       "20               Dextrose Bonbons mit Fruchtgeschmack         frufree    \n",
       "280       Foodist Snack Bites Probierpaket, 10-teilig         Foodist    \n",
       "203                    BIO Schokoladen Weihnachtsmann         Foodist    \n",
       "27                                 BIO Pekannusskerne         Foodist    \n",
       "19                      Fruchtpapier Apfel & Erdbeere        Dörrwerk    \n",
       "236                   Schoko Crunchies Vollm*lch Zimt         Foodist    \n",
       "539             BIO Cookies mit Pistazien und Zitrone    Green & More    \n",
       "442               Maiskörner, geröstet & gesalzen 1kg         Foodist    \n",
       "323                  BIO Schokolade \"Schoko Schamane\"     mind sweets    \n",
       "264               Veganer Proteinriegel mit Erdnüssen           Zebra    \n",
       "288                 BIO Pralinen Adventskalender 2021         Foodist    \n",
       "310   BIO Schokoriegel mit gerösteten Haselnüssen \"...         Chokay    \n",
       "445                Veganer Proteinriegel mit Erdbeere           Zebra    \n",
       "178                           BIO Bananenriegel Kakao         Banabar    \n",
       "282                Schokolade & Spielzeug Weihnachten     PLAYin Choc    \n",
       "358             BIO Cookies mit Nüssen und Blaubeeren    Green & More    \n",
       "41                               Pea Chili Lime Snack            Vaya    \n",
       "408               Schokomandeln, leicht gesalzen 500g         Foodist    \n",
       "\n",
       "                                                 links  \n",
       "93   https://www.foodist.de/foodist-bio-chiasamen-1...  \n",
       "353  https://www.foodist.de/zebra-veganer-proteinri...  \n",
       "20   https://www.foodist.de/frufree-dextrose-bonbon...  \n",
       "280  https://www.foodist.de/foodist-foodist-snack-b...  \n",
       "203  https://www.foodist.de/foodist-bio-schokoladen...  \n",
       "27   https://www.foodist.de/foodist-bio-pekannusske...  \n",
       "19   https://www.foodist.de/doerrwerk-fruchtpapier-...  \n",
       "236  https://www.foodist.de/foodist-schoko-crunchie...  \n",
       "539  https://www.foodist.de/green-more-bio-cookies-...  \n",
       "442  https://www.foodist.de/foodist-maiskoerner-ger...  \n",
       "323  https://www.foodist.de/mind-sweets-bio-schokol...  \n",
       "264  https://www.foodist.de/zebra-veganer-proteinri...  \n",
       "288  https://www.foodist.de/foodist-bio-pralinen-ad...  \n",
       "310  https://www.foodist.de/chokay-bio-schokoriegel...  \n",
       "445  https://www.foodist.de/zebra-veganer-proteinri...  \n",
       "178  https://www.foodist.de/banabar-bio-bananenrieg...  \n",
       "282  https://www.foodist.de/playin-choc-schokolade-...  \n",
       "358  https://www.foodist.de/green-more-bio-cookies-...  \n",
       "41   https://www.foodist.de/vaya-pea-chili-lime-sna...  \n",
       "408  https://www.foodist.de/foodist-schokomandeln-l...  "
      ]
     },
     "execution_count": 62,
     "metadata": {},
     "output_type": "execute_result"
    }
   ],
   "source": [
    "product_overview.sample(20)"
   ]
  },
  {
   "cell_type": "markdown",
   "id": "47823fef-4b87-4936-b49f-7a0a6ff4828d",
   "metadata": {},
   "source": [
    "### Getting all product infos"
   ]
  },
  {
   "cell_type": "markdown",
   "id": "74690521",
   "metadata": {},
   "source": [
    "**Testing**"
   ]
  },
  {
   "cell_type": "code",
   "execution_count": 63,
   "id": "6bcbd905-5d2f-4d9b-a793-40c2e5a15fd0",
   "metadata": {},
   "outputs": [
    {
     "data": {
      "text/plain": [
       "200"
      ]
     },
     "execution_count": 63,
     "metadata": {},
     "output_type": "execute_result"
    }
   ],
   "source": [
    "# storing url in a variable\n",
    "url = \"https://www.foodist.de/vista-portuguese-mandeln-mit-zimt-zucker-10854\"\n",
    "\n",
    "# downloading html-code with a get request\n",
    "response = requests.get(url)\n",
    "response.status_code"
   ]
  },
  {
   "cell_type": "code",
   "execution_count": 64,
   "id": "053b64ad-f681-45ee-8726-7c9ca52c4e4f",
   "metadata": {},
   "outputs": [],
   "source": [
    "soup = BeautifulSoup(response.content, \"html.parser\")"
   ]
  },
  {
   "cell_type": "code",
   "execution_count": 65,
   "id": "2face00c-4d4b-4438-857a-88aae7926359",
   "metadata": {},
   "outputs": [
    {
     "data": {
      "text/plain": [
       "'  7,90\\xa0€ '"
      ]
     },
     "execution_count": 65,
     "metadata": {},
     "output_type": "execute_result"
    }
   ],
   "source": [
    "# price\n",
    "price = soup.find_all(\"div\", class_=\"price--default\")\n",
    "price[0].getText()"
   ]
  },
  {
   "cell_type": "code",
   "execution_count": 66,
   "id": "fd9a92a4-41d3-45fe-aa8d-d1a3cd639ba0",
   "metadata": {},
   "outputs": [
    {
     "data": {
      "text/plain": [
       "'  Inhalt:  125\\xa0g '"
      ]
     },
     "execution_count": 66,
     "metadata": {},
     "output_type": "execute_result"
    }
   ],
   "source": [
    "# weight\n",
    "weight = soup.find_all(\"span\", class_=\"product--unit\")\n",
    "weight[0].getText()"
   ]
  },
  {
   "cell_type": "code",
   "execution_count": 67,
   "id": "edfc5d25-6d55-447e-9842-a2e9029052c6",
   "metadata": {},
   "outputs": [
    {
     "data": {
      "text/plain": [
       "' 6,32\\xa0€ / 100\\xa0g '"
      ]
     },
     "execution_count": 67,
     "metadata": {},
     "output_type": "execute_result"
    }
   ],
   "source": [
    "# price/weight\n",
    "price_gr = soup.find_all(\"span\", class_=\"product--reference-unit-price\")\n",
    "price_gr[0].getText()"
   ]
  },
  {
   "cell_type": "code",
   "execution_count": 68,
   "id": "2e98f976-f354-4e6c-987f-ea2463e62a87",
   "metadata": {},
   "outputs": [
    {
     "data": {
      "text/plain": [
       "'  Brennwert 2.022 kJ(442 kcal)   Fett 26,0 g   davon gesättigte Fettsäuren 2,0 g   Kohlenhydrate 59,0 g   davon Zucker 52,0 g   Eiweiß 11,0 g   Salz 0,00 g  '"
      ]
     },
     "execution_count": 68,
     "metadata": {},
     "output_type": "execute_result"
    }
   ],
   "source": [
    "# kcal\n",
    "# nutrients\n",
    "nutritients = soup.find_all(\"tbody\")\n",
    "nutritients[0].getText()"
   ]
  },
  {
   "cell_type": "code",
   "execution_count": 69,
   "id": "6fa1f1d0-e471-42de-8355-13bbe181840b",
   "metadata": {},
   "outputs": [
    {
     "data": {
      "text/plain": [
       "'https://foodist.imgix.net/media/image/5602132652727_0.jpg?auto=compress%2Cformat&h=60&q=20&w=60'"
      ]
     },
     "execution_count": 69,
     "metadata": {},
     "output_type": "execute_result"
    }
   ],
   "source": [
    "# photo\n",
    "photo = soup.find_all(\"span\", class_=\"image--media\")\n",
    "photo[0].canvas.get(\"data-image\")"
   ]
  },
  {
   "cell_type": "code",
   "execution_count": 84,
   "id": "f320720a-4fde-4262-9fe2-5d89decf7c2b",
   "metadata": {},
   "outputs": [
    {
     "data": {
      "text/plain": [
       "'https://www.foodist.de/vista-portuguese-mandeln-mit-zimt-zucker-10854'"
      ]
     },
     "execution_count": 84,
     "metadata": {},
     "output_type": "execute_result"
    }
   ],
   "source": [
    "# link\n",
    "link = soup.find_all(\"meta\", property=\"og:url\")\n",
    "link[0].get(\"content\")"
   ]
  },
  {
   "cell_type": "code",
   "execution_count": 146,
   "id": "41243e82-fbf7-4e2e-85c1-28cc021c44bd",
   "metadata": {},
   "outputs": [
    {
     "data": {
      "text/plain": [
       "'Mandeln mit Zimt & Zucker'"
      ]
     },
     "execution_count": 146,
     "metadata": {},
     "output_type": "execute_result"
    }
   ],
   "source": [
    "# product name\n",
    "name = soup.find_all(\"h1\", class_=\"product--title\")\n",
    "name[0].getText()"
   ]
  },
  {
   "cell_type": "code",
   "execution_count": 148,
   "id": "fda9ddc4-0c9f-49dc-853b-ab2e5206d166",
   "metadata": {},
   "outputs": [
    {
     "data": {
      "text/plain": [
       "'Vista Portuguese'"
      ]
     },
     "execution_count": 148,
     "metadata": {},
     "output_type": "execute_result"
    }
   ],
   "source": [
    "# brand\n",
    "brand = soup.find_all(\"a\", class_=\"product--supplier\")\n",
    "brand[0].getText()"
   ]
  },
  {
   "cell_type": "code",
   "execution_count": 30,
   "id": "c030e032-1818-435d-a628-9fa46b3dacc6",
   "metadata": {},
   "outputs": [],
   "source": [
    "# price\n",
    "price = soup.find_all(\"div\", class_=\"price--default\")\n",
    "\n",
    "# weight\n",
    "weight = soup.find_all(\"span\", class_=\"product--unit\")\n",
    "\n",
    "# price/weight\n",
    "price_gr = soup.find_all(\"span\", class_=\"product--reference-unit-price\")\n",
    "\n",
    "# nutrients\n",
    "nutritients = soup.find_all(\"td\", class_=\"nutrition-value\")\n",
    "\n",
    "# ingredients\n",
    "ingredients = soup.find_all(\"span\", class_=\"base-info--label\")\n",
    "\n",
    "# photo\n",
    "photo = soup.find_all(\"span\", class_=\"image--media\")"
   ]
  },
  {
   "cell_type": "markdown",
   "id": "c7e40ff4",
   "metadata": {},
   "source": [
    "#### Function to get details"
   ]
  },
  {
   "cell_type": "code",
   "execution_count": 151,
   "id": "8db852be-8028-47f7-a425-4ee091c2b2d1",
   "metadata": {},
   "outputs": [],
   "source": [
    "def scraping_details(links, *skip_link):\n",
    "    \n",
    "    lst_name = []\n",
    "    lst_brand = []\n",
    "    lst_link = []\n",
    "    lst_price = []\n",
    "    lst_weight = []\n",
    "    lst_price_gr = []\n",
    "    lst_nutrients = []\n",
    "    # lst_ingredients = []\n",
    "    lst_photos = []\n",
    "\n",
    "    for l in links:\n",
    "        \n",
    "        if l not in skip_link:\n",
    "            \n",
    "            try:\n",
    "\n",
    "                url = l\n",
    "                response = requests.get(url)\n",
    "\n",
    "                soup = BeautifulSoup(response.content, \"html.parser\")\n",
    "                \n",
    "                # product name\n",
    "                name = soup.find_all(\"h1\", class_=\"product--title\")\n",
    "                \n",
    "                # brand\n",
    "                brand = soup.find_all(\"a\", class_=\"product--supplier\")\n",
    "                \n",
    "                # price\n",
    "                price = soup.find_all(\"div\", class_=\"price--default\")\n",
    "\n",
    "                # weight\n",
    "                weight = soup.find_all(\"span\", class_=\"product--unit\")\n",
    "\n",
    "                # price/weight\n",
    "                price_gr = soup.find_all(\"span\", class_=\"product--reference-unit-price\")\n",
    "\n",
    "                # nutrients\n",
    "                nutritients = soup.find_all(\"td\", class_=\"nutrition-value\")\n",
    "\n",
    "                # ingredients\n",
    "                # ingredients = soup.find_all(\"span\", class_=\"base-info--label\")\n",
    "\n",
    "                \n",
    "                # getting text for all necessary features\n",
    "                for i in [name, brand, price, weight, price_gr]:\n",
    "                    for j in range(len(i)):\n",
    "                        i[j] = i[j].getText()\n",
    "\n",
    "                \n",
    "                # photo + getting photo link\n",
    "                photo = soup.find_all(\"span\", class_=\"image--media\")\n",
    "\n",
    "                photo_link = photo[0].canvas.get(\"data-image\")\n",
    "\n",
    "\n",
    "                # nutrients\n",
    "                nutrients = soup.find_all(\"tbody\")\n",
    "                \n",
    "                nutrient = nutrients[0].getText()\n",
    "                \n",
    "                \n",
    "                # link\n",
    "                links = soup.find_all(\"meta\", property=\"og:url\")\n",
    "                link = links[0].get(\"content\")\n",
    "                \n",
    "                lst_name.append(name[0])\n",
    "                lst_brand.append(brand[0])\n",
    "                lst_link.append(link)\n",
    "                lst_price.append(price[0])\n",
    "                lst_weight.append(weight[0])\n",
    "                lst_price_gr.append(price_gr[0])\n",
    "                lst_nutrients.append(nutrient)\n",
    "                lst_photos.append(photo_link)\n",
    "\n",
    "            except: \n",
    "                \n",
    "                print(\"error for: \", l)\n",
    "        \n",
    "        \n",
    "    return [lst_name, lst_brand, lst_link, lst_price, lst_weight, lst_price_gr, lst_nutrients, lst_photos]\n"
   ]
  },
  {
   "cell_type": "markdown",
   "id": "c3a8e828",
   "metadata": {},
   "source": [
    "**Testing function**"
   ]
  },
  {
   "cell_type": "code",
   "execution_count": 152,
   "id": "d58397c0-0ec6-4416-8ce0-63fc16962510",
   "metadata": {},
   "outputs": [
    {
     "data": {
      "text/plain": [
       "[['Mandeln mit Zimt & Zucker'],\n",
       " ['Vista Portuguese'],\n",
       " ['https://www.foodist.de/vista-portuguese-mandeln-mit-zimt-zucker-10854'],\n",
       " ['  7,90\\xa0€ '],\n",
       " ['  Inhalt:  125\\xa0g '],\n",
       " [' 6,32\\xa0€ / 100\\xa0g '],\n",
       " ['  Brennwert 2.022 kJ(442 kcal)   Fett 26,0 g   davon gesättigte Fettsäuren 2,0 g   Kohlenhydrate 59,0 g   davon Zucker 52,0 g   Eiweiß 11,0 g   Salz 0,00 g  '],\n",
       " ['https://foodist.imgix.net/media/image/5602132652727_0.jpg?auto=compress%2Cformat&h=60&q=20&w=60']]"
      ]
     },
     "execution_count": 152,
     "metadata": {},
     "output_type": "execute_result"
    }
   ],
   "source": [
    "links=['https://www.foodist.de/vista-portuguese-mandeln-mit-zimt-zucker-10854']\n",
    "\n",
    "product_1 = scraping_details(links, *skip_link)\n",
    "product_1"
   ]
  },
  {
   "cell_type": "code",
   "execution_count": 153,
   "id": "070a396e-1438-4d24-b0db-bc6af481c662",
   "metadata": {},
   "outputs": [
    {
     "data": {
      "text/plain": [
       "[['Fruchtsticks Himbeere', 'Mandeln mit Zimt & Zucker'],\n",
       " ['N.A! Nature Addicts', 'Vista Portuguese'],\n",
       " ['https://www.foodist.de/n.a-nature-addicts-fruchtsticks-himbeere-10895',\n",
       "  'https://www.foodist.de/vista-portuguese-mandeln-mit-zimt-zucker-10854'],\n",
       " ['  0,90\\xa0€ ', '  7,90\\xa0€ '],\n",
       " ['  Inhalt:  16\\xa0g ', '  Inhalt:  125\\xa0g '],\n",
       " [' 5,63\\xa0€ / 100\\xa0g ', ' 6,32\\xa0€ / 100\\xa0g '],\n",
       " ['  Brennwert 1.415 kJ(334 kcal)   Fett 1,2 g   davon gesättigte Fettsäuren 0,3 g   Kohlenhydrate 75,0 g   davon Zucker 69,0 g   Ballaststoffe 8,1 g   Eiweiß 18,0 g   Salz 0,10 g  ',\n",
       "  '  Brennwert 2.022 kJ(442 kcal)   Fett 26,0 g   davon gesättigte Fettsäuren 2,0 g   Kohlenhydrate 59,0 g   davon Zucker 52,0 g   Eiweiß 11,0 g   Salz 0,00 g  '],\n",
       " ['https://foodist.imgix.net/media/image/3609200010757_0.jpg?auto=compress%2Cformat&h=60&q=20&w=60',\n",
       "  'https://foodist.imgix.net/media/image/5602132652727_0.jpg?auto=compress%2Cformat&h=60&q=20&w=60']]"
      ]
     },
     "execution_count": 153,
     "metadata": {},
     "output_type": "execute_result"
    }
   ],
   "source": [
    "two_products = scraping_details(links=['https://www.foodist.de/n.a-nature-addicts-fruchtsticks-himbeere-10895', \n",
    "                                       'https://www.foodist.de/vista-portuguese-mandeln-mit-zimt-zucker-10854'])\n",
    "two_products"
   ]
  },
  {
   "cell_type": "code",
   "execution_count": 154,
   "id": "b87f95fc-79c1-4bd1-ae2d-36e11451823c",
   "metadata": {},
   "outputs": [
    {
     "name": "stdout",
     "output_type": "stream",
     "text": [
      "error for:  https://www.foodist.de/foodist-bier-braukasten-set-pils-zum-selbermachen-diy-kit-7685\n"
     ]
    },
    {
     "data": {
      "text/plain": [
       "['Mandeln mit Zimt & Zucker', 'Fruchtsticks Himbeere']"
      ]
     },
     "execution_count": 154,
     "metadata": {},
     "output_type": "execute_result"
    }
   ],
   "source": [
    "skip_link=['https://www.foodist.de/foodist-bier-braukasten-set-pils-zum-selbermachen-diy-kit-7685']\n",
    "links=['https://www.foodist.de/foodist-bier-braukasten-set-pils-zum-selbermachen-diy-kit-7685',\n",
    "                  'https://www.foodist.de/vista-portuguese-mandeln-mit-zimt-zucker-10854', \n",
    "                   'https://www.foodist.de/n.a-nature-addicts-fruchtsticks-himbeere-10895']\n",
    "\n",
    "test = scraping_details(links, skip_link)\n",
    "test[0]"
   ]
  },
  {
   "cell_type": "code",
   "execution_count": 155,
   "id": "4b68c934-845a-43dd-993d-6b8f1b508d8b",
   "metadata": {},
   "outputs": [
    {
     "data": {
      "text/plain": [
       "[['Mandeln mit Zimt & Zucker', 'Fruchtsticks Himbeere'],\n",
       " ['Vista Portuguese', 'N.A! Nature Addicts'],\n",
       " ['https://www.foodist.de/vista-portuguese-mandeln-mit-zimt-zucker-10854',\n",
       "  'https://www.foodist.de/n.a-nature-addicts-fruchtsticks-himbeere-10895'],\n",
       " ['  7,90\\xa0€ ', '  0,90\\xa0€ '],\n",
       " ['  Inhalt:  125\\xa0g ', '  Inhalt:  16\\xa0g '],\n",
       " [' 6,32\\xa0€ / 100\\xa0g ', ' 5,63\\xa0€ / 100\\xa0g '],\n",
       " ['  Brennwert 2.022 kJ(442 kcal)   Fett 26,0 g   davon gesättigte Fettsäuren 2,0 g   Kohlenhydrate 59,0 g   davon Zucker 52,0 g   Eiweiß 11,0 g   Salz 0,00 g  ',\n",
       "  '  Brennwert 1.415 kJ(334 kcal)   Fett 1,2 g   davon gesättigte Fettsäuren 0,3 g   Kohlenhydrate 75,0 g   davon Zucker 69,0 g   Ballaststoffe 8,1 g   Eiweiß 18,0 g   Salz 0,10 g  '],\n",
       " ['https://foodist.imgix.net/media/image/5602132652727_0.jpg?auto=compress%2Cformat&h=60&q=20&w=60',\n",
       "  'https://foodist.imgix.net/media/image/3609200010757_0.jpg?auto=compress%2Cformat&h=60&q=20&w=60']]"
      ]
     },
     "execution_count": 155,
     "metadata": {},
     "output_type": "execute_result"
    }
   ],
   "source": [
    "test"
   ]
  },
  {
   "cell_type": "markdown",
   "id": "17974761-4828-4347-82ff-cb5c9ec8de5a",
   "metadata": {},
   "source": [
    "#### Function to create dataframe"
   ]
  },
  {
   "cell_type": "code",
   "execution_count": 158,
   "id": "8ffc4948-e4ac-41ba-a3a6-27cca7da9733",
   "metadata": {},
   "outputs": [],
   "source": [
    "def creating_df(links, *list_):\n",
    "\n",
    "    result = scraping_details(links, *list_)\n",
    "\n",
    "    details = pd.DataFrame(\n",
    "        {\"name\": result[0],\n",
    "        \"brand\": result[1],\n",
    "        \"links\": result[2],\n",
    "        \"price\": result[3],\n",
    "        \"weight\": result[4],\n",
    "        \"price_gr\": result[5],\n",
    "        \"nutritients\": result[6],\n",
    "        \"photo_link\": result[7]}\n",
    "        )\n",
    "        \n",
    "    return details"
   ]
  },
  {
   "cell_type": "code",
   "execution_count": 159,
   "id": "31197b89-01f4-4916-9948-90dadd68a9a6",
   "metadata": {},
   "outputs": [
    {
     "data": {
      "text/html": [
       "<div>\n",
       "<style scoped>\n",
       "    .dataframe tbody tr th:only-of-type {\n",
       "        vertical-align: middle;\n",
       "    }\n",
       "\n",
       "    .dataframe tbody tr th {\n",
       "        vertical-align: top;\n",
       "    }\n",
       "\n",
       "    .dataframe thead th {\n",
       "        text-align: right;\n",
       "    }\n",
       "</style>\n",
       "<table border=\"1\" class=\"dataframe\">\n",
       "  <thead>\n",
       "    <tr style=\"text-align: right;\">\n",
       "      <th></th>\n",
       "      <th>name</th>\n",
       "      <th>brand</th>\n",
       "      <th>links</th>\n",
       "      <th>price</th>\n",
       "      <th>weight</th>\n",
       "      <th>price_gr</th>\n",
       "      <th>nutritients</th>\n",
       "      <th>photo_link</th>\n",
       "    </tr>\n",
       "  </thead>\n",
       "  <tbody>\n",
       "    <tr>\n",
       "      <th>0</th>\n",
       "      <td>Mandeln mit Zimt &amp; Zucker</td>\n",
       "      <td>Vista Portuguese</td>\n",
       "      <td>https://www.foodist.de/vista-portuguese-mandel...</td>\n",
       "      <td>7,90 €</td>\n",
       "      <td>Inhalt:  125 g</td>\n",
       "      <td>6,32 € / 100 g</td>\n",
       "      <td>Brennwert 2.022 kJ(442 kcal)   Fett 26,0 g  ...</td>\n",
       "      <td>https://foodist.imgix.net/media/image/56021326...</td>\n",
       "    </tr>\n",
       "    <tr>\n",
       "      <th>1</th>\n",
       "      <td>Fruchtsticks Himbeere</td>\n",
       "      <td>N.A! Nature Addicts</td>\n",
       "      <td>https://www.foodist.de/n.a-nature-addicts-fruc...</td>\n",
       "      <td>0,90 €</td>\n",
       "      <td>Inhalt:  16 g</td>\n",
       "      <td>5,63 € / 100 g</td>\n",
       "      <td>Brennwert 1.415 kJ(334 kcal)   Fett 1,2 g   ...</td>\n",
       "      <td>https://foodist.imgix.net/media/image/36092000...</td>\n",
       "    </tr>\n",
       "  </tbody>\n",
       "</table>\n",
       "</div>"
      ],
      "text/plain": [
       "                        name                brand  \\\n",
       "0  Mandeln mit Zimt & Zucker     Vista Portuguese   \n",
       "1      Fruchtsticks Himbeere  N.A! Nature Addicts   \n",
       "\n",
       "                                               links      price  \\\n",
       "0  https://www.foodist.de/vista-portuguese-mandel...    7,90 €    \n",
       "1  https://www.foodist.de/n.a-nature-addicts-fruc...    0,90 €    \n",
       "\n",
       "              weight          price_gr  \\\n",
       "0    Inhalt:  125 g    6,32 € / 100 g    \n",
       "1     Inhalt:  16 g    5,63 € / 100 g    \n",
       "\n",
       "                                         nutritients  \\\n",
       "0    Brennwert 2.022 kJ(442 kcal)   Fett 26,0 g  ...   \n",
       "1    Brennwert 1.415 kJ(334 kcal)   Fett 1,2 g   ...   \n",
       "\n",
       "                                          photo_link  \n",
       "0  https://foodist.imgix.net/media/image/56021326...  \n",
       "1  https://foodist.imgix.net/media/image/36092000...  "
      ]
     },
     "execution_count": 159,
     "metadata": {},
     "output_type": "execute_result"
    }
   ],
   "source": [
    "skip_link=['https://www.foodist.de/foodist-bier-braukasten-set-pils-zum-selbermachen-diy-kit-7685']\n",
    "links=['https://www.foodist.de/foodist-bier-braukasten-set-pils-zum-selbermachen-diy-kit-7685',\n",
    "                  'https://www.foodist.de/vista-portuguese-mandeln-mit-zimt-zucker-10854', \n",
    "                   'https://www.foodist.de/n.a-nature-addicts-fruchtsticks-himbeere-10895']\n",
    "creating_df(links, *skip_link)"
   ]
  },
  {
   "cell_type": "markdown",
   "id": "93d3a7cf-0645-49a2-8d60-2ffc69b5da21",
   "metadata": {},
   "source": [
    "**Checking which links don't work**"
   ]
  },
  {
   "cell_type": "code",
   "execution_count": 111,
   "id": "0d0aeff4-42cd-4004-ae88-867dbb203208",
   "metadata": {},
   "outputs": [
    {
     "name": "stdout",
     "output_type": "stream",
     "text": [
      "error for:  https://www.foodist.de/foodist-bier-braukasten-set-pils-zum-selbermachen-diy-kit-7685\n",
      "error for:  https://www.foodist.de/foodist-feinschmecker-adventskalender-2021-von-thomas-buehner-11069\n",
      "error for:  https://www.foodist.de/foodist-foodist-snacks-adventskalender-2021-11092\n",
      "error for:  https://www.foodist.de/craft-beer-adventskalender\n",
      "error for:  https://www.foodist.de/gaia-bienenwachstuch-starterset-jungle-3-teilig-10074\n",
      "error for:  https://www.foodist.de/foodist-bio-spice-your-pumpkin-pie-gewuerzmischung-by-marry-kotter-11340\n",
      "error for:  https://www.foodist.de/foodist-foodist-snack-bites-probierpaket-10-teilig-8465\n",
      "error for:  https://www.foodist.de/foodist-bio-pralinen-adventskalender-2021-11249\n",
      "error for:  https://www.foodist.de/foodist-bio-schokoladen-weihnachtsmann-sparset-4-teilig-11704\n",
      "error for:  https://www.foodist.de/the-beginnings-cookies-doppelpack-mit-orange-cranberry-11565\n",
      "error for:  https://www.foodist.de/foodist-scharfe-erdnuesse-10915\n",
      "error for:  https://www.foodist.de/foodloose-bio-fruchtgummi-mango-10870\n",
      "error for:  https://www.foodist.de/foodist-foodist-snacks-adventskalender-2021-11092\n",
      "error for:  https://www.foodist.de/veganer-adventskalender\n",
      "error for:  https://www.foodist.de/foodist-bier-braukasten-set-pils-zum-selbermachen-diy-kit-7685\n",
      "error for:  https://www.foodist.de/foodist-feinschmecker-adventskalender-2021-von-thomas-buehner-11069\n",
      "error for:  https://www.foodist.de/foodist-foodist-snacks-adventskalender-2021-11092\n",
      "error for:  https://www.foodist.de/craft-beer-adventskalender\n",
      "error for:  https://www.foodist.de/gaia-bienenwachstuch-starterset-jungle-3-teilig-10074\n",
      "error for:  https://www.foodist.de/foodist-bio-spice-your-pumpkin-pie-gewuerzmischung-by-marry-kotter-11340\n",
      "error for:  https://www.foodist.de/foodist-foodist-snack-bites-probierpaket-10-teilig-8465\n",
      "error for:  https://www.foodist.de/foodist-bio-pralinen-adventskalender-2021-11249\n",
      "error for:  https://www.foodist.de/foodist-bio-schokoladen-weihnachtsmann-sparset-4-teilig-11704\n",
      "error for:  https://www.foodist.de/the-beginnings-cookies-doppelpack-mit-orange-cranberry-11565\n",
      "error for:  https://www.foodist.de/foodist-scharfe-erdnuesse-10915\n",
      "error for:  https://www.foodist.de/foodloose-bio-fruchtgummi-mango-10870\n",
      "error for:  https://www.foodist.de/foodist-foodist-snacks-adventskalender-2021-11092\n",
      "error for:  https://www.foodist.de/veganer-adventskalender\n",
      "error for:  https://www.foodist.de/foodist-bier-braukasten-set-pils-zum-selbermachen-diy-kit-7685\n",
      "error for:  https://www.foodist.de/foodist-feinschmecker-adventskalender-2021-von-thomas-buehner-11069\n",
      "error for:  https://www.foodist.de/foodist-foodist-snacks-adventskalender-2021-11092\n",
      "error for:  https://www.foodist.de/craft-beer-adventskalender\n",
      "error for:  https://www.foodist.de/gaia-bienenwachstuch-starterset-jungle-3-teilig-10074\n",
      "error for:  https://www.foodist.de/foodist-bio-spice-your-pumpkin-pie-gewuerzmischung-by-marry-kotter-11340\n",
      "error for:  https://www.foodist.de/foodist-foodist-snack-bites-probierpaket-10-teilig-8465\n",
      "error for:  https://www.foodist.de/foodist-bio-pralinen-adventskalender-2021-11249\n",
      "error for:  https://www.foodist.de/foodist-bio-schokoladen-weihnachtsmann-sparset-4-teilig-11704\n",
      "error for:  https://www.foodist.de/the-beginnings-cookies-doppelpack-mit-orange-cranberry-11565\n",
      "error for:  https://www.foodist.de/foodist-scharfe-erdnuesse-10915\n",
      "error for:  https://www.foodist.de/foodloose-bio-fruchtgummi-mango-10870\n",
      "error for:  https://www.foodist.de/foodist-foodist-snacks-adventskalender-2021-11092\n",
      "error for:  https://www.foodist.de/veganer-adventskalender\n",
      "error for:  https://www.foodist.de/foodist-bier-braukasten-set-pils-zum-selbermachen-diy-kit-7685\n",
      "error for:  https://www.foodist.de/foodist-feinschmecker-adventskalender-2021-von-thomas-buehner-11069\n",
      "error for:  https://www.foodist.de/foodist-foodist-snacks-adventskalender-2021-11092\n",
      "error for:  https://www.foodist.de/craft-beer-adventskalender\n",
      "error for:  https://www.foodist.de/gaia-bienenwachstuch-starterset-jungle-3-teilig-10074\n",
      "error for:  https://www.foodist.de/foodist-bio-spice-your-pumpkin-pie-gewuerzmischung-by-marry-kotter-11340\n",
      "error for:  https://www.foodist.de/foodist-foodist-snack-bites-probierpaket-10-teilig-8465\n",
      "error for:  https://www.foodist.de/foodist-bio-pralinen-adventskalender-2021-11249\n",
      "error for:  https://www.foodist.de/foodist-bio-schokoladen-weihnachtsmann-sparset-4-teilig-11704\n",
      "error for:  https://www.foodist.de/the-beginnings-cookies-doppelpack-mit-orange-cranberry-11565\n",
      "error for:  https://www.foodist.de/foodist-scharfe-erdnuesse-10915\n",
      "error for:  https://www.foodist.de/foodloose-bio-fruchtgummi-mango-10870\n",
      "error for:  https://www.foodist.de/foodist-foodist-snacks-adventskalender-2021-11092\n",
      "error for:  https://www.foodist.de/veganer-adventskalender\n",
      "error for:  https://www.foodist.de/foodist-bier-braukasten-set-pils-zum-selbermachen-diy-kit-7685\n",
      "error for:  https://www.foodist.de/foodist-feinschmecker-adventskalender-2021-von-thomas-buehner-11069\n",
      "error for:  https://www.foodist.de/foodist-foodist-snacks-adventskalender-2021-11092\n",
      "error for:  https://www.foodist.de/craft-beer-adventskalender\n",
      "error for:  https://www.foodist.de/gaia-bienenwachstuch-starterset-jungle-3-teilig-10074\n",
      "error for:  https://www.foodist.de/foodist-bio-spice-your-pumpkin-pie-gewuerzmischung-by-marry-kotter-11340\n",
      "error for:  https://www.foodist.de/foodist-foodist-snack-bites-probierpaket-10-teilig-8465\n",
      "error for:  https://www.foodist.de/foodist-bio-pralinen-adventskalender-2021-11249\n",
      "error for:  https://www.foodist.de/foodist-bio-schokoladen-weihnachtsmann-sparset-4-teilig-11704\n",
      "error for:  https://www.foodist.de/the-beginnings-cookies-doppelpack-mit-orange-cranberry-11565\n",
      "error for:  https://www.foodist.de/foodist-scharfe-erdnuesse-10915\n",
      "error for:  https://www.foodist.de/foodloose-bio-fruchtgummi-mango-10870\n",
      "error for:  https://www.foodist.de/foodist-foodist-snacks-adventskalender-2021-11092\n",
      "error for:  https://www.foodist.de/veganer-adventskalender\n",
      "error for:  https://www.foodist.de/foodist-bier-braukasten-set-pils-zum-selbermachen-diy-kit-7685\n",
      "error for:  https://www.foodist.de/foodist-feinschmecker-adventskalender-2021-von-thomas-buehner-11069\n",
      "error for:  https://www.foodist.de/foodist-foodist-snacks-adventskalender-2021-11092\n",
      "error for:  https://www.foodist.de/craft-beer-adventskalender\n",
      "error for:  https://www.foodist.de/gaia-bienenwachstuch-starterset-jungle-3-teilig-10074\n",
      "error for:  https://www.foodist.de/foodist-bio-spice-your-pumpkin-pie-gewuerzmischung-by-marry-kotter-11340\n",
      "error for:  https://www.foodist.de/foodist-foodist-snack-bites-probierpaket-10-teilig-8465\n",
      "error for:  https://www.foodist.de/foodist-bio-pralinen-adventskalender-2021-11249\n",
      "error for:  https://www.foodist.de/foodist-bio-schokoladen-weihnachtsmann-sparset-4-teilig-11704\n",
      "error for:  https://www.foodist.de/the-beginnings-cookies-doppelpack-mit-orange-cranberry-11565\n",
      "error for:  https://www.foodist.de/foodist-scharfe-erdnuesse-10915\n",
      "error for:  https://www.foodist.de/foodloose-bio-fruchtgummi-mango-10870\n",
      "error for:  https://www.foodist.de/foodist-foodist-snacks-adventskalender-2021-11092\n",
      "error for:  https://www.foodist.de/veganer-adventskalender\n"
     ]
    }
   ],
   "source": [
    "test = scraping_details(links=product_overview['links'])"
   ]
  },
  {
   "cell_type": "markdown",
   "id": "89c8292a-2e72-4c59-8376-e4ea61b587cf",
   "metadata": {},
   "source": [
    "**Getting product details**"
   ]
  },
  {
   "cell_type": "code",
   "execution_count": 160,
   "id": "92f46469-5690-41a0-ab91-7775a308b581",
   "metadata": {},
   "outputs": [],
   "source": [
    "links=product_overview['links']\n",
    "skip_link= [\n",
    "    'https://www.foodist.de/foodist-bier-braukasten-set-pils-zum-selbermachen-diy-kit-7685',\n",
    "    'https://www.foodist.de/foodist-feinschmecker-adventskalender-2021-von-thomas-buehner-11069',\n",
    "    'https://www.foodist.de/foodist-foodist-snacks-adventskalender-2021-11092',\n",
    "    'https://www.foodist.de/craft-beer-adventskalender',\n",
    "    'https://www.foodist.de/gaia-bienenwachstuch-starterset-jungle-3-teilig-10074',\n",
    "    'https://www.foodist.de/foodist-bio-spice-your-pumpkin-pie-gewuerzmischung-by-marry-kotter-11340',\n",
    "    'https://www.foodist.de/foodist-foodist-snack-bites-probierpaket-10-teilig-8465',\n",
    "    'https://www.foodist.de/foodist-bio-pralinen-adventskalender-2021-11249',\n",
    "    'https://www.foodist.de/foodist-bio-schokoladen-weihnachtsmann-sparset-4-teilig-11704',\n",
    "    'https://www.foodist.de/the-beginnings-cookies-doppelpack-mit-orange-cranberry-11565',\n",
    "    'https://www.foodist.de/foodist-scharfe-erdnuesse-10915',\n",
    "    'https://www.foodist.de/foodloose-bio-fruchtgummi-mango-10870',\n",
    "    'https://www.foodist.de/foodist-foodist-snacks-adventskalender-2021-11092',\n",
    "    'https://www.foodist.de/veganer-adventskalender',\n",
    "    'https://www.foodist.de/foodist-bier-braukasten-set-pils-zum-selbermachen-diy-kit-7685',\n",
    "    'https://www.foodist.de/foodist-feinschmecker-adventskalender-2021-von-thomas-buehner-11069',\n",
    "    'https://www.foodist.de/foodist-foodist-snacks-adventskalender-2021-11092',\n",
    "    'https://www.foodist.de/craft-beer-adventskalender',\n",
    "    'https://www.foodist.de/gaia-bienenwachstuch-starterset-jungle-3-teilig-10074',\n",
    "    'https://www.foodist.de/foodist-bio-spice-your-pumpkin-pie-gewuerzmischung-by-marry-kotter-11340',\n",
    "    'https://www.foodist.de/foodist-foodist-snack-bites-probierpaket-10-teilig-8465',\n",
    "    'https://www.foodist.de/foodist-bio-pralinen-adventskalender-2021-11249',\n",
    "    'https://www.foodist.de/foodist-bio-schokoladen-weihnachtsmann-sparset-4-teilig-11704',\n",
    "    'https://www.foodist.de/the-beginnings-cookies-doppelpack-mit-orange-cranberry-11565',\n",
    "    'https://www.foodist.de/foodist-scharfe-erdnuesse-10915',\n",
    "    'https://www.foodist.de/foodloose-bio-fruchtgummi-mango-10870',\n",
    "    'https://www.foodist.de/foodist-foodist-snacks-adventskalender-2021-11092',\n",
    "    'https://www.foodist.de/veganer-adventskalender',\n",
    "    'https://www.foodist.de/foodist-bier-braukasten-set-pils-zum-selbermachen-diy-kit-7685',\n",
    "    'https://www.foodist.de/foodist-feinschmecker-adventskalender-2021-von-thomas-buehner-11069',\n",
    "    'https://www.foodist.de/foodist-foodist-snacks-adventskalender-2021-11092',\n",
    "    'https://www.foodist.de/craft-beer-adventskalender',\n",
    "    'https://www.foodist.de/gaia-bienenwachstuch-starterset-jungle-3-teilig-10074',\n",
    "    'https://www.foodist.de/foodist-bio-spice-your-pumpkin-pie-gewuerzmischung-by-marry-kotter-11340',\n",
    "    'https://www.foodist.de/foodist-foodist-snack-bites-probierpaket-10-teilig-8465',\n",
    "    'https://www.foodist.de/foodist-bio-pralinen-adventskalender-2021-11249',\n",
    "    'https://www.foodist.de/foodist-bio-schokoladen-weihnachtsmann-sparset-4-teilig-11704',\n",
    "    'https://www.foodist.de/the-beginnings-cookies-doppelpack-mit-orange-cranberry-11565',\n",
    "    'https://www.foodist.de/foodist-scharfe-erdnuesse-10915',\n",
    "    'https://www.foodist.de/foodloose-bio-fruchtgummi-mango-10870',\n",
    "    'https://www.foodist.de/foodist-foodist-snacks-adventskalender-2021-11092',\n",
    "    'https://www.foodist.de/veganer-adventskalender',\n",
    "    'https://www.foodist.de/foodist-bier-braukasten-set-pils-zum-selbermachen-diy-kit-7685',\n",
    "    'https://www.foodist.de/foodist-feinschmecker-adventskalender-2021-von-thomas-buehner-11069',\n",
    "    'https://www.foodist.de/foodist-foodist-snacks-adventskalender-2021-11092',\n",
    "    'https://www.foodist.de/craft-beer-adventskalender',\n",
    "    'https://www.foodist.de/gaia-bienenwachstuch-starterset-jungle-3-teilig-10074',\n",
    "    'https://www.foodist.de/foodist-bio-spice-your-pumpkin-pie-gewuerzmischung-by-marry-kotter-11340',\n",
    "    'https://www.foodist.de/foodist-foodist-snack-bites-probierpaket-10-teilig-8465',\n",
    "    'https://www.foodist.de/foodist-bio-pralinen-adventskalender-2021-11249',\n",
    "    'https://www.foodist.de/foodist-bio-schokoladen-weihnachtsmann-sparset-4-teilig-11704',\n",
    "    'https://www.foodist.de/the-beginnings-cookies-doppelpack-mit-orange-cranberry-11565',\n",
    "    'https://www.foodist.de/foodist-scharfe-erdnuesse-10915',\n",
    "    'https://www.foodist.de/foodloose-bio-fruchtgummi-mango-10870',\n",
    "    'https://www.foodist.de/foodist-foodist-snacks-adventskalender-2021-11092',\n",
    "    'https://www.foodist.de/veganer-adventskalender',\n",
    "    'https://www.foodist.de/foodist-bier-braukasten-set-pils-zum-selbermachen-diy-kit-7685',\n",
    "    'https://www.foodist.de/foodist-feinschmecker-adventskalender-2021-von-thomas-buehner-11069',\n",
    "    'https://www.foodist.de/foodist-foodist-snacks-adventskalender-2021-11092',\n",
    "    'https://www.foodist.de/craft-beer-adventskalender',\n",
    "    'https://www.foodist.de/gaia-bienenwachstuch-starterset-jungle-3-teilig-10074',\n",
    "    'https://www.foodist.de/foodist-bio-spice-your-pumpkin-pie-gewuerzmischung-by-marry-kotter-11340',\n",
    "    'https://www.foodist.de/foodist-foodist-snack-bites-probierpaket-10-teilig-8465',\n",
    "    'https://www.foodist.de/foodist-bio-pralinen-adventskalender-2021-11249',\n",
    "    'https://www.foodist.de/foodist-bio-schokoladen-weihnachtsmann-sparset-4-teilig-11704',\n",
    "    'https://www.foodist.de/the-beginnings-cookies-doppelpack-mit-orange-cranberry-11565',\n",
    "    'https://www.foodist.de/foodist-scharfe-erdnuesse-10915',\n",
    "    'https://www.foodist.de/foodloose-bio-fruchtgummi-mango-10870',\n",
    "    'https://www.foodist.de/foodist-foodist-snacks-adventskalender-2021-11092',\n",
    "    'https://www.foodist.de/veganer-adventskalender',\n",
    "    'https://www.foodist.de/foodist-bier-braukasten-set-pils-zum-selbermachen-diy-kit-7685',\n",
    "    'https://www.foodist.de/foodist-feinschmecker-adventskalender-2021-von-thomas-buehner-11069',\n",
    "    'https://www.foodist.de/foodist-foodist-snacks-adventskalender-2021-11092',\n",
    "    'https://www.foodist.de/craft-beer-adventskalender',\n",
    "    'https://www.foodist.de/gaia-bienenwachstuch-starterset-jungle-3-teilig-10074',\n",
    "    'https://www.foodist.de/foodist-bio-spice-your-pumpkin-pie-gewuerzmischung-by-marry-kotter-11340',\n",
    "    'https://www.foodist.de/foodist-foodist-snack-bites-probierpaket-10-teilig-8465',\n",
    "    'https://www.foodist.de/foodist-bio-pralinen-adventskalender-2021-11249',\n",
    "    'https://www.foodist.de/foodist-bio-schokoladen-weihnachtsmann-sparset-4-teilig-11704',\n",
    "    'https://www.foodist.de/the-beginnings-cookies-doppelpack-mit-orange-cranberry-11565',\n",
    "    'https://www.foodist.de/foodist-scharfe-erdnuesse-10915',\n",
    "    'https://www.foodist.de/foodloose-bio-fruchtgummi-mango-10870',\n",
    "    'https://www.foodist.de/foodist-foodist-snacks-adventskalender-2021-11092',\n",
    "    'https://www.foodist.de/veganer-adventskalender'\n",
    "    ]"
   ]
  },
  {
   "cell_type": "code",
   "execution_count": 161,
   "id": "171b1b84-fea3-46f5-a001-7185e4332aee",
   "metadata": {},
   "outputs": [],
   "source": [
    "products_foodist = creating_df(links, *skip_link)"
   ]
  },
  {
   "cell_type": "code",
   "execution_count": 162,
   "id": "6f50aa81-51cb-48b0-9963-bfc8c5496c40",
   "metadata": {},
   "outputs": [
    {
     "data": {
      "text/html": [
       "<div>\n",
       "<style scoped>\n",
       "    .dataframe tbody tr th:only-of-type {\n",
       "        vertical-align: middle;\n",
       "    }\n",
       "\n",
       "    .dataframe tbody tr th {\n",
       "        vertical-align: top;\n",
       "    }\n",
       "\n",
       "    .dataframe thead th {\n",
       "        text-align: right;\n",
       "    }\n",
       "</style>\n",
       "<table border=\"1\" class=\"dataframe\">\n",
       "  <thead>\n",
       "    <tr style=\"text-align: right;\">\n",
       "      <th></th>\n",
       "      <th>name</th>\n",
       "      <th>brand</th>\n",
       "      <th>links</th>\n",
       "      <th>price</th>\n",
       "      <th>weight</th>\n",
       "      <th>price_gr</th>\n",
       "      <th>nutritients</th>\n",
       "      <th>photo_link</th>\n",
       "    </tr>\n",
       "  </thead>\n",
       "  <tbody>\n",
       "    <tr>\n",
       "      <th>0</th>\n",
       "      <td>BIO Chiasamen 1kg</td>\n",
       "      <td>Foodist</td>\n",
       "      <td>https://www.foodist.de/foodist-bio-chiasamen-1...</td>\n",
       "      <td>8,95 €</td>\n",
       "      <td>Inhalt:  1000 g</td>\n",
       "      <td>0,90 € / 100 g</td>\n",
       "      <td>Brennwert 1.901 kJ(454 kcal)   Fett 31,0 g  ...</td>\n",
       "      <td>https://foodist.imgix.net/media/image/42604537...</td>\n",
       "    </tr>\n",
       "    <tr>\n",
       "      <th>1</th>\n",
       "      <td>Xylit Bonbons Orange</td>\n",
       "      <td>Birkengold</td>\n",
       "      <td>https://www.foodist.de/birkengold-xylit-bonbon...</td>\n",
       "      <td>2,50 €</td>\n",
       "      <td>Inhalt:  30 g</td>\n",
       "      <td>8,33 € / 100 g</td>\n",
       "      <td>Brennwert 1.072 kJ(257 kcal)   Fett 1,8 g   ...</td>\n",
       "      <td>https://foodist.imgix.net/media/image/91200488...</td>\n",
       "    </tr>\n",
       "    <tr>\n",
       "      <th>2</th>\n",
       "      <td>Schokolade &amp; Spielzeug Weihnachten</td>\n",
       "      <td>PLAYin Choc</td>\n",
       "      <td>https://www.foodist.de/playin-choc-schokolade-...</td>\n",
       "      <td>4,00 €</td>\n",
       "      <td>Inhalt:  20 g</td>\n",
       "      <td>20,00 € / 100 g</td>\n",
       "      <td>Brennwert 2.609 kJ(630 kcal)   Fett 51,6 g  ...</td>\n",
       "      <td>https://foodist.imgix.net/media/image/50605485...</td>\n",
       "    </tr>\n",
       "    <tr>\n",
       "      <th>3</th>\n",
       "      <td>Waffelteig gefüllt mit Erdnussbutter \"Nutisfac...</td>\n",
       "      <td>Paddies</td>\n",
       "      <td>https://www.foodist.de/paddies-waffelteig-gefu...</td>\n",
       "      <td>1,99 €</td>\n",
       "      <td>Inhalt:  70 g</td>\n",
       "      <td>2,84 € / 100 g</td>\n",
       "      <td>Brennwert 1.742 kJ(418 kcal)   Fett 25,0 g  ...</td>\n",
       "      <td>https://foodist.imgix.net/media/image/91201027...</td>\n",
       "    </tr>\n",
       "    <tr>\n",
       "      <th>4</th>\n",
       "      <td>BIO Marshmallows mit Vanillegeschmack \"Marilyn...</td>\n",
       "      <td>Not Guilty</td>\n",
       "      <td>https://www.foodist.de/not-guilty-bio-marshmal...</td>\n",
       "      <td>1,90 €</td>\n",
       "      <td>Inhalt:  80 g</td>\n",
       "      <td>2,38 € / 100 g</td>\n",
       "      <td>Brennwert 1.386 kJ(326 kcal)   Fett 0,0 g   ...</td>\n",
       "      <td>https://foodist.imgix.net/media/image/36634580...</td>\n",
       "    </tr>\n",
       "    <tr>\n",
       "      <th>5</th>\n",
       "      <td>Kekse mit Schokostückchen</td>\n",
       "      <td>Heldenbrot</td>\n",
       "      <td>https://www.foodist.de/heldenbrot-kekse-mit-sc...</td>\n",
       "      <td>1,90 €</td>\n",
       "      <td>Inhalt:  25 g</td>\n",
       "      <td>7,60 € / 100 g</td>\n",
       "      <td>Brennwert 1.917 kJ(457 kcal)   Fett 19,0 g  ...</td>\n",
       "      <td>https://foodist.imgix.net/media/image/42605459...</td>\n",
       "    </tr>\n",
       "    <tr>\n",
       "      <th>6</th>\n",
       "      <td>BIO Riegel Banane, Rote Traube und Aronia 4er-...</td>\n",
       "      <td>Freche Freunde</td>\n",
       "      <td>https://www.foodist.de/freche-freunde-bio-rieg...</td>\n",
       "      <td>1,75 €</td>\n",
       "      <td>Inhalt:  92 g</td>\n",
       "      <td>1,90 € / 100 g</td>\n",
       "      <td>Brennwert 1.611 kJ(383 kcal)   Fett 13,0 g  ...</td>\n",
       "      <td>https://foodist.imgix.net/media/image/42602491...</td>\n",
       "    </tr>\n",
       "    <tr>\n",
       "      <th>7</th>\n",
       "      <td>KakaoWUMMS - Gebrannte Kakaobohnen mit Chili</td>\n",
       "      <td>PURmacherei</td>\n",
       "      <td>https://www.foodist.de/purmacherei-kakaowumms-...</td>\n",
       "      <td>3,49 €</td>\n",
       "      <td>Inhalt:  50 g</td>\n",
       "      <td>6,98 € / 100 g</td>\n",
       "      <td>Brennwert 2.184 kJ(527 kcal)   Fett 35,0 g  ...</td>\n",
       "      <td>https://foodist.imgix.net/media/image/42700004...</td>\n",
       "    </tr>\n",
       "    <tr>\n",
       "      <th>8</th>\n",
       "      <td>BIO Getrocknete Kirschen, knusprig</td>\n",
       "      <td>Supersec</td>\n",
       "      <td>https://www.foodist.de/supersec-bio-getrocknet...</td>\n",
       "      <td>4,85 €</td>\n",
       "      <td>Inhalt:  140 g</td>\n",
       "      <td>3,46 € / 100 g</td>\n",
       "      <td>Brennwert 1.380 kJ(325 kcal)   Fett 0,5 g   ...</td>\n",
       "      <td>https://foodist.imgix.net/media/image/54250331...</td>\n",
       "    </tr>\n",
       "    <tr>\n",
       "      <th>9</th>\n",
       "      <td>Kleine Freuden Sparset, 2-teilig</td>\n",
       "      <td>Foodist</td>\n",
       "      <td>https://www.foodist.de/foodist-kleine-freuden-...</td>\n",
       "      <td>29,98 €</td>\n",
       "      <td>Inhalt:  1 Stck.</td>\n",
       "      <td>29,98 € / 1 Stck.</td>\n",
       "      <td>Brennwert 2.564 kJ(614 kcal)   Fett 48,0 g  ...</td>\n",
       "      <td>https://foodist.imgix.net/media/image/Bundle_S...</td>\n",
       "    </tr>\n",
       "  </tbody>\n",
       "</table>\n",
       "</div>"
      ],
      "text/plain": [
       "                                                name           brand  \\\n",
       "0                                  BIO Chiasamen 1kg         Foodist   \n",
       "1                               Xylit Bonbons Orange      Birkengold   \n",
       "2                 Schokolade & Spielzeug Weihnachten     PLAYin Choc   \n",
       "3  Waffelteig gefüllt mit Erdnussbutter \"Nutisfac...         Paddies   \n",
       "4  BIO Marshmallows mit Vanillegeschmack \"Marilyn...      Not Guilty   \n",
       "5                          Kekse mit Schokostückchen      Heldenbrot   \n",
       "6  BIO Riegel Banane, Rote Traube und Aronia 4er-...  Freche Freunde   \n",
       "7       KakaoWUMMS - Gebrannte Kakaobohnen mit Chili     PURmacherei   \n",
       "8                 BIO Getrocknete Kirschen, knusprig        Supersec   \n",
       "9                   Kleine Freuden Sparset, 2-teilig         Foodist   \n",
       "\n",
       "                                               links       price  \\\n",
       "0  https://www.foodist.de/foodist-bio-chiasamen-1...     8,95 €    \n",
       "1  https://www.foodist.de/birkengold-xylit-bonbon...     2,50 €    \n",
       "2  https://www.foodist.de/playin-choc-schokolade-...     4,00 €    \n",
       "3  https://www.foodist.de/paddies-waffelteig-gefu...     1,99 €    \n",
       "4  https://www.foodist.de/not-guilty-bio-marshmal...     1,90 €    \n",
       "5  https://www.foodist.de/heldenbrot-kekse-mit-sc...     1,90 €    \n",
       "6  https://www.foodist.de/freche-freunde-bio-rieg...     1,75 €    \n",
       "7  https://www.foodist.de/purmacherei-kakaowumms-...     3,49 €    \n",
       "8  https://www.foodist.de/supersec-bio-getrocknet...     4,85 €    \n",
       "9  https://www.foodist.de/foodist-kleine-freuden-...    29,98 €    \n",
       "\n",
       "                weight             price_gr  \\\n",
       "0     Inhalt:  1000 g       0,90 € / 100 g    \n",
       "1       Inhalt:  30 g       8,33 € / 100 g    \n",
       "2       Inhalt:  20 g      20,00 € / 100 g    \n",
       "3       Inhalt:  70 g       2,84 € / 100 g    \n",
       "4       Inhalt:  80 g       2,38 € / 100 g    \n",
       "5       Inhalt:  25 g       7,60 € / 100 g    \n",
       "6       Inhalt:  92 g       1,90 € / 100 g    \n",
       "7       Inhalt:  50 g       6,98 € / 100 g    \n",
       "8      Inhalt:  140 g       3,46 € / 100 g    \n",
       "9    Inhalt:  1 Stck.    29,98 € / 1 Stck.    \n",
       "\n",
       "                                         nutritients  \\\n",
       "0    Brennwert 1.901 kJ(454 kcal)   Fett 31,0 g  ...   \n",
       "1    Brennwert 1.072 kJ(257 kcal)   Fett 1,8 g   ...   \n",
       "2    Brennwert 2.609 kJ(630 kcal)   Fett 51,6 g  ...   \n",
       "3    Brennwert 1.742 kJ(418 kcal)   Fett 25,0 g  ...   \n",
       "4    Brennwert 1.386 kJ(326 kcal)   Fett 0,0 g   ...   \n",
       "5    Brennwert 1.917 kJ(457 kcal)   Fett 19,0 g  ...   \n",
       "6    Brennwert 1.611 kJ(383 kcal)   Fett 13,0 g  ...   \n",
       "7    Brennwert 2.184 kJ(527 kcal)   Fett 35,0 g  ...   \n",
       "8    Brennwert 1.380 kJ(325 kcal)   Fett 0,5 g   ...   \n",
       "9    Brennwert 2.564 kJ(614 kcal)   Fett 48,0 g  ...   \n",
       "\n",
       "                                          photo_link  \n",
       "0  https://foodist.imgix.net/media/image/42604537...  \n",
       "1  https://foodist.imgix.net/media/image/91200488...  \n",
       "2  https://foodist.imgix.net/media/image/50605485...  \n",
       "3  https://foodist.imgix.net/media/image/91201027...  \n",
       "4  https://foodist.imgix.net/media/image/36634580...  \n",
       "5  https://foodist.imgix.net/media/image/42605459...  \n",
       "6  https://foodist.imgix.net/media/image/42602491...  \n",
       "7  https://foodist.imgix.net/media/image/42700004...  \n",
       "8  https://foodist.imgix.net/media/image/54250331...  \n",
       "9  https://foodist.imgix.net/media/image/Bundle_S...  "
      ]
     },
     "execution_count": 162,
     "metadata": {},
     "output_type": "execute_result"
    }
   ],
   "source": [
    "products_foodist.head(10)"
   ]
  },
  {
   "cell_type": "code",
   "execution_count": 163,
   "id": "3369e9c6-b3c5-4af3-9017-5b02c3dbca39",
   "metadata": {},
   "outputs": [
    {
     "data": {
      "text/plain": [
       "(462, 8)"
      ]
     },
     "execution_count": 163,
     "metadata": {},
     "output_type": "execute_result"
    }
   ],
   "source": [
    "products_foodist.shape"
   ]
  },
  {
   "cell_type": "code",
   "execution_count": 164,
   "id": "e9706e1c-6fba-43b8-ab3f-efc159e5cbf7",
   "metadata": {},
   "outputs": [],
   "source": [
    "products_foodist.to_csv('df_foodist.csv')"
   ]
  },
  {
   "cell_type": "code",
   "execution_count": null,
   "id": "370159c0-06b6-4163-a23b-beb6b5a80b59",
   "metadata": {},
   "outputs": [],
   "source": []
  }
 ],
 "metadata": {
  "kernelspec": {
   "display_name": "Python 3",
   "language": "python",
   "name": "python3"
  },
  "language_info": {
   "codemirror_mode": {
    "name": "ipython",
    "version": 3
   },
   "file_extension": ".py",
   "mimetype": "text/x-python",
   "name": "python",
   "nbconvert_exporter": "python",
   "pygments_lexer": "ipython3",
   "version": "3.9.6"
  },
  "toc": {
   "base_numbering": 1,
   "nav_menu": {},
   "number_sections": true,
   "sideBar": true,
   "skip_h1_title": true,
   "title_cell": "Table of Contents",
   "title_sidebar": "Contents",
   "toc_cell": true,
   "toc_position": {},
   "toc_section_display": true,
   "toc_window_display": true
  }
 },
 "nbformat": 4,
 "nbformat_minor": 5
}
