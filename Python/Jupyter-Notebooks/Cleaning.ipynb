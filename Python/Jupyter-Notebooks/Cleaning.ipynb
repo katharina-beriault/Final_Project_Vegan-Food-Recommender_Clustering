{
 "cells": [
  {
   "cell_type": "markdown",
   "id": "472a77bc-eb6f-40dd-b004-de1d3660c57b",
   "metadata": {},
   "source": [
    "# Cleaning"
   ]
  },
  {
   "cell_type": "markdown",
   "id": "414280c8",
   "metadata": {
    "toc": true
   },
   "source": [
    "<h1>Table of Contents<span class=\"tocSkip\"></span></h1>\n",
    "<div class=\"toc\"><ul class=\"toc-item\"><li><span><a href=\"#test\" data-toc-modified-id=\"test-1\"><span class=\"toc-item-num\">1&nbsp;&nbsp;</span>test</a></span></li><li><span><a href=\"#Libraries\" data-toc-modified-id=\"Libraries-2\"><span class=\"toc-item-num\">2&nbsp;&nbsp;</span>Libraries</a></span></li><li><span><a href=\"#Koro\" data-toc-modified-id=\"Koro-3\"><span class=\"toc-item-num\">3&nbsp;&nbsp;</span>Koro</a></span><ul class=\"toc-item\"><li><span><a href=\"#Cleaning-overview\" data-toc-modified-id=\"Cleaning-overview-3.1\"><span class=\"toc-item-num\">3.1&nbsp;&nbsp;</span>Cleaning overview</a></span><ul class=\"toc-item\"><li><span><a href=\"#Dropping-duplicate-index-column\" data-toc-modified-id=\"Dropping-duplicate-index-column-3.1.1\"><span class=\"toc-item-num\">3.1.1&nbsp;&nbsp;</span>Dropping duplicate index column</a></span></li><li><span><a href=\"#Product-name\" data-toc-modified-id=\"Product-name-3.1.2\"><span class=\"toc-item-num\">3.1.2&nbsp;&nbsp;</span>Product name</a></span></li><li><span><a href=\"#Adding-brand-column\" data-toc-modified-id=\"Adding-brand-column-3.1.3\"><span class=\"toc-item-num\">3.1.3&nbsp;&nbsp;</span>Adding brand column</a></span></li><li><span><a href=\"#Price\" data-toc-modified-id=\"Price-3.1.4\"><span class=\"toc-item-num\">3.1.4&nbsp;&nbsp;</span>Price</a></span></li><li><span><a href=\"#Weight\" data-toc-modified-id=\"Weight-3.1.5\"><span class=\"toc-item-num\">3.1.5&nbsp;&nbsp;</span>Weight</a></span></li><li><span><a href=\"#Nutrients\" data-toc-modified-id=\"Nutrients-3.1.6\"><span class=\"toc-item-num\">3.1.6&nbsp;&nbsp;</span>Nutrients</a></span></li><li><span><a href=\"#kJ-and-kcal\" data-toc-modified-id=\"kJ-and-kcal-3.1.7\"><span class=\"toc-item-num\">3.1.7&nbsp;&nbsp;</span>kJ and kcal</a></span></li></ul></li><li><span><a href=\"#Cleaning-final-dataframe\" data-toc-modified-id=\"Cleaning-final-dataframe-3.2\"><span class=\"toc-item-num\">3.2&nbsp;&nbsp;</span>Cleaning final dataframe</a></span></li></ul></li><li><span><a href=\"#Kokku\" data-toc-modified-id=\"Kokku-4\"><span class=\"toc-item-num\">4&nbsp;&nbsp;</span>Kokku</a></span><ul class=\"toc-item\"><li><span><a href=\"#Cleaning-overview\" data-toc-modified-id=\"Cleaning-overview-4.1\"><span class=\"toc-item-num\">4.1&nbsp;&nbsp;</span>Cleaning overview</a></span><ul class=\"toc-item\"><li><span><a href=\"#Dropping-duplicate-index-column\" data-toc-modified-id=\"Dropping-duplicate-index-column-4.1.1\"><span class=\"toc-item-num\">4.1.1&nbsp;&nbsp;</span>Dropping duplicate index column</a></span></li><li><span><a href=\"#Price\" data-toc-modified-id=\"Price-4.1.2\"><span class=\"toc-item-num\">4.1.2&nbsp;&nbsp;</span>Price</a></span></li><li><span><a href=\"#Product-name\" data-toc-modified-id=\"Product-name-4.1.3\"><span class=\"toc-item-num\">4.1.3&nbsp;&nbsp;</span>Product name</a></span></li><li><span><a href=\"#Weight\" data-toc-modified-id=\"Weight-4.1.4\"><span class=\"toc-item-num\">4.1.4&nbsp;&nbsp;</span>Weight</a></span></li><li><span><a href=\"#Price\" data-toc-modified-id=\"Price-4.1.5\"><span class=\"toc-item-num\">4.1.5&nbsp;&nbsp;</span>Price</a></span></li><li><span><a href=\"#Nutrients\" data-toc-modified-id=\"Nutrients-4.1.6\"><span class=\"toc-item-num\">4.1.6&nbsp;&nbsp;</span>Nutrients</a></span><ul class=\"toc-item\"><li><span><a href=\"#kJ\" data-toc-modified-id=\"kJ-4.1.6.1\"><span class=\"toc-item-num\">4.1.6.1&nbsp;&nbsp;</span>kJ</a></span></li><li><span><a href=\"#kcal\" data-toc-modified-id=\"kcal-4.1.6.2\"><span class=\"toc-item-num\">4.1.6.2&nbsp;&nbsp;</span>kcal</a></span></li><li><span><a href=\"#fat\" data-toc-modified-id=\"fat-4.1.6.3\"><span class=\"toc-item-num\">4.1.6.3&nbsp;&nbsp;</span>fat</a></span></li><li><span><a href=\"#saturated-fat\" data-toc-modified-id=\"saturated-fat-4.1.6.4\"><span class=\"toc-item-num\">4.1.6.4&nbsp;&nbsp;</span>saturated fat</a></span></li><li><span><a href=\"#carbs\" data-toc-modified-id=\"carbs-4.1.6.5\"><span class=\"toc-item-num\">4.1.6.5&nbsp;&nbsp;</span>carbs</a></span></li><li><span><a href=\"#sugar\" data-toc-modified-id=\"sugar-4.1.6.6\"><span class=\"toc-item-num\">4.1.6.6&nbsp;&nbsp;</span>sugar</a></span></li><li><span><a href=\"#protein\" data-toc-modified-id=\"protein-4.1.6.7\"><span class=\"toc-item-num\">4.1.6.7&nbsp;&nbsp;</span>protein</a></span></li><li><span><a href=\"#salt\" data-toc-modified-id=\"salt-4.1.6.8\"><span class=\"toc-item-num\">4.1.6.8&nbsp;&nbsp;</span>salt</a></span></li><li><span><a href=\"#fibre\" data-toc-modified-id=\"fibre-4.1.6.9\"><span class=\"toc-item-num\">4.1.6.9&nbsp;&nbsp;</span>fibre</a></span></li></ul></li></ul></li><li><span><a href=\"#Cleaning-final-dataframe\" data-toc-modified-id=\"Cleaning-final-dataframe-4.2\"><span class=\"toc-item-num\">4.2&nbsp;&nbsp;</span>Cleaning final dataframe</a></span></li></ul></li><li><span><a href=\"#Foodist\" data-toc-modified-id=\"Foodist-5\"><span class=\"toc-item-num\">5&nbsp;&nbsp;</span>Foodist</a></span><ul class=\"toc-item\"><li><span><a href=\"#Cleaning-overview\" data-toc-modified-id=\"Cleaning-overview-5.1\"><span class=\"toc-item-num\">5.1&nbsp;&nbsp;</span>Cleaning overview</a></span><ul class=\"toc-item\"><li><span><a href=\"#Dropping-duplicate-index-column\" data-toc-modified-id=\"Dropping-duplicate-index-column-5.1.1\"><span class=\"toc-item-num\">5.1.1&nbsp;&nbsp;</span>Dropping duplicate index column</a></span></li><li><span><a href=\"#Weight\" data-toc-modified-id=\"Weight-5.1.2\"><span class=\"toc-item-num\">5.1.2&nbsp;&nbsp;</span>Weight</a></span></li><li><span><a href=\"#Price\" data-toc-modified-id=\"Price-5.1.3\"><span class=\"toc-item-num\">5.1.3&nbsp;&nbsp;</span>Price</a></span></li><li><span><a href=\"#Nutrients\" data-toc-modified-id=\"Nutrients-5.1.4\"><span class=\"toc-item-num\">5.1.4&nbsp;&nbsp;</span>Nutrients</a></span><ul class=\"toc-item\"><li><span><a href=\"#kJ\" data-toc-modified-id=\"kJ-5.1.4.1\"><span class=\"toc-item-num\">5.1.4.1&nbsp;&nbsp;</span>kJ</a></span></li><li><span><a href=\"#kcal\" data-toc-modified-id=\"kcal-5.1.4.2\"><span class=\"toc-item-num\">5.1.4.2&nbsp;&nbsp;</span>kcal</a></span></li><li><span><a href=\"#fat\" data-toc-modified-id=\"fat-5.1.4.3\"><span class=\"toc-item-num\">5.1.4.3&nbsp;&nbsp;</span>fat</a></span></li><li><span><a href=\"#saturated-fat\" data-toc-modified-id=\"saturated-fat-5.1.4.4\"><span class=\"toc-item-num\">5.1.4.4&nbsp;&nbsp;</span>saturated fat</a></span></li><li><span><a href=\"#carbs\" data-toc-modified-id=\"carbs-5.1.4.5\"><span class=\"toc-item-num\">5.1.4.5&nbsp;&nbsp;</span>carbs</a></span></li><li><span><a href=\"#sugar\" data-toc-modified-id=\"sugar-5.1.4.6\"><span class=\"toc-item-num\">5.1.4.6&nbsp;&nbsp;</span>sugar</a></span></li><li><span><a href=\"#protein\" data-toc-modified-id=\"protein-5.1.4.7\"><span class=\"toc-item-num\">5.1.4.7&nbsp;&nbsp;</span>protein</a></span></li><li><span><a href=\"#fibre\" data-toc-modified-id=\"fibre-5.1.4.8\"><span class=\"toc-item-num\">5.1.4.8&nbsp;&nbsp;</span>fibre</a></span></li><li><span><a href=\"#salt\" data-toc-modified-id=\"salt-5.1.4.9\"><span class=\"toc-item-num\">5.1.4.9&nbsp;&nbsp;</span>salt</a></span></li></ul></li></ul></li><li><span><a href=\"#Cleaning-final-dataframe\" data-toc-modified-id=\"Cleaning-final-dataframe-5.2\"><span class=\"toc-item-num\">5.2&nbsp;&nbsp;</span>Cleaning final dataframe</a></span></li></ul></li><li><span><a href=\"#Concatenating-dataframes\" data-toc-modified-id=\"Concatenating-dataframes-6\"><span class=\"toc-item-num\">6&nbsp;&nbsp;</span>Concatenating dataframes</a></span></li></ul></div>"
   ]
  },
  {
   "cell_type": "markdown",
   "id": "33a8fc1a-6e5f-49b2-a119-65bb51bd676c",
   "metadata": {},
   "source": [
    "## Libraries"
   ]
  },
  {
   "cell_type": "code",
   "execution_count": 1,
   "id": "f926f391-28e6-471f-ac4a-1ecd993ee84e",
   "metadata": {},
   "outputs": [],
   "source": [
    "import pandas as pd\n",
    "import re"
   ]
  },
  {
   "cell_type": "markdown",
   "id": "6581379f-0aee-436c-b588-a48fac5d5508",
   "metadata": {},
   "source": [
    "## Koro"
   ]
  },
  {
   "cell_type": "code",
   "execution_count": 169,
   "id": "fd2bd53d-542d-47ea-a3d7-e7299164e69d",
   "metadata": {},
   "outputs": [],
   "source": [
    "koro = pd.read_csv('df_koro.csv')"
   ]
  },
  {
   "cell_type": "code",
   "execution_count": 170,
   "id": "99d4f07a-24ab-40fc-a72e-1b86efd84261",
   "metadata": {},
   "outputs": [
    {
     "data": {
      "text/plain": [
       "(221, 15)"
      ]
     },
     "execution_count": 170,
     "metadata": {},
     "output_type": "execute_result"
    }
   ],
   "source": [
    "koro.shape"
   ]
  },
  {
   "cell_type": "code",
   "execution_count": 171,
   "id": "bba6ec07-d52c-419f-82bd-b249a7b3f311",
   "metadata": {},
   "outputs": [
    {
     "data": {
      "text/html": [
       "<div>\n",
       "<style scoped>\n",
       "    .dataframe tbody tr th:only-of-type {\n",
       "        vertical-align: middle;\n",
       "    }\n",
       "\n",
       "    .dataframe tbody tr th {\n",
       "        vertical-align: top;\n",
       "    }\n",
       "\n",
       "    .dataframe thead th {\n",
       "        text-align: right;\n",
       "    }\n",
       "</style>\n",
       "<table border=\"1\" class=\"dataframe\">\n",
       "  <thead>\n",
       "    <tr style=\"text-align: right;\">\n",
       "      <th></th>\n",
       "      <th>Unnamed: 0</th>\n",
       "      <th>product</th>\n",
       "      <th>links</th>\n",
       "      <th>price</th>\n",
       "      <th>weight</th>\n",
       "      <th>kcal</th>\n",
       "      <th>fat</th>\n",
       "      <th>sat_fat</th>\n",
       "      <th>carbs</th>\n",
       "      <th>sugar</th>\n",
       "      <th>fibre</th>\n",
       "      <th>protein</th>\n",
       "      <th>salt</th>\n",
       "      <th>ingredients</th>\n",
       "      <th>photo_link</th>\n",
       "    </tr>\n",
       "  </thead>\n",
       "  <tbody>\n",
       "    <tr>\n",
       "      <th>0</th>\n",
       "      <td>0</td>\n",
       "      <td>Soja Protein Crispies 58 % mit Kakao 1 kg</td>\n",
       "      <td>https://www.korodrogerie.de/soja-protein-crisp...</td>\n",
       "      <td>\\n\\n14,00 €\\n</td>\n",
       "      <td>1 kg</td>\n",
       "      <td>1535                                   / 362</td>\n",
       "      <td>1,9 g</td>\n",
       "      <td>0,4 g</td>\n",
       "      <td>28,2 g</td>\n",
       "      <td>9,1 g</td>\n",
       "      <td>1,8 g</td>\n",
       "      <td>58 g</td>\n",
       "      <td>2,7 g</td>\n",
       "      <td>74 % SOJAPROTEIN, Reisgrieß, Zucker, 4 % Kakao...</td>\n",
       "      <td>https://koro2.imgix.net/media/image/f1/50/81/C...</td>\n",
       "    </tr>\n",
       "    <tr>\n",
       "      <th>1</th>\n",
       "      <td>1</td>\n",
       "      <td>Schokodrops mit Xylit 1 kg</td>\n",
       "      <td>https://www.korodrogerie.de/schokodrops-mit-xy...</td>\n",
       "      <td>\\n\\n21,00 €\\n</td>\n",
       "      <td>1 kg</td>\n",
       "      <td>2290                                   / 555</td>\n",
       "      <td>46 g</td>\n",
       "      <td>28 g</td>\n",
       "      <td>31 g</td>\n",
       "      <td>1,0 g</td>\n",
       "      <td>10 g</td>\n",
       "      <td>9,2 g</td>\n",
       "      <td>0,07 g</td>\n",
       "      <td>Kakaomasse, 25 % Süßungsmittel: Xylit; Kakaobu...</td>\n",
       "      <td>https://koro2.imgix.net/media/image/2c/01/f8/S...</td>\n",
       "    </tr>\n",
       "    <tr>\n",
       "      <th>2</th>\n",
       "      <td>2</td>\n",
       "      <td>Schoko Protein Crunchies ohne Zuckerzusatz 1 kg</td>\n",
       "      <td>https://www.korodrogerie.de/schoko-protein-cru...</td>\n",
       "      <td>\\n\\n20,00 €\\n</td>\n",
       "      <td>1 kg</td>\n",
       "      <td>1875                                   / 448</td>\n",
       "      <td>28 g</td>\n",
       "      <td>12 g</td>\n",
       "      <td>37 g</td>\n",
       "      <td>1,4 g</td>\n",
       "      <td>8,3 g</td>\n",
       "      <td>21 g</td>\n",
       "      <td>0,36 g</td>\n",
       "      <td>Süßungsmittel: Maltit, ERDNUSSKERNE, 20 % Prot...</td>\n",
       "      <td>https://koro2.imgix.net/media/image/30/78/62/P...</td>\n",
       "    </tr>\n",
       "    <tr>\n",
       "      <th>3</th>\n",
       "      <td>3</td>\n",
       "      <td>Soja Protein Crispies 60 % 1 kg</td>\n",
       "      <td>https://www.korodrogerie.de/soja-protein-crisp...</td>\n",
       "      <td>\\n\\n13,00 €\\n</td>\n",
       "      <td>1 kg</td>\n",
       "      <td>1541                                   / 363</td>\n",
       "      <td>1,8 g</td>\n",
       "      <td>0,2 g</td>\n",
       "      <td>26 g</td>\n",
       "      <td>0,8 g</td>\n",
       "      <td>0,8 g</td>\n",
       "      <td>60 g</td>\n",
       "      <td>3,2 g</td>\n",
       "      <td>68 % SOJAPROTEIN, Reisgriess, SOJAMEHL, Salz\\t...</td>\n",
       "      <td>https://koro2.imgix.net/media/image/84/55/ca/C...</td>\n",
       "    </tr>\n",
       "    <tr>\n",
       "      <th>4</th>\n",
       "      <td>4</td>\n",
       "      <td>Bohnen-Erbsen-Mix geröstet &amp; gesalzen 1 kg</td>\n",
       "      <td>https://www.korodrogerie.de/bohnen-erbsen-mix-...</td>\n",
       "      <td>\\n\\n11,50 €\\n</td>\n",
       "      <td>1 kg</td>\n",
       "      <td>1766                                   / 421</td>\n",
       "      <td>14 g</td>\n",
       "      <td>2,3 g</td>\n",
       "      <td>35 g</td>\n",
       "      <td>6,7 g</td>\n",
       "      <td>10 g</td>\n",
       "      <td>33 g</td>\n",
       "      <td>1,0 g</td>\n",
       "      <td>19 % SCHWARZE SOJABOHNEN, 19 % EDAMAME-BOHNEN,...</td>\n",
       "      <td>https://koro2.imgix.net/media/image/a9/37/79/B...</td>\n",
       "    </tr>\n",
       "  </tbody>\n",
       "</table>\n",
       "</div>"
      ],
      "text/plain": [
       "   Unnamed: 0                                          product  \\\n",
       "0           0        Soja Protein Crispies 58 % mit Kakao 1 kg   \n",
       "1           1                       Schokodrops mit Xylit 1 kg   \n",
       "2           2  Schoko Protein Crunchies ohne Zuckerzusatz 1 kg   \n",
       "3           3                  Soja Protein Crispies 60 % 1 kg   \n",
       "4           4       Bohnen-Erbsen-Mix geröstet & gesalzen 1 kg   \n",
       "\n",
       "                                               links          price weight  \\\n",
       "0  https://www.korodrogerie.de/soja-protein-crisp...  \\n\\n14,00 €\\n   1 kg   \n",
       "1  https://www.korodrogerie.de/schokodrops-mit-xy...  \\n\\n21,00 €\\n   1 kg   \n",
       "2  https://www.korodrogerie.de/schoko-protein-cru...  \\n\\n20,00 €\\n   1 kg   \n",
       "3  https://www.korodrogerie.de/soja-protein-crisp...  \\n\\n13,00 €\\n   1 kg   \n",
       "4  https://www.korodrogerie.de/bohnen-erbsen-mix-...  \\n\\n11,50 €\\n   1 kg   \n",
       "\n",
       "                                           kcal    fat sat_fat   carbs  sugar  \\\n",
       "0  1535                                   / 362  1,9 g   0,4 g  28,2 g  9,1 g   \n",
       "1  2290                                   / 555   46 g    28 g    31 g  1,0 g   \n",
       "2  1875                                   / 448   28 g    12 g    37 g  1,4 g   \n",
       "3  1541                                   / 363  1,8 g   0,2 g    26 g  0,8 g   \n",
       "4  1766                                   / 421   14 g   2,3 g    35 g  6,7 g   \n",
       "\n",
       "   fibre protein    salt                                        ingredients  \\\n",
       "0  1,8 g    58 g   2,7 g  74 % SOJAPROTEIN, Reisgrieß, Zucker, 4 % Kakao...   \n",
       "1   10 g   9,2 g  0,07 g  Kakaomasse, 25 % Süßungsmittel: Xylit; Kakaobu...   \n",
       "2  8,3 g    21 g  0,36 g  Süßungsmittel: Maltit, ERDNUSSKERNE, 20 % Prot...   \n",
       "3  0,8 g    60 g   3,2 g  68 % SOJAPROTEIN, Reisgriess, SOJAMEHL, Salz\\t...   \n",
       "4   10 g    33 g   1,0 g  19 % SCHWARZE SOJABOHNEN, 19 % EDAMAME-BOHNEN,...   \n",
       "\n",
       "                                          photo_link  \n",
       "0  https://koro2.imgix.net/media/image/f1/50/81/C...  \n",
       "1  https://koro2.imgix.net/media/image/2c/01/f8/S...  \n",
       "2  https://koro2.imgix.net/media/image/30/78/62/P...  \n",
       "3  https://koro2.imgix.net/media/image/84/55/ca/C...  \n",
       "4  https://koro2.imgix.net/media/image/a9/37/79/B...  "
      ]
     },
     "execution_count": 171,
     "metadata": {},
     "output_type": "execute_result"
    }
   ],
   "source": [
    "koro.head()"
   ]
  },
  {
   "cell_type": "markdown",
   "id": "89074013-d920-4f0b-a259-ee35011b16e3",
   "metadata": {},
   "source": [
    "### Cleaning overview\n",
    "\n",
    "- [x] removing duplicate index column\n",
    "- [x] removing weight from product name\n",
    "- [x] new column with brand: \"value == Koro\" for all rows\n",
    "- [x] removing extra characters from price\n",
    "- [ ] cleaning weight column / getting info about weight from product name\n",
    "- [x] removing 'g' from fat, sat_fat, carbs, sugar, fibre, protein, salt\n",
    "- [x] split kcal-column in kJ and kcal\n",
    "\n",
    "Maybe:\n",
    "\n",
    "- [ ] new column price/gr?\n",
    "- [ ] ingredients: use first ingredient?"
   ]
  },
  {
   "cell_type": "markdown",
   "id": "b9873ae4-fc19-4595-9b0d-1eb8e4417dcb",
   "metadata": {},
   "source": [
    "#### Dropping duplicate index column"
   ]
  },
  {
   "cell_type": "code",
   "execution_count": 172,
   "id": "10b66fec-9ddd-425a-b7b0-c00e1eebff40",
   "metadata": {},
   "outputs": [
    {
     "data": {
      "text/plain": [
       "Index(['product', 'links', 'price', 'weight', 'kcal', 'fat', 'sat_fat',\n",
       "       'carbs', 'sugar', 'fibre', 'protein', 'salt', 'ingredients',\n",
       "       'photo_link'],\n",
       "      dtype='object')"
      ]
     },
     "execution_count": 172,
     "metadata": {},
     "output_type": "execute_result"
    }
   ],
   "source": [
    "koro = koro.drop('Unnamed: 0', axis=1)\n",
    "koro.columns"
   ]
  },
  {
   "cell_type": "markdown",
   "id": "68c3b803-cf5a-4fbf-807c-a52eb9abf06d",
   "metadata": {},
   "source": [
    "#### Product name"
   ]
  },
  {
   "cell_type": "code",
   "execution_count": 173,
   "id": "7e796ab1-80a8-4630-b171-badb93dc6657",
   "metadata": {},
   "outputs": [],
   "source": [
    "def clean_name(x):\n",
    "    return re.sub(r'\\d{2,3}\\s\\w+|\\d{1}\\s\\w{2}|\\d{1}\\sx', '', x)"
   ]
  },
  {
   "cell_type": "code",
   "execution_count": 174,
   "id": "fab1735e-f9b3-4a86-a322-7f685959e353",
   "metadata": {},
   "outputs": [
    {
     "data": {
      "text/plain": [
       "0            Soja Protein Crispies 58 % mit Kakao \n",
       "1                           Schokodrops mit Xylit \n",
       "2      Schoko Protein Crunchies ohne Zuckerzusatz \n",
       "3                      Soja Protein Crispies 60 % \n",
       "4           Bohnen-Erbsen-Mix geröstet & gesalzen \n",
       "                          ...                     \n",
       "216                     Bio gepuffte Ananasstücke \n",
       "217          Bio gepuffte schwarze Johannisbeeren \n",
       "218                          Bio gepuffte Kirsche \n",
       "219                             Bio Cracker Pizza \n",
       "220                            Bio Cracker Pizza  \n",
       "Name: product_clean, Length: 221, dtype: object"
      ]
     },
     "execution_count": 174,
     "metadata": {},
     "output_type": "execute_result"
    }
   ],
   "source": [
    "koro[\"product_clean\"] = koro[\"product\"].apply(clean_name)\n",
    "koro[\"product_clean\"]"
   ]
  },
  {
   "cell_type": "markdown",
   "id": "c9f8d3df-ebf5-45b9-aade-a5266e336488",
   "metadata": {},
   "source": [
    "#### Adding brand column"
   ]
  },
  {
   "cell_type": "code",
   "execution_count": 175,
   "id": "4c80a36c-2113-4cb5-914a-6597c2439ee6",
   "metadata": {},
   "outputs": [
    {
     "data": {
      "text/html": [
       "<div>\n",
       "<style scoped>\n",
       "    .dataframe tbody tr th:only-of-type {\n",
       "        vertical-align: middle;\n",
       "    }\n",
       "\n",
       "    .dataframe tbody tr th {\n",
       "        vertical-align: top;\n",
       "    }\n",
       "\n",
       "    .dataframe thead th {\n",
       "        text-align: right;\n",
       "    }\n",
       "</style>\n",
       "<table border=\"1\" class=\"dataframe\">\n",
       "  <thead>\n",
       "    <tr style=\"text-align: right;\">\n",
       "      <th></th>\n",
       "      <th>product</th>\n",
       "      <th>links</th>\n",
       "      <th>price</th>\n",
       "      <th>weight</th>\n",
       "      <th>kcal</th>\n",
       "      <th>fat</th>\n",
       "      <th>sat_fat</th>\n",
       "      <th>carbs</th>\n",
       "      <th>sugar</th>\n",
       "      <th>fibre</th>\n",
       "      <th>protein</th>\n",
       "      <th>salt</th>\n",
       "      <th>ingredients</th>\n",
       "      <th>photo_link</th>\n",
       "      <th>product_clean</th>\n",
       "      <th>brand</th>\n",
       "    </tr>\n",
       "  </thead>\n",
       "  <tbody>\n",
       "    <tr>\n",
       "      <th>0</th>\n",
       "      <td>Soja Protein Crispies 58 % mit Kakao 1 kg</td>\n",
       "      <td>https://www.korodrogerie.de/soja-protein-crisp...</td>\n",
       "      <td>\\n\\n14,00 €\\n</td>\n",
       "      <td>1 kg</td>\n",
       "      <td>1535                                   / 362</td>\n",
       "      <td>1,9 g</td>\n",
       "      <td>0,4 g</td>\n",
       "      <td>28,2 g</td>\n",
       "      <td>9,1 g</td>\n",
       "      <td>1,8 g</td>\n",
       "      <td>58 g</td>\n",
       "      <td>2,7 g</td>\n",
       "      <td>74 % SOJAPROTEIN, Reisgrieß, Zucker, 4 % Kakao...</td>\n",
       "      <td>https://koro2.imgix.net/media/image/f1/50/81/C...</td>\n",
       "      <td>Soja Protein Crispies 58 % mit Kakao</td>\n",
       "      <td>Koro</td>\n",
       "    </tr>\n",
       "    <tr>\n",
       "      <th>1</th>\n",
       "      <td>Schokodrops mit Xylit 1 kg</td>\n",
       "      <td>https://www.korodrogerie.de/schokodrops-mit-xy...</td>\n",
       "      <td>\\n\\n21,00 €\\n</td>\n",
       "      <td>1 kg</td>\n",
       "      <td>2290                                   / 555</td>\n",
       "      <td>46 g</td>\n",
       "      <td>28 g</td>\n",
       "      <td>31 g</td>\n",
       "      <td>1,0 g</td>\n",
       "      <td>10 g</td>\n",
       "      <td>9,2 g</td>\n",
       "      <td>0,07 g</td>\n",
       "      <td>Kakaomasse, 25 % Süßungsmittel: Xylit; Kakaobu...</td>\n",
       "      <td>https://koro2.imgix.net/media/image/2c/01/f8/S...</td>\n",
       "      <td>Schokodrops mit Xylit</td>\n",
       "      <td>Koro</td>\n",
       "    </tr>\n",
       "    <tr>\n",
       "      <th>2</th>\n",
       "      <td>Schoko Protein Crunchies ohne Zuckerzusatz 1 kg</td>\n",
       "      <td>https://www.korodrogerie.de/schoko-protein-cru...</td>\n",
       "      <td>\\n\\n20,00 €\\n</td>\n",
       "      <td>1 kg</td>\n",
       "      <td>1875                                   / 448</td>\n",
       "      <td>28 g</td>\n",
       "      <td>12 g</td>\n",
       "      <td>37 g</td>\n",
       "      <td>1,4 g</td>\n",
       "      <td>8,3 g</td>\n",
       "      <td>21 g</td>\n",
       "      <td>0,36 g</td>\n",
       "      <td>Süßungsmittel: Maltit, ERDNUSSKERNE, 20 % Prot...</td>\n",
       "      <td>https://koro2.imgix.net/media/image/30/78/62/P...</td>\n",
       "      <td>Schoko Protein Crunchies ohne Zuckerzusatz</td>\n",
       "      <td>Koro</td>\n",
       "    </tr>\n",
       "    <tr>\n",
       "      <th>3</th>\n",
       "      <td>Soja Protein Crispies 60 % 1 kg</td>\n",
       "      <td>https://www.korodrogerie.de/soja-protein-crisp...</td>\n",
       "      <td>\\n\\n13,00 €\\n</td>\n",
       "      <td>1 kg</td>\n",
       "      <td>1541                                   / 363</td>\n",
       "      <td>1,8 g</td>\n",
       "      <td>0,2 g</td>\n",
       "      <td>26 g</td>\n",
       "      <td>0,8 g</td>\n",
       "      <td>0,8 g</td>\n",
       "      <td>60 g</td>\n",
       "      <td>3,2 g</td>\n",
       "      <td>68 % SOJAPROTEIN, Reisgriess, SOJAMEHL, Salz\\t...</td>\n",
       "      <td>https://koro2.imgix.net/media/image/84/55/ca/C...</td>\n",
       "      <td>Soja Protein Crispies 60 %</td>\n",
       "      <td>Koro</td>\n",
       "    </tr>\n",
       "    <tr>\n",
       "      <th>4</th>\n",
       "      <td>Bohnen-Erbsen-Mix geröstet &amp; gesalzen 1 kg</td>\n",
       "      <td>https://www.korodrogerie.de/bohnen-erbsen-mix-...</td>\n",
       "      <td>\\n\\n11,50 €\\n</td>\n",
       "      <td>1 kg</td>\n",
       "      <td>1766                                   / 421</td>\n",
       "      <td>14 g</td>\n",
       "      <td>2,3 g</td>\n",
       "      <td>35 g</td>\n",
       "      <td>6,7 g</td>\n",
       "      <td>10 g</td>\n",
       "      <td>33 g</td>\n",
       "      <td>1,0 g</td>\n",
       "      <td>19 % SCHWARZE SOJABOHNEN, 19 % EDAMAME-BOHNEN,...</td>\n",
       "      <td>https://koro2.imgix.net/media/image/a9/37/79/B...</td>\n",
       "      <td>Bohnen-Erbsen-Mix geröstet &amp; gesalzen</td>\n",
       "      <td>Koro</td>\n",
       "    </tr>\n",
       "  </tbody>\n",
       "</table>\n",
       "</div>"
      ],
      "text/plain": [
       "                                           product  \\\n",
       "0        Soja Protein Crispies 58 % mit Kakao 1 kg   \n",
       "1                       Schokodrops mit Xylit 1 kg   \n",
       "2  Schoko Protein Crunchies ohne Zuckerzusatz 1 kg   \n",
       "3                  Soja Protein Crispies 60 % 1 kg   \n",
       "4       Bohnen-Erbsen-Mix geröstet & gesalzen 1 kg   \n",
       "\n",
       "                                               links          price weight  \\\n",
       "0  https://www.korodrogerie.de/soja-protein-crisp...  \\n\\n14,00 €\\n   1 kg   \n",
       "1  https://www.korodrogerie.de/schokodrops-mit-xy...  \\n\\n21,00 €\\n   1 kg   \n",
       "2  https://www.korodrogerie.de/schoko-protein-cru...  \\n\\n20,00 €\\n   1 kg   \n",
       "3  https://www.korodrogerie.de/soja-protein-crisp...  \\n\\n13,00 €\\n   1 kg   \n",
       "4  https://www.korodrogerie.de/bohnen-erbsen-mix-...  \\n\\n11,50 €\\n   1 kg   \n",
       "\n",
       "                                           kcal    fat sat_fat   carbs  sugar  \\\n",
       "0  1535                                   / 362  1,9 g   0,4 g  28,2 g  9,1 g   \n",
       "1  2290                                   / 555   46 g    28 g    31 g  1,0 g   \n",
       "2  1875                                   / 448   28 g    12 g    37 g  1,4 g   \n",
       "3  1541                                   / 363  1,8 g   0,2 g    26 g  0,8 g   \n",
       "4  1766                                   / 421   14 g   2,3 g    35 g  6,7 g   \n",
       "\n",
       "   fibre protein    salt                                        ingredients  \\\n",
       "0  1,8 g    58 g   2,7 g  74 % SOJAPROTEIN, Reisgrieß, Zucker, 4 % Kakao...   \n",
       "1   10 g   9,2 g  0,07 g  Kakaomasse, 25 % Süßungsmittel: Xylit; Kakaobu...   \n",
       "2  8,3 g    21 g  0,36 g  Süßungsmittel: Maltit, ERDNUSSKERNE, 20 % Prot...   \n",
       "3  0,8 g    60 g   3,2 g  68 % SOJAPROTEIN, Reisgriess, SOJAMEHL, Salz\\t...   \n",
       "4   10 g    33 g   1,0 g  19 % SCHWARZE SOJABOHNEN, 19 % EDAMAME-BOHNEN,...   \n",
       "\n",
       "                                          photo_link  \\\n",
       "0  https://koro2.imgix.net/media/image/f1/50/81/C...   \n",
       "1  https://koro2.imgix.net/media/image/2c/01/f8/S...   \n",
       "2  https://koro2.imgix.net/media/image/30/78/62/P...   \n",
       "3  https://koro2.imgix.net/media/image/84/55/ca/C...   \n",
       "4  https://koro2.imgix.net/media/image/a9/37/79/B...   \n",
       "\n",
       "                                 product_clean brand  \n",
       "0        Soja Protein Crispies 58 % mit Kakao   Koro  \n",
       "1                       Schokodrops mit Xylit   Koro  \n",
       "2  Schoko Protein Crunchies ohne Zuckerzusatz   Koro  \n",
       "3                  Soja Protein Crispies 60 %   Koro  \n",
       "4       Bohnen-Erbsen-Mix geröstet & gesalzen   Koro  "
      ]
     },
     "execution_count": 175,
     "metadata": {},
     "output_type": "execute_result"
    }
   ],
   "source": [
    "koro['brand'] = 'Koro'\n",
    "koro.head()"
   ]
  },
  {
   "cell_type": "markdown",
   "id": "da90022b-a370-4609-bf0c-2865086fc77a",
   "metadata": {},
   "source": [
    "#### Price"
   ]
  },
  {
   "cell_type": "code",
   "execution_count": 176,
   "id": "28ce9ef7-88b6-4eeb-9e88-199ad14f2472",
   "metadata": {},
   "outputs": [],
   "source": [
    "def clean_price(col):\n",
    "    \n",
    "    cleaned = []\n",
    "    \n",
    "    for p in col:\n",
    "        price = str(p).replace('\\n', '').replace('€', '').replace(',', '.')\n",
    "        cleaned.append(float(price))   \n",
    "        \n",
    "    return cleaned"
   ]
  },
  {
   "cell_type": "code",
   "execution_count": 177,
   "id": "3e592313-9c28-40d9-89c8-e103378622b0",
   "metadata": {},
   "outputs": [],
   "source": [
    "koro['price_clean'] = clean_price(koro['price'])"
   ]
  },
  {
   "cell_type": "code",
   "execution_count": 178,
   "id": "4ad37883-78ef-4eb7-abfc-c4a57a8db69c",
   "metadata": {},
   "outputs": [
    {
     "data": {
      "text/plain": [
       "0      14.0\n",
       "1      21.0\n",
       "2      20.0\n",
       "3      13.0\n",
       "4      11.5\n",
       "       ... \n",
       "216    18.5\n",
       "217    24.0\n",
       "218    20.0\n",
       "219     5.0\n",
       "220    27.5\n",
       "Name: price_clean, Length: 221, dtype: float64"
      ]
     },
     "execution_count": 178,
     "metadata": {},
     "output_type": "execute_result"
    }
   ],
   "source": [
    "koro['price_clean']"
   ]
  },
  {
   "cell_type": "markdown",
   "id": "418fb66a-c5be-4fc5-8e68-2cfb018a3757",
   "metadata": {},
   "source": [
    "#### Weight"
   ]
  },
  {
   "cell_type": "code",
   "execution_count": 249,
   "id": "ff4bca46-feae-449e-8aac-b7d91178a1da",
   "metadata": {
    "tags": []
   },
   "outputs": [
    {
     "data": {
      "text/plain": [
       "array(['Soja Protein Crispies 58\\xa0% mit Kakao ',\n",
       "       'Schokodrops mit Xylit ',\n",
       "       'Schoko Protein Crunchies ohne Zuckerzusatz ',\n",
       "       'Soja Protein Crispies 60\\xa0% ',\n",
       "       'Bohnen-Erbsen-Mix geröstet & gesalzen ',\n",
       "       'Reisgebäck Superior Mix ',\n",
       "       'Amarena Kirschen mit Zartbitterschokolade ',\n",
       "       'Sonnengetrocknete Tomaten ', 'Apfelchips Deutscher Elstar ',\n",
       "       'Bio Rote Bete Chips ', 'Apfelstücke mit Zimt & Zucker ',\n",
       "       'Reiscracker Chili ', 'Edamame Bohnen geröstet und gesalzen ',\n",
       "       'Schwarze Sojabohnen geröstet und gesalzen ',\n",
       "       'Saubohnen geröstet und gesalzen ',\n",
       "       'Bio Vollkornreiswaffeln mit Amaranth und Hirse  ',\n",
       "       'Bio Vollkornreiswaffeln mit aten  ',\n",
       "       'Vollkornreiswaffeln mit dunkler Schokolade  ',\n",
       "       'Bio Vollkornreiswaffeln mit Amaranth und Hirse ',\n",
       "       'Bio Vollkornreiswaffeln mit aten ',\n",
       "       'Vollkornreiswaffeln mit dunkler Schokolade ',\n",
       "       'Bio Süßkartoffel Chips \\xa0',\n",
       "       'Bio Bruchschokolade Bitter Blaubeere Quinoa ',\n",
       "       'Geröstete Maiskörner mit Salz ',\n",
       "       'Aprikosen in Zartbitterschokolade ',\n",
       "       'Sanddornbeeren mit Traubensaft ',\n",
       "       'Bio Saure Würmer ohne Gelatine 1,',\n",
       "       'Bio Fruchtgummibärchen ohne Gelatine 1,',\n",
       "       'Bohnenmix Chili Limette ', 'Bio Energy Ball Erdnuss ',\n",
       "       'Bio Energy Ball Haselnuss ',\n",
       "       'Bio Bruchschokolade Bitter Beeren Mix ',\n",
       "       'Bio Energy Ball Salted Peanut ', 'Bio Cookie Chocolate Chip  ',\n",
       "       'Bio Rohkostriegel Kakao ', 'Bio Nut Butter Bar Tahin ',\n",
       "       'Bio Nut Butter Bar Tahin  ',\n",
       "       'Bio Veganer Proteinriegel Haselnuss ',\n",
       "       'Bio Geile Schnitte Schokolade ', 'Bio Energy Ball Pistazie ',\n",
       "       'Kichererbsen geröstet und gesalzen ',\n",
       "       'Geröstete Kichererbsen BBQ ',\n",
       "       'Geröstete Kichererbsen Salz & Pfeffer ',\n",
       "       'Bio Rohkostriegel Himbeere ', 'Bio Rohkostriegel Cashew ',\n",
       "       'Bio Cookie Chocolate Chip ', 'Bio Cookie Salted Caramel ',\n",
       "       'Bio Cookie Salted Caramel  ', 'Apfelchips hauchdünn rot ',\n",
       "       'Apfelchips hauchdünn grün ', 'Bio Rote Bete Chips   ',\n",
       "       'Bio Süßkartoffel Chips   ', 'Saubohnen geröstet und gesalzen  ',\n",
       "       'Schwarze Sojabohnen geröstet und gesalzen   ',\n",
       "       'Bohnen-Erbsen-Mix geröstet & gesalzen   ',\n",
       "       'Amarena Kirschen mit Zartbitterschokolade   ',\n",
       "       'Sonnengetrocknete Tomaten  ', 'Apfelstücke mit Zimt & Zucker   ',\n",
       "       'Aprikosen in Zartbitterschokolade   ',\n",
       "       'Bio Linsenchips mit Meersalz ', 'Bio Linsenchips mit Meersalz  ',\n",
       "       'Nussknacker Walnuss-Feige ', 'Nussknacker Walnuss-Feige  ',\n",
       "       'Reiscracker Fried Oregano ', 'Nussknacker Cashew-Walnuss ',\n",
       "       'Nussknacker Cashew-Walnuss  ', 'Protein Ball Brownie ',\n",
       "       'Protein Ball Cookie Dough ', 'Bio grüne Oliven mit Stein ',\n",
       "       'Bio grüne Oliven mit Stein  ', 'Bio Kalamata Oliven ',\n",
       "       'Bio Kalamata Oliven  ', 'Feigenbrot mit Mandeln ',\n",
       "       'Feigenbrot mit Mandeln  ', 'Bio Nut Butter Bar Peanut ',\n",
       "       'Bio Nut Butter Bar Hazelnut ', 'Bio gepuffter Apfel ',\n",
       "       'Bio gepuffte Physalis ', 'Bio gepuffte Mango ',\n",
       "       'Bio gepuffte Banane ', 'Bio Tomatenchips ', 'Zimtwaffel ',\n",
       "       'Bio Tomatenchips  ', 'Mandeln mit veganer Kakao Glasur ',\n",
       "       'Cracker Dinkel-Chia ', 'Cracker Hanf-Mohnsamen ',\n",
       "       'Cracker Dinkel-Chia  ', 'Cracker Hanf-Mohnsamen  ',\n",
       "       'Bio gepuffter Apfel  ', 'Bio gepuffte Physalis  ',\n",
       "       'Bio gepuffte Mango  ', 'Bio gepuffte Banane  ',\n",
       "       'Protein Ball Brownie  ', 'Bio Flapjack Kakao  ',\n",
       "       'Bio Veganer Proteinriegel Haselnuss  ',\n",
       "       'Protein Ball Cookie Dough  ', 'Bio Geile Schnitte Schokolade  ',\n",
       "       'Bio Nut Butter Bar Peanut  ', 'Bio Nut Butter Bar Hazelnut  ',\n",
       "       'Bio Energy Ball Haselnuss  ', 'Bio Energy Ball Pistazie  ',\n",
       "       'Bio Energy Ball Erdnuss  ', 'Bio Energy Ball Salted Peanut  ',\n",
       "       'Zimtwaffel  ', 'Bio Rohkostriegel Cashew  ',\n",
       "       'Bio Rohkostriegel Kakao  ', 'Bio Rohkostriegel Himbeere  ',\n",
       "       'Haferkeks mit Schokodrops ', 'Haferkekse mit Schokodrops  ',\n",
       "       'Gebrannte Haselnüsse Salted Caramel ',\n",
       "       'Mandeln mit veganer Kakao Glasur  ',\n",
       "       'Gebrannte Cashewkerne Salted Caramel ', 'Gebrannte Pekannüsse ',\n",
       "       'Vegane Schokobrezeln ohne Zuckerzusatz ',\n",
       "       'Vegane Schokobrezeln ohne Zuckerzusatz  ',\n",
       "       'Gebrannte Erdnüsse Salted Caramel ',\n",
       "       'Gebrannte Erdnüsse Salted Caramel  ',\n",
       "       'Gebrannte Haselnüsse Salted Caramel  ',\n",
       "       'Gebrannte Cashewkerne Salted Caramel  ', 'Gebrannte Pekannüsse  ',\n",
       "       'Edamame geröstet & gesalzen ', 'Snack Feigen ', 'Snack Feigen  ',\n",
       "       'Soja Protein Crispies 77 % mit Kakao ',\n",
       "       'Lübecker Edelmarzipan-Kartoffeln ',\n",
       "       'Bio Edelmarzipan-Kartoffeln ', 'Bio Einkorn Sticks ',\n",
       "       'Bio Bruchschokolade Bitter Blaubeere Quinoa  ',\n",
       "       'Lübecker Edelmarzipan-Kartoffeln  ',\n",
       "       'Bio Energy Ball Salted Hazelnut ',\n",
       "       'Bio Energy Ball Salted Hazelnut  ',\n",
       "       'Bio Energy Ball Cashew-Zimt  ',\n",
       "       'Bio Energy Ball Salted Pistachio ',\n",
       "       'Rohkostriegel Erdnuss-Karamell  ',\n",
       "       'Rohkostriegel Erdnuss-Karamell   ',\n",
       "       'Rohkostriegel Haselnuss-Kakao  ',\n",
       "       'Rohkostriegel Haselnuss-Kakao   ', 'Erbsen Protein Crispies 71% ',\n",
       "       'Bio Edelmarzipan-Kartoffeln  ', 'Feigen in Zartbitterschokolade ',\n",
       "       'Feigen in Zartbitterschokolade  ',\n",
       "       'Kokoskugeln in dunkler Schokolade ',\n",
       "       'Ingwer in dunkler Schokolade ', 'Pflaumen in dunkler Schokolade ',\n",
       "       'Bio Bruchschokolade Bitter Beeren Mix   ',\n",
       "       'Bio Erbsenflips mit Meersalz ', 'Bio Erbsenflips mit Meersalz  ',\n",
       "       'Marcona Mandeln mit Salz ',\n",
       "       'Vegane Haselnuss Crunchies in dunkler Schokolade ',\n",
       "       'Marcona Mandeln mit Rosmarin ', 'Marcona Mandeln mit Rosmarin  ',\n",
       "       'Marcona Mandeln mit Trüffel ', 'Marcona Mandeln mit Trüffel  ',\n",
       "       'Schoko Protein Crunchies ohne Zuckerzusatz   ',\n",
       "       'Hanfsamen Crunchies in veganer Schokolade ',\n",
       "       'Veganer Proteinriegel Schokolade Brownie ',\n",
       "       'Hanfsamen Crunchies in veganer Schokolade  ',\n",
       "       'Ingwer in dunkler Schokolade   ',\n",
       "       'Bruchschokolade Bitter Pfefferminzcrisp ',\n",
       "       'Bruchschokolade Bitter Pfefferminzcrisp  ',\n",
       "       'Pflaumen in dunkler Schokolade  ',\n",
       "       'Kokoskugeln in dunkler Schokolade  ',\n",
       "       'Bruchschokolade Bitter mit Meersalz ',\n",
       "       'Bruchschokolade Bitter mit Meersalz   ',\n",
       "       'Marcona Mandeln mit Salz  ',\n",
       "       'Vegane Haselnuss Crunchies in dunkler Schokolade  ',\n",
       "       'Veganer Proteinriegel Schokolade Brownie  ',\n",
       "       'Bio Mikrowellen Popcorn süß ', 'Bio Mikrowellen Popcorn süß  ',\n",
       "       'Haferkeks mit Carobpulver ', 'Haferkeks mit Carobpulver  ',\n",
       "       'Mandelmus Zimt-Vanille 500g', 'Mandelmus Zimt-Vanille  500g',\n",
       "       'Bio Mikrowellen Popcorn salzig ',\n",
       "       'Bio Mikrowellen Popcorn salzig  ',\n",
       "       'Geröstete Maiskörner mit Chili ',\n",
       "       'Geröstete Maiskörner mit BBQ-Gewürz ',\n",
       "       'Bio Erdnussriegel mit Schokolade ',\n",
       "       'Bio Erdnussriegel mit Schokolade  ',\n",
       "       'Bio Haselnussriegel mit Schokolade ',\n",
       "       'Bio Haselnussriegel mit Schokolade  ', 'Veganer Power Mix ',\n",
       "       'Snack Erbsen Salz & Pfeffer ',\n",
       "       'Snack Erbsen Ungarische Paprika   ',\n",
       "       'Snack Erbsen Ungarische Paprika ',\n",
       "       'Snack Erbsen Salz & Pfeffer  ', 'Bio Cookie Beere ',\n",
       "       'Bio Cookie Beere  ', 'Gefriergetrocknete Drachenfrucht ',\n",
       "       'Bio Flapjack Erdnuss Schokolade ',\n",
       "       'Bio Flapjack Erdnuss Schokolade  ', 'Bio Spinat Pirat ',\n",
       "       'Bio Spinat Pirat  ', 'Bio Rote Bete Fete ',\n",
       "       'Bio Einkorn Sticks  ', 'Bio Rote Bete Fete  ',\n",
       "       'Bio Cookie Walnuss ', 'Bio Cookie Walnuss  ',\n",
       "       'Bio Energy Ball Matcha  ', 'Bio Energy Ball Matcha   ',\n",
       "       'Bio Energy Ball Himbeere & Chia  ',\n",
       "       'Bio Energy Ball Apfel-Zimt  ', 'Bio Energy Ball Apfel-Zimt   ',\n",
       "       'Bio Energy Ball Erdbeere & Chia  ',\n",
       "       'Bio Energy Ball Himbeere & Chia   ',\n",
       "       'Bio weiße Drops mit Kokosblütenzucker ',\n",
       "       'Bio weiße Drops mit Kokosblütenzucker  ', 'Bio Cracker Rosmarin ',\n",
       "       'Bio Cracker Rosmarin  ', 'Bio Cracker Olive ',\n",
       "       'Bio Cracker Olive  ',\n",
       "       'Bio dunkel geröstete Kokoschips mit Kakao ',\n",
       "       'Bio Kokoschips ohne Zuckerzusatz ',\n",
       "       'Bio Kokoschips mit Kokosblütenzucker ',\n",
       "       'Bio vegane Bruchschokolade Helle Haselnusskrokant ',\n",
       "       'Bio vegane Bruchschokolade Helle Haselnusskrokant  ',\n",
       "       'Bio gepuffte Ananasstücke ',\n",
       "       'Bio gepuffte schwarze Johannisbeeren ', 'Bio gepuffte Kirsche ',\n",
       "       'Bio Cracker Pizza ', 'Bio Cracker Pizza  '], dtype=object)"
      ]
     },
     "execution_count": 249,
     "metadata": {},
     "output_type": "execute_result"
    }
   ],
   "source": [
    "koro['product'].sample(25).unique()"
   ]
  },
  {
   "cell_type": "code",
   "execution_count": 200,
   "id": "cbbe0673-c09b-4e6b-9891-8da3af7078bf",
   "metadata": {},
   "outputs": [],
   "source": [
    "def extract_weight(col):\n",
    "    \n",
    "    weights = []\n",
    "    \n",
    "    for w in col:\n",
    "        try:\n",
    "            weight = re.findall('\\d+\\s[x]\\s\\d+\\s[k,g]|\\d+\\s[x]\\s\\d+\\s[x]\\s\\d+\\s[k,g]|\\d+\\s[k,g]', w)[0]\n",
    "            weights.append(weight)\n",
    "        except: \n",
    "            weights.append(None)\n",
    "    \n",
    "    return weights"
   ]
  },
  {
   "cell_type": "code",
   "execution_count": 204,
   "id": "2a8da24a-e0b8-4176-9074-bb02c05128e1",
   "metadata": {},
   "outputs": [
    {
     "data": {
      "text/plain": [
       "array(['1\\xa0k', '1 k', '750\\xa0g', '250 g', '250\\xa0g', '200 g', '750 g',\n",
       "       '12 x 120 g', '12 x 90 g', '120 g', '90 g', '500 g', '5 k',\n",
       "       '25\\xa0k', '30 g', '12 x 50 g', '50 g', '12 x 30 g', '60 g',\n",
       "       '20 x 200 g', '12 x 750 g', '12 x 1 k', '25 x 250 g', '10 x 1 k',\n",
       "       '8 x 1 k', '10 x 500 g', '100 g', '16 x 100 g', '40 g',\n",
       "       '12 x 40 g', '400 g', '6 x 400 g', '12 x 500 g', '13 x 500 g',\n",
       "       '6 x 500 g', '16 x 500 g', '15 x 30 g', '15 x 60 g', '12 x 60 g',\n",
       "       '10 x 30 g', '10 x 100 g', '12 x 200 g', '3 x 1 k', '5 x 1 k',\n",
       "       '3 x 35 g', '12 x 3 x 35 g', '150 g', '15 x 150 g', '8 x 1\\xa0k',\n",
       "       '55 g', '14 x 1 k', '4 x 1 k', '15 x 55 g', '170 g', '12 x 170 g',\n",
       "       None, '6 x 1 k', '45 g', '20 x 45 g', '8 x 200 g', '2 x 17 g',\n",
       "       '18 x 2 x 17 g'], dtype=object)"
      ]
     },
     "execution_count": 204,
     "metadata": {},
     "output_type": "execute_result"
    }
   ],
   "source": [
    "koro['weight_new'] = extract_weight(koro[\"product\"])\n",
    "koro['weight_new'].unique()"
   ]
  },
  {
   "cell_type": "code",
   "execution_count": 205,
   "id": "3cd66dce-b265-4783-bb46-f064831cbad5",
   "metadata": {
    "tags": []
   },
   "outputs": [],
   "source": [
    "koro[['w1','w2', 'w3']] = koro['weight_new'].str.split('x', expand=True)"
   ]
  },
  {
   "cell_type": "code",
   "execution_count": 219,
   "id": "21d59c22-d225-4a12-9e57-7390093fb83e",
   "metadata": {},
   "outputs": [],
   "source": [
    "def clean_weight(col):\n",
    "    \n",
    "    cleaned = []\n",
    "    \n",
    "    for w in col:\n",
    "        if w == None:\n",
    "            cleaned.append(1)\n",
    "        \n",
    "        elif w.endswith('k'):\n",
    "            w = w.replace('k', '')\n",
    "            cleaned.append(float(w))\n",
    "            \n",
    "        elif w.endswith('g'):\n",
    "            w = w.replace('g', '')\n",
    "            w = float(w)\n",
    "            w = w/1000\n",
    "            cleaned.append(w)\n",
    "            \n",
    "        else:\n",
    "            cleaned.append(float(w))\n",
    "    \n",
    "    return cleaned\n",
    "        "
   ]
  },
  {
   "cell_type": "code",
   "execution_count": 222,
   "id": "e80dacc6-51b9-47f8-a9a9-ed7f4d8554a1",
   "metadata": {},
   "outputs": [],
   "source": [
    "koro['w1_1'] = clean_weight(koro['w1'])\n",
    "koro['w1_2'] = clean_weight(koro['w2'])\n",
    "koro['w1_3'] = clean_weight(koro['w3'])"
   ]
  },
  {
   "cell_type": "code",
   "execution_count": 224,
   "id": "40e55b72-f179-470e-9d17-907f003bdee2",
   "metadata": {},
   "outputs": [
    {
     "data": {
      "text/plain": [
       "125     0.500000\n",
       "62      0.019200\n",
       "181     1.000000\n",
       "150     5.000000\n",
       "145     0.150000\n",
       "180     0.030000\n",
       "49      0.250000\n",
       "86      1.500000\n",
       "22      1.000000\n",
       "133     0.003675\n",
       "104     0.030000\n",
       "120     5.000000\n",
       "59      0.100000\n",
       "47      0.030000\n",
       "166     0.045375\n",
       "101     0.013500\n",
       "142     1.000000\n",
       "151     1.000000\n",
       "25      0.500000\n",
       "82      3.250000\n",
       "43      0.050000\n",
       "45      0.050000\n",
       "210     1.500000\n",
       "92      0.013500\n",
       "122    10.000000\n",
       "Name: weight_clean, dtype: float64"
      ]
     },
     "execution_count": 224,
     "metadata": {},
     "output_type": "execute_result"
    }
   ],
   "source": [
    "koro['weight_clean'] = koro['w1_1'] * koro['w1_2'] * koro['w1_2']\n",
    "koro['weight_clean'].sample(25)"
   ]
  },
  {
   "cell_type": "markdown",
   "id": "823ac1cd-66a5-4209-b135-6997e444cca5",
   "metadata": {},
   "source": [
    "#### Nutrients"
   ]
  },
  {
   "cell_type": "code",
   "execution_count": 225,
   "id": "2d176dbe-3796-4588-9635-e81ec815d118",
   "metadata": {},
   "outputs": [],
   "source": [
    "def nutrient_cleaner(col):\n",
    "    \n",
    "    cleaned = []\n",
    "    \n",
    "    for n in col:\n",
    "        n = str(n).replace('g', '').replace(',', '')\n",
    "        cleaned.append(float(n))\n",
    "    \n",
    "    return cleaned"
   ]
  },
  {
   "cell_type": "code",
   "execution_count": 226,
   "id": "3fbed78c-af16-485e-aad4-d894184fc224",
   "metadata": {},
   "outputs": [
    {
     "data": {
      "text/plain": [
       "0      19.0\n",
       "1      46.0\n",
       "2      28.0\n",
       "3      18.0\n",
       "4      14.0\n",
       "       ... \n",
       "216     0.0\n",
       "217    23.0\n",
       "218     5.0\n",
       "219    13.0\n",
       "220    13.0\n",
       "Name: fat_clean, Length: 221, dtype: float64"
      ]
     },
     "execution_count": 226,
     "metadata": {},
     "output_type": "execute_result"
    }
   ],
   "source": [
    "koro['fat_clean'] = nutrient_cleaner(koro['fat'])\n",
    "koro['fat_clean']"
   ]
  },
  {
   "cell_type": "code",
   "execution_count": 227,
   "id": "0d7e7ca1-5531-4a68-a8ef-2d659776b789",
   "metadata": {},
   "outputs": [],
   "source": [
    "def batch_cleaning_nutrients(df, in_columns=[]):\n",
    "    \n",
    "    for col in df.columns:\n",
    "        if col in in_columns:\n",
    "            \n",
    "            df[col] = nutrient_cleaner(df[col])\n",
    "            \n",
    "    return df"
   ]
  },
  {
   "cell_type": "code",
   "execution_count": 228,
   "id": "1f585f87-7334-44d4-9e07-0a060799ad51",
   "metadata": {},
   "outputs": [
    {
     "data": {
      "text/html": [
       "<div>\n",
       "<style scoped>\n",
       "    .dataframe tbody tr th:only-of-type {\n",
       "        vertical-align: middle;\n",
       "    }\n",
       "\n",
       "    .dataframe tbody tr th {\n",
       "        vertical-align: top;\n",
       "    }\n",
       "\n",
       "    .dataframe thead th {\n",
       "        text-align: right;\n",
       "    }\n",
       "</style>\n",
       "<table border=\"1\" class=\"dataframe\">\n",
       "  <thead>\n",
       "    <tr style=\"text-align: right;\">\n",
       "      <th></th>\n",
       "      <th>product</th>\n",
       "      <th>links</th>\n",
       "      <th>price</th>\n",
       "      <th>weight</th>\n",
       "      <th>kcal</th>\n",
       "      <th>fat</th>\n",
       "      <th>sat_fat</th>\n",
       "      <th>carbs</th>\n",
       "      <th>sugar</th>\n",
       "      <th>fibre</th>\n",
       "      <th>...</th>\n",
       "      <th>price_clean</th>\n",
       "      <th>weight_clean</th>\n",
       "      <th>weight_new</th>\n",
       "      <th>w1</th>\n",
       "      <th>w2</th>\n",
       "      <th>w3</th>\n",
       "      <th>w1_1</th>\n",
       "      <th>w1_2</th>\n",
       "      <th>w1_3</th>\n",
       "      <th>fat_clean</th>\n",
       "    </tr>\n",
       "  </thead>\n",
       "  <tbody>\n",
       "    <tr>\n",
       "      <th>0</th>\n",
       "      <td>Soja Protein Crispies 58 % mit Kakao 1 kg</td>\n",
       "      <td>https://www.korodrogerie.de/soja-protein-crisp...</td>\n",
       "      <td>\\n\\n14,00 €\\n</td>\n",
       "      <td>1 kg</td>\n",
       "      <td>1535                                   / 362</td>\n",
       "      <td>19.0</td>\n",
       "      <td>4.0</td>\n",
       "      <td>282.0</td>\n",
       "      <td>91.0</td>\n",
       "      <td>18.0</td>\n",
       "      <td>...</td>\n",
       "      <td>14.0</td>\n",
       "      <td>1.0</td>\n",
       "      <td>1 k</td>\n",
       "      <td>1 k</td>\n",
       "      <td>None</td>\n",
       "      <td>None</td>\n",
       "      <td>1.0</td>\n",
       "      <td>1.0</td>\n",
       "      <td>1.0</td>\n",
       "      <td>19.0</td>\n",
       "    </tr>\n",
       "    <tr>\n",
       "      <th>1</th>\n",
       "      <td>Schokodrops mit Xylit 1 kg</td>\n",
       "      <td>https://www.korodrogerie.de/schokodrops-mit-xy...</td>\n",
       "      <td>\\n\\n21,00 €\\n</td>\n",
       "      <td>1 kg</td>\n",
       "      <td>2290                                   / 555</td>\n",
       "      <td>46.0</td>\n",
       "      <td>28.0</td>\n",
       "      <td>31.0</td>\n",
       "      <td>10.0</td>\n",
       "      <td>10.0</td>\n",
       "      <td>...</td>\n",
       "      <td>21.0</td>\n",
       "      <td>1.0</td>\n",
       "      <td>1 k</td>\n",
       "      <td>1 k</td>\n",
       "      <td>None</td>\n",
       "      <td>None</td>\n",
       "      <td>1.0</td>\n",
       "      <td>1.0</td>\n",
       "      <td>1.0</td>\n",
       "      <td>46.0</td>\n",
       "    </tr>\n",
       "    <tr>\n",
       "      <th>2</th>\n",
       "      <td>Schoko Protein Crunchies ohne Zuckerzusatz 1 kg</td>\n",
       "      <td>https://www.korodrogerie.de/schoko-protein-cru...</td>\n",
       "      <td>\\n\\n20,00 €\\n</td>\n",
       "      <td>1 kg</td>\n",
       "      <td>1875                                   / 448</td>\n",
       "      <td>28.0</td>\n",
       "      <td>12.0</td>\n",
       "      <td>37.0</td>\n",
       "      <td>14.0</td>\n",
       "      <td>83.0</td>\n",
       "      <td>...</td>\n",
       "      <td>20.0</td>\n",
       "      <td>1.0</td>\n",
       "      <td>1 k</td>\n",
       "      <td>1 k</td>\n",
       "      <td>None</td>\n",
       "      <td>None</td>\n",
       "      <td>1.0</td>\n",
       "      <td>1.0</td>\n",
       "      <td>1.0</td>\n",
       "      <td>28.0</td>\n",
       "    </tr>\n",
       "    <tr>\n",
       "      <th>3</th>\n",
       "      <td>Soja Protein Crispies 60 % 1 kg</td>\n",
       "      <td>https://www.korodrogerie.de/soja-protein-crisp...</td>\n",
       "      <td>\\n\\n13,00 €\\n</td>\n",
       "      <td>1 kg</td>\n",
       "      <td>1541                                   / 363</td>\n",
       "      <td>18.0</td>\n",
       "      <td>2.0</td>\n",
       "      <td>26.0</td>\n",
       "      <td>8.0</td>\n",
       "      <td>8.0</td>\n",
       "      <td>...</td>\n",
       "      <td>13.0</td>\n",
       "      <td>1.0</td>\n",
       "      <td>1 k</td>\n",
       "      <td>1 k</td>\n",
       "      <td>None</td>\n",
       "      <td>None</td>\n",
       "      <td>1.0</td>\n",
       "      <td>1.0</td>\n",
       "      <td>1.0</td>\n",
       "      <td>18.0</td>\n",
       "    </tr>\n",
       "    <tr>\n",
       "      <th>4</th>\n",
       "      <td>Bohnen-Erbsen-Mix geröstet &amp; gesalzen 1 kg</td>\n",
       "      <td>https://www.korodrogerie.de/bohnen-erbsen-mix-...</td>\n",
       "      <td>\\n\\n11,50 €\\n</td>\n",
       "      <td>1 kg</td>\n",
       "      <td>1766                                   / 421</td>\n",
       "      <td>14.0</td>\n",
       "      <td>23.0</td>\n",
       "      <td>35.0</td>\n",
       "      <td>67.0</td>\n",
       "      <td>10.0</td>\n",
       "      <td>...</td>\n",
       "      <td>11.5</td>\n",
       "      <td>1.0</td>\n",
       "      <td>1 k</td>\n",
       "      <td>1 k</td>\n",
       "      <td>None</td>\n",
       "      <td>None</td>\n",
       "      <td>1.0</td>\n",
       "      <td>1.0</td>\n",
       "      <td>1.0</td>\n",
       "      <td>14.0</td>\n",
       "    </tr>\n",
       "    <tr>\n",
       "      <th>...</th>\n",
       "      <td>...</td>\n",
       "      <td>...</td>\n",
       "      <td>...</td>\n",
       "      <td>...</td>\n",
       "      <td>...</td>\n",
       "      <td>...</td>\n",
       "      <td>...</td>\n",
       "      <td>...</td>\n",
       "      <td>...</td>\n",
       "      <td>...</td>\n",
       "      <td>...</td>\n",
       "      <td>...</td>\n",
       "      <td>...</td>\n",
       "      <td>...</td>\n",
       "      <td>...</td>\n",
       "      <td>...</td>\n",
       "      <td>...</td>\n",
       "      <td>...</td>\n",
       "      <td>...</td>\n",
       "      <td>...</td>\n",
       "      <td>...</td>\n",
       "    </tr>\n",
       "    <tr>\n",
       "      <th>216</th>\n",
       "      <td>Bio gepuffte Ananasstücke 500 g</td>\n",
       "      <td>https://www.korodrogerie.de/bio-gepuffte-anana...</td>\n",
       "      <td>\\n\\n18,50 €\\n</td>\n",
       "      <td>Polen</td>\n",
       "      <td>1612                                   / 380</td>\n",
       "      <td>0.0</td>\n",
       "      <td>0.0</td>\n",
       "      <td>87.0</td>\n",
       "      <td>85.0</td>\n",
       "      <td>79.0</td>\n",
       "      <td>...</td>\n",
       "      <td>18.5</td>\n",
       "      <td>0.5</td>\n",
       "      <td>500 g</td>\n",
       "      <td>500 g</td>\n",
       "      <td>None</td>\n",
       "      <td>None</td>\n",
       "      <td>0.5</td>\n",
       "      <td>1.0</td>\n",
       "      <td>1.0</td>\n",
       "      <td>0.0</td>\n",
       "    </tr>\n",
       "    <tr>\n",
       "      <th>217</th>\n",
       "      <td>Bio gepuffte schwarze Johannisbeeren 500 g</td>\n",
       "      <td>https://www.korodrogerie.de/bio-gepuffte-schwa...</td>\n",
       "      <td>\\n\\n24,00 €\\n</td>\n",
       "      <td>Polen</td>\n",
       "      <td>1336                                   / 319</td>\n",
       "      <td>23.0</td>\n",
       "      <td>4.0</td>\n",
       "      <td>54.0</td>\n",
       "      <td>44.0</td>\n",
       "      <td>31.0</td>\n",
       "      <td>...</td>\n",
       "      <td>24.0</td>\n",
       "      <td>0.5</td>\n",
       "      <td>500 g</td>\n",
       "      <td>500 g</td>\n",
       "      <td>None</td>\n",
       "      <td>None</td>\n",
       "      <td>0.5</td>\n",
       "      <td>1.0</td>\n",
       "      <td>1.0</td>\n",
       "      <td>23.0</td>\n",
       "    </tr>\n",
       "    <tr>\n",
       "      <th>218</th>\n",
       "      <td>Bio gepuffte Kirsche 500 g</td>\n",
       "      <td>https://www.korodrogerie.de/bio-gepuffte-kirsc...</td>\n",
       "      <td>\\n\\n20,00 €\\n</td>\n",
       "      <td>Polen</td>\n",
       "      <td>1472                                   / 348</td>\n",
       "      <td>5.0</td>\n",
       "      <td>2.0</td>\n",
       "      <td>75.0</td>\n",
       "      <td>41.0</td>\n",
       "      <td>95.0</td>\n",
       "      <td>...</td>\n",
       "      <td>20.0</td>\n",
       "      <td>0.5</td>\n",
       "      <td>500 g</td>\n",
       "      <td>500 g</td>\n",
       "      <td>None</td>\n",
       "      <td>None</td>\n",
       "      <td>0.5</td>\n",
       "      <td>1.0</td>\n",
       "      <td>1.0</td>\n",
       "      <td>5.0</td>\n",
       "    </tr>\n",
       "    <tr>\n",
       "      <th>219</th>\n",
       "      <td>Bio Cracker Pizza 500 g</td>\n",
       "      <td>https://www.korodrogerie.de/bio-cracker-pizza-...</td>\n",
       "      <td>\\n\\n5,00 €\\n</td>\n",
       "      <td>Italien</td>\n",
       "      <td>1830                                    / 435</td>\n",
       "      <td>13.0</td>\n",
       "      <td>11.0</td>\n",
       "      <td>67.0</td>\n",
       "      <td>23.0</td>\n",
       "      <td>29.0</td>\n",
       "      <td>...</td>\n",
       "      <td>5.0</td>\n",
       "      <td>0.5</td>\n",
       "      <td>500 g</td>\n",
       "      <td>500 g</td>\n",
       "      <td>None</td>\n",
       "      <td>None</td>\n",
       "      <td>0.5</td>\n",
       "      <td>1.0</td>\n",
       "      <td>1.0</td>\n",
       "      <td>13.0</td>\n",
       "    </tr>\n",
       "    <tr>\n",
       "      <th>220</th>\n",
       "      <td>Bio Cracker Pizza 6 x 500 g</td>\n",
       "      <td>https://www.korodrogerie.de/bio-cracker-pizza-...</td>\n",
       "      <td>\\n\\n27,50 €\\n</td>\n",
       "      <td>Italien</td>\n",
       "      <td>1830                                   / 435</td>\n",
       "      <td>13.0</td>\n",
       "      <td>11.0</td>\n",
       "      <td>67.0</td>\n",
       "      <td>23.0</td>\n",
       "      <td>29.0</td>\n",
       "      <td>...</td>\n",
       "      <td>27.5</td>\n",
       "      <td>1.5</td>\n",
       "      <td>6 x 500 g</td>\n",
       "      <td>6</td>\n",
       "      <td>500 g</td>\n",
       "      <td>None</td>\n",
       "      <td>6.0</td>\n",
       "      <td>0.5</td>\n",
       "      <td>1.0</td>\n",
       "      <td>13.0</td>\n",
       "    </tr>\n",
       "  </tbody>\n",
       "</table>\n",
       "<p>221 rows × 26 columns</p>\n",
       "</div>"
      ],
      "text/plain": [
       "                                             product  \\\n",
       "0          Soja Protein Crispies 58 % mit Kakao 1 kg   \n",
       "1                         Schokodrops mit Xylit 1 kg   \n",
       "2    Schoko Protein Crunchies ohne Zuckerzusatz 1 kg   \n",
       "3                    Soja Protein Crispies 60 % 1 kg   \n",
       "4         Bohnen-Erbsen-Mix geröstet & gesalzen 1 kg   \n",
       "..                                               ...   \n",
       "216                  Bio gepuffte Ananasstücke 500 g   \n",
       "217       Bio gepuffte schwarze Johannisbeeren 500 g   \n",
       "218                       Bio gepuffte Kirsche 500 g   \n",
       "219                          Bio Cracker Pizza 500 g   \n",
       "220                      Bio Cracker Pizza 6 x 500 g   \n",
       "\n",
       "                                                 links          price  \\\n",
       "0    https://www.korodrogerie.de/soja-protein-crisp...  \\n\\n14,00 €\\n   \n",
       "1    https://www.korodrogerie.de/schokodrops-mit-xy...  \\n\\n21,00 €\\n   \n",
       "2    https://www.korodrogerie.de/schoko-protein-cru...  \\n\\n20,00 €\\n   \n",
       "3    https://www.korodrogerie.de/soja-protein-crisp...  \\n\\n13,00 €\\n   \n",
       "4    https://www.korodrogerie.de/bohnen-erbsen-mix-...  \\n\\n11,50 €\\n   \n",
       "..                                                 ...            ...   \n",
       "216  https://www.korodrogerie.de/bio-gepuffte-anana...  \\n\\n18,50 €\\n   \n",
       "217  https://www.korodrogerie.de/bio-gepuffte-schwa...  \\n\\n24,00 €\\n   \n",
       "218  https://www.korodrogerie.de/bio-gepuffte-kirsc...  \\n\\n20,00 €\\n   \n",
       "219  https://www.korodrogerie.de/bio-cracker-pizza-...   \\n\\n5,00 €\\n   \n",
       "220  https://www.korodrogerie.de/bio-cracker-pizza-...  \\n\\n27,50 €\\n   \n",
       "\n",
       "      weight                                           kcal   fat  sat_fat  \\\n",
       "0       1 kg   1535                                   / 362  19.0      4.0   \n",
       "1       1 kg   2290                                   / 555  46.0     28.0   \n",
       "2       1 kg   1875                                   / 448  28.0     12.0   \n",
       "3       1 kg   1541                                   / 363  18.0      2.0   \n",
       "4       1 kg   1766                                   / 421  14.0     23.0   \n",
       "..       ...                                            ...   ...      ...   \n",
       "216    Polen   1612                                   / 380   0.0      0.0   \n",
       "217    Polen   1336                                   / 319  23.0      4.0   \n",
       "218    Polen   1472                                   / 348   5.0      2.0   \n",
       "219  Italien  1830                                    / 435  13.0     11.0   \n",
       "220  Italien   1830                                   / 435  13.0     11.0   \n",
       "\n",
       "     carbs  sugar  fibre  ...  price_clean  weight_clean weight_new     w1  \\\n",
       "0    282.0   91.0   18.0  ...         14.0           1.0        1 k    1 k   \n",
       "1     31.0   10.0   10.0  ...         21.0           1.0        1 k    1 k   \n",
       "2     37.0   14.0   83.0  ...         20.0           1.0        1 k    1 k   \n",
       "3     26.0    8.0    8.0  ...         13.0           1.0        1 k    1 k   \n",
       "4     35.0   67.0   10.0  ...         11.5           1.0        1 k    1 k   \n",
       "..     ...    ...    ...  ...          ...           ...        ...    ...   \n",
       "216   87.0   85.0   79.0  ...         18.5           0.5      500 g  500 g   \n",
       "217   54.0   44.0   31.0  ...         24.0           0.5      500 g  500 g   \n",
       "218   75.0   41.0   95.0  ...         20.0           0.5      500 g  500 g   \n",
       "219   67.0   23.0   29.0  ...          5.0           0.5      500 g  500 g   \n",
       "220   67.0   23.0   29.0  ...         27.5           1.5  6 x 500 g     6    \n",
       "\n",
       "         w2    w3  w1_1  w1_2 w1_3 fat_clean  \n",
       "0      None  None   1.0   1.0  1.0      19.0  \n",
       "1      None  None   1.0   1.0  1.0      46.0  \n",
       "2      None  None   1.0   1.0  1.0      28.0  \n",
       "3      None  None   1.0   1.0  1.0      18.0  \n",
       "4      None  None   1.0   1.0  1.0      14.0  \n",
       "..      ...   ...   ...   ...  ...       ...  \n",
       "216    None  None   0.5   1.0  1.0       0.0  \n",
       "217    None  None   0.5   1.0  1.0      23.0  \n",
       "218    None  None   0.5   1.0  1.0       5.0  \n",
       "219    None  None   0.5   1.0  1.0      13.0  \n",
       "220   500 g  None   6.0   0.5  1.0      13.0  \n",
       "\n",
       "[221 rows x 26 columns]"
      ]
     },
     "execution_count": 228,
     "metadata": {},
     "output_type": "execute_result"
    }
   ],
   "source": [
    "batch_cleaning_nutrients(koro, in_columns=['fat','sat_fat', 'carbs', 'sugar', 'fibre', 'protein', 'salt'])"
   ]
  },
  {
   "cell_type": "markdown",
   "id": "4b8db477-1398-43bb-a906-bc2f68999647",
   "metadata": {},
   "source": [
    "#### kJ and kcal"
   ]
  },
  {
   "cell_type": "code",
   "execution_count": 229,
   "id": "fc9f2f40-f216-4799-bdd5-25746a1b1a8b",
   "metadata": {},
   "outputs": [],
   "source": [
    "koro[['kj_clean','kcal_clean']] = koro['kcal'].str.split('/', expand=True)"
   ]
  },
  {
   "cell_type": "code",
   "execution_count": 230,
   "id": "b570ee58-b32e-4058-850a-75e1e461caaa",
   "metadata": {},
   "outputs": [],
   "source": [
    "koro['kj_clean'] = koro['kj_clean'].astype('float')\n",
    "koro['kcal_clean'] = koro['kcal_clean'].astype('float')"
   ]
  },
  {
   "cell_type": "code",
   "execution_count": 231,
   "id": "f44b4e9c-5564-485c-87fd-4db56c0bcaf0",
   "metadata": {},
   "outputs": [
    {
     "data": {
      "text/html": [
       "<div>\n",
       "<style scoped>\n",
       "    .dataframe tbody tr th:only-of-type {\n",
       "        vertical-align: middle;\n",
       "    }\n",
       "\n",
       "    .dataframe tbody tr th {\n",
       "        vertical-align: top;\n",
       "    }\n",
       "\n",
       "    .dataframe thead th {\n",
       "        text-align: right;\n",
       "    }\n",
       "</style>\n",
       "<table border=\"1\" class=\"dataframe\">\n",
       "  <thead>\n",
       "    <tr style=\"text-align: right;\">\n",
       "      <th></th>\n",
       "      <th>product</th>\n",
       "      <th>links</th>\n",
       "      <th>price</th>\n",
       "      <th>weight</th>\n",
       "      <th>kcal</th>\n",
       "      <th>fat</th>\n",
       "      <th>sat_fat</th>\n",
       "      <th>carbs</th>\n",
       "      <th>sugar</th>\n",
       "      <th>fibre</th>\n",
       "      <th>...</th>\n",
       "      <th>weight_new</th>\n",
       "      <th>w1</th>\n",
       "      <th>w2</th>\n",
       "      <th>w3</th>\n",
       "      <th>w1_1</th>\n",
       "      <th>w1_2</th>\n",
       "      <th>w1_3</th>\n",
       "      <th>fat_clean</th>\n",
       "      <th>kj_clean</th>\n",
       "      <th>kcal_clean</th>\n",
       "    </tr>\n",
       "  </thead>\n",
       "  <tbody>\n",
       "    <tr>\n",
       "      <th>0</th>\n",
       "      <td>Soja Protein Crispies 58 % mit Kakao 1 kg</td>\n",
       "      <td>https://www.korodrogerie.de/soja-protein-crisp...</td>\n",
       "      <td>\\n\\n14,00 €\\n</td>\n",
       "      <td>1 kg</td>\n",
       "      <td>1535                                   / 362</td>\n",
       "      <td>19.0</td>\n",
       "      <td>4.0</td>\n",
       "      <td>282.0</td>\n",
       "      <td>91.0</td>\n",
       "      <td>18.0</td>\n",
       "      <td>...</td>\n",
       "      <td>1 k</td>\n",
       "      <td>1 k</td>\n",
       "      <td>None</td>\n",
       "      <td>None</td>\n",
       "      <td>1.0</td>\n",
       "      <td>1.0</td>\n",
       "      <td>1.0</td>\n",
       "      <td>19.0</td>\n",
       "      <td>1535.0</td>\n",
       "      <td>362.0</td>\n",
       "    </tr>\n",
       "    <tr>\n",
       "      <th>1</th>\n",
       "      <td>Schokodrops mit Xylit 1 kg</td>\n",
       "      <td>https://www.korodrogerie.de/schokodrops-mit-xy...</td>\n",
       "      <td>\\n\\n21,00 €\\n</td>\n",
       "      <td>1 kg</td>\n",
       "      <td>2290                                   / 555</td>\n",
       "      <td>46.0</td>\n",
       "      <td>28.0</td>\n",
       "      <td>31.0</td>\n",
       "      <td>10.0</td>\n",
       "      <td>10.0</td>\n",
       "      <td>...</td>\n",
       "      <td>1 k</td>\n",
       "      <td>1 k</td>\n",
       "      <td>None</td>\n",
       "      <td>None</td>\n",
       "      <td>1.0</td>\n",
       "      <td>1.0</td>\n",
       "      <td>1.0</td>\n",
       "      <td>46.0</td>\n",
       "      <td>2290.0</td>\n",
       "      <td>555.0</td>\n",
       "    </tr>\n",
       "    <tr>\n",
       "      <th>2</th>\n",
       "      <td>Schoko Protein Crunchies ohne Zuckerzusatz 1 kg</td>\n",
       "      <td>https://www.korodrogerie.de/schoko-protein-cru...</td>\n",
       "      <td>\\n\\n20,00 €\\n</td>\n",
       "      <td>1 kg</td>\n",
       "      <td>1875                                   / 448</td>\n",
       "      <td>28.0</td>\n",
       "      <td>12.0</td>\n",
       "      <td>37.0</td>\n",
       "      <td>14.0</td>\n",
       "      <td>83.0</td>\n",
       "      <td>...</td>\n",
       "      <td>1 k</td>\n",
       "      <td>1 k</td>\n",
       "      <td>None</td>\n",
       "      <td>None</td>\n",
       "      <td>1.0</td>\n",
       "      <td>1.0</td>\n",
       "      <td>1.0</td>\n",
       "      <td>28.0</td>\n",
       "      <td>1875.0</td>\n",
       "      <td>448.0</td>\n",
       "    </tr>\n",
       "    <tr>\n",
       "      <th>3</th>\n",
       "      <td>Soja Protein Crispies 60 % 1 kg</td>\n",
       "      <td>https://www.korodrogerie.de/soja-protein-crisp...</td>\n",
       "      <td>\\n\\n13,00 €\\n</td>\n",
       "      <td>1 kg</td>\n",
       "      <td>1541                                   / 363</td>\n",
       "      <td>18.0</td>\n",
       "      <td>2.0</td>\n",
       "      <td>26.0</td>\n",
       "      <td>8.0</td>\n",
       "      <td>8.0</td>\n",
       "      <td>...</td>\n",
       "      <td>1 k</td>\n",
       "      <td>1 k</td>\n",
       "      <td>None</td>\n",
       "      <td>None</td>\n",
       "      <td>1.0</td>\n",
       "      <td>1.0</td>\n",
       "      <td>1.0</td>\n",
       "      <td>18.0</td>\n",
       "      <td>1541.0</td>\n",
       "      <td>363.0</td>\n",
       "    </tr>\n",
       "    <tr>\n",
       "      <th>4</th>\n",
       "      <td>Bohnen-Erbsen-Mix geröstet &amp; gesalzen 1 kg</td>\n",
       "      <td>https://www.korodrogerie.de/bohnen-erbsen-mix-...</td>\n",
       "      <td>\\n\\n11,50 €\\n</td>\n",
       "      <td>1 kg</td>\n",
       "      <td>1766                                   / 421</td>\n",
       "      <td>14.0</td>\n",
       "      <td>23.0</td>\n",
       "      <td>35.0</td>\n",
       "      <td>67.0</td>\n",
       "      <td>10.0</td>\n",
       "      <td>...</td>\n",
       "      <td>1 k</td>\n",
       "      <td>1 k</td>\n",
       "      <td>None</td>\n",
       "      <td>None</td>\n",
       "      <td>1.0</td>\n",
       "      <td>1.0</td>\n",
       "      <td>1.0</td>\n",
       "      <td>14.0</td>\n",
       "      <td>1766.0</td>\n",
       "      <td>421.0</td>\n",
       "    </tr>\n",
       "  </tbody>\n",
       "</table>\n",
       "<p>5 rows × 28 columns</p>\n",
       "</div>"
      ],
      "text/plain": [
       "                                           product  \\\n",
       "0        Soja Protein Crispies 58 % mit Kakao 1 kg   \n",
       "1                       Schokodrops mit Xylit 1 kg   \n",
       "2  Schoko Protein Crunchies ohne Zuckerzusatz 1 kg   \n",
       "3                  Soja Protein Crispies 60 % 1 kg   \n",
       "4       Bohnen-Erbsen-Mix geröstet & gesalzen 1 kg   \n",
       "\n",
       "                                               links          price weight  \\\n",
       "0  https://www.korodrogerie.de/soja-protein-crisp...  \\n\\n14,00 €\\n   1 kg   \n",
       "1  https://www.korodrogerie.de/schokodrops-mit-xy...  \\n\\n21,00 €\\n   1 kg   \n",
       "2  https://www.korodrogerie.de/schoko-protein-cru...  \\n\\n20,00 €\\n   1 kg   \n",
       "3  https://www.korodrogerie.de/soja-protein-crisp...  \\n\\n13,00 €\\n   1 kg   \n",
       "4  https://www.korodrogerie.de/bohnen-erbsen-mix-...  \\n\\n11,50 €\\n   1 kg   \n",
       "\n",
       "                                           kcal   fat  sat_fat  carbs  sugar  \\\n",
       "0  1535                                   / 362  19.0      4.0  282.0   91.0   \n",
       "1  2290                                   / 555  46.0     28.0   31.0   10.0   \n",
       "2  1875                                   / 448  28.0     12.0   37.0   14.0   \n",
       "3  1541                                   / 363  18.0      2.0   26.0    8.0   \n",
       "4  1766                                   / 421  14.0     23.0   35.0   67.0   \n",
       "\n",
       "   fibre  ...  weight_new   w1    w2    w3 w1_1 w1_2  w1_3  fat_clean  \\\n",
       "0   18.0  ...         1 k  1 k  None  None  1.0  1.0   1.0       19.0   \n",
       "1   10.0  ...         1 k  1 k  None  None  1.0  1.0   1.0       46.0   \n",
       "2   83.0  ...         1 k  1 k  None  None  1.0  1.0   1.0       28.0   \n",
       "3    8.0  ...         1 k  1 k  None  None  1.0  1.0   1.0       18.0   \n",
       "4   10.0  ...         1 k  1 k  None  None  1.0  1.0   1.0       14.0   \n",
       "\n",
       "  kj_clean kcal_clean  \n",
       "0   1535.0      362.0  \n",
       "1   2290.0      555.0  \n",
       "2   1875.0      448.0  \n",
       "3   1541.0      363.0  \n",
       "4   1766.0      421.0  \n",
       "\n",
       "[5 rows x 28 columns]"
      ]
     },
     "execution_count": 231,
     "metadata": {},
     "output_type": "execute_result"
    }
   ],
   "source": [
    "koro.head(5)"
   ]
  },
  {
   "cell_type": "markdown",
   "id": "3c30b82a-f6d3-40b5-b5dc-aedc2600627a",
   "metadata": {},
   "source": [
    "### Cleaning final dataframe"
   ]
  },
  {
   "cell_type": "code",
   "execution_count": 232,
   "id": "bdca2cd0-8f2c-457a-b836-1712c0daa49d",
   "metadata": {},
   "outputs": [
    {
     "name": "stdout",
     "output_type": "stream",
     "text": [
      "<class 'pandas.core.frame.DataFrame'>\n",
      "RangeIndex: 221 entries, 0 to 220\n",
      "Data columns (total 28 columns):\n",
      " #   Column         Non-Null Count  Dtype  \n",
      "---  ------         --------------  -----  \n",
      " 0   product        221 non-null    object \n",
      " 1   links          221 non-null    object \n",
      " 2   price          221 non-null    object \n",
      " 3   weight         221 non-null    object \n",
      " 4   kcal           221 non-null    object \n",
      " 5   fat            221 non-null    float64\n",
      " 6   sat_fat        220 non-null    float64\n",
      " 7   carbs          220 non-null    float64\n",
      " 8   sugar          220 non-null    float64\n",
      " 9   fibre          219 non-null    float64\n",
      " 10  protein        221 non-null    float64\n",
      " 11  salt           221 non-null    float64\n",
      " 12  ingredients    221 non-null    object \n",
      " 13  photo_link     221 non-null    object \n",
      " 14  product_clean  221 non-null    object \n",
      " 15  brand          221 non-null    object \n",
      " 16  price_clean    221 non-null    float64\n",
      " 17  weight_clean   221 non-null    float64\n",
      " 18  weight_new     219 non-null    object \n",
      " 19  w1             219 non-null    object \n",
      " 20  w2             100 non-null    object \n",
      " 21  w3             5 non-null      object \n",
      " 22  w1_1           221 non-null    float64\n",
      " 23  w1_2           221 non-null    float64\n",
      " 24  w1_3           221 non-null    float64\n",
      " 25  fat_clean      221 non-null    float64\n",
      " 26  kj_clean       221 non-null    float64\n",
      " 27  kcal_clean     221 non-null    float64\n",
      "dtypes: float64(15), object(13)\n",
      "memory usage: 48.5+ KB\n"
     ]
    }
   ],
   "source": [
    "koro.info()"
   ]
  },
  {
   "cell_type": "code",
   "execution_count": 233,
   "id": "7d505df7-d34c-4c6d-9255-e8557ca7c59f",
   "metadata": {},
   "outputs": [],
   "source": [
    "drop_list = ['price', 'weight', 'kcal', 'fat_clean','ingredients', 'weight_new', 'w1', 'w2', 'w3', 'w1_1', 'w1_2', 'w1_3']\n",
    "koro = koro.drop(drop_list, axis=1)"
   ]
  },
  {
   "cell_type": "code",
   "execution_count": 234,
   "id": "6913f575-7313-42ad-a9d9-409624ab4bbc",
   "metadata": {},
   "outputs": [],
   "source": [
    "koro = koro.reindex(columns=['product_clean','brand','price_clean', 'weight_clean', 'kj_clean', 'kcal_clean', 'fat', 'sat_fat', 'carbs', 'sugar', 'fibre', 'protein', 'salt',\n",
    "                            'links', 'photo_link'])"
   ]
  },
  {
   "cell_type": "code",
   "execution_count": 235,
   "id": "cf2bef7c-991c-4aa2-b875-5167592e6d2c",
   "metadata": {},
   "outputs": [
    {
     "data": {
      "text/html": [
       "<div>\n",
       "<style scoped>\n",
       "    .dataframe tbody tr th:only-of-type {\n",
       "        vertical-align: middle;\n",
       "    }\n",
       "\n",
       "    .dataframe tbody tr th {\n",
       "        vertical-align: top;\n",
       "    }\n",
       "\n",
       "    .dataframe thead th {\n",
       "        text-align: right;\n",
       "    }\n",
       "</style>\n",
       "<table border=\"1\" class=\"dataframe\">\n",
       "  <thead>\n",
       "    <tr style=\"text-align: right;\">\n",
       "      <th></th>\n",
       "      <th>product_clean</th>\n",
       "      <th>brand</th>\n",
       "      <th>price_clean</th>\n",
       "      <th>weight_clean</th>\n",
       "      <th>kj_clean</th>\n",
       "      <th>kcal_clean</th>\n",
       "      <th>fat</th>\n",
       "      <th>sat_fat</th>\n",
       "      <th>carbs</th>\n",
       "      <th>sugar</th>\n",
       "      <th>fibre</th>\n",
       "      <th>protein</th>\n",
       "      <th>salt</th>\n",
       "      <th>links</th>\n",
       "      <th>photo_link</th>\n",
       "    </tr>\n",
       "  </thead>\n",
       "  <tbody>\n",
       "    <tr>\n",
       "      <th>0</th>\n",
       "      <td>Soja Protein Crispies 58 % mit Kakao</td>\n",
       "      <td>Koro</td>\n",
       "      <td>14.0</td>\n",
       "      <td>1.0</td>\n",
       "      <td>1535.0</td>\n",
       "      <td>362.0</td>\n",
       "      <td>19.0</td>\n",
       "      <td>4.0</td>\n",
       "      <td>282.0</td>\n",
       "      <td>91.0</td>\n",
       "      <td>18.0</td>\n",
       "      <td>58.0</td>\n",
       "      <td>27.0</td>\n",
       "      <td>https://www.korodrogerie.de/soja-protein-crisp...</td>\n",
       "      <td>https://koro2.imgix.net/media/image/f1/50/81/C...</td>\n",
       "    </tr>\n",
       "    <tr>\n",
       "      <th>1</th>\n",
       "      <td>Schokodrops mit Xylit</td>\n",
       "      <td>Koro</td>\n",
       "      <td>21.0</td>\n",
       "      <td>1.0</td>\n",
       "      <td>2290.0</td>\n",
       "      <td>555.0</td>\n",
       "      <td>46.0</td>\n",
       "      <td>28.0</td>\n",
       "      <td>31.0</td>\n",
       "      <td>10.0</td>\n",
       "      <td>10.0</td>\n",
       "      <td>92.0</td>\n",
       "      <td>7.0</td>\n",
       "      <td>https://www.korodrogerie.de/schokodrops-mit-xy...</td>\n",
       "      <td>https://koro2.imgix.net/media/image/2c/01/f8/S...</td>\n",
       "    </tr>\n",
       "    <tr>\n",
       "      <th>2</th>\n",
       "      <td>Schoko Protein Crunchies ohne Zuckerzusatz</td>\n",
       "      <td>Koro</td>\n",
       "      <td>20.0</td>\n",
       "      <td>1.0</td>\n",
       "      <td>1875.0</td>\n",
       "      <td>448.0</td>\n",
       "      <td>28.0</td>\n",
       "      <td>12.0</td>\n",
       "      <td>37.0</td>\n",
       "      <td>14.0</td>\n",
       "      <td>83.0</td>\n",
       "      <td>21.0</td>\n",
       "      <td>36.0</td>\n",
       "      <td>https://www.korodrogerie.de/schoko-protein-cru...</td>\n",
       "      <td>https://koro2.imgix.net/media/image/30/78/62/P...</td>\n",
       "    </tr>\n",
       "    <tr>\n",
       "      <th>3</th>\n",
       "      <td>Soja Protein Crispies 60 %</td>\n",
       "      <td>Koro</td>\n",
       "      <td>13.0</td>\n",
       "      <td>1.0</td>\n",
       "      <td>1541.0</td>\n",
       "      <td>363.0</td>\n",
       "      <td>18.0</td>\n",
       "      <td>2.0</td>\n",
       "      <td>26.0</td>\n",
       "      <td>8.0</td>\n",
       "      <td>8.0</td>\n",
       "      <td>60.0</td>\n",
       "      <td>32.0</td>\n",
       "      <td>https://www.korodrogerie.de/soja-protein-crisp...</td>\n",
       "      <td>https://koro2.imgix.net/media/image/84/55/ca/C...</td>\n",
       "    </tr>\n",
       "    <tr>\n",
       "      <th>4</th>\n",
       "      <td>Bohnen-Erbsen-Mix geröstet &amp; gesalzen</td>\n",
       "      <td>Koro</td>\n",
       "      <td>11.5</td>\n",
       "      <td>1.0</td>\n",
       "      <td>1766.0</td>\n",
       "      <td>421.0</td>\n",
       "      <td>14.0</td>\n",
       "      <td>23.0</td>\n",
       "      <td>35.0</td>\n",
       "      <td>67.0</td>\n",
       "      <td>10.0</td>\n",
       "      <td>33.0</td>\n",
       "      <td>10.0</td>\n",
       "      <td>https://www.korodrogerie.de/bohnen-erbsen-mix-...</td>\n",
       "      <td>https://koro2.imgix.net/media/image/a9/37/79/B...</td>\n",
       "    </tr>\n",
       "    <tr>\n",
       "      <th>...</th>\n",
       "      <td>...</td>\n",
       "      <td>...</td>\n",
       "      <td>...</td>\n",
       "      <td>...</td>\n",
       "      <td>...</td>\n",
       "      <td>...</td>\n",
       "      <td>...</td>\n",
       "      <td>...</td>\n",
       "      <td>...</td>\n",
       "      <td>...</td>\n",
       "      <td>...</td>\n",
       "      <td>...</td>\n",
       "      <td>...</td>\n",
       "      <td>...</td>\n",
       "      <td>...</td>\n",
       "    </tr>\n",
       "    <tr>\n",
       "      <th>216</th>\n",
       "      <td>Bio gepuffte Ananasstücke</td>\n",
       "      <td>Koro</td>\n",
       "      <td>18.5</td>\n",
       "      <td>0.5</td>\n",
       "      <td>1612.0</td>\n",
       "      <td>380.0</td>\n",
       "      <td>0.0</td>\n",
       "      <td>0.0</td>\n",
       "      <td>87.0</td>\n",
       "      <td>85.0</td>\n",
       "      <td>79.0</td>\n",
       "      <td>30.0</td>\n",
       "      <td>0.0</td>\n",
       "      <td>https://www.korodrogerie.de/bio-gepuffte-anana...</td>\n",
       "      <td>https://koro2.imgix.net/media/image/b8/cc/8c/B...</td>\n",
       "    </tr>\n",
       "    <tr>\n",
       "      <th>217</th>\n",
       "      <td>Bio gepuffte schwarze Johannisbeeren</td>\n",
       "      <td>Koro</td>\n",
       "      <td>24.0</td>\n",
       "      <td>0.5</td>\n",
       "      <td>1336.0</td>\n",
       "      <td>319.0</td>\n",
       "      <td>23.0</td>\n",
       "      <td>4.0</td>\n",
       "      <td>54.0</td>\n",
       "      <td>44.0</td>\n",
       "      <td>31.0</td>\n",
       "      <td>50.0</td>\n",
       "      <td>2.0</td>\n",
       "      <td>https://www.korodrogerie.de/bio-gepuffte-schwa...</td>\n",
       "      <td>https://koro2.imgix.net/media/image/47/fa/41/B...</td>\n",
       "    </tr>\n",
       "    <tr>\n",
       "      <th>218</th>\n",
       "      <td>Bio gepuffte Kirsche</td>\n",
       "      <td>Koro</td>\n",
       "      <td>20.0</td>\n",
       "      <td>0.5</td>\n",
       "      <td>1472.0</td>\n",
       "      <td>348.0</td>\n",
       "      <td>5.0</td>\n",
       "      <td>2.0</td>\n",
       "      <td>75.0</td>\n",
       "      <td>41.0</td>\n",
       "      <td>95.0</td>\n",
       "      <td>60.0</td>\n",
       "      <td>2.0</td>\n",
       "      <td>https://www.korodrogerie.de/bio-gepuffte-kirsc...</td>\n",
       "      <td>https://koro2.imgix.net/media/image/38/f1/16/P...</td>\n",
       "    </tr>\n",
       "    <tr>\n",
       "      <th>219</th>\n",
       "      <td>Bio Cracker Pizza</td>\n",
       "      <td>Koro</td>\n",
       "      <td>5.0</td>\n",
       "      <td>0.5</td>\n",
       "      <td>1830.0</td>\n",
       "      <td>435.0</td>\n",
       "      <td>13.0</td>\n",
       "      <td>11.0</td>\n",
       "      <td>67.0</td>\n",
       "      <td>23.0</td>\n",
       "      <td>29.0</td>\n",
       "      <td>10.0</td>\n",
       "      <td>29.0</td>\n",
       "      <td>https://www.korodrogerie.de/bio-cracker-pizza-...</td>\n",
       "      <td>https://koro2.imgix.net/media/image/7e/83/e0/C...</td>\n",
       "    </tr>\n",
       "    <tr>\n",
       "      <th>220</th>\n",
       "      <td>Bio Cracker Pizza</td>\n",
       "      <td>Koro</td>\n",
       "      <td>27.5</td>\n",
       "      <td>1.5</td>\n",
       "      <td>1830.0</td>\n",
       "      <td>435.0</td>\n",
       "      <td>13.0</td>\n",
       "      <td>11.0</td>\n",
       "      <td>67.0</td>\n",
       "      <td>23.0</td>\n",
       "      <td>29.0</td>\n",
       "      <td>10.0</td>\n",
       "      <td>29.0</td>\n",
       "      <td>https://www.korodrogerie.de/bio-cracker-pizza-...</td>\n",
       "      <td>https://koro2.imgix.net/media/image/7e/83/e0/C...</td>\n",
       "    </tr>\n",
       "  </tbody>\n",
       "</table>\n",
       "<p>221 rows × 15 columns</p>\n",
       "</div>"
      ],
      "text/plain": [
       "                                   product_clean brand  price_clean  \\\n",
       "0          Soja Protein Crispies 58 % mit Kakao   Koro         14.0   \n",
       "1                         Schokodrops mit Xylit   Koro         21.0   \n",
       "2    Schoko Protein Crunchies ohne Zuckerzusatz   Koro         20.0   \n",
       "3                    Soja Protein Crispies 60 %   Koro         13.0   \n",
       "4         Bohnen-Erbsen-Mix geröstet & gesalzen   Koro         11.5   \n",
       "..                                           ...   ...          ...   \n",
       "216                   Bio gepuffte Ananasstücke   Koro         18.5   \n",
       "217        Bio gepuffte schwarze Johannisbeeren   Koro         24.0   \n",
       "218                        Bio gepuffte Kirsche   Koro         20.0   \n",
       "219                           Bio Cracker Pizza   Koro          5.0   \n",
       "220                          Bio Cracker Pizza    Koro         27.5   \n",
       "\n",
       "     weight_clean  kj_clean  kcal_clean   fat  sat_fat  carbs  sugar  fibre  \\\n",
       "0             1.0    1535.0       362.0  19.0      4.0  282.0   91.0   18.0   \n",
       "1             1.0    2290.0       555.0  46.0     28.0   31.0   10.0   10.0   \n",
       "2             1.0    1875.0       448.0  28.0     12.0   37.0   14.0   83.0   \n",
       "3             1.0    1541.0       363.0  18.0      2.0   26.0    8.0    8.0   \n",
       "4             1.0    1766.0       421.0  14.0     23.0   35.0   67.0   10.0   \n",
       "..            ...       ...         ...   ...      ...    ...    ...    ...   \n",
       "216           0.5    1612.0       380.0   0.0      0.0   87.0   85.0   79.0   \n",
       "217           0.5    1336.0       319.0  23.0      4.0   54.0   44.0   31.0   \n",
       "218           0.5    1472.0       348.0   5.0      2.0   75.0   41.0   95.0   \n",
       "219           0.5    1830.0       435.0  13.0     11.0   67.0   23.0   29.0   \n",
       "220           1.5    1830.0       435.0  13.0     11.0   67.0   23.0   29.0   \n",
       "\n",
       "     protein  salt                                              links  \\\n",
       "0       58.0  27.0  https://www.korodrogerie.de/soja-protein-crisp...   \n",
       "1       92.0   7.0  https://www.korodrogerie.de/schokodrops-mit-xy...   \n",
       "2       21.0  36.0  https://www.korodrogerie.de/schoko-protein-cru...   \n",
       "3       60.0  32.0  https://www.korodrogerie.de/soja-protein-crisp...   \n",
       "4       33.0  10.0  https://www.korodrogerie.de/bohnen-erbsen-mix-...   \n",
       "..       ...   ...                                                ...   \n",
       "216     30.0   0.0  https://www.korodrogerie.de/bio-gepuffte-anana...   \n",
       "217     50.0   2.0  https://www.korodrogerie.de/bio-gepuffte-schwa...   \n",
       "218     60.0   2.0  https://www.korodrogerie.de/bio-gepuffte-kirsc...   \n",
       "219     10.0  29.0  https://www.korodrogerie.de/bio-cracker-pizza-...   \n",
       "220     10.0  29.0  https://www.korodrogerie.de/bio-cracker-pizza-...   \n",
       "\n",
       "                                            photo_link  \n",
       "0    https://koro2.imgix.net/media/image/f1/50/81/C...  \n",
       "1    https://koro2.imgix.net/media/image/2c/01/f8/S...  \n",
       "2    https://koro2.imgix.net/media/image/30/78/62/P...  \n",
       "3    https://koro2.imgix.net/media/image/84/55/ca/C...  \n",
       "4    https://koro2.imgix.net/media/image/a9/37/79/B...  \n",
       "..                                                 ...  \n",
       "216  https://koro2.imgix.net/media/image/b8/cc/8c/B...  \n",
       "217  https://koro2.imgix.net/media/image/47/fa/41/B...  \n",
       "218  https://koro2.imgix.net/media/image/38/f1/16/P...  \n",
       "219  https://koro2.imgix.net/media/image/7e/83/e0/C...  \n",
       "220  https://koro2.imgix.net/media/image/7e/83/e0/C...  \n",
       "\n",
       "[221 rows x 15 columns]"
      ]
     },
     "execution_count": 235,
     "metadata": {},
     "output_type": "execute_result"
    }
   ],
   "source": [
    "koro"
   ]
  },
  {
   "cell_type": "code",
   "execution_count": 237,
   "id": "a30ea573-342a-4e6b-bf57-fc39c7e4bf17",
   "metadata": {},
   "outputs": [
    {
     "name": "stdout",
     "output_type": "stream",
     "text": [
      "<class 'pandas.core.frame.DataFrame'>\n",
      "RangeIndex: 221 entries, 0 to 220\n",
      "Data columns (total 15 columns):\n",
      " #   Column        Non-Null Count  Dtype  \n",
      "---  ------        --------------  -----  \n",
      " 0   product       221 non-null    object \n",
      " 1   brand         221 non-null    object \n",
      " 2   price         221 non-null    float64\n",
      " 3   weight        221 non-null    float64\n",
      " 4   kj            221 non-null    float64\n",
      " 5   kcal          221 non-null    float64\n",
      " 6   fat           221 non-null    float64\n",
      " 7   sat_fat       220 non-null    float64\n",
      " 8   carbs         220 non-null    float64\n",
      " 9   sugar         220 non-null    float64\n",
      " 10  fibre         219 non-null    float64\n",
      " 11  protein       221 non-null    float64\n",
      " 12  salt          221 non-null    float64\n",
      " 13  product_link  221 non-null    object \n",
      " 14  photo_link    221 non-null    object \n",
      "dtypes: float64(11), object(4)\n",
      "memory usage: 26.0+ KB\n"
     ]
    }
   ],
   "source": [
    "column_names = ['product', 'brand', 'price', 'weight', 'kj', 'kcal', 'fat', 'sat_fat', 'carbs', 'sugar', 'fibre', 'protein', 'salt', 'product_link', 'photo_link']\n",
    "\n",
    "koro.columns = column_names\n",
    "koro.info()"
   ]
  },
  {
   "cell_type": "markdown",
   "id": "f5bb528d-0681-49e8-b9b1-179edaa3a558",
   "metadata": {},
   "source": [
    "## Kokku"
   ]
  },
  {
   "cell_type": "code",
   "execution_count": 250,
   "id": "9bb8f994-0ab8-4640-bb1c-7a2863b35095",
   "metadata": {},
   "outputs": [],
   "source": [
    "kokku = pd.read_csv('df_kokku.csv')"
   ]
  },
  {
   "cell_type": "code",
   "execution_count": 251,
   "id": "a59e72d3-6143-48eb-b643-87c609786c39",
   "metadata": {},
   "outputs": [
    {
     "data": {
      "text/plain": [
       "(549, 9)"
      ]
     },
     "execution_count": 251,
     "metadata": {},
     "output_type": "execute_result"
    }
   ],
   "source": [
    "kokku.shape"
   ]
  },
  {
   "cell_type": "code",
   "execution_count": 252,
   "id": "c7515b3d-ee9b-4a07-8b4f-5edd3f0d3472",
   "metadata": {},
   "outputs": [
    {
     "data": {
      "text/html": [
       "<div>\n",
       "<style scoped>\n",
       "    .dataframe tbody tr th:only-of-type {\n",
       "        vertical-align: middle;\n",
       "    }\n",
       "\n",
       "    .dataframe tbody tr th {\n",
       "        vertical-align: top;\n",
       "    }\n",
       "\n",
       "    .dataframe thead th {\n",
       "        text-align: right;\n",
       "    }\n",
       "</style>\n",
       "<table border=\"1\" class=\"dataframe\">\n",
       "  <thead>\n",
       "    <tr style=\"text-align: right;\">\n",
       "      <th></th>\n",
       "      <th>Unnamed: 0</th>\n",
       "      <th>product</th>\n",
       "      <th>brand</th>\n",
       "      <th>weight</th>\n",
       "      <th>links</th>\n",
       "      <th>price</th>\n",
       "      <th>price_gr</th>\n",
       "      <th>nutritions</th>\n",
       "      <th>photo_link</th>\n",
       "    </tr>\n",
       "  </thead>\n",
       "  <tbody>\n",
       "    <tr>\n",
       "      <th>0</th>\n",
       "      <td>0</td>\n",
       "      <td>Eisbonbon - 75g</td>\n",
       "      <td>Bio4You</td>\n",
       "      <td>- 75g</td>\n",
       "      <td>https://kokku-online.de/bio4you-eisbonbon/</td>\n",
       "      <td>1.49 €</td>\n",
       "      <td>1.99€/100g</td>\n",
       "      <td>Brennwert1.632 kJ / 384 kcalFett&lt; 0,1g- davon ...</td>\n",
       "      <td>https://kokku-online.de//bilder/350x350/19266/...</td>\n",
       "    </tr>\n",
       "    <tr>\n",
       "      <th>1</th>\n",
       "      <td>1</td>\n",
       "      <td>Stollenkonfekt - 100g</td>\n",
       "      <td>Bäckerei Sachse</td>\n",
       "      <td>- 100g</td>\n",
       "      <td>https://kokku-online.de/sachse-stollen-stollen...</td>\n",
       "      <td>2.99 €</td>\n",
       "      <td>2.99€/100g</td>\n",
       "      <td>Brennwert1912 kJ / 457 kcalFett26,7g- davon ge...</td>\n",
       "      <td>https://kokku-online.de//bilder/350x350/12280/...</td>\n",
       "    </tr>\n",
       "    <tr>\n",
       "      <th>2</th>\n",
       "      <td>2</td>\n",
       "      <td>Veganer °Schokodrops° Dinkelstollen mit Puderz...</td>\n",
       "      <td>Bäckerei Sachse</td>\n",
       "      <td>- 1kg</td>\n",
       "      <td>https://kokku-online.de/sachse-stollen-veganer...</td>\n",
       "      <td>19.99 €</td>\n",
       "      <td>19.99€/kg</td>\n",
       "      <td>Brennwert1763 kJ / 421 kcalFett20,3g- davon ge...</td>\n",
       "      <td>https://kokku-online.de//bilder/350x350/7806/s...</td>\n",
       "    </tr>\n",
       "    <tr>\n",
       "      <th>3</th>\n",
       "      <td>3</td>\n",
       "      <td>3 Stollenscheiben °Schokodrops° (ohne Rosinen)...</td>\n",
       "      <td>Bäckerei Sachse</td>\n",
       "      <td>- 250g</td>\n",
       "      <td>https://kokku-online.de/sachse-stollen-3-stoll...</td>\n",
       "      <td>4.99 €</td>\n",
       "      <td>2.00€/100g</td>\n",
       "      <td>Brennwert1763 kJ / 421 kcalFett20,3g- davon ge...</td>\n",
       "      <td>https://kokku-online.de//bilder/350x350/6140/s...</td>\n",
       "    </tr>\n",
       "    <tr>\n",
       "      <th>4</th>\n",
       "      <td>4</td>\n",
       "      <td>Veganer °Rosinen° Dinkelstollen - 1kg</td>\n",
       "      <td>Bäckerei Sachse</td>\n",
       "      <td>- 1kg</td>\n",
       "      <td>https://kokku-online.de/sachse-stollen-dinkels...</td>\n",
       "      <td>19.99 €</td>\n",
       "      <td>19.99€/kg</td>\n",
       "      <td>Brennwert1572 kJ / 375 kcalFett14,915,1g- davo...</td>\n",
       "      <td>https://kokku-online.de//bilder/350x350/6167/s...</td>\n",
       "    </tr>\n",
       "  </tbody>\n",
       "</table>\n",
       "</div>"
      ],
      "text/plain": [
       "   Unnamed: 0                                            product  \\\n",
       "0           0                                    Eisbonbon - 75g   \n",
       "1           1                              Stollenkonfekt - 100g   \n",
       "2           2  Veganer °Schokodrops° Dinkelstollen mit Puderz...   \n",
       "3           3  3 Stollenscheiben °Schokodrops° (ohne Rosinen)...   \n",
       "4           4              Veganer °Rosinen° Dinkelstollen - 1kg   \n",
       "\n",
       "             brand  weight                                              links  \\\n",
       "0          Bio4You   - 75g         https://kokku-online.de/bio4you-eisbonbon/   \n",
       "1  Bäckerei Sachse  - 100g  https://kokku-online.de/sachse-stollen-stollen...   \n",
       "2  Bäckerei Sachse   - 1kg  https://kokku-online.de/sachse-stollen-veganer...   \n",
       "3  Bäckerei Sachse  - 250g  https://kokku-online.de/sachse-stollen-3-stoll...   \n",
       "4  Bäckerei Sachse   - 1kg  https://kokku-online.de/sachse-stollen-dinkels...   \n",
       "\n",
       "     price    price_gr                                         nutritions  \\\n",
       "0   1.49 €  1.99€/100g  Brennwert1.632 kJ / 384 kcalFett< 0,1g- davon ...   \n",
       "1   2.99 €  2.99€/100g  Brennwert1912 kJ / 457 kcalFett26,7g- davon ge...   \n",
       "2  19.99 €   19.99€/kg  Brennwert1763 kJ / 421 kcalFett20,3g- davon ge...   \n",
       "3   4.99 €  2.00€/100g  Brennwert1763 kJ / 421 kcalFett20,3g- davon ge...   \n",
       "4  19.99 €   19.99€/kg  Brennwert1572 kJ / 375 kcalFett14,915,1g- davo...   \n",
       "\n",
       "                                          photo_link  \n",
       "0  https://kokku-online.de//bilder/350x350/19266/...  \n",
       "1  https://kokku-online.de//bilder/350x350/12280/...  \n",
       "2  https://kokku-online.de//bilder/350x350/7806/s...  \n",
       "3  https://kokku-online.de//bilder/350x350/6140/s...  \n",
       "4  https://kokku-online.de//bilder/350x350/6167/s...  "
      ]
     },
     "execution_count": 252,
     "metadata": {},
     "output_type": "execute_result"
    }
   ],
   "source": [
    "kokku.head()"
   ]
  },
  {
   "cell_type": "markdown",
   "id": "a6c63908-afc7-444d-aa7c-85f8a5323760",
   "metadata": {},
   "source": [
    "### Cleaning overview\n",
    "\n",
    "- [x] removing duplicate index column\n",
    "- [x] clean price column\n",
    "- [x] removing weight from product name\n",
    "- [x] removing extra charcters from weight + changing column type\n",
    "- [x] removing extra characters from price + changing column type\n",
    "- [x] splitting nutrition column: kcal, fat, sat_fat, carbs, sugar, fibre, protein, salt\n",
    "- [x] add fibre column (all None)\n",
    "\n",
    "Maybe:\n",
    "\n",
    "- [ ] cleaning price_gr column?\n"
   ]
  },
  {
   "cell_type": "markdown",
   "id": "84b9c758-275c-4450-87cb-a98bca2e3194",
   "metadata": {},
   "source": [
    "#### Dropping duplicate index column"
   ]
  },
  {
   "cell_type": "code",
   "execution_count": 253,
   "id": "fd3a05b0-009c-4488-9ec4-958dfa3ae1c0",
   "metadata": {},
   "outputs": [
    {
     "data": {
      "text/plain": [
       "Index(['product', 'brand', 'weight', 'links', 'price', 'price_gr',\n",
       "       'nutritions', 'photo_link'],\n",
       "      dtype='object')"
      ]
     },
     "execution_count": 253,
     "metadata": {},
     "output_type": "execute_result"
    }
   ],
   "source": [
    "kokku= kokku.drop('Unnamed: 0', axis=1)\n",
    "kokku.columns"
   ]
  },
  {
   "cell_type": "markdown",
   "id": "545f1c85-ffee-4278-bed6-6004d97e52e6",
   "metadata": {},
   "source": [
    "#### Price"
   ]
  },
  {
   "cell_type": "code",
   "execution_count": 254,
   "id": "9de94349-8620-4ece-899e-8865f149d2c5",
   "metadata": {},
   "outputs": [],
   "source": [
    "def clean_price(col):\n",
    "    \n",
    "    cleaned = []\n",
    "    \n",
    "    for p in col:\n",
    "        price = str(p).replace('bisher ', '').replace('€', '')\n",
    "        cleaned.append(float(price))   \n",
    "        \n",
    "    return cleaned"
   ]
  },
  {
   "cell_type": "code",
   "execution_count": 255,
   "id": "9e0adc5a-ad1e-4028-a1fe-c0c129816600",
   "metadata": {},
   "outputs": [
    {
     "data": {
      "text/plain": [
       "0       1.49\n",
       "1       2.99\n",
       "2      19.99\n",
       "3       4.99\n",
       "4      19.99\n",
       "       ...  \n",
       "544     1.29\n",
       "545     1.29\n",
       "546     1.99\n",
       "547     2.99\n",
       "548     1.99\n",
       "Name: price_clean, Length: 549, dtype: float64"
      ]
     },
     "execution_count": 255,
     "metadata": {},
     "output_type": "execute_result"
    }
   ],
   "source": [
    "kokku['price_clean'] = clean_price(kokku['price'])\n",
    "kokku['price_clean']"
   ]
  },
  {
   "cell_type": "markdown",
   "id": "da1f4903-49a9-4127-bcc9-7551346fa095",
   "metadata": {},
   "source": [
    "#### Product name"
   ]
  },
  {
   "cell_type": "code",
   "execution_count": 256,
   "id": "82528bd2-6193-4119-bfd3-d4739dbfd4c3",
   "metadata": {},
   "outputs": [
    {
     "data": {
      "text/plain": [
       "Kakao Nibs Natur - 100g                        2\n",
       "Kakaobohnen Peru geröstet - 100g               2\n",
       "Schokotäfelchen 3er-Set - 120g                 2\n",
       "Zartbitter Mandel Schokolade - 100g            1\n",
       "Tafel Extreme Dark 99% Kakao - 70g             1\n",
       "                                              ..\n",
       "Almond Cookie Dough Riegel - 40g               1\n",
       "Crunchy Apples Zimt - 40g                      1\n",
       "Frucht & Nuss Riegel - Dattel Kakao - 40g      1\n",
       "Weihnachtsmann aus veganer Schokolade - 32g    1\n",
       "Mini Moos °Bunny Cumb° Riegel - 23g            1\n",
       "Name: product, Length: 546, dtype: int64"
      ]
     },
     "execution_count": 256,
     "metadata": {},
     "output_type": "execute_result"
    }
   ],
   "source": [
    "kokku['product'].value_counts()"
   ]
  },
  {
   "cell_type": "code",
   "execution_count": 257,
   "id": "5b302921-f677-417d-9fa9-7f3a4230d43d",
   "metadata": {},
   "outputs": [],
   "source": [
    "def clean_name_kokku(x):\n",
    "    return re.sub(r'[-]\\s\\d{2,3}\\w+|[-]\\s\\d{1}\\w+', '', x)"
   ]
  },
  {
   "cell_type": "code",
   "execution_count": 258,
   "id": "55c1fe6d-ac1a-43d6-826d-114f38863796",
   "metadata": {},
   "outputs": [
    {
     "data": {
      "text/plain": [
       "494                                 Lutscher °Erdbeere° \n",
       "489                          Fruchtpapier Mango & Apfel \n",
       "12     °Snowball° Schneeball Weiße Schokolade mit Mar...\n",
       "407                      BIG °zuckerfreie° Schoko Drops \n",
       "279                 BioBis °Choc° Doppelkeks Schokolade \n",
       "50                       Fruchtpapier Brombeere & Apfel \n",
       "308                    Adventskalender Weiße Schokolade \n",
       "60                    Feine Bitter Mallorca Flor de Sal \n",
       "20                    Schokoladen-Zitronen-Ingwer-Kekse \n",
       "3        3 Stollenscheiben °Schokodrops° (ohne Rosinen) \n",
       "Name: product_clean, dtype: object"
      ]
     },
     "execution_count": 258,
     "metadata": {},
     "output_type": "execute_result"
    }
   ],
   "source": [
    "kokku[\"product_clean\"] = kokku[\"product\"].apply(clean_name_kokku)\n",
    "kokku[\"product_clean\"].sample(10)"
   ]
  },
  {
   "cell_type": "markdown",
   "id": "4b8f4e7e-1ba1-4d99-b24a-ad9ff8c2da54",
   "metadata": {},
   "source": [
    "#### Weight"
   ]
  },
  {
   "cell_type": "code",
   "execution_count": 259,
   "id": "0f1e6d44-dc97-4584-96e2-f6d46091d4ab",
   "metadata": {
    "tags": []
   },
   "outputs": [],
   "source": [
    "kokku['weight'] = kokku['weight'].str.replace('- ', '')"
   ]
  },
  {
   "cell_type": "code",
   "execution_count": 260,
   "id": "75508398-a0dd-4a71-8977-89d4fbabdeb6",
   "metadata": {},
   "outputs": [],
   "source": [
    "#removing kg\n",
    "\n",
    "def clean_weight(col):\n",
    "    \n",
    "    clean_weight = []\n",
    "    \n",
    "    for w in col:\n",
    "        if w.endswith('kg'):\n",
    "            w = w.replace('kg', '')\n",
    "            w = float(w)\n",
    "            clean_weight.append(w)\n",
    "            \n",
    "        elif w.endswith('g'):\n",
    "            w = w.replace('g', '')\n",
    "            w = float(w)\n",
    "            w = w/1000\n",
    "            clean_weight.append(w)\n",
    "        \n",
    "        elif w.endswith('ml'):\n",
    "            w = w.replace('ml', '')\n",
    "            w = float(w)\n",
    "            w = w/1000\n",
    "            clean_weight.append(w)\n",
    "        \n",
    "        else:\n",
    "            clean_weight.append(None)\n",
    "    \n",
    "    return clean_weight\n",
    "            "
   ]
  },
  {
   "cell_type": "code",
   "execution_count": 261,
   "id": "28c3975f-3b67-432b-96a6-3364b1001c1d",
   "metadata": {},
   "outputs": [
    {
     "data": {
      "text/plain": [
       "0      0.075\n",
       "1      0.100\n",
       "2      1.000\n",
       "3      0.250\n",
       "4      1.000\n",
       "       ...  \n",
       "544    0.017\n",
       "545    0.017\n",
       "546    0.065\n",
       "547    0.070\n",
       "548    0.045\n",
       "Name: weight_clean, Length: 549, dtype: float64"
      ]
     },
     "execution_count": 261,
     "metadata": {},
     "output_type": "execute_result"
    }
   ],
   "source": [
    "kokku['weight_clean'] = clean_weight(kokku['weight'])\n",
    "kokku['weight_clean']"
   ]
  },
  {
   "cell_type": "markdown",
   "id": "4086256e-a485-4454-901e-63efe9ce2194",
   "metadata": {},
   "source": [
    "#### Price"
   ]
  },
  {
   "cell_type": "code",
   "execution_count": 262,
   "id": "134cbb26-d859-4762-b743-5eb68185cca8",
   "metadata": {},
   "outputs": [
    {
     "data": {
      "text/plain": [
       "2.49 €           78\n",
       "1.99 €           43\n",
       "2.99 €           39\n",
       "0.99 €           32\n",
       "2.59 €           23\n",
       "                 ..\n",
       "bisher 4.39 €     1\n",
       "4.39 €            1\n",
       "1.09 €            1\n",
       "4.59 €            1\n",
       "13.29 €           1\n",
       "Name: price, Length: 77, dtype: int64"
      ]
     },
     "execution_count": 262,
     "metadata": {},
     "output_type": "execute_result"
    }
   ],
   "source": [
    "kokku['price'].value_counts()"
   ]
  },
  {
   "cell_type": "code",
   "execution_count": 263,
   "id": "4578a424-6522-4316-b9a0-fda351b96b34",
   "metadata": {},
   "outputs": [
    {
     "data": {
      "text/plain": [
       "0       1.49\n",
       "1       2.99\n",
       "2      19.99\n",
       "3       4.99\n",
       "4      19.99\n",
       "       ...  \n",
       "544     1.29\n",
       "545     1.29\n",
       "546     1.99\n",
       "547     2.99\n",
       "548     1.99\n",
       "Name: clean_price, Length: 549, dtype: float64"
      ]
     },
     "execution_count": 263,
     "metadata": {},
     "output_type": "execute_result"
    }
   ],
   "source": [
    "kokku['clean_price'] = kokku['price'].str.replace(' €', '').str.replace('bisher ', '').astype('float')\n",
    "kokku['clean_price']"
   ]
  },
  {
   "cell_type": "markdown",
   "id": "06bb3de8-1569-47e1-826f-f9c0c19612e2",
   "metadata": {},
   "source": [
    "#### Nutrients"
   ]
  },
  {
   "cell_type": "code",
   "execution_count": 264,
   "id": "4f811477-5aa4-41f2-aa9a-36075668f7b0",
   "metadata": {},
   "outputs": [
    {
     "data": {
      "text/plain": [
       "array(['Brennwert1362 kJ / 321 kcalFett0,15g- davon gesättigte Fettsäuren0,15gKohlenhydrate78g- davon Zucker40gEiweiß0gSalz0,89g',\n",
       "       'Brennwert1350 kJ / 320 kcalFett1g- davon gesättigte Fettsäuren<1gKohlenhydrate75g- davon Zucker42gEiweiß5gSalz0,8g',\n",
       "       'Brennwert1927 kJ / 460 kcalFett21.4g- davon gesättigte Fettsäuren1.8gKohlenhydrate55.2g- davon Zucker52gEiweiß9.6gSalz0.1g',\n",
       "       'Brennwert1866 kJ / 446 kcalFett25.7g- davon gesättigte Fettsäuren16gKohlenhydrate45.8g- davon Zucker13.6gEiweiß7.5gSalz<0.1g',\n",
       "       'Brennwert1180 kJ / 280 kcalFett7,6g- davon gesättigte Fettsäuren5,3gKohlenhydrate31g- davon Zucker30gEiweiß20gSalz2,00g',\n",
       "       'Brennwert2691 kJ / 650 kcalFett56g- davon gesättigte Fettsäuren29gKohlenhydrate26g- davon Zucker17gEiweiß7.7gSalz0.0g',\n",
       "       'Brennwert1372 kJ / 323 kcalFett0,1g- davon gesättigte Fettsäuren0,1gKohlenhydrate78g- davon Zucker54gEiweiß0gSalz0,2g',\n",
       "       'Brennwert2564 kJ / 621 kcalFett53.3g- davon gesättigte Fettsäuren33.6gKohlenhydrate20.4g- davon Zucker14gEiweiß8.2gSalz< 0,02g',\n",
       "       'Brennwert1206 kJ / 288 kcalFett0g- davon gesättigte Fettsäuren0gKohlenhydrate55g- davon Zucker41gEiweiß0,9gSalz0,20g',\n",
       "       'Brennwert1475 kJ / 350 kcalFett5,0g- davon gesättigte Fettsäuren1,0gKohlenhydrate61,5g- davon Zucker15,8gEiweiß10,4gSalz0,01g'],\n",
       "      dtype=object)"
      ]
     },
     "execution_count": 264,
     "metadata": {},
     "output_type": "execute_result"
    }
   ],
   "source": [
    "kokku['nutritions'].sample(10).unique()"
   ]
  },
  {
   "cell_type": "markdown",
   "id": "c95457b4-70ab-4ac9-ba46-3df055df02f3",
   "metadata": {},
   "source": [
    "##### kJ"
   ]
  },
  {
   "cell_type": "code",
   "execution_count": 265,
   "id": "d3d78e3a-d6ad-47a1-98b6-331107ff9e34",
   "metadata": {},
   "outputs": [],
   "source": [
    "def kjs_finder(x):\n",
    "    return re.findall('^Brennwert\\d[.]\\d+|^Brennwert\\d+[,]\\d+|^Brennwert\\d+', x)[0]"
   ]
  },
  {
   "cell_type": "code",
   "execution_count": 266,
   "id": "9d76982e-3949-431d-a51c-3a4d4ceb97e8",
   "metadata": {},
   "outputs": [
    {
     "data": {
      "text/plain": [
       "0      Brennwert1.632\n",
       "1       Brennwert1912\n",
       "2       Brennwert1763\n",
       "3       Brennwert1763\n",
       "4       Brennwert1572\n",
       "            ...      \n",
       "544      Brennwert724\n",
       "545      Brennwert724\n",
       "546     Brennwert2456\n",
       "547     Brennwert1123\n",
       "548     Brennwert1953\n",
       "Name: kj, Length: 549, dtype: object"
      ]
     },
     "execution_count": 266,
     "metadata": {},
     "output_type": "execute_result"
    }
   ],
   "source": [
    "kokku['kj'] = kokku['nutritions'].apply(kjs_finder)\n",
    "kokku['kj']"
   ]
  },
  {
   "cell_type": "code",
   "execution_count": 267,
   "id": "b6c542d1-9aa6-4090-b705-60c8e9085972",
   "metadata": {},
   "outputs": [],
   "source": [
    "def clean_kj(col):\n",
    "    \n",
    "    clean_kj = []\n",
    "    \n",
    "    for p in col:\n",
    "        p = p.replace('Brennwert', '').replace('.', '').replace(',', '.')\n",
    "        p = float(p)\n",
    "        clean_kj.append(p)\n",
    "        \n",
    "    return clean_kj"
   ]
  },
  {
   "cell_type": "code",
   "execution_count": 268,
   "id": "cf5df409-50ec-480c-be18-f6389d854163",
   "metadata": {},
   "outputs": [
    {
     "data": {
      "text/plain": [
       "0      1632.0\n",
       "1      1912.0\n",
       "2      1763.0\n",
       "3      1763.0\n",
       "4      1572.0\n",
       "        ...  \n",
       "544     724.0\n",
       "545     724.0\n",
       "546    2456.0\n",
       "547    1123.0\n",
       "548    1953.0\n",
       "Name: kj_clean, Length: 549, dtype: float64"
      ]
     },
     "execution_count": 268,
     "metadata": {},
     "output_type": "execute_result"
    }
   ],
   "source": [
    "kokku['kj_clean'] = clean_kj(kokku['kj'])\n",
    "kokku['kj_clean']"
   ]
  },
  {
   "cell_type": "markdown",
   "id": "476ea92f-4b82-4852-84b1-bf3ab2024712",
   "metadata": {},
   "source": [
    "##### kcal"
   ]
  },
  {
   "cell_type": "code",
   "execution_count": 269,
   "id": "e707410c-d1de-402e-be81-d62e5cf40e13",
   "metadata": {},
   "outputs": [],
   "source": [
    "def kcal_finder(x):\n",
    "    return re.findall('\\s\\d+[,]\\d+\\s|\\s\\d+\\s', x)[0]"
   ]
  },
  {
   "cell_type": "code",
   "execution_count": 270,
   "id": "a33ed512-7b32-4c2c-b198-fb932e126ff8",
   "metadata": {},
   "outputs": [
    {
     "data": {
      "text/plain": [
       "0       384 \n",
       "1       457 \n",
       "2       421 \n",
       "3       421 \n",
       "4       375 \n",
       "       ...  \n",
       "544     173 \n",
       "545     173 \n",
       "546     591 \n",
       "547     267 \n",
       "548     467 \n",
       "Name: kcal, Length: 549, dtype: object"
      ]
     },
     "execution_count": 270,
     "metadata": {},
     "output_type": "execute_result"
    }
   ],
   "source": [
    "kokku['kcal'] = kokku['nutritions'].apply(kcal_finder)\n",
    "kokku['kcal']"
   ]
  },
  {
   "cell_type": "code",
   "execution_count": 271,
   "id": "64b1ecf4-4be9-458f-b60f-959b24e21d95",
   "metadata": {},
   "outputs": [],
   "source": [
    "def clean_kcal(col):\n",
    "    \n",
    "    clean_kcal = []\n",
    "    \n",
    "    for p in col:\n",
    "        p = p.replace(',', '.')\n",
    "        p = float(p)\n",
    "        clean_kcal.append(p)\n",
    "        \n",
    "    return clean_kcal"
   ]
  },
  {
   "cell_type": "code",
   "execution_count": 272,
   "id": "f4e9ade6-245f-4af8-aff1-82d5b8b2cb82",
   "metadata": {},
   "outputs": [
    {
     "data": {
      "text/plain": [
       "0      384.0\n",
       "1      457.0\n",
       "2      421.0\n",
       "3      421.0\n",
       "4      375.0\n",
       "       ...  \n",
       "544    173.0\n",
       "545    173.0\n",
       "546    591.0\n",
       "547    267.0\n",
       "548    467.0\n",
       "Name: kcal_clean, Length: 549, dtype: float64"
      ]
     },
     "execution_count": 272,
     "metadata": {},
     "output_type": "execute_result"
    }
   ],
   "source": [
    "kokku['kcal_clean'] = clean_kcal(kokku['kcal'])\n",
    "kokku['kcal_clean']"
   ]
  },
  {
   "cell_type": "markdown",
   "id": "d6e1292b-e718-4892-9355-22dbd6b62b22",
   "metadata": {},
   "source": [
    "##### fat"
   ]
  },
  {
   "cell_type": "code",
   "execution_count": 273,
   "id": "3f395d6c-3e41-4318-81a4-610fcd254b99",
   "metadata": {},
   "outputs": [],
   "source": [
    "def fat_finder(x):\n",
    "    try:\n",
    "        f = re.findall('\\BFett\\d+[,]\\d+|\\BFett\\d+', x)[0]\n",
    "        return f\n",
    "    except:\n",
    "        return None"
   ]
  },
  {
   "cell_type": "code",
   "execution_count": 274,
   "id": "93f3a8c7-a8b3-4972-8ca1-7e30b62c1171",
   "metadata": {},
   "outputs": [
    {
     "data": {
      "text/plain": [
       "0            None\n",
       "1        Fett26,7\n",
       "2        Fett20,3\n",
       "3        Fett20,3\n",
       "4      Fett14,915\n",
       "          ...    \n",
       "544         Fett0\n",
       "545         Fett0\n",
       "546      Fett40,8\n",
       "547       Fett7,1\n",
       "548        Fett18\n",
       "Name: fat, Length: 549, dtype: object"
      ]
     },
     "execution_count": 274,
     "metadata": {},
     "output_type": "execute_result"
    }
   ],
   "source": [
    "kokku['fat'] = kokku['nutritions'].apply(fat_finder)\n",
    "kokku['fat']"
   ]
  },
  {
   "cell_type": "code",
   "execution_count": 275,
   "id": "b9239ef1-d27b-4fb0-8a07-019d017292e8",
   "metadata": {},
   "outputs": [],
   "source": [
    "def clean_fat(col):\n",
    "    \n",
    "    clean_fat = []\n",
    "    \n",
    "    for p in col:\n",
    "        try:\n",
    "            p = p.replace('Fett', '').replace(',', '.')\n",
    "            p = float(p)\n",
    "            clean_fat.append(p)\n",
    "        \n",
    "        except:\n",
    "            clean_fat.append(p)\n",
    "        \n",
    "    return clean_fat"
   ]
  },
  {
   "cell_type": "code",
   "execution_count": 276,
   "id": "75555d4d-e818-4a44-ae88-88a1015d74d8",
   "metadata": {},
   "outputs": [
    {
     "data": {
      "text/plain": [
       "0         NaN\n",
       "1      26.700\n",
       "2      20.300\n",
       "3      20.300\n",
       "4      14.915\n",
       "        ...  \n",
       "544     0.000\n",
       "545     0.000\n",
       "546    40.800\n",
       "547     7.100\n",
       "548    18.000\n",
       "Name: fat_clean, Length: 549, dtype: float64"
      ]
     },
     "execution_count": 276,
     "metadata": {},
     "output_type": "execute_result"
    }
   ],
   "source": [
    "kokku['fat_clean'] = clean_fat(kokku['fat'])\n",
    "kokku['fat_clean']"
   ]
  },
  {
   "cell_type": "markdown",
   "id": "6d5c0b20-5958-4307-a39d-3eaf17fa9898",
   "metadata": {},
   "source": [
    "##### saturated fat"
   ]
  },
  {
   "cell_type": "code",
   "execution_count": 277,
   "id": "caae56d2-73f2-4436-8130-7f2a30fdf51c",
   "metadata": {},
   "outputs": [],
   "source": [
    "def sat_fat_finder(x): \n",
    "    try:\n",
    "        f = re.findall('\\Bsäuren\\d+[,]\\d+|\\Bsäuren\\d+', x)[0]\n",
    "        return f\n",
    "    except:\n",
    "        return None"
   ]
  },
  {
   "cell_type": "code",
   "execution_count": 278,
   "id": "17ca9f54-9359-4ca9-a797-06319ddb8535",
   "metadata": {},
   "outputs": [
    {
     "data": {
      "text/plain": [
       "0            None\n",
       "1      säuren12,1\n",
       "2      säuren10,0\n",
       "3      säuren10,0\n",
       "4       säuren6,8\n",
       "          ...    \n",
       "544       säuren0\n",
       "545       säuren0\n",
       "546    säuren11,4\n",
       "547     säuren4,9\n",
       "548      säuren12\n",
       "Name: sat_fat, Length: 549, dtype: object"
      ]
     },
     "execution_count": 278,
     "metadata": {},
     "output_type": "execute_result"
    }
   ],
   "source": [
    "kokku['sat_fat'] = kokku['nutritions'].apply(sat_fat_finder)\n",
    "kokku['sat_fat']"
   ]
  },
  {
   "cell_type": "code",
   "execution_count": 279,
   "id": "45fcd055-5724-42fa-a3c3-268e2c9411cd",
   "metadata": {},
   "outputs": [],
   "source": [
    "def clean_sat_fat(col):\n",
    "    \n",
    "    clean_sat_fat = []\n",
    "    \n",
    "    for p in col:\n",
    "        try:\n",
    "            p = p.replace('säuren', '').replace(',', '.')\n",
    "            p = float(p)\n",
    "            clean_sat_fat.append(p)\n",
    "        \n",
    "        except:\n",
    "            clean_sat_fat.append(p)\n",
    "        \n",
    "    return clean_sat_fat"
   ]
  },
  {
   "cell_type": "code",
   "execution_count": 280,
   "id": "e48da8c4-2ef6-453f-84a7-3279c6d99986",
   "metadata": {},
   "outputs": [
    {
     "data": {
      "text/plain": [
       "0       NaN\n",
       "1      12.1\n",
       "2      10.0\n",
       "3      10.0\n",
       "4       6.8\n",
       "       ... \n",
       "544     0.0\n",
       "545     0.0\n",
       "546    11.4\n",
       "547     4.9\n",
       "548    12.0\n",
       "Name: sat_fat_clean, Length: 549, dtype: float64"
      ]
     },
     "execution_count": 280,
     "metadata": {},
     "output_type": "execute_result"
    }
   ],
   "source": [
    "kokku['sat_fat_clean'] = clean_sat_fat(kokku['sat_fat'])\n",
    "kokku['sat_fat_clean']"
   ]
  },
  {
   "cell_type": "markdown",
   "id": "9c8afdbd-0667-469c-a7da-4fb237ef3f72",
   "metadata": {},
   "source": [
    "##### carbs"
   ]
  },
  {
   "cell_type": "code",
   "execution_count": 281,
   "id": "6e6878e8-4745-45a0-bda8-8ba0a5e2777d",
   "metadata": {},
   "outputs": [],
   "source": [
    "def carb_finder(x): \n",
    "    try:\n",
    "        f = re.findall('\\Bhydrate\\d+[,]\\d+|\\Bhydrate\\d+', x)[0]\n",
    "        return f\n",
    "    except:\n",
    "        return None"
   ]
  },
  {
   "cell_type": "code",
   "execution_count": 282,
   "id": "b9522f6c-a058-44e5-bf68-13b6ef1c2f2b",
   "metadata": {
    "tags": []
   },
   "outputs": [
    {
     "data": {
      "text/plain": [
       "0        hydrate94\n",
       "1      hydrate48,7\n",
       "2      hydrate52,5\n",
       "3      hydrate52,5\n",
       "4      hydrate55,7\n",
       "          ...     \n",
       "544      hydrate71\n",
       "545      hydrate71\n",
       "546    hydrate44,6\n",
       "547      hydrate30\n",
       "548      hydrate76\n",
       "Name: carbs, Length: 549, dtype: object"
      ]
     },
     "execution_count": 282,
     "metadata": {},
     "output_type": "execute_result"
    }
   ],
   "source": [
    "kokku['carbs'] = kokku['nutritions'].apply(carb_finder)\n",
    "kokku['carbs']"
   ]
  },
  {
   "cell_type": "code",
   "execution_count": 283,
   "id": "5c09735e-eb8e-4d5d-bd37-6b50f438fb52",
   "metadata": {},
   "outputs": [],
   "source": [
    "def clean_carbs(col):\n",
    "    \n",
    "    clean_carbs = []\n",
    "    \n",
    "    for p in col:\n",
    "        try:\n",
    "            p = p.replace('hydrate', '').replace(',', '.')\n",
    "            p = float(p)\n",
    "            clean_carbs.append(p)\n",
    "        \n",
    "        except:\n",
    "            clean_carbs.append(p)\n",
    "        \n",
    "    return clean_carbs"
   ]
  },
  {
   "cell_type": "code",
   "execution_count": 284,
   "id": "22e83420-2e41-458e-b51c-9d6a84655834",
   "metadata": {},
   "outputs": [
    {
     "data": {
      "text/plain": [
       "0      94.0\n",
       "1      48.7\n",
       "2      52.5\n",
       "3      52.5\n",
       "4      55.7\n",
       "       ... \n",
       "544    71.0\n",
       "545    71.0\n",
       "546    44.6\n",
       "547    30.0\n",
       "548    76.0\n",
       "Name: carbs_clean, Length: 549, dtype: float64"
      ]
     },
     "execution_count": 284,
     "metadata": {},
     "output_type": "execute_result"
    }
   ],
   "source": [
    "kokku['carbs_clean'] = clean_carbs(kokku['carbs'])\n",
    "kokku['carbs_clean']"
   ]
  },
  {
   "cell_type": "markdown",
   "id": "93aedf2e-c44d-420f-9b0d-11a6c224b044",
   "metadata": {},
   "source": [
    "##### sugar"
   ]
  },
  {
   "cell_type": "code",
   "execution_count": 285,
   "id": "79657248-c109-4ae6-a5ea-2fac1fa9c93b",
   "metadata": {},
   "outputs": [],
   "source": [
    "def sugar_finder(x): \n",
    "    try:\n",
    "        f = re.findall('\\Bucker\\d+[,]\\d+|\\Bucker\\d+', x)[0]\n",
    "        return f\n",
    "    except:\n",
    "        return None"
   ]
  },
  {
   "cell_type": "code",
   "execution_count": 286,
   "id": "6555a0fe-d2f7-444a-a97d-6e5f5ccbde20",
   "metadata": {},
   "outputs": [
    {
     "data": {
      "text/plain": [
       "0        ucker69\n",
       "1      ucker30,3\n",
       "2      ucker30,2\n",
       "3      ucker30,2\n",
       "4      ucker28,9\n",
       "         ...    \n",
       "544       ucker0\n",
       "545       ucker0\n",
       "546    ucker39,3\n",
       "547      ucker30\n",
       "548      ucker67\n",
       "Name: sugar, Length: 549, dtype: object"
      ]
     },
     "execution_count": 286,
     "metadata": {},
     "output_type": "execute_result"
    }
   ],
   "source": [
    "kokku['sugar'] = kokku['nutritions'].apply(sugar_finder)\n",
    "kokku['sugar']"
   ]
  },
  {
   "cell_type": "code",
   "execution_count": 287,
   "id": "fa9fb7de-a889-4b18-8a90-f63e4c8787f4",
   "metadata": {},
   "outputs": [],
   "source": [
    "def clean_sugar(col):\n",
    "    \n",
    "    clean_sugar = []\n",
    "    \n",
    "    for p in col:\n",
    "        try:\n",
    "            p = p.replace('ucker', '').replace(',', '.')\n",
    "            p = float(p)\n",
    "            clean_sugar.append(p)\n",
    "        \n",
    "        except:\n",
    "            clean_sugar.append(p)\n",
    "        \n",
    "    return clean_sugar"
   ]
  },
  {
   "cell_type": "code",
   "execution_count": 288,
   "id": "9915e534-4ced-4fda-8b25-b09d749004d1",
   "metadata": {},
   "outputs": [
    {
     "data": {
      "text/plain": [
       "0      69.0\n",
       "1      30.3\n",
       "2      30.2\n",
       "3      30.2\n",
       "4      28.9\n",
       "       ... \n",
       "544     0.0\n",
       "545     0.0\n",
       "546    39.3\n",
       "547    30.0\n",
       "548    67.0\n",
       "Name: sugar_clean, Length: 549, dtype: float64"
      ]
     },
     "execution_count": 288,
     "metadata": {},
     "output_type": "execute_result"
    }
   ],
   "source": [
    "kokku['sugar_clean'] = clean_sugar(kokku['sugar'])\n",
    "kokku['sugar_clean']"
   ]
  },
  {
   "cell_type": "markdown",
   "id": "3f7446d1-ad5b-43b5-9c9e-6a80e9d6ddb2",
   "metadata": {},
   "source": [
    "##### protein"
   ]
  },
  {
   "cell_type": "code",
   "execution_count": 289,
   "id": "24ee5310-dd77-4895-b58c-4481666882db",
   "metadata": {},
   "outputs": [],
   "source": [
    "def protein_finder(x): \n",
    "    try:\n",
    "        f = re.findall('\\Bweiß\\d+[,]\\d+|\\Bweiß\\d+', x)[0]\n",
    "        return f\n",
    "    except:\n",
    "        return None"
   ]
  },
  {
   "cell_type": "code",
   "execution_count": 290,
   "id": "8715f0f3-c50f-4634-942e-199a1837fffc",
   "metadata": {},
   "outputs": [
    {
     "data": {
      "text/plain": [
       "0         None\n",
       "1      weiß5,7\n",
       "2      weiß6,0\n",
       "3      weiß6,0\n",
       "4      weiß6,0\n",
       "        ...   \n",
       "544      weiß0\n",
       "545      weiß0\n",
       "546    weiß8,2\n",
       "547     weiß19\n",
       "548    weiß1,4\n",
       "Name: protein, Length: 549, dtype: object"
      ]
     },
     "execution_count": 290,
     "metadata": {},
     "output_type": "execute_result"
    }
   ],
   "source": [
    "kokku['protein'] = kokku['nutritions'].apply(protein_finder)\n",
    "kokku['protein']"
   ]
  },
  {
   "cell_type": "code",
   "execution_count": 291,
   "id": "dbb0a18b-5c7b-47db-9db5-72635831faf0",
   "metadata": {},
   "outputs": [],
   "source": [
    "def clean_protein(col):\n",
    "    \n",
    "    clean_protein = []\n",
    "    \n",
    "    for p in col:\n",
    "        try:\n",
    "            p = p.replace('weiß', '').replace(',', '.')\n",
    "            p = float(p)\n",
    "            clean_protein.append(p)\n",
    "        \n",
    "        except:\n",
    "            clean_protein.append(p)\n",
    "        \n",
    "    return clean_protein"
   ]
  },
  {
   "cell_type": "code",
   "execution_count": 292,
   "id": "8f43c698-0747-4ade-a42a-4a0be201767e",
   "metadata": {},
   "outputs": [
    {
     "data": {
      "text/plain": [
       "0       NaN\n",
       "1       5.7\n",
       "2       6.0\n",
       "3       6.0\n",
       "4       6.0\n",
       "       ... \n",
       "544     0.0\n",
       "545     0.0\n",
       "546     8.2\n",
       "547    19.0\n",
       "548     1.4\n",
       "Name: protein_clean, Length: 549, dtype: float64"
      ]
     },
     "execution_count": 292,
     "metadata": {},
     "output_type": "execute_result"
    }
   ],
   "source": [
    "kokku['protein_clean'] = clean_protein(kokku['protein'])\n",
    "kokku['protein_clean']"
   ]
  },
  {
   "cell_type": "markdown",
   "id": "9b3cf8e5-10b3-480c-a7a5-b0ffa4a946e4",
   "metadata": {},
   "source": [
    "##### salt"
   ]
  },
  {
   "cell_type": "code",
   "execution_count": 293,
   "id": "6419fedd-9de5-4bf4-932c-d4e6b31b2081",
   "metadata": {},
   "outputs": [],
   "source": [
    "def salt_finder(x): \n",
    "    try:\n",
    "        f = re.findall('\\Balz\\d+[,]\\d+|\\Balz\\d+', x)[0]\n",
    "        return f\n",
    "    except:\n",
    "        return None"
   ]
  },
  {
   "cell_type": "code",
   "execution_count": 294,
   "id": "12c25a92-e2f6-484f-ae07-8dff9ba26bb9",
   "metadata": {},
   "outputs": [
    {
     "data": {
      "text/plain": [
       "0         None\n",
       "1       alz0,1\n",
       "2       alz0,2\n",
       "3       alz0,2\n",
       "4       alz0,2\n",
       "        ...   \n",
       "544       alz0\n",
       "545       alz0\n",
       "546     alz0,0\n",
       "547    alz2,23\n",
       "548    alz0,18\n",
       "Name: salt, Length: 549, dtype: object"
      ]
     },
     "execution_count": 294,
     "metadata": {},
     "output_type": "execute_result"
    }
   ],
   "source": [
    "kokku['salt'] = kokku['nutritions'].apply(salt_finder)\n",
    "kokku['salt']"
   ]
  },
  {
   "cell_type": "code",
   "execution_count": 295,
   "id": "82f25efa-98ae-4305-ab25-91520e5b5ead",
   "metadata": {},
   "outputs": [],
   "source": [
    "def clean_salt(col):\n",
    "    \n",
    "    clean_salt = []\n",
    "    \n",
    "    for p in col:\n",
    "        try:\n",
    "            p = p.replace('alz', '').replace(',', '.')\n",
    "            p = float(p)\n",
    "            clean_salt.append(p)\n",
    "        \n",
    "        except:\n",
    "            clean_salt.append(p)\n",
    "        \n",
    "    return clean_salt"
   ]
  },
  {
   "cell_type": "code",
   "execution_count": 296,
   "id": "c64c8730-9a86-48df-8e45-0b3ab8383e76",
   "metadata": {},
   "outputs": [
    {
     "data": {
      "text/plain": [
       "0       NaN\n",
       "1      0.10\n",
       "2      0.20\n",
       "3      0.20\n",
       "4      0.20\n",
       "       ... \n",
       "544    0.00\n",
       "545    0.00\n",
       "546    0.00\n",
       "547    2.23\n",
       "548    0.18\n",
       "Name: salt_clean, Length: 549, dtype: float64"
      ]
     },
     "execution_count": 296,
     "metadata": {},
     "output_type": "execute_result"
    }
   ],
   "source": [
    "kokku['salt_clean'] = clean_salt(kokku['salt'])\n",
    "kokku['salt_clean']"
   ]
  },
  {
   "cell_type": "markdown",
   "id": "6e142c7b-27b3-4a12-9a29-0631dad0cd96",
   "metadata": {},
   "source": [
    "##### fibre"
   ]
  },
  {
   "cell_type": "code",
   "execution_count": 297,
   "id": "34058d59-9f8c-47cc-8400-29b1bc00e1be",
   "metadata": {},
   "outputs": [
    {
     "data": {
      "text/plain": [
       "0      None\n",
       "1      None\n",
       "2      None\n",
       "3      None\n",
       "4      None\n",
       "       ... \n",
       "544    None\n",
       "545    None\n",
       "546    None\n",
       "547    None\n",
       "548    None\n",
       "Name: fibre, Length: 549, dtype: object"
      ]
     },
     "execution_count": 297,
     "metadata": {},
     "output_type": "execute_result"
    }
   ],
   "source": [
    "kokku['fibre'] = None\n",
    "kokku['fibre'] "
   ]
  },
  {
   "cell_type": "markdown",
   "id": "9339d8fd-3135-4bd6-91c7-ae6ee0c9970d",
   "metadata": {},
   "source": [
    "### Cleaning final dataframe"
   ]
  },
  {
   "cell_type": "code",
   "execution_count": 298,
   "id": "77815cad-3a75-46ef-b8d1-1e7f4068e8e3",
   "metadata": {},
   "outputs": [
    {
     "name": "stdout",
     "output_type": "stream",
     "text": [
      "<class 'pandas.core.frame.DataFrame'>\n",
      "RangeIndex: 549 entries, 0 to 548\n",
      "Data columns (total 29 columns):\n",
      " #   Column         Non-Null Count  Dtype  \n",
      "---  ------         --------------  -----  \n",
      " 0   product        549 non-null    object \n",
      " 1   brand          549 non-null    object \n",
      " 2   weight         549 non-null    object \n",
      " 3   links          549 non-null    object \n",
      " 4   price          549 non-null    object \n",
      " 5   price_gr       549 non-null    object \n",
      " 6   nutritions     549 non-null    object \n",
      " 7   photo_link     549 non-null    object \n",
      " 8   price_clean    549 non-null    float64\n",
      " 9   product_clean  549 non-null    object \n",
      " 10  weight_clean   548 non-null    float64\n",
      " 11  clean_price    549 non-null    float64\n",
      " 12  kj             549 non-null    object \n",
      " 13  kj_clean       549 non-null    float64\n",
      " 14  kcal           549 non-null    object \n",
      " 15  kcal_clean     549 non-null    float64\n",
      " 16  fat            536 non-null    object \n",
      " 17  fat_clean      536 non-null    float64\n",
      " 18  sat_fat        537 non-null    object \n",
      " 19  sat_fat_clean  537 non-null    float64\n",
      " 20  carbs          549 non-null    object \n",
      " 21  carbs_clean    549 non-null    float64\n",
      " 22  sugar          546 non-null    object \n",
      " 23  sugar_clean    546 non-null    float64\n",
      " 24  protein        534 non-null    object \n",
      " 25  protein_clean  534 non-null    float64\n",
      " 26  salt           466 non-null    object \n",
      " 27  salt_clean     466 non-null    float64\n",
      " 28  fibre          0 non-null      object \n",
      "dtypes: float64(11), object(18)\n",
      "memory usage: 124.5+ KB\n"
     ]
    }
   ],
   "source": [
    "kokku.info()"
   ]
  },
  {
   "cell_type": "code",
   "execution_count": 299,
   "id": "bc6d5d62-7d7f-43eb-9645-b1573a37645f",
   "metadata": {},
   "outputs": [
    {
     "data": {
      "text/html": [
       "<div>\n",
       "<style scoped>\n",
       "    .dataframe tbody tr th:only-of-type {\n",
       "        vertical-align: middle;\n",
       "    }\n",
       "\n",
       "    .dataframe tbody tr th {\n",
       "        vertical-align: top;\n",
       "    }\n",
       "\n",
       "    .dataframe thead th {\n",
       "        text-align: right;\n",
       "    }\n",
       "</style>\n",
       "<table border=\"1\" class=\"dataframe\">\n",
       "  <thead>\n",
       "    <tr style=\"text-align: right;\">\n",
       "      <th></th>\n",
       "      <th>product</th>\n",
       "      <th>brand</th>\n",
       "      <th>weight</th>\n",
       "      <th>links</th>\n",
       "      <th>price</th>\n",
       "      <th>price_gr</th>\n",
       "      <th>nutritions</th>\n",
       "      <th>photo_link</th>\n",
       "      <th>price_clean</th>\n",
       "      <th>product_clean</th>\n",
       "      <th>...</th>\n",
       "      <th>sat_fat_clean</th>\n",
       "      <th>carbs</th>\n",
       "      <th>carbs_clean</th>\n",
       "      <th>sugar</th>\n",
       "      <th>sugar_clean</th>\n",
       "      <th>protein</th>\n",
       "      <th>protein_clean</th>\n",
       "      <th>salt</th>\n",
       "      <th>salt_clean</th>\n",
       "      <th>fibre</th>\n",
       "    </tr>\n",
       "  </thead>\n",
       "  <tbody>\n",
       "    <tr>\n",
       "      <th>0</th>\n",
       "      <td>Eisbonbon - 75g</td>\n",
       "      <td>Bio4You</td>\n",
       "      <td>75g</td>\n",
       "      <td>https://kokku-online.de/bio4you-eisbonbon/</td>\n",
       "      <td>1.49 €</td>\n",
       "      <td>1.99€/100g</td>\n",
       "      <td>Brennwert1.632 kJ / 384 kcalFett&lt; 0,1g- davon ...</td>\n",
       "      <td>https://kokku-online.de//bilder/350x350/19266/...</td>\n",
       "      <td>1.49</td>\n",
       "      <td>Eisbonbon</td>\n",
       "      <td>...</td>\n",
       "      <td>NaN</td>\n",
       "      <td>hydrate94</td>\n",
       "      <td>94.0</td>\n",
       "      <td>ucker69</td>\n",
       "      <td>69.0</td>\n",
       "      <td>None</td>\n",
       "      <td>NaN</td>\n",
       "      <td>None</td>\n",
       "      <td>NaN</td>\n",
       "      <td>None</td>\n",
       "    </tr>\n",
       "    <tr>\n",
       "      <th>1</th>\n",
       "      <td>Stollenkonfekt - 100g</td>\n",
       "      <td>Bäckerei Sachse</td>\n",
       "      <td>100g</td>\n",
       "      <td>https://kokku-online.de/sachse-stollen-stollen...</td>\n",
       "      <td>2.99 €</td>\n",
       "      <td>2.99€/100g</td>\n",
       "      <td>Brennwert1912 kJ / 457 kcalFett26,7g- davon ge...</td>\n",
       "      <td>https://kokku-online.de//bilder/350x350/12280/...</td>\n",
       "      <td>2.99</td>\n",
       "      <td>Stollenkonfekt</td>\n",
       "      <td>...</td>\n",
       "      <td>12.1</td>\n",
       "      <td>hydrate48,7</td>\n",
       "      <td>48.7</td>\n",
       "      <td>ucker30,3</td>\n",
       "      <td>30.3</td>\n",
       "      <td>weiß5,7</td>\n",
       "      <td>5.7</td>\n",
       "      <td>alz0,1</td>\n",
       "      <td>0.1</td>\n",
       "      <td>None</td>\n",
       "    </tr>\n",
       "    <tr>\n",
       "      <th>2</th>\n",
       "      <td>Veganer °Schokodrops° Dinkelstollen mit Puderz...</td>\n",
       "      <td>Bäckerei Sachse</td>\n",
       "      <td>1kg</td>\n",
       "      <td>https://kokku-online.de/sachse-stollen-veganer...</td>\n",
       "      <td>19.99 €</td>\n",
       "      <td>19.99€/kg</td>\n",
       "      <td>Brennwert1763 kJ / 421 kcalFett20,3g- davon ge...</td>\n",
       "      <td>https://kokku-online.de//bilder/350x350/7806/s...</td>\n",
       "      <td>19.99</td>\n",
       "      <td>Veganer °Schokodrops° Dinkelstollen mit Puderz...</td>\n",
       "      <td>...</td>\n",
       "      <td>10.0</td>\n",
       "      <td>hydrate52,5</td>\n",
       "      <td>52.5</td>\n",
       "      <td>ucker30,2</td>\n",
       "      <td>30.2</td>\n",
       "      <td>weiß6,0</td>\n",
       "      <td>6.0</td>\n",
       "      <td>alz0,2</td>\n",
       "      <td>0.2</td>\n",
       "      <td>None</td>\n",
       "    </tr>\n",
       "    <tr>\n",
       "      <th>3</th>\n",
       "      <td>3 Stollenscheiben °Schokodrops° (ohne Rosinen)...</td>\n",
       "      <td>Bäckerei Sachse</td>\n",
       "      <td>250g</td>\n",
       "      <td>https://kokku-online.de/sachse-stollen-3-stoll...</td>\n",
       "      <td>4.99 €</td>\n",
       "      <td>2.00€/100g</td>\n",
       "      <td>Brennwert1763 kJ / 421 kcalFett20,3g- davon ge...</td>\n",
       "      <td>https://kokku-online.de//bilder/350x350/6140/s...</td>\n",
       "      <td>4.99</td>\n",
       "      <td>3 Stollenscheiben °Schokodrops° (ohne Rosinen)</td>\n",
       "      <td>...</td>\n",
       "      <td>10.0</td>\n",
       "      <td>hydrate52,5</td>\n",
       "      <td>52.5</td>\n",
       "      <td>ucker30,2</td>\n",
       "      <td>30.2</td>\n",
       "      <td>weiß6,0</td>\n",
       "      <td>6.0</td>\n",
       "      <td>alz0,2</td>\n",
       "      <td>0.2</td>\n",
       "      <td>None</td>\n",
       "    </tr>\n",
       "    <tr>\n",
       "      <th>4</th>\n",
       "      <td>Veganer °Rosinen° Dinkelstollen - 1kg</td>\n",
       "      <td>Bäckerei Sachse</td>\n",
       "      <td>1kg</td>\n",
       "      <td>https://kokku-online.de/sachse-stollen-dinkels...</td>\n",
       "      <td>19.99 €</td>\n",
       "      <td>19.99€/kg</td>\n",
       "      <td>Brennwert1572 kJ / 375 kcalFett14,915,1g- davo...</td>\n",
       "      <td>https://kokku-online.de//bilder/350x350/6167/s...</td>\n",
       "      <td>19.99</td>\n",
       "      <td>Veganer °Rosinen° Dinkelstollen</td>\n",
       "      <td>...</td>\n",
       "      <td>6.8</td>\n",
       "      <td>hydrate55,7</td>\n",
       "      <td>55.7</td>\n",
       "      <td>ucker28,9</td>\n",
       "      <td>28.9</td>\n",
       "      <td>weiß6,0</td>\n",
       "      <td>6.0</td>\n",
       "      <td>alz0,2</td>\n",
       "      <td>0.2</td>\n",
       "      <td>None</td>\n",
       "    </tr>\n",
       "  </tbody>\n",
       "</table>\n",
       "<p>5 rows × 29 columns</p>\n",
       "</div>"
      ],
      "text/plain": [
       "                                             product            brand weight  \\\n",
       "0                                    Eisbonbon - 75g          Bio4You    75g   \n",
       "1                              Stollenkonfekt - 100g  Bäckerei Sachse   100g   \n",
       "2  Veganer °Schokodrops° Dinkelstollen mit Puderz...  Bäckerei Sachse    1kg   \n",
       "3  3 Stollenscheiben °Schokodrops° (ohne Rosinen)...  Bäckerei Sachse   250g   \n",
       "4              Veganer °Rosinen° Dinkelstollen - 1kg  Bäckerei Sachse    1kg   \n",
       "\n",
       "                                               links    price    price_gr  \\\n",
       "0         https://kokku-online.de/bio4you-eisbonbon/   1.49 €  1.99€/100g   \n",
       "1  https://kokku-online.de/sachse-stollen-stollen...   2.99 €  2.99€/100g   \n",
       "2  https://kokku-online.de/sachse-stollen-veganer...  19.99 €   19.99€/kg   \n",
       "3  https://kokku-online.de/sachse-stollen-3-stoll...   4.99 €  2.00€/100g   \n",
       "4  https://kokku-online.de/sachse-stollen-dinkels...  19.99 €   19.99€/kg   \n",
       "\n",
       "                                          nutritions  \\\n",
       "0  Brennwert1.632 kJ / 384 kcalFett< 0,1g- davon ...   \n",
       "1  Brennwert1912 kJ / 457 kcalFett26,7g- davon ge...   \n",
       "2  Brennwert1763 kJ / 421 kcalFett20,3g- davon ge...   \n",
       "3  Brennwert1763 kJ / 421 kcalFett20,3g- davon ge...   \n",
       "4  Brennwert1572 kJ / 375 kcalFett14,915,1g- davo...   \n",
       "\n",
       "                                          photo_link  price_clean  \\\n",
       "0  https://kokku-online.de//bilder/350x350/19266/...         1.49   \n",
       "1  https://kokku-online.de//bilder/350x350/12280/...         2.99   \n",
       "2  https://kokku-online.de//bilder/350x350/7806/s...        19.99   \n",
       "3  https://kokku-online.de//bilder/350x350/6140/s...         4.99   \n",
       "4  https://kokku-online.de//bilder/350x350/6167/s...        19.99   \n",
       "\n",
       "                                       product_clean  ...  sat_fat_clean  \\\n",
       "0                                         Eisbonbon   ...            NaN   \n",
       "1                                    Stollenkonfekt   ...           12.1   \n",
       "2  Veganer °Schokodrops° Dinkelstollen mit Puderz...  ...           10.0   \n",
       "3    3 Stollenscheiben °Schokodrops° (ohne Rosinen)   ...           10.0   \n",
       "4                   Veganer °Rosinen° Dinkelstollen   ...            6.8   \n",
       "\n",
       "         carbs carbs_clean      sugar sugar_clean  protein protein_clean  \\\n",
       "0    hydrate94        94.0    ucker69        69.0     None           NaN   \n",
       "1  hydrate48,7        48.7  ucker30,3        30.3  weiß5,7           5.7   \n",
       "2  hydrate52,5        52.5  ucker30,2        30.2  weiß6,0           6.0   \n",
       "3  hydrate52,5        52.5  ucker30,2        30.2  weiß6,0           6.0   \n",
       "4  hydrate55,7        55.7  ucker28,9        28.9  weiß6,0           6.0   \n",
       "\n",
       "     salt salt_clean  fibre  \n",
       "0    None        NaN   None  \n",
       "1  alz0,1        0.1   None  \n",
       "2  alz0,2        0.2   None  \n",
       "3  alz0,2        0.2   None  \n",
       "4  alz0,2        0.2   None  \n",
       "\n",
       "[5 rows x 29 columns]"
      ]
     },
     "execution_count": 299,
     "metadata": {},
     "output_type": "execute_result"
    }
   ],
   "source": [
    "kokku.head()"
   ]
  },
  {
   "cell_type": "code",
   "execution_count": 300,
   "id": "b2caa755-ce98-4bf9-bff8-e764cb92876c",
   "metadata": {},
   "outputs": [],
   "source": [
    "drop_list = ['product', 'price', 'weight', 'nutritions', 'kj', 'kcal', 'fat', 'sat_fat', 'carbs', 'sugar', 'protein', 'salt']\n",
    "kokku = kokku.drop(drop_list, axis=1)"
   ]
  },
  {
   "cell_type": "code",
   "execution_count": 301,
   "id": "0101d47f-2808-43c7-8734-804ebd770fed",
   "metadata": {},
   "outputs": [],
   "source": [
    "kokku = kokku.reindex(columns=['product_clean', 'brand','price_clean', 'weight_clean', 'kj_clean', 'kcal_clean', 'fat_clean', 'sat_fat_clean', 'carbs_clean', \n",
    "                               'sugar_clean', 'fibre', 'protein_clean', 'salt_clean', 'links', 'photo_link'])"
   ]
  },
  {
   "cell_type": "code",
   "execution_count": 302,
   "id": "c391f256-712d-4b25-8544-6621160d402d",
   "metadata": {},
   "outputs": [
    {
     "data": {
      "text/html": [
       "<div>\n",
       "<style scoped>\n",
       "    .dataframe tbody tr th:only-of-type {\n",
       "        vertical-align: middle;\n",
       "    }\n",
       "\n",
       "    .dataframe tbody tr th {\n",
       "        vertical-align: top;\n",
       "    }\n",
       "\n",
       "    .dataframe thead th {\n",
       "        text-align: right;\n",
       "    }\n",
       "</style>\n",
       "<table border=\"1\" class=\"dataframe\">\n",
       "  <thead>\n",
       "    <tr style=\"text-align: right;\">\n",
       "      <th></th>\n",
       "      <th>product_clean</th>\n",
       "      <th>brand</th>\n",
       "      <th>price_clean</th>\n",
       "      <th>weight_clean</th>\n",
       "      <th>kj_clean</th>\n",
       "      <th>kcal_clean</th>\n",
       "      <th>fat_clean</th>\n",
       "      <th>sat_fat_clean</th>\n",
       "      <th>carbs_clean</th>\n",
       "      <th>sugar_clean</th>\n",
       "      <th>fibre</th>\n",
       "      <th>protein_clean</th>\n",
       "      <th>salt_clean</th>\n",
       "      <th>links</th>\n",
       "      <th>photo_link</th>\n",
       "    </tr>\n",
       "  </thead>\n",
       "  <tbody>\n",
       "    <tr>\n",
       "      <th>0</th>\n",
       "      <td>Eisbonbon</td>\n",
       "      <td>Bio4You</td>\n",
       "      <td>1.49</td>\n",
       "      <td>0.075</td>\n",
       "      <td>1632.0</td>\n",
       "      <td>384.0</td>\n",
       "      <td>NaN</td>\n",
       "      <td>NaN</td>\n",
       "      <td>94.0</td>\n",
       "      <td>69.0</td>\n",
       "      <td>None</td>\n",
       "      <td>NaN</td>\n",
       "      <td>NaN</td>\n",
       "      <td>https://kokku-online.de/bio4you-eisbonbon/</td>\n",
       "      <td>https://kokku-online.de//bilder/350x350/19266/...</td>\n",
       "    </tr>\n",
       "    <tr>\n",
       "      <th>1</th>\n",
       "      <td>Stollenkonfekt</td>\n",
       "      <td>Bäckerei Sachse</td>\n",
       "      <td>2.99</td>\n",
       "      <td>0.100</td>\n",
       "      <td>1912.0</td>\n",
       "      <td>457.0</td>\n",
       "      <td>26.700</td>\n",
       "      <td>12.1</td>\n",
       "      <td>48.7</td>\n",
       "      <td>30.3</td>\n",
       "      <td>None</td>\n",
       "      <td>5.7</td>\n",
       "      <td>0.1</td>\n",
       "      <td>https://kokku-online.de/sachse-stollen-stollen...</td>\n",
       "      <td>https://kokku-online.de//bilder/350x350/12280/...</td>\n",
       "    </tr>\n",
       "    <tr>\n",
       "      <th>2</th>\n",
       "      <td>Veganer °Schokodrops° Dinkelstollen mit Puderz...</td>\n",
       "      <td>Bäckerei Sachse</td>\n",
       "      <td>19.99</td>\n",
       "      <td>1.000</td>\n",
       "      <td>1763.0</td>\n",
       "      <td>421.0</td>\n",
       "      <td>20.300</td>\n",
       "      <td>10.0</td>\n",
       "      <td>52.5</td>\n",
       "      <td>30.2</td>\n",
       "      <td>None</td>\n",
       "      <td>6.0</td>\n",
       "      <td>0.2</td>\n",
       "      <td>https://kokku-online.de/sachse-stollen-veganer...</td>\n",
       "      <td>https://kokku-online.de//bilder/350x350/7806/s...</td>\n",
       "    </tr>\n",
       "    <tr>\n",
       "      <th>3</th>\n",
       "      <td>3 Stollenscheiben °Schokodrops° (ohne Rosinen)</td>\n",
       "      <td>Bäckerei Sachse</td>\n",
       "      <td>4.99</td>\n",
       "      <td>0.250</td>\n",
       "      <td>1763.0</td>\n",
       "      <td>421.0</td>\n",
       "      <td>20.300</td>\n",
       "      <td>10.0</td>\n",
       "      <td>52.5</td>\n",
       "      <td>30.2</td>\n",
       "      <td>None</td>\n",
       "      <td>6.0</td>\n",
       "      <td>0.2</td>\n",
       "      <td>https://kokku-online.de/sachse-stollen-3-stoll...</td>\n",
       "      <td>https://kokku-online.de//bilder/350x350/6140/s...</td>\n",
       "    </tr>\n",
       "    <tr>\n",
       "      <th>4</th>\n",
       "      <td>Veganer °Rosinen° Dinkelstollen</td>\n",
       "      <td>Bäckerei Sachse</td>\n",
       "      <td>19.99</td>\n",
       "      <td>1.000</td>\n",
       "      <td>1572.0</td>\n",
       "      <td>375.0</td>\n",
       "      <td>14.915</td>\n",
       "      <td>6.8</td>\n",
       "      <td>55.7</td>\n",
       "      <td>28.9</td>\n",
       "      <td>None</td>\n",
       "      <td>6.0</td>\n",
       "      <td>0.2</td>\n",
       "      <td>https://kokku-online.de/sachse-stollen-dinkels...</td>\n",
       "      <td>https://kokku-online.de//bilder/350x350/6167/s...</td>\n",
       "    </tr>\n",
       "  </tbody>\n",
       "</table>\n",
       "</div>"
      ],
      "text/plain": [
       "                                       product_clean            brand  \\\n",
       "0                                         Eisbonbon           Bio4You   \n",
       "1                                    Stollenkonfekt   Bäckerei Sachse   \n",
       "2  Veganer °Schokodrops° Dinkelstollen mit Puderz...  Bäckerei Sachse   \n",
       "3    3 Stollenscheiben °Schokodrops° (ohne Rosinen)   Bäckerei Sachse   \n",
       "4                   Veganer °Rosinen° Dinkelstollen   Bäckerei Sachse   \n",
       "\n",
       "   price_clean  weight_clean  kj_clean  kcal_clean  fat_clean  sat_fat_clean  \\\n",
       "0         1.49         0.075    1632.0       384.0        NaN            NaN   \n",
       "1         2.99         0.100    1912.0       457.0     26.700           12.1   \n",
       "2        19.99         1.000    1763.0       421.0     20.300           10.0   \n",
       "3         4.99         0.250    1763.0       421.0     20.300           10.0   \n",
       "4        19.99         1.000    1572.0       375.0     14.915            6.8   \n",
       "\n",
       "   carbs_clean  sugar_clean fibre  protein_clean  salt_clean  \\\n",
       "0         94.0         69.0  None            NaN         NaN   \n",
       "1         48.7         30.3  None            5.7         0.1   \n",
       "2         52.5         30.2  None            6.0         0.2   \n",
       "3         52.5         30.2  None            6.0         0.2   \n",
       "4         55.7         28.9  None            6.0         0.2   \n",
       "\n",
       "                                               links  \\\n",
       "0         https://kokku-online.de/bio4you-eisbonbon/   \n",
       "1  https://kokku-online.de/sachse-stollen-stollen...   \n",
       "2  https://kokku-online.de/sachse-stollen-veganer...   \n",
       "3  https://kokku-online.de/sachse-stollen-3-stoll...   \n",
       "4  https://kokku-online.de/sachse-stollen-dinkels...   \n",
       "\n",
       "                                          photo_link  \n",
       "0  https://kokku-online.de//bilder/350x350/19266/...  \n",
       "1  https://kokku-online.de//bilder/350x350/12280/...  \n",
       "2  https://kokku-online.de//bilder/350x350/7806/s...  \n",
       "3  https://kokku-online.de//bilder/350x350/6140/s...  \n",
       "4  https://kokku-online.de//bilder/350x350/6167/s...  "
      ]
     },
     "execution_count": 302,
     "metadata": {},
     "output_type": "execute_result"
    }
   ],
   "source": [
    "kokku.head()"
   ]
  },
  {
   "cell_type": "code",
   "execution_count": 303,
   "id": "2c171620-224a-4828-ab9a-1bc62cc63a89",
   "metadata": {},
   "outputs": [
    {
     "name": "stdout",
     "output_type": "stream",
     "text": [
      "<class 'pandas.core.frame.DataFrame'>\n",
      "RangeIndex: 549 entries, 0 to 548\n",
      "Data columns (total 15 columns):\n",
      " #   Column        Non-Null Count  Dtype  \n",
      "---  ------        --------------  -----  \n",
      " 0   product       549 non-null    object \n",
      " 1   brand         549 non-null    object \n",
      " 2   price         549 non-null    float64\n",
      " 3   weight        548 non-null    float64\n",
      " 4   kj            549 non-null    float64\n",
      " 5   kcal          549 non-null    float64\n",
      " 6   fat           536 non-null    float64\n",
      " 7   sat_fat       537 non-null    float64\n",
      " 8   carbs         549 non-null    float64\n",
      " 9   sugar         546 non-null    float64\n",
      " 10  fibre         0 non-null      object \n",
      " 11  protein       534 non-null    float64\n",
      " 12  salt          466 non-null    float64\n",
      " 13  product_link  549 non-null    object \n",
      " 14  photo_link    549 non-null    object \n",
      "dtypes: float64(10), object(5)\n",
      "memory usage: 64.5+ KB\n"
     ]
    }
   ],
   "source": [
    "column_names = ['product', 'brand', 'price', 'weight', 'kj', 'kcal', 'fat', 'sat_fat', 'carbs', 'sugar', 'fibre', 'protein', 'salt', 'product_link', 'photo_link']\n",
    "\n",
    "kokku.columns = column_names\n",
    "kokku.info()"
   ]
  },
  {
   "cell_type": "markdown",
   "id": "ad4d9cbf-14d1-463d-b32e-447c0dd48742",
   "metadata": {},
   "source": [
    "## Foodist"
   ]
  },
  {
   "cell_type": "code",
   "execution_count": 99,
   "id": "8b129145-f7c3-465d-98d3-00e2fe873480",
   "metadata": {},
   "outputs": [],
   "source": [
    "foodist = pd.read_csv('df_foodist.csv')"
   ]
  },
  {
   "cell_type": "code",
   "execution_count": 100,
   "id": "c46615d1-9e1c-443f-94db-9bc5386143dd",
   "metadata": {},
   "outputs": [
    {
     "data": {
      "text/plain": [
       "(462, 9)"
      ]
     },
     "execution_count": 100,
     "metadata": {},
     "output_type": "execute_result"
    }
   ],
   "source": [
    "foodist.shape"
   ]
  },
  {
   "cell_type": "code",
   "execution_count": 101,
   "id": "832c2e98-e394-479b-ba9d-f941217352e1",
   "metadata": {},
   "outputs": [
    {
     "data": {
      "text/html": [
       "<div>\n",
       "<style scoped>\n",
       "    .dataframe tbody tr th:only-of-type {\n",
       "        vertical-align: middle;\n",
       "    }\n",
       "\n",
       "    .dataframe tbody tr th {\n",
       "        vertical-align: top;\n",
       "    }\n",
       "\n",
       "    .dataframe thead th {\n",
       "        text-align: right;\n",
       "    }\n",
       "</style>\n",
       "<table border=\"1\" class=\"dataframe\">\n",
       "  <thead>\n",
       "    <tr style=\"text-align: right;\">\n",
       "      <th></th>\n",
       "      <th>Unnamed: 0</th>\n",
       "      <th>name</th>\n",
       "      <th>brand</th>\n",
       "      <th>links</th>\n",
       "      <th>price</th>\n",
       "      <th>weight</th>\n",
       "      <th>price_gr</th>\n",
       "      <th>nutritients</th>\n",
       "      <th>photo_link</th>\n",
       "    </tr>\n",
       "  </thead>\n",
       "  <tbody>\n",
       "    <tr>\n",
       "      <th>0</th>\n",
       "      <td>0</td>\n",
       "      <td>BIO Chiasamen 1kg</td>\n",
       "      <td>Foodist</td>\n",
       "      <td>https://www.foodist.de/foodist-bio-chiasamen-1...</td>\n",
       "      <td>8,95 €</td>\n",
       "      <td>Inhalt:  1000 g</td>\n",
       "      <td>0,90 € / 100 g</td>\n",
       "      <td>Brennwert 1.901 kJ(454 kcal)   Fett 31,0 g  ...</td>\n",
       "      <td>https://foodist.imgix.net/media/image/42604537...</td>\n",
       "    </tr>\n",
       "    <tr>\n",
       "      <th>1</th>\n",
       "      <td>1</td>\n",
       "      <td>Xylit Bonbons Orange</td>\n",
       "      <td>Birkengold</td>\n",
       "      <td>https://www.foodist.de/birkengold-xylit-bonbon...</td>\n",
       "      <td>2,50 €</td>\n",
       "      <td>Inhalt:  30 g</td>\n",
       "      <td>8,33 € / 100 g</td>\n",
       "      <td>Brennwert 1.072 kJ(257 kcal)   Fett 1,8 g   ...</td>\n",
       "      <td>https://foodist.imgix.net/media/image/91200488...</td>\n",
       "    </tr>\n",
       "    <tr>\n",
       "      <th>2</th>\n",
       "      <td>2</td>\n",
       "      <td>Schokolade &amp; Spielzeug Weihnachten</td>\n",
       "      <td>PLAYin Choc</td>\n",
       "      <td>https://www.foodist.de/playin-choc-schokolade-...</td>\n",
       "      <td>4,00 €</td>\n",
       "      <td>Inhalt:  20 g</td>\n",
       "      <td>20,00 € / 100 g</td>\n",
       "      <td>Brennwert 2.609 kJ(630 kcal)   Fett 51,6 g  ...</td>\n",
       "      <td>https://foodist.imgix.net/media/image/50605485...</td>\n",
       "    </tr>\n",
       "    <tr>\n",
       "      <th>3</th>\n",
       "      <td>3</td>\n",
       "      <td>Waffelteig gefüllt mit Erdnussbutter \"Nutisfac...</td>\n",
       "      <td>Paddies</td>\n",
       "      <td>https://www.foodist.de/paddies-waffelteig-gefu...</td>\n",
       "      <td>1,99 €</td>\n",
       "      <td>Inhalt:  70 g</td>\n",
       "      <td>2,84 € / 100 g</td>\n",
       "      <td>Brennwert 1.742 kJ(418 kcal)   Fett 25,0 g  ...</td>\n",
       "      <td>https://foodist.imgix.net/media/image/91201027...</td>\n",
       "    </tr>\n",
       "    <tr>\n",
       "      <th>4</th>\n",
       "      <td>4</td>\n",
       "      <td>BIO Marshmallows mit Vanillegeschmack \"Marilyn...</td>\n",
       "      <td>Not Guilty</td>\n",
       "      <td>https://www.foodist.de/not-guilty-bio-marshmal...</td>\n",
       "      <td>1,90 €</td>\n",
       "      <td>Inhalt:  80 g</td>\n",
       "      <td>2,38 € / 100 g</td>\n",
       "      <td>Brennwert 1.386 kJ(326 kcal)   Fett 0,0 g   ...</td>\n",
       "      <td>https://foodist.imgix.net/media/image/36634580...</td>\n",
       "    </tr>\n",
       "  </tbody>\n",
       "</table>\n",
       "</div>"
      ],
      "text/plain": [
       "   Unnamed: 0                                               name        brand  \\\n",
       "0           0                                  BIO Chiasamen 1kg      Foodist   \n",
       "1           1                               Xylit Bonbons Orange   Birkengold   \n",
       "2           2                 Schokolade & Spielzeug Weihnachten  PLAYin Choc   \n",
       "3           3  Waffelteig gefüllt mit Erdnussbutter \"Nutisfac...      Paddies   \n",
       "4           4  BIO Marshmallows mit Vanillegeschmack \"Marilyn...   Not Guilty   \n",
       "\n",
       "                                               links      price  \\\n",
       "0  https://www.foodist.de/foodist-bio-chiasamen-1...    8,95 €    \n",
       "1  https://www.foodist.de/birkengold-xylit-bonbon...    2,50 €    \n",
       "2  https://www.foodist.de/playin-choc-schokolade-...    4,00 €    \n",
       "3  https://www.foodist.de/paddies-waffelteig-gefu...    1,99 €    \n",
       "4  https://www.foodist.de/not-guilty-bio-marshmal...    1,90 €    \n",
       "\n",
       "               weight           price_gr  \\\n",
       "0    Inhalt:  1000 g     0,90 € / 100 g    \n",
       "1      Inhalt:  30 g     8,33 € / 100 g    \n",
       "2      Inhalt:  20 g    20,00 € / 100 g    \n",
       "3      Inhalt:  70 g     2,84 € / 100 g    \n",
       "4      Inhalt:  80 g     2,38 € / 100 g    \n",
       "\n",
       "                                         nutritients  \\\n",
       "0    Brennwert 1.901 kJ(454 kcal)   Fett 31,0 g  ...   \n",
       "1    Brennwert 1.072 kJ(257 kcal)   Fett 1,8 g   ...   \n",
       "2    Brennwert 2.609 kJ(630 kcal)   Fett 51,6 g  ...   \n",
       "3    Brennwert 1.742 kJ(418 kcal)   Fett 25,0 g  ...   \n",
       "4    Brennwert 1.386 kJ(326 kcal)   Fett 0,0 g   ...   \n",
       "\n",
       "                                          photo_link  \n",
       "0  https://foodist.imgix.net/media/image/42604537...  \n",
       "1  https://foodist.imgix.net/media/image/91200488...  \n",
       "2  https://foodist.imgix.net/media/image/50605485...  \n",
       "3  https://foodist.imgix.net/media/image/91201027...  \n",
       "4  https://foodist.imgix.net/media/image/36634580...  "
      ]
     },
     "execution_count": 101,
     "metadata": {},
     "output_type": "execute_result"
    }
   ],
   "source": [
    "foodist.head()"
   ]
  },
  {
   "cell_type": "markdown",
   "id": "7bcb253e-2991-46ae-b528-d39da3b3810b",
   "metadata": {},
   "source": [
    "### Cleaning overview\n",
    "\n",
    "- [x] removing duplicate index column\n",
    "- [x] removing extra charcters from weight + changing column type\n",
    "- [x] removing extra characters from price + changing column type\n",
    "- [x] splitting nutrition column: kcal, fat, sat_fat, carbs, sugar, fibre, protein, salt\n",
    "\n",
    "Maybe:\n",
    "\n",
    "- [ ] cleaning price_gr column?\n"
   ]
  },
  {
   "cell_type": "markdown",
   "id": "0d01a3e1-0669-49a4-9ee3-e272c6d10ff5",
   "metadata": {},
   "source": [
    "#### Dropping duplicate index column"
   ]
  },
  {
   "cell_type": "code",
   "execution_count": 102,
   "id": "867128f1-8ec9-455c-ab48-8cae2a3bdc0d",
   "metadata": {},
   "outputs": [
    {
     "data": {
      "text/plain": [
       "Index(['name', 'brand', 'links', 'price', 'weight', 'price_gr', 'nutritients',\n",
       "       'photo_link'],\n",
       "      dtype='object')"
      ]
     },
     "execution_count": 102,
     "metadata": {},
     "output_type": "execute_result"
    }
   ],
   "source": [
    "foodist= foodist.drop('Unnamed: 0', axis=1)\n",
    "foodist.columns"
   ]
  },
  {
   "cell_type": "markdown",
   "id": "0e8fbee4-7a8e-48b6-8c0a-b1b68ce270b7",
   "metadata": {},
   "source": [
    "#### Weight"
   ]
  },
  {
   "cell_type": "code",
   "execution_count": 103,
   "id": "abfb94ab-a8ca-4860-a58b-db916ddb1f48",
   "metadata": {
    "tags": []
   },
   "outputs": [
    {
     "data": {
      "text/plain": [
       "array(['  Inhalt:  1000\\xa0g ', '  Inhalt:  30\\xa0g ',\n",
       "       '  Inhalt:  20\\xa0g ', '  Inhalt:  70\\xa0g ',\n",
       "       '  Inhalt:  80\\xa0g ', '  Inhalt:  25\\xa0g ',\n",
       "       '  Inhalt:  92\\xa0g ', '  Inhalt:  50\\xa0g ',\n",
       "       '  Inhalt:  140\\xa0g ', '  Inhalt:  1\\xa0Stck. ',\n",
       "       '  Inhalt:  18\\xa0g ', '  Inhalt:  90\\xa0g ',\n",
       "       '  Inhalt:  125\\xa0g ', '  Inhalt:  60\\xa0g ',\n",
       "       '  Inhalt:  35\\xa0g ', '  Inhalt:  48\\xa0g ',\n",
       "       '  Inhalt:  100\\xa0g ', '  Inhalt:  500\\xa0g ',\n",
       "       '  Inhalt:  46\\xa0g ', '  Inhalt:  40\\xa0g ',\n",
       "       '  Inhalt:  75\\xa0g ', '  Inhalt:  42\\xa0g ',\n",
       "       '  Inhalt:  250\\xa0g ', '  Inhalt:  28\\xa0g ',\n",
       "       '  Inhalt:  22\\xa0g '], dtype=object)"
      ]
     },
     "execution_count": 103,
     "metadata": {},
     "output_type": "execute_result"
    }
   ],
   "source": [
    "foodist['weight'].unique()"
   ]
  },
  {
   "cell_type": "code",
   "execution_count": 93,
   "id": "8237f637-aa2f-4a2c-984c-025b9c793367",
   "metadata": {},
   "outputs": [],
   "source": [
    "foodist['weight'] = foodist['weight'].str.replace(' ', '').replace"
   ]
  },
  {
   "cell_type": "code",
   "execution_count": 106,
   "id": "3f8a6679-124b-4523-9ebc-d3811b8eeaa3",
   "metadata": {},
   "outputs": [],
   "source": [
    "#removing kg\n",
    "\n",
    "def clean_weight(col):\n",
    "    \n",
    "    clean_weight = []\n",
    "    \n",
    "    for w in col:\n",
    "        w = w.replace(' ', '').replace('Inhalt:', '').replace('Stck.', '').replace('g', '')\n",
    "        w = float(w)\n",
    "        w = w/1000\n",
    "        clean_weight.append(w)\n",
    "        \n",
    "    return clean_weight\n",
    "            "
   ]
  },
  {
   "cell_type": "code",
   "execution_count": 107,
   "id": "0267db34-f3ba-4938-b887-9c77d12adc02",
   "metadata": {},
   "outputs": [
    {
     "data": {
      "text/plain": [
       "0      1.000\n",
       "1      0.030\n",
       "2      0.020\n",
       "3      0.070\n",
       "4      0.080\n",
       "       ...  \n",
       "457    0.040\n",
       "458    0.040\n",
       "459    0.022\n",
       "460    0.100\n",
       "461    0.100\n",
       "Name: weight_clean, Length: 462, dtype: float64"
      ]
     },
     "execution_count": 107,
     "metadata": {},
     "output_type": "execute_result"
    }
   ],
   "source": [
    "foodist['weight_clean'] = clean_weight(foodist['weight'])\n",
    "foodist['weight_clean']"
   ]
  },
  {
   "cell_type": "markdown",
   "id": "c37bdedc-c1d4-4766-85b0-81700d4e16bc",
   "metadata": {},
   "source": [
    "#### Price"
   ]
  },
  {
   "cell_type": "code",
   "execution_count": 108,
   "id": "f77032db-0e5e-4c45-89b5-96c47f869f16",
   "metadata": {},
   "outputs": [
    {
     "data": {
      "text/plain": [
       "array(['  8,95\\xa0€ ', '  2,50\\xa0€ ', '  4,00\\xa0€ ', '  1,99\\xa0€ ',\n",
       "       '  1,90\\xa0€ ', '  1,75\\xa0€ ', '  3,49\\xa0€ ', '  4,85\\xa0€ ',\n",
       "       '  29,98\\xa0€ ', '  1,50\\xa0€ ', '  4,99\\xa0€ ', '  7,90\\xa0€ ',\n",
       "       '  3,99\\xa0€ ', '  2,59\\xa0€ ', '  2,49\\xa0€ ', '  14,95\\xa0€ ',\n",
       "       '  0,99\\xa0€ ', '  2,80\\xa0€ ', '  3,50\\xa0€ ', '  2,90\\xa0€ ',\n",
       "       '  2,95\\xa0€ ', '  9,95\\xa0€ ', '  15,95\\xa0€ ', '  5,99\\xa0€ ',\n",
       "       '  4,50\\xa0€ ', '  4,20\\xa0€ ', '  13,90\\xa0€ ', '  8,50\\xa0€ ',\n",
       "       '  1,95\\xa0€ ', '  2,99\\xa0€ ', '  1,45\\xa0€ ', '  2,79\\xa0€ ',\n",
       "       '  3,40\\xa0€ ', '  10,95\\xa0€ ', '  3,90\\xa0€ ', '  2,20\\xa0€ ',\n",
       "       '  2,00\\xa0€ ', '  1,10\\xa0€ ', '  1,70\\xa0€ '], dtype=object)"
      ]
     },
     "execution_count": 108,
     "metadata": {},
     "output_type": "execute_result"
    }
   ],
   "source": [
    "foodist['price'].unique()"
   ]
  },
  {
   "cell_type": "code",
   "execution_count": 109,
   "id": "065a74f5-782d-4e7e-8b33-e49a07edf7dc",
   "metadata": {},
   "outputs": [],
   "source": [
    "def clean_price(col):\n",
    "    \n",
    "    cleaned = []\n",
    "    \n",
    "    for p in col:\n",
    "        price = str(p).replace(',', '.').replace('€', '').replace(' ', '')\n",
    "        cleaned.append(float(price))   \n",
    "        \n",
    "    return cleaned"
   ]
  },
  {
   "cell_type": "code",
   "execution_count": 110,
   "id": "f5a9195e-ce2f-4237-8085-182b8e9a2b6e",
   "metadata": {},
   "outputs": [
    {
     "data": {
      "text/plain": [
       "0      8.95\n",
       "1      2.50\n",
       "2      4.00\n",
       "3      1.99\n",
       "4      1.90\n",
       "       ... \n",
       "457    2.00\n",
       "458    2.00\n",
       "459    1.10\n",
       "460    1.70\n",
       "461    1.70\n",
       "Name: price_clean, Length: 462, dtype: float64"
      ]
     },
     "execution_count": 110,
     "metadata": {},
     "output_type": "execute_result"
    }
   ],
   "source": [
    "foodist['price_clean'] = clean_price(foodist['price'])\n",
    "foodist['price_clean']"
   ]
  },
  {
   "cell_type": "markdown",
   "id": "873a4816-0327-4e78-a956-af1fdb1a9e25",
   "metadata": {},
   "source": [
    "#### Nutrients"
   ]
  },
  {
   "cell_type": "code",
   "execution_count": 113,
   "id": "b427c563-5168-4b54-b1c8-9224230633ba",
   "metadata": {},
   "outputs": [
    {
     "data": {
      "text/plain": [
       "array(['  Brennwert 1.697 kJ(405 kcal)   Fett 18,0 g   davon gesättigte Fettsäuren 2,6 g   Kohlenhydrate 50,0 g   davon Zucker 45,0 g   Ballaststoffe 4,3 g   Eiweiß 8,6 g   Salz 0,03 g  ',\n",
       "       '  Brennwert 1.917 kJ(457 kcal)   Fett 19,0 g   davon gesättigte Fettsäuren 7,1 g   Kohlenhydrate 64,0 g   davon Zucker 19,0 g   Ballaststoffe 2,1 g   Eiweiß 6,4 g   Salz 1,50 g  ',\n",
       "       '  Brennwert 1.362 kJ(321 kcal)   Fett 0,2 g   davon gesättigte Fettsäuren 0,2 g   Kohlenhydrate 78,0 g   davon Zucker 40,0 g   Ballaststoffe 2,4 g   Eiweiß 0,0 g   Salz 0,89 g  ',\n",
       "       '  Brennwert 3.018 kJ(721 kcal)   Fett 72,0 g   davon gesättigte Fettsäuren 6,2 g   Kohlenhydrate 4,3 g   davon Zucker 4,0 g   Ballaststoffe 9,6 g   Eiweiß 9,2 g   Salz 0,00 g  ',\n",
       "       '  Brennwert 1.879 kJ(448 kcal)   Fett 16,0 g   davon gesättigte Fettsäuren 6,4 g   Kohlenhydrate 55,0 g   davon Zucker 1,1 g   Ballaststoffe 0,0 g   Eiweiß 7,9 g   Salz 2,20 g  ',\n",
       "       '  Brennwert 1.840 kJ(436 kcal)   Fett 21,0 g   davon gesättigte Fettsäuren 11,5 g   Kohlenhydrate 67,0 g   davon Zucker 3,3 g   Ballaststoffe 2,8 g   Eiweiß 5,7 g   Salz 1,43 g  ',\n",
       "       '  Brennwert 1.432 kJ(342 kcal)   Fett 0,6 g   davon gesättigte Fettsäuren 0,3 g   Kohlenhydrate 72,0 g   davon Zucker 70,0 g   Ballaststoffe 11,0 g   Eiweiß 2,0 g   Salz 0,02 g  ',\n",
       "       '  Brennwert 2.674 kJ(646 kcal)   Fett 55,0 g   davon gesättigte Fettsäuren 33,0 g   Kohlenhydrate 26,0 g   davon Zucker 16,0 g   Ballaststoffe 7,8 g   Eiweiß 8,1 g   Salz 0,04 g  ',\n",
       "       '  Brennwert 2.170 kJ(519 kcal)   Fett 34,0 g   davon gesättigte Fettsäuren 14,0 g   Kohlenhydrate 47,0 g   davon Zucker 23,0 g   Eiweiß 13,0 g   Salz 0,04 g  '],\n",
       "      dtype=object)"
      ]
     },
     "execution_count": 113,
     "metadata": {},
     "output_type": "execute_result"
    }
   ],
   "source": [
    "foodist['nutritients'].sample(10).unique()"
   ]
  },
  {
   "cell_type": "markdown",
   "id": "ce05ff49-25b3-40aa-a85a-bdfd43df2a59",
   "metadata": {},
   "source": [
    "##### kJ"
   ]
  },
  {
   "cell_type": "code",
   "execution_count": 120,
   "id": "f2760980-f2fc-4515-96e3-e450fdbf1a2f",
   "metadata": {},
   "outputs": [],
   "source": [
    "def kjs_finder(x):\n",
    "    return re.findall('\\Brennwert\\s\\d[.]\\d+|\\Brennwert\\s\\d+[,]\\d+|\\Brennwert\\s\\d+', x)[0]"
   ]
  },
  {
   "cell_type": "code",
   "execution_count": 121,
   "id": "af0a92c2-6dcf-4488-920e-154e424d3428",
   "metadata": {},
   "outputs": [
    {
     "data": {
      "text/plain": [
       "0      rennwert 1.901\n",
       "1      rennwert 1.072\n",
       "2      rennwert 2.609\n",
       "3      rennwert 1.742\n",
       "4      rennwert 1.386\n",
       "            ...      \n",
       "457    rennwert 1.683\n",
       "458    rennwert 1.711\n",
       "459    rennwert 1.816\n",
       "460    rennwert 1.364\n",
       "461    rennwert 1.352\n",
       "Name: kj, Length: 462, dtype: object"
      ]
     },
     "execution_count": 121,
     "metadata": {},
     "output_type": "execute_result"
    }
   ],
   "source": [
    "foodist['kj'] = foodist['nutritients'].apply(kjs_finder)\n",
    "foodist['kj']"
   ]
  },
  {
   "cell_type": "code",
   "execution_count": 122,
   "id": "3fc860a3-675b-438b-be6a-9643c084dbf8",
   "metadata": {},
   "outputs": [],
   "source": [
    "def clean_kj(col):\n",
    "    \n",
    "    clean_kj = []\n",
    "    \n",
    "    for p in col:\n",
    "        p = p.replace('rennwert ', '').replace('.', '').replace(',', '.')\n",
    "        p = float(p)\n",
    "        clean_kj.append(p)\n",
    "        \n",
    "    return clean_kj"
   ]
  },
  {
   "cell_type": "code",
   "execution_count": 123,
   "id": "8c2a22bf-c557-4500-9bea-d7bbf3d1c051",
   "metadata": {},
   "outputs": [
    {
     "data": {
      "text/plain": [
       "0      1901.0\n",
       "1      1072.0\n",
       "2      2609.0\n",
       "3      1742.0\n",
       "4      1386.0\n",
       "        ...  \n",
       "457    1683.0\n",
       "458    1711.0\n",
       "459    1816.0\n",
       "460    1364.0\n",
       "461    1352.0\n",
       "Name: kj_clean, Length: 462, dtype: float64"
      ]
     },
     "execution_count": 123,
     "metadata": {},
     "output_type": "execute_result"
    }
   ],
   "source": [
    "foodist['kj_clean'] = clean_kj(foodist['kj'])\n",
    "foodist['kj_clean']"
   ]
  },
  {
   "cell_type": "markdown",
   "id": "a5401666-4578-42d8-bb8a-b862a1d8ca8a",
   "metadata": {},
   "source": [
    "##### kcal"
   ]
  },
  {
   "cell_type": "code",
   "execution_count": 127,
   "id": "3e2cad23-811b-43f9-960a-5702e9046978",
   "metadata": {},
   "outputs": [],
   "source": [
    "def kcal_finder(x):\n",
    "    return re.findall('[(]\\d+\\s', x)[0]"
   ]
  },
  {
   "cell_type": "code",
   "execution_count": 128,
   "id": "bef69a31-4a07-41d6-93d3-79044b4aef07",
   "metadata": {},
   "outputs": [
    {
     "data": {
      "text/plain": [
       "0      (454 \n",
       "1      (257 \n",
       "2      (630 \n",
       "3      (418 \n",
       "4      (326 \n",
       "       ...  \n",
       "457    (404 \n",
       "458    (410 \n",
       "459    (436 \n",
       "460    (320 \n",
       "461    (318 \n",
       "Name: kcal, Length: 462, dtype: object"
      ]
     },
     "execution_count": 128,
     "metadata": {},
     "output_type": "execute_result"
    }
   ],
   "source": [
    "foodist['kcal'] = foodist['nutritients'].apply(kcal_finder)\n",
    "foodist['kcal']"
   ]
  },
  {
   "cell_type": "code",
   "execution_count": 129,
   "id": "c89dbf34-a47b-4de4-a618-c250e12e2a61",
   "metadata": {},
   "outputs": [],
   "source": [
    "def clean_kcal(col):\n",
    "    \n",
    "    clean_kcal = []\n",
    "    \n",
    "    for p in col:\n",
    "        p = p.replace('(', '')\n",
    "        p = float(p)\n",
    "        clean_kcal.append(p)\n",
    "        \n",
    "    return clean_kcal"
   ]
  },
  {
   "cell_type": "code",
   "execution_count": 130,
   "id": "959da5ad-727a-4566-99d3-94b476a2f34c",
   "metadata": {},
   "outputs": [
    {
     "data": {
      "text/plain": [
       "0      454.0\n",
       "1      257.0\n",
       "2      630.0\n",
       "3      418.0\n",
       "4      326.0\n",
       "       ...  \n",
       "457    404.0\n",
       "458    410.0\n",
       "459    436.0\n",
       "460    320.0\n",
       "461    318.0\n",
       "Name: kcal_clean, Length: 462, dtype: float64"
      ]
     },
     "execution_count": 130,
     "metadata": {},
     "output_type": "execute_result"
    }
   ],
   "source": [
    "foodist['kcal_clean'] = clean_kcal(foodist['kcal'])\n",
    "foodist['kcal_clean']"
   ]
  },
  {
   "cell_type": "markdown",
   "id": "9a41350a-e82f-4d31-84f9-d27d59442387",
   "metadata": {},
   "source": [
    "##### fat"
   ]
  },
  {
   "cell_type": "code",
   "execution_count": 133,
   "id": "db5a856a-daa8-417f-b05b-1e11d8b7df07",
   "metadata": {},
   "outputs": [],
   "source": [
    "def fat_finder(x):\n",
    "    try:\n",
    "        f = re.findall('\\Bett\\s\\d+[,]\\d+|\\Bett\\s\\d+', x)[0]\n",
    "        return f\n",
    "    except:\n",
    "        return None"
   ]
  },
  {
   "cell_type": "code",
   "execution_count": 134,
   "id": "22de2030-2bba-4486-8cc3-99ce7fd3aae0",
   "metadata": {},
   "outputs": [
    {
     "data": {
      "text/plain": [
       "0      ett 31,0\n",
       "1       ett 1,8\n",
       "2      ett 51,6\n",
       "3      ett 25,0\n",
       "4       ett 0,0\n",
       "         ...   \n",
       "457    ett 17,0\n",
       "458    ett 17,0\n",
       "459    ett 24,0\n",
       "460     ett 0,0\n",
       "461     ett 0,2\n",
       "Name: fat, Length: 462, dtype: object"
      ]
     },
     "execution_count": 134,
     "metadata": {},
     "output_type": "execute_result"
    }
   ],
   "source": [
    "foodist['fat'] = foodist['nutritients'].apply(fat_finder)\n",
    "foodist['fat']"
   ]
  },
  {
   "cell_type": "code",
   "execution_count": 135,
   "id": "91832143-48e6-4bff-9d53-a32c69bb7ecb",
   "metadata": {},
   "outputs": [],
   "source": [
    "def clean_fat(col):\n",
    "    \n",
    "    clean_fat = []\n",
    "    \n",
    "    for p in col:\n",
    "        try:\n",
    "            p = p.replace('ett ', '').replace(',', '.')\n",
    "            p = float(p)\n",
    "            clean_fat.append(p)\n",
    "        \n",
    "        except:\n",
    "            clean_fat.append(p)\n",
    "        \n",
    "    return clean_fat"
   ]
  },
  {
   "cell_type": "code",
   "execution_count": 136,
   "id": "9d63a29e-1e0c-4178-bf03-7d2e04cadc55",
   "metadata": {},
   "outputs": [
    {
     "data": {
      "text/plain": [
       "0      31.0\n",
       "1       1.8\n",
       "2      51.6\n",
       "3      25.0\n",
       "4       0.0\n",
       "       ... \n",
       "457    17.0\n",
       "458    17.0\n",
       "459    24.0\n",
       "460     0.0\n",
       "461     0.2\n",
       "Name: fat_clean, Length: 462, dtype: float64"
      ]
     },
     "execution_count": 136,
     "metadata": {},
     "output_type": "execute_result"
    }
   ],
   "source": [
    "foodist['fat_clean'] = clean_fat(foodist['fat'])\n",
    "foodist['fat_clean']"
   ]
  },
  {
   "cell_type": "markdown",
   "id": "d0b2bbfb-89b0-41c1-99ab-20a20019b352",
   "metadata": {},
   "source": [
    "##### saturated fat"
   ]
  },
  {
   "cell_type": "code",
   "execution_count": 137,
   "id": "5ad37af5-b53d-4338-ac64-005b5959a377",
   "metadata": {},
   "outputs": [],
   "source": [
    "def sat_fat_finder(x): \n",
    "    try:\n",
    "        f = re.findall('\\Bsäuren\\s\\d+[,]\\d+|\\Bsäuren\\s\\d+', x)[0]\n",
    "        return f\n",
    "    except:\n",
    "        return None"
   ]
  },
  {
   "cell_type": "code",
   "execution_count": 138,
   "id": "9e8051d4-4508-442e-938b-c94c548c52cc",
   "metadata": {},
   "outputs": [
    {
     "data": {
      "text/plain": [
       "0       säuren 3,8\n",
       "1       säuren 1,8\n",
       "2      säuren 35,0\n",
       "3       säuren 4,7\n",
       "4       säuren 0,0\n",
       "          ...     \n",
       "457     säuren 1,0\n",
       "458     säuren 4,0\n",
       "459     säuren 3,5\n",
       "460     säuren 0,0\n",
       "461     säuren 0,2\n",
       "Name: sat_fat, Length: 462, dtype: object"
      ]
     },
     "execution_count": 138,
     "metadata": {},
     "output_type": "execute_result"
    }
   ],
   "source": [
    "foodist['sat_fat'] = foodist['nutritients'].apply(sat_fat_finder)\n",
    "foodist['sat_fat']"
   ]
  },
  {
   "cell_type": "code",
   "execution_count": 139,
   "id": "1ebd37f6-b81b-40c5-91bd-e4ac12781a19",
   "metadata": {},
   "outputs": [],
   "source": [
    "def clean_sat_fat(col):\n",
    "    \n",
    "    clean_sat_fat = []\n",
    "    \n",
    "    for p in col:\n",
    "        try:\n",
    "            p = p.replace('säuren ', '').replace(',', '.')\n",
    "            p = float(p)\n",
    "            clean_sat_fat.append(p)\n",
    "        \n",
    "        except:\n",
    "            clean_sat_fat.append(p)\n",
    "        \n",
    "    return clean_sat_fat"
   ]
  },
  {
   "cell_type": "code",
   "execution_count": 140,
   "id": "f9e96420-9f29-4627-b4af-c0efcbd634a0",
   "metadata": {},
   "outputs": [
    {
     "data": {
      "text/plain": [
       "0       3.8\n",
       "1       1.8\n",
       "2      35.0\n",
       "3       4.7\n",
       "4       0.0\n",
       "       ... \n",
       "457     1.0\n",
       "458     4.0\n",
       "459     3.5\n",
       "460     0.0\n",
       "461     0.2\n",
       "Name: sat_fat_clean, Length: 462, dtype: float64"
      ]
     },
     "execution_count": 140,
     "metadata": {},
     "output_type": "execute_result"
    }
   ],
   "source": [
    "foodist['sat_fat_clean'] = clean_sat_fat(foodist['sat_fat'])\n",
    "foodist['sat_fat_clean']"
   ]
  },
  {
   "cell_type": "markdown",
   "id": "f0c18c1e-35db-4512-8180-e9e6864ebd9a",
   "metadata": {},
   "source": [
    "##### carbs"
   ]
  },
  {
   "cell_type": "code",
   "execution_count": 141,
   "id": "c4f8817b-d5b5-4272-9064-d2a0a2c80983",
   "metadata": {},
   "outputs": [],
   "source": [
    "def carb_finder(x): \n",
    "    try:\n",
    "        f = re.findall('\\Bhydrate\\s\\d+[,]\\d+|\\Bhydrate\\s\\d+', x)[0]\n",
    "        return f\n",
    "    except:\n",
    "        return None"
   ]
  },
  {
   "cell_type": "code",
   "execution_count": 142,
   "id": "653054e4-0c4b-495a-80e6-e8911dd9e834",
   "metadata": {
    "tags": []
   },
   "outputs": [
    {
     "data": {
      "text/plain": [
       "0       hydrate 4,9\n",
       "1      hydrate 93,0\n",
       "2      hydrate 32,0\n",
       "3      hydrate 41,0\n",
       "4      hydrate 81,0\n",
       "           ...     \n",
       "457    hydrate 50,0\n",
       "458    hydrate 52,0\n",
       "459    hydrate 33,0\n",
       "460    hydrate 79,0\n",
       "461    hydrate 79,0\n",
       "Name: carbs, Length: 462, dtype: object"
      ]
     },
     "execution_count": 142,
     "metadata": {},
     "output_type": "execute_result"
    }
   ],
   "source": [
    "foodist['carbs'] = foodist['nutritients'].apply(carb_finder)\n",
    "foodist['carbs']"
   ]
  },
  {
   "cell_type": "code",
   "execution_count": 143,
   "id": "6ed91b49-cda3-46fb-a346-7f13f61cc114",
   "metadata": {},
   "outputs": [],
   "source": [
    "def clean_carbs(col):\n",
    "    \n",
    "    clean_carbs = []\n",
    "    \n",
    "    for p in col:\n",
    "        try:\n",
    "            p = p.replace('hydrate ', '').replace(',', '.')\n",
    "            p = float(p)\n",
    "            clean_carbs.append(p)\n",
    "        \n",
    "        except:\n",
    "            clean_carbs.append(p)\n",
    "        \n",
    "    return clean_carbs"
   ]
  },
  {
   "cell_type": "code",
   "execution_count": 144,
   "id": "9beef1ec-1a4c-45ae-8c01-567272b81460",
   "metadata": {},
   "outputs": [
    {
     "data": {
      "text/plain": [
       "0       4.9\n",
       "1      93.0\n",
       "2      32.0\n",
       "3      41.0\n",
       "4      81.0\n",
       "       ... \n",
       "457    50.0\n",
       "458    52.0\n",
       "459    33.0\n",
       "460    79.0\n",
       "461    79.0\n",
       "Name: carbs_clean, Length: 462, dtype: float64"
      ]
     },
     "execution_count": 144,
     "metadata": {},
     "output_type": "execute_result"
    }
   ],
   "source": [
    "foodist['carbs_clean'] = clean_carbs(foodist['carbs'])\n",
    "foodist['carbs_clean']"
   ]
  },
  {
   "cell_type": "markdown",
   "id": "4681db68-8151-42d5-be38-f721d7f36113",
   "metadata": {},
   "source": [
    "##### sugar"
   ]
  },
  {
   "cell_type": "code",
   "execution_count": 145,
   "id": "47fc0029-4b50-48d1-88d2-d1961b566bd5",
   "metadata": {},
   "outputs": [],
   "source": [
    "def sugar_finder(x): \n",
    "    try:\n",
    "        f = re.findall('\\Bucker\\s\\d+[,]\\d+|\\Bucker\\s\\d+', x)[0]\n",
    "        return f\n",
    "    except:\n",
    "        return None"
   ]
  },
  {
   "cell_type": "code",
   "execution_count": 146,
   "id": "323566d5-fa58-4692-8ebc-4a54cbc4dca0",
   "metadata": {},
   "outputs": [
    {
     "data": {
      "text/plain": [
       "0       ucker 0,8\n",
       "1       ucker 0,0\n",
       "2      ucker 25,5\n",
       "3       ucker 3,2\n",
       "4      ucker 69,0\n",
       "          ...    \n",
       "457    ucker 35,0\n",
       "458    ucker 35,0\n",
       "459    ucker 31,0\n",
       "460    ucker 63,0\n",
       "461    ucker 61,0\n",
       "Name: sugar, Length: 462, dtype: object"
      ]
     },
     "execution_count": 146,
     "metadata": {},
     "output_type": "execute_result"
    }
   ],
   "source": [
    "foodist['sugar'] = foodist['nutritients'].apply(sugar_finder)\n",
    "foodist['sugar']"
   ]
  },
  {
   "cell_type": "code",
   "execution_count": 147,
   "id": "2569520f-302b-4273-ad1d-de110b23e87a",
   "metadata": {},
   "outputs": [],
   "source": [
    "def clean_sugar(col):\n",
    "    \n",
    "    clean_sugar = []\n",
    "    \n",
    "    for p in col:\n",
    "        try:\n",
    "            p = p.replace('ucker ', '').replace(',', '.')\n",
    "            p = float(p)\n",
    "            clean_sugar.append(p)\n",
    "        \n",
    "        except:\n",
    "            clean_sugar.append(p)\n",
    "        \n",
    "    return clean_sugar"
   ]
  },
  {
   "cell_type": "code",
   "execution_count": 148,
   "id": "e94db99b-dcfa-46f1-9e39-e00f64edce94",
   "metadata": {},
   "outputs": [
    {
     "data": {
      "text/plain": [
       "0       0.8\n",
       "1       0.0\n",
       "2      25.5\n",
       "3       3.2\n",
       "4      69.0\n",
       "       ... \n",
       "457    35.0\n",
       "458    35.0\n",
       "459    31.0\n",
       "460    63.0\n",
       "461    61.0\n",
       "Name: sugar_clean, Length: 462, dtype: float64"
      ]
     },
     "execution_count": 148,
     "metadata": {},
     "output_type": "execute_result"
    }
   ],
   "source": [
    "foodist['sugar_clean'] = clean_sugar(foodist['sugar'])\n",
    "foodist['sugar_clean']"
   ]
  },
  {
   "cell_type": "markdown",
   "id": "7ed8cd02-81ad-4aeb-af6d-2c0b642db428",
   "metadata": {},
   "source": [
    "##### protein"
   ]
  },
  {
   "cell_type": "code",
   "execution_count": 149,
   "id": "bd6d0034-83aa-4607-8599-87a06d7b83ef",
   "metadata": {},
   "outputs": [],
   "source": [
    "def protein_finder(x): \n",
    "    try:\n",
    "        f = re.findall('\\Bweiß\\s\\d+[,]\\d+|\\Bweiß\\s\\d+', x)[0]\n",
    "        return f\n",
    "    except:\n",
    "        return None"
   ]
  },
  {
   "cell_type": "code",
   "execution_count": 150,
   "id": "a3327e36-d823-44d2-bd1d-24ee7de89649",
   "metadata": {},
   "outputs": [
    {
     "data": {
      "text/plain": [
       "0      weiß 21,0\n",
       "1       weiß 0,0\n",
       "2       weiß 5,6\n",
       "3      weiß 14,0\n",
       "4       weiß 0,5\n",
       "         ...    \n",
       "457     weiß 9,0\n",
       "458     weiß 9,0\n",
       "459    weiß 15,0\n",
       "460     weiß 0,0\n",
       "461     weiß 0,1\n",
       "Name: protein, Length: 462, dtype: object"
      ]
     },
     "execution_count": 150,
     "metadata": {},
     "output_type": "execute_result"
    }
   ],
   "source": [
    "foodist['protein'] = foodist['nutritients'].apply(protein_finder)\n",
    "foodist['protein']"
   ]
  },
  {
   "cell_type": "code",
   "execution_count": 151,
   "id": "75bca6c5-6827-44da-9559-3980e22bac4c",
   "metadata": {},
   "outputs": [],
   "source": [
    "def clean_protein(col):\n",
    "    \n",
    "    clean_protein = []\n",
    "    \n",
    "    for p in col:\n",
    "        try:\n",
    "            p = p.replace('weiß ', '').replace(',', '.')\n",
    "            p = float(p)\n",
    "            clean_protein.append(p)\n",
    "        \n",
    "        except:\n",
    "            clean_protein.append(p)\n",
    "        \n",
    "    return clean_protein"
   ]
  },
  {
   "cell_type": "code",
   "execution_count": 152,
   "id": "c3245acf-baf9-425d-8339-4be6fb49bcf4",
   "metadata": {},
   "outputs": [
    {
     "data": {
      "text/plain": [
       "0      21.0\n",
       "1       0.0\n",
       "2       5.6\n",
       "3      14.0\n",
       "4       0.5\n",
       "       ... \n",
       "457     9.0\n",
       "458     9.0\n",
       "459    15.0\n",
       "460     0.0\n",
       "461     0.1\n",
       "Name: protein_clean, Length: 462, dtype: float64"
      ]
     },
     "execution_count": 152,
     "metadata": {},
     "output_type": "execute_result"
    }
   ],
   "source": [
    "foodist['protein_clean'] = clean_protein(foodist['protein'])\n",
    "foodist['protein_clean']"
   ]
  },
  {
   "cell_type": "markdown",
   "id": "3d03cf3a-65af-4851-b513-702cccab2dfa",
   "metadata": {},
   "source": [
    "##### fibre"
   ]
  },
  {
   "cell_type": "code",
   "execution_count": 153,
   "id": "4bf0ecd0-090b-41bc-b4e1-6992036bb1bf",
   "metadata": {},
   "outputs": [],
   "source": [
    "def fibre_finder(x): \n",
    "    try:\n",
    "        f = re.findall('\\Bstoffe\\s\\d+[,]\\d+|\\Bstoffe\\s\\d+', x)[0]\n",
    "        return f\n",
    "    except:\n",
    "        return None"
   ]
  },
  {
   "cell_type": "code",
   "execution_count": 154,
   "id": "33fd6d1b-bf79-413f-b54d-4f2de98a25f4",
   "metadata": {},
   "outputs": [
    {
     "data": {
      "text/plain": [
       "0      stoffe 34,0\n",
       "1             None\n",
       "2       stoffe 7,6\n",
       "3      stoffe 12,0\n",
       "4             None\n",
       "          ...     \n",
       "457     stoffe 8,0\n",
       "458     stoffe 8,0\n",
       "459    stoffe 13,0\n",
       "460           None\n",
       "461           None\n",
       "Name: fibre, Length: 462, dtype: object"
      ]
     },
     "execution_count": 154,
     "metadata": {},
     "output_type": "execute_result"
    }
   ],
   "source": [
    "foodist['fibre'] = foodist['nutritients'].apply(fibre_finder)\n",
    "foodist['fibre']"
   ]
  },
  {
   "cell_type": "code",
   "execution_count": 155,
   "id": "af95ad18-0dd9-4340-a06c-69b512bdd51f",
   "metadata": {},
   "outputs": [],
   "source": [
    "def clean_fibre(col):\n",
    "    \n",
    "    clean_fibre = []\n",
    "    \n",
    "    for p in col:\n",
    "        try:\n",
    "            p = p.replace('stoffe ', '').replace(',', '.')\n",
    "            p = float(p)\n",
    "            clean_fibre.append(p)\n",
    "        \n",
    "        except:\n",
    "            clean_fibre.append(p)\n",
    "        \n",
    "    return clean_fibre"
   ]
  },
  {
   "cell_type": "code",
   "execution_count": 157,
   "id": "6f499e65-332c-4c59-bfaa-394a2897b668",
   "metadata": {},
   "outputs": [
    {
     "data": {
      "text/plain": [
       "0      34.0\n",
       "1       NaN\n",
       "2       7.6\n",
       "3      12.0\n",
       "4       NaN\n",
       "       ... \n",
       "457     8.0\n",
       "458     8.0\n",
       "459    13.0\n",
       "460     NaN\n",
       "461     NaN\n",
       "Name: fibre_clean, Length: 462, dtype: float64"
      ]
     },
     "execution_count": 157,
     "metadata": {},
     "output_type": "execute_result"
    }
   ],
   "source": [
    "foodist['fibre_clean'] = clean_fibre(foodist['fibre'])\n",
    "foodist['fibre_clean']"
   ]
  },
  {
   "cell_type": "markdown",
   "id": "ad9aa592-d16d-4727-8bb0-02ad9913925f",
   "metadata": {},
   "source": [
    "##### salt"
   ]
  },
  {
   "cell_type": "code",
   "execution_count": 158,
   "id": "35a8ec56-c983-45c2-a73e-aa7fe7262a2d",
   "metadata": {},
   "outputs": [],
   "source": [
    "def salt_finder(x): \n",
    "    try:\n",
    "        f = re.findall('\\Balz\\s\\d+[,]\\d+|\\Balz\\s\\d+', x)[0]\n",
    "        return f\n",
    "    except:\n",
    "        return None"
   ]
  },
  {
   "cell_type": "code",
   "execution_count": 159,
   "id": "521e5870-66a6-41ba-9945-685b897f7167",
   "metadata": {},
   "outputs": [
    {
     "data": {
      "text/plain": [
       "0      alz 0,00\n",
       "1      alz 0,40\n",
       "2      alz 0,13\n",
       "3      alz 2,00\n",
       "4      alz 0,20\n",
       "         ...   \n",
       "457    alz 0,01\n",
       "458    alz 0,01\n",
       "459    alz 0,02\n",
       "460    alz 0,22\n",
       "461    alz 0,21\n",
       "Name: salt, Length: 462, dtype: object"
      ]
     },
     "execution_count": 159,
     "metadata": {},
     "output_type": "execute_result"
    }
   ],
   "source": [
    "foodist['salt'] = foodist['nutritients'].apply(salt_finder)\n",
    "foodist['salt']"
   ]
  },
  {
   "cell_type": "code",
   "execution_count": 160,
   "id": "2e884a6d-c215-4ac7-a508-01b716cfedc9",
   "metadata": {},
   "outputs": [],
   "source": [
    "def clean_salt(col):\n",
    "    \n",
    "    clean_salt = []\n",
    "    \n",
    "    for p in col:\n",
    "        try:\n",
    "            p = p.replace('alz ', '').replace(',', '.')\n",
    "            p = float(p)\n",
    "            clean_salt.append(p)\n",
    "        \n",
    "        except:\n",
    "            clean_salt.append(p)\n",
    "        \n",
    "    return clean_salt"
   ]
  },
  {
   "cell_type": "code",
   "execution_count": 161,
   "id": "b2dea6c9-3e1d-45df-9f34-694cbffb88fe",
   "metadata": {},
   "outputs": [
    {
     "data": {
      "text/plain": [
       "0      0.00\n",
       "1      0.40\n",
       "2      0.13\n",
       "3      2.00\n",
       "4      0.20\n",
       "       ... \n",
       "457    0.01\n",
       "458    0.01\n",
       "459    0.02\n",
       "460    0.22\n",
       "461    0.21\n",
       "Name: salt_clean, Length: 462, dtype: float64"
      ]
     },
     "execution_count": 161,
     "metadata": {},
     "output_type": "execute_result"
    }
   ],
   "source": [
    "foodist['salt_clean'] = clean_salt(foodist['salt'])\n",
    "foodist['salt_clean']"
   ]
  },
  {
   "cell_type": "markdown",
   "id": "7e1a358e-dc1f-4987-aedc-1dc516384e86",
   "metadata": {},
   "source": [
    "### Cleaning final dataframe"
   ]
  },
  {
   "cell_type": "code",
   "execution_count": 162,
   "id": "79540a11-7bc1-49d5-8c5d-86f6731162a1",
   "metadata": {},
   "outputs": [
    {
     "name": "stdout",
     "output_type": "stream",
     "text": [
      "<class 'pandas.core.frame.DataFrame'>\n",
      "RangeIndex: 462 entries, 0 to 461\n",
      "Data columns (total 28 columns):\n",
      " #   Column         Non-Null Count  Dtype  \n",
      "---  ------         --------------  -----  \n",
      " 0   name           462 non-null    object \n",
      " 1   brand          462 non-null    object \n",
      " 2   links          462 non-null    object \n",
      " 3   price          462 non-null    object \n",
      " 4   weight         462 non-null    object \n",
      " 5   price_gr       462 non-null    object \n",
      " 6   nutritients    462 non-null    object \n",
      " 7   photo_link     462 non-null    object \n",
      " 8   weight_clean   462 non-null    float64\n",
      " 9   price_clean    462 non-null    float64\n",
      " 10  kj             462 non-null    object \n",
      " 11  kj_clean       462 non-null    float64\n",
      " 12  kcal           462 non-null    object \n",
      " 13  kcal_clean     462 non-null    float64\n",
      " 14  fat            462 non-null    object \n",
      " 15  fat_clean      462 non-null    float64\n",
      " 16  sat_fat        462 non-null    object \n",
      " 17  sat_fat_clean  462 non-null    float64\n",
      " 18  carbs          462 non-null    object \n",
      " 19  carbs_clean    462 non-null    float64\n",
      " 20  sugar          462 non-null    object \n",
      " 21  sugar_clean    462 non-null    float64\n",
      " 22  protein        462 non-null    object \n",
      " 23  protein_clean  462 non-null    float64\n",
      " 24  fibre          306 non-null    object \n",
      " 25  fibre_clean    306 non-null    float64\n",
      " 26  salt           462 non-null    object \n",
      " 27  salt_clean     462 non-null    float64\n",
      "dtypes: float64(11), object(17)\n",
      "memory usage: 101.2+ KB\n"
     ]
    }
   ],
   "source": [
    "foodist.info()"
   ]
  },
  {
   "cell_type": "code",
   "execution_count": 163,
   "id": "fb90866c-df61-487c-93be-b0e0fdf7b0d5",
   "metadata": {},
   "outputs": [
    {
     "data": {
      "text/html": [
       "<div>\n",
       "<style scoped>\n",
       "    .dataframe tbody tr th:only-of-type {\n",
       "        vertical-align: middle;\n",
       "    }\n",
       "\n",
       "    .dataframe tbody tr th {\n",
       "        vertical-align: top;\n",
       "    }\n",
       "\n",
       "    .dataframe thead th {\n",
       "        text-align: right;\n",
       "    }\n",
       "</style>\n",
       "<table border=\"1\" class=\"dataframe\">\n",
       "  <thead>\n",
       "    <tr style=\"text-align: right;\">\n",
       "      <th></th>\n",
       "      <th>name</th>\n",
       "      <th>brand</th>\n",
       "      <th>links</th>\n",
       "      <th>price</th>\n",
       "      <th>weight</th>\n",
       "      <th>price_gr</th>\n",
       "      <th>nutritients</th>\n",
       "      <th>photo_link</th>\n",
       "      <th>weight_clean</th>\n",
       "      <th>price_clean</th>\n",
       "      <th>...</th>\n",
       "      <th>carbs</th>\n",
       "      <th>carbs_clean</th>\n",
       "      <th>sugar</th>\n",
       "      <th>sugar_clean</th>\n",
       "      <th>protein</th>\n",
       "      <th>protein_clean</th>\n",
       "      <th>fibre</th>\n",
       "      <th>fibre_clean</th>\n",
       "      <th>salt</th>\n",
       "      <th>salt_clean</th>\n",
       "    </tr>\n",
       "  </thead>\n",
       "  <tbody>\n",
       "    <tr>\n",
       "      <th>0</th>\n",
       "      <td>BIO Chiasamen 1kg</td>\n",
       "      <td>Foodist</td>\n",
       "      <td>https://www.foodist.de/foodist-bio-chiasamen-1...</td>\n",
       "      <td>8,95 €</td>\n",
       "      <td>Inhalt:  1000 g</td>\n",
       "      <td>0,90 € / 100 g</td>\n",
       "      <td>Brennwert 1.901 kJ(454 kcal)   Fett 31,0 g  ...</td>\n",
       "      <td>https://foodist.imgix.net/media/image/42604537...</td>\n",
       "      <td>1.00</td>\n",
       "      <td>8.95</td>\n",
       "      <td>...</td>\n",
       "      <td>hydrate 4,9</td>\n",
       "      <td>4.9</td>\n",
       "      <td>ucker 0,8</td>\n",
       "      <td>0.8</td>\n",
       "      <td>weiß 21,0</td>\n",
       "      <td>21.0</td>\n",
       "      <td>stoffe 34,0</td>\n",
       "      <td>34.0</td>\n",
       "      <td>alz 0,00</td>\n",
       "      <td>0.00</td>\n",
       "    </tr>\n",
       "    <tr>\n",
       "      <th>1</th>\n",
       "      <td>Xylit Bonbons Orange</td>\n",
       "      <td>Birkengold</td>\n",
       "      <td>https://www.foodist.de/birkengold-xylit-bonbon...</td>\n",
       "      <td>2,50 €</td>\n",
       "      <td>Inhalt:  30 g</td>\n",
       "      <td>8,33 € / 100 g</td>\n",
       "      <td>Brennwert 1.072 kJ(257 kcal)   Fett 1,8 g   ...</td>\n",
       "      <td>https://foodist.imgix.net/media/image/91200488...</td>\n",
       "      <td>0.03</td>\n",
       "      <td>2.50</td>\n",
       "      <td>...</td>\n",
       "      <td>hydrate 93,0</td>\n",
       "      <td>93.0</td>\n",
       "      <td>ucker 0,0</td>\n",
       "      <td>0.0</td>\n",
       "      <td>weiß 0,0</td>\n",
       "      <td>0.0</td>\n",
       "      <td>None</td>\n",
       "      <td>NaN</td>\n",
       "      <td>alz 0,40</td>\n",
       "      <td>0.40</td>\n",
       "    </tr>\n",
       "    <tr>\n",
       "      <th>2</th>\n",
       "      <td>Schokolade &amp; Spielzeug Weihnachten</td>\n",
       "      <td>PLAYin Choc</td>\n",
       "      <td>https://www.foodist.de/playin-choc-schokolade-...</td>\n",
       "      <td>4,00 €</td>\n",
       "      <td>Inhalt:  20 g</td>\n",
       "      <td>20,00 € / 100 g</td>\n",
       "      <td>Brennwert 2.609 kJ(630 kcal)   Fett 51,6 g  ...</td>\n",
       "      <td>https://foodist.imgix.net/media/image/50605485...</td>\n",
       "      <td>0.02</td>\n",
       "      <td>4.00</td>\n",
       "      <td>...</td>\n",
       "      <td>hydrate 32,0</td>\n",
       "      <td>32.0</td>\n",
       "      <td>ucker 25,5</td>\n",
       "      <td>25.5</td>\n",
       "      <td>weiß 5,6</td>\n",
       "      <td>5.6</td>\n",
       "      <td>stoffe 7,6</td>\n",
       "      <td>7.6</td>\n",
       "      <td>alz 0,13</td>\n",
       "      <td>0.13</td>\n",
       "    </tr>\n",
       "    <tr>\n",
       "      <th>3</th>\n",
       "      <td>Waffelteig gefüllt mit Erdnussbutter \"Nutisfac...</td>\n",
       "      <td>Paddies</td>\n",
       "      <td>https://www.foodist.de/paddies-waffelteig-gefu...</td>\n",
       "      <td>1,99 €</td>\n",
       "      <td>Inhalt:  70 g</td>\n",
       "      <td>2,84 € / 100 g</td>\n",
       "      <td>Brennwert 1.742 kJ(418 kcal)   Fett 25,0 g  ...</td>\n",
       "      <td>https://foodist.imgix.net/media/image/91201027...</td>\n",
       "      <td>0.07</td>\n",
       "      <td>1.99</td>\n",
       "      <td>...</td>\n",
       "      <td>hydrate 41,0</td>\n",
       "      <td>41.0</td>\n",
       "      <td>ucker 3,2</td>\n",
       "      <td>3.2</td>\n",
       "      <td>weiß 14,0</td>\n",
       "      <td>14.0</td>\n",
       "      <td>stoffe 12,0</td>\n",
       "      <td>12.0</td>\n",
       "      <td>alz 2,00</td>\n",
       "      <td>2.00</td>\n",
       "    </tr>\n",
       "    <tr>\n",
       "      <th>4</th>\n",
       "      <td>BIO Marshmallows mit Vanillegeschmack \"Marilyn...</td>\n",
       "      <td>Not Guilty</td>\n",
       "      <td>https://www.foodist.de/not-guilty-bio-marshmal...</td>\n",
       "      <td>1,90 €</td>\n",
       "      <td>Inhalt:  80 g</td>\n",
       "      <td>2,38 € / 100 g</td>\n",
       "      <td>Brennwert 1.386 kJ(326 kcal)   Fett 0,0 g   ...</td>\n",
       "      <td>https://foodist.imgix.net/media/image/36634580...</td>\n",
       "      <td>0.08</td>\n",
       "      <td>1.90</td>\n",
       "      <td>...</td>\n",
       "      <td>hydrate 81,0</td>\n",
       "      <td>81.0</td>\n",
       "      <td>ucker 69,0</td>\n",
       "      <td>69.0</td>\n",
       "      <td>weiß 0,5</td>\n",
       "      <td>0.5</td>\n",
       "      <td>None</td>\n",
       "      <td>NaN</td>\n",
       "      <td>alz 0,20</td>\n",
       "      <td>0.20</td>\n",
       "    </tr>\n",
       "  </tbody>\n",
       "</table>\n",
       "<p>5 rows × 28 columns</p>\n",
       "</div>"
      ],
      "text/plain": [
       "                                                name        brand  \\\n",
       "0                                  BIO Chiasamen 1kg      Foodist   \n",
       "1                               Xylit Bonbons Orange   Birkengold   \n",
       "2                 Schokolade & Spielzeug Weihnachten  PLAYin Choc   \n",
       "3  Waffelteig gefüllt mit Erdnussbutter \"Nutisfac...      Paddies   \n",
       "4  BIO Marshmallows mit Vanillegeschmack \"Marilyn...   Not Guilty   \n",
       "\n",
       "                                               links      price  \\\n",
       "0  https://www.foodist.de/foodist-bio-chiasamen-1...    8,95 €    \n",
       "1  https://www.foodist.de/birkengold-xylit-bonbon...    2,50 €    \n",
       "2  https://www.foodist.de/playin-choc-schokolade-...    4,00 €    \n",
       "3  https://www.foodist.de/paddies-waffelteig-gefu...    1,99 €    \n",
       "4  https://www.foodist.de/not-guilty-bio-marshmal...    1,90 €    \n",
       "\n",
       "               weight           price_gr  \\\n",
       "0    Inhalt:  1000 g     0,90 € / 100 g    \n",
       "1      Inhalt:  30 g     8,33 € / 100 g    \n",
       "2      Inhalt:  20 g    20,00 € / 100 g    \n",
       "3      Inhalt:  70 g     2,84 € / 100 g    \n",
       "4      Inhalt:  80 g     2,38 € / 100 g    \n",
       "\n",
       "                                         nutritients  \\\n",
       "0    Brennwert 1.901 kJ(454 kcal)   Fett 31,0 g  ...   \n",
       "1    Brennwert 1.072 kJ(257 kcal)   Fett 1,8 g   ...   \n",
       "2    Brennwert 2.609 kJ(630 kcal)   Fett 51,6 g  ...   \n",
       "3    Brennwert 1.742 kJ(418 kcal)   Fett 25,0 g  ...   \n",
       "4    Brennwert 1.386 kJ(326 kcal)   Fett 0,0 g   ...   \n",
       "\n",
       "                                          photo_link  weight_clean  \\\n",
       "0  https://foodist.imgix.net/media/image/42604537...          1.00   \n",
       "1  https://foodist.imgix.net/media/image/91200488...          0.03   \n",
       "2  https://foodist.imgix.net/media/image/50605485...          0.02   \n",
       "3  https://foodist.imgix.net/media/image/91201027...          0.07   \n",
       "4  https://foodist.imgix.net/media/image/36634580...          0.08   \n",
       "\n",
       "   price_clean  ...         carbs  carbs_clean       sugar  sugar_clean  \\\n",
       "0         8.95  ...   hydrate 4,9          4.9   ucker 0,8          0.8   \n",
       "1         2.50  ...  hydrate 93,0         93.0   ucker 0,0          0.0   \n",
       "2         4.00  ...  hydrate 32,0         32.0  ucker 25,5         25.5   \n",
       "3         1.99  ...  hydrate 41,0         41.0   ucker 3,2          3.2   \n",
       "4         1.90  ...  hydrate 81,0         81.0  ucker 69,0         69.0   \n",
       "\n",
       "     protein  protein_clean        fibre  fibre_clean      salt  salt_clean  \n",
       "0  weiß 21,0           21.0  stoffe 34,0         34.0  alz 0,00        0.00  \n",
       "1   weiß 0,0            0.0         None          NaN  alz 0,40        0.40  \n",
       "2   weiß 5,6            5.6   stoffe 7,6          7.6  alz 0,13        0.13  \n",
       "3  weiß 14,0           14.0  stoffe 12,0         12.0  alz 2,00        2.00  \n",
       "4   weiß 0,5            0.5         None          NaN  alz 0,20        0.20  \n",
       "\n",
       "[5 rows x 28 columns]"
      ]
     },
     "execution_count": 163,
     "metadata": {},
     "output_type": "execute_result"
    }
   ],
   "source": [
    "foodist.head()"
   ]
  },
  {
   "cell_type": "code",
   "execution_count": 165,
   "id": "8c9929a5-d5c3-47b8-b827-c60bbe5e8786",
   "metadata": {},
   "outputs": [],
   "source": [
    "drop_list = ['price', 'weight', 'price_gr', 'nutritients', 'kj', 'kcal', 'fat', 'sat_fat', 'carbs', 'sugar', 'protein', 'fibre', 'salt']\n",
    "foodist = foodist.drop(drop_list, axis=1)"
   ]
  },
  {
   "cell_type": "code",
   "execution_count": 166,
   "id": "49004f9b-8051-4023-b2ee-7eeda80a13c0",
   "metadata": {},
   "outputs": [],
   "source": [
    "foodist = foodist.reindex(columns=['name', 'brand','price_clean', 'weight_clean', 'kj_clean', 'kcal_clean', 'fat_clean', 'sat_fat_clean', 'carbs_clean', \n",
    "                               'sugar_clean', 'fibre_clean', 'protein_clean', 'salt_clean', 'links', 'photo_link'])"
   ]
  },
  {
   "cell_type": "code",
   "execution_count": 240,
   "id": "38e6e559-cc34-40ab-a183-77bef0b33940",
   "metadata": {},
   "outputs": [
    {
     "data": {
      "text/html": [
       "<div>\n",
       "<style scoped>\n",
       "    .dataframe tbody tr th:only-of-type {\n",
       "        vertical-align: middle;\n",
       "    }\n",
       "\n",
       "    .dataframe tbody tr th {\n",
       "        vertical-align: top;\n",
       "    }\n",
       "\n",
       "    .dataframe thead th {\n",
       "        text-align: right;\n",
       "    }\n",
       "</style>\n",
       "<table border=\"1\" class=\"dataframe\">\n",
       "  <thead>\n",
       "    <tr style=\"text-align: right;\">\n",
       "      <th></th>\n",
       "      <th>name</th>\n",
       "      <th>brand</th>\n",
       "      <th>price_clean</th>\n",
       "      <th>weight_clean</th>\n",
       "      <th>kj_clean</th>\n",
       "      <th>kcal_clean</th>\n",
       "      <th>fat_clean</th>\n",
       "      <th>sat_fat_clean</th>\n",
       "      <th>carbs_clean</th>\n",
       "      <th>sugar_clean</th>\n",
       "      <th>fibre_clean</th>\n",
       "      <th>protein_clean</th>\n",
       "      <th>salt_clean</th>\n",
       "      <th>links</th>\n",
       "      <th>photo_link</th>\n",
       "    </tr>\n",
       "  </thead>\n",
       "  <tbody>\n",
       "    <tr>\n",
       "      <th>0</th>\n",
       "      <td>BIO Chiasamen 1kg</td>\n",
       "      <td>Foodist</td>\n",
       "      <td>8.95</td>\n",
       "      <td>1.00</td>\n",
       "      <td>1901.0</td>\n",
       "      <td>454.0</td>\n",
       "      <td>31.0</td>\n",
       "      <td>3.8</td>\n",
       "      <td>4.9</td>\n",
       "      <td>0.8</td>\n",
       "      <td>34.0</td>\n",
       "      <td>21.0</td>\n",
       "      <td>0.00</td>\n",
       "      <td>https://www.foodist.de/foodist-bio-chiasamen-1...</td>\n",
       "      <td>https://foodist.imgix.net/media/image/42604537...</td>\n",
       "    </tr>\n",
       "    <tr>\n",
       "      <th>1</th>\n",
       "      <td>Xylit Bonbons Orange</td>\n",
       "      <td>Birkengold</td>\n",
       "      <td>2.50</td>\n",
       "      <td>0.03</td>\n",
       "      <td>1072.0</td>\n",
       "      <td>257.0</td>\n",
       "      <td>1.8</td>\n",
       "      <td>1.8</td>\n",
       "      <td>93.0</td>\n",
       "      <td>0.0</td>\n",
       "      <td>NaN</td>\n",
       "      <td>0.0</td>\n",
       "      <td>0.40</td>\n",
       "      <td>https://www.foodist.de/birkengold-xylit-bonbon...</td>\n",
       "      <td>https://foodist.imgix.net/media/image/91200488...</td>\n",
       "    </tr>\n",
       "    <tr>\n",
       "      <th>2</th>\n",
       "      <td>Schokolade &amp; Spielzeug Weihnachten</td>\n",
       "      <td>PLAYin Choc</td>\n",
       "      <td>4.00</td>\n",
       "      <td>0.02</td>\n",
       "      <td>2609.0</td>\n",
       "      <td>630.0</td>\n",
       "      <td>51.6</td>\n",
       "      <td>35.0</td>\n",
       "      <td>32.0</td>\n",
       "      <td>25.5</td>\n",
       "      <td>7.6</td>\n",
       "      <td>5.6</td>\n",
       "      <td>0.13</td>\n",
       "      <td>https://www.foodist.de/playin-choc-schokolade-...</td>\n",
       "      <td>https://foodist.imgix.net/media/image/50605485...</td>\n",
       "    </tr>\n",
       "    <tr>\n",
       "      <th>3</th>\n",
       "      <td>Waffelteig gefüllt mit Erdnussbutter \"Nutisfac...</td>\n",
       "      <td>Paddies</td>\n",
       "      <td>1.99</td>\n",
       "      <td>0.07</td>\n",
       "      <td>1742.0</td>\n",
       "      <td>418.0</td>\n",
       "      <td>25.0</td>\n",
       "      <td>4.7</td>\n",
       "      <td>41.0</td>\n",
       "      <td>3.2</td>\n",
       "      <td>12.0</td>\n",
       "      <td>14.0</td>\n",
       "      <td>2.00</td>\n",
       "      <td>https://www.foodist.de/paddies-waffelteig-gefu...</td>\n",
       "      <td>https://foodist.imgix.net/media/image/91201027...</td>\n",
       "    </tr>\n",
       "    <tr>\n",
       "      <th>4</th>\n",
       "      <td>BIO Marshmallows mit Vanillegeschmack \"Marilyn...</td>\n",
       "      <td>Not Guilty</td>\n",
       "      <td>1.90</td>\n",
       "      <td>0.08</td>\n",
       "      <td>1386.0</td>\n",
       "      <td>326.0</td>\n",
       "      <td>0.0</td>\n",
       "      <td>0.0</td>\n",
       "      <td>81.0</td>\n",
       "      <td>69.0</td>\n",
       "      <td>NaN</td>\n",
       "      <td>0.5</td>\n",
       "      <td>0.20</td>\n",
       "      <td>https://www.foodist.de/not-guilty-bio-marshmal...</td>\n",
       "      <td>https://foodist.imgix.net/media/image/36634580...</td>\n",
       "    </tr>\n",
       "  </tbody>\n",
       "</table>\n",
       "</div>"
      ],
      "text/plain": [
       "                                                name        brand  \\\n",
       "0                                  BIO Chiasamen 1kg      Foodist   \n",
       "1                               Xylit Bonbons Orange   Birkengold   \n",
       "2                 Schokolade & Spielzeug Weihnachten  PLAYin Choc   \n",
       "3  Waffelteig gefüllt mit Erdnussbutter \"Nutisfac...      Paddies   \n",
       "4  BIO Marshmallows mit Vanillegeschmack \"Marilyn...   Not Guilty   \n",
       "\n",
       "   price_clean  weight_clean  kj_clean  kcal_clean  fat_clean  sat_fat_clean  \\\n",
       "0         8.95          1.00    1901.0       454.0       31.0            3.8   \n",
       "1         2.50          0.03    1072.0       257.0        1.8            1.8   \n",
       "2         4.00          0.02    2609.0       630.0       51.6           35.0   \n",
       "3         1.99          0.07    1742.0       418.0       25.0            4.7   \n",
       "4         1.90          0.08    1386.0       326.0        0.0            0.0   \n",
       "\n",
       "   carbs_clean  sugar_clean  fibre_clean  protein_clean  salt_clean  \\\n",
       "0          4.9          0.8         34.0           21.0        0.00   \n",
       "1         93.0          0.0          NaN            0.0        0.40   \n",
       "2         32.0         25.5          7.6            5.6        0.13   \n",
       "3         41.0          3.2         12.0           14.0        2.00   \n",
       "4         81.0         69.0          NaN            0.5        0.20   \n",
       "\n",
       "                                               links  \\\n",
       "0  https://www.foodist.de/foodist-bio-chiasamen-1...   \n",
       "1  https://www.foodist.de/birkengold-xylit-bonbon...   \n",
       "2  https://www.foodist.de/playin-choc-schokolade-...   \n",
       "3  https://www.foodist.de/paddies-waffelteig-gefu...   \n",
       "4  https://www.foodist.de/not-guilty-bio-marshmal...   \n",
       "\n",
       "                                          photo_link  \n",
       "0  https://foodist.imgix.net/media/image/42604537...  \n",
       "1  https://foodist.imgix.net/media/image/91200488...  \n",
       "2  https://foodist.imgix.net/media/image/50605485...  \n",
       "3  https://foodist.imgix.net/media/image/91201027...  \n",
       "4  https://foodist.imgix.net/media/image/36634580...  "
      ]
     },
     "execution_count": 240,
     "metadata": {},
     "output_type": "execute_result"
    }
   ],
   "source": [
    "foodist.head()"
   ]
  },
  {
   "cell_type": "code",
   "execution_count": 241,
   "id": "d71d9adc-f5c6-45be-8f57-48c0dee04fb9",
   "metadata": {},
   "outputs": [
    {
     "name": "stdout",
     "output_type": "stream",
     "text": [
      "<class 'pandas.core.frame.DataFrame'>\n",
      "RangeIndex: 462 entries, 0 to 461\n",
      "Data columns (total 15 columns):\n",
      " #   Column        Non-Null Count  Dtype  \n",
      "---  ------        --------------  -----  \n",
      " 0   product       462 non-null    object \n",
      " 1   brand         462 non-null    object \n",
      " 2   price         462 non-null    float64\n",
      " 3   weight        462 non-null    float64\n",
      " 4   kj            462 non-null    float64\n",
      " 5   kcal          462 non-null    float64\n",
      " 6   fat           462 non-null    float64\n",
      " 7   sat_fat       462 non-null    float64\n",
      " 8   carbs         462 non-null    float64\n",
      " 9   sugar         462 non-null    float64\n",
      " 10  fibre         306 non-null    float64\n",
      " 11  protein       462 non-null    float64\n",
      " 12  salt          462 non-null    float64\n",
      " 13  product_link  462 non-null    object \n",
      " 14  photo_link    462 non-null    object \n",
      "dtypes: float64(11), object(4)\n",
      "memory usage: 54.3+ KB\n"
     ]
    }
   ],
   "source": [
    "column_names = ['product', 'brand', 'price', 'weight', 'kj', 'kcal', 'fat', 'sat_fat', 'carbs', 'sugar', 'fibre', 'protein', 'salt', 'product_link', 'photo_link']\n",
    "\n",
    "foodist.columns = column_names\n",
    "foodist.info()"
   ]
  },
  {
   "cell_type": "markdown",
   "id": "713bc7bd-dbdf-4bac-b37d-24850c11acc6",
   "metadata": {},
   "source": [
    "## Concatenating dataframes"
   ]
  },
  {
   "cell_type": "code",
   "execution_count": 304,
   "id": "03f44208-e484-418c-ac1b-fb19ee7fdd94",
   "metadata": {},
   "outputs": [],
   "source": [
    "final_df = pd.concat([koro, kokku, foodist], axis=0)"
   ]
  },
  {
   "cell_type": "code",
   "execution_count": 305,
   "id": "39bdc58d-f886-44c5-83f6-d57f1ec33800",
   "metadata": {},
   "outputs": [
    {
     "data": {
      "text/plain": [
       "(1232, 15)"
      ]
     },
     "execution_count": 305,
     "metadata": {},
     "output_type": "execute_result"
    }
   ],
   "source": [
    "final_df.shape"
   ]
  },
  {
   "cell_type": "code",
   "execution_count": 306,
   "id": "d70dcac7-93ce-4739-9432-451a42fe565c",
   "metadata": {},
   "outputs": [
    {
     "name": "stdout",
     "output_type": "stream",
     "text": [
      "<class 'pandas.core.frame.DataFrame'>\n",
      "Int64Index: 1232 entries, 0 to 461\n",
      "Data columns (total 15 columns):\n",
      " #   Column        Non-Null Count  Dtype  \n",
      "---  ------        --------------  -----  \n",
      " 0   product       1232 non-null   object \n",
      " 1   brand         1232 non-null   object \n",
      " 2   price         1232 non-null   float64\n",
      " 3   weight        1231 non-null   float64\n",
      " 4   kj            1232 non-null   float64\n",
      " 5   kcal          1232 non-null   float64\n",
      " 6   fat           1219 non-null   float64\n",
      " 7   sat_fat       1219 non-null   float64\n",
      " 8   carbs         1231 non-null   float64\n",
      " 9   sugar         1228 non-null   float64\n",
      " 10  fibre         525 non-null    object \n",
      " 11  protein       1217 non-null   float64\n",
      " 12  salt          1149 non-null   float64\n",
      " 13  product_link  1232 non-null   object \n",
      " 14  photo_link    1232 non-null   object \n",
      "dtypes: float64(10), object(5)\n",
      "memory usage: 154.0+ KB\n"
     ]
    }
   ],
   "source": [
    "final_df.info()"
   ]
  },
  {
   "cell_type": "code",
   "execution_count": 307,
   "id": "7cf4f831-617a-4eb5-8f32-195a9eafe217",
   "metadata": {},
   "outputs": [
    {
     "data": {
      "text/html": [
       "<div>\n",
       "<style scoped>\n",
       "    .dataframe tbody tr th:only-of-type {\n",
       "        vertical-align: middle;\n",
       "    }\n",
       "\n",
       "    .dataframe tbody tr th {\n",
       "        vertical-align: top;\n",
       "    }\n",
       "\n",
       "    .dataframe thead th {\n",
       "        text-align: right;\n",
       "    }\n",
       "</style>\n",
       "<table border=\"1\" class=\"dataframe\">\n",
       "  <thead>\n",
       "    <tr style=\"text-align: right;\">\n",
       "      <th></th>\n",
       "      <th>product</th>\n",
       "      <th>brand</th>\n",
       "      <th>price</th>\n",
       "      <th>weight</th>\n",
       "      <th>kj</th>\n",
       "      <th>kcal</th>\n",
       "      <th>fat</th>\n",
       "      <th>sat_fat</th>\n",
       "      <th>carbs</th>\n",
       "      <th>sugar</th>\n",
       "      <th>fibre</th>\n",
       "      <th>protein</th>\n",
       "      <th>salt</th>\n",
       "      <th>product_link</th>\n",
       "      <th>photo_link</th>\n",
       "    </tr>\n",
       "  </thead>\n",
       "  <tbody>\n",
       "    <tr>\n",
       "      <th>0</th>\n",
       "      <td>Soja Protein Crispies 58 % mit Kakao</td>\n",
       "      <td>Koro</td>\n",
       "      <td>14.0</td>\n",
       "      <td>1.0</td>\n",
       "      <td>1535.0</td>\n",
       "      <td>362.0</td>\n",
       "      <td>19.0</td>\n",
       "      <td>4.0</td>\n",
       "      <td>282.0</td>\n",
       "      <td>91.0</td>\n",
       "      <td>18.0</td>\n",
       "      <td>58.0</td>\n",
       "      <td>27.0</td>\n",
       "      <td>https://www.korodrogerie.de/soja-protein-crisp...</td>\n",
       "      <td>https://koro2.imgix.net/media/image/f1/50/81/C...</td>\n",
       "    </tr>\n",
       "    <tr>\n",
       "      <th>1</th>\n",
       "      <td>Schokodrops mit Xylit</td>\n",
       "      <td>Koro</td>\n",
       "      <td>21.0</td>\n",
       "      <td>1.0</td>\n",
       "      <td>2290.0</td>\n",
       "      <td>555.0</td>\n",
       "      <td>46.0</td>\n",
       "      <td>28.0</td>\n",
       "      <td>31.0</td>\n",
       "      <td>10.0</td>\n",
       "      <td>10.0</td>\n",
       "      <td>92.0</td>\n",
       "      <td>7.0</td>\n",
       "      <td>https://www.korodrogerie.de/schokodrops-mit-xy...</td>\n",
       "      <td>https://koro2.imgix.net/media/image/2c/01/f8/S...</td>\n",
       "    </tr>\n",
       "    <tr>\n",
       "      <th>2</th>\n",
       "      <td>Schoko Protein Crunchies ohne Zuckerzusatz</td>\n",
       "      <td>Koro</td>\n",
       "      <td>20.0</td>\n",
       "      <td>1.0</td>\n",
       "      <td>1875.0</td>\n",
       "      <td>448.0</td>\n",
       "      <td>28.0</td>\n",
       "      <td>12.0</td>\n",
       "      <td>37.0</td>\n",
       "      <td>14.0</td>\n",
       "      <td>83.0</td>\n",
       "      <td>21.0</td>\n",
       "      <td>36.0</td>\n",
       "      <td>https://www.korodrogerie.de/schoko-protein-cru...</td>\n",
       "      <td>https://koro2.imgix.net/media/image/30/78/62/P...</td>\n",
       "    </tr>\n",
       "    <tr>\n",
       "      <th>3</th>\n",
       "      <td>Soja Protein Crispies 60 %</td>\n",
       "      <td>Koro</td>\n",
       "      <td>13.0</td>\n",
       "      <td>1.0</td>\n",
       "      <td>1541.0</td>\n",
       "      <td>363.0</td>\n",
       "      <td>18.0</td>\n",
       "      <td>2.0</td>\n",
       "      <td>26.0</td>\n",
       "      <td>8.0</td>\n",
       "      <td>8.0</td>\n",
       "      <td>60.0</td>\n",
       "      <td>32.0</td>\n",
       "      <td>https://www.korodrogerie.de/soja-protein-crisp...</td>\n",
       "      <td>https://koro2.imgix.net/media/image/84/55/ca/C...</td>\n",
       "    </tr>\n",
       "    <tr>\n",
       "      <th>4</th>\n",
       "      <td>Bohnen-Erbsen-Mix geröstet &amp; gesalzen</td>\n",
       "      <td>Koro</td>\n",
       "      <td>11.5</td>\n",
       "      <td>1.0</td>\n",
       "      <td>1766.0</td>\n",
       "      <td>421.0</td>\n",
       "      <td>14.0</td>\n",
       "      <td>23.0</td>\n",
       "      <td>35.0</td>\n",
       "      <td>67.0</td>\n",
       "      <td>10.0</td>\n",
       "      <td>33.0</td>\n",
       "      <td>10.0</td>\n",
       "      <td>https://www.korodrogerie.de/bohnen-erbsen-mix-...</td>\n",
       "      <td>https://koro2.imgix.net/media/image/a9/37/79/B...</td>\n",
       "    </tr>\n",
       "  </tbody>\n",
       "</table>\n",
       "</div>"
      ],
      "text/plain": [
       "                                       product brand  price  weight      kj  \\\n",
       "0        Soja Protein Crispies 58 % mit Kakao   Koro   14.0     1.0  1535.0   \n",
       "1                       Schokodrops mit Xylit   Koro   21.0     1.0  2290.0   \n",
       "2  Schoko Protein Crunchies ohne Zuckerzusatz   Koro   20.0     1.0  1875.0   \n",
       "3                  Soja Protein Crispies 60 %   Koro   13.0     1.0  1541.0   \n",
       "4       Bohnen-Erbsen-Mix geröstet & gesalzen   Koro   11.5     1.0  1766.0   \n",
       "\n",
       "    kcal   fat  sat_fat  carbs  sugar fibre  protein  salt  \\\n",
       "0  362.0  19.0      4.0  282.0   91.0  18.0     58.0  27.0   \n",
       "1  555.0  46.0     28.0   31.0   10.0  10.0     92.0   7.0   \n",
       "2  448.0  28.0     12.0   37.0   14.0  83.0     21.0  36.0   \n",
       "3  363.0  18.0      2.0   26.0    8.0   8.0     60.0  32.0   \n",
       "4  421.0  14.0     23.0   35.0   67.0  10.0     33.0  10.0   \n",
       "\n",
       "                                        product_link  \\\n",
       "0  https://www.korodrogerie.de/soja-protein-crisp...   \n",
       "1  https://www.korodrogerie.de/schokodrops-mit-xy...   \n",
       "2  https://www.korodrogerie.de/schoko-protein-cru...   \n",
       "3  https://www.korodrogerie.de/soja-protein-crisp...   \n",
       "4  https://www.korodrogerie.de/bohnen-erbsen-mix-...   \n",
       "\n",
       "                                          photo_link  \n",
       "0  https://koro2.imgix.net/media/image/f1/50/81/C...  \n",
       "1  https://koro2.imgix.net/media/image/2c/01/f8/S...  \n",
       "2  https://koro2.imgix.net/media/image/30/78/62/P...  \n",
       "3  https://koro2.imgix.net/media/image/84/55/ca/C...  \n",
       "4  https://koro2.imgix.net/media/image/a9/37/79/B...  "
      ]
     },
     "execution_count": 307,
     "metadata": {},
     "output_type": "execute_result"
    }
   ],
   "source": [
    "final_df.head()"
   ]
  },
  {
   "cell_type": "code",
   "execution_count": 308,
   "id": "b0456412-5bbe-420f-9ae7-573f7aac2783",
   "metadata": {},
   "outputs": [],
   "source": [
    "final_df.to_csv('final_df.csv')"
   ]
  },
  {
   "cell_type": "code",
   "execution_count": null,
   "id": "ee09a510-870c-462e-831c-fe705c5ba199",
   "metadata": {},
   "outputs": [],
   "source": []
  }
 ],
 "metadata": {
  "kernelspec": {
   "display_name": "Python 3",
   "language": "python",
   "name": "python3"
  },
  "language_info": {
   "codemirror_mode": {
    "name": "ipython",
    "version": 3
   },
   "file_extension": ".py",
   "mimetype": "text/x-python",
   "name": "python",
   "nbconvert_exporter": "python",
   "pygments_lexer": "ipython3",
   "version": "3.9.6"
  },
  "toc": {
   "base_numbering": 1,
   "nav_menu": {},
   "number_sections": true,
   "sideBar": true,
   "skip_h1_title": true,
   "title_cell": "Table of Contents",
   "title_sidebar": "Contents",
   "toc_cell": true,
   "toc_position": {},
   "toc_section_display": true,
   "toc_window_display": true
  }
 },
 "nbformat": 4,
 "nbformat_minor": 5
}
